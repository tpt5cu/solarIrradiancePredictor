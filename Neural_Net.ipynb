{
 "cells": [
  {
   "cell_type": "markdown",
   "metadata": {},
   "source": [
    "# Neural Network"
   ]
  },
  {
   "cell_type": "markdown",
   "metadata": {},
   "source": [
    "## I. Import and Load Data"
   ]
  },
  {
   "cell_type": "markdown",
   "metadata": {},
   "source": [
    "Data was pulled from two sources. \n",
    "\n",
    "Solar Irradience data was pulled from the [National Solar Radiation Database](https://nsrdb.nrel.gov/). Pointwise GHI, DHI, and DNI data is returned hourly for an entire calendar year. All irradience values are recorded in w/m^2. Location is for a latitude longitude coordinate pair. Coordinates were chosen based on the locations of [U.S. Climate Reference Network (USCRN)](https://www.ncdc.noaa.gov/crn/) monitoring stations. This is because the USCRN has real time measurements of GHI, which can be used to make real-time predictions of DHI. The NRSDB is not updated so frequently. \n",
    "\n",
    "In addition to solar irradience data, this project uses other weather data such as cloud cover, air pressure, and season data to try and model the relationship between GHI and DHI. For that, this project pulls data from [darksky](https://darksky.net/dev)."
   ]
  },
  {
   "cell_type": "code",
   "execution_count": 139,
   "metadata": {},
   "outputs": [],
   "source": [
    "import pandas as pd\n",
    "import os\n",
    "import numpy as np\n",
    "from glob import glob\n",
    "from matplotlib import pyplot as plt\n",
    "import seaborn as sns\n",
    "from random import randint"
   ]
  },
  {
   "cell_type": "code",
   "execution_count": 56,
   "metadata": {},
   "outputs": [],
   "source": [
    "import tensorflow as tf\n",
    "from tensorflow import keras\n",
    "from tensorflow.keras import layers"
   ]
  },
  {
   "cell_type": "code",
   "execution_count": 57,
   "metadata": {},
   "outputs": [],
   "source": [
    "def featureHistograms(df, features=['GHI','DHI','Cloud Cover'],):\n",
    "    sns.set_style('darkgrid')\n",
    "    fig, axs = plt.subplots(ncols=len(features))\n",
    "    for i in range(len(features)):\n",
    "        sns.distplot(df[features[i]], ax=axs[i])"
   ]
  },
  {
   "cell_type": "code",
   "execution_count": 58,
   "metadata": {},
   "outputs": [],
   "source": [
    "#Lets try and make a neural network"
   ]
  },
  {
   "cell_type": "code",
   "execution_count": 59,
   "metadata": {},
   "outputs": [
    {
     "name": "stdout",
     "output_type": "stream",
     "text": [
      "/Users/tuomastalvitie/Documents/GRIP/Diffuse:Direct/solarIrradiencePredictor/Testing_Data\n"
     ]
    }
   ],
   "source": [
    "#Get 2018 Data\n",
    "_Curr_Dir = os.getcwd()\n",
    "_Testing_Data_Dir = os.path.join(_Curr_Dir, 'Testing_Data')\n",
    "print(_Testing_Data_Dir)"
   ]
  },
  {
   "cell_type": "code",
   "execution_count": 60,
   "metadata": {},
   "outputs": [
    {
     "data": {
      "text/html": [
       "<div>\n",
       "<style scoped>\n",
       "    .dataframe tbody tr th:only-of-type {\n",
       "        vertical-align: middle;\n",
       "    }\n",
       "\n",
       "    .dataframe tbody tr th {\n",
       "        vertical-align: top;\n",
       "    }\n",
       "\n",
       "    .dataframe thead th {\n",
       "        text-align: right;\n",
       "    }\n",
       "</style>\n",
       "<table border=\"1\" class=\"dataframe\">\n",
       "  <thead>\n",
       "    <tr style=\"text-align: right;\">\n",
       "      <th></th>\n",
       "      <th>Year</th>\n",
       "      <th>Month</th>\n",
       "      <th>Day</th>\n",
       "      <th>Hour</th>\n",
       "      <th>Minute</th>\n",
       "      <th>Temperature</th>\n",
       "      <th>Clearsky DHI</th>\n",
       "      <th>Clearsky DNI</th>\n",
       "      <th>Clearsky GHI</th>\n",
       "      <th>Cloud Type</th>\n",
       "      <th>...</th>\n",
       "      <th>GHI</th>\n",
       "      <th>Relative Humidity</th>\n",
       "      <th>Solar Zenith Angle</th>\n",
       "      <th>Surface Albedo</th>\n",
       "      <th>Pressure</th>\n",
       "      <th>Precipitable Water</th>\n",
       "      <th>Wind Direction</th>\n",
       "      <th>Wind Speed</th>\n",
       "      <th>timestamps</th>\n",
       "      <th>Cloud Cover</th>\n",
       "    </tr>\n",
       "  </thead>\n",
       "  <tbody>\n",
       "    <tr>\n",
       "      <th>0</th>\n",
       "      <td>2018</td>\n",
       "      <td>1</td>\n",
       "      <td>1</td>\n",
       "      <td>0</td>\n",
       "      <td>30</td>\n",
       "      <td>-22.5</td>\n",
       "      <td>0</td>\n",
       "      <td>0</td>\n",
       "      <td>0</td>\n",
       "      <td>8</td>\n",
       "      <td>...</td>\n",
       "      <td>0</td>\n",
       "      <td>62.75</td>\n",
       "      <td>103.76</td>\n",
       "      <td>0.69</td>\n",
       "      <td>978</td>\n",
       "      <td>0.1</td>\n",
       "      <td>296</td>\n",
       "      <td>2.1</td>\n",
       "      <td>1514739600</td>\n",
       "      <td>0.0</td>\n",
       "    </tr>\n",
       "    <tr>\n",
       "      <th>1</th>\n",
       "      <td>2018</td>\n",
       "      <td>1</td>\n",
       "      <td>1</td>\n",
       "      <td>1</td>\n",
       "      <td>30</td>\n",
       "      <td>-23.1</td>\n",
       "      <td>0</td>\n",
       "      <td>0</td>\n",
       "      <td>0</td>\n",
       "      <td>0</td>\n",
       "      <td>...</td>\n",
       "      <td>0</td>\n",
       "      <td>66.39</td>\n",
       "      <td>114.24</td>\n",
       "      <td>0.69</td>\n",
       "      <td>978</td>\n",
       "      <td>0.1</td>\n",
       "      <td>287</td>\n",
       "      <td>2.2</td>\n",
       "      <td>1514743200</td>\n",
       "      <td>0.0</td>\n",
       "    </tr>\n",
       "    <tr>\n",
       "      <th>2</th>\n",
       "      <td>2018</td>\n",
       "      <td>1</td>\n",
       "      <td>1</td>\n",
       "      <td>2</td>\n",
       "      <td>30</td>\n",
       "      <td>-23.6</td>\n",
       "      <td>0</td>\n",
       "      <td>0</td>\n",
       "      <td>0</td>\n",
       "      <td>8</td>\n",
       "      <td>...</td>\n",
       "      <td>0</td>\n",
       "      <td>69.34</td>\n",
       "      <td>125.01</td>\n",
       "      <td>0.69</td>\n",
       "      <td>978</td>\n",
       "      <td>0.1</td>\n",
       "      <td>283</td>\n",
       "      <td>2.3</td>\n",
       "      <td>1514746800</td>\n",
       "      <td>0.0</td>\n",
       "    </tr>\n",
       "    <tr>\n",
       "      <th>3</th>\n",
       "      <td>2018</td>\n",
       "      <td>1</td>\n",
       "      <td>1</td>\n",
       "      <td>3</td>\n",
       "      <td>30</td>\n",
       "      <td>-23.9</td>\n",
       "      <td>0</td>\n",
       "      <td>0</td>\n",
       "      <td>0</td>\n",
       "      <td>8</td>\n",
       "      <td>...</td>\n",
       "      <td>0</td>\n",
       "      <td>71.25</td>\n",
       "      <td>135.74</td>\n",
       "      <td>0.69</td>\n",
       "      <td>978</td>\n",
       "      <td>0.1</td>\n",
       "      <td>283</td>\n",
       "      <td>2.3</td>\n",
       "      <td>1514750400</td>\n",
       "      <td>0.0</td>\n",
       "    </tr>\n",
       "    <tr>\n",
       "      <th>4</th>\n",
       "      <td>2018</td>\n",
       "      <td>1</td>\n",
       "      <td>1</td>\n",
       "      <td>4</td>\n",
       "      <td>30</td>\n",
       "      <td>-24.1</td>\n",
       "      <td>0</td>\n",
       "      <td>0</td>\n",
       "      <td>0</td>\n",
       "      <td>8</td>\n",
       "      <td>...</td>\n",
       "      <td>0</td>\n",
       "      <td>72.87</td>\n",
       "      <td>145.93</td>\n",
       "      <td>0.69</td>\n",
       "      <td>979</td>\n",
       "      <td>0.1</td>\n",
       "      <td>284</td>\n",
       "      <td>2.3</td>\n",
       "      <td>1514754000</td>\n",
       "      <td>0.0</td>\n",
       "    </tr>\n",
       "  </tbody>\n",
       "</table>\n",
       "<p>5 rows × 24 columns</p>\n",
       "</div>"
      ],
      "text/plain": [
       "   Year  Month  Day  Hour  Minute  Temperature  Clearsky DHI  Clearsky DNI  \\\n",
       "0  2018      1    1     0      30        -22.5             0             0   \n",
       "1  2018      1    1     1      30        -23.1             0             0   \n",
       "2  2018      1    1     2      30        -23.6             0             0   \n",
       "3  2018      1    1     3      30        -23.9             0             0   \n",
       "4  2018      1    1     4      30        -24.1             0             0   \n",
       "\n",
       "   Clearsky GHI  Cloud Type  ...  GHI  Relative Humidity  Solar Zenith Angle  \\\n",
       "0             0           8  ...    0              62.75              103.76   \n",
       "1             0           0  ...    0              66.39              114.24   \n",
       "2             0           8  ...    0              69.34              125.01   \n",
       "3             0           8  ...    0              71.25              135.74   \n",
       "4             0           8  ...    0              72.87              145.93   \n",
       "\n",
       "   Surface Albedo  Pressure  Precipitable Water  Wind Direction  Wind Speed  \\\n",
       "0            0.69       978                 0.1             296         2.1   \n",
       "1            0.69       978                 0.1             287         2.2   \n",
       "2            0.69       978                 0.1             283         2.3   \n",
       "3            0.69       978                 0.1             283         2.3   \n",
       "4            0.69       979                 0.1             284         2.3   \n",
       "\n",
       "   timestamps  Cloud Cover  \n",
       "0  1514739600          0.0  \n",
       "1  1514743200          0.0  \n",
       "2  1514746800          0.0  \n",
       "3  1514750400          0.0  \n",
       "4  1514754000          0.0  \n",
       "\n",
       "[5 rows x 24 columns]"
      ]
     },
     "execution_count": 60,
     "metadata": {},
     "output_type": "execute_result"
    }
   ],
   "source": [
    "pd.read_csv(os.path.join(_Testing_Data_Dir, 'psm_south_dakota', 'psm_testing_data2018.csv')).head()"
   ]
  },
  {
   "cell_type": "code",
   "execution_count": 61,
   "metadata": {},
   "outputs": [
    {
     "data": {
      "image/png": "[encoded data removed]",
      "text/plain": [
       "<Figure size 432x288 with 3 Axes>"
      ]
     },
     "metadata": {},
     "output_type": "display_data"
    }
   ],
   "source": [
    "df = pd.read_csv(os.path.join(_Testing_Data_Dir, 'psm_south_dakota', 'psm_testing_data2018.csv'))\n",
    "featureHistograms(df)"
   ]
  },
  {
   "cell_type": "markdown",
   "metadata": {},
   "source": [
    "## II. Features and Data Engineering"
   ]
  },
  {
   "cell_type": "markdown",
   "metadata": {},
   "source": [
    "So we have all the above variables....Which ones do we think would work best in a NN?"
   ]
  },
  {
   "cell_type": "markdown",
   "metadata": {},
   "source": [
    "So we want to predict DHI, at the very least. Maybe DNI as well. What can we use to predict? \n",
    "[More Information on GHI, DHI, and DNI here!](https://firstgreenconsulting.wordpress.com/2012/04/26/differentiate-between-the-dni-dhi-and-ghi/#:~:text=Global%20Horizontal%20Irradiance%20(GHI)%20is,Diffuse%20Horizontal%20Irradiance%20(DHI).)\n",
    "\n",
    "But a useful relationship to keep in mind is:\n",
    "\n",
    "*Global Horizontal (GHI) = Direct Normal (DNI) X cos(θ) + Diffuse Horizontal (DHI)*\n",
    "\n",
    "**GHI** is a must, as it is the primary metric our sensors will feed into such a model. \n",
    "\n",
    "**Cloud cover** is also essential, as cloud cover is one of the primary factors in how much direct normal solar irradience is diffused.\n",
    "\n",
    "**Solar Zenith Angle** is important as it dictates how much irradience is direct normal (DNI)\n",
    "\n",
    "Another useful relatinship to capture is **time**. We are given timestamps in addition to month, day, year, second, hour and minute variables. Timestamps and/or a combination between day + month would not be super useful, as it would overfit to the day. \n",
    "A more useful relationship would be to capture time of day. This is useful because in a non - featurized dataset, many GHI readings will read '0', simply because it is dark out. We are primarily concerned about the relationship between GHI and DHI, therefore factoring in readings when there is no sunlight to begin with could be confounding. Therefore adding in **minute** and **hour** variables in the input vector could adequately capture this relationship. \n",
    "\n",
    "Another solution would be to featurize this dataset, whereby we create a seperate feature which is a combination of day + time. OR, we could completly remove the nighttime entries entirely to ensure we only are concerned with readings that occur when the sun is out. However this occurs on a gradient, because sunlight is defracted even after sunset. So for now, let's just fit the model on the unedited dataset. \n",
    "\n",
    "Another good idea is to create a **season** variable, which is a dummy variable for each season (Fall, Winter, Spring, Summer), as different amounts of sunlight occur during each. The problem is that, for different locations on earth, seasonality could be inversely correlated with sunlight and thus GHI, DHI, and DNI. \n",
    "\n",
    "To keep the model as general as possible, we will exclude seasonality initially. \n",
    "\n",
    "Another useful metric is **Pressure**. According to the renowned [DISC model](https://www.nrel.gov/docs/legosti/old/3087.pdf), air pressure is included as a proxy for *air mass*, which is the amount of atmosphere solar rays have to travel through. The larger the solar mass, the more solar rays are scattered. \n",
    "\n"
   ]
  },
  {
   "cell_type": "markdown",
   "metadata": {},
   "source": [
    "### Loading the Data"
   ]
  },
  {
   "cell_type": "code",
   "execution_count": 88,
   "metadata": {},
   "outputs": [
    {
     "data": {
      "text/plain": [
       "'\\nUseful params:\\nHours\\nCloud Cover\\nGHI\\nSolar Zenith\\nPressure\\n'"
      ]
     },
     "execution_count": 88,
     "metadata": {},
     "output_type": "execute_result"
    }
   ],
   "source": [
    "#Get training arrays and combine them into a useable vector\n",
    "\"\"\"\n",
    "Useful params:\n",
    "Hours\n",
    "Cloud Cover\n",
    "GHI\n",
    "Solar Zenith\n",
    "Pressure\n",
    "\"\"\""
   ]
  },
  {
   "cell_type": "code",
   "execution_count": 63,
   "metadata": {},
   "outputs": [],
   "source": [
    "def combine_training_arrays(df, input_arry, output_arr):\n",
    "    ghi  = df['GHI'].values\n",
    "    cloud_cover = df['Cloud Cover'].values\n",
    "    hours = df['Hour'].values\n",
    "    minutes = df['Minute'].values\n",
    "    solar_zenith = df['Solar Zenith Angle'].values\n",
    "    pressure = df['Pressure'].values\n",
    "    dhi = df['DHI'].values\n",
    "    #Sanity check, should all be 8760\n",
    "    assert len(pressure)==len(solar_zenith)==len(minutes)==len(hours)==len(cloud_cover)==len(ghi)==8760, \"len of input array not 8760\"\n",
    "    ar = np.array([ghi, cloud_cover, hours, minutes, solar_zenith, pressure]).T\n",
    "    input_arry = np.concatenate((input_arry, ar))\n",
    "    output_arr = np.concatenate((output_arr, np.array(dhi).T))\n",
    "    return input_arry, output_arr\n"
   ]
  },
  {
   "cell_type": "code",
   "execution_count": 64,
   "metadata": {},
   "outputs": [
    {
     "name": "stdout",
     "output_type": "stream",
     "text": [
      "[]\n",
      "[]\n"
     ]
    }
   ],
   "source": [
    "input_size = 6\n",
    "input_arry = np.array([], dtype=np.float64).reshape(0,input_size)\n",
    "output_arry = np.array([], dtype=np.float64)\n",
    "print(input_arry)\n",
    "print(output_arry)\n",
    "from glob import glob\n",
    "for path in glob(_Testing_Data_Dir+'/*'):\n",
    "    for file in glob(path+'/psm_'+'*'):\n",
    "        df = pd.read_csv(file)\n",
    "        input_arry, output_arry = combine_training_arrays(df, input_arry, output_arry)"
   ]
  },
  {
   "cell_type": "code",
   "execution_count": 65,
   "metadata": {},
   "outputs": [
    {
     "name": "stdout",
     "output_type": "stream",
     "text": [
      "429240\n"
     ]
    }
   ],
   "source": [
    "#sanity check, make sure 8760*number of files we look at == 429240\n",
    "count = 0\n",
    "for path in glob(_Testing_Data_Dir+'/*'):\n",
    "    for file in glob(path+'/psm_'+'*'):\n",
    "        count+=1\n",
    "print(count*8760)"
   ]
  },
  {
   "cell_type": "markdown",
   "metadata": {},
   "source": [
    "# III. Training"
   ]
  },
  {
   "cell_type": "code",
   "execution_count": 66,
   "metadata": {},
   "outputs": [],
   "source": [
    "from tensorflow.keras.optimizers import Adam"
   ]
  },
  {
   "cell_type": "code",
   "execution_count": 67,
   "metadata": {},
   "outputs": [],
   "source": [
    "keras.backend.clear_session()\n",
    "tf.keras.backend.clear_session()"
   ]
  },
  {
   "cell_type": "code",
   "execution_count": 68,
   "metadata": {},
   "outputs": [],
   "source": [
    "#100 epochs, large batch size"
   ]
  },
  {
   "cell_type": "code",
   "execution_count": 69,
   "metadata": {},
   "outputs": [],
   "source": [
    "# model = keras.Sequential()\n",
    "# model.add(layers.Dense(300, activation=\"relu\"))\n",
    "# model.add(layers.Dense(200, activation=\"relu\"))\n",
    "# model.add(layers.Dense(100, activation=\"relu\"))\n",
    "# model.add(layers.Dense(50, activation=\"relu\"))\n",
    "# model.add(layers.Dense(25, activation=\"relu\"))\n",
    "# model.add(layers.Dense(1, activation='relu'))"
   ]
  },
  {
   "cell_type": "code",
   "execution_count": 70,
   "metadata": {},
   "outputs": [],
   "source": [
    "# print(model)"
   ]
  },
  {
   "cell_type": "code",
   "execution_count": 71,
   "metadata": {},
   "outputs": [],
   "source": [
    "# #Compile and train\n",
    "# model.compile(optimizer=Adam(lr=0.0001), \n",
    "#               loss='mse',\n",
    "#               metrics=['mae'])\n",
    "\n",
    "# history = model.fit(input_arry, output_arry, epochs=100, batch_size=64)"
   ]
  },
  {
   "cell_type": "code",
   "execution_count": 72,
   "metadata": {},
   "outputs": [],
   "source": [
    "# plt.plot(history.history['mae'])\n",
    "# # plt.plot(history.history['val_acc'])\n",
    "# plt.title('Mean Abs Error per Epoch')\n",
    "# plt.ylabel('Mean Absolute Error')\n",
    "# plt.xlabel('epoch')\n",
    "# plt.legend(['train'], loc='upper left')\n",
    "# plt.show()"
   ]
  },
  {
   "cell_type": "code",
   "execution_count": 73,
   "metadata": {},
   "outputs": [],
   "source": [
    "#Epoch size of 50 seems reasonable"
   ]
  },
  {
   "cell_type": "code",
   "execution_count": 74,
   "metadata": {},
   "outputs": [
    {
     "data": {
      "text/plain": [
       "<function tensorflow.python.framework.ops.reset_default_graph()>"
      ]
     },
     "execution_count": 74,
     "metadata": {},
     "output_type": "execute_result"
    }
   ],
   "source": [
    "keras.backend.clear_session()\n",
    "tf.keras.backend.clear_session()\n",
    "tf.compat.v1.reset_default_graph"
   ]
  },
  {
   "cell_type": "code",
   "execution_count": 75,
   "metadata": {},
   "outputs": [],
   "source": [
    "keras.backend.clear_session()\n",
    "tf.keras.backend.clear_session()"
   ]
  },
  {
   "cell_type": "code",
   "execution_count": 76,
   "metadata": {},
   "outputs": [],
   "source": [
    "model = keras.Sequential()\n",
    "model.add(layers.Dense(300, activation=\"relu\"))\n",
    "model.add(layers.Dense(200, activation=\"relu\"))\n",
    "model.add(layers.Dense(100, activation=\"relu\"))\n",
    "model.add(layers.Dense(50, activation=\"relu\"))\n",
    "model.add(layers.Dense(25, activation=\"relu\"))\n",
    "model.add(layers.Dense(1, activation='relu'))"
   ]
  },
  {
   "cell_type": "code",
   "execution_count": 77,
   "metadata": {},
   "outputs": [
    {
     "name": "stdout",
     "output_type": "stream",
     "text": [
      "Epoch 1/100\n",
      "6707/6707 [==============================] - 12s 2ms/step - loss: 908.9349 - mae: 13.7560\n",
      "Epoch 2/100\n",
      "6707/6707 [==============================] - 10s 2ms/step - loss: 457.3915 - mae: 9.5208\n",
      "Epoch 3/100\n",
      "6707/6707 [==============================] - 10s 1ms/step - loss: 410.1036 - mae: 8.8879\n",
      "Epoch 4/100\n",
      "6707/6707 [==============================] - 10s 1ms/step - loss: 380.2950 - mae: 8.5337\n",
      "Epoch 5/100\n",
      "6707/6707 [==============================] - 10s 2ms/step - loss: 344.5573 - mae: 8.0490: 0s - loss: 345.4462 - mae: 8.061 - ETA: 0s - loss: 345.2730\n",
      "Epoch 6/100\n",
      "6707/6707 [==============================] - 10s 2ms/step - loss: 315.3614 - mae: 7.6791\n",
      "Epoch 7/100\n",
      "6707/6707 [==============================] - 10s 1ms/step - loss: 286.4006 - mae: 7.2552\n",
      "Epoch 8/100\n",
      "6707/6707 [==============================] - 11s 2ms/step - loss: 256.7065 - mae: 6.8142\n",
      "Epoch 9/100\n",
      "6707/6707 [==============================] - 11s 2ms/step - loss: 228.4354 - mae: 6.4044\n",
      "Epoch 10/100\n",
      "6707/6707 [==============================] - 10s 2ms/step - loss: 205.9252 - mae: 6.0147\n",
      "Epoch 11/100\n",
      "6707/6707 [==============================] - 10s 2ms/step - loss: 193.9843 - mae: 5.8435\n",
      "Epoch 12/100\n",
      "6707/6707 [==============================] - 10s 1ms/step - loss: 180.0336 - mae: 5.6586\n",
      "Epoch 13/100\n",
      "6707/6707 [==============================] - 10s 2ms/step - loss: 170.9452 - mae: 5.5103: 3s - loss: 171.5977 - mae: - ET - ETA: 0s - loss: 171\n",
      "Epoch 14/100\n",
      "6707/6707 [==============================] - 10s 1ms/step - loss: 172.5623 - mae: 5.5275: 0s - loss: 173.2435 - ma\n",
      "Epoch 15/100\n",
      "6707/6707 [==============================] - 10s 1ms/step - loss: 163.6545 - mae: 5.4008\n",
      "Epoch 16/100\n",
      "6707/6707 [==============================] - 10s 1ms/step - loss: 165.2064 - mae: 5.4316\n",
      "Epoch 17/100\n",
      "6707/6707 [==============================] - 10s 1ms/step - loss: 162.6348 - mae: 5.3827\n",
      "Epoch 18/100\n",
      "6707/6707 [==============================] - 10s 1ms/step - loss: 159.8131 - mae: 5.3256\n",
      "Epoch 19/100\n",
      "6707/6707 [==============================] - 10s 1ms/step - loss: 158.0894 - mae: 5.3315\n",
      "Epoch 20/100\n",
      "6707/6707 [==============================] - 12s 2ms/step - loss: 154.2676 - mae: 5.2320\n",
      "Epoch 21/100\n",
      "6707/6707 [==============================] - 16s 2ms/step - loss: 155.2514 - mae: 5.2501\n",
      "Epoch 22/100\n",
      "6707/6707 [==============================] - 17s 2ms/step - loss: 152.8048 - mae: 5.1968\n",
      "Epoch 23/100\n",
      "6707/6707 [==============================] - 12s 2ms/step - loss: 148.5088 - mae: 5.1374\n",
      "Epoch 24/100\n",
      "6707/6707 [==============================] - 10s 2ms/step - loss: 149.5628 - mae: 5.1514\n",
      "Epoch 25/100\n",
      "6707/6707 [==============================] - 10s 2ms/step - loss: 148.7904 - mae: 5.1201\n",
      "Epoch 26/100\n",
      "6707/6707 [==============================] - 10s 2ms/step - loss: 147.2822 - mae: 5.1054\n",
      "Epoch 27/100\n",
      "6707/6707 [==============================] - 10s 2ms/step - loss: 145.1500 - mae: 5.0410\n",
      "Epoch 28/100\n",
      "6707/6707 [==============================] - 10s 1ms/step - loss: 143.1094 - mae: 5.0220\n",
      "Epoch 29/100\n",
      "6707/6707 [==============================] - 10s 1ms/step - loss: 140.9689 - mae: 4.9746\n",
      "Epoch 30/100\n",
      "6707/6707 [==============================] - 10s 2ms/step - loss: 140.2487 - mae: 4.9683: 1s - lo\n",
      "Epoch 31/100\n",
      "6707/6707 [==============================] - 10s 2ms/step - loss: 140.6383 - mae: 4.9606\n",
      "Epoch 32/100\n",
      "6707/6707 [==============================] - 10s 2ms/step - loss: 138.6004 - mae: 4.9186\n",
      "Epoch 33/100\n",
      "6707/6707 [==============================] - 10s 2ms/step - loss: 137.9171 - mae: 4.9212\n",
      "Epoch 34/100\n",
      "6707/6707 [==============================] - 10s 2ms/step - loss: 136.9672 - mae: 4.8777: 1s - loss:\n",
      "Epoch 35/100\n",
      "6707/6707 [==============================] - 10s 2ms/step - loss: 137.6517 - mae: 4.8996\n",
      "Epoch 36/100\n",
      "6707/6707 [==============================] - 10s 1ms/step - loss: 135.3898 - mae: 4.8475: 1s - loss:\n",
      "Epoch 37/100\n",
      "6707/6707 [==============================] - 10s 2ms/step - loss: 134.5602 - mae: 4.8731: 0s - loss: 133.9346 - mae: \n",
      "Epoch 38/100\n",
      "6707/6707 [==============================] - 10s 2ms/step - loss: 133.6553 - mae: 4.8183\n",
      "Epoch 39/100\n",
      "6707/6707 [==============================] - 12s 2ms/step - loss: 133.1763 - mae: 4.8048\n",
      "Epoch 40/100\n",
      "6707/6707 [==============================] - 10s 2ms/step - loss: 134.5442 - mae: 4.8285\n",
      "Epoch 41/100\n",
      "6707/6707 [==============================] - 10s 2ms/step - loss: 128.8524 - mae: 4.7194\n",
      "Epoch 42/100\n",
      "6707/6707 [==============================] - 12s 2ms/step - loss: 132.9989 - mae: 4.7879\n",
      "Epoch 43/100\n",
      "6707/6707 [==============================] - 13s 2ms/step - loss: 130.3224 - mae: 4.7517\n",
      "Epoch 44/100\n",
      "6707/6707 [==============================] - 10s 2ms/step - loss: 130.6472 - mae: 4.7383\n",
      "Epoch 45/100\n",
      "6707/6707 [==============================] - 10s 2ms/step - loss: 128.9336 - mae: 4.7064\n",
      "Epoch 46/100\n",
      "6707/6707 [==============================] - 10s 2ms/step - loss: 127.7204 - mae: 4.6845\n",
      "Epoch 47/100\n",
      "6707/6707 [==============================] - 10s 1ms/step - loss: 125.2424 - mae: 4.6459\n",
      "Epoch 48/100\n",
      "6707/6707 [==============================] - 10s 2ms/step - loss: 128.3749 - mae: 4.7151\n",
      "Epoch 49/100\n",
      "6707/6707 [==============================] - 10s 2ms/step - loss: 127.0242 - mae: 4.6759: 0s - loss: 127.0514 - mae:\n",
      "Epoch 50/100\n",
      "6707/6707 [==============================] - 10s 2ms/step - loss: 125.5292 - mae: 4.6438\n",
      "Epoch 51/100\n",
      "6707/6707 [==============================] - 10s 2ms/step - loss: 126.3075 - mae: 4.6571\n",
      "Epoch 52/100\n",
      "6707/6707 [==============================] - 10s 2ms/step - loss: 124.9263 - mae: 4.6316\n",
      "Epoch 53/100\n",
      "6707/6707 [==============================] - 10s 2ms/step - loss: 123.1364 - mae: 4.5849\n",
      "Epoch 54/100\n",
      "6707/6707 [==============================] - 10s 1ms/step - loss: 123.4641 - mae: 4.6018: 4s - loss: 123 - ETA: 3s - loss: 123.3663 - ma -  - ETA: 1s - \n",
      "Epoch 55/100\n",
      "6707/6707 [==============================] - 10s 1ms/step - loss: 122.9910 - mae: 4.5720\n",
      "Epoch 56/100\n",
      "6707/6707 [==============================] - 13s 2ms/step - loss: 121.6165 - mae: 4.5458\n",
      "Epoch 57/100\n",
      "6707/6707 [==============================] - 12s 2ms/step - loss: 123.2137 - mae: 4.5760\n",
      "Epoch 58/100\n",
      "6707/6707 [==============================] - 11s 2ms/step - loss: 121.6926 - mae: 4.5571\n",
      "Epoch 59/100\n",
      "6707/6707 [==============================] - 15s 2ms/step - loss: 119.8276 - mae: 4.5189: 7s - loss: 118. - ETA: 5s - loss: 117 - ETA: 1s - loss: 118.9367 - ETA: 0s - loss: 119.2726 - \n",
      "Epoch 60/100\n",
      "6707/6707 [==============================] - 12s 2ms/step - loss: 120.1982 - mae: 4.5168\n",
      "Epoch 61/100\n",
      "6707/6707 [==============================] - 12s 2ms/step - loss: 119.6113 - mae: 4.5092\n",
      "Epoch 62/100\n",
      "6707/6707 [==============================] - 12s 2ms/step - loss: 119.0833 - mae: 4.4892\n",
      "Epoch 63/100\n",
      "6707/6707 [==============================] - 12s 2ms/step - loss: 118.6819 - mae: 4.4762TA: 4s - loss:  - ETA: 1s - \n",
      "Epoch 64/100\n",
      "6707/6707 [==============================] - 12s 2ms/step - loss: 118.8021 - mae: 4.4785\n",
      "Epoch 65/100\n",
      "6707/6707 [==============================] - 12s 2ms/step - loss: 118.6696 - mae: 4.4843\n",
      "Epoch 66/100\n",
      "6707/6707 [==============================] - 12s 2ms/step - loss: 116.5389 - mae: 4.4228\n",
      "Epoch 67/100\n",
      "6707/6707 [==============================] - 12s 2ms/step - loss: 115.6336 - mae: 4.4038: 0s - loss: 115.8821 - mae: 4.\n",
      "Epoch 68/100\n",
      "6707/6707 [==============================] - 12s 2ms/step - loss: 119.4701 - mae: 4.4897\n",
      "Epoch 69/100\n",
      "6707/6707 [==============================] - 12s 2ms/step - loss: 117.2225 - mae: 4.4440: 1s - loss: 116.7892 - mae: 4 - ETA: 1s - \n",
      "Epoch 70/100\n",
      "6707/6707 [==============================] - 12s 2ms/step - loss: 115.3040 - mae: 4.3944: 3s \n",
      "Epoch 71/100\n",
      "6707/6707 [==============================] - 12s 2ms/step - loss: 116.0564 - mae: 4.4209: 1s - loss: 116.3181 - mae: 4.4 - ETA: 1s - loss:\n",
      "Epoch 72/100\n",
      "6707/6707 [==============================] - 12s 2ms/step - loss: 115.2556 - mae: 4.3959\n",
      "Epoch 73/100\n",
      "6707/6707 [==============================] - 12s 2ms/step - loss: 114.5970 - mae: 4.3851: 2s - lo - ETA: 0s - loss: 114.9\n",
      "Epoch 74/100\n",
      "6707/6707 [==============================] - 12s 2ms/step - loss: 114.1682 - mae: 4.3649\n",
      "Epoch 75/100\n"
     ]
    },
    {
     "name": "stdout",
     "output_type": "stream",
     "text": [
      "6707/6707 [==============================] - 13s 2ms/step - loss: 114.8853 - mae: 4.3826: 0s - loss: 114.7395 -\n",
      "Epoch 76/100\n",
      "6707/6707 [==============================] - 12s 2ms/step - loss: 114.4451 - mae: 4.3671: 0s - loss: 114.2813 - ma\n",
      "Epoch 77/100\n",
      "6707/6707 [==============================] - 12s 2ms/step - loss: 113.5232 - mae: 4.3671: 0s - loss: 113.2064 - mae: 4.3 - ETA: 0s - loss: 113.3275 - \n",
      "Epoch 78/100\n",
      "6707/6707 [==============================] - 13s 2ms/step - loss: 113.6702 - mae: 4.3574\n",
      "Epoch 79/100\n",
      "6707/6707 [==============================] - 12s 2ms/step - loss: 111.5061 - mae: 4.3033: 2s - loss: 111.2165 - mae: 4.294 - ETA: 2s - loss: 111.2444 - \n",
      "Epoch 80/100\n",
      "6707/6707 [==============================] - 12s 2ms/step - loss: 111.1495 - mae: 4.3035\n",
      "Epoch 81/100\n",
      "6707/6707 [==============================] - 13s 2ms/step - loss: 111.3231 - mae: 4.2869\n",
      "Epoch 82/100\n",
      "6707/6707 [==============================] - 12s 2ms/step - loss: 114.4429 - mae: 4.3850\n",
      "Epoch 83/100\n",
      "6707/6707 [==============================] - 14s 2ms/step - loss: 113.3270 - mae: 4.3277\n",
      "Epoch 84/100\n",
      "6707/6707 [==============================] - 12s 2ms/step - loss: 111.3498 - mae: 4.3000: 1s \n",
      "Epoch 85/100\n",
      "6707/6707 [==============================] - 14s 2ms/step - loss: 111.8360 - mae: 4.3074\n",
      "Epoch 86/100\n",
      "6707/6707 [==============================] - 10s 2ms/step - loss: 110.9223 - mae: 4.2834\n",
      "Epoch 87/100\n",
      "6707/6707 [==============================] - 10s 2ms/step - loss: 110.1182 - mae: 4.2730\n",
      "Epoch 88/100\n",
      "6707/6707 [==============================] - 11s 2ms/step - loss: 112.4026 - mae: 4.3269\n",
      "Epoch 89/100\n",
      "6707/6707 [==============================] - 10s 2ms/step - loss: 111.0611 - mae: 4.2951\n",
      "Epoch 90/100\n",
      "6707/6707 [==============================] - 10s 2ms/step - loss: 110.2901 - mae: 4.2681\n",
      "Epoch 91/100\n",
      "6707/6707 [==============================] - 11s 2ms/step - loss: 112.3966 - mae: 4.2981\n",
      "Epoch 92/100\n",
      "6707/6707 [==============================] - 10s 2ms/step - loss: 109.8988 - mae: 4.2714\n",
      "Epoch 93/100\n",
      "6707/6707 [==============================] - 11s 2ms/step - loss: 110.4226 - mae: 4.2713\n",
      "Epoch 94/100\n",
      "6707/6707 [==============================] - 11s 2ms/step - loss: 110.2387 - mae: 4.2532: 0s - loss: 110.3010 \n",
      "Epoch 95/100\n",
      "6707/6707 [==============================] - 11s 2ms/step - loss: 111.4394 - mae: 4.3049: 0s - loss: 111.2364 - mae: 4\n",
      "Epoch 96/100\n",
      "6707/6707 [==============================] - 10s 2ms/step - loss: 110.5223 - mae: 4.2793: 2s - loss: 11 - E\n",
      "Epoch 97/100\n",
      "6707/6707 [==============================] - 11s 2ms/step - loss: 111.9889 - mae: 4.3060\n",
      "Epoch 98/100\n",
      "6707/6707 [==============================] - 10s 2ms/step - loss: 109.2359 - mae: 4.2485\n",
      "Epoch 99/100\n",
      "6707/6707 [==============================] - 10s 2ms/step - loss: 109.5816 - mae: 4.2511\n",
      "Epoch 100/100\n",
      "6707/6707 [==============================] - 10s 2ms/step - loss: 109.8509 - mae: 4.2516\n"
     ]
    }
   ],
   "source": [
    "#Compile and train\n",
    "model.compile(optimizer=Adam(lr=0.0001), \n",
    "              loss='mse',\n",
    "              metrics=['mae'])\n",
    "\n",
    "history = model.fit(input_arry, output_arry, epochs=100, batch_size=64)"
   ]
  },
  {
   "cell_type": "code",
   "execution_count": 78,
   "metadata": {},
   "outputs": [
    {
     "name": "stdout",
     "output_type": "stream",
     "text": [
      "Model: \"sequential\"\n",
      "_________________________________________________________________\n",
      "Layer (type)                 Output Shape              Param #   \n",
      "=================================================================\n",
      "dense (Dense)                multiple                  2100      \n",
      "_________________________________________________________________\n",
      "dense_1 (Dense)              multiple                  60200     \n",
      "_________________________________________________________________\n",
      "dense_2 (Dense)              multiple                  20100     \n",
      "_________________________________________________________________\n",
      "dense_3 (Dense)              multiple                  5050      \n",
      "_________________________________________________________________\n",
      "dense_4 (Dense)              multiple                  1275      \n",
      "_________________________________________________________________\n",
      "dense_5 (Dense)              multiple                  26        \n",
      "=================================================================\n",
      "Total params: 88,751\n",
      "Trainable params: 88,751\n",
      "Non-trainable params: 0\n",
      "_________________________________________________________________\n"
     ]
    }
   ],
   "source": [
    "model.summary()"
   ]
  },
  {
   "cell_type": "code",
   "execution_count": 79,
   "metadata": {},
   "outputs": [
    {
     "data": {
      "image/png": "[encoded data removed]",
      "text/plain": [
       "<Figure size 432x288 with 1 Axes>"
      ]
     },
     "metadata": {},
     "output_type": "display_data"
    }
   ],
   "source": [
    "plt.plot(history.history['mae'])\n",
    "# plt.plot(history.history['val_acc'])\n",
    "plt.title('Mean Abs Error per Epoch')\n",
    "plt.ylabel('Mean Absolute Error')\n",
    "plt.xlabel('epoch')\n",
    "plt.legend(['train'], loc='upper left')\n",
    "plt.show()"
   ]
  },
  {
   "cell_type": "code",
   "execution_count": 80,
   "metadata": {},
   "outputs": [],
   "source": [
    "#MAE of around 4 w/m2. Considering DHI values go from 0 - 400, 4 represents a 1% error value"
   ]
  },
  {
   "cell_type": "markdown",
   "metadata": {},
   "source": [
    "## Model Testing - Outer Banks"
   ]
  },
  {
   "cell_type": "code",
   "execution_count": 81,
   "metadata": {},
   "outputs": [
    {
     "data": {
      "text/html": [
       "<div>\n",
       "<style scoped>\n",
       "    .dataframe tbody tr th:only-of-type {\n",
       "        vertical-align: middle;\n",
       "    }\n",
       "\n",
       "    .dataframe tbody tr th {\n",
       "        vertical-align: top;\n",
       "    }\n",
       "\n",
       "    .dataframe thead th {\n",
       "        text-align: right;\n",
       "    }\n",
       "</style>\n",
       "<table border=\"1\" class=\"dataframe\">\n",
       "  <thead>\n",
       "    <tr style=\"text-align: right;\">\n",
       "      <th></th>\n",
       "      <th>Year</th>\n",
       "      <th>Month</th>\n",
       "      <th>Day</th>\n",
       "      <th>Hour</th>\n",
       "      <th>Minute</th>\n",
       "      <th>Temperature</th>\n",
       "      <th>Clearsky DHI</th>\n",
       "      <th>Clearsky DNI</th>\n",
       "      <th>Clearsky GHI</th>\n",
       "      <th>Cloud Type</th>\n",
       "      <th>...</th>\n",
       "      <th>GHI</th>\n",
       "      <th>Relative Humidity</th>\n",
       "      <th>Solar Zenith Angle</th>\n",
       "      <th>Surface Albedo</th>\n",
       "      <th>Pressure</th>\n",
       "      <th>Precipitable Water</th>\n",
       "      <th>Wind Direction</th>\n",
       "      <th>Wind Speed</th>\n",
       "      <th>timestamps</th>\n",
       "      <th>Cloud Cover</th>\n",
       "    </tr>\n",
       "  </thead>\n",
       "  <tbody>\n",
       "    <tr>\n",
       "      <th>0</th>\n",
       "      <td>2018</td>\n",
       "      <td>1</td>\n",
       "      <td>1</td>\n",
       "      <td>0</td>\n",
       "      <td>30</td>\n",
       "      <td>1.8</td>\n",
       "      <td>0</td>\n",
       "      <td>0</td>\n",
       "      <td>0</td>\n",
       "      <td>4</td>\n",
       "      <td>...</td>\n",
       "      <td>0</td>\n",
       "      <td>85.84</td>\n",
       "      <td>119.89</td>\n",
       "      <td>0.03</td>\n",
       "      <td>1026</td>\n",
       "      <td>1.2</td>\n",
       "      <td>350</td>\n",
       "      <td>8.6</td>\n",
       "      <td>1514782800</td>\n",
       "      <td>1.00</td>\n",
       "    </tr>\n",
       "    <tr>\n",
       "      <th>1</th>\n",
       "      <td>2018</td>\n",
       "      <td>1</td>\n",
       "      <td>1</td>\n",
       "      <td>1</td>\n",
       "      <td>30</td>\n",
       "      <td>1.6</td>\n",
       "      <td>0</td>\n",
       "      <td>0</td>\n",
       "      <td>0</td>\n",
       "      <td>4</td>\n",
       "      <td>...</td>\n",
       "      <td>0</td>\n",
       "      <td>87.76</td>\n",
       "      <td>132.05</td>\n",
       "      <td>0.03</td>\n",
       "      <td>1026</td>\n",
       "      <td>1.2</td>\n",
       "      <td>348</td>\n",
       "      <td>8.7</td>\n",
       "      <td>1514786400</td>\n",
       "      <td>0.94</td>\n",
       "    </tr>\n",
       "    <tr>\n",
       "      <th>2</th>\n",
       "      <td>2018</td>\n",
       "      <td>1</td>\n",
       "      <td>1</td>\n",
       "      <td>2</td>\n",
       "      <td>30</td>\n",
       "      <td>1.5</td>\n",
       "      <td>0</td>\n",
       "      <td>0</td>\n",
       "      <td>0</td>\n",
       "      <td>4</td>\n",
       "      <td>...</td>\n",
       "      <td>0</td>\n",
       "      <td>88.35</td>\n",
       "      <td>144.19</td>\n",
       "      <td>0.03</td>\n",
       "      <td>1026</td>\n",
       "      <td>1.1</td>\n",
       "      <td>346</td>\n",
       "      <td>8.7</td>\n",
       "      <td>1514790000</td>\n",
       "      <td>1.00</td>\n",
       "    </tr>\n",
       "    <tr>\n",
       "      <th>3</th>\n",
       "      <td>2018</td>\n",
       "      <td>1</td>\n",
       "      <td>1</td>\n",
       "      <td>3</td>\n",
       "      <td>30</td>\n",
       "      <td>1.4</td>\n",
       "      <td>0</td>\n",
       "      <td>0</td>\n",
       "      <td>0</td>\n",
       "      <td>4</td>\n",
       "      <td>...</td>\n",
       "      <td>0</td>\n",
       "      <td>89.16</td>\n",
       "      <td>155.85</td>\n",
       "      <td>0.03</td>\n",
       "      <td>1026</td>\n",
       "      <td>1.1</td>\n",
       "      <td>346</td>\n",
       "      <td>8.7</td>\n",
       "      <td>1514793600</td>\n",
       "      <td>1.00</td>\n",
       "    </tr>\n",
       "    <tr>\n",
       "      <th>4</th>\n",
       "      <td>2018</td>\n",
       "      <td>1</td>\n",
       "      <td>1</td>\n",
       "      <td>4</td>\n",
       "      <td>30</td>\n",
       "      <td>1.4</td>\n",
       "      <td>0</td>\n",
       "      <td>0</td>\n",
       "      <td>0</td>\n",
       "      <td>4</td>\n",
       "      <td>...</td>\n",
       "      <td>0</td>\n",
       "      <td>89.52</td>\n",
       "      <td>165.32</td>\n",
       "      <td>0.03</td>\n",
       "      <td>1026</td>\n",
       "      <td>1.1</td>\n",
       "      <td>347</td>\n",
       "      <td>8.9</td>\n",
       "      <td>1514797200</td>\n",
       "      <td>1.00</td>\n",
       "    </tr>\n",
       "  </tbody>\n",
       "</table>\n",
       "<p>5 rows × 24 columns</p>\n",
       "</div>"
      ],
      "text/plain": [
       "   Year  Month  Day  Hour  Minute  Temperature  Clearsky DHI  Clearsky DNI  \\\n",
       "0  2018      1    1     0      30          1.8             0             0   \n",
       "1  2018      1    1     1      30          1.6             0             0   \n",
       "2  2018      1    1     2      30          1.5             0             0   \n",
       "3  2018      1    1     3      30          1.4             0             0   \n",
       "4  2018      1    1     4      30          1.4             0             0   \n",
       "\n",
       "   Clearsky GHI  Cloud Type  ...  GHI  Relative Humidity  Solar Zenith Angle  \\\n",
       "0             0           4  ...    0              85.84              119.89   \n",
       "1             0           4  ...    0              87.76              132.05   \n",
       "2             0           4  ...    0              88.35              144.19   \n",
       "3             0           4  ...    0              89.16              155.85   \n",
       "4             0           4  ...    0              89.52              165.32   \n",
       "\n",
       "   Surface Albedo  Pressure  Precipitable Water  Wind Direction  Wind Speed  \\\n",
       "0            0.03      1026                 1.2             350         8.6   \n",
       "1            0.03      1026                 1.2             348         8.7   \n",
       "2            0.03      1026                 1.1             346         8.7   \n",
       "3            0.03      1026                 1.1             346         8.7   \n",
       "4            0.03      1026                 1.1             347         8.9   \n",
       "\n",
       "   timestamps  Cloud Cover  \n",
       "0  1514782800         1.00  \n",
       "1  1514786400         0.94  \n",
       "2  1514790000         1.00  \n",
       "3  1514793600         1.00  \n",
       "4  1514797200         1.00  \n",
       "\n",
       "[5 rows x 24 columns]"
      ]
     },
     "execution_count": 81,
     "metadata": {},
     "output_type": "execute_result"
    }
   ],
   "source": [
    "test_df = pd.read_csv(os.path.join(_Testing_Data_Dir, 'outer_banks', 'r_banks.csv'))\n",
    "test_df.head()"
   ]
  },
  {
   "cell_type": "code",
   "execution_count": 133,
   "metadata": {},
   "outputs": [],
   "source": [
    "input_size = 6\n",
    "test_input_arry = np.array([], dtype=np.float64).reshape(0,input_size)\n",
    "test_output_arry = np.array([], dtype=np.float64)\n",
    "test_input_arry, test_output_arry = combine_training_arrays(test_df, test_input_arry, test_output_arry)"
   ]
  },
  {
   "cell_type": "code",
   "execution_count": 134,
   "metadata": {},
   "outputs": [],
   "source": [
    "#keras model.evaluate reveals a mae of 6.9433 w/m2 in the outer banks test"
   ]
  },
  {
   "cell_type": "code",
   "execution_count": 135,
   "metadata": {},
   "outputs": [
    {
     "name": "stdout",
     "output_type": "stream",
     "text": [
      "274/274 [==============================] - 0s 1ms/step - loss: 274.9615 - mean_absolute_error: 7.5898\n"
     ]
    }
   ],
   "source": [
    "score = model.evaluate(test_input_arry, test_output_arry, verbose=1)"
   ]
  },
  {
   "cell_type": "code",
   "execution_count": 136,
   "metadata": {},
   "outputs": [],
   "source": [
    "preds = model.predict(test_input_arry)"
   ]
  },
  {
   "cell_type": "code",
   "execution_count": 131,
   "metadata": {},
   "outputs": [],
   "source": [
    "for i in range(len(preds)):\n",
    "    preds[i] = float(preds[i])\n",
    "    if preds[i] == 0:\n",
    "        preds[i] = float(0.0001)\n",
    "for i in range(len(test_output_arry)):\n",
    "    test_output_arry[i] = float(test_output_arry[i])\n",
    "    if test_output_arry[i] == 0.0:\n",
    "        test_output_arry[i] = float(0.0001)"
   ]
  },
  {
   "cell_type": "code",
   "execution_count": 132,
   "metadata": {},
   "outputs": [
    {
     "name": "stdout",
     "output_type": "stream",
     "text": [
      "MAPE is  40484772.703877665\n"
     ]
    }
   ],
   "source": [
    "print(\"MAPE is \", np.mean(np.abs((test_output_arry - preds) / test_output_arry)) * 100)"
   ]
  },
  {
   "cell_type": "code",
   "execution_count": 166,
   "metadata": {},
   "outputs": [],
   "source": [
    "#Compare random induvidual resutls!!!!!"
   ]
  },
  {
   "cell_type": "code",
   "execution_count": 167,
   "metadata": {},
   "outputs": [
    {
     "name": "stdout",
     "output_type": "stream",
     "text": [
      "index is  7573\n",
      "Actual  91.0   Predicted  [100.10162]\n"
     ]
    }
   ],
   "source": [
    "i = randint(0,8760)\n",
    "print(\"index is \",i)\n",
    "print(\"Actual \",test_output_arry[i],\" \",\"Predicted \", preds[i])"
   ]
  },
  {
   "cell_type": "code",
   "execution_count": 89,
   "metadata": {},
   "outputs": [
    {
     "name": "stdout",
     "output_type": "stream",
     "text": [
      "WARNING:tensorflow:From /usr/local/lib/python3.7/site-packages/tensorflow/python/ops/resource_variable_ops.py:1817: calling BaseResourceVariable.__init__ (from tensorflow.python.ops.resource_variable_ops) with constraint is deprecated and will be removed in a future version.\n",
      "Instructions for updating:\n",
      "If using Keras pass *_constraint arguments to layers.\n",
      "INFO:tensorflow:Assets written to: Neural_Net_1/assets\n"
     ]
    }
   ],
   "source": [
    "model.save('Neural_Net_1')"
   ]
  },
  {
   "cell_type": "markdown",
   "metadata": {},
   "source": [
    "# Neural Net Testing"
   ]
  },
  {
   "cell_type": "markdown",
   "metadata": {},
   "source": [
    "#Lets take the global model and test in new locations\n"
   ]
  },
  {
   "cell_type": "markdown",
   "metadata": {},
   "source": [
    "1. Outer Banks\n",
    "2. Miami Florida (25.7617, -80.1918)\n",
    "3. Boulder CO (40.035,-105.54)\n",
    "4. San Diego CA (32.7157, -117.1611)\n",
    "5. Lincoln Nebraska (40.848,-96.56)\n",
    "6. Quinault Washington (47.513,-123.81)\n",
    "7. Old Town Maine (44.928,-68.70)\n",
    "8. Murphey Idaho (43.204,-116.75)\n"
   ]
  },
  {
   "cell_type": "code",
   "execution_count": null,
   "metadata": {},
   "outputs": [],
   "source": []
  }
 ],
 "metadata": {
  "kernelspec": {
   "display_name": "Python 3",
   "language": "python",
   "name": "python3"
  },
  "language_info": {
   "codemirror_mode": {
    "name": "ipython",
    "version": 3
   },
   "file_extension": ".py",
   "mimetype": "text/x-python",
   "name": "python",
   "nbconvert_exporter": "python",
   "pygments_lexer": "ipython3",
   "version": "3.7.6"
  }
 },
 "nbformat": 4,
 "nbformat_minor": 4
}
