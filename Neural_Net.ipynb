{
 "cells": [
  {
   "cell_type": "markdown",
   "metadata": {},
   "source": [
    "# Neural Network"
   ]
  },
  {
   "cell_type": "markdown",
   "metadata": {},
   "source": [
    "## I. Import and Load Data"
   ]
  },
  {
   "cell_type": "markdown",
   "metadata": {},
   "source": [
    "Data was pulled from two sources. \n",
    "\n",
    "Solar Irradience data was pulled from the [National Solar Radiation Database](https://nsrdb.nrel.gov/). Pointwise GHI, DHI, and DNI data is returned hourly for an entire calendar year. All irradience values are recorded in w/m^2. Location is for a latitude longitude coordinate pair. Coordinates were chosen based on the locations of [U.S. Climate Reference Network (USCRN)](https://www.ncdc.noaa.gov/crn/) monitoring stations. This is because the USCRN has real time measurements of GHI, which can be used to make real-time predictions of DHI. The NRSDB is not updated so frequently. \n",
    "\n",
    "In addition to solar irradience data, this project uses other weather data such as cloud cover, air pressure, and season data to try and model the relationship between GHI and DHI. For that, this project pulls data from [darksky](https://darksky.net/dev)."
   ]
  },
  {
   "cell_type": "code",
   "execution_count": 81,
   "metadata": {},
   "outputs": [],
   "source": [
    "import pandas as pd\n",
    "import os\n",
    "import numpy as np\n",
    "from glob import glob\n",
    "from matplotlib import pyplot as plt\n"
   ]
  },
  {
   "cell_type": "code",
   "execution_count": 4,
   "metadata": {},
   "outputs": [],
   "source": [
    "import tensorflow as tf\n",
    "from tensorflow import keras\n",
    "from tensorflow.keras import layers"
   ]
  },
  {
   "cell_type": "code",
   "execution_count": 8,
   "metadata": {},
   "outputs": [],
   "source": [
    "#Lets try and make a neural network"
   ]
  },
  {
   "cell_type": "code",
   "execution_count": 9,
   "metadata": {},
   "outputs": [
    {
     "name": "stdout",
     "output_type": "stream",
     "text": [
      "/Users/tuomastalvitie/Documents/GRIP/Diffuse:Direct/solarIrradiencePredictor/Testing_Data\n"
     ]
    }
   ],
   "source": [
    "#Get 2018 Data\n",
    "_Curr_Dir = os.getcwd()\n",
    "_Testing_Data_Dir = os.path.join(_Curr_Dir, 'Testing_Data')\n",
    "print(_Testing_Data_Dir)"
   ]
  },
  {
   "cell_type": "code",
   "execution_count": 36,
   "metadata": {},
   "outputs": [
    {
     "data": {
      "text/html": [
       "<div>\n",
       "<style scoped>\n",
       "    .dataframe tbody tr th:only-of-type {\n",
       "        vertical-align: middle;\n",
       "    }\n",
       "\n",
       "    .dataframe tbody tr th {\n",
       "        vertical-align: top;\n",
       "    }\n",
       "\n",
       "    .dataframe thead th {\n",
       "        text-align: right;\n",
       "    }\n",
       "</style>\n",
       "<table border=\"1\" class=\"dataframe\">\n",
       "  <thead>\n",
       "    <tr style=\"text-align: right;\">\n",
       "      <th></th>\n",
       "      <th>Year</th>\n",
       "      <th>Month</th>\n",
       "      <th>Day</th>\n",
       "      <th>Hour</th>\n",
       "      <th>Minute</th>\n",
       "      <th>Temperature</th>\n",
       "      <th>Clearsky DHI</th>\n",
       "      <th>Clearsky DNI</th>\n",
       "      <th>Clearsky GHI</th>\n",
       "      <th>Cloud Type</th>\n",
       "      <th>...</th>\n",
       "      <th>GHI</th>\n",
       "      <th>Relative Humidity</th>\n",
       "      <th>Solar Zenith Angle</th>\n",
       "      <th>Surface Albedo</th>\n",
       "      <th>Pressure</th>\n",
       "      <th>Precipitable Water</th>\n",
       "      <th>Wind Direction</th>\n",
       "      <th>Wind Speed</th>\n",
       "      <th>timestamps</th>\n",
       "      <th>Cloud Cover</th>\n",
       "    </tr>\n",
       "  </thead>\n",
       "  <tbody>\n",
       "    <tr>\n",
       "      <th>0</th>\n",
       "      <td>2018</td>\n",
       "      <td>1</td>\n",
       "      <td>1</td>\n",
       "      <td>0</td>\n",
       "      <td>30</td>\n",
       "      <td>-22.5</td>\n",
       "      <td>0</td>\n",
       "      <td>0</td>\n",
       "      <td>0</td>\n",
       "      <td>8</td>\n",
       "      <td>...</td>\n",
       "      <td>0</td>\n",
       "      <td>62.75</td>\n",
       "      <td>103.76</td>\n",
       "      <td>0.69</td>\n",
       "      <td>978</td>\n",
       "      <td>0.1</td>\n",
       "      <td>296</td>\n",
       "      <td>2.1</td>\n",
       "      <td>1514739600</td>\n",
       "      <td>0.0</td>\n",
       "    </tr>\n",
       "    <tr>\n",
       "      <th>1</th>\n",
       "      <td>2018</td>\n",
       "      <td>1</td>\n",
       "      <td>1</td>\n",
       "      <td>1</td>\n",
       "      <td>30</td>\n",
       "      <td>-23.1</td>\n",
       "      <td>0</td>\n",
       "      <td>0</td>\n",
       "      <td>0</td>\n",
       "      <td>0</td>\n",
       "      <td>...</td>\n",
       "      <td>0</td>\n",
       "      <td>66.39</td>\n",
       "      <td>114.24</td>\n",
       "      <td>0.69</td>\n",
       "      <td>978</td>\n",
       "      <td>0.1</td>\n",
       "      <td>287</td>\n",
       "      <td>2.2</td>\n",
       "      <td>1514743200</td>\n",
       "      <td>0.0</td>\n",
       "    </tr>\n",
       "    <tr>\n",
       "      <th>2</th>\n",
       "      <td>2018</td>\n",
       "      <td>1</td>\n",
       "      <td>1</td>\n",
       "      <td>2</td>\n",
       "      <td>30</td>\n",
       "      <td>-23.6</td>\n",
       "      <td>0</td>\n",
       "      <td>0</td>\n",
       "      <td>0</td>\n",
       "      <td>8</td>\n",
       "      <td>...</td>\n",
       "      <td>0</td>\n",
       "      <td>69.34</td>\n",
       "      <td>125.01</td>\n",
       "      <td>0.69</td>\n",
       "      <td>978</td>\n",
       "      <td>0.1</td>\n",
       "      <td>283</td>\n",
       "      <td>2.3</td>\n",
       "      <td>1514746800</td>\n",
       "      <td>0.0</td>\n",
       "    </tr>\n",
       "    <tr>\n",
       "      <th>3</th>\n",
       "      <td>2018</td>\n",
       "      <td>1</td>\n",
       "      <td>1</td>\n",
       "      <td>3</td>\n",
       "      <td>30</td>\n",
       "      <td>-23.9</td>\n",
       "      <td>0</td>\n",
       "      <td>0</td>\n",
       "      <td>0</td>\n",
       "      <td>8</td>\n",
       "      <td>...</td>\n",
       "      <td>0</td>\n",
       "      <td>71.25</td>\n",
       "      <td>135.74</td>\n",
       "      <td>0.69</td>\n",
       "      <td>978</td>\n",
       "      <td>0.1</td>\n",
       "      <td>283</td>\n",
       "      <td>2.3</td>\n",
       "      <td>1514750400</td>\n",
       "      <td>0.0</td>\n",
       "    </tr>\n",
       "    <tr>\n",
       "      <th>4</th>\n",
       "      <td>2018</td>\n",
       "      <td>1</td>\n",
       "      <td>1</td>\n",
       "      <td>4</td>\n",
       "      <td>30</td>\n",
       "      <td>-24.1</td>\n",
       "      <td>0</td>\n",
       "      <td>0</td>\n",
       "      <td>0</td>\n",
       "      <td>8</td>\n",
       "      <td>...</td>\n",
       "      <td>0</td>\n",
       "      <td>72.87</td>\n",
       "      <td>145.93</td>\n",
       "      <td>0.69</td>\n",
       "      <td>979</td>\n",
       "      <td>0.1</td>\n",
       "      <td>284</td>\n",
       "      <td>2.3</td>\n",
       "      <td>1514754000</td>\n",
       "      <td>0.0</td>\n",
       "    </tr>\n",
       "  </tbody>\n",
       "</table>\n",
       "<p>5 rows × 24 columns</p>\n",
       "</div>"
      ],
      "text/plain": [
       "   Year  Month  Day  Hour  Minute  Temperature  Clearsky DHI  Clearsky DNI  \\\n",
       "0  2018      1    1     0      30        -22.5             0             0   \n",
       "1  2018      1    1     1      30        -23.1             0             0   \n",
       "2  2018      1    1     2      30        -23.6             0             0   \n",
       "3  2018      1    1     3      30        -23.9             0             0   \n",
       "4  2018      1    1     4      30        -24.1             0             0   \n",
       "\n",
       "   Clearsky GHI  Cloud Type  ...  GHI  Relative Humidity  Solar Zenith Angle  \\\n",
       "0             0           8  ...    0              62.75              103.76   \n",
       "1             0           0  ...    0              66.39              114.24   \n",
       "2             0           8  ...    0              69.34              125.01   \n",
       "3             0           8  ...    0              71.25              135.74   \n",
       "4             0           8  ...    0              72.87              145.93   \n",
       "\n",
       "   Surface Albedo  Pressure  Precipitable Water  Wind Direction  Wind Speed  \\\n",
       "0            0.69       978                 0.1             296         2.1   \n",
       "1            0.69       978                 0.1             287         2.2   \n",
       "2            0.69       978                 0.1             283         2.3   \n",
       "3            0.69       978                 0.1             283         2.3   \n",
       "4            0.69       979                 0.1             284         2.3   \n",
       "\n",
       "   timestamps  Cloud Cover  \n",
       "0  1514739600          0.0  \n",
       "1  1514743200          0.0  \n",
       "2  1514746800          0.0  \n",
       "3  1514750400          0.0  \n",
       "4  1514754000          0.0  \n",
       "\n",
       "[5 rows x 24 columns]"
      ]
     },
     "execution_count": 36,
     "metadata": {},
     "output_type": "execute_result"
    }
   ],
   "source": [
    "pd.read_csv(os.path.join(_Testing_Data_Dir, 'psm_south_dakota', 'psm_testing_data2018.csv')).head()"
   ]
  },
  {
   "cell_type": "markdown",
   "metadata": {},
   "source": [
    "## II. Features and Data Engineering"
   ]
  },
  {
   "cell_type": "markdown",
   "metadata": {},
   "source": [
    "So we have all the above variables....Which ones do we think would work best in a NN?"
   ]
  },
  {
   "cell_type": "markdown",
   "metadata": {},
   "source": [
    "So we want to predict DHI, at the very least. Maybe DNI as well. What can we use to predict? \n",
    "[More Information on GHI, DHI, and DNI here!](https://firstgreenconsulting.wordpress.com/2012/04/26/differentiate-between-the-dni-dhi-and-ghi/#:~:text=Global%20Horizontal%20Irradiance%20(GHI)%20is,Diffuse%20Horizontal%20Irradiance%20(DHI).)\n",
    "\n",
    "But a useful relationship to keep in mind is:\n",
    "\n",
    "*Global Horizontal (GHI) = Direct Normal (DNI) X cos(θ) + Diffuse Horizontal (DHI)*\n",
    "\n",
    "**GHI** is a must, as it is the primary metric our sensors will feed into such a model. \n",
    "\n",
    "**Cloud cover** is also essential, as cloud cover is one of the primary factors in how much direct normal solar irradience is diffused.\n",
    "\n",
    "**Solar Zenith Angle** is important as it dictates how much irradience is direct normal (DNI)\n",
    "\n",
    "Another useful relatinship to capture is **time**. We are given timestamps in addition to month, day, year, second, hour and minute variables. Timestamps and/or a combination between day + month would not be super useful, as it would overfit to the day. \n",
    "A more useful relationship would be to capture time of day. This is useful because in a non - featurized dataset, many GHI readings will read '0', simply because it is dark out. We are primarily concerned about the relationship between GHI and DHI, therefore factoring in readings when there is no sunlight to begin with could be confounding. Therefore adding in **minute** and **hour** variables in the input vector could adequately capture this relationship. \n",
    "\n",
    "Another solution would be to featurize this dataset, whereby we create a seperate feature which is a combination of day + time. OR, we could completly remove the nighttime entries entirely to ensure we only are concerned with readings that occur when the sun is out. However this occurs on a gradient, because sunlight is defracted even after sunset. So for now, let's just fit the model on the unedited dataset. \n",
    "\n",
    "Another good idea is to create a **season** variable, which is a dummy variable for each season (Fall, Winter, Spring, Summer), as different amounts of sunlight occur during each. The problem is that, for different locations on earth, seasonality could be inversely correlated with sunlight and thus GHI, DHI, and DNI. \n",
    "\n",
    "To keep the model as general as possible, we will exclude seasonality initially. \n",
    "\n",
    "Another useful metric is **Pressure**. According to the renowned [DISC model](https://www.nrel.gov/docs/legosti/old/3087.pdf), air pressure is included as a proxy for *air mass*, which is the amount of atmosphere solar rays have to travel through. The larger the solar mass, the more solar rays are scattered. \n",
    "\n"
   ]
  },
  {
   "cell_type": "markdown",
   "metadata": {},
   "source": [
    "### Loading the Data"
   ]
  },
  {
   "cell_type": "code",
   "execution_count": 55,
   "metadata": {},
   "outputs": [],
   "source": [
    "#Get training arrays and combine them into a useable vector"
   ]
  },
  {
   "cell_type": "code",
   "execution_count": 56,
   "metadata": {},
   "outputs": [],
   "source": [
    "def combine_training_arrays(df, input_arry, output_arr):\n",
    "    ghi  = df['GHI'].values\n",
    "    cloud_cover = df['Cloud Cover'].values\n",
    "    hours = df['Hour'].values\n",
    "    minutes = df['Minute'].values\n",
    "    solar_zenith = df['Solar Zenith Angle'].values\n",
    "    pressure = df['Pressure'].values\n",
    "    dhi = df['DHI'].values\n",
    "    #Sanity check, should all be 8760\n",
    "    assert len(pressure)==len(solar_zenith)==len(minutes)==len(hours)==len(cloud_cover)==len(ghi)==8760, \"len of input array not 8760\"\n",
    "    ar = np.array([ghi, cloud_cover, hours, minutes, solar_zenith, pressure]).T\n",
    "    input_arry = np.concatenate((input_arry, ar))\n",
    "    output_arr = np.concatenate((output_arr, np.array(dhi).T))\n",
    "    return input_arry, output_arr\n"
   ]
  },
  {
   "cell_type": "code",
   "execution_count": 57,
   "metadata": {},
   "outputs": [
    {
     "name": "stdout",
     "output_type": "stream",
     "text": [
      "[]\n",
      "[]\n"
     ]
    }
   ],
   "source": [
    "input_size = 6\n",
    "input_arry = np.array([], dtype=np.float64).reshape(0,input_size)\n",
    "output_arry = np.array([], dtype=np.float64)\n",
    "print(input_arry)\n",
    "print(output_arry)\n",
    "from glob import glob\n",
    "for path in glob(_Testing_Data_Dir+'/*'):\n",
    "    for file in glob(path+'/psm_'+'*'):\n",
    "        df = pd.read_csv(file)\n",
    "        input_arry, output_arry = combine_training_arrays(df, input_arry, output_arry)"
   ]
  },
  {
   "cell_type": "code",
   "execution_count": 58,
   "metadata": {},
   "outputs": [
    {
     "name": "stdout",
     "output_type": "stream",
     "text": [
      "429240\n"
     ]
    }
   ],
   "source": [
    "#sanity check, make sure 8760*number of files we look at == 429240\n",
    "count = 0\n",
    "for path in glob(_Testing_Data_Dir+'/*'):\n",
    "    for file in glob(path+'/psm_'+'*'):\n",
    "        count+=1\n",
    "print(count*8760)"
   ]
  },
  {
   "cell_type": "markdown",
   "metadata": {},
   "source": [
    "# III. Training"
   ]
  },
  {
   "cell_type": "code",
   "execution_count": 19,
   "metadata": {},
   "outputs": [],
   "source": [
    "from tensorflow.keras.optimizers import Adam"
   ]
  },
  {
   "cell_type": "code",
   "execution_count": 76,
   "metadata": {},
   "outputs": [],
   "source": [
    "keras.backend.clear_session()\n",
    "tf.keras.backend.clear_session()"
   ]
  },
  {
   "cell_type": "code",
   "execution_count": 77,
   "metadata": {},
   "outputs": [],
   "source": [
    "#100 epochs, large batch size"
   ]
  },
  {
   "cell_type": "code",
   "execution_count": 78,
   "metadata": {},
   "outputs": [],
   "source": [
    "model = keras.Sequential()\n",
    "model.add(layers.Dense(300, activation=\"relu\"))\n",
    "model.add(layers.Dense(200, activation=\"relu\"))\n",
    "model.add(layers.Dense(100, activation=\"relu\"))\n",
    "model.add(layers.Dense(50, activation=\"relu\"))\n",
    "model.add(layers.Dense(25, activation=\"relu\"))\n",
    "model.add(layers.Dense(1, activation='relu'))"
   ]
  },
  {
   "cell_type": "code",
   "execution_count": 79,
   "metadata": {},
   "outputs": [
    {
     "name": "stdout",
     "output_type": "stream",
     "text": [
      "<tensorflow.python.keras.engine.sequential.Sequential object at 0x1367bf6d0>\n"
     ]
    }
   ],
   "source": [
    "print(model)"
   ]
  },
  {
   "cell_type": "code",
   "execution_count": 80,
   "metadata": {},
   "outputs": [
    {
     "name": "stdout",
     "output_type": "stream",
     "text": [
      "Epoch 1/100\n",
      "6707/6707 [==============================] - 11s 2ms/step - loss: 931.2966 - mae: 13.7922 0s - loss: 972.9007 - ma - ETA: 0s -\n",
      "Epoch 2/100\n",
      "6707/6707 [==============================] - 11s 2ms/step - loss: 462.1857 - mae: 9.5048: 7s - loss: 48 - ETA: 6s - los - ETA: 3s - loss: 473.0036 - mae: 9.641 - ETA - ETA: 1s - loss: 467 - ETA: 0s - loss: 464.3944 - ma\n",
      "Epoch 3/100\n",
      "6707/6707 [==============================] - 11s 2ms/step - loss: 416.8326 - mae: 8.9433: 3s - l \n",
      "Epoch 4/100\n",
      "6707/6707 [==============================] - 11s 2ms/step - loss: 380.9924 - mae: 8.4820\n",
      "Epoch 5/100\n",
      "6707/6707 [==============================] - 11s 2ms/step - loss: 352.9906 - mae: 8.1099: 9s - loss: 354. - ETA: 8s - ETA: 7 - ETA: 6s - loss: 362.7218  - ETA:  - ETA: 3s - loss: 356.21 - ET - ETA: 0s - loss: 355.6917 - mae: 8.141 - ETA: 0s - loss: 355.6783 - mae: 8.1 - ETA: 0s - loss: 355.285\n",
      "Epoch 6/100\n",
      "6707/6707 [==============================] - 11s 2ms/step - loss: 312.9229 - mae: 7.5870: 4s - loss: 320.2724 - - ETA - ETA: 0s - loss: 312.9251 - mae: 7\n",
      "Epoch 7/100\n",
      "6707/6707 [==============================] - 11s 2ms/step - loss: 281.3045 - mae: 7.1333: 9s  - ETA: 1s - loss: 286.0373 - mae:  - ETA: 1s - \n",
      "Epoch 8/100\n",
      "6707/6707 [==============================] - 11s 2ms/step - loss: 245.7275 - mae: 6.6185: 0s - loss: 246.2473 - mae\n",
      "Epoch 9/100\n",
      "6707/6707 [==============================] - 11s 2ms/step - loss: 215.3776 - mae: 6.1812\n",
      "Epoch 10/100\n",
      "6707/6707 [==============================] - 13s 2ms/step - loss: 198.1680 - mae: 5.9123: 5s - loss: 197.\n",
      "Epoch 11/100\n",
      "6707/6707 [==============================] - 11s 2ms/step - loss: 188.1449 - mae: 5.7493: - ETA: 6s - loss: 187.2625 - mae: 5.718 - E - ETA: 4s - loss: 187.5416 - mae: 5.7\n",
      "Epoch 12/100\n",
      "6707/6707 [==============================] - 11s 2ms/step - loss: 182.4934 - mae: 5.6787\n",
      "Epoch 13/100\n",
      "6707/6707 [==============================] - 11s 2ms/step - loss: 177.1802 - mae: 5.5710: 7s - loss: 16 -   - ETA: 2s - - ETA: 0s - loss: 177.67\n",
      "Epoch 14/100\n",
      "6707/6707 [==============================] - 11s 2ms/step - loss: 174.7650 - mae: 5.5532: 0s - loss: 174.8348 - mae: 5.55\n",
      "Epoch 15/100\n",
      "6707/6707 [==============================] - 11s 2ms/step - loss: 165.1811 - mae: 5.3902: 0s - loss: 164.433\n",
      "Epoch 16/100\n",
      "6707/6707 [==============================] - 11s 2ms/step - loss: 167.1691 - mae: 5.4259: 1s - loss - ETA: 0s - loss: 166.8127 - ma - ETA: 0s - loss: 166.6657 - mae: \n",
      "Epoch 17/100\n",
      "6707/6707 [==============================] - 11s 2ms/step - loss: 161.9297 - mae: 5.3576\n",
      "Epoch 18/100\n",
      "6707/6707 [==============================] - 11s 2ms/step - loss: 161.3072 - mae: 5.3236\n",
      "Epoch 19/100\n",
      "6707/6707 [==============================] - 11s 2ms/step - loss: 161.8350 - mae: 5.3433\n",
      "Epoch 20/100\n",
      "6707/6707 [==============================] - 11s 2ms/step - loss: 156.2751 - mae: 5.2338: 0s - loss: 156.821\n",
      "Epoch 21/100\n",
      "6707/6707 [==============================] - 11s 2ms/step - loss: 159.8539 - mae: 5.3002: - ETA: 8s - loss: 160.5388 - mae: 5.28 - ETA - ETA: 4s - loss: 158.5928 - mae - ETA: 3s - loss: 158.6509 - mae: 5.27 - ETA: 3s - lo - ETA: 2s - loss: 158.99 - ETA: 1s\n",
      "Epoch 22/100\n",
      "6707/6707 [==============================] - 11s 2ms/step - loss: 152.8617 - mae: 5.1993\n",
      "Epoch 23/100\n",
      "6707/6707 [==============================] - 11s 2ms/step - loss: 151.3263 - mae: 5.1618: 0s - loss: 152.2249 - mae: 5.179 - ETA: 0s - loss: 152.067\n",
      "Epoch 24/100\n",
      "6707/6707 [==============================] - 11s 2ms/step - loss: 148.3608 - mae: 5.1005 ETA: 2s - loss: 148.9452 - - ETA\n",
      "Epoch 25/100\n",
      "6707/6707 [==============================] - 11s 2ms/step - loss: 150.8015 - mae: 5.1379: 6s  - ETA: 4s - loss: 147.4398 - \n",
      "Epoch 26/100\n",
      "6707/6707 [==============================] - 11s 2ms/step - loss: 146.6037 - mae: 5.0743: 1s - loss: 146.5795 - mae: 5.082 - ETA: 1s - loss: 146.477 - ETA: 0s - loss: 145.7862 - m\n",
      "Epoch 27/100\n",
      "6707/6707 [==============================] - 11s 2ms/step - loss: 144.9348 - mae: 5.0306: 9s - loss: 149.3421 - m - ETA: 9s - loss: 146 - E\n",
      "Epoch 28/100\n",
      "6707/6707 [==============================] - 11s 2ms/step - loss: 147.1724 - mae: 5.0595: 5s - loss: 1\n",
      "Epoch 29/100\n",
      "6707/6707 [==============================] - 11s 2ms/step - loss: 145.0338 - mae: 5.0258\n",
      "Epoch 30/100\n",
      "6707/6707 [==============================] - 11s 2ms/step - loss: 139.7959 - mae: 4.9315\n",
      "Epoch 31/100\n",
      "6707/6707 [==============================] - 11s 2ms/step - loss: 140.0946 - mae: 4.9278: 3s - loss: 140.4776 -  - ETA: 3s - l\n",
      "Epoch 32/100\n",
      "6707/6707 [==============================] - 11s 2ms/step - loss: 141.5270 - mae: 4.9548: 6s - loss: 141 - - \n",
      "Epoch 33/100\n",
      "6707/6707 [==============================] - 11s 2ms/step - loss: 141.0096 - mae: 4.9540\n",
      "Epoch 34/100\n",
      "6707/6707 [==============================] - 11s 2ms/step - loss: 140.7561 - mae: 4.9352: 1s - loss\n",
      "Epoch 35/100\n",
      "6707/6707 [==============================] - 11s 2ms/step - loss: 135.1259 - mae: 4.8289: 6s - loss: 13 - ETA: 5s - loss: 135.0339 - mae:  - ETA: 4s - loss: 134.43 - ETA: 4s - loss: 135.7827  - ETA: 1s - l\n",
      "Epoch 36/100\n",
      "6707/6707 [==============================] - 11s 2ms/step - loss: 133.2639 - mae: 4.7928ETA: 3s - l - ETA: 0s - loss: 133.2238 - mae: 4.79\n",
      "Epoch 37/100\n",
      "6707/6707 [==============================] - 11s 2ms/step - loss: 135.7383 - mae: 4.8325: 4s - loss: 135.2512 - mae: 4.82 - ETA: 3s -  - ETA: 2s - loss: 136.0442 - ma\n",
      "Epoch 38/100\n",
      "6707/6707 [==============================] - 11s 2ms/step - loss: 131.6172 - mae: 4.7588\n",
      "Epoch 39/100\n",
      "6707/6707 [==============================] - 11s 2ms/step - loss: 132.1306 - mae: 4.7854: 2s - loss - ETA\n",
      "Epoch 40/100\n",
      "6707/6707 [==============================] - 11s 2ms/step - loss: 133.6118 - mae: 4.7850: 3s - los \n",
      "Epoch 41/100\n",
      "6707/6707 [==============================] - 11s 2ms/step - loss: 130.2995 - mae: 4.7332\n",
      "Epoch 42/100\n",
      "6707/6707 [==============================] - 11s 2ms/step - loss: 130.2099 - mae: 4.7427\n",
      "Epoch 43/100\n",
      "6707/6707 [==============================] - 11s 2ms/step - loss: 128.3387 - mae: 4.6907: 4s - loss: 127.112 - ETA: 3s - loss: 127.0 - ETA: 0s - loss: 128.0972 - m\n",
      "Epoch 44/100\n",
      "6707/6707 [==============================] - 11s 2ms/step - loss: 127.9677 - mae: 4.6874ETA: 6s - loss: 125.8207  - ETA: 0s - loss: 127.9207 - mae: 4.686\n",
      "Epoch 45/100\n",
      "6707/6707 [==============================] - 12s 2ms/step - loss: 128.7680 - mae: 4.7036\n",
      "Epoch 46/100\n",
      "6707/6707 [==============================] - 11s 2ms/step - loss: 127.3262 - mae: 4.6734\n",
      "Epoch 47/100\n",
      "6707/6707 [==============================] - 11s 2ms/step - loss: 124.9691 - mae: 4.6110: 10s  - ETA: 6s - loss - ETA: 5s - los - ETA: 3s  - ETA: 2s - los - ETA: 1s - loss: 125. - ETA: 0s - loss: 125.0945 - mae: 4.6\n",
      "Epoch 48/100\n",
      "6707/6707 [==============================] - 11s 2ms/step - loss: 127.0483 - mae: 4.6671\n",
      "Epoch 49/100\n",
      "6707/6707 [==============================] - 11s 2ms/step - loss: 125.6650 - mae: 4.6362\n",
      "Epoch 50/100\n",
      "6707/6707 [==============================] - 12s 2ms/step - loss: 127.1870 - mae: 4.6532: 2s - loss: 127.2929 - mae: 4 - \n",
      "Epoch 51/100\n",
      "6707/6707 [==============================] - 12s 2ms/step - loss: 122.9127 - mae: 4.5771: 6s - loss: 123 - ETA: 5s - loss: 122 - \n",
      "Epoch 52/100\n",
      "6707/6707 [==============================] - 11s 2ms/step - loss: 125.6640 - mae: 4.6274\n",
      "Epoch 53/100\n",
      "6707/6707 [==============================] - 11s 2ms/step - loss: 121.3163 - mae: 4.5515: 0s - loss: 121.6538 - mae: 4 - ETA: 0s - loss: 121.5192 - mae\n",
      "Epoch 54/100\n",
      "6707/6707 [==============================] - 11s 2ms/step - loss: 124.5457 - mae: 4.6081\n",
      "Epoch 55/100\n",
      "6707/6707 [==============================] - 11s 2ms/step - loss: 121.0951 - mae: 4.5324: 4s - loss: 121.2962 - - ETA: 2s - loss: 121.8074 - mae: 4.55 - E\n",
      "Epoch 56/100\n",
      "6707/6707 [==============================] - 12s 2ms/step - loss: 121.9641 - mae: 4.5550: -\n",
      "Epoch 57/100\n",
      "6707/6707 [==============================] - 12s 2ms/step - loss: 122.7166 - mae: 4.5606: 5s - loss: 123.0522 - mae: 4.563 - - - ETA: 1s - loss:  - ETA: 0s - loss: 122.7356 - mae: \n",
      "Epoch 58/100\n",
      "6707/6707 [==============================] - 12s 2ms/step - loss: 122.1976 - mae: 4.5478\n",
      "Epoch 59/100\n"
     ]
    },
    {
     "name": "stdout",
     "output_type": "stream",
     "text": [
      "6707/6707 [==============================] - 12s 2ms/step - loss: 121.2934 - mae: 4.5288: 1s - loss: 121.74 - ETA: 1s - loss: 12\n",
      "Epoch 60/100\n",
      "6707/6707 [==============================] - 12s 2ms/step - loss: 118.2753 - mae: 4.4783: 0s - loss: 117.9866 \n",
      "Epoch 61/100\n",
      "6707/6707 [==============================] - 12s 2ms/step - loss: 120.1440 - mae: 4.5175: 10s  - ETA: 10s - l - ETA: 5s - loss: 119 - ETA: 2s - loss: - ETA: 1s - loss: 120.2384  - ETA: 0s - loss: 119.52\n",
      "Epoch 62/100\n",
      "6707/6707 [==============================] - 12s 2ms/step - loss: 120.9955 - mae: 4.5131\n",
      "Epoch 63/100\n",
      "6707/6707 [==============================] - 12s 2ms/step - loss: 119.7849 - mae: 4.4955TA: \n",
      "Epoch 64/100\n",
      "6707/6707 [==============================] - 11s 2ms/step - loss: 118.4406 - mae: 4.4781: 1s - loss: 118.1258 - mae: 4. - ETA: 1s \n",
      "Epoch 65/100\n",
      "6707/6707 [==============================] - 11s 2ms/step - loss: 116.6611 - mae: 4.4197: 5s - loss: 114.1804 - ETA: 0s - loss: 11\n",
      "Epoch 66/100\n",
      "6707/6707 [==============================] - 11s 2ms/step - loss: 119.6396 - mae: 4.4946: 3s - loss: 118.3059 - mae - ETA: 3s - loss: 118.0558 - mae -  - ETA: 0s - loss: 119.8\n",
      "Epoch 67/100\n",
      "6707/6707 [==============================] - 11s 2ms/step - loss: 116.9853 - mae: 4.3993: 7s - loss: 1 - ETA - ETA: 3s  - ETA: 1s\n",
      "Epoch 68/100\n",
      "6707/6707 [==============================] - 11s 2ms/step - loss: 116.7963 - mae: 4.4324: 0s - loss: 116.1817 - mae: 4.4 - ETA: 0s - loss: 116.0446 \n",
      "Epoch 69/100\n",
      "6707/6707 [==============================] - 11s 2ms/step - loss: 116.6180 - mae: 4.4124: 4s - loss: 116.2701 - mae: 4 - ETA: - ETA: 3s - loss: 117.1447 - mae: 4.4 - ETA: 2s - loss: 116.84 - ETA: 2s - loss: 115.9977 - ma - ETA: \n",
      "Epoch 70/100\n",
      "6707/6707 [==============================] - 11s 2ms/step - loss: 118.4705 - mae: 4.4499: 5s -  - ETA: 2s -  - ETA: 0s - loss: 11\n",
      "Epoch 71/100\n",
      "6707/6707 [==============================] - 11s 2ms/step - loss: 116.0525 - mae: 4.4053\n",
      "Epoch 72/100\n",
      "6707/6707 [==============================] - 11s 2ms/step - loss: 115.8666 - mae: 4.4039: 4s - loss: 115.5584 - - ETA: 3s - loss: 115. - ETA: 2s - loss: 115.7466 - - ETA: 2s - loss: 115.8 - ETA: 1s -\n",
      "Epoch 73/100\n",
      "6707/6707 [==============================] - 11s 2ms/step - loss: 115.7691 - mae: 4.4012\n",
      "Epoch 74/100\n",
      "6707/6707 [==============================] - 11s 2ms/step - loss: 114.9591 - mae: 4.3879: 5s - loss: 114.8845 - mae: 4 - ETA: 5s \n",
      "Epoch 75/100\n",
      "6707/6707 [==============================] - 11s 2ms/step - loss: 115.0450 - mae: 4.3797: 5s - loss: 115.5955  - ETA: 5s - loss:  - ETA: 4s - loss: 115.1 - ETA: 3s - loss:  - ETA: 2s - loss: 115.6717 -  - ETA: 1s\n",
      "Epoch 76/100\n",
      "6707/6707 [==============================] - 11s 2ms/step - loss: 115.6010 - mae: 4.4000: 0s - loss: 114.6996  - ETA: 0s - loss: 114.2372 - mae\n",
      "Epoch 77/100\n",
      "6707/6707 [==============================] - 11s 2ms/step - loss: 116.2203 - mae: 4.4081: 3s - loss: 114.2987 - - ETA: 2s - loss: 114.8284 - - ETA: 2s - loss: 115.14 - ETA: 1s -\n",
      "Epoch 78/100\n",
      "6707/6707 [==============================] - 11s 2ms/step - loss: 113.9322 - mae: 4.3521: 10s - loss: 11 - ETA: 9s - loss: 115.20 - ETA: 6s - loss: 113.085 - ETA: 1s - loss: 113.6953 - ma - ETA: 1s - los - ETA: 0s - loss: 114.0582 - mae: 4.\n",
      "Epoch 79/100\n",
      "6707/6707 [==============================] - 11s 2ms/step - loss: 112.8253 - mae: 4.3261: 4s - loss: 111.9455 - m - ETA: 3s - loss: 111.8904 - mae: 4. - ETA: 3s - loss: 112.1560 - mae: 4.32 - ETA: 3s - loss: 112.0239  - ETA: 2s - loss: 1 - ETA: 1s - loss: 112.6950 - mae: - ETA: 1s - l\n",
      "Epoch 80/100\n",
      "6707/6707 [==============================] - 11s 2ms/step - loss: 112.4946 - mae: 4.3222: 5s - loss: 110.7894 - mae: 4.29 - ETA: 4s - loss: 110.6 - ETA: 4s - loss: 111 - ETA: 3s - loss: 111.4533 - ma - ETA: 2s - loss: 111.0294 - mae: - ETA: 2s - loss: 111.6392 - ETA: 1s - - ETA: 0s - loss: 112.5673 - mae: 4.\n",
      "Epoch 81/100\n",
      "6707/6707 [==============================] - 11s 2ms/step - loss: 113.0008 - mae: 4.3542: 0s - loss: 113.1056 - mae: 4.355\n",
      "Epoch 82/100\n",
      "6707/6707 [==============================] - 11s 2ms/step - loss: 112.7552 - mae: 4.3234: 0s - loss: 112.6180 - m - ETA: 0s - loss: 112.7722 - mae: 4.3\n",
      "Epoch 83/100\n",
      "6707/6707 [==============================] - 11s 2ms/step - loss: 111.7132 - mae: 4.3128E - ETA: 3s - loss:  - ETA: 0s - loss: 111.4697 - mae: 4.30\n",
      "Epoch 84/100\n",
      "6707/6707 [==============================] - 11s 2ms/step - loss: 112.4661 - mae: 4.3172: 6s - loss: 111.4242 - mae: - ETA: 5s - loss: 111.7789 - mae: 4.31 - ETA: 5s -\n",
      "Epoch 85/100\n",
      "6707/6707 [==============================] - 13s 2ms/step - loss: 112.1569 - mae: 4.3159\n",
      "Epoch 86/100\n",
      "6707/6707 [==============================] - 11s 2ms/step - loss: 111.7245 - mae: 4.2962: 2s - \n",
      "Epoch 87/100\n",
      "6707/6707 [==============================] - 11s 2ms/step - loss: 112.9007 - mae: 4.3226: 4s - loss: 113.6179 - m - ETA: 3s - loss: \n",
      "Epoch 88/100\n",
      "6707/6707 [==============================] - 12s 2ms/step - loss: 111.9927 - mae: 4.3076: 1s - loss:\n",
      "Epoch 89/100\n",
      "6707/6707 [==============================] - 11s 2ms/step - loss: 110.7430 - mae: 4.2810\n",
      "Epoch 90/100\n",
      "6707/6707 [==============================] - 11s 2ms/step - loss: 110.8686 - mae: 4.2834: 9s - loss: 124.2236 - mae: 4.46 - ETA: 9s - ETA: 6s - loss:  - ETA: 5s - loss: 109\n",
      "Epoch 91/100\n",
      "6707/6707 [==============================] - 11s 2ms/step - loss: 111.5355 - mae: 4.3023 ETA: 0s - loss: 111.4208 - mae: 4 - ETA: 0s - loss: 111.8162 - mae: \n",
      "Epoch 92/100\n",
      "6707/6707 [==============================] - 10s 2ms/step - loss: 110.8166 - mae: 4.2824\n",
      "Epoch 93/100\n",
      "6707/6707 [==============================] - 11s 2ms/step - loss: 112.4035 - mae: 4.3071\n",
      "Epoch 94/100\n",
      "6707/6707 [==============================] - 10s 2ms/step - loss: 110.0627 - mae: 4.2608: 0s - loss: 109.7263 - mae: \n",
      "Epoch 95/100\n",
      "6707/6707 [==============================] - 10s 1ms/step - loss: 111.9888 - mae: 4.2858: 7s - \n",
      "Epoch 96/100\n",
      "6707/6707 [==============================] - 11s 2ms/step - loss: 110.3929 - mae: 4.2683\n",
      "Epoch 97/100\n",
      "6707/6707 [==============================] - 10s 1ms/step - loss: 109.2135 - mae: 4.2531: 0s - loss: 109.5588 - mae\n",
      "Epoch 98/100\n",
      "6707/6707 [==============================] - 11s 2ms/step - loss: 111.8342 - mae: 4.2915TA - ETA: 0s - loss: 111.9637 - mae: 4\n",
      "Epoch 99/100\n",
      "6707/6707 [==============================] - 10s 1ms/step - loss: 110.4697 - mae: 4.2651\n",
      "Epoch 100/100\n",
      "6707/6707 [==============================] - 10s 1ms/step - loss: 109.8086 - mae: 4.2489: 6 - ETA: 5s - loss: 109.5117 - mae: 4.2 - ETA: 4s - l - ETA: 1s - loss: 109.7583 - mae: 4 - ETA: 1s - loss\n"
     ]
    }
   ],
   "source": [
    "#Compile and train\n",
    "model.compile(optimizer=Adam(lr=0.0001), \n",
    "              loss='mse',\n",
    "              metrics=['mae'])\n",
    "\n",
    "history = model.fit(input_arry, output_arry, epochs=100, batch_size=64)"
   ]
  },
  {
   "cell_type": "code",
   "execution_count": 84,
   "metadata": {},
   "outputs": [
    {
     "data": {
      "image/png": "[encoded data removed]",
      "text/plain": [
       "<Figure size 432x288 with 1 Axes>"
      ]
     },
     "metadata": {
      "needs_background": "light"
     },
     "output_type": "display_data"
    }
   ],
   "source": [
    "plt.plot(history.history['mae'])\n",
    "# plt.plot(history.history['val_acc'])\n",
    "plt.title('Mean Abs Error per Epoch')\n",
    "plt.ylabel('Mean Absolute Error')\n",
    "plt.xlabel('epoch')\n",
    "plt.legend(['train'], loc='upper left')\n",
    "plt.show()"
   ]
  },
  {
   "cell_type": "code",
   "execution_count": null,
   "metadata": {},
   "outputs": [],
   "source": []
  }
 ],
 "metadata": {
  "kernelspec": {
   "display_name": "Python 3",
   "language": "python",
   "name": "python3"
  },
  "language_info": {
   "codemirror_mode": {
    "name": "ipython",
    "version": 3
   },
   "file_extension": ".py",
   "mimetype": "text/x-python",
   "name": "python",
   "nbconvert_exporter": "python",
   "pygments_lexer": "ipython3",
   "version": "3.7.6"
  }
 },
 "nbformat": 4,
 "nbformat_minor": 4
}
