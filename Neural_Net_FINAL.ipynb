{
 "cells": [
  {
   "cell_type": "markdown",
   "metadata": {},
   "source": [
    "# Neural Network"
   ]
  },
  {
   "cell_type": "markdown",
   "metadata": {},
   "source": [
    "## I. Import and Load Data"
   ]
  },
  {
   "cell_type": "markdown",
   "metadata": {},
   "source": [
    "Training Data was pulled from two sources. \n",
    "\n",
    "Solar Irradience data was pulled from the [National Solar Radiation Database](https://nsrdb.nrel.gov/). Pointwise GHI, DHI, and DNI data is returned hourly for an entire calendar year. All irradience values are recorded in w/m^2. Location is for a latitude longitude coordinate pair. Coordinates were chosen based on the locations of [U.S. Climate Reference Network (USCRN)](https://www.ncdc.noaa.gov/crn/) monitoring stations. This is because the USCRN has real time measurements of GHI, which can be used to make real-time predictions of DHI. The NRSDB is not updated so frequently. \n",
    "\n",
    "The production prediction module in the [omf](https://github.com/dpinney/omf/wiki) uses GHI measuremeants read from USCRN. \n",
    "\n",
    "In addition to solar irradience data, this project uses other weather data such as cloud cover, air pressure, and season data to try and model the relationship between GHI and DHI. For that, this project pulls data from [darksky](https://darksky.net/dev). And that data is combined with the NRSDB data for testing."
   ]
  },
  {
   "cell_type": "markdown",
   "metadata": {},
   "source": [
    "Please NOTE! In this notebook, the directory \"Testing_Data\" does not mean it is solely Testing Data. Rather for this Neural network, it contains both testing and training data. This is because the neural network requires much more data to train than regression. So much of the same data used to test the regression model is now being used to train the neural network. The True training data for the neural network is in \"Proudction_Test\", where the data is from USCRN and combined with data combed from darksky."
   ]
  },
  {
   "cell_type": "code",
   "execution_count": 1,
   "metadata": {},
   "outputs": [],
   "source": [
    "import pandas as pd\n",
    "import os\n",
    "import numpy as np\n",
    "from glob import glob\n",
    "from matplotlib import pyplot as plt\n",
    "import seaborn as sns\n",
    "from random import randint\n",
    "from glob import glob\n",
    "from math import sin, cos, asin, acos, sqrt"
   ]
  },
  {
   "cell_type": "code",
   "execution_count": 2,
   "metadata": {},
   "outputs": [],
   "source": [
    "import tensorflow as tf\n",
    "from tensorflow import keras\n",
    "from tensorflow.keras import layers"
   ]
  },
  {
   "cell_type": "code",
   "execution_count": 3,
   "metadata": {},
   "outputs": [],
   "source": [
    "def featureHistograms(df, features=['GHI','DHI','Cloud Cover'],):\n",
    "    sns.set_style('darkgrid')\n",
    "    fig, axs = plt.subplots(ncols=len(features))\n",
    "    for i in range(len(features)):\n",
    "        sns.distplot(df[features[i]], ax=axs[i])"
   ]
  },
  {
   "cell_type": "code",
   "execution_count": 4,
   "metadata": {},
   "outputs": [],
   "source": [
    "#Lets try and make a neural network"
   ]
  },
  {
   "cell_type": "code",
   "execution_count": 5,
   "metadata": {},
   "outputs": [
    {
     "name": "stdout",
     "output_type": "stream",
     "text": [
      "/Users/tuomastalvitie/Documents/Diffuse:Direct/solarIrradiencePredictor/Testing_Data\n"
     ]
    }
   ],
   "source": [
    "#Get 2018 Data\n",
    "_Curr_Dir = os.getcwd()\n",
    "_Testing_Data_Dir = os.path.join(_Curr_Dir, 'Testing_Data')\n",
    "print(_Testing_Data_Dir)"
   ]
  },
  {
   "cell_type": "code",
   "execution_count": 6,
   "metadata": {},
   "outputs": [
    {
     "data": {
      "text/html": [
       "<div>\n",
       "<style scoped>\n",
       "    .dataframe tbody tr th:only-of-type {\n",
       "        vertical-align: middle;\n",
       "    }\n",
       "\n",
       "    .dataframe tbody tr th {\n",
       "        vertical-align: top;\n",
       "    }\n",
       "\n",
       "    .dataframe thead th {\n",
       "        text-align: right;\n",
       "    }\n",
       "</style>\n",
       "<table border=\"1\" class=\"dataframe\">\n",
       "  <thead>\n",
       "    <tr style=\"text-align: right;\">\n",
       "      <th></th>\n",
       "      <th>Year</th>\n",
       "      <th>Month</th>\n",
       "      <th>Day</th>\n",
       "      <th>Hour</th>\n",
       "      <th>Minute</th>\n",
       "      <th>Temperature</th>\n",
       "      <th>Clearsky DHI</th>\n",
       "      <th>Clearsky DNI</th>\n",
       "      <th>Clearsky GHI</th>\n",
       "      <th>Cloud Type</th>\n",
       "      <th>...</th>\n",
       "      <th>GHI</th>\n",
       "      <th>Relative Humidity</th>\n",
       "      <th>Solar Zenith Angle</th>\n",
       "      <th>Surface Albedo</th>\n",
       "      <th>Pressure</th>\n",
       "      <th>Precipitable Water</th>\n",
       "      <th>Wind Direction</th>\n",
       "      <th>Wind Speed</th>\n",
       "      <th>timestamps</th>\n",
       "      <th>Cloud Cover</th>\n",
       "    </tr>\n",
       "  </thead>\n",
       "  <tbody>\n",
       "    <tr>\n",
       "      <th>0</th>\n",
       "      <td>2018</td>\n",
       "      <td>1</td>\n",
       "      <td>1</td>\n",
       "      <td>0</td>\n",
       "      <td>30</td>\n",
       "      <td>-22.5</td>\n",
       "      <td>0</td>\n",
       "      <td>0</td>\n",
       "      <td>0</td>\n",
       "      <td>8</td>\n",
       "      <td>...</td>\n",
       "      <td>0</td>\n",
       "      <td>62.75</td>\n",
       "      <td>103.76</td>\n",
       "      <td>0.69</td>\n",
       "      <td>978</td>\n",
       "      <td>0.1</td>\n",
       "      <td>296</td>\n",
       "      <td>2.1</td>\n",
       "      <td>1514739600</td>\n",
       "      <td>0.0</td>\n",
       "    </tr>\n",
       "    <tr>\n",
       "      <th>1</th>\n",
       "      <td>2018</td>\n",
       "      <td>1</td>\n",
       "      <td>1</td>\n",
       "      <td>1</td>\n",
       "      <td>30</td>\n",
       "      <td>-23.1</td>\n",
       "      <td>0</td>\n",
       "      <td>0</td>\n",
       "      <td>0</td>\n",
       "      <td>0</td>\n",
       "      <td>...</td>\n",
       "      <td>0</td>\n",
       "      <td>66.39</td>\n",
       "      <td>114.24</td>\n",
       "      <td>0.69</td>\n",
       "      <td>978</td>\n",
       "      <td>0.1</td>\n",
       "      <td>287</td>\n",
       "      <td>2.2</td>\n",
       "      <td>1514743200</td>\n",
       "      <td>0.0</td>\n",
       "    </tr>\n",
       "    <tr>\n",
       "      <th>2</th>\n",
       "      <td>2018</td>\n",
       "      <td>1</td>\n",
       "      <td>1</td>\n",
       "      <td>2</td>\n",
       "      <td>30</td>\n",
       "      <td>-23.6</td>\n",
       "      <td>0</td>\n",
       "      <td>0</td>\n",
       "      <td>0</td>\n",
       "      <td>8</td>\n",
       "      <td>...</td>\n",
       "      <td>0</td>\n",
       "      <td>69.34</td>\n",
       "      <td>125.01</td>\n",
       "      <td>0.69</td>\n",
       "      <td>978</td>\n",
       "      <td>0.1</td>\n",
       "      <td>283</td>\n",
       "      <td>2.3</td>\n",
       "      <td>1514746800</td>\n",
       "      <td>0.0</td>\n",
       "    </tr>\n",
       "    <tr>\n",
       "      <th>3</th>\n",
       "      <td>2018</td>\n",
       "      <td>1</td>\n",
       "      <td>1</td>\n",
       "      <td>3</td>\n",
       "      <td>30</td>\n",
       "      <td>-23.9</td>\n",
       "      <td>0</td>\n",
       "      <td>0</td>\n",
       "      <td>0</td>\n",
       "      <td>8</td>\n",
       "      <td>...</td>\n",
       "      <td>0</td>\n",
       "      <td>71.25</td>\n",
       "      <td>135.74</td>\n",
       "      <td>0.69</td>\n",
       "      <td>978</td>\n",
       "      <td>0.1</td>\n",
       "      <td>283</td>\n",
       "      <td>2.3</td>\n",
       "      <td>1514750400</td>\n",
       "      <td>0.0</td>\n",
       "    </tr>\n",
       "    <tr>\n",
       "      <th>4</th>\n",
       "      <td>2018</td>\n",
       "      <td>1</td>\n",
       "      <td>1</td>\n",
       "      <td>4</td>\n",
       "      <td>30</td>\n",
       "      <td>-24.1</td>\n",
       "      <td>0</td>\n",
       "      <td>0</td>\n",
       "      <td>0</td>\n",
       "      <td>8</td>\n",
       "      <td>...</td>\n",
       "      <td>0</td>\n",
       "      <td>72.87</td>\n",
       "      <td>145.93</td>\n",
       "      <td>0.69</td>\n",
       "      <td>979</td>\n",
       "      <td>0.1</td>\n",
       "      <td>284</td>\n",
       "      <td>2.3</td>\n",
       "      <td>1514754000</td>\n",
       "      <td>0.0</td>\n",
       "    </tr>\n",
       "  </tbody>\n",
       "</table>\n",
       "<p>5 rows × 24 columns</p>\n",
       "</div>"
      ],
      "text/plain": [
       "   Year  Month  Day  Hour  Minute  Temperature  Clearsky DHI  Clearsky DNI  \\\n",
       "0  2018      1    1     0      30        -22.5             0             0   \n",
       "1  2018      1    1     1      30        -23.1             0             0   \n",
       "2  2018      1    1     2      30        -23.6             0             0   \n",
       "3  2018      1    1     3      30        -23.9             0             0   \n",
       "4  2018      1    1     4      30        -24.1             0             0   \n",
       "\n",
       "   Clearsky GHI  Cloud Type  ...  GHI  Relative Humidity  Solar Zenith Angle  \\\n",
       "0             0           8  ...    0              62.75              103.76   \n",
       "1             0           0  ...    0              66.39              114.24   \n",
       "2             0           8  ...    0              69.34              125.01   \n",
       "3             0           8  ...    0              71.25              135.74   \n",
       "4             0           8  ...    0              72.87              145.93   \n",
       "\n",
       "   Surface Albedo  Pressure  Precipitable Water  Wind Direction  Wind Speed  \\\n",
       "0            0.69       978                 0.1             296         2.1   \n",
       "1            0.69       978                 0.1             287         2.2   \n",
       "2            0.69       978                 0.1             283         2.3   \n",
       "3            0.69       978                 0.1             283         2.3   \n",
       "4            0.69       979                 0.1             284         2.3   \n",
       "\n",
       "   timestamps  Cloud Cover  \n",
       "0  1514739600          0.0  \n",
       "1  1514743200          0.0  \n",
       "2  1514746800          0.0  \n",
       "3  1514750400          0.0  \n",
       "4  1514754000          0.0  \n",
       "\n",
       "[5 rows x 24 columns]"
      ]
     },
     "execution_count": 6,
     "metadata": {},
     "output_type": "execute_result"
    }
   ],
   "source": [
    "pd.read_csv(os.path.join(_Testing_Data_Dir, 'psm_south_dakota', 'psm_testing_data2018.csv')).head()"
   ]
  },
  {
   "cell_type": "code",
   "execution_count": 7,
   "metadata": {},
   "outputs": [
    {
     "data": {
      "image/png": "[encoded data removed]",
      "text/plain": [
       "<Figure size 432x288 with 3 Axes>"
      ]
     },
     "metadata": {},
     "output_type": "display_data"
    }
   ],
   "source": [
    "df = pd.read_csv(os.path.join(_Testing_Data_Dir, 'psm_south_dakota', 'psm_testing_data2018.csv'))\n",
    "featureHistograms(df)"
   ]
  },
  {
   "cell_type": "markdown",
   "metadata": {},
   "source": [
    "## II. Features and Data Engineering"
   ]
  },
  {
   "cell_type": "markdown",
   "metadata": {},
   "source": [
    "So we have all the above variables....Which ones do we think would work best in a NN?"
   ]
  },
  {
   "cell_type": "markdown",
   "metadata": {},
   "source": [
    "So we want to predict DHI, at the very least. Maybe DNI as well. What can we use to predict? \n",
    "[More Information on GHI, DHI, and DNI here!](https://firstgreenconsulting.wordpress.com/2012/04/26/differentiate-between-the-dni-dhi-and-ghi/#:~:text=Global%20Horizontal%20Irradiance%20(GHI)%20is,Diffuse%20Horizontal%20Irradiance%20(DHI).)\n",
    "\n",
    "But a useful relationship to keep in mind is:\n",
    "\n",
    "*Global Horizontal (GHI) = Direct Normal (DNI) X cos(θ) + Diffuse Horizontal (DHI)*\n",
    "\n",
    "**GHI** is a must, as it is the primary metric our sensors will feed into such a model. \n",
    "\n",
    "**Cloud cover** is also essential, as cloud cover is one of the primary factors in how much direct normal solar irradience is diffused.\n",
    "\n",
    "**Solar Zenith Angle** is important as it dictates how much irradience is direct normal (DNI)\n",
    "\n",
    "Another useful relatinship to capture is **time**. We are given timestamps in addition to month, day, year, second, hour and minute variables. Timestamps and/or a combination between day + month would not be super useful, as it would overfit to the day. \n",
    "A more useful relationship would be to capture time of day. This is useful because in a non - featurized dataset, many GHI readings will read '0', simply because it is dark out. We are primarily concerned about the relationship between GHI and DHI, therefore factoring in readings when there is no sunlight to begin with could be confounding. Therefore adding in **minute** and **hour** variables in the input vector could adequately capture this relationship. \n",
    "\n",
    "Another solution would be to featurize this dataset, whereby we create a seperate feature which is a combination of day + time. OR, we could completly remove the nighttime entries entirely to ensure we only are concerned with readings that occur when the sun is out. However this occurs on a gradient, because sunlight is defracted even after sunset. So for now, let's just fit the model on the unedited dataset. \n",
    "\n",
    "Another good idea is to create a **season** variable, which is a dummy variable for each season (Fall, Winter, Spring, Summer), as different amounts of sunlight occur during each. The problem is that, for different locations on earth, seasonality could be inversely correlated with sunlight and thus GHI, DHI, and DNI. \n",
    "\n",
    "To keep the model as general as possible, we will exclude seasonality. \n",
    "\n",
    "Another useful metric is **Pressure**. According to the renowned [DISC model](https://www.nrel.gov/docs/legosti/old/3087.pdf), air pressure is included as a proxy for *air mass*, which is the amount of atmosphere solar rays have to travel through. The larger the solar mass, the more solar rays are scattered. \n",
    "\n"
   ]
  },
  {
   "cell_type": "markdown",
   "metadata": {},
   "source": [
    "### Loading the Data"
   ]
  },
  {
   "cell_type": "markdown",
   "metadata": {},
   "source": [
    "Get training arrays and combine them into a useable vector\n",
    "\n",
    "-Useful params:  \n",
    "-Hours  \n",
    "-Cloud Cover  \n",
    "-GHI  \n",
    "-Solar Zenith  \n",
    "-Pressure  \n",
    "\n",
    "\n",
    "Training Locations with Lat/Lon:  \n",
    "-**Reliance, South Dakota** (43.85, -99.50) from 2010-2018  \n",
    "-**Everglades, FL** (26.004157 ,-81.119239) from 2010-2018  \n",
    "-**Spokane, WA** (47.41,-117.52) from 2010-2018  \n",
    "-**Austin, TX** (30.581736,-98.024098) from 2010-2018  \n",
    "-**Charlottesville, VA** (38.0086,-78.4532) from 2010-2018  "
   ]
  },
  {
   "cell_type": "markdown",
   "metadata": {},
   "source": [
    "Please NOTE! In this notebook, the directory \"Testing_Data\" does not mean it is solely Testing Data. Rather for this Neural network, it contains both testing and training data. \n",
    "This is because the neural network requires much more data to train than regression. So much of the same data used to test the regression model is now being used to train the neural network. The True training data for the neural network is in \"Proudction_Test\", where the data is from USCRN and combined with data combed from darksky. "
   ]
  },
  {
   "cell_type": "code",
   "execution_count": 8,
   "metadata": {},
   "outputs": [],
   "source": [
    "def combine_training_arrays(df, input_arry, output_arr, dni_arr):\n",
    "    ghi  = df['GHI'].values\n",
    "    cloud_cover = df['Cloud Cover'].values\n",
    "    hours = df['Hour'].values\n",
    "    minutes = df['Minute'].values\n",
    "    solar_zenith = df['Solar Zenith Angle'].values\n",
    "    pressure = df['Pressure'].values\n",
    "    dhi = df['DHI'].values\n",
    "    dni = df['DNI'].values\n",
    "    #Sanity check, should all be 8760\n",
    "    assert len(pressure)==len(solar_zenith)==len(minutes)==len(hours)==len(cloud_cover)==len(ghi)==len(dni)==8760, \"len of input array not 8760\"\n",
    "    ar = np.array([ghi, cloud_cover, hours, minutes, solar_zenith, pressure]).T\n",
    "    input_arry = np.concatenate((input_arry, ar))\n",
    "    output_arr = np.concatenate((output_arr, np.array(dhi).T))\n",
    "    dni_arr = np.concatenate((dni_arr, np.array(dni).T))\n",
    "    return input_arry, output_arr, dni_arr\n"
   ]
  },
  {
   "cell_type": "code",
   "execution_count": 9,
   "metadata": {},
   "outputs": [
    {
     "name": "stdout",
     "output_type": "stream",
     "text": [
      "[]\n",
      "[]\n",
      "[]\n",
      "394200 (394200, 6)\n",
      "394200 (394200,)\n",
      "394200 (394200,)\n"
     ]
    }
   ],
   "source": [
    "# test_files = ['Murphey_ID', 'OldTown_ME', 'Quinault_WA', 'Lincoln_NE', 'SanDiego_CA', 'Boulder_CO', 'Miami_FL', 'outer_banks']\n",
    "training_files = ['psm_south_dakota', 'Everglades_FL', 'Spokane_WA', 'Austin_TX', 'Charlottesville']\n",
    "input_size = 6\n",
    "input_arry = np.array([], dtype=np.float64).reshape(0,input_size)\n",
    "output_arry = np.array([], dtype=np.float64)\n",
    "dni_arr = np.array([], dtype=np.float64)\n",
    "print(input_arry)\n",
    "print(output_arry)\n",
    "print(dni_arr)\n",
    "for directory in training_files:\n",
    "    for file in glob(_Testing_Data_Dir+'/'+directory+'/psm_*'):\n",
    "        df = pd.read_csv(file)\n",
    "        input_arry, output_arry, dni_arr = combine_training_arrays(df, input_arry, output_arry, dni_arr)\n",
    "print(len(input_arry), input_arry.shape)\n",
    "print(len(output_arry), output_arry.shape)\n",
    "print(len(dni_arr), dni_arr.shape)"
   ]
  },
  {
   "cell_type": "code",
   "execution_count": 10,
   "metadata": {},
   "outputs": [
    {
     "name": "stdout",
     "output_type": "stream",
     "text": [
      "630720\n"
     ]
    }
   ],
   "source": [
    "#sanity check, make sure 8760*number of files we look at == 429240\n",
    "count = 0\n",
    "for path in glob(_Testing_Data_Dir+'/*'):\n",
    "    for file in glob(path+'/psm_'+'*'):\n",
    "        count+=1\n",
    "print(count*8760)"
   ]
  },
  {
   "cell_type": "markdown",
   "metadata": {},
   "source": [
    "# III. Training"
   ]
  },
  {
   "cell_type": "code",
   "execution_count": 19,
   "metadata": {},
   "outputs": [],
   "source": [
    "from tensorflow.keras.optimizers import Adam"
   ]
  },
  {
   "cell_type": "code",
   "execution_count": 12,
   "metadata": {},
   "outputs": [],
   "source": [
    "keras.backend.clear_session()\n",
    "tf.keras.backend.clear_session()"
   ]
  },
  {
   "cell_type": "code",
   "execution_count": 13,
   "metadata": {},
   "outputs": [],
   "source": [
    "#Epoch size of 50 seems reasonable"
   ]
  },
  {
   "cell_type": "code",
   "execution_count": 14,
   "metadata": {},
   "outputs": [
    {
     "data": {
      "text/plain": [
       "<function tensorflow.python.framework.ops.reset_default_graph()>"
      ]
     },
     "execution_count": 14,
     "metadata": {},
     "output_type": "execute_result"
    }
   ],
   "source": [
    "keras.backend.clear_session()\n",
    "tf.keras.backend.clear_session()\n",
    "tf.compat.v1.reset_default_graph"
   ]
  },
  {
   "cell_type": "code",
   "execution_count": 15,
   "metadata": {},
   "outputs": [],
   "source": [
    "keras.backend.clear_session()\n",
    "tf.keras.backend.clear_session()"
   ]
  },
  {
   "cell_type": "code",
   "execution_count": 16,
   "metadata": {},
   "outputs": [],
   "source": [
    "#make RMSE a custom metric"
   ]
  },
  {
   "cell_type": "code",
   "execution_count": 17,
   "metadata": {},
   "outputs": [],
   "source": [
    "# def rmse(y_true, y_pred):\n",
    "#     return keras.backend.sqrt(keras.backend.mean(keras.backend.square(y_pred - y_true), axis=-1))"
   ]
  },
  {
   "cell_type": "code",
   "execution_count": null,
   "metadata": {},
   "outputs": [],
   "source": []
  },
  {
   "cell_type": "code",
   "execution_count": 166,
   "metadata": {},
   "outputs": [],
   "source": [
    "model = keras.Sequential()\n",
    "model.add(layers.Dense(300, activation=\"relu\"))\n",
    "model.add(layers.Dense(200, activation=\"relu\"))\n",
    "model.add(layers.Dense(100, activation=\"relu\"))\n",
    "model.add(layers.Dense(50, activation=\"relu\"))\n",
    "model.add(layers.Dense(25, activation=\"relu\"))\n",
    "model.add(layers.Dense(1, activation='relu'))"
   ]
  },
  {
   "cell_type": "code",
   "execution_count": 167,
   "metadata": {},
   "outputs": [
    {
     "name": "stdout",
     "output_type": "stream",
     "text": [
      "Epoch 1/100\n",
      "6160/6160 [==============================] - 12s 2ms/step - loss: 1530.8229 - mae: 17.1695 - root_mean_squared_error: 39.1257\n",
      "Epoch 2/100\n",
      "6160/6160 [==============================] - 12s 2ms/step - loss: 432.5455 - mae: 9.3569 - root_mean_squared_error: 20.7977\n",
      "Epoch 3/100\n",
      "6160/6160 [==============================] - 17s 3ms/step - loss: 377.7376 - mae: 8.5686 - root_mean_squared_error: 19.4355\n",
      "Epoch 4/100\n",
      "6160/6160 [==============================] - 11s 2ms/step - loss: 357.1304 - mae: 8.2659 - root_mean_squared_error: 18.8979\n",
      "Epoch 5/100\n",
      "6160/6160 [==============================] - 11s 2ms/step - loss: 324.2262 - mae: 7.8048 - root_mean_squared_error: 18.0063\n",
      "Epoch 6/100\n",
      "6160/6160 [==============================] - 13s 2ms/step - loss: 295.1676 - mae: 7.4062 - root_mean_squared_error: 17.1804\n",
      "Epoch 7/100\n",
      "6160/6160 [==============================] - 14s 2ms/step - loss: 270.8140 - mae: 7.0737 - root_mean_squared_error: 16.4564\n",
      "Epoch 8/100\n",
      "6160/6160 [==============================] - 14s 2ms/step - loss: 240.3070 - mae: 6.6204 - root_mean_squared_error: 15.5018\n",
      "Epoch 9/100\n",
      "6160/6160 [==============================] - 12s 2ms/step - loss: 216.9798 - mae: 6.2475 - root_mean_squared_error: 14.7302\n",
      "Epoch 10/100\n",
      "6160/6160 [==============================] - 12s 2ms/step - loss: 197.6031 - mae: 5.9426 - root_mean_squared_error: 14.0571\n",
      "Epoch 11/100\n",
      "6160/6160 [==============================] - ETA: 0s - loss: 184.3885 - mae: 5.7336 - root_mean_squared_error: 13.5790 ETA: 2s - loss: 186 - ETA: 1s - loss: 184.6061 - ma - 11s 2ms/step - loss: 184.1301 - mae: 5.7302 - root_mean_squared_error: 13.5695\n",
      "Epoch 12/100\n",
      "6160/6160 [==============================] - 12s 2ms/step - loss: 183.2238 - mae: 5.7132 - root_mean_squared_error: 13.5360\n",
      "Epoch 13/100\n",
      "6160/6160 [==============================] - 15s 2ms/step - loss: 171.8363 - mae: 5.5246 - root_mean_squared_error: 13.1086\n",
      "Epoch 14/100\n",
      "6160/6160 [==============================] - 14s 2ms/step - loss: 169.1579 - mae: 5.4807 - root_mean_squared_error: 13.0061\n",
      "Epoch 15/100\n",
      "6160/6160 [==============================] - 15s 2ms/step - loss: 164.6013 - mae: 5.4065 - root_mean_squared_error: 12.8297\n",
      "Epoch 16/100\n",
      "6160/6160 [==============================] - 14s 2ms/step - loss: 161.8768 - mae: 5.3537 - root_mean_squared_error: 12.7231\n",
      "Epoch 17/100\n",
      "6160/6160 [==============================] - 14s 2ms/step - loss: 163.0336 - mae: 5.3884 - root_mean_squared_error: 12.7685\n",
      "Epoch 18/100\n",
      "6160/6160 [==============================] - 11s 2ms/step - loss: 158.2949 - mae: 5.2884 - root_mean_squared_error: 12.5815 1s - loss: 158.0293  - ETA: 0s - loss: 158.7038 - mae: 5.2899 - root_mean_square\n",
      "Epoch 19/100\n",
      "6160/6160 [==============================] - 12s 2ms/step - loss: 155.7256 - mae: 5.2465 - root_mean_squared_error: 12.4790\n",
      "Epoch 20/100\n",
      "6160/6160 [==============================] - 11s 2ms/step - loss: 152.1094 - mae: 5.1825 - root_mean_squared_error: 12.3333\n",
      "Epoch 21/100\n",
      "6160/6160 [==============================] - 11s 2ms/step - loss: 152.1299 - mae: 5.1741 - root_mean_squared_error: 12.3341\n",
      "Epoch 22/100\n",
      "6160/6160 [==============================] - 13s 2ms/step - loss: 151.8696 - mae: 5.1645 - root_mean_squared_error: 12.3235\n",
      "Epoch 23/100\n",
      "6160/6160 [==============================] - 11s 2ms/step - loss: 149.7323 - mae: 5.1285 - root_mean_squared_error: 12.2365\n",
      "Epoch 24/100\n",
      "6160/6160 [==============================] - 11s 2ms/step - loss: 149.0371 - mae: 5.1268 - root_mean_squared_error: 12.2081\n",
      "Epoch 25/100\n",
      "6160/6160 [==============================] - 11s 2ms/step - loss: 145.2186 - mae: 5.0508 - root_mean_squared_error: 12.0507\n",
      "Epoch 26/100\n",
      "6160/6160 [==============================] - 11s 2ms/step - loss: 146.1946 - mae: 5.0689 - root_mean_squared_error: 12.0911\n",
      "Epoch 27/100\n",
      "6160/6160 [==============================] - 14s 2ms/step - loss: 145.7104 - mae: 5.0575 - root_mean_squared_error: 12.0711\n",
      "Epoch 28/100\n",
      "6160/6160 [==============================] - 11s 2ms/step - loss: 144.1799 - mae: 5.0355 - root_mean_squared_error: 12.0075\n",
      "Epoch 29/100\n",
      "6160/6160 [==============================] - 11s 2ms/step - loss: 141.1764 - mae: 4.9749 - root_mean_squared_error: 11.8818\n",
      "Epoch 30/100\n",
      "6160/6160 [==============================] - 11s 2ms/step - loss: 142.3279 - mae: 5.0094 - root_mean_squared_error: 11.9301\n",
      "Epoch 31/100\n",
      "6160/6160 [==============================] - 11s 2ms/step - loss: 142.2747 - mae: 4.9978 - root_mean_squared_error: 11.9279 1s - loss: 142.1788 - mae: 5.0 - ETA: 0s - loss: 142.2379 - mae: 5.0077 - ro\n",
      "Epoch 32/100\n",
      "6160/6160 [==============================] - 13s 2ms/step - loss: 141.1377 - mae: 4.9612 - root_mean_squared_error: 11.8801\n",
      "Epoch 33/100\n",
      "6160/6160 [==============================] - 11s 2ms/step - loss: 140.1367 - mae: 4.9545 - root_mean_squared_error: 11.8379\n",
      "Epoch 34/100\n",
      "6160/6160 [==============================] - 12s 2ms/step - loss: 138.3098 - mae: 4.9217 - root_mean_squared_error: 11.7605 1s - loss: 137\n",
      "Epoch 35/100\n",
      "6160/6160 [==============================] - 11s 2ms/step - loss: 137.8193 - mae: 4.8874 - root_mean_squared_error: 11.7396\n",
      "Epoch 36/100\n",
      "6160/6160 [==============================] - 11s 2ms/step - loss: 135.8313 - mae: 4.8544 - root_mean_squared_error: 11.6547\n",
      "Epoch 37/100\n",
      "6160/6160 [==============================] - 14s 2ms/step - loss: 134.0805 - mae: 4.8255 - root_mean_squared_error: 11.5793 0s - loss: 134.6792 - mae:\n",
      "Epoch 38/100\n",
      "6160/6160 [==============================] - 11s 2ms/step - loss: 134.2234 - mae: 4.8214 - root_mean_squared_error: 11.5855 1s - loss: 134.3037 - mae: 4\n",
      "Epoch 39/100\n",
      "6160/6160 [==============================] - 11s 2ms/step - loss: 134.9204 - mae: 4.8525 - root_mean_squared_error: 11.6155\n",
      "Epoch 40/100\n",
      "6160/6160 [==============================] - 11s 2ms/step - loss: 131.4283 - mae: 4.7767 - root_mean_squared_error: 11.4642\n",
      "Epoch 41/100\n",
      "6160/6160 [==============================] - 11s 2ms/step - loss: 131.3305 - mae: 4.7806 - root_mean_squared_error: 11.4600 0s - loss: 131.8880 - mae: 4.7887 - root_mean_squa\n",
      "Epoch 42/100\n",
      "6160/6160 [==============================] - 12s 2ms/step - loss: 131.7946 - mae: 4.7866 - root_mean_squared_error: 11.4802\n",
      "Epoch 43/100\n",
      "6160/6160 [==============================] - 14s 2ms/step - loss: 128.0682 - mae: 4.7255 - root_mean_squared_error: 11.3167 0s - loss: 128.1529 - mae: 4.7273 - \n",
      "Epoch 44/100\n",
      "6160/6160 [==============================] - 15s 2ms/step - loss: 131.1796 - mae: 4.7692 - root_mean_squared_error: 11.4534\n",
      "Epoch 45/100\n",
      "6160/6160 [==============================] - 12s 2ms/step - loss: 128.0264 - mae: 4.7058 - root_mean_squared_error: 11.3149 1s - loss: 128.6554 - mae: 4.724\n",
      "Epoch 46/100\n",
      "6160/6160 [==============================] - 11s 2ms/step - loss: 129.9867 - mae: 4.7470 - root_mean_squared_error: 11.4012\n",
      "Epoch 47/100\n",
      "6160/6160 [==============================] - 14s 2ms/step - loss: 131.1988 - mae: 4.7681 - root_mean_squared_error: 11.4542\n",
      "Epoch 48/100\n",
      "6160/6160 [==============================] - 13s 2ms/step - loss: 128.1598 - mae: 4.7096 - root_mean_squared_error: 11.3208 0s - loss: 127.5217 - mae: 4.6985 - root\n",
      "Epoch 49/100\n",
      "6160/6160 [==============================] - 14s 2ms/step - loss: 130.4025 - mae: 4.7514 - root_mean_squared_error: 11.4194\n",
      "Epoch 50/100\n",
      "6160/6160 [==============================] - 12s 2ms/step - loss: 125.5899 - mae: 4.6578 - root_mean_squared_error: 11.2067\n",
      "Epoch 51/100\n",
      "6160/6160 [==============================] - 12s 2ms/step - loss: 129.0571 - mae: 4.7316 - root_mean_squared_error: 11.3603- ETA: 1s - loss:\n",
      "Epoch 52/100\n",
      "6160/6160 [==============================] - 14s 2ms/step - loss: 125.8911 - mae: 4.6734 - root_mean_squared_error: 11.2201 1s - loss: 125.2990 - mae: 4.6615 - \n",
      "Epoch 53/100\n",
      "6160/6160 [==============================] - 14s 2ms/step - loss: 126.5616 - mae: 4.6731 - root_mean_squared_error: 11.2500\n",
      "Epoch 54/100\n",
      "6160/6160 [==============================] - 15s 2ms/step - loss: 124.8772 - mae: 4.6389 - root_mean_squared_error: 11.1748\n",
      "Epoch 55/100\n",
      "6160/6160 [==============================] - 12s 2ms/step - loss: 125.4668 - mae: 4.6426 - root_mean_squared_error: 11.2012\n",
      "Epoch 56/100\n",
      "6160/6160 [==============================] - 14s 2ms/step - loss: 123.7962 - mae: 4.6258 - root_mean_squared_error: 11.1264 3s - loss: 124.7482 - mae: 4.6465 - root_mea - ETA: 3s - loss: 124\n",
      "Epoch 57/100\n",
      "6160/6160 [==============================] - 13s 2ms/step - loss: 123.4264 - mae: 4.6105 - root_mean_squared_error: 11.1097A: 10\n",
      "Epoch 58/100\n",
      "6160/6160 [==============================] - 14s 2ms/step - loss: 124.1514 - mae: 4.6300 - root_mean_squared_error: 11.1423\n",
      "Epoch 59/100\n",
      "6160/6160 [==============================] - 13s 2ms/step - loss: 122.8482 - mae: 4.6120 - root_mean_squared_error: 11.0837 1s - loss: 124.0168  - ETA: 0s - loss: 123.3159 - mae: 4.6\n",
      "Epoch 60/100\n",
      "6160/6160 [==============================] - 12s 2ms/step - loss: 123.5973 - mae: 4.6114 - root_mean_squared_error: 11.1174\n",
      "Epoch 61/100\n",
      "6160/6160 [==============================] - 14s 2ms/step - loss: 121.7622 - mae: 4.5687 - root_mean_squared_error: 11.0346\n",
      "Epoch 62/100\n",
      "6160/6160 [==============================] - 11s 2ms/step - loss: 122.3599 - mae: 4.5739 - root_mean_squared_error: 11.0616\n",
      "Epoch 63/100\n",
      "6160/6160 [==============================] - 12s 2ms/step - loss: 122.2879 - mae: 4.5868 - root_mean_squared_error: 11.0584\n",
      "Epoch 64/100\n",
      "6160/6160 [==============================] - 12s 2ms/step - loss: 122.9037 - mae: 4.5819 - root_mean_squared_error: 11.0862\n",
      "Epoch 65/100\n",
      "6160/6160 [==============================] - 12s 2ms/step - loss: 123.9118 - mae: 4.6020 - root_mean_squared_error: 11.1316 3s\n",
      "Epoch 66/100\n",
      "6160/6160 [==============================] - 14s 2ms/step - loss: 122.6086 - mae: 4.5884 - root_mean_squared_error: 11.0729\n",
      "Epoch 67/100\n",
      "6160/6160 [==============================] - 12s 2ms/step - loss: 120.1077 - mae: 4.5313 - root_mean_squared_error: 10.9594 0s - loss: 120.1155 - mae: 4.5318 - root_mean_squared_error:\n",
      "Epoch 68/100\n",
      "6160/6160 [==============================] - 12s 2ms/step - loss: 120.2931 - mae: 4.5321 - root_mean_squared_error: 10.9678\n",
      "Epoch 69/100\n",
      "6160/6160 [==============================] - 12s 2ms/step - loss: 121.4051 - mae: 4.5662 - root_mean_squared_error: 11.0184\n",
      "Epoch 70/100\n",
      "6160/6160 [==============================] - 13s 2ms/step - loss: 118.5556 - mae: 4.4933 - root_mean_squared_error: 10.8883\n",
      "Epoch 71/100\n",
      "6160/6160 [==============================] - 13s 2ms/step - loss: 119.5592 - mae: 4.5269 - root_mean_squared_error: 10.9343\n",
      "Epoch 72/100\n",
      "6160/6160 [==============================] - 12s 2ms/step - loss: 118.8983 - mae: 4.5168 - root_mean_squared_error: 10.9041\n",
      "Epoch 73/100\n",
      "6160/6160 [==============================] - 11s 2ms/step - loss: 118.0526 - mae: 4.4894 - root_mean_squared_error: 10.8652\n",
      "Epoch 74/100\n",
      "6160/6160 [==============================] - 12s 2ms/step - loss: 118.1074 - mae: 4.4959 - root_mean_squared_error: 10.8677\n",
      "Epoch 75/100\n",
      "6160/6160 [==============================] - 14s 2ms/step - loss: 117.3864 - mae: 4.4823 - root_mean_squared_error: 10.8345\n",
      "Epoch 76/100\n",
      "6160/6160 [==============================] - 14s 2ms/step - loss: 117.8967 - mae: 4.4777 - root_mean_squared_error: 10.8580\n",
      "Epoch 77/100\n",
      "6160/6160 [==============================] - 13s 2ms/step - loss: 117.7944 - mae: 4.4660 - root_mean_squared_error: 10.8533\n",
      "Epoch 78/100\n",
      "6160/6160 [==============================] - 13s 2ms/step - loss: 118.1036 - mae: 4.4613 - root_mean_squared_error: 10.8675\n",
      "Epoch 79/100\n",
      "6160/6160 [==============================] - 13s 2ms/step - loss: 116.9203 - mae: 4.4578 - root_mean_squared_error: 10.8130\n",
      "Epoch 80/100\n",
      "6160/6160 [==============================] - 13s 2ms/step - loss: 117.3477 - mae: 4.4676 - root_mean_squared_error: 10.8327 \n",
      "Epoch 81/100\n",
      "6160/6160 [==============================] - 12s 2ms/step - loss: 115.7030 - mae: 4.4218 - root_mean_squared_error: 10.7565\n",
      "Epoch 82/100\n",
      "6160/6160 [==============================] - 12s 2ms/step - loss: 114.8534 - mae: 4.3972 - root_mean_squared_error: 10.7170 1s - - ETA: 0s - loss: 114.7978 - mae: 4.3968 - root_mean_squared_error: 10.71\n",
      "Epoch 83/100\n",
      "6160/6160 [==============================] - 13s 2ms/step - loss: 116.3641 - mae: 4.4209 - root_mean_squared_error: 10.7872 1s - loss: 116.3\n",
      "Epoch 84/100\n",
      "6160/6160 [==============================] - 16s 3ms/step - loss: 116.2505 - mae: 4.4346 - root_mean_squared_error: 10.7820\n",
      "Epoch 85/100\n",
      "6160/6160 [==============================] - 12s 2ms/step - loss: 112.5483 - mae: 4.3547 - root_mean_squared_error: 10.6089\n",
      "Epoch 86/100\n",
      "6160/6160 [==============================] - 12s 2ms/step - loss: 113.5731 - mae: 4.3628 - root_mean_squared_error: 10.6571 0s - loss: 113.7323 - mae: 4.3658 - root_mean_squared_error:\n",
      "Epoch 87/100\n",
      "6160/6160 [==============================] - 13s 2ms/step - loss: 116.2353 - mae: 4.4276 - root_mean_squared_error: 10.7812\n",
      "Epoch 88/100\n",
      "6160/6160 [==============================] - 13s 2ms/step - loss: 113.6529 - mae: 4.3794 - root_mean_squared_error: 10.6608\n",
      "Epoch 89/100\n",
      "6160/6160 [==============================] - 19s 3ms/step - loss: 114.0017 - mae: 4.3643 - root_mean_squared_error: 10.6772\n",
      "Epoch 90/100\n",
      "6160/6160 [==============================] - 13s 2ms/step - loss: 112.8343 - mae: 4.3509 - root_mean_squared_error: 10.6223\n",
      "Epoch 91/100\n",
      "6160/6160 [==============================] - 15s 2ms/step - loss: 112.0213 - mae: 4.3176 - root_mean_squared_error: 10.5840\n",
      "Epoch 92/100\n",
      "6160/6160 [==============================] - 21s 3ms/step - loss: 113.4731 - mae: 4.3673 - root_mean_squared_error: 10.6524 3s - l\n",
      "Epoch 93/100\n",
      "6160/6160 [==============================] - 11s 2ms/step - loss: 113.2276 - mae: 4.3416 - root_mean_squared_error: 10.6408 1s - loss:\n",
      "Epoch 94/100\n",
      "6160/6160 [==============================] - 13s 2ms/step - loss: 111.2654 - mae: 4.2997 - root_mean_squared_error: 10.5482\n",
      "Epoch 95/100\n",
      "6160/6160 [==============================] - 12s 2ms/step - loss: 113.0707 - mae: 4.3539 - root_mean_squared_error: 10.6335\n",
      "Epoch 96/100\n",
      "6160/6160 [==============================] - 11s 2ms/step - loss: 112.6446 - mae: 4.3420 - root_mean_squared_error: 10.6134  - ETA: 1s\n",
      "Epoch 97/100\n",
      "6160/6160 [==============================] - 14s 2ms/step - loss: 111.8277 - mae: 4.3114 - root_mean_squared_error: 10.5749 1s - loss: 111.5358 - mae: 4.3071 - root - ETA: 0s - loss: 111.7854 - mae: 4.3071 - root_mean_squared_erro\n",
      "Epoch 98/100\n",
      "6160/6160 [==============================] - 11s 2ms/step - loss: 111.6315 - mae: 4.3231 - root_mean_squared_error: 10.5656\n",
      "Epoch 99/100\n",
      "6160/6160 [==============================] - 12s 2ms/step - loss: 110.6488 - mae: 4.2987 - root_mean_squared_error: 10.5190\n",
      "Epoch 100/100\n",
      "6160/6160 [==============================] - 11s 2ms/step - loss: 109.0717 - mae: 4.2555 - root_mean_squared_error: 10.4437\n"
     ]
    }
   ],
   "source": [
    "#Compile and train\n",
    "model.compile(optimizer=Adam(lr=0.0001), \n",
    "              loss='mse',\n",
    "              metrics=['mae',keras.metrics.RootMeanSquaredError()])\n",
    "\n",
    "history = model.fit(input_arry, output_arry, epochs=100, batch_size=64)"
   ]
  },
  {
   "cell_type": "code",
   "execution_count": 168,
   "metadata": {},
   "outputs": [
    {
     "name": "stdout",
     "output_type": "stream",
     "text": [
      "Model: \"sequential\"\n",
      "_________________________________________________________________\n",
      "Layer (type)                 Output Shape              Param #   \n",
      "=================================================================\n",
      "dense (Dense)                (None, 300)               2100      \n",
      "_________________________________________________________________\n",
      "dense_1 (Dense)              (None, 200)               60200     \n",
      "_________________________________________________________________\n",
      "dense_2 (Dense)              (None, 100)               20100     \n",
      "_________________________________________________________________\n",
      "dense_3 (Dense)              (None, 50)                5050      \n",
      "_________________________________________________________________\n",
      "dense_4 (Dense)              (None, 25)                1275      \n",
      "_________________________________________________________________\n",
      "dense_5 (Dense)              (None, 1)                 26        \n",
      "=================================================================\n",
      "Total params: 88,751\n",
      "Trainable params: 88,751\n",
      "Non-trainable params: 0\n",
      "_________________________________________________________________\n"
     ]
    }
   ],
   "source": [
    "model.summary()"
   ]
  },
  {
   "cell_type": "code",
   "execution_count": 169,
   "metadata": {},
   "outputs": [
    {
     "name": "stderr",
     "output_type": "stream",
     "text": [
      "/usr/local/lib/python3.7/site-packages/matplotlib-2.2.4-py3.7-macosx-10.15-x86_64.egg/matplotlib/legend.py:640: UserWarning: Unrecognized location \"middle\". Falling back on \"best\"; valid locations are\n",
      "\tbest\n",
      "\tupper right\n",
      "\tupper left\n",
      "\tlower left\n",
      "\tlower right\n",
      "\tright\n",
      "\tcenter left\n",
      "\tcenter right\n",
      "\tlower center\n",
      "\tupper center\n",
      "\tcenter\n",
      "\n",
      "  % (loc, '\\n\\t'.join(self.codes)))\n"
     ]
    },
    {
     "data": {
      "image/png": "[encoded data removed]",
      "text/plain": [
       "<Figure size 432x288 with 1 Axes>"
      ]
     },
     "metadata": {},
     "output_type": "display_data"
    }
   ],
   "source": [
    "plt.plot(history.history['mae'])\n",
    "plt.plot(history.history['root_mean_squared_error'])\n",
    "plt.title('MAE and RMSE per epoch')\n",
    "plt.ylabel('Error')\n",
    "plt.xlabel('Epoch')\n",
    "plt.legend(['MAE', 'RMSE'], loc='middle')\n",
    "plt.savefig('error-v-epoch.png')\n",
    "plt.show()"
   ]
  },
  {
   "cell_type": "code",
   "execution_count": 18,
   "metadata": {},
   "outputs": [],
   "source": [
    "#mae: 4.2719\n",
    "#rmse 10.51"
   ]
  },
  {
   "cell_type": "code",
   "execution_count": 19,
   "metadata": {},
   "outputs": [],
   "source": [
    "#MAE of around 4 w/m2. Considering DHI values go from 0 - 400, 4 represents a 1% error value"
   ]
  },
  {
   "cell_type": "code",
   "execution_count": 20,
   "metadata": {},
   "outputs": [],
   "source": [
    "# Prediction with DNI included\n",
    "\n",
    "\n",
    "keras.backend.clear_session()\n",
    "tf.keras.backend.clear_session()\n",
    "\n",
    "keras.backend.clear_session()\n",
    "tf.keras.backend.clear_session()\n",
    "tf.compat.v1.reset_default_graph\n",
    "\n",
    "keras.backend.clear_session()\n",
    "tf.keras.backend.clear_session()"
   ]
  },
  {
   "cell_type": "code",
   "execution_count": 21,
   "metadata": {},
   "outputs": [],
   "source": [
    "model_dni = keras.Sequential()\n",
    "model_dni.add(layers.Dense(300, activation=\"relu\"))\n",
    "model_dni.add(layers.Dense(200, activation=\"relu\"))\n",
    "model_dni.add(layers.Dense(100, activation=\"relu\"))\n",
    "model_dni.add(layers.Dense(50, activation=\"relu\"))\n",
    "model_dni.add(layers.Dense(25, activation=\"relu\"))\n",
    "model_dni.add(layers.Dense(1, activation='relu'))"
   ]
  },
  {
   "cell_type": "code",
   "execution_count": 22,
   "metadata": {},
   "outputs": [
    {
     "name": "stdout",
     "output_type": "stream",
     "text": [
      "Epoch 1/100\n",
      "6160/6160 [==============================] - 11s 2ms/step - loss: 9915.5850 - mae: 49.5976 - root_mean_squared_error: 99.5770\n",
      "Epoch 2/100\n",
      "6160/6160 [==============================] - 12s 2ms/step - loss: 3119.8945 - mae: 27.7919 - root_mean_squared_error: 55.8560\n",
      "Epoch 3/100\n",
      "6160/6160 [==============================] - 9s 1ms/step - loss: 2481.8506 - mae: 24.1515 - root_mean_squared_error: 49.8182\n",
      "Epoch 4/100\n",
      "6160/6160 [==============================] - 11s 2ms/step - loss: 2086.6990 - mae: 21.6792 - root_mean_squared_error: 45.6804\n",
      "Epoch 5/100\n",
      "6160/6160 [==============================] - 10s 2ms/step - loss: 1812.1169 - mae: 20.0936 - root_mean_squared_error: 42.5690\n",
      "Epoch 6/100\n",
      "6160/6160 [==============================] - 9s 1ms/step - loss: 1476.6659 - mae: 18.0938 - root_mean_squared_error: 38.4274\n",
      "Epoch 7/100\n",
      "6160/6160 [==============================] - 9s 1ms/step - loss: 1184.3185 - mae: 16.1806 - root_mean_squared_error: 34.4139\n",
      "Epoch 8/100\n",
      "6160/6160 [==============================] - 11s 2ms/step - loss: 928.5575 - mae: 14.3301 - root_mean_squared_error: 30.4722\n",
      "Epoch 9/100\n",
      "6160/6160 [==============================] - 10s 2ms/step - loss: 775.7914 - mae: 13.0377 - root_mean_squared_error: 27.8530\n",
      "Epoch 10/100\n",
      "6160/6160 [==============================] - 9s 2ms/step - loss: 677.1418 - mae: 12.1547 - root_mean_squared_error: 26.0219\n",
      "Epoch 11/100\n",
      "6160/6160 [==============================] - 9s 1ms/step - loss: 666.9041 - mae: 12.0295 - root_mean_squared_error: 25.8245\n",
      "Epoch 12/100\n",
      "6160/6160 [==============================] - 9s 1ms/step - loss: 650.8273 - mae: 11.8754 - root_mean_squared_error: 25.5113\n",
      "Epoch 13/100\n",
      "6160/6160 [==============================] - 9s 1ms/step - loss: 603.7679 - mae: 11.4275 - root_mean_squared_error: 24.5717\n",
      "Epoch 14/100\n",
      "6160/6160 [==============================] - 11s 2ms/step - loss: 612.8369 - mae: 11.4586 - root_mean_squared_error: 24.7555\n",
      "Epoch 15/100\n",
      "6160/6160 [==============================] - 11s 2ms/step - loss: 592.6556 - mae: 11.2668 - root_mean_squared_error: 24.3445\n",
      "Epoch 16/100\n",
      "6160/6160 [==============================] - 10s 2ms/step - loss: 582.7000 - mae: 11.1663 - root_mean_squared_error: 24.1392: 0s - loss: 581.6597 - mae: 11.1589 - root_mean_squared_error: 24\n",
      "Epoch 17/100\n",
      "6160/6160 [==============================] - 9s 1ms/step - loss: 599.7830 - mae: 11.2884 - root_mean_squared_error: 24.4905\n",
      "Epoch 18/100\n",
      "6160/6160 [==============================] - 9s 1ms/step - loss: 553.7162 - mae: 10.8537 - root_mean_squared_error: 23.5312A: 0s - loss: 556.8537 - mae: 10.8829 - root_mean_squar\n",
      "Epoch 19/100\n",
      "6160/6160 [==============================] - 9s 1ms/step - loss: 558.8492 - mae: 10.9158 - root_mean_squared_error: 23.6400A: 5s - loss: 573.2009 - mae: 11.0317 - root_mean_square - ETA: 4s - loss: 564.2573 - mae: 10.9391 - root_mean_s\n",
      "Epoch 20/100\n",
      "6160/6160 [==============================] - 9s 1ms/step - loss: 557.9780 - mae: 10.8583 - root_mean_squared_error: 23.6216\n",
      "Epoch 21/100\n",
      "6160/6160 [==============================] - 11s 2ms/step - loss: 546.5890 - mae: 10.7462 - root_mean_squared_error: 23.3792\n",
      "Epoch 22/100\n",
      "6160/6160 [==============================] - 9s 1ms/step - loss: 544.6750 - mae: 10.7217 - root_mean_squared_error: 23.3383A: 2s - loss: 533.9019 - mae: 10.6315 - root_mean_squared_erro - ETA: 2s - loss: 532.8438 - mae: 10 - ETA: 0s - loss: 543.5035 - mae: 10.7107 - root_mean_squared_err\n",
      "Epoch 23/100\n",
      "6160/6160 [==============================] - 9s 1ms/step - loss: 541.8932 - mae: 10.6794 - root_mean_squared_error: 23.2786A: 6s - loss: 535.7979 - mae: 10.6504 - root_mean_squared_error: 23.147 - ETA: 6s - loss: 535.3094 - ma\n",
      "Epoch 24/100\n",
      "6160/6160 [==============================] - 9s 1ms/step - loss: 536.6863 - mae: 10.6048 - root_mean_squared_error: 23.1665A: 0s - loss: 539.6660 - mae: 10.6265 - root_mean_sq\n",
      "Epoch 25/100\n",
      "6160/6160 [==============================] - 9s 1ms/step - loss: 527.7993 - mae: 10.4928 - root_mean_squared_error: 22.9739\n",
      "Epoch 26/100\n",
      "6160/6160 [==============================] - 9s 2ms/step - loss: 526.4362 - mae: 10.4894 - root_mean_squared_error: 22.9442\n",
      "Epoch 27/100\n",
      "6160/6160 [==============================] - 10s 2ms/step - loss: 518.9581 - mae: 10.4037 - root_mean_squared_error: 22.7807\n",
      "Epoch 28/100\n",
      "6160/6160 [==============================] - 9s 1ms/step - loss: 516.6516 - mae: 10.3839 - root_mean_squared_error: 22.7300A: 2s - loss: 512.4434 - mae: 10. - ETA: 0s - loss: 515.6295 - mae: 10.3704 - root_mean_squared_error: \n",
      "Epoch 29/100\n",
      "6160/6160 [==============================] - 9s 1ms/step - loss: 520.2482 - mae: 10.4189 - root_mean_squared_error: 22.8089A: 8s - loss: 521.9205 - mae: 10.4745 - root_mean_squared_error: 22.845 - ETA: 8s - loss: 524.8 - ETA: 5s - loss: 511.3723 - mae: - ETA: 3s - loss: 521.2258 - mae: 10.4524 - root_mean_sq - ETA: 2s - loss: 519.5460 - m\n",
      "Epoch 30/100\n",
      "6160/6160 [==============================] - 9s 1ms/step - loss: 510.4790 - mae: 10.3144 - root_mean_squared_error: 22.5938A: 5s - loss: 520.3731 - mae: 10.43 - ETA: 3s - loss: 523. - ETA: 1s - loss: 513.0616 - mae: 10.3357 - root_mean\n",
      "Epoch 31/100\n",
      "6160/6160 [==============================] - 9s 1ms/step - loss: 513.8609 - mae: 10.3454 - root_mean_squared_error: 22.6685\n",
      "Epoch 32/100\n",
      "6160/6160 [==============================] - 9s 1ms/step - loss: 498.9024 - mae: 10.1810 - root_mean_squared_error: 22.3361\n",
      "Epoch 33/100\n",
      "6160/6160 [==============================] - 11s 2ms/step - loss: 508.8674 - mae: 10.2970 - root_mean_squared_error: 22.5581\n",
      "Epoch 34/100\n",
      "6160/6160 [==============================] - 9s 1ms/step - loss: 510.5395 - mae: 10.3146 - root_mean_squared_error: 22.5951A: 10s - loss: 50 - ETA: 2s - loss: 512.1018 - mae: 10.3484 - root_m - ETA: 0s - loss: 507.1108 - mae: 10.2881 - root_mean_squa\n",
      "Epoch 35/100\n",
      "6160/6160 [==============================] - 9s 1ms/step - loss: 491.1986 - mae: 10.1012 - root_mean_squared_error: 22.1630\n",
      "Epoch 36/100\n",
      "6160/6160 [==============================] - 9s 1ms/step - loss: 485.3672 - mae: 10.0437 - root_mean_squared_error: 22.0311\n",
      "Epoch 37/100\n",
      "6160/6160 [==============================] - 9s 1ms/step - loss: 484.7882 - mae: 10.0256 - root_mean_squared_error: 22.0179A: 7s - loss: 500.6597 - - ETA: 1s - loss: 489.7445 - mae: 10.0785\n",
      "Epoch 38/100\n",
      "6160/6160 [==============================] - 9s 1ms/step - loss: 495.1294 - mae: 10.1156 - root_mean_squared_error: 22.2515\n",
      "Epoch 39/100\n",
      "6160/6160 [==============================] - 9s 1ms/step - loss: 489.9157 - mae: 10.0551 - root_mean_squared_error: 22.1340\n",
      "Epoch 40/100\n",
      "6160/6160 [==============================] - 11s 2ms/step - loss: 477.2888 - mae: 9.9444 - root_mean_squared_error: 21.8469\n",
      "Epoch 41/100\n",
      "6160/6160 [==============================] - 9s 1ms/step - loss: 476.3991 - mae: 9.9284 - root_mean_squared_error: 21.8266\n",
      "Epoch 42/100\n",
      "6160/6160 [==============================] - 9s 1ms/step - loss: 481.7470 - mae: 9.9588 - root_mean_squared_error: 21.9487\n",
      "Epoch 43/100\n",
      "6160/6160 [==============================] - 9s 1ms/step - loss: 477.3932 - mae: 9.9262 - root_mean_squared_error: 21.8493\n",
      "Epoch 44/100\n",
      "6160/6160 [==============================] - 9s 1ms/step - loss: 477.8095 - mae: 9.9222 - root_mean_squared_error: 21.8589\n",
      "Epoch 45/100\n",
      "6160/6160 [==============================] - 9s 1ms/step - loss: 467.1041 - mae: 9.8015 - root_mean_squared_error: 21.6126\n",
      "Epoch 46/100\n",
      "6160/6160 [==============================] - 11s 2ms/step - loss: 472.5587 - mae: 9.8740 - root_mean_squared_error: 21.7384\n",
      "Epoch 47/100\n",
      "6160/6160 [==============================] - 11s 2ms/step - loss: 481.5375 - mae: 9.9366 - root_mean_squared_error: 21.9440\n",
      "Epoch 48/100\n",
      "6160/6160 [==============================] - 11s 2ms/step - loss: 461.3137 - mae: 9.7368 - root_mean_squared_error: 21.4782\n",
      "Epoch 49/100\n",
      "6160/6160 [==============================] - 11s 2ms/step - loss: 464.6984 - mae: 9.7578 - root_mean_squared_error: 21.5569 1s - loss: 462.5197 - mae:\n",
      "Epoch 50/100\n",
      "6160/6160 [==============================] - 11s 2ms/step - loss: 461.7582 - mae: 9.7256 - root_mean_squared_error: 21.4886 0s - loss: 462.1331 - mae: 9.7274 - root_mean_sq\n",
      "Epoch 51/100\n",
      "6160/6160 [==============================] - 12s 2ms/step - loss: 468.1615 - mae: 9.8008 - root_mean_squared_error: 21.6370\n",
      "Epoch 52/100\n",
      "6160/6160 [==============================] - 11s 2ms/step - loss: 456.1524 - mae: 9.6553 - root_mean_squared_error: 21.3577\n",
      "Epoch 53/100\n",
      "6160/6160 [==============================] - 9s 2ms/step - loss: 458.9999 - mae: 9.6921 - root_mean_squared_error: 21.4243\n",
      "Epoch 54/100\n",
      "6160/6160 [==============================] - 10s 2ms/step - loss: 463.7122 - mae: 9.7309 - root_mean_squared_error: 21.5340\n",
      "Epoch 55/100\n",
      "6160/6160 [==============================] - 10s 2ms/step - loss: 459.8149 - mae: 9.6912 - root_mean_squared_error: 21.4433\n",
      "Epoch 56/100\n",
      "6160/6160 [==============================] - 10s 2ms/step - loss: 450.3661 - mae: 9.5805 - root_mean_squared_error: 21.2218\n",
      "Epoch 57/100\n",
      "6160/6160 [==============================] - 11s 2ms/step - loss: 446.3363 - mae: 9.5494 - root_mean_squared_error: 21.1267 1s - loss: 447.4259 - mae: 9.570\n",
      "Epoch 58/100\n",
      "6160/6160 [==============================] - 10s 2ms/step - loss: 452.4068 - mae: 9.6196 - root_mean_squared_error: 21.2699\n",
      "Epoch 59/100\n",
      "6160/6160 [==============================] - 9s 1ms/step - loss: 447.0056 - mae: 9.5546 - root_mean_squared_error: 21.1425\n",
      "Epoch 60/100\n",
      "6160/6160 [==============================] - 9s 1ms/step - loss: 442.3888 - mae: 9.4952 - root_mean_squared_error: 21.0330\n",
      "Epoch 61/100\n",
      "6160/6160 [==============================] - 9s 1ms/step - loss: 447.4123 - mae: 9.5336 - root_mean_squared_error: 21.1521: 6s - loss: 456.470 - ETA: 5s - loss: 451.6\n",
      "Epoch 62/100\n",
      "6160/6160 [==============================] - 9s 1ms/step - loss: 440.0232 - mae: 9.4481 - root_mean_squared_error: 20.9767\n",
      "Epoch 63/100\n",
      "6160/6160 [==============================] - 9s 1ms/step - loss: 442.0465 - mae: 9.4610 - root_mean_squared_error: 21.0249\n",
      "Epoch 64/100\n",
      "6160/6160 [==============================] - 11s 2ms/step - loss: 440.5552 - mae: 9.4498 - root_mean_squared_error: 20.9894\n",
      "Epoch 65/100\n",
      "6160/6160 [==============================] - 9s 1ms/step - loss: 432.8324 - mae: 9.3587 - root_mean_squared_error: 20.8046\n",
      "Epoch 66/100\n",
      "6160/6160 [==============================] - 9s 1ms/step - loss: 437.3746 - mae: 9.4016 - root_mean_squared_error: 20.9135\n",
      "Epoch 67/100\n",
      "6160/6160 [==============================] - 9s 1ms/step - loss: 432.3985 - mae: 9.3353 - root_mean_squared_error: 20.7942: 0s - loss: 430.9634 - mae: 9.3203 - root_mean_square\n",
      "Epoch 68/100\n",
      "6160/6160 [==============================] - 9s 2ms/step - loss: 435.2331 - mae: 9.3720 - root_mean_squared_error: 20.8622\n",
      "Epoch 69/100\n",
      "6160/6160 [==============================] - 9s 1ms/step - loss: 426.4041 - mae: 9.2772 - root_mean_squared_error: 20.6496: 0s - loss: 426.7253 - mae: 9.2845 - root_mean_squared_error:\n",
      "Epoch 70/100\n",
      "6160/6160 [==============================] - 11s 2ms/step - loss: 428.5794 - mae: 9.2874 - root_mean_squared_error: 20.7022\n",
      "Epoch 71/100\n",
      "6160/6160 [==============================] - 9s 1ms/step - loss: 425.1948 - mae: 9.2344 - root_mean_squared_error: 20.6203\n",
      "Epoch 72/100\n",
      "6160/6160 [==============================] - 9s 1ms/step - loss: 427.6073 - mae: 9.2650 - root_mean_squared_error: 20.6787\n",
      "Epoch 73/100\n",
      "6160/6160 [==============================] - 9s 1ms/step - loss: 419.0912 - mae: 9.1687 - root_mean_squared_error: 20.4717\n",
      "Epoch 74/100\n",
      "6160/6160 [==============================] - 9s 1ms/step - loss: 418.3666 - mae: 9.1614 - root_mean_squared_error: 20.4540\n",
      "Epoch 75/100\n",
      "6160/6160 [==============================] - 9s 1ms/step - loss: 420.0861 - mae: 9.1715 - root_mean_squared_error: 20.4960\n",
      "Epoch 76/100\n",
      "6160/6160 [==============================] - 11s 2ms/step - loss: 418.5563 - mae: 9.1615 - root_mean_squared_error: 20.4586\n",
      "Epoch 77/100\n",
      "6160/6160 [==============================] - 10s 2ms/step - loss: 417.5906 - mae: 9.1433 - root_mean_squared_error: 20.4350\n",
      "Epoch 78/100\n",
      "6160/6160 [==============================] - 10s 2ms/step - loss: 417.9065 - mae: 9.1410 - root_mean_squared_error: 20.4428 0s - loss: 417.5022 - mae: 9.1389 - root_mean_squared_error: 2\n",
      "Epoch 79/100\n",
      "6160/6160 [==============================] - 10s 2ms/step - loss: 408.4605 - mae: 9.0108 - root_mean_squared_error: 20.2104\n",
      "Epoch 80/100\n",
      "6160/6160 [==============================] - 11s 2ms/step - loss: 419.8062 - mae: 9.1673 - root_mean_squared_error: 20.4892 0s - loss: 419.2036 - mae: 9.1615 - root_mean_squared_error: 20.47\n",
      "Epoch 81/100\n",
      "6160/6160 [==============================] - 10s 2ms/step - loss: 414.4418 - mae: 9.0841 - root_mean_squared_error: 20.3578\n",
      "Epoch 82/100\n",
      "6160/6160 [==============================] - 11s 2ms/step - loss: 411.4999 - mae: 9.0417 - root_mean_squared_error: 20.2855 2s -\n",
      "Epoch 83/100\n",
      "6160/6160 [==============================] - 10s 2ms/step - loss: 412.2419 - mae: 9.0587 - root_mean_squared_error: 20.3037 0s - loss: 412.2683 - mae: 9.0566 - root_mean_sq\n",
      "Epoch 84/100\n",
      "6160/6160 [==============================] - 10s 2ms/step - loss: 404.1499 - mae: 8.9416 - root_mean_squared_error: 20.1035\n",
      "Epoch 85/100\n",
      "6160/6160 [==============================] - 10s 2ms/step - loss: 410.0686 - mae: 9.0210 - root_mean_squared_error: 20.2502\n",
      "Epoch 86/100\n",
      "6160/6160 [==============================] - 10s 2ms/step - loss: 405.0536 - mae: 8.9641 - root_mean_squared_error: 20.1259\n",
      "Epoch 87/100\n",
      "6160/6160 [==============================] - 11s 2ms/step - loss: 405.3028 - mae: 8.9464 - root_mean_squared_error: 20.1321\n",
      "Epoch 88/100\n",
      "6160/6160 [==============================] - 12s 2ms/step - loss: 400.2151 - mae: 8.8927 - root_mean_squared_error: 20.0054 2s - l\n",
      "Epoch 89/100\n",
      "6160/6160 [==============================] - 10s 2ms/step - loss: 410.2289 - mae: 9.0173 - root_mean_squared_error: 20.2541\n",
      "Epoch 90/100\n",
      "6160/6160 [==============================] - 10s 2ms/step - loss: 405.4871 - mae: 8.9484 - root_mean_squared_error: 20.1367\n",
      "Epoch 91/100\n",
      "6160/6160 [==============================] - 10s 2ms/step - loss: 400.8837 - mae: 8.8941 - root_mean_squared_error: 20.0221\n",
      "Epoch 92/100\n",
      "6160/6160 [==============================] - 10s 2ms/step - loss: 400.6013 - mae: 8.8698 - root_mean_squared_error: 20.0150\n",
      "Epoch 93/100\n",
      "6160/6160 [==============================] - 10s 2ms/step - loss: 401.8554 - mae: 8.9093 - root_mean_squared_error: 20.0463\n",
      "Epoch 94/100\n",
      "6160/6160 [==============================] - 11s 2ms/step - loss: 398.6746 - mae: 8.8547 - root_mean_squared_error: 19.9668 0s - loss: 400.5518 - mae: 8.8684 - root_mea\n",
      "Epoch 95/100\n",
      "6160/6160 [==============================] - 9s 1ms/step - loss: 401.9615 - mae: 8.8999 - root_mean_squared_error: 20.0490\n",
      "Epoch 96/100\n",
      "6160/6160 [==============================] - 9s 2ms/step - loss: 402.7477 - mae: 8.8956 - root_mean_squared_error: 20.0686: 1s - loss:\n",
      "Epoch 97/100\n",
      "6160/6160 [==============================] - 9s 1ms/step - loss: 392.2413 - mae: 8.7695 - root_mean_squared_error: 19.8051\n",
      "Epoch 98/100\n",
      "6160/6160 [==============================] - 9s 2ms/step - loss: 396.9280 - mae: 8.8270 - root_mean_squared_error: 19.9231\n",
      "Epoch 99/100\n",
      "6160/6160 [==============================] - 9s 2ms/step - loss: 394.3165 - mae: 8.7934 - root_mean_squared_error: 19.8574\n",
      "Epoch 100/100\n",
      "6160/6160 [==============================] - 11s 2ms/step - loss: 400.4839 - mae: 8.8633 - root_mean_squared_error: 20.0121\n"
     ]
    }
   ],
   "source": [
    "#Compile and train\n",
    "model_dni.compile(optimizer=Adam(lr=0.0001), \n",
    "              loss='mse',\n",
    "              metrics=['mae',keras.metrics.RootMeanSquaredError()])\n",
    "\n",
    "history_dni = model_dni.fit(input_arry, dni_arr, epochs=100, batch_size=64)"
   ]
  },
  {
   "cell_type": "code",
   "execution_count": 23,
   "metadata": {},
   "outputs": [
    {
     "ename": "NameError",
     "evalue": "name 'history' is not defined",
     "output_type": "error",
     "traceback": [
      "\u001b[0;31m---------------------------------------------------------------------------\u001b[0m",
      "\u001b[0;31mNameError\u001b[0m                                 Traceback (most recent call last)",
      "\u001b[0;32m<ipython-input-23-fe90f026341d>\u001b[0m in \u001b[0;36m<module>\u001b[0;34m\u001b[0m\n\u001b[0;32m----> 1\u001b[0;31m \u001b[0mplt\u001b[0m\u001b[0;34m.\u001b[0m\u001b[0mplot\u001b[0m\u001b[0;34m(\u001b[0m\u001b[0mhistory\u001b[0m\u001b[0;34m.\u001b[0m\u001b[0mhistory\u001b[0m\u001b[0;34m[\u001b[0m\u001b[0;34m'mae'\u001b[0m\u001b[0;34m]\u001b[0m\u001b[0;34m)\u001b[0m\u001b[0;34m\u001b[0m\u001b[0;34m\u001b[0m\u001b[0m\n\u001b[0m\u001b[1;32m      2\u001b[0m \u001b[0mplt\u001b[0m\u001b[0;34m.\u001b[0m\u001b[0mplot\u001b[0m\u001b[0;34m(\u001b[0m\u001b[0mhistory\u001b[0m\u001b[0;34m.\u001b[0m\u001b[0mhistory\u001b[0m\u001b[0;34m[\u001b[0m\u001b[0;34m'root_mean_squared_error'\u001b[0m\u001b[0;34m]\u001b[0m\u001b[0;34m)\u001b[0m\u001b[0;34m\u001b[0m\u001b[0;34m\u001b[0m\u001b[0m\n\u001b[1;32m      3\u001b[0m \u001b[0mplt\u001b[0m\u001b[0;34m.\u001b[0m\u001b[0mplot\u001b[0m\u001b[0;34m(\u001b[0m\u001b[0mhistory_dni\u001b[0m\u001b[0;34m.\u001b[0m\u001b[0mhistory\u001b[0m\u001b[0;34m[\u001b[0m\u001b[0;34m'mae'\u001b[0m\u001b[0;34m]\u001b[0m\u001b[0;34m)\u001b[0m\u001b[0;34m\u001b[0m\u001b[0;34m\u001b[0m\u001b[0m\n\u001b[1;32m      4\u001b[0m \u001b[0mplt\u001b[0m\u001b[0;34m.\u001b[0m\u001b[0mplot\u001b[0m\u001b[0;34m(\u001b[0m\u001b[0mhistory_dni\u001b[0m\u001b[0;34m.\u001b[0m\u001b[0mhistory\u001b[0m\u001b[0;34m[\u001b[0m\u001b[0;34m'root_mean_squared_error'\u001b[0m\u001b[0;34m]\u001b[0m\u001b[0;34m)\u001b[0m\u001b[0;34m\u001b[0m\u001b[0;34m\u001b[0m\u001b[0m\n\u001b[1;32m      5\u001b[0m \u001b[0mplt\u001b[0m\u001b[0;34m.\u001b[0m\u001b[0mtitle\u001b[0m\u001b[0;34m(\u001b[0m\u001b[0;34m'MAE and RMSE per epoch'\u001b[0m\u001b[0;34m)\u001b[0m\u001b[0;34m\u001b[0m\u001b[0;34m\u001b[0m\u001b[0m\n",
      "\u001b[0;31mNameError\u001b[0m: name 'history' is not defined"
     ]
    }
   ],
   "source": [
    "plt.plot(history.history['mae'])\n",
    "plt.plot(history.history['root_mean_squared_error'])\n",
    "plt.plot(history_dni.history['mae'])\n",
    "plt.plot(history_dni.history['root_mean_squared_error'])\n",
    "plt.title('MAE and RMSE per epoch')\n",
    "plt.ylabel('Error')\n",
    "plt.xlabel('Epoch')\n",
    "plt.legend(['MAE', 'RMSE','MAE-DNI', 'RMSE-DNI' ], loc='middle')\n",
    "plt.savefig('error-v-epoch.png')\n",
    "plt.show()"
   ]
  },
  {
   "cell_type": "markdown",
   "metadata": {},
   "source": [
    "## IV. Model Validation - Outer Banks"
   ]
  },
  {
   "cell_type": "code",
   "execution_count": 24,
   "metadata": {},
   "outputs": [
    {
     "data": {
      "text/html": [
       "<div>\n",
       "<style scoped>\n",
       "    .dataframe tbody tr th:only-of-type {\n",
       "        vertical-align: middle;\n",
       "    }\n",
       "\n",
       "    .dataframe tbody tr th {\n",
       "        vertical-align: top;\n",
       "    }\n",
       "\n",
       "    .dataframe thead th {\n",
       "        text-align: right;\n",
       "    }\n",
       "</style>\n",
       "<table border=\"1\" class=\"dataframe\">\n",
       "  <thead>\n",
       "    <tr style=\"text-align: right;\">\n",
       "      <th></th>\n",
       "      <th>Year</th>\n",
       "      <th>Month</th>\n",
       "      <th>Day</th>\n",
       "      <th>Hour</th>\n",
       "      <th>Minute</th>\n",
       "      <th>Temperature</th>\n",
       "      <th>Clearsky DHI</th>\n",
       "      <th>Clearsky DNI</th>\n",
       "      <th>Clearsky GHI</th>\n",
       "      <th>Cloud Type</th>\n",
       "      <th>...</th>\n",
       "      <th>GHI</th>\n",
       "      <th>Relative Humidity</th>\n",
       "      <th>Solar Zenith Angle</th>\n",
       "      <th>Surface Albedo</th>\n",
       "      <th>Pressure</th>\n",
       "      <th>Precipitable Water</th>\n",
       "      <th>Wind Direction</th>\n",
       "      <th>Wind Speed</th>\n",
       "      <th>timestamps</th>\n",
       "      <th>Cloud Cover</th>\n",
       "    </tr>\n",
       "  </thead>\n",
       "  <tbody>\n",
       "    <tr>\n",
       "      <th>0</th>\n",
       "      <td>2018</td>\n",
       "      <td>1</td>\n",
       "      <td>1</td>\n",
       "      <td>0</td>\n",
       "      <td>30</td>\n",
       "      <td>1.8</td>\n",
       "      <td>0</td>\n",
       "      <td>0</td>\n",
       "      <td>0</td>\n",
       "      <td>4</td>\n",
       "      <td>...</td>\n",
       "      <td>0</td>\n",
       "      <td>85.84</td>\n",
       "      <td>119.89</td>\n",
       "      <td>0.03</td>\n",
       "      <td>1026</td>\n",
       "      <td>1.2</td>\n",
       "      <td>350</td>\n",
       "      <td>8.6</td>\n",
       "      <td>1514782800</td>\n",
       "      <td>1.00</td>\n",
       "    </tr>\n",
       "    <tr>\n",
       "      <th>1</th>\n",
       "      <td>2018</td>\n",
       "      <td>1</td>\n",
       "      <td>1</td>\n",
       "      <td>1</td>\n",
       "      <td>30</td>\n",
       "      <td>1.6</td>\n",
       "      <td>0</td>\n",
       "      <td>0</td>\n",
       "      <td>0</td>\n",
       "      <td>4</td>\n",
       "      <td>...</td>\n",
       "      <td>0</td>\n",
       "      <td>87.76</td>\n",
       "      <td>132.05</td>\n",
       "      <td>0.03</td>\n",
       "      <td>1026</td>\n",
       "      <td>1.2</td>\n",
       "      <td>348</td>\n",
       "      <td>8.7</td>\n",
       "      <td>1514786400</td>\n",
       "      <td>0.94</td>\n",
       "    </tr>\n",
       "    <tr>\n",
       "      <th>2</th>\n",
       "      <td>2018</td>\n",
       "      <td>1</td>\n",
       "      <td>1</td>\n",
       "      <td>2</td>\n",
       "      <td>30</td>\n",
       "      <td>1.5</td>\n",
       "      <td>0</td>\n",
       "      <td>0</td>\n",
       "      <td>0</td>\n",
       "      <td>4</td>\n",
       "      <td>...</td>\n",
       "      <td>0</td>\n",
       "      <td>88.35</td>\n",
       "      <td>144.19</td>\n",
       "      <td>0.03</td>\n",
       "      <td>1026</td>\n",
       "      <td>1.1</td>\n",
       "      <td>346</td>\n",
       "      <td>8.7</td>\n",
       "      <td>1514790000</td>\n",
       "      <td>1.00</td>\n",
       "    </tr>\n",
       "    <tr>\n",
       "      <th>3</th>\n",
       "      <td>2018</td>\n",
       "      <td>1</td>\n",
       "      <td>1</td>\n",
       "      <td>3</td>\n",
       "      <td>30</td>\n",
       "      <td>1.4</td>\n",
       "      <td>0</td>\n",
       "      <td>0</td>\n",
       "      <td>0</td>\n",
       "      <td>4</td>\n",
       "      <td>...</td>\n",
       "      <td>0</td>\n",
       "      <td>89.16</td>\n",
       "      <td>155.85</td>\n",
       "      <td>0.03</td>\n",
       "      <td>1026</td>\n",
       "      <td>1.1</td>\n",
       "      <td>346</td>\n",
       "      <td>8.7</td>\n",
       "      <td>1514793600</td>\n",
       "      <td>1.00</td>\n",
       "    </tr>\n",
       "    <tr>\n",
       "      <th>4</th>\n",
       "      <td>2018</td>\n",
       "      <td>1</td>\n",
       "      <td>1</td>\n",
       "      <td>4</td>\n",
       "      <td>30</td>\n",
       "      <td>1.4</td>\n",
       "      <td>0</td>\n",
       "      <td>0</td>\n",
       "      <td>0</td>\n",
       "      <td>4</td>\n",
       "      <td>...</td>\n",
       "      <td>0</td>\n",
       "      <td>89.52</td>\n",
       "      <td>165.32</td>\n",
       "      <td>0.03</td>\n",
       "      <td>1026</td>\n",
       "      <td>1.1</td>\n",
       "      <td>347</td>\n",
       "      <td>8.9</td>\n",
       "      <td>1514797200</td>\n",
       "      <td>1.00</td>\n",
       "    </tr>\n",
       "  </tbody>\n",
       "</table>\n",
       "<p>5 rows × 24 columns</p>\n",
       "</div>"
      ],
      "text/plain": [
       "   Year  Month  Day  Hour  Minute  Temperature  Clearsky DHI  Clearsky DNI  \\\n",
       "0  2018      1    1     0      30          1.8             0             0   \n",
       "1  2018      1    1     1      30          1.6             0             0   \n",
       "2  2018      1    1     2      30          1.5             0             0   \n",
       "3  2018      1    1     3      30          1.4             0             0   \n",
       "4  2018      1    1     4      30          1.4             0             0   \n",
       "\n",
       "   Clearsky GHI  Cloud Type  ...  GHI  Relative Humidity  Solar Zenith Angle  \\\n",
       "0             0           4  ...    0              85.84              119.89   \n",
       "1             0           4  ...    0              87.76              132.05   \n",
       "2             0           4  ...    0              88.35              144.19   \n",
       "3             0           4  ...    0              89.16              155.85   \n",
       "4             0           4  ...    0              89.52              165.32   \n",
       "\n",
       "   Surface Albedo  Pressure  Precipitable Water  Wind Direction  Wind Speed  \\\n",
       "0            0.03      1026                 1.2             350         8.6   \n",
       "1            0.03      1026                 1.2             348         8.7   \n",
       "2            0.03      1026                 1.1             346         8.7   \n",
       "3            0.03      1026                 1.1             346         8.7   \n",
       "4            0.03      1026                 1.1             347         8.9   \n",
       "\n",
       "   timestamps  Cloud Cover  \n",
       "0  1514782800         1.00  \n",
       "1  1514786400         0.94  \n",
       "2  1514790000         1.00  \n",
       "3  1514793600         1.00  \n",
       "4  1514797200         1.00  \n",
       "\n",
       "[5 rows x 24 columns]"
      ]
     },
     "execution_count": 24,
     "metadata": {},
     "output_type": "execute_result"
    }
   ],
   "source": [
    "validation_df = pd.read_csv(os.path.join(_Testing_Data_Dir, 'outer_banks', 'r_banks.csv'))\n",
    "validation_df.head()"
   ]
  },
  {
   "cell_type": "code",
   "execution_count": 25,
   "metadata": {},
   "outputs": [],
   "source": [
    "input_size = 6\n",
    "val_input_arry = np.array([], dtype=np.float64).reshape(0,input_size)\n",
    "val_output_arry = np.array([], dtype=np.float64)\n",
    "val_dni_arr = np.array([], dtype=np.float64)\n",
    "val_input_arry, val_output_arry, val_dni_arr = combine_training_arrays(validation_df, val_input_arry, val_output_arry, val_dni_arr)"
   ]
  },
  {
   "cell_type": "code",
   "execution_count": 26,
   "metadata": {},
   "outputs": [],
   "source": [
    "#keras model.evaluate reveals a mae of 6.9433 w/m2 in the outer banks test"
   ]
  },
  {
   "cell_type": "code",
   "execution_count": 55,
   "metadata": {},
   "outputs": [
    {
     "name": "stdout",
     "output_type": "stream",
     "text": [
      "274/274 [==============================] - 0s 783us/step - loss: 269.0166 - mean_absolute_error: 7.1228 - root_mean_squared_error: 16.4017\n"
     ]
    }
   ],
   "source": [
    "score = model.evaluate(val_input_arry, val_output_arry, verbose=1)"
   ]
  },
  {
   "cell_type": "code",
   "execution_count": 56,
   "metadata": {},
   "outputs": [],
   "source": [
    "preds = model.predict(val_input_arry)"
   ]
  },
  {
   "cell_type": "code",
   "execution_count": 57,
   "metadata": {},
   "outputs": [],
   "source": [
    "#Mape too high because of 0 values"
   ]
  },
  {
   "cell_type": "code",
   "execution_count": 58,
   "metadata": {},
   "outputs": [],
   "source": [
    "#Compare random induvidual resutls!!!!!"
   ]
  },
  {
   "cell_type": "code",
   "execution_count": 59,
   "metadata": {},
   "outputs": [
    {
     "name": "stdout",
     "output_type": "stream",
     "text": [
      "index is  4521\n",
      "Actual  0.0   Predicted  [0.]\n"
     ]
    }
   ],
   "source": [
    "i = randint(0,8760)\n",
    "print(\"index is \",i)\n",
    "print(\"Actual \",val_output_arry[i],\" \",\"Predicted \", preds[i])"
   ]
  },
  {
   "cell_type": "code",
   "execution_count": 32,
   "metadata": {},
   "outputs": [
    {
     "name": "stdout",
     "output_type": "stream",
     "text": [
      "274/274 [==============================] - 0s 770us/step - loss: 650.3802 - mae: 12.5543 - root_mean_squared_error: 25.5026\n"
     ]
    }
   ],
   "source": [
    "# Now lets see how it fares for DNI\n",
    "score_dni = model_dni.evaluate(val_input_arry, val_dni_arr, verbose=1)"
   ]
  },
  {
   "cell_type": "code",
   "execution_count": 33,
   "metadata": {},
   "outputs": [],
   "source": [
    "preds_dni = model_dni.predict(val_input_arry)"
   ]
  },
  {
   "cell_type": "code",
   "execution_count": 35,
   "metadata": {},
   "outputs": [
    {
     "name": "stdout",
     "output_type": "stream",
     "text": [
      "index is  3520\n",
      "Actual  359.0   Predicted  [373.17288]\n"
     ]
    }
   ],
   "source": [
    "i = randint(0,8760)\n",
    "print(\"index is \",i)\n",
    "print(\"Actual \",val_dni_arr[i],\" \",\"Predicted \", preds_dni[i])"
   ]
  },
  {
   "cell_type": "code",
   "execution_count": 65,
   "metadata": {},
   "outputs": [
    {
     "data": {
      "image/png": "[encoded data removed]",
      "text/plain": [
       "<Figure size 432x288 with 1 Axes>"
      ]
     },
     "metadata": {},
     "output_type": "display_data"
    }
   ],
   "source": [
    "plt.plot([float(i) for i in preds])\n",
    "plt.plot([float(i) for i in val_output_arry])\n",
    "\n",
    "plt.title('Hourly Fitted vs actual')\n",
    "plt.ylabel('Prediction')\n",
    "plt.xlabel('Hour')\n",
    "plt.legend(['Estimated-DHI','Actual-DHI'], loc='middle')\n",
    "plt.savefig('OBX-actual-pred.png')\n",
    "plt.show()\n"
   ]
  },
  {
   "cell_type": "code",
   "execution_count": 66,
   "metadata": {},
   "outputs": [
    {
     "name": "stderr",
     "output_type": "stream",
     "text": [
      "/usr/local/lib/python3.7/site-packages/matplotlib-2.2.4-py3.7-macosx-10.15-x86_64.egg/matplotlib/legend.py:640: UserWarning: Unrecognized location \"middle\". Falling back on \"best\"; valid locations are\n",
      "\tbest\n",
      "\tupper right\n",
      "\tupper left\n",
      "\tlower left\n",
      "\tlower right\n",
      "\tright\n",
      "\tcenter left\n",
      "\tcenter right\n",
      "\tlower center\n",
      "\tupper center\n",
      "\tcenter\n",
      "\n",
      "  % (loc, '\\n\\t'.join(self.codes)))\n"
     ]
    },
    {
     "data": {
      "image/png": "[encoded data removed]",
      "text/plain": [
       "<Figure size 432x288 with 1 Axes>"
      ]
     },
     "metadata": {},
     "output_type": "display_data"
    }
   ],
   "source": [
    "plt.plot([float(i) for i in preds_dni])\n",
    "plt.plot([float(i) for i in val_dni_arr])\n",
    "\n",
    "plt.title('Hourly Fitted vs actual')\n",
    "plt.ylabel('Prediction')\n",
    "plt.xlabel('Hour')\n",
    "plt.legend(['Estimated-DNI', 'Actual-DNI'], loc='middle')\n",
    "plt.savefig('OBX-actual-pred-dni.png')\n",
    "plt.show()\n"
   ]
  },
  {
   "cell_type": "code",
   "execution_count": 36,
   "metadata": {},
   "outputs": [],
   "source": [
    "# model.save('Neural_Net_National')"
   ]
  },
  {
   "cell_type": "code",
   "execution_count": 37,
   "metadata": {},
   "outputs": [
    {
     "name": "stdout",
     "output_type": "stream",
     "text": [
      "WARNING:tensorflow:From /usr/local/lib/python3.7/site-packages/tensorflow/python/training/tracking/tracking.py:111: Model.state_updates (from tensorflow.python.keras.engine.training) is deprecated and will be removed in a future version.\n",
      "Instructions for updating:\n",
      "This property should not be used in TensorFlow 2.0, as updates are applied automatically.\n",
      "WARNING:tensorflow:From /usr/local/lib/python3.7/site-packages/tensorflow/python/training/tracking/tracking.py:111: Layer.updates (from tensorflow.python.keras.engine.base_layer) is deprecated and will be removed in a future version.\n",
      "Instructions for updating:\n",
      "This property should not be used in TensorFlow 2.0, as updates are applied automatically.\n",
      "INFO:tensorflow:Assets written to: Neural_Nets/Neural_Net_National_dni/assets\n"
     ]
    }
   ],
   "source": [
    "model_dni.save('Neural_Nets/Neural_Net_National_dni')"
   ]
  },
  {
   "cell_type": "markdown",
   "metadata": {},
   "source": [
    "## V. Model Testing - Other Locations"
   ]
  },
  {
   "cell_type": "markdown",
   "metadata": {},
   "source": [
    "Lets take the global model and test in new locations. Lets test on the following locations for the year 2018.\n"
   ]
  },
  {
   "cell_type": "markdown",
   "metadata": {},
   "source": [
    "1. Outer Banks (35.5585, -75.4665)\n",
    "2. Miami Florida (25.7617, -80.1918)\n",
    "3. Boulder CO (40.035,-105.54)\n",
    "4. San Diego CA (32.7157, -117.1611)\n",
    "5. Lincoln Nebraska (40.848,-96.56)\n",
    "6. Quinault Washington (47.513,-123.81)\n",
    "7. Old Town Maine (44.928,-68.70)\n",
    "8. Murphey Idaho (43.204,-116.75)\n"
   ]
  },
  {
   "cell_type": "code",
   "execution_count": 38,
   "metadata": {},
   "outputs": [],
   "source": [
    "#Test General model"
   ]
  },
  {
   "cell_type": "code",
   "execution_count": 54,
   "metadata": {},
   "outputs": [],
   "source": [
    "National_model = keras.models.load_model('Neural_Nets/Neural_Net_National')"
   ]
  },
  {
   "cell_type": "code",
   "execution_count": 40,
   "metadata": {},
   "outputs": [],
   "source": [
    "model_dni = keras.models.load_model('Neural_Nets/Neural_Net_National_dni')"
   ]
  },
  {
   "cell_type": "code",
   "execution_count": 41,
   "metadata": {},
   "outputs": [
    {
     "name": "stdout",
     "output_type": "stream",
     "text": [
      "Model: \"sequential\"\n",
      "_________________________________________________________________\n",
      "Layer (type)                 Output Shape              Param #   \n",
      "=================================================================\n",
      "dense (Dense)                (None, 300)               2100      \n",
      "_________________________________________________________________\n",
      "dense_1 (Dense)              (None, 200)               60200     \n",
      "_________________________________________________________________\n",
      "dense_2 (Dense)              (None, 100)               20100     \n",
      "_________________________________________________________________\n",
      "dense_3 (Dense)              (None, 50)                5050      \n",
      "_________________________________________________________________\n",
      "dense_4 (Dense)              (None, 25)                1275      \n",
      "_________________________________________________________________\n",
      "dense_5 (Dense)              (None, 1)                 26        \n",
      "=================================================================\n",
      "Total params: 88,751\n",
      "Trainable params: 88,751\n",
      "Non-trainable params: 0\n",
      "_________________________________________________________________\n"
     ]
    }
   ],
   "source": [
    "National_model.summary()"
   ]
  },
  {
   "cell_type": "code",
   "execution_count": 46,
   "metadata": {},
   "outputs": [
    {
     "name": "stdout",
     "output_type": "stream",
     "text": [
      "/Users/tuomastalvitie/Documents/Diffuse:Direct/solarIrradiencePredictor/Testing_Data/Murphey_ID/psm_ID_Murphey2018.csv\n",
      "274/274 [==============================] - 0s 798us/step - loss: 256.5927 - mean_absolute_error: 6.7838 - root_mean_squared_error: 16.0185\n",
      "274/274 [==============================] - 0s 773us/step - loss: 939.1105 - mean_absolute_error: 15.0760 - root_mean_squared_error: 30.6449\n",
      "/Users/tuomastalvitie/Documents/Diffuse:Direct/solarIrradiencePredictor/Testing_Data/OldTown_ME/psm_ME_OldTown2018.csv\n",
      "274/274 [==============================] - 0s 1ms/step - loss: 229.4214 - mean_absolute_error: 6.8104 - root_mean_squared_error: 15.1467\n",
      "274/274 [==============================] - 0s 809us/step - loss: 557.3621 - mean_absolute_error: 10.7451 - root_mean_squared_error: 23.6085\n",
      "/Users/tuomastalvitie/Documents/Diffuse:Direct/solarIrradiencePredictor/Testing_Data/Quinault_WA/psm_WA_Quinault2018.csv\n",
      "274/274 [==============================] - 0s 787us/step - loss: 104.5538 - mean_absolute_error: 4.2643 - root_mean_squared_error: 10.2252\n",
      "274/274 [==============================] - 0s 876us/step - loss: 256.6161 - mean_absolute_error: 7.1516 - root_mean_squared_error: 16.0192\n",
      "/Users/tuomastalvitie/Documents/Diffuse:Direct/solarIrradiencePredictor/Testing_Data/Lincoln_NE/psm_NE_Lincoln2018.csv\n",
      "274/274 [==============================] - 0s 938us/step - loss: 161.9369 - mean_absolute_error: 5.2631 - root_mean_squared_error: 12.7254\n",
      "274/274 [==============================] - 0s 769us/step - loss: 461.1183 - mean_absolute_error: 9.5104 - root_mean_squared_error: 21.4737\n",
      "/Users/tuomastalvitie/Documents/Diffuse:Direct/solarIrradiencePredictor/Testing_Data/SanDiego_CA/psm_CA_SanDiego2018.csv\n",
      "274/274 [==============================] - 0s 828us/step - loss: 289.1909 - mean_absolute_error: 7.7851 - root_mean_squared_error: 17.0056\n",
      "274/274 [==============================] - 0s 846us/step - loss: 624.3943 - mean_absolute_error: 11.8969 - root_mean_squared_error: 24.9879\n",
      "/Users/tuomastalvitie/Documents/Diffuse:Direct/solarIrradiencePredictor/Testing_Data/Boulder_CO/psm_CO_Boulder2018.csv\n",
      "274/274 [==============================] - 0s 907us/step - loss: 1862.3188 - mean_absolute_error: 16.5438 - root_mean_squared_error: 43.1546\n",
      "274/274 [==============================] - 0s 968us/step - loss: 2644.2048 - mean_absolute_error: 28.0222 - root_mean_squared_error: 51.4218\n",
      "/Users/tuomastalvitie/Documents/Diffuse:Direct/solarIrradiencePredictor/Testing_Data/Miami_FL/psm_FL_Miami2018.csv\n",
      "274/274 [==============================] - 0s 883us/step - loss: 675.2378 - mean_absolute_error: 10.5119 - root_mean_squared_error: 25.9853\n",
      "274/274 [==============================] - 0s 847us/step - loss: 1217.5833 - mean_absolute_error: 16.9184 - root_mean_squared_error: 34.8939\n"
     ]
    }
   ],
   "source": [
    "test_files = ['Murphey_ID', 'OldTown_ME', 'Quinault_WA', 'Lincoln_NE', 'SanDiego_CA', 'Boulder_CO', 'Miami_FL', 'outer_banks']\n",
    "scores = {}\n",
    "scores_dni = {}\n",
    "pred_actuals = {}\n",
    "pred_actuals_dni = {}\n",
    "for directory in test_files:\n",
    "    for file in glob(_Testing_Data_Dir+'/'+directory+'/psm_*2018.csv'):\n",
    "        test_df = pd.read_csv(str(file))\n",
    "        input_size = 6\n",
    "        test_input_arry = np.array([], dtype=np.float64).reshape(0,input_size)\n",
    "        test_output_arry = np.array([], dtype=np.float64)\n",
    "        test_dni_arry = np.array([], dtype=np.float64)\n",
    "        test_input_arry, test_output_arry, test_dni_arry = combine_training_arrays(test_df, test_input_arry, test_output_arry, test_dni_arry)\n",
    "        print(file)\n",
    "        score = National_model.evaluate(test_input_arry, test_output_arry, verbose=1)\n",
    "        scores[directory] = score\n",
    "        score_dni = model_dni.evaluate(test_input_arry, test_dni_arry, verbose=1)\n",
    "        scores_dni[directory] = score_dni\n",
    "        preds = National_model.predict(test_input_arry)\n",
    "        pred_actuals[directory] = {'preds':list(preds), 'actuals': list(test_output_arry)}\n",
    "        preds_dni = model_dni.predict(test_input_arry)\n",
    "        pred_actuals_dni[directory] = {'preds':list(preds_dni), 'actuals': list(test_dni_arry)}\n",
    "        \n"
   ]
  },
  {
   "cell_type": "code",
   "execution_count": 47,
   "metadata": {},
   "outputs": [
    {
     "data": {
      "text/plain": [
       "dict_items([('Murphey_ID', [256.5926818847656, 6.783843994140625, 16.018510818481445]), ('OldTown_ME', [229.42138671875, 6.810364246368408, 15.146662712097168]), ('Quinault_WA', [104.5538101196289, 4.2642903327941895, 10.2251558303833]), ('Lincoln_NE', [161.93692016601562, 5.263095855712891, 12.725443840026855]), ('SanDiego_CA', [289.1909484863281, 7.785069942474365, 17.005615234375]), ('Boulder_CO', [1862.31884765625, 16.543825149536133, 43.15459060668945]), ('Miami_FL', [675.23779296875, 10.51191234588623, 25.98533821105957])])"
      ]
     },
     "execution_count": 47,
     "metadata": {},
     "output_type": "execute_result"
    }
   ],
   "source": [
    "scores.items()"
   ]
  },
  {
   "cell_type": "code",
   "execution_count": 48,
   "metadata": {},
   "outputs": [
    {
     "data": {
      "text/plain": [
       "dict_items([('Murphey_ID', [939.1104736328125, 15.076038360595703, 30.644908905029297]), ('OldTown_ME', [557.3621215820312, 10.745118141174316, 23.608518600463867]), ('Quinault_WA', [256.6160888671875, 7.151605129241943, 16.019241333007812]), ('Lincoln_NE', [461.11834716796875, 9.51038646697998, 21.47366714477539]), ('SanDiego_CA', [624.3943481445312, 11.896857261657715, 24.987884521484375]), ('Boulder_CO', [2644.204833984375, 28.022197723388672, 51.42183303833008]), ('Miami_FL', [1217.583251953125, 16.91837501525879, 34.89388656616211])])"
      ]
     },
     "execution_count": 48,
     "metadata": {},
     "output_type": "execute_result"
    }
   ],
   "source": [
    "scores_dni.items()"
   ]
  },
  {
   "cell_type": "code",
   "execution_count": 52,
   "metadata": {},
   "outputs": [
    {
     "name": "stderr",
     "output_type": "stream",
     "text": [
      "/usr/local/lib/python3.7/site-packages/matplotlib-2.2.4-py3.7-macosx-10.15-x86_64.egg/matplotlib/legend.py:640: UserWarning: Unrecognized location \"middle\". Falling back on \"best\"; valid locations are\n",
      "\tbest\n",
      "\tupper right\n",
      "\tupper left\n",
      "\tlower left\n",
      "\tlower right\n",
      "\tright\n",
      "\tcenter left\n",
      "\tcenter right\n",
      "\tlower center\n",
      "\tupper center\n",
      "\tcenter\n",
      "\n",
      "  % (loc, '\\n\\t'.join(self.codes)))\n"
     ]
    },
    {
     "data": {
      "image/png": "[encoded data removed]",
      "text/plain": [
       "<Figure size 432x288 with 1 Axes>"
      ]
     },
     "metadata": {},
     "output_type": "display_data"
    }
   ],
   "source": [
    "# Graphs\n",
    "legend_names = []\n",
    "for directory in pred_actuals.keys():\n",
    "    preds = ([float(i) for i in pred_actuals[directory]['preds']])\n",
    "    actuals =  ([float(i) for i in pred_actuals[directory]['actuals']])\n",
    "    plt.plot(preds)\n",
    "    legend_names.append(str(directory) +'-pred')\n",
    "    plt.plot(actuals)\n",
    "    legend_names.append(str(directory) +'actual')\n",
    "\n",
    "plt.title('Hourly Fitted vs actual')\n",
    "plt.ylabel('DHI Prediction')\n",
    "plt.xlabel('Hour')\n",
    "plt.legend(legend_names, loc='middle')\n",
    "plt.savefig('DHI-vs-Hour.png')\n",
    "plt.show()"
   ]
  },
  {
   "cell_type": "code",
   "execution_count": 53,
   "metadata": {},
   "outputs": [
    {
     "data": {
      "image/png": "[encoded data removed]",
      "text/plain": [
       "<Figure size 432x288 with 1 Axes>"
      ]
     },
     "metadata": {},
     "output_type": "display_data"
    }
   ],
   "source": [
    "# Graphs\n",
    "legend_names = []\n",
    "for directory in pred_actuals_dni.keys():\n",
    "    preds = ([float(i) for i in pred_actuals[directory]['preds']])\n",
    "    actuals =  ([float(i) for i in pred_actuals[directory]['actuals']])\n",
    "    plt.plot(preds)\n",
    "    legend_names.append(str(directory) +'-pred')\n",
    "    plt.plot(actuals)\n",
    "    legend_names.append(str(directory) +'actual')\n",
    "\n",
    "plt.title('Hourly Fitted vs actual')\n",
    "plt.ylabel('DNI Prediction')\n",
    "plt.xlabel('Hour')\n",
    "plt.legend(legend_names, loc='middle')\n",
    "plt.savefig('DNI-vs-Hour.png')\n",
    "plt.show()"
   ]
  },
  {
   "cell_type": "code",
   "execution_count": 96,
   "metadata": {},
   "outputs": [],
   "source": [
    "#Only Miami and Boulder_CO seem to be outliers"
   ]
  },
  {
   "cell_type": "markdown",
   "metadata": {},
   "source": [
    "## V.I Model Testing, Boulder Specific"
   ]
  },
  {
   "cell_type": "markdown",
   "metadata": {},
   "source": [
    "Lets see if we can train a model specific for Boulder, CO and see if we can get the mae down.\n",
    "Let's fetch more data from NRSDB and combine it with our readings from Darksky. Lets get data from 2008-2018."
   ]
  },
  {
   "cell_type": "code",
   "execution_count": 71,
   "metadata": {},
   "outputs": [
    {
     "name": "stdout",
     "output_type": "stream",
     "text": [
      "[]\n",
      "[]\n",
      "/Users/tuomastalvitie/Documents/Diffuse:Direct/solarIrradiencePredictor/Testing_Data/Boulder_CO/psm_CO_Boulder2018.csv\n",
      "/Users/tuomastalvitie/Documents/Diffuse:Direct/solarIrradiencePredictor/Testing_Data/Boulder_CO/psm_CO_Boulder2008.csv\n",
      "/Users/tuomastalvitie/Documents/Diffuse:Direct/solarIrradiencePredictor/Testing_Data/Boulder_CO/psm_CO_Boulder2009.csv\n",
      "/Users/tuomastalvitie/Documents/Diffuse:Direct/solarIrradiencePredictor/Testing_Data/Boulder_CO/psm_CO_Boulder2010.csv\n",
      "/Users/tuomastalvitie/Documents/Diffuse:Direct/solarIrradiencePredictor/Testing_Data/Boulder_CO/psm_CO_Boulder2011.csv\n",
      "/Users/tuomastalvitie/Documents/Diffuse:Direct/solarIrradiencePredictor/Testing_Data/Boulder_CO/psm_CO_Boulder2013.csv\n",
      "/Users/tuomastalvitie/Documents/Diffuse:Direct/solarIrradiencePredictor/Testing_Data/Boulder_CO/psm_CO_Boulder2012.csv\n",
      "/Users/tuomastalvitie/Documents/Diffuse:Direct/solarIrradiencePredictor/Testing_Data/Boulder_CO/psm_CO_Boulder2016.csv\n",
      "/Users/tuomastalvitie/Documents/Diffuse:Direct/solarIrradiencePredictor/Testing_Data/Boulder_CO/psm_CO_Boulder2017.csv\n",
      "/Users/tuomastalvitie/Documents/Diffuse:Direct/solarIrradiencePredictor/Testing_Data/Boulder_CO/psm_CO_Boulder2015.csv\n",
      "/Users/tuomastalvitie/Documents/Diffuse:Direct/solarIrradiencePredictor/Testing_Data/Boulder_CO/psm_CO_Boulder2014.csv\n"
     ]
    }
   ],
   "source": [
    "input_size = 6\n",
    "input_arry = np.array([], dtype=np.float64).reshape(0,input_size)\n",
    "output_arry = np.array([], dtype=np.float64)\n",
    "dni_arry = np.array([], dtype=np.float64)\n",
    "\n",
    "print(input_arry)\n",
    "print(output_arry)\n",
    "from glob import glob\n",
    "for path in glob(_Testing_Data_Dir+'/Boulder_CO'):\n",
    "    for file in glob(path+'/psm_'+'*'):\n",
    "        print(file)\n",
    "        df = pd.read_csv(file)\n",
    "        input_arry, output_arry, dni_arry = combine_training_arrays(df, input_arry, output_arry ,dni_arry)"
   ]
  },
  {
   "cell_type": "code",
   "execution_count": 88,
   "metadata": {},
   "outputs": [],
   "source": [
    "keras.backend.clear_session()\n",
    "tf.keras.backend.clear_session()"
   ]
  },
  {
   "cell_type": "code",
   "execution_count": 89,
   "metadata": {},
   "outputs": [
    {
     "data": {
      "text/plain": [
       "<function tensorflow.python.framework.ops.reset_default_graph()>"
      ]
     },
     "execution_count": 89,
     "metadata": {},
     "output_type": "execute_result"
    }
   ],
   "source": [
    "keras.backend.clear_session()\n",
    "tf.keras.backend.clear_session()\n",
    "tf.compat.v1.reset_default_graph"
   ]
  },
  {
   "cell_type": "code",
   "execution_count": 82,
   "metadata": {},
   "outputs": [],
   "source": [
    "model_Boulder = keras.Sequential()\n",
    "model_Boulder.add(keras.layers.Dense(300, activation=\"relu\"))\n",
    "model_Boulder.add(layers.Dense(200, activation=\"relu\"))\n",
    "model_Boulder.add(layers.Dense(100, activation=\"relu\"))\n",
    "model_Boulder.add(layers.Dense(50, activation=\"relu\"))\n",
    "model_Boulder.add(layers.Dense(25, activation=\"relu\"))\n",
    "model_Boulder.add(layers.Dense(1, activation='relu'))"
   ]
  },
  {
   "cell_type": "code",
   "execution_count": 83,
   "metadata": {},
   "outputs": [
    {
     "name": "stdout",
     "output_type": "stream",
     "text": [
      "Epoch 1/100\n",
      "3012/3012 [==============================] - 5s 2ms/step - loss: 2971.1973 - mae: 26.1396 - root_mean_squared_error: 54.5087\n",
      "Epoch 2/100\n",
      "3012/3012 [==============================] - 4s 1ms/step - loss: 742.3978 - mae: 11.6534 - root_mean_squared_error: 27.2470A: 2s - loss: 782.2441 -\n",
      "Epoch 3/100\n",
      "3012/3012 [==============================] - 4s 1ms/step - loss: 632.9667 - mae: 10.5949 - root_mean_squared_error: 25.1588A: 3s - lo\n",
      "Epoch 4/100\n",
      "3012/3012 [==============================] - 5s 2ms/step - loss: 605.2292 - mae: 10.2214 - root_mean_squared_error: 24.6014\n",
      "Epoch 5/100\n",
      "3012/3012 [==============================] - 7s 2ms/step - loss: 562.4862 - mae: 9.6505 - root_mean_squared_error: 23.7168\n",
      "Epoch 6/100\n",
      "3012/3012 [==============================] - 5s 2ms/step - loss: 568.0350 - mae: 9.6200 - root_mean_squared_error: 23.8335\n",
      "Epoch 7/100\n",
      "3012/3012 [==============================] - 5s 2ms/step - loss: 532.8473 - mae: 9.1577 - root_mean_squared_error: 23.0835\n",
      "Epoch 8/100\n",
      "3012/3012 [==============================] - 5s 2ms/step - loss: 527.6269 - mae: 9.1834 - root_mean_squared_error: 22.9701\n",
      "Epoch 9/100\n",
      "3012/3012 [==============================] - 4s 1ms/step - loss: 536.9570 - mae: 9.2280 - root_mean_squared_error: 23.1723\n",
      "Epoch 10/100\n",
      "3012/3012 [==============================] - 5s 2ms/step - loss: 510.8714 - mae: 8.9260 - root_mean_squared_error: 22.6025\n",
      "Epoch 11/100\n",
      "3012/3012 [==============================] - 4s 1ms/step - loss: 523.8365 - mae: 9.0057 - root_mean_squared_error: 22.8875: 0s - loss: 530.3535 - mae: 9.0447 - root_mean_squared_er\n",
      "Epoch 12/100\n",
      "3012/3012 [==============================] - 4s 1ms/step - loss: 502.3869 - mae: 8.8535 - root_mean_squared_error: 22.4140\n",
      "Epoch 13/100\n",
      "3012/3012 [==============================] - 4s 1ms/step - loss: 500.9349 - mae: 8.8315 - root_mean_squared_error: 22.3816\n",
      "Epoch 14/100\n",
      "3012/3012 [==============================] - 4s 1ms/step - loss: 499.6190 - mae: 8.7213 - root_mean_squared_error: 22.3522\n",
      "Epoch 15/100\n",
      "3012/3012 [==============================] - 4s 1ms/step - loss: 503.9047 - mae: 8.7865 - root_mean_squared_error: 22.4478\n",
      "Epoch 16/100\n",
      "3012/3012 [==============================] - 4s 1ms/step - loss: 496.1349 - mae: 8.7110 - root_mean_squared_error: 22.2741\n",
      "Epoch 17/100\n",
      "3012/3012 [==============================] - 4s 1ms/step - loss: 491.5499 - mae: 8.6645 - root_mean_squared_error: 22.1709\n",
      "Epoch 18/100\n",
      "3012/3012 [==============================] - 6s 2ms/step - loss: 493.4812 - mae: 8.6760 - root_mean_squared_error: 22.2144\n",
      "Epoch 19/100\n",
      "3012/3012 [==============================] - 4s 1ms/step - loss: 505.2005 - mae: 8.7929 - root_mean_squared_error: 22.4767\n",
      "Epoch 20/100\n",
      "3012/3012 [==============================] - 4s 1ms/step - loss: 475.3525 - mae: 8.5031 - root_mean_squared_error: 21.8026\n",
      "Epoch 21/100\n",
      "3012/3012 [==============================] - 4s 1ms/step - loss: 473.3301 - mae: 8.4182 - root_mean_squared_error: 21.7562\n",
      "Epoch 22/100\n",
      "3012/3012 [==============================] - 4s 1ms/step - loss: 480.5078 - mae: 8.5465 - root_mean_squared_error: 21.9205: 2s - loss: 478.7708 - mae: 8.5861 - root_mean_sq\n",
      "Epoch 23/100\n",
      "3012/3012 [==============================] - 4s 1ms/step - loss: 477.4682 - mae: 8.5106 - root_mean_squared_error: 21.8510\n",
      "Epoch 24/100\n",
      "3012/3012 [==============================] - 4s 1ms/step - loss: 471.3961 - mae: 8.4576 - root_mean_squared_error: 21.7117\n",
      "Epoch 25/100\n",
      "3012/3012 [==============================] - 4s 1ms/step - loss: 473.7200 - mae: 8.4252 - root_mean_squared_error: 21.7651\n",
      "Epoch 26/100\n",
      "3012/3012 [==============================] - 4s 1ms/step - loss: 477.9247 - mae: 8.4460 - root_mean_squared_error: 21.8615\n",
      "Epoch 27/100\n",
      "3012/3012 [==============================] - 4s 1ms/step - loss: 461.7381 - mae: 8.3019 - root_mean_squared_error: 21.4881\n",
      "Epoch 28/100\n",
      "3012/3012 [==============================] - 4s 1ms/step - loss: 461.1770 - mae: 8.3265 - root_mean_squared_error: 21.4750\n",
      "Epoch 29/100\n",
      "3012/3012 [==============================] - 4s 1ms/step - loss: 460.4066 - mae: 8.2814 - root_mean_squared_error: 21.4571\n",
      "Epoch 30/100\n",
      "3012/3012 [==============================] - 5s 2ms/step - loss: 456.3100 - mae: 8.2376 - root_mean_squared_error: 21.3614\n",
      "Epoch 31/100\n",
      "3012/3012 [==============================] - 4s 1ms/step - loss: 466.4371 - mae: 8.2720 - root_mean_squared_error: 21.5972\n",
      "Epoch 32/100\n",
      "3012/3012 [==============================] - 6s 2ms/step - loss: 450.4528 - mae: 8.1568 - root_mean_squared_error: 21.2239\n",
      "Epoch 33/100\n",
      "3012/3012 [==============================] - 4s 1ms/step - loss: 462.6963 - mae: 8.2672 - root_mean_squared_error: 21.5104\n",
      "Epoch 34/100\n",
      "3012/3012 [==============================] - 4s 1ms/step - loss: 458.1354 - mae: 8.2251 - root_mean_squared_error: 21.4041\n",
      "Epoch 35/100\n",
      "3012/3012 [==============================] - 4s 1ms/step - loss: 456.8101 - mae: 8.1856 - root_mean_squared_error: 21.3731\n",
      "Epoch 36/100\n",
      "3012/3012 [==============================] - 4s 1ms/step - loss: 447.2791 - mae: 8.0893 - root_mean_squared_error: 21.1490\n",
      "Epoch 37/100\n",
      "3012/3012 [==============================] - 4s 1ms/step - loss: 450.4690 - mae: 8.1243 - root_mean_squared_error: 21.2243\n",
      "Epoch 38/100\n",
      "3012/3012 [==============================] - 4s 1ms/step - loss: 446.5372 - mae: 8.0381 - root_mean_squared_error: 21.1314\n",
      "Epoch 39/100\n",
      "3012/3012 [==============================] - 4s 1ms/step - loss: 454.4998 - mae: 8.1172 - root_mean_squared_error: 21.3190\n",
      "Epoch 40/100\n",
      "3012/3012 [==============================] - 4s 1ms/step - loss: 439.1517 - mae: 7.9553 - root_mean_squared_error: 20.9559\n",
      "Epoch 41/100\n",
      "3012/3012 [==============================] - 4s 1ms/step - loss: 442.9848 - mae: 8.0097 - root_mean_squared_error: 21.0472\n",
      "Epoch 42/100\n",
      "3012/3012 [==============================] - 4s 1ms/step - loss: 446.8553 - mae: 8.0516 - root_mean_squared_error: 21.1390: 0s - loss: 447.9425 - mae: 8.0551 - root_mean_squared_\n",
      "Epoch 43/100\n",
      "3012/3012 [==============================] - 4s 1ms/step - loss: 450.9033 - mae: 8.1068 - root_mean_squared_error: 21.2345\n",
      "Epoch 44/100\n",
      "3012/3012 [==============================] - 4s 1ms/step - loss: 445.1099 - mae: 7.9956 - root_mean_squared_error: 21.0976\n",
      "Epoch 45/100\n",
      "3012/3012 [==============================] - 5s 2ms/step - loss: 437.1129 - mae: 7.9316 - root_mean_squared_error: 20.9072\n",
      "Epoch 46/100\n",
      "3012/3012 [==============================] - 6s 2ms/step - loss: 443.1516 - mae: 7.9963 - root_mean_squared_error: 21.0512\n",
      "Epoch 47/100\n",
      "3012/3012 [==============================] - 4s 1ms/step - loss: 437.9924 - mae: 7.9674 - root_mean_squared_error: 20.9283\n",
      "Epoch 48/100\n",
      "3012/3012 [==============================] - 4s 1ms/step - loss: 432.7087 - mae: 7.8769 - root_mean_squared_error: 20.8017\n",
      "Epoch 49/100\n",
      "3012/3012 [==============================] - 4s 1ms/step - loss: 444.9171 - mae: 8.0005 - root_mean_squared_error: 21.0931\n",
      "Epoch 50/100\n",
      "3012/3012 [==============================] - 4s 1ms/step - loss: 438.8040 - mae: 7.9393 - root_mean_squared_error: 20.9476\n",
      "Epoch 51/100\n",
      "3012/3012 [==============================] - 4s 1ms/step - loss: 433.9366 - mae: 7.8540 - root_mean_squared_error: 20.8311: 0s - loss: 433.3132 - mae: 7.8226 - ro\n",
      "Epoch 52/100\n",
      "3012/3012 [==============================] - 4s 1ms/step - loss: 430.4917 - mae: 7.8574 - root_mean_squared_error: 20.7483\n",
      "Epoch 53/100\n",
      "3012/3012 [==============================] - 4s 1ms/step - loss: 431.1999 - mae: 7.8564 - root_mean_squared_error: 20.7654\n",
      "Epoch 54/100\n",
      "3012/3012 [==============================] - 4s 1ms/step - loss: 427.2439 - mae: 7.7305 - root_mean_squared_error: 20.6699\n",
      "Epoch 55/100\n",
      "3012/3012 [==============================] - 4s 1ms/step - loss: 427.5159 - mae: 7.7775 - root_mean_squared_error: 20.6765\n",
      "Epoch 56/100\n",
      "3012/3012 [==============================] - 4s 1ms/step - loss: 426.3791 - mae: 7.7778 - root_mean_squared_error: 20.6489\n",
      "Epoch 57/100\n",
      "3012/3012 [==============================] - 4s 1ms/step - loss: 425.9460 - mae: 7.7528 - root_mean_squared_error: 20.6385\n",
      "Epoch 58/100\n",
      "3012/3012 [==============================] - 4s 1ms/step - loss: 428.0241 - mae: 7.7718 - root_mean_squared_error: 20.6887\n",
      "Epoch 59/100\n",
      "3012/3012 [==============================] - 4s 1ms/step - loss: 430.8203 - mae: 7.7998 - root_mean_squared_error: 20.7562: 1s - loss: 4\n",
      "Epoch 60/100\n",
      "3012/3012 [==============================] - 4s 1ms/step - loss: 416.9117 - mae: 7.6310 - root_mean_squared_error: 20.4184\n",
      "Epoch 61/100\n",
      "3012/3012 [==============================] - 6s 2ms/step - loss: 422.8542 - mae: 7.6864 - root_mean_squared_error: 20.5634\n",
      "Epoch 62/100\n",
      "3012/3012 [==============================] - 4s 1ms/step - loss: 420.0557 - mae: 7.6501 - root_mean_squared_error: 20.4953\n",
      "Epoch 63/100\n",
      "3012/3012 [==============================] - 4s 1ms/step - loss: 420.4464 - mae: 7.6749 - root_mean_squared_error: 20.5048\n",
      "Epoch 64/100\n",
      "3012/3012 [==============================] - 4s 1ms/step - loss: 412.8191 - mae: 7.5551 - root_mean_squared_error: 20.3179\n",
      "Epoch 65/100\n",
      "3012/3012 [==============================] - 4s 1ms/step - loss: 412.5554 - mae: 7.5636 - root_mean_squared_error: 20.3115\n",
      "Epoch 66/100\n",
      "3012/3012 [==============================] - 4s 1ms/step - loss: 410.8098 - mae: 7.5422 - root_mean_squared_error: 20.2684: 2s - loss: 398.7234 - mae: 7.4398 - root_m\n",
      "Epoch 67/100\n",
      "3012/3012 [==============================] - 4s 1ms/step - loss: 411.5102 - mae: 7.5648 - root_mean_squared_error: 20.2857\n",
      "Epoch 68/100\n",
      "3012/3012 [==============================] - 4s 1ms/step - loss: 411.0690 - mae: 7.5574 - root_mean_squared_error: 20.2748\n",
      "Epoch 69/100\n",
      "3012/3012 [==============================] - 4s 1ms/step - loss: 408.2087 - mae: 7.4855 - root_mean_squared_error: 20.2042\n",
      "Epoch 70/100\n",
      "3012/3012 [==============================] - 4s 1ms/step - loss: 408.7380 - mae: 7.4304 - root_mean_squared_error: 20.2173\n",
      "Epoch 71/100\n",
      "3012/3012 [==============================] - 4s 1ms/step - loss: 401.9235 - mae: 7.4124 - root_mean_squared_error: 20.0480\n",
      "Epoch 72/100\n",
      "3012/3012 [==============================] - 4s 1ms/step - loss: 405.5233 - mae: 7.4464 - root_mean_squared_error: 20.1376\n",
      "Epoch 73/100\n",
      "3012/3012 [==============================] - 4s 1ms/step - loss: 403.2971 - mae: 7.4223 - root_mean_squared_error: 20.0823\n",
      "Epoch 74/100\n",
      "3012/3012 [==============================] - 4s 1ms/step - loss: 397.5922 - mae: 7.4088 - root_mean_squared_error: 19.9397\n",
      "Epoch 75/100\n",
      "3012/3012 [==============================] - 4s 1ms/step - loss: 398.0187 - mae: 7.3759 - root_mean_squared_error: 19.9504\n",
      "Epoch 76/100\n",
      "3012/3012 [==============================] - 6s 2ms/step - loss: 399.2593 - mae: 7.3325 - root_mean_squared_error: 19.9815\n",
      "Epoch 77/100\n",
      "3012/3012 [==============================] - 4s 1ms/step - loss: 396.1212 - mae: 7.3468 - root_mean_squared_error: 19.9028\n",
      "Epoch 78/100\n",
      "3012/3012 [==============================] - 4s 1ms/step - loss: 401.5172 - mae: 7.3664 - root_mean_squared_error: 20.0379\n",
      "Epoch 79/100\n",
      "3012/3012 [==============================] - 4s 1ms/step - loss: 392.9016 - mae: 7.2485 - root_mean_squared_error: 19.8217: 0s - loss: 390.5650 - mae: 7.2538 - root_mea\n",
      "Epoch 80/100\n",
      "3012/3012 [==============================] - 4s 1ms/step - loss: 391.5143 - mae: 7.2840 - root_mean_squared_error: 19.7867\n",
      "Epoch 81/100\n",
      "3012/3012 [==============================] - 4s 1ms/step - loss: 392.9270 - mae: 7.2346 - root_mean_squared_error: 19.8224\n",
      "Epoch 82/100\n",
      "3012/3012 [==============================] - 4s 1ms/step - loss: 392.8837 - mae: 7.2557 - root_mean_squared_error: 19.8213\n",
      "Epoch 83/100\n",
      "3012/3012 [==============================] - 4s 1ms/step - loss: 393.0756 - mae: 7.2458 - root_mean_squared_error: 19.8261\n",
      "Epoch 84/100\n",
      "3012/3012 [==============================] - 5s 2ms/step - loss: 392.2249 - mae: 7.2539 - root_mean_squared_error: 19.8047\n",
      "Epoch 85/100\n",
      "3012/3012 [==============================] - 4s 1ms/step - loss: 385.6696 - mae: 7.1347 - root_mean_squared_error: 19.6385\n",
      "Epoch 86/100\n",
      "3012/3012 [==============================] - 4s 1ms/step - loss: 386.7528 - mae: 7.1499 - root_mean_squared_error: 19.6660\n",
      "Epoch 87/100\n",
      "3012/3012 [==============================] - 4s 1ms/step - loss: 389.1403 - mae: 7.2475 - root_mean_squared_error: 19.7266\n",
      "Epoch 88/100\n",
      "3012/3012 [==============================] - 4s 1ms/step - loss: 379.8259 - mae: 7.0966 - root_mean_squared_error: 19.4891\n",
      "Epoch 89/100\n",
      "3012/3012 [==============================] - 4s 1ms/step - loss: 385.6028 - mae: 7.1794 - root_mean_squared_error: 19.6368\n",
      "Epoch 90/100\n",
      "3012/3012 [==============================] - 6s 2ms/step - loss: 381.8729 - mae: 7.0915 - root_mean_squared_error: 19.5416\n",
      "Epoch 91/100\n",
      "3012/3012 [==============================] - 4s 1ms/step - loss: 381.9183 - mae: 7.0505 - root_mean_squared_error: 19.5427\n",
      "Epoch 92/100\n",
      "3012/3012 [==============================] - 4s 1ms/step - loss: 381.6375 - mae: 7.0924 - root_mean_squared_error: 19.5355\n",
      "Epoch 93/100\n",
      "3012/3012 [==============================] - 4s 1ms/step - loss: 381.4640 - mae: 7.0760 - root_mean_squared_error: 19.5311\n",
      "Epoch 94/100\n",
      "3012/3012 [==============================] - 4s 1ms/step - loss: 379.7058 - mae: 7.0347 - root_mean_squared_error: 19.4860\n",
      "Epoch 95/100\n",
      "3012/3012 [==============================] - 4s 1ms/step - loss: 379.4090 - mae: 7.0168 - root_mean_squared_error: 19.4784\n",
      "Epoch 96/100\n",
      "3012/3012 [==============================] - 4s 1ms/step - loss: 376.3011 - mae: 6.9993 - root_mean_squared_error: 19.3985: 0s - loss: 374.9255 - mae: 6.9944 - root_mean_squared_erro\n",
      "Epoch 97/100\n",
      "3012/3012 [==============================] - 4s 1ms/step - loss: 377.6504 - mae: 6.9778 - root_mean_squared_error: 19.4332\n",
      "Epoch 98/100\n",
      "3012/3012 [==============================] - 4s 1ms/step - loss: 375.1265 - mae: 7.0091 - root_mean_squared_error: 19.3682\n",
      "Epoch 99/100\n",
      "3012/3012 [==============================] - 4s 1ms/step - loss: 372.6272 - mae: 6.9340 - root_mean_squared_error: 19.3036\n",
      "Epoch 100/100\n",
      "3012/3012 [==============================] - 5s 2ms/step - loss: 372.1228 - mae: 6.9591 - root_mean_squared_error: 19.2905: \n"
     ]
    }
   ],
   "source": [
    "#Compile and train\n",
    "model_Boulder.compile(optimizer=Adam(lr=0.0001), \n",
    "              loss='mse',\n",
    "              metrics=['mae',keras.metrics.RootMeanSquaredError()])\n",
    "\n",
    "history_Boulder = model_Boulder.fit(input_arry, output_arry, epochs=100, batch_size=32)"
   ]
  },
  {
   "cell_type": "code",
   "execution_count": 84,
   "metadata": {},
   "outputs": [],
   "source": [
    "#MAE falls to around 6.99"
   ]
  },
  {
   "cell_type": "code",
   "execution_count": 85,
   "metadata": {},
   "outputs": [
    {
     "data": {
      "image/png": "[encoded data removed]",
      "text/plain": [
       "<Figure size 432x288 with 1 Axes>"
      ]
     },
     "metadata": {},
     "output_type": "display_data"
    }
   ],
   "source": [
    "plt.plot(history_Boulder.history['mae'])\n",
    "plt.plot(history_Boulder.history['root_mean_squared_error'])\n",
    "plt.title('mae and rmse per epoch')\n",
    "plt.ylabel('Error')\n",
    "plt.xlabel('Epoch')\n",
    "plt.legend(['mae', 'rmse'], loc='upper left')\n",
    "plt.show()"
   ]
  },
  {
   "cell_type": "code",
   "execution_count": 90,
   "metadata": {},
   "outputs": [],
   "source": [
    "# And for DNI\n",
    "model_Boulder_dni = keras.Sequential()\n",
    "model_Boulder_dni.add(keras.layers.Dense(300, activation=\"relu\"))\n",
    "model_Boulder_dni.add(layers.Dense(200, activation=\"relu\"))\n",
    "model_Boulder_dni.add(layers.Dense(100, activation=\"relu\"))\n",
    "model_Boulder_dni.add(layers.Dense(50, activation=\"relu\"))\n",
    "model_Boulder_dni.add(layers.Dense(25, activation=\"relu\"))\n",
    "model_Boulder_dni.add(layers.Dense(1, activation='relu'))"
   ]
  },
  {
   "cell_type": "code",
   "execution_count": null,
   "metadata": {},
   "outputs": [],
   "source": []
  },
  {
   "cell_type": "code",
   "execution_count": 91,
   "metadata": {},
   "outputs": [
    {
     "name": "stdout",
     "output_type": "stream",
     "text": [
      "Epoch 1/100\n",
      "3012/3012 [==============================] - 6s 2ms/step - loss: 2338.7544 - mae: 22.6286 - root_mean_squared_error: 48.3607: 1s - loss:\n",
      "Epoch 2/100\n",
      "3012/3012 [==============================] - 4s 1ms/step - loss: 669.0292 - mae: 11.0875 - root_mean_squared_error: 25.8656A: 0s - loss: 676.7307 - mae: 11.1804 - root_mean_squared_err\n",
      "Epoch 3/100\n",
      "3012/3012 [==============================] - 7s 2ms/step - loss: 628.2718 - mae: 10.5359 - root_mean_squared_error: 25.0653A: 2s - l\n",
      "Epoch 4/100\n",
      "3012/3012 [==============================] - 4s 1ms/step - loss: 589.3350 - mae: 9.9591 - root_mean_squared_error: 24.2762\n",
      "Epoch 5/100\n",
      "3012/3012 [==============================] - 4s 1ms/step - loss: 588.2711 - mae: 9.8028 - root_mean_squared_error: 24.2543\n",
      "Epoch 6/100\n",
      "3012/3012 [==============================] - 5s 2ms/step - loss: 563.6911 - mae: 9.5249 - root_mean_squared_error: 23.7422: 1s - loss: 555.6598 - \n",
      "Epoch 7/100\n",
      "3012/3012 [==============================] - 5s 2ms/step - loss: 571.6766 - mae: 9.5210 - root_mean_squared_error: 23.9098\n",
      "Epoch 8/100\n",
      "3012/3012 [==============================] - 4s 1ms/step - loss: 540.2817 - mae: 9.2398 - root_mean_squared_error: 23.2440\n",
      "Epoch 9/100\n",
      "3012/3012 [==============================] - 4s 1ms/step - loss: 528.6971 - mae: 9.1381 - root_mean_squared_error: 22.9934\n",
      "Epoch 10/100\n",
      "3012/3012 [==============================] - 4s 1ms/step - loss: 533.3099 - mae: 9.2126 - root_mean_squared_error: 23.0935\n",
      "Epoch 11/100\n",
      "3012/3012 [==============================] - 5s 2ms/step - loss: 515.1038 - mae: 8.9205 - root_mean_squared_error: 22.6959\n",
      "Epoch 12/100\n",
      "3012/3012 [==============================] - 5s 2ms/step - loss: 507.0735 - mae: 8.7900 - root_mean_squared_error: 22.5183\n",
      "Epoch 13/100\n",
      "3012/3012 [==============================] - 5s 2ms/step - loss: 503.5458 - mae: 8.7401 - root_mean_squared_error: 22.4398: 0s - loss: 505.0580 - mae: 8.7294 - root_mean_squa\n",
      "Epoch 14/100\n",
      "3012/3012 [==============================] - 5s 2ms/step - loss: 504.5594 - mae: 8.7881 - root_mean_squared_error: 22.4624\n",
      "Epoch 15/100\n",
      "3012/3012 [==============================] - 5s 2ms/step - loss: 497.0509 - mae: 8.6553 - root_mean_squared_error: 22.2946\n",
      "Epoch 16/100\n",
      "3012/3012 [==============================] - 7s 2ms/step - loss: 500.0528 - mae: 8.6526 - root_mean_squared_error: 22.3619\n",
      "Epoch 17/100\n",
      "3012/3012 [==============================] - 5s 2ms/step - loss: 496.5122 - mae: 8.7438 - root_mean_squared_error: 22.2826: 0s - loss: 496.6133 - mae: 8.7458 - root_mean_squared_error: 22.28\n",
      "Epoch 18/100\n",
      "3012/3012 [==============================] - 4s 1ms/step - loss: 497.2747 - mae: 8.7394 - root_mean_squared_error: 22.2997\n",
      "Epoch 19/100\n",
      "3012/3012 [==============================] - 4s 1ms/step - loss: 484.9203 - mae: 8.5472 - root_mean_squared_error: 22.0209\n",
      "Epoch 20/100\n",
      "3012/3012 [==============================] - 4s 1ms/step - loss: 482.7530 - mae: 8.4576 - root_mean_squared_error: 21.9716: 1s -\n",
      "Epoch 21/100\n",
      "3012/3012 [==============================] - 5s 2ms/step - loss: 485.6964 - mae: 8.5462 - root_mean_squared_error: 22.0385\n",
      "Epoch 22/100\n",
      "3012/3012 [==============================] - 4s 1ms/step - loss: 475.6758 - mae: 8.4481 - root_mean_squared_error: 21.8100\n",
      "Epoch 23/100\n",
      "3012/3012 [==============================] - 4s 1ms/step - loss: 467.6508 - mae: 8.3487 - root_mean_squared_error: 21.6252\n",
      "Epoch 24/100\n",
      "3012/3012 [==============================] - 5s 2ms/step - loss: 464.8579 - mae: 8.2932 - root_mean_squared_error: 21.5606: 5s - loss: 480.1293 - mae:\n",
      "Epoch 25/100\n",
      "3012/3012 [==============================] - 5s 2ms/step - loss: 465.5540 - mae: 8.3793 - root_mean_squared_error: 21.5767\n",
      "Epoch 26/100\n",
      "3012/3012 [==============================] - 5s 2ms/step - loss: 467.6301 - mae: 8.3607 - root_mean_squared_error: 21.6248\n",
      "Epoch 27/100\n",
      "3012/3012 [==============================] - 4s 1ms/step - loss: 473.5818 - mae: 8.3562 - root_mean_squared_error: 21.7619\n",
      "Epoch 28/100\n",
      "3012/3012 [==============================] - 7s 2ms/step - loss: 466.0808 - mae: 8.3295 - root_mean_squared_error: 21.5889\n",
      "Epoch 29/100\n",
      "3012/3012 [==============================] - 5s 2ms/step - loss: 471.5568 - mae: 8.3650 - root_mean_squared_error: 21.7154: 1s - loss: 476.5623 - \n",
      "Epoch 30/100\n",
      "3012/3012 [==============================] - 4s 1ms/step - loss: 467.0073 - mae: 8.2715 - root_mean_squared_error: 21.6104\n",
      "Epoch 31/100\n",
      "3012/3012 [==============================] - 5s 2ms/step - loss: 459.2404 - mae: 8.2260 - root_mean_squared_error: 21.4299\n",
      "Epoch 32/100\n",
      "3012/3012 [==============================] - 4s 1ms/step - loss: 446.3824 - mae: 8.0823 - root_mean_squared_error: 21.1278\n",
      "Epoch 33/100\n",
      "3012/3012 [==============================] - 5s 2ms/step - loss: 462.7358 - mae: 8.2735 - root_mean_squared_error: 21.5113\n",
      "Epoch 34/100\n",
      "3012/3012 [==============================] - 4s 1ms/step - loss: 454.6157 - mae: 8.1492 - root_mean_squared_error: 21.3217\n",
      "Epoch 35/100\n",
      "3012/3012 [==============================] - 5s 2ms/step - loss: 450.0693 - mae: 8.0833 - root_mean_squared_error: 21.2148\n",
      "Epoch 36/100\n",
      "3012/3012 [==============================] - 5s 2ms/step - loss: 448.7243 - mae: 8.1467 - root_mean_squared_error: 21.1831: 0s - loss: 440.8927 - mae: 8.070\n",
      "Epoch 37/100\n",
      "3012/3012 [==============================] - 4s 1ms/step - loss: 455.4406 - mae: 8.1639 - root_mean_squared_error: 21.3411\n",
      "Epoch 38/100\n",
      "3012/3012 [==============================] - 5s 2ms/step - loss: 455.7757 - mae: 8.1357 - root_mean_squared_error: 21.3489\n",
      "Epoch 39/100\n",
      "3012/3012 [==============================] - 5s 2ms/step - loss: 446.0013 - mae: 8.0675 - root_mean_squared_error: 21.1187\n",
      "Epoch 40/100\n",
      "3012/3012 [==============================] - 5s 2ms/step - loss: 449.1687 - mae: 8.0986 - root_mean_squared_error: 21.1936\n",
      "Epoch 41/100\n",
      "3012/3012 [==============================] - 7s 2ms/step - loss: 446.6723 - mae: 8.0182 - root_mean_squared_error: 21.1346\n",
      "Epoch 42/100\n",
      "3012/3012 [==============================] - 4s 1ms/step - loss: 447.5000 - mae: 8.0488 - root_mean_squared_error: 21.1542\n",
      "Epoch 43/100\n",
      "3012/3012 [==============================] - 5s 2ms/step - loss: 434.6428 - mae: 7.8910 - root_mean_squared_error: 20.8481\n",
      "Epoch 44/100\n",
      "3012/3012 [==============================] - 5s 2ms/step - loss: 447.2399 - mae: 8.0465 - root_mean_squared_error: 21.1480\n",
      "Epoch 45/100\n",
      "3012/3012 [==============================] - 4s 1ms/step - loss: 438.7431 - mae: 7.9483 - root_mean_squared_error: 20.9462\n",
      "Epoch 46/100\n",
      "3012/3012 [==============================] - 4s 1ms/step - loss: 435.4216 - mae: 7.8712 - root_mean_squared_error: 20.8668\n",
      "Epoch 47/100\n",
      "3012/3012 [==============================] - 5s 2ms/step - loss: 440.4449 - mae: 7.9998 - root_mean_squared_error: 20.9868: 1s - loss: 442.5026 - \n",
      "Epoch 48/100\n",
      "3012/3012 [==============================] - 5s 2ms/step - loss: 436.6592 - mae: 7.8952 - root_mean_squared_error: 20.8964: 1s - loss: 433.4922 - mae: 7\n",
      "Epoch 49/100\n",
      "3012/3012 [==============================] - 5s 2ms/step - loss: 433.2368 - mae: 7.8610 - root_mean_squared_error: 20.8143: 2s - ETA: 0s - loss: 433.6449 - mae: 7.8891 - ro\n",
      "Epoch 50/100\n",
      "3012/3012 [==============================] - 4s 1ms/step - loss: 427.5385 - mae: 7.7839 - root_mean_squared_error: 20.6770: 0s - loss: 424.9235 - mae: 7.7720 - root_mean_squared_erro\n",
      "Epoch 51/100\n",
      "3012/3012 [==============================] - 4s 1ms/step - loss: 426.9631 - mae: 7.7713 - root_mean_squared_error: 20.6631: 0s - loss: 420.9863 - mae: 7.7209 - ro\n",
      "Epoch 52/100\n",
      "3012/3012 [==============================] - 5s 2ms/step - loss: 426.7685 - mae: 7.7489 - root_mean_squared_error: 20.6584\n",
      "Epoch 53/100\n",
      "3012/3012 [==============================] - 7s 2ms/step - loss: 420.8165 - mae: 7.6735 - root_mean_squared_error: 20.5138\n",
      "Epoch 54/100\n",
      "3012/3012 [==============================] - 5s 2ms/step - loss: 423.2256 - mae: 7.7323 - root_mean_squared_error: 20.5724\n",
      "Epoch 55/100\n",
      "3012/3012 [==============================] - 4s 1ms/step - loss: 422.0941 - mae: 7.6792 - root_mean_squared_error: 20.5449\n",
      "Epoch 56/100\n",
      "3012/3012 [==============================] - 5s 2ms/step - loss: 423.2196 - mae: 7.6839 - root_mean_squared_error: 20.5723\n",
      "Epoch 57/100\n",
      "3012/3012 [==============================] - 5s 2ms/step - loss: 422.1391 - mae: 7.6412 - root_mean_squared_error: 20.5460: 2s - loss: 419.9930 - mae: 7.6423 -  - E\n",
      "Epoch 58/100\n",
      "3012/3012 [==============================] - 4s 1ms/step - loss: 415.9860 - mae: 7.6382 - root_mean_squared_error: 20.3957\n",
      "Epoch 59/100\n",
      "3012/3012 [==============================] - 4s 1ms/step - loss: 424.1861 - mae: 7.7470 - root_mean_squared_error: 20.5958\n",
      "Epoch 60/100\n",
      "3012/3012 [==============================] - 4s 1ms/step - loss: 414.1130 - mae: 7.5749 - root_mean_squared_error: 20.3498\n",
      "Epoch 61/100\n",
      "3012/3012 [==============================] - 4s 1ms/step - loss: 416.2557 - mae: 7.5835 - root_mean_squared_error: 20.4023\n",
      "Epoch 62/100\n",
      "3012/3012 [==============================] - 4s 1ms/step - loss: 414.8481 - mae: 7.5752 - root_mean_squared_error: 20.3678\n",
      "Epoch 63/100\n",
      "3012/3012 [==============================] - 4s 1ms/step - loss: 408.1504 - mae: 7.4323 - root_mean_squared_error: 20.2027\n",
      "Epoch 64/100\n",
      "3012/3012 [==============================] - 4s 1ms/step - loss: 410.5614 - mae: 7.5558 - root_mean_squared_error: 20.2623\n",
      "Epoch 65/100\n",
      "3012/3012 [==============================] - 4s 1ms/step - loss: 405.9069 - mae: 7.4677 - root_mean_squared_error: 20.1471\n",
      "Epoch 66/100\n",
      "3012/3012 [==============================] - 9s 3ms/step - loss: 409.8516 - mae: 7.5377 - root_mean_squared_error: 20.2448\n",
      "Epoch 67/100\n",
      "3012/3012 [==============================] - 7s 2ms/step - loss: 404.0919 - mae: 7.4655 - root_mean_squared_error: 20.1020\n",
      "Epoch 68/100\n",
      "3012/3012 [==============================] - 7s 2ms/step - loss: 402.2145 - mae: 7.3983 - root_mean_squared_error: 20.0553\n",
      "Epoch 69/100\n",
      "3012/3012 [==============================] - 7s 2ms/step - loss: 402.3141 - mae: 7.3741 - root_mean_squared_error: 20.0578\n",
      "Epoch 70/100\n",
      "3012/3012 [==============================] - 6s 2ms/step - loss: 399.2677 - mae: 7.4214 - root_mean_squared_error: 19.9817: 2s - loss: 403.0937 - mae: 7.4864 - ro - ETA: 1s - loss: 395.216\n",
      "Epoch 71/100\n",
      "3012/3012 [==============================] - 5s 2ms/step - loss: 402.1641 - mae: 7.3991 - root_mean_squared_error: 20.0540: 0s - loss: 397.5665 - mae: 7.3885 \n",
      "Epoch 72/100\n",
      "3012/3012 [==============================] - 5s 2ms/step - loss: 392.1879 - mae: 7.2170 - root_mean_squared_error: 19.8037: 0s - loss: 400.0346 - mae: 7.2780 - ro\n",
      "Epoch 73/100\n",
      "3012/3012 [==============================] - 4s 1ms/step - loss: 392.7761 - mae: 7.2694 - root_mean_squared_error: 19.8186\n",
      "Epoch 74/100\n",
      "3012/3012 [==============================] - 6s 2ms/step - loss: 396.2927 - mae: 7.3238 - root_mean_squared_error: 19.9071\n",
      "Epoch 75/100\n",
      "3012/3012 [==============================] - 5s 2ms/step - loss: 393.2481 - mae: 7.2307 - root_mean_squared_error: 19.8305\n",
      "Epoch 76/100\n",
      "3012/3012 [==============================] - 6s 2ms/step - loss: 395.5791 - mae: 7.2370 - root_mean_squared_error: 19.8892\n",
      "Epoch 77/100\n",
      "3012/3012 [==============================] - 4s 1ms/step - loss: 393.4805 - mae: 7.2222 - root_mean_squared_error: 19.8363\n",
      "Epoch 78/100\n",
      "3012/3012 [==============================] - 4s 1ms/step - loss: 389.6518 - mae: 7.1951 - root_mean_squared_error: 19.7396\n",
      "Epoch 79/100\n",
      "3012/3012 [==============================] - 4s 1ms/step - loss: 386.2997 - mae: 7.2026 - root_mean_squared_error: 19.6545 - ETA: 0s - loss: 385.4172 - mae: 7.2191 - ro\n",
      "Epoch 80/100\n",
      "3012/3012 [==============================] - 5s 2ms/step - loss: 392.1240 - mae: 7.1989 - root_mean_squared_error: 19.8021\n",
      "Epoch 81/100\n",
      "3012/3012 [==============================] - 5s 2ms/step - loss: 386.6059 - mae: 7.2021 - root_mean_squared_error: 19.6623\n",
      "Epoch 82/100\n",
      "3012/3012 [==============================] - 4s 1ms/step - loss: 383.2013 - mae: 7.1262 - root_mean_squared_error: 19.5755\n",
      "Epoch 83/100\n",
      "3012/3012 [==============================] - 4s 1ms/step - loss: 383.8181 - mae: 7.0810 - root_mean_squared_error: 19.5913\n",
      "Epoch 84/100\n",
      "3012/3012 [==============================] - 4s 1ms/step - loss: 390.7143 - mae: 7.1501 - root_mean_squared_error: 19.7665\n",
      "Epoch 85/100\n",
      "3012/3012 [==============================] - 4s 1ms/step - loss: 377.5362 - mae: 6.9577 - root_mean_squared_error: 19.4303\n",
      "Epoch 86/100\n",
      "3012/3012 [==============================] - 4s 1ms/step - loss: 378.5634 - mae: 7.0687 - root_mean_squared_error: 19.4567\n",
      "Epoch 87/100\n",
      "3012/3012 [==============================] - 5s 2ms/step - loss: 376.4683 - mae: 7.0300 - root_mean_squared_error: 19.4028\n",
      "Epoch 88/100\n",
      "3012/3012 [==============================] - 4s 1ms/step - loss: 377.9581 - mae: 7.0502 - root_mean_squared_error: 19.4411: 0s - loss: 374.9981 - mae: 7.0210 - root_m\n",
      "Epoch 89/100\n",
      "3012/3012 [==============================] - 6s 2ms/step - loss: 378.8967 - mae: 7.0329 - root_mean_squared_error: 19.4653\n",
      "Epoch 90/100\n",
      "3012/3012 [==============================] - 5s 2ms/step - loss: 383.7780 - mae: 7.0386 - root_mean_squared_error: 19.5903: 2s - loss: 371.3970 - mae: 6.8755 - root_mean_squared_error:\n",
      "Epoch 91/100\n",
      "3012/3012 [==============================] - 4s 1ms/step - loss: 376.2023 - mae: 6.9770 - root_mean_squared_error: 19.3959\n",
      "Epoch 92/100\n",
      "3012/3012 [==============================] - 4s 1ms/step - loss: 375.9826 - mae: 6.9275 - root_mean_squared_error: 19.3903\n",
      "Epoch 93/100\n",
      "3012/3012 [==============================] - 5s 1ms/step - loss: 376.5594 - mae: 6.9893 - root_mean_squared_error: 19.4051TA: 1s - loss: 375.0626 - mae: - ETA: 0s - loss: 375.9593 - mae: 6.9750 - root_mean_squared_error: 1\n",
      "Epoch 94/100\n",
      "3012/3012 [==============================] - 4s 1ms/step - loss: 369.1947 - mae: 6.8996 - root_mean_squared_error: 19.2144\n",
      "Epoch 95/100\n",
      "3012/3012 [==============================] - 5s 2ms/step - loss: 366.9420 - mae: 6.8741 - root_mean_squared_error: 19.1557: 1s - loss: 3\n",
      "Epoch 96/100\n",
      "3012/3012 [==============================] - 4s 1ms/step - loss: 372.8309 - mae: 6.9109 - root_mean_squared_error: 19.3088\n",
      "Epoch 97/100\n",
      "3012/3012 [==============================] - 5s 1ms/step - loss: 367.8419 - mae: 6.8489 - root_mean_squared_error: 19.1792: 1s - loss: 362\n",
      "Epoch 98/100\n",
      "3012/3012 [==============================] - 4s 1ms/step - loss: 375.3361 - mae: 6.9501 - root_mean_squared_error: 19.3736\n",
      "Epoch 99/100\n",
      "3012/3012 [==============================] - 4s 1ms/step - loss: 371.2079 - mae: 6.8750 - root_mean_squared_error: 19.2668\n",
      "Epoch 100/100\n",
      "3012/3012 [==============================] - 5s 2ms/step - loss: 371.5292 - mae: 6.9211 - root_mean_squared_error: 19.2751\n"
     ]
    }
   ],
   "source": [
    "#Compile and train\n",
    "model_Boulder_dni.compile(optimizer=Adam(lr=0.0001), \n",
    "              loss='mse',\n",
    "              metrics=['mae',keras.metrics.RootMeanSquaredError()])\n",
    "\n",
    "history_Boulder_dni = model_Boulder_dni.fit(input_arry, output_arry, epochs=100, batch_size=32)"
   ]
  },
  {
   "cell_type": "code",
   "execution_count": 92,
   "metadata": {},
   "outputs": [
    {
     "name": "stderr",
     "output_type": "stream",
     "text": [
      "/usr/local/lib/python3.7/site-packages/matplotlib-2.2.4-py3.7-macosx-10.15-x86_64.egg/matplotlib/legend.py:640: UserWarning: Unrecognized location \"middle\". Falling back on \"best\"; valid locations are\n",
      "\tbest\n",
      "\tupper right\n",
      "\tupper left\n",
      "\tlower left\n",
      "\tlower right\n",
      "\tright\n",
      "\tcenter left\n",
      "\tcenter right\n",
      "\tlower center\n",
      "\tupper center\n",
      "\tcenter\n",
      "\n",
      "  % (loc, '\\n\\t'.join(self.codes)))\n"
     ]
    },
    {
     "data": {
      "image/png": "[encoded data removed]",
      "text/plain": [
       "<Figure size 432x288 with 1 Axes>"
      ]
     },
     "metadata": {},
     "output_type": "display_data"
    }
   ],
   "source": [
    "plt.plot(history_Boulder.history['mae'])\n",
    "plt.plot(history_Boulder.history['root_mean_squared_error'])\n",
    "plt.plot(history_Boulder_dni.history['mae'])\n",
    "plt.plot(history_Boulder_dni.history['root_mean_squared_error'])\n",
    "plt.title('MAE and RMSE per epoch')\n",
    "plt.ylabel('Error')\n",
    "plt.xlabel('Epoch')\n",
    "plt.legend(['MAE', 'RMSE','MAE-DNI', 'RMSE-DNI' ], loc='middle')\n",
    "plt.savefig('error-v-epoch-Boulder.png')\n",
    "plt.show()"
   ]
  },
  {
   "cell_type": "markdown",
   "metadata": {},
   "source": [
    "## V.II Model Testing,  Boulder Specific Model on Boulder 2018 data"
   ]
  },
  {
   "cell_type": "markdown",
   "metadata": {},
   "source": [
    "Test on 2018 data only"
   ]
  },
  {
   "cell_type": "code",
   "execution_count": 9,
   "metadata": {},
   "outputs": [],
   "source": [
    "model_Boulder = keras.models.load_model('Neural_Nets/Neural_Net_Boulder_CO')\n",
    "model_Boulder_dni = keras.models.load_model('Neural_Nets/Neural_Net_Boulder_CO-dni')"
   ]
  },
  {
   "cell_type": "code",
   "execution_count": 53,
   "metadata": {},
   "outputs": [
    {
     "data": {
      "text/html": [
       "<div>\n",
       "<style scoped>\n",
       "    .dataframe tbody tr th:only-of-type {\n",
       "        vertical-align: middle;\n",
       "    }\n",
       "\n",
       "    .dataframe tbody tr th {\n",
       "        vertical-align: top;\n",
       "    }\n",
       "\n",
       "    .dataframe thead th {\n",
       "        text-align: right;\n",
       "    }\n",
       "</style>\n",
       "<table border=\"1\" class=\"dataframe\">\n",
       "  <thead>\n",
       "    <tr style=\"text-align: right;\">\n",
       "      <th></th>\n",
       "      <th>Year</th>\n",
       "      <th>Month</th>\n",
       "      <th>Day</th>\n",
       "      <th>Hour</th>\n",
       "      <th>Minute</th>\n",
       "      <th>Temperature</th>\n",
       "      <th>Clearsky DHI</th>\n",
       "      <th>Clearsky DNI</th>\n",
       "      <th>Clearsky GHI</th>\n",
       "      <th>Cloud Type</th>\n",
       "      <th>...</th>\n",
       "      <th>Solar Zenith Angle</th>\n",
       "      <th>Surface Albedo</th>\n",
       "      <th>Pressure</th>\n",
       "      <th>Precipitable Water</th>\n",
       "      <th>Wind Direction</th>\n",
       "      <th>Wind Speed</th>\n",
       "      <th>Global Horizontal UV Irradiance (280-400nm)</th>\n",
       "      <th>Global Horizontal UV Irradiance (285-385nm)</th>\n",
       "      <th>timestamps</th>\n",
       "      <th>Cloud Cover</th>\n",
       "    </tr>\n",
       "  </thead>\n",
       "  <tbody>\n",
       "    <tr>\n",
       "      <th>0</th>\n",
       "      <td>2018</td>\n",
       "      <td>1</td>\n",
       "      <td>1</td>\n",
       "      <td>0</td>\n",
       "      <td>30</td>\n",
       "      <td>-14.3</td>\n",
       "      <td>0</td>\n",
       "      <td>0</td>\n",
       "      <td>0</td>\n",
       "      <td>0</td>\n",
       "      <td>...</td>\n",
       "      <td>98.21</td>\n",
       "      <td>0.67</td>\n",
       "      <td>711</td>\n",
       "      <td>0.2</td>\n",
       "      <td>261</td>\n",
       "      <td>0.9</td>\n",
       "      <td>NaN</td>\n",
       "      <td>NaN</td>\n",
       "      <td>1514782800</td>\n",
       "      <td>0.00</td>\n",
       "    </tr>\n",
       "    <tr>\n",
       "      <th>1</th>\n",
       "      <td>2018</td>\n",
       "      <td>1</td>\n",
       "      <td>1</td>\n",
       "      <td>1</td>\n",
       "      <td>30</td>\n",
       "      <td>-15.6</td>\n",
       "      <td>0</td>\n",
       "      <td>0</td>\n",
       "      <td>0</td>\n",
       "      <td>0</td>\n",
       "      <td>...</td>\n",
       "      <td>109.06</td>\n",
       "      <td>0.67</td>\n",
       "      <td>711</td>\n",
       "      <td>0.2</td>\n",
       "      <td>254</td>\n",
       "      <td>1.2</td>\n",
       "      <td>NaN</td>\n",
       "      <td>NaN</td>\n",
       "      <td>1514786400</td>\n",
       "      <td>0.00</td>\n",
       "    </tr>\n",
       "    <tr>\n",
       "      <th>2</th>\n",
       "      <td>2018</td>\n",
       "      <td>1</td>\n",
       "      <td>1</td>\n",
       "      <td>2</td>\n",
       "      <td>30</td>\n",
       "      <td>-16.3</td>\n",
       "      <td>0</td>\n",
       "      <td>0</td>\n",
       "      <td>0</td>\n",
       "      <td>0</td>\n",
       "      <td>...</td>\n",
       "      <td>120.35</td>\n",
       "      <td>0.67</td>\n",
       "      <td>711</td>\n",
       "      <td>0.1</td>\n",
       "      <td>252</td>\n",
       "      <td>1.1</td>\n",
       "      <td>NaN</td>\n",
       "      <td>NaN</td>\n",
       "      <td>1514790000</td>\n",
       "      <td>0.64</td>\n",
       "    </tr>\n",
       "    <tr>\n",
       "      <th>3</th>\n",
       "      <td>2018</td>\n",
       "      <td>1</td>\n",
       "      <td>1</td>\n",
       "      <td>3</td>\n",
       "      <td>30</td>\n",
       "      <td>-16.7</td>\n",
       "      <td>0</td>\n",
       "      <td>0</td>\n",
       "      <td>0</td>\n",
       "      <td>0</td>\n",
       "      <td>...</td>\n",
       "      <td>131.81</td>\n",
       "      <td>0.67</td>\n",
       "      <td>711</td>\n",
       "      <td>0.1</td>\n",
       "      <td>256</td>\n",
       "      <td>1.0</td>\n",
       "      <td>NaN</td>\n",
       "      <td>NaN</td>\n",
       "      <td>1514793600</td>\n",
       "      <td>0.64</td>\n",
       "    </tr>\n",
       "    <tr>\n",
       "      <th>4</th>\n",
       "      <td>2018</td>\n",
       "      <td>1</td>\n",
       "      <td>1</td>\n",
       "      <td>4</td>\n",
       "      <td>30</td>\n",
       "      <td>-17.0</td>\n",
       "      <td>0</td>\n",
       "      <td>0</td>\n",
       "      <td>0</td>\n",
       "      <td>0</td>\n",
       "      <td>...</td>\n",
       "      <td>143.11</td>\n",
       "      <td>0.67</td>\n",
       "      <td>711</td>\n",
       "      <td>0.1</td>\n",
       "      <td>261</td>\n",
       "      <td>1.0</td>\n",
       "      <td>NaN</td>\n",
       "      <td>NaN</td>\n",
       "      <td>1514797200</td>\n",
       "      <td>0.64</td>\n",
       "    </tr>\n",
       "  </tbody>\n",
       "</table>\n",
       "<p>5 rows × 26 columns</p>\n",
       "</div>"
      ],
      "text/plain": [
       "   Year  Month  Day  Hour  Minute  Temperature  Clearsky DHI  Clearsky DNI  \\\n",
       "0  2018      1    1     0      30        -14.3             0             0   \n",
       "1  2018      1    1     1      30        -15.6             0             0   \n",
       "2  2018      1    1     2      30        -16.3             0             0   \n",
       "3  2018      1    1     3      30        -16.7             0             0   \n",
       "4  2018      1    1     4      30        -17.0             0             0   \n",
       "\n",
       "   Clearsky GHI  Cloud Type  ...  Solar Zenith Angle  Surface Albedo  \\\n",
       "0             0           0  ...               98.21            0.67   \n",
       "1             0           0  ...              109.06            0.67   \n",
       "2             0           0  ...              120.35            0.67   \n",
       "3             0           0  ...              131.81            0.67   \n",
       "4             0           0  ...              143.11            0.67   \n",
       "\n",
       "   Pressure  Precipitable Water  Wind Direction  Wind Speed  \\\n",
       "0       711                 0.2             261         0.9   \n",
       "1       711                 0.2             254         1.2   \n",
       "2       711                 0.1             252         1.1   \n",
       "3       711                 0.1             256         1.0   \n",
       "4       711                 0.1             261         1.0   \n",
       "\n",
       "   Global Horizontal UV Irradiance (280-400nm)  \\\n",
       "0                                          NaN   \n",
       "1                                          NaN   \n",
       "2                                          NaN   \n",
       "3                                          NaN   \n",
       "4                                          NaN   \n",
       "\n",
       "   Global Horizontal UV Irradiance (285-385nm)  timestamps  Cloud Cover  \n",
       "0                                          NaN  1514782800         0.00  \n",
       "1                                          NaN  1514786400         0.00  \n",
       "2                                          NaN  1514790000         0.64  \n",
       "3                                          NaN  1514793600         0.64  \n",
       "4                                          NaN  1514797200         0.64  \n",
       "\n",
       "[5 rows x 26 columns]"
      ]
     },
     "execution_count": 53,
     "metadata": {},
     "output_type": "execute_result"
    }
   ],
   "source": [
    "test_df = pd.read_csv(os.path.join(_Testing_Data_Dir, 'Boulder_CO', 'psm_CO_Boulder2018.csv'))\n",
    "test_df.head()"
   ]
  },
  {
   "cell_type": "code",
   "execution_count": 54,
   "metadata": {},
   "outputs": [],
   "source": [
    "input_size = 6\n",
    "test_input_arry = np.array([], dtype=np.float64).reshape(0,input_size)\n",
    "test_output_arry = np.array([], dtype=np.float64)\n",
    "test_dni_arry = np.array([], dtype=np.float64)\n",
    "\n",
    "test_input_arry, test_output_arry, test_dni_arry = combine_training_arrays(test_df, test_input_arry, test_output_arry, test_dni_arry)"
   ]
  },
  {
   "cell_type": "code",
   "execution_count": 55,
   "metadata": {},
   "outputs": [
    {
     "name": "stdout",
     "output_type": "stream",
     "text": [
      "274/274 [==============================] - 0s 966us/step - loss: 978.8859 - mean_absolute_error: 12.8149 - root_mean_squared_error: 31.2872\n"
     ]
    }
   ],
   "source": [
    "score = model_Boulder.evaluate(test_input_arry, test_output_arry, verbose=1)"
   ]
  },
  {
   "cell_type": "code",
   "execution_count": 56,
   "metadata": {},
   "outputs": [],
   "source": [
    "#12.8149 is better than 15"
   ]
  },
  {
   "cell_type": "code",
   "execution_count": 57,
   "metadata": {},
   "outputs": [
    {
     "name": "stdout",
     "output_type": "stream",
     "text": [
      "274/274 [==============================] - 0s 1ms/step - loss: 146727.3750 - mean_absolute_error: 219.4343 - root_mean_squared_error: 383.0501\n"
     ]
    }
   ],
   "source": [
    "score_dni = model_Boulder_dni.evaluate(test_input_arry, test_dni_arry, verbose=1)"
   ]
  },
  {
   "cell_type": "markdown",
   "metadata": {},
   "source": [
    "## V.III Model Testing Miami Specific\n",
    "Lets train on NRSDB + Darksky data from 08-18"
   ]
  },
  {
   "cell_type": "code",
   "execution_count": 15,
   "metadata": {},
   "outputs": [
    {
     "name": "stdout",
     "output_type": "stream",
     "text": [
      "[]\n",
      "[]\n",
      "/Users/tuomastalvitie/Documents/Diffuse:Direct/solarIrradiencePredictor/Testing_Data/Miami_FL/psm_FL_Miami2009.csv\n",
      "/Users/tuomastalvitie/Documents/Diffuse:Direct/solarIrradiencePredictor/Testing_Data/Miami_FL/psm_FL_Miami2008.csv\n",
      "/Users/tuomastalvitie/Documents/Diffuse:Direct/solarIrradiencePredictor/Testing_Data/Miami_FL/psm_FL_Miami2018.csv\n",
      "/Users/tuomastalvitie/Documents/Diffuse:Direct/solarIrradiencePredictor/Testing_Data/Miami_FL/psm_FL_Miami2017.csv\n",
      "/Users/tuomastalvitie/Documents/Diffuse:Direct/solarIrradiencePredictor/Testing_Data/Miami_FL/psm_FL_Miami2016.csv\n",
      "/Users/tuomastalvitie/Documents/Diffuse:Direct/solarIrradiencePredictor/Testing_Data/Miami_FL/psm_FL_Miami2014.csv\n",
      "/Users/tuomastalvitie/Documents/Diffuse:Direct/solarIrradiencePredictor/Testing_Data/Miami_FL/psm_FL_Miami2015.csv\n",
      "/Users/tuomastalvitie/Documents/Diffuse:Direct/solarIrradiencePredictor/Testing_Data/Miami_FL/psm_FL_Miami2011.csv\n",
      "/Users/tuomastalvitie/Documents/Diffuse:Direct/solarIrradiencePredictor/Testing_Data/Miami_FL/psm_FL_Miami2010.csv\n",
      "/Users/tuomastalvitie/Documents/Diffuse:Direct/solarIrradiencePredictor/Testing_Data/Miami_FL/psm_FL_Miami2012.csv\n",
      "/Users/tuomastalvitie/Documents/Diffuse:Direct/solarIrradiencePredictor/Testing_Data/Miami_FL/psm_FL_Miami2013.csv\n"
     ]
    }
   ],
   "source": [
    "input_size = 6\n",
    "input_arry = np.array([], dtype=np.float64).reshape(0,input_size)\n",
    "output_arry = np.array([], dtype=np.float64)\n",
    "dni_arry = np.array([], dtype=np.float64)\n",
    "\n",
    "print(input_arry)\n",
    "print(output_arry)\n",
    "from glob import glob\n",
    "for path in glob(_Testing_Data_Dir+'/Miami_FL'):\n",
    "    for file in glob(path+'/psm_'+'*'):\n",
    "        print(file)\n",
    "        df = pd.read_csv(file)\n",
    "        input_arry, output_arry, dni_arry = combine_training_arrays(df, input_arry, output_arry, dni_arry)"
   ]
  },
  {
   "cell_type": "code",
   "execution_count": 29,
   "metadata": {},
   "outputs": [
    {
     "data": {
      "text/plain": [
       "<function tensorflow.python.framework.ops.reset_default_graph()>"
      ]
     },
     "execution_count": 29,
     "metadata": {},
     "output_type": "execute_result"
    }
   ],
   "source": [
    "keras.backend.clear_session()\n",
    "tf.keras.backend.clear_session()\n",
    "tf.compat.v1.reset_default_graph"
   ]
  },
  {
   "cell_type": "code",
   "execution_count": 24,
   "metadata": {},
   "outputs": [],
   "source": [
    "model_Miami = keras.Sequential()\n",
    "model_Miami.add(keras.layers.Dense(300, activation=\"relu\"))\n",
    "model_Miami.add(layers.Dense(200, activation=\"relu\"))\n",
    "model_Miami.add(layers.Dense(100, activation=\"relu\"))\n",
    "model_Miami.add(layers.Dense(50, activation=\"relu\"))\n",
    "model_Miami.add(layers.Dense(25, activation=\"relu\"))\n",
    "model_Miami.add(layers.Dense(1, activation='relu'))"
   ]
  },
  {
   "cell_type": "code",
   "execution_count": 25,
   "metadata": {},
   "outputs": [
    {
     "name": "stdout",
     "output_type": "stream",
     "text": [
      "Epoch 1/100\n",
      "1506/1506 [==============================] - 2s 2ms/step - loss: 2711.9385 - mae: 27.5912 - root_mean_squared_error: 52.0763: 1s - l\n",
      "Epoch 2/100\n",
      "1506/1506 [==============================] - 2s 2ms/step - loss: 358.1931 - mae: 9.5124 - root_mean_squared_error: 18.9260\n",
      "Epoch 3/100\n",
      "1506/1506 [==============================] - 3s 2ms/step - loss: 241.5476 - mae: 7.1491 - root_mean_squared_error: 15.5418\n",
      "Epoch 4/100\n",
      "1506/1506 [==============================] - 2s 1ms/step - loss: 227.7812 - mae: 6.8036 - root_mean_squared_error: 15.0924\n",
      "Epoch 5/100\n",
      "1506/1506 [==============================] - 3s 2ms/step - loss: 219.5561 - mae: 6.6388 - root_mean_squared_error: 14.8174\n",
      "Epoch 6/100\n",
      "1506/1506 [==============================] - 3s 2ms/step - loss: 213.8417 - mae: 6.4640 - root_mean_squared_error: 14.6233\n",
      "Epoch 7/100\n",
      "1506/1506 [==============================] - 2s 2ms/step - loss: 215.4515 - mae: 6.5050 - root_mean_squared_error: 14.6783\n",
      "Epoch 8/100\n",
      "1506/1506 [==============================] - 2s 2ms/step - loss: 206.2980 - mae: 6.3242 - root_mean_squared_error: 14.3631: 1s - loss: 216.0285 \n",
      "Epoch 9/100\n",
      "1506/1506 [==============================] - 3s 2ms/step - loss: 213.0797 - mae: 6.4400 - root_mean_squared_error: 14.5973\n",
      "Epoch 10/100\n",
      "1506/1506 [==============================] - 2s 2ms/step - loss: 208.9912 - mae: 6.3637 - root_mean_squared_error: 14.4565\n",
      "Epoch 11/100\n",
      "1506/1506 [==============================] - 2s 1ms/step - loss: 212.4974 - mae: 6.4132 - root_mean_squared_error: 14.5773\n",
      "Epoch 12/100\n",
      "1506/1506 [==============================] - 2s 2ms/step - loss: 203.2914 - mae: 6.2464 - root_mean_squared_error: 14.2580\n",
      "Epoch 13/100\n",
      "1506/1506 [==============================] - 2s 2ms/step - loss: 202.1864 - mae: 6.2177 - root_mean_squared_error: 14.2192\n",
      "Epoch 14/100\n",
      "1506/1506 [==============================] - 3s 2ms/step - loss: 201.1805 - mae: 6.1738 - root_mean_squared_error: 14.1838\n",
      "Epoch 15/100\n",
      "1506/1506 [==============================] - 2s 2ms/step - loss: 196.3050 - mae: 6.0834 - root_mean_squared_error: 14.0109\n",
      "Epoch 16/100\n",
      "1506/1506 [==============================] - 2s 1ms/step - loss: 202.2754 - mae: 6.1809 - root_mean_squared_error: 14.2224\n",
      "Epoch 17/100\n",
      "1506/1506 [==============================] - 2s 2ms/step - loss: 197.8259 - mae: 6.1086 - root_mean_squared_error: 14.0651\n",
      "Epoch 18/100\n",
      "1506/1506 [==============================] - ETA: 0s - loss: 198.6347 - mae: 6.0830 - root_mean_squared_error: 14.09 - 3s 2ms/step - loss: 197.5944 - mae: 6.0713 - root_mean_squared_error: 14.0568\n",
      "Epoch 19/100\n",
      "1506/1506 [==============================] - 2s 2ms/step - loss: 192.6785 - mae: 5.9835 - root_mean_squared_error: 13.8809\n",
      "Epoch 20/100\n",
      "1506/1506 [==============================] - 3s 2ms/step - loss: 197.1976 - mae: 6.1043 - root_mean_squared_error: 14.0427\n",
      "Epoch 21/100\n",
      "1506/1506 [==============================] - 2s 2ms/step - loss: 195.4288 - mae: 6.0323 - root_mean_squared_error: 13.9796\n",
      "Epoch 22/100\n",
      "1506/1506 [==============================] - 2s 2ms/step - loss: 199.1274 - mae: 6.0895 - root_mean_squared_error: 14.1112\n",
      "Epoch 23/100\n",
      "1506/1506 [==============================] - 2s 2ms/step - loss: 194.2742 - mae: 5.9789 - root_mean_squared_error: 13.9382\n",
      "Epoch 24/100\n",
      "1506/1506 [==============================] - 2s 2ms/step - loss: 191.4797 - mae: 5.9456 - root_mean_squared_error: 13.8376\n",
      "Epoch 25/100\n",
      "1506/1506 [==============================] - 2s 2ms/step - loss: 195.1915 - mae: 6.0169 - root_mean_squared_error: 13.9711\n",
      "Epoch 26/100\n",
      "1506/1506 [==============================] - 2s 2ms/step - loss: 192.4329 - mae: 5.9482 - root_mean_squared_error: 13.8720\n",
      "Epoch 27/100\n",
      "1506/1506 [==============================] - 2s 2ms/step - loss: 192.5337 - mae: 5.9732 - root_mean_squared_error: 13.8757\n",
      "Epoch 28/100\n",
      "1506/1506 [==============================] - 2s 2ms/step - loss: 189.8523 - mae: 5.8929 - root_mean_squared_error: 13.7787: 1s\n",
      "Epoch 29/100\n",
      "1506/1506 [==============================] - 2s 2ms/step - loss: 194.2630 - mae: 5.9855 - root_mean_squared_error: 13.9378\n",
      "Epoch 30/100\n",
      "1506/1506 [==============================] - 2s 2ms/step - loss: 191.9793 - mae: 5.9518 - root_mean_squared_error: 13.8557\n",
      "Epoch 31/100\n",
      "1506/1506 [==============================] - 2s 2ms/step - loss: 188.1816 - mae: 5.9001 - root_mean_squared_error: 13.7179: 1s - loss: 189.9106 - ma\n",
      "Epoch 32/100\n",
      "1506/1506 [==============================] - 2s 2ms/step - loss: 185.9210 - mae: 5.8195 - root_mean_squared_error: 13.6353\n",
      "Epoch 33/100\n",
      "1506/1506 [==============================] - 2s 2ms/step - loss: 191.7677 - mae: 5.9450 - root_mean_squared_error: 13.8480\n",
      "Epoch 34/100\n",
      "1506/1506 [==============================] - 2s 2ms/step - loss: 186.9503 - mae: 5.8340 - root_mean_squared_error: 13.6730\n",
      "Epoch 35/100\n",
      "1506/1506 [==============================] - 2s 2ms/step - loss: 188.6973 - mae: 5.8937 - root_mean_squared_error: 13.7367\n",
      "Epoch 36/100\n",
      "1506/1506 [==============================] - 2s 2ms/step - loss: 188.3918 - mae: 5.8586 - root_mean_squared_error: 13.7256\n",
      "Epoch 37/100\n",
      "1506/1506 [==============================] - 2s 2ms/step - loss: 190.2860 - mae: 5.9074 - root_mean_squared_error: 13.7944: 0s - loss: 190.6617 - mae: 5.9111 - root\n",
      "Epoch 38/100\n",
      "1506/1506 [==============================] - 2s 2ms/step - loss: 187.4828 - mae: 5.8584 - root_mean_squared_error: 13.6924\n",
      "Epoch 39/100\n",
      "1506/1506 [==============================] - 3s 2ms/step - loss: 187.6450 - mae: 5.8506 - root_mean_squared_error: 13.6984\n",
      "Epoch 40/100\n",
      "1506/1506 [==============================] - 2s 1ms/step - loss: 187.6721 - mae: 5.8479 - root_mean_squared_error: 13.6993\n",
      "Epoch 41/100\n",
      "1506/1506 [==============================] - 2s 2ms/step - loss: 183.9616 - mae: 5.7769 - root_mean_squared_error: 13.5632\n",
      "Epoch 42/100\n",
      "1506/1506 [==============================] - 2s 1ms/step - loss: 185.7949 - mae: 5.8235 - root_mean_squared_error: 13.6307\n",
      "Epoch 43/100\n",
      "1506/1506 [==============================] - 2s 2ms/step - loss: 183.0475 - mae: 5.7299 - root_mean_squared_error: 13.5295\n",
      "Epoch 44/100\n",
      "1506/1506 [==============================] - 2s 2ms/step - loss: 181.7758 - mae: 5.7201 - root_mean_squared_error: 13.4824\n",
      "Epoch 45/100\n",
      "1506/1506 [==============================] - 2s 2ms/step - loss: 186.7490 - mae: 5.8227 - root_mean_squared_error: 13.6656\n",
      "Epoch 46/100\n",
      "1506/1506 [==============================] - 2s 2ms/step - loss: 183.8586 - mae: 5.7627 - root_mean_squared_error: 13.5594\n",
      "Epoch 47/100\n",
      "1506/1506 [==============================] - 2s 2ms/step - loss: 183.7131 - mae: 5.7614 - root_mean_squared_error: 13.5541\n",
      "Epoch 48/100\n",
      "1506/1506 [==============================] - 2s 2ms/step - loss: 181.3783 - mae: 5.7024 - root_mean_squared_error: 13.4677\n",
      "Epoch 49/100\n",
      "1506/1506 [==============================] - 2s 1ms/step - loss: 184.7341 - mae: 5.7806 - root_mean_squared_error: 13.5917\n",
      "Epoch 50/100\n",
      "1506/1506 [==============================] - 2s 2ms/step - loss: 179.6560 - mae: 5.6629 - root_mean_squared_error: 13.4036\n",
      "Epoch 51/100\n",
      "1506/1506 [==============================] - 2s 2ms/step - loss: 179.9930 - mae: 5.6735 - root_mean_squared_error: 13.4161\n",
      "Epoch 52/100\n",
      "1506/1506 [==============================] - 3s 2ms/step - loss: 180.2318 - mae: 5.6844 - root_mean_squared_error: 13.4250\n",
      "Epoch 53/100\n",
      "1506/1506 [==============================] - 2s 2ms/step - loss: 179.5401 - mae: 5.6607 - root_mean_squared_error: 13.3993\n",
      "Epoch 54/100\n",
      "1506/1506 [==============================] - 2s 2ms/step - loss: 180.3971 - mae: 5.6941 - root_mean_squared_error: 13.4312\n",
      "Epoch 55/100\n",
      "1506/1506 [==============================] - 2s 2ms/step - loss: 181.7144 - mae: 5.7053 - root_mean_squared_error: 13.4801\n",
      "Epoch 56/100\n",
      "1506/1506 [==============================] - 2s 2ms/step - loss: 181.4624 - mae: 5.6851 - root_mean_squared_error: 13.4708\n",
      "Epoch 57/100\n",
      "1506/1506 [==============================] - 2s 2ms/step - loss: 177.7763 - mae: 5.6456 - root_mean_squared_error: 13.3333\n",
      "Epoch 58/100\n",
      "1506/1506 [==============================] - 2s 2ms/step - loss: 177.8252 - mae: 5.6183 - root_mean_squared_error: 13.3351\n",
      "Epoch 59/100\n",
      "1506/1506 [==============================] - 2s 2ms/step - loss: 179.3409 - mae: 5.6317 - root_mean_squared_error: 13.3918\n"
     ]
    },
    {
     "name": "stdout",
     "output_type": "stream",
     "text": [
      "Epoch 60/100\n",
      "1506/1506 [==============================] - 2s 1ms/step - loss: 179.6994 - mae: 5.6680 - root_mean_squared_error: 13.4052\n",
      "Epoch 61/100\n",
      "1506/1506 [==============================] - 2s 1ms/step - loss: 176.0325 - mae: 5.5789 - root_mean_squared_error: 13.2677\n",
      "Epoch 62/100\n",
      "1506/1506 [==============================] - 2s 1ms/step - loss: 180.6406 - mae: 5.6489 - root_mean_squared_error: 13.4403\n",
      "Epoch 63/100\n",
      "1506/1506 [==============================] - 2s 1ms/step - loss: 179.2654 - mae: 5.6420 - root_mean_squared_error: 13.3890\n",
      "Epoch 64/100\n",
      "1506/1506 [==============================] - 2s 1ms/step - loss: 179.3011 - mae: 5.6372 - root_mean_squared_error: 13.3903\n",
      "Epoch 65/100\n",
      "1506/1506 [==============================] - 2s 2ms/step - loss: 180.9795 - mae: 5.6795 - root_mean_squared_error: 13.4529\n",
      "Epoch 66/100\n",
      "1506/1506 [==============================] - 2s 1ms/step - loss: 177.7927 - mae: 5.5984 - root_mean_squared_error: 13.3339\n",
      "Epoch 67/100\n",
      "1506/1506 [==============================] - 2s 1ms/step - loss: 179.9012 - mae: 5.6576 - root_mean_squared_error: 13.4127\n",
      "Epoch 68/100\n",
      "1506/1506 [==============================] - 2s 1ms/step - loss: 177.6024 - mae: 5.5861 - root_mean_squared_error: 13.3268: 0s - loss: 176.4800 - mae: 5.5624 - root_mean_square\n",
      "Epoch 69/100\n",
      "1506/1506 [==============================] - 2s 2ms/step - loss: 177.6315 - mae: 5.6170 - root_mean_squared_error: 13.3278\n",
      "Epoch 70/100\n",
      "1506/1506 [==============================] - 2s 2ms/step - loss: 178.5167 - mae: 5.6538 - root_mean_squared_error: 13.3610\n",
      "Epoch 71/100\n",
      "1506/1506 [==============================] - 3s 2ms/step - loss: 176.8177 - mae: 5.5794 - root_mean_squared_error: 13.2973\n",
      "Epoch 72/100\n",
      "1506/1506 [==============================] - 3s 2ms/step - loss: 178.6501 - mae: 5.6187 - root_mean_squared_error: 13.3660\n",
      "Epoch 73/100\n",
      "1506/1506 [==============================] - 2s 2ms/step - loss: 175.0528 - mae: 5.5383 - root_mean_squared_error: 13.2308\n",
      "Epoch 74/100\n",
      "1506/1506 [==============================] - 2s 2ms/step - loss: 173.5398 - mae: 5.5258 - root_mean_squared_error: 13.1735\n",
      "Epoch 75/100\n",
      "1506/1506 [==============================] - 2s 1ms/step - loss: 178.5755 - mae: 5.6086 - root_mean_squared_error: 13.3632\n",
      "Epoch 76/100\n",
      "1506/1506 [==============================] - 3s 2ms/step - loss: 175.8935 - mae: 5.5607 - root_mean_squared_error: 13.2625\n",
      "Epoch 77/100\n",
      "1506/1506 [==============================] - 4s 2ms/step - loss: 173.8014 - mae: 5.5036 - root_mean_squared_error: 13.1834\n",
      "Epoch 78/100\n",
      "1506/1506 [==============================] - 3s 2ms/step - loss: 178.1868 - mae: 5.6447 - root_mean_squared_error: 13.3487\n",
      "Epoch 79/100\n",
      "1506/1506 [==============================] - 2s 1ms/step - loss: 176.8349 - mae: 5.5763 - root_mean_squared_error: 13.2979\n",
      "Epoch 80/100\n",
      "1506/1506 [==============================] - 3s 2ms/step - loss: 175.3625 - mae: 5.5677 - root_mean_squared_error: 13.2424\n",
      "Epoch 81/100\n",
      "1506/1506 [==============================] - 3s 2ms/step - loss: 175.6700 - mae: 5.5379 - root_mean_squared_error: 13.2541\n",
      "Epoch 82/100\n",
      "1506/1506 [==============================] - 2s 2ms/step - loss: 178.6201 - mae: 5.6186 - root_mean_squared_error: 13.3649\n",
      "Epoch 83/100\n",
      "1506/1506 [==============================] - 2s 1ms/step - loss: 175.0708 - mae: 5.5364 - root_mean_squared_error: 13.2314\n",
      "Epoch 84/100\n",
      "1506/1506 [==============================] - 2s 1ms/step - loss: 175.3317 - mae: 5.5547 - root_mean_squared_error: 13.2413\n",
      "Epoch 85/100\n",
      "1506/1506 [==============================] - 2s 2ms/step - loss: 175.6167 - mae: 5.5488 - root_mean_squared_error: 13.2520\n",
      "Epoch 86/100\n",
      "1506/1506 [==============================] - 4s 3ms/step - loss: 172.9497 - mae: 5.4719 - root_mean_squared_error: 13.1510\n",
      "Epoch 87/100\n",
      "1506/1506 [==============================] - 2s 1ms/step - loss: 177.6826 - mae: 5.6078 - root_mean_squared_error: 13.3298\n",
      "Epoch 88/100\n",
      "1506/1506 [==============================] - 2s 2ms/step - loss: 175.4882 - mae: 5.5501 - root_mean_squared_error: 13.2472\n",
      "Epoch 89/100\n",
      "1506/1506 [==============================] - 3s 2ms/step - loss: 175.2732 - mae: 5.5588 - root_mean_squared_error: 13.2391\n",
      "Epoch 90/100\n",
      "1506/1506 [==============================] - 2s 2ms/step - loss: 173.7861 - mae: 5.4917 - root_mean_squared_error: 13.1828\n",
      "Epoch 91/100\n",
      "1506/1506 [==============================] - 2s 2ms/step - loss: 175.1331 - mae: 5.5103 - root_mean_squared_error: 13.2338\n",
      "Epoch 92/100\n",
      "1506/1506 [==============================] - 2s 2ms/step - loss: 170.7528 - mae: 5.4493 - root_mean_squared_error: 13.0672\n",
      "Epoch 93/100\n",
      "1506/1506 [==============================] - 2s 2ms/step - loss: 172.9215 - mae: 5.4747 - root_mean_squared_error: 13.1500\n",
      "Epoch 94/100\n",
      "1506/1506 [==============================] - 2s 2ms/step - loss: 171.5355 - mae: 5.4633 - root_mean_squared_error: 13.0972\n",
      "Epoch 95/100\n",
      "1506/1506 [==============================] - 2s 2ms/step - loss: 174.3000 - mae: 5.5012 - root_mean_squared_error: 13.2023: 0s - loss: 173.9190 - mae: 5.5038 - root_mean_squared_error:\n",
      "Epoch 96/100\n",
      "1506/1506 [==============================] - 2s 2ms/step - loss: 176.2810 - mae: 5.5536 - root_mean_squared_error: 13.2771\n",
      "Epoch 97/100\n",
      "1506/1506 [==============================] - 3s 2ms/step - loss: 173.1846 - mae: 5.4989 - root_mean_squared_error: 13.1600\n",
      "Epoch 98/100\n",
      "1506/1506 [==============================] - 4s 3ms/step - loss: 172.4759 - mae: 5.4672 - root_mean_squared_error: 13.1330\n",
      "Epoch 99/100\n",
      "1506/1506 [==============================] - 2s 1ms/step - loss: 171.6414 - mae: 5.4368 - root_mean_squared_error: 13.1012\n",
      "Epoch 100/100\n",
      "1506/1506 [==============================] - 2s 2ms/step - loss: 171.4491 - mae: 5.4248 - root_mean_squared_error: 13.0939\n"
     ]
    }
   ],
   "source": [
    "#Compile and train\n",
    "model_Miami.compile(optimizer=Adam(lr=0.0001), \n",
    "              loss='mse',\n",
    "              metrics=['mae', keras.metrics.RootMeanSquaredError()])\n",
    "\n",
    "history_Miami = model_Miami.fit(input_arry, output_arry, epochs=100, batch_size=64)"
   ]
  },
  {
   "cell_type": "code",
   "execution_count": 26,
   "metadata": {},
   "outputs": [],
   "source": [
    "#Mae down to 5.4439"
   ]
  },
  {
   "cell_type": "code",
   "execution_count": 27,
   "metadata": {},
   "outputs": [],
   "source": [
    "#"
   ]
  },
  {
   "cell_type": "code",
   "execution_count": 28,
   "metadata": {},
   "outputs": [
    {
     "data": {
      "image/png": "[encoded data removed]",
      "text/plain": [
       "<Figure size 432x288 with 1 Axes>"
      ]
     },
     "metadata": {},
     "output_type": "display_data"
    }
   ],
   "source": [
    "plt.plot(history_Miami.history['mae'])\n",
    "plt.plot(history_Miami.history['root_mean_squared_error'])\n",
    "plt.title('mae and rmse per epoch')\n",
    "plt.ylabel('Error')\n",
    "plt.xlabel('Epoch')\n",
    "plt.legend(['mae', 'rmse'], loc='upper left')\n",
    "plt.show()"
   ]
  },
  {
   "cell_type": "code",
   "execution_count": 30,
   "metadata": {},
   "outputs": [],
   "source": [
    "# And DNI\n",
    "model_Miami_dni = keras.Sequential()\n",
    "model_Miami_dni.add(keras.layers.Dense(300, activation=\"relu\"))\n",
    "model_Miami_dni.add(layers.Dense(200, activation=\"relu\"))\n",
    "model_Miami_dni.add(layers.Dense(100, activation=\"relu\"))\n",
    "model_Miami_dni.add(layers.Dense(50, activation=\"relu\"))\n",
    "model_Miami_dni.add(layers.Dense(25, activation=\"relu\"))\n",
    "model_Miami_dni.add(layers.Dense(1, activation='relu'))\n"
   ]
  },
  {
   "cell_type": "code",
   "execution_count": 31,
   "metadata": {},
   "outputs": [
    {
     "name": "stdout",
     "output_type": "stream",
     "text": [
      "Epoch 1/100\n",
      "1506/1506 [==============================] - 3s 2ms/step - loss: 2857.7859 - mae: 28.2344 - root_mean_squared_error: 53.4583\n",
      "Epoch 2/100\n",
      "1506/1506 [==============================] - 3s 2ms/step - loss: 341.0670 - mae: 9.3098 - root_mean_squared_error: 18.4680: 0s - loss: 345.6993 - mae: 9.3802 - root_mean_squared_error: 18.\n",
      "Epoch 3/100\n",
      "1506/1506 [==============================] - 2s 1ms/step - loss: 239.0349 - mae: 7.2066 - root_mean_squared_error: 15.4608\n",
      "Epoch 4/100\n",
      "1506/1506 [==============================] - 2s 2ms/step - loss: 222.9146 - mae: 6.7924 - root_mean_squared_error: 14.9303: 0s - loss: 227.8265 - mae: 6.8366 - root_m\n",
      "Epoch 5/100\n",
      "1506/1506 [==============================] - 2s 1ms/step - loss: 213.2665 - mae: 6.5789 - root_mean_squared_error: 14.6036\n",
      "Epoch 6/100\n",
      "1506/1506 [==============================] - 2s 2ms/step - loss: 211.8888 - mae: 6.5057 - root_mean_squared_error: 14.5564\n",
      "Epoch 7/100\n",
      "1506/1506 [==============================] - 2s 1ms/step - loss: 210.2893 - mae: 6.4530 - root_mean_squared_error: 14.5014\n",
      "Epoch 8/100\n",
      "1506/1506 [==============================] - 2s 1ms/step - loss: 207.7701 - mae: 6.3692 - root_mean_squared_error: 14.4142\n",
      "Epoch 9/100\n",
      "1506/1506 [==============================] - 2s 1ms/step - loss: 201.2169 - mae: 6.2172 - root_mean_squared_error: 14.1851\n",
      "Epoch 10/100\n",
      "1506/1506 [==============================] - 2s 1ms/step - loss: 198.7144 - mae: 6.1945 - root_mean_squared_error: 14.0966\n",
      "Epoch 11/100\n",
      "1506/1506 [==============================] - 2s 1ms/step - loss: 203.8195 - mae: 6.2511 - root_mean_squared_error: 14.2765\n",
      "Epoch 12/100\n",
      "1506/1506 [==============================] - 3s 2ms/step - loss: 200.7047 - mae: 6.1954 - root_mean_squared_error: 14.1670\n",
      "Epoch 13/100\n",
      "1506/1506 [==============================] - 2s 2ms/step - loss: 197.5217 - mae: 6.1122 - root_mean_squared_error: 14.0542\n",
      "Epoch 14/100\n",
      "1506/1506 [==============================] - 2s 1ms/step - loss: 197.1226 - mae: 6.1353 - root_mean_squared_error: 14.0400\n",
      "Epoch 15/100\n",
      "1506/1506 [==============================] - 2s 1ms/step - loss: 196.2047 - mae: 6.1083 - root_mean_squared_error: 14.0073\n",
      "Epoch 16/100\n",
      "1506/1506 [==============================] - 3s 2ms/step - loss: 198.1311 - mae: 6.1420 - root_mean_squared_error: 14.0759\n",
      "Epoch 17/100\n",
      "1506/1506 [==============================] - 2s 1ms/step - loss: 198.3642 - mae: 6.1495 - root_mean_squared_error: 14.0842\n",
      "Epoch 18/100\n",
      "1506/1506 [==============================] - 2s 2ms/step - loss: 192.8841 - mae: 6.0275 - root_mean_squared_error: 13.8883: 1s - loss: 197.6\n",
      "Epoch 19/100\n",
      "1506/1506 [==============================] - 2s 1ms/step - loss: 192.3672 - mae: 6.0089 - root_mean_squared_error: 13.8697\n",
      "Epoch 20/100\n",
      "1506/1506 [==============================] - 3s 2ms/step - loss: 204.3017 - mae: 6.1947 - root_mean_squared_error: 14.2934\n",
      "Epoch 21/100\n",
      "1506/1506 [==============================] - 3s 2ms/step - loss: 190.1137 - mae: 5.9448 - root_mean_squared_error: 13.7882\n",
      "Epoch 22/100\n",
      "1506/1506 [==============================] - 2s 1ms/step - loss: 193.7054 - mae: 6.0305 - root_mean_squared_error: 13.9178\n",
      "Epoch 23/100\n",
      "1506/1506 [==============================] - 2s 1ms/step - loss: 190.8654 - mae: 5.9770 - root_mean_squared_error: 13.8154\n",
      "Epoch 24/100\n",
      "1506/1506 [==============================] - 3s 2ms/step - loss: 184.8953 - mae: 5.8331 - root_mean_squared_error: 13.5976\n",
      "Epoch 25/100\n",
      "1506/1506 [==============================] - 2s 2ms/step - loss: 195.2383 - mae: 6.0427 - root_mean_squared_error: 13.9728\n",
      "Epoch 26/100\n",
      "1506/1506 [==============================] - 2s 2ms/step - loss: 192.0950 - mae: 5.9926 - root_mean_squared_error: 13.8598\n",
      "Epoch 27/100\n",
      "1506/1506 [==============================] - 2s 2ms/step - loss: 187.6082 - mae: 5.8499 - root_mean_squared_error: 13.6970\n",
      "Epoch 28/100\n",
      "1506/1506 [==============================] - 2s 2ms/step - loss: 187.7603 - mae: 5.8805 - root_mean_squared_error: 13.7026\n",
      "Epoch 29/100\n",
      "1506/1506 [==============================] - 3s 2ms/step - loss: 186.6590 - mae: 5.8597 - root_mean_squared_error: 13.6623\n",
      "Epoch 30/100\n",
      "1506/1506 [==============================] - 3s 2ms/step - loss: 191.0143 - mae: 5.9526 - root_mean_squared_error: 13.8208\n",
      "Epoch 31/100\n",
      "1506/1506 [==============================] - 3s 2ms/step - loss: 188.2933 - mae: 5.8960 - root_mean_squared_error: 13.7220: 0s - loss: 183.7639 - mae: 5.8416 \n",
      "Epoch 32/100\n",
      "1506/1506 [==============================] - 3s 2ms/step - loss: 189.5713 - mae: 5.9134 - root_mean_squared_error: 13.7685\n",
      "Epoch 33/100\n",
      "1506/1506 [==============================] - 2s 1ms/step - loss: 186.0084 - mae: 5.8124 - root_mean_squared_error: 13.6385\n",
      "Epoch 34/100\n",
      "1506/1506 [==============================] - 2s 2ms/step - loss: 187.0365 - mae: 5.8712 - root_mean_squared_error: 13.6761\n",
      "Epoch 35/100\n",
      "1506/1506 [==============================] - 2s 2ms/step - loss: 186.2135 - mae: 5.8354 - root_mean_squared_error: 13.6460\n",
      "Epoch 36/100\n",
      "1506/1506 [==============================] - 2s 1ms/step - loss: 184.7959 - mae: 5.8025 - root_mean_squared_error: 13.5940: \n",
      "Epoch 37/100\n",
      "1506/1506 [==============================] - 2s 2ms/step - loss: 185.6534 - mae: 5.8498 - root_mean_squared_error: 13.6255\n",
      "Epoch 38/100\n",
      "1506/1506 [==============================] - 3s 2ms/step - loss: 185.9043 - mae: 5.8469 - root_mean_squared_error: 13.6347\n",
      "Epoch 39/100\n",
      "1506/1506 [==============================] - 3s 2ms/step - loss: 183.2572 - mae: 5.8139 - root_mean_squared_error: 13.5373\n",
      "Epoch 40/100\n",
      "1506/1506 [==============================] - 3s 2ms/step - loss: 182.8375 - mae: 5.7644 - root_mean_squared_error: 13.5217: 0s - loss: 184.0095 - mae: 5.7781 - root_mean_squared_erro\n",
      "Epoch 41/100\n",
      "1506/1506 [==============================] - 2s 1ms/step - loss: 183.6852 - mae: 5.7845 - root_mean_squared_error: 13.5531: 0s - loss: 183.0439 - mae: 5.7654 - root_mean_squared_\n",
      "Epoch 42/100\n",
      "1506/1506 [==============================] - 3s 2ms/step - loss: 185.9171 - mae: 5.8114 - root_mean_squared_error: 13.6351\n",
      "Epoch 43/100\n",
      "1506/1506 [==============================] - 2s 1ms/step - loss: 184.0805 - mae: 5.7822 - root_mean_squared_error: 13.5676\n",
      "Epoch 44/100\n",
      "1506/1506 [==============================] - 3s 2ms/step - loss: 185.9449 - mae: 5.8129 - root_mean_squared_error: 13.6362\n",
      "Epoch 45/100\n",
      "1506/1506 [==============================] - 4s 3ms/step - loss: 178.4440 - mae: 5.6231 - root_mean_squared_error: 13.3583\n",
      "Epoch 46/100\n",
      "1506/1506 [==============================] - 2s 2ms/step - loss: 188.3808 - mae: 5.8671 - root_mean_squared_error: 13.7252\n",
      "Epoch 47/100\n",
      "1506/1506 [==============================] - 2s 2ms/step - loss: 181.4952 - mae: 5.7512 - root_mean_squared_error: 13.4720\n",
      "Epoch 48/100\n",
      "1506/1506 [==============================] - 3s 2ms/step - loss: 179.0005 - mae: 5.6692 - root_mean_squared_error: 13.3791\n",
      "Epoch 49/100\n",
      "1506/1506 [==============================] - 3s 2ms/step - loss: 180.6420 - mae: 5.7118 - root_mean_squared_error: 13.4403\n",
      "Epoch 50/100\n",
      "1506/1506 [==============================] - 3s 2ms/step - loss: 180.8358 - mae: 5.6831 - root_mean_squared_error: 13.4475: 0s - loss: 181.5717 - mae: 5.7041 - root_mean_squared_erro\n",
      "Epoch 51/100\n",
      "1506/1506 [==============================] - 2s 1ms/step - loss: 181.3307 - mae: 5.6967 - root_mean_squared_error: 13.4659\n",
      "Epoch 52/100\n",
      "1506/1506 [==============================] - 3s 2ms/step - loss: 180.0250 - mae: 5.7261 - root_mean_squared_error: 13.4173\n",
      "Epoch 53/100\n",
      "1506/1506 [==============================] - 2s 2ms/step - loss: 179.1454 - mae: 5.6748 - root_mean_squared_error: 13.3845: 1s - los - ETA: 0s - loss: 181.0704 - mae: 5.6964 - root_mean_squared_erro\n",
      "Epoch 54/100\n",
      "1506/1506 [==============================] - 2s 2ms/step - loss: 180.6951 - mae: 5.6982 - root_mean_squared_error: 13.4423\n",
      "Epoch 55/100\n",
      "1506/1506 [==============================] - 4s 2ms/step - loss: 178.4402 - mae: 5.6695 - root_mean_squared_error: 13.3581\n",
      "Epoch 56/100\n",
      "1506/1506 [==============================] - 4s 2ms/step - loss: 179.9158 - mae: 5.7006 - root_mean_squared_error: 13.4133\n",
      "Epoch 57/100\n"
     ]
    },
    {
     "name": "stdout",
     "output_type": "stream",
     "text": [
      "1506/1506 [==============================] - 5s 3ms/step - loss: 177.9086 - mae: 5.6369 - root_mean_squared_error: 13.3382: 1s - loss: 177\n",
      "Epoch 58/100\n",
      "1506/1506 [==============================] - 3s 2ms/step - loss: 180.4346 - mae: 5.6847 - root_mean_squared_error: 13.4326: 0s - loss: 182.6476 - mae: 5.6885 - \n",
      "Epoch 59/100\n",
      "1506/1506 [==============================] - 3s 2ms/step - loss: 178.4545 - mae: 5.6357 - root_mean_squared_error: 13.3587\n",
      "Epoch 60/100\n",
      "1506/1506 [==============================] - 2s 2ms/step - loss: 180.3493 - mae: 5.6813 - root_mean_squared_error: 13.4294\n",
      "Epoch 61/100\n",
      "1506/1506 [==============================] - 2s 2ms/step - loss: 178.1384 - mae: 5.6385 - root_mean_squared_error: 13.3468\n",
      "Epoch 62/100\n",
      "1506/1506 [==============================] - 2s 1ms/step - loss: 177.6627 - mae: 5.6459 - root_mean_squared_error: 13.3290: 1s\n",
      "Epoch 63/100\n",
      "1506/1506 [==============================] - 2s 1ms/step - loss: 176.1636 - mae: 5.5941 - root_mean_squared_error: 13.2727\n",
      "Epoch 64/100\n",
      "1506/1506 [==============================] - 2s 1ms/step - loss: 179.7773 - mae: 5.6749 - root_mean_squared_error: 13.4081\n",
      "Epoch 65/100\n",
      "1506/1506 [==============================] - 2s 1ms/step - loss: 176.7920 - mae: 5.6145 - root_mean_squared_error: 13.2963\n",
      "Epoch 66/100\n",
      "1506/1506 [==============================] - 2s 1ms/step - loss: 178.4729 - mae: 5.6683 - root_mean_squared_error: 13.3594\n",
      "Epoch 67/100\n",
      "1506/1506 [==============================] - 2s 2ms/step - loss: 178.1580 - mae: 5.6528 - root_mean_squared_error: 13.3476\n",
      "Epoch 68/100\n",
      "1506/1506 [==============================] - 3s 2ms/step - loss: 179.4987 - mae: 5.6661 - root_mean_squared_error: 13.3977\n",
      "Epoch 69/100\n",
      "1506/1506 [==============================] - 2s 2ms/step - loss: 176.0349 - mae: 5.5818 - root_mean_squared_error: 13.2678\n",
      "Epoch 70/100\n",
      "1506/1506 [==============================] - 2s 1ms/step - loss: 176.2026 - mae: 5.5890 - root_mean_squared_error: 13.2741\n",
      "Epoch 71/100\n",
      "1506/1506 [==============================] - 2s 1ms/step - loss: 176.8949 - mae: 5.6323 - root_mean_squared_error: 13.3002\n",
      "Epoch 72/100\n",
      "1506/1506 [==============================] - 2s 1ms/step - loss: 177.6761 - mae: 5.6210 - root_mean_squared_error: 13.3295: 1s - loss: 174.1997 - ma\n",
      "Epoch 73/100\n",
      "1506/1506 [==============================] - 2s 1ms/step - loss: 174.6310 - mae: 5.5734 - root_mean_squared_error: 13.2148\n",
      "Epoch 74/100\n",
      "1506/1506 [==============================] - 2s 1ms/step - loss: 176.4313 - mae: 5.6197 - root_mean_squared_error: 13.2827\n",
      "Epoch 75/100\n",
      "1506/1506 [==============================] - 2s 1ms/step - loss: 175.2871 - mae: 5.5622 - root_mean_squared_error: 13.2396\n",
      "Epoch 76/100\n",
      "1506/1506 [==============================] - 2s 1ms/step - loss: 176.2724 - mae: 5.5966 - root_mean_squared_error: 13.2768\n",
      "Epoch 77/100\n",
      "1506/1506 [==============================] - 2s 1ms/step - loss: 174.3541 - mae: 5.5401 - root_mean_squared_error: 13.2043\n",
      "Epoch 78/100\n",
      "1506/1506 [==============================] - 2s 1ms/step - loss: 175.9819 - mae: 5.5955 - root_mean_squared_error: 13.2658\n",
      "Epoch 79/100\n",
      "1506/1506 [==============================] - 2s 2ms/step - loss: 174.4554 - mae: 5.5678 - root_mean_squared_error: 13.2082\n",
      "Epoch 80/100\n",
      "1506/1506 [==============================] - 3s 2ms/step - loss: 175.2002 - mae: 5.5658 - root_mean_squared_error: 13.2363\n",
      "Epoch 81/100\n",
      "1506/1506 [==============================] - 2s 2ms/step - loss: 172.2948 - mae: 5.4918 - root_mean_squared_error: 13.1261\n",
      "Epoch 82/100\n",
      "1506/1506 [==============================] - 3s 2ms/step - loss: 175.6884 - mae: 5.5678 - root_mean_squared_error: 13.2548\n",
      "Epoch 83/100\n",
      "1506/1506 [==============================] - 2s 2ms/step - loss: 173.8857 - mae: 5.5398 - root_mean_squared_error: 13.1866\n",
      "Epoch 84/100\n",
      "1506/1506 [==============================] - 2s 1ms/step - loss: 173.9982 - mae: 5.5356 - root_mean_squared_error: 13.1908\n",
      "Epoch 85/100\n",
      "1506/1506 [==============================] - 2s 2ms/step - loss: 172.2709 - mae: 5.5092 - root_mean_squared_error: 13.1252\n",
      "Epoch 86/100\n",
      "1506/1506 [==============================] - 2s 1ms/step - loss: 174.2412 - mae: 5.5406 - root_mean_squared_error: 13.2000\n",
      "Epoch 87/100\n",
      "1506/1506 [==============================] - 2s 2ms/step - loss: 173.1498 - mae: 5.5218 - root_mean_squared_error: 13.1586\n",
      "Epoch 88/100\n",
      "1506/1506 [==============================] - 2s 1ms/step - loss: 171.6068 - mae: 5.4803 - root_mean_squared_error: 13.0999\n",
      "Epoch 89/100\n",
      "1506/1506 [==============================] - 2s 2ms/step - loss: 175.5006 - mae: 5.5812 - root_mean_squared_error: 13.2477\n",
      "Epoch 90/100\n",
      "1506/1506 [==============================] - 3s 2ms/step - loss: 174.4874 - mae: 5.5457 - root_mean_squared_error: 13.2094\n",
      "Epoch 91/100\n",
      "1506/1506 [==============================] - 2s 1ms/step - loss: 173.4548 - mae: 5.5478 - root_mean_squared_error: 13.1702: 0s - loss: 172.8951 - mae: 5.5440 - root_mean_squared_erro\n",
      "Epoch 92/100\n",
      "1506/1506 [==============================] - 2s 2ms/step - loss: 173.5849 - mae: 5.5212 - root_mean_squared_error: 13.1752\n",
      "Epoch 93/100\n",
      "1506/1506 [==============================] - 3s 2ms/step - loss: 173.0543 - mae: 5.5302 - root_mean_squared_error: 13.1550\n",
      "Epoch 94/100\n",
      "1506/1506 [==============================] - 3s 2ms/step - loss: 171.4389 - mae: 5.4724 - root_mean_squared_error: 13.0935\n",
      "Epoch 95/100\n",
      "1506/1506 [==============================] - 2s 2ms/step - loss: 172.8365 - mae: 5.4880 - root_mean_squared_error: 13.1467\n",
      "Epoch 96/100\n",
      "1506/1506 [==============================] - 2s 1ms/step - loss: 170.4287 - mae: 5.4577 - root_mean_squared_error: 13.0548\n",
      "Epoch 97/100\n",
      "1506/1506 [==============================] - 2s 1ms/step - loss: 171.6641 - mae: 5.4741 - root_mean_squared_error: 13.1021\n",
      "Epoch 98/100\n",
      "1506/1506 [==============================] - 2s 2ms/step - loss: 172.2492 - mae: 5.4938 - root_mean_squared_error: 13.1244\n",
      "Epoch 99/100\n",
      "1506/1506 [==============================] - 2s 1ms/step - loss: 173.4491 - mae: 5.5077 - root_mean_squared_error: 13.1700\n",
      "Epoch 100/100\n",
      "1506/1506 [==============================] - 2s 2ms/step - loss: 171.6095 - mae: 5.4557 - root_mean_squared_error: 13.1000\n"
     ]
    }
   ],
   "source": [
    "#Compile and train\n",
    "model_Miami_dni.compile(optimizer=Adam(lr=0.0001), \n",
    "              loss='mse',\n",
    "              metrics=['mae', keras.metrics.RootMeanSquaredError()])\n",
    "\n",
    "history_Miami_dni = model_Miami_dni.fit(input_arry, output_arry, epochs=100, batch_size=64)"
   ]
  },
  {
   "cell_type": "code",
   "execution_count": 32,
   "metadata": {},
   "outputs": [
    {
     "name": "stderr",
     "output_type": "stream",
     "text": [
      "/usr/local/lib/python3.7/site-packages/matplotlib-2.2.4-py3.7-macosx-10.15-x86_64.egg/matplotlib/legend.py:640: UserWarning: Unrecognized location \"middle\". Falling back on \"best\"; valid locations are\n",
      "\tbest\n",
      "\tupper right\n",
      "\tupper left\n",
      "\tlower left\n",
      "\tlower right\n",
      "\tright\n",
      "\tcenter left\n",
      "\tcenter right\n",
      "\tlower center\n",
      "\tupper center\n",
      "\tcenter\n",
      "\n",
      "  % (loc, '\\n\\t'.join(self.codes)))\n"
     ]
    },
    {
     "data": {
      "image/png": "[encoded data removed]",
      "text/plain": [
       "<Figure size 432x288 with 1 Axes>"
      ]
     },
     "metadata": {},
     "output_type": "display_data"
    }
   ],
   "source": [
    "plt.plot(history_Miami.history['mae'])\n",
    "plt.plot(history_Miami.history['root_mean_squared_error'])\n",
    "plt.plot(history_Miami_dni.history['mae'])\n",
    "plt.plot(history_Miami_dni.history['root_mean_squared_error'])\n",
    "plt.title('MAE and RMSE per epoch')\n",
    "plt.ylabel('Error')\n",
    "plt.xlabel('Epoch')\n",
    "plt.legend(['MAE', 'RMSE','MAE-DNI', 'RMSE-DNI' ], loc='middle')\n",
    "plt.savefig('error-v-epoch-Miami.png')\n",
    "plt.show()"
   ]
  },
  {
   "cell_type": "markdown",
   "metadata": {},
   "source": [
    "Test on Miami 2018 data"
   ]
  },
  {
   "cell_type": "code",
   "execution_count": 61,
   "metadata": {},
   "outputs": [
    {
     "data": {
      "text/html": [
       "<div>\n",
       "<style scoped>\n",
       "    .dataframe tbody tr th:only-of-type {\n",
       "        vertical-align: middle;\n",
       "    }\n",
       "\n",
       "    .dataframe tbody tr th {\n",
       "        vertical-align: top;\n",
       "    }\n",
       "\n",
       "    .dataframe thead th {\n",
       "        text-align: right;\n",
       "    }\n",
       "</style>\n",
       "<table border=\"1\" class=\"dataframe\">\n",
       "  <thead>\n",
       "    <tr style=\"text-align: right;\">\n",
       "      <th></th>\n",
       "      <th>Year</th>\n",
       "      <th>Month</th>\n",
       "      <th>Day</th>\n",
       "      <th>Hour</th>\n",
       "      <th>Minute</th>\n",
       "      <th>Temperature</th>\n",
       "      <th>Clearsky DHI</th>\n",
       "      <th>Clearsky DNI</th>\n",
       "      <th>Clearsky GHI</th>\n",
       "      <th>Cloud Type</th>\n",
       "      <th>...</th>\n",
       "      <th>Solar Zenith Angle</th>\n",
       "      <th>Surface Albedo</th>\n",
       "      <th>Pressure</th>\n",
       "      <th>Precipitable Water</th>\n",
       "      <th>Wind Direction</th>\n",
       "      <th>Wind Speed</th>\n",
       "      <th>Global Horizontal UV Irradiance (280-400nm)</th>\n",
       "      <th>Global Horizontal UV Irradiance (285-385nm)</th>\n",
       "      <th>timestamps</th>\n",
       "      <th>Cloud Cover</th>\n",
       "    </tr>\n",
       "  </thead>\n",
       "  <tbody>\n",
       "    <tr>\n",
       "      <th>0</th>\n",
       "      <td>2018</td>\n",
       "      <td>1</td>\n",
       "      <td>1</td>\n",
       "      <td>0</td>\n",
       "      <td>30</td>\n",
       "      <td>21.1</td>\n",
       "      <td>0</td>\n",
       "      <td>0</td>\n",
       "      <td>0</td>\n",
       "      <td>0</td>\n",
       "      <td>...</td>\n",
       "      <td>113.89</td>\n",
       "      <td>0.08</td>\n",
       "      <td>1019</td>\n",
       "      <td>2.7</td>\n",
       "      <td>58</td>\n",
       "      <td>2.0</td>\n",
       "      <td>NaN</td>\n",
       "      <td>NaN</td>\n",
       "      <td>1514782800</td>\n",
       "      <td>0.30</td>\n",
       "    </tr>\n",
       "    <tr>\n",
       "      <th>1</th>\n",
       "      <td>2018</td>\n",
       "      <td>1</td>\n",
       "      <td>1</td>\n",
       "      <td>1</td>\n",
       "      <td>30</td>\n",
       "      <td>21.2</td>\n",
       "      <td>0</td>\n",
       "      <td>0</td>\n",
       "      <td>0</td>\n",
       "      <td>0</td>\n",
       "      <td>...</td>\n",
       "      <td>127.06</td>\n",
       "      <td>0.08</td>\n",
       "      <td>1019</td>\n",
       "      <td>2.8</td>\n",
       "      <td>63</td>\n",
       "      <td>1.8</td>\n",
       "      <td>NaN</td>\n",
       "      <td>NaN</td>\n",
       "      <td>1514786400</td>\n",
       "      <td>0.32</td>\n",
       "    </tr>\n",
       "    <tr>\n",
       "      <th>2</th>\n",
       "      <td>2018</td>\n",
       "      <td>1</td>\n",
       "      <td>1</td>\n",
       "      <td>2</td>\n",
       "      <td>30</td>\n",
       "      <td>21.2</td>\n",
       "      <td>0</td>\n",
       "      <td>0</td>\n",
       "      <td>0</td>\n",
       "      <td>0</td>\n",
       "      <td>...</td>\n",
       "      <td>140.43</td>\n",
       "      <td>0.08</td>\n",
       "      <td>1019</td>\n",
       "      <td>2.8</td>\n",
       "      <td>65</td>\n",
       "      <td>1.6</td>\n",
       "      <td>NaN</td>\n",
       "      <td>NaN</td>\n",
       "      <td>1514790000</td>\n",
       "      <td>0.23</td>\n",
       "    </tr>\n",
       "    <tr>\n",
       "      <th>3</th>\n",
       "      <td>2018</td>\n",
       "      <td>1</td>\n",
       "      <td>1</td>\n",
       "      <td>3</td>\n",
       "      <td>30</td>\n",
       "      <td>21.2</td>\n",
       "      <td>0</td>\n",
       "      <td>0</td>\n",
       "      <td>0</td>\n",
       "      <td>0</td>\n",
       "      <td>...</td>\n",
       "      <td>153.91</td>\n",
       "      <td>0.08</td>\n",
       "      <td>1018</td>\n",
       "      <td>2.9</td>\n",
       "      <td>57</td>\n",
       "      <td>1.3</td>\n",
       "      <td>NaN</td>\n",
       "      <td>NaN</td>\n",
       "      <td>1514793600</td>\n",
       "      <td>0.14</td>\n",
       "    </tr>\n",
       "    <tr>\n",
       "      <th>4</th>\n",
       "      <td>2018</td>\n",
       "      <td>1</td>\n",
       "      <td>1</td>\n",
       "      <td>4</td>\n",
       "      <td>30</td>\n",
       "      <td>21.1</td>\n",
       "      <td>0</td>\n",
       "      <td>0</td>\n",
       "      <td>0</td>\n",
       "      <td>0</td>\n",
       "      <td>...</td>\n",
       "      <td>167.37</td>\n",
       "      <td>0.08</td>\n",
       "      <td>1018</td>\n",
       "      <td>2.9</td>\n",
       "      <td>41</td>\n",
       "      <td>1.1</td>\n",
       "      <td>NaN</td>\n",
       "      <td>NaN</td>\n",
       "      <td>1514797200</td>\n",
       "      <td>0.14</td>\n",
       "    </tr>\n",
       "  </tbody>\n",
       "</table>\n",
       "<p>5 rows × 26 columns</p>\n",
       "</div>"
      ],
      "text/plain": [
       "   Year  Month  Day  Hour  Minute  Temperature  Clearsky DHI  Clearsky DNI  \\\n",
       "0  2018      1    1     0      30         21.1             0             0   \n",
       "1  2018      1    1     1      30         21.2             0             0   \n",
       "2  2018      1    1     2      30         21.2             0             0   \n",
       "3  2018      1    1     3      30         21.2             0             0   \n",
       "4  2018      1    1     4      30         21.1             0             0   \n",
       "\n",
       "   Clearsky GHI  Cloud Type  ...  Solar Zenith Angle  Surface Albedo  \\\n",
       "0             0           0  ...              113.89            0.08   \n",
       "1             0           0  ...              127.06            0.08   \n",
       "2             0           0  ...              140.43            0.08   \n",
       "3             0           0  ...              153.91            0.08   \n",
       "4             0           0  ...              167.37            0.08   \n",
       "\n",
       "   Pressure  Precipitable Water  Wind Direction  Wind Speed  \\\n",
       "0      1019                 2.7              58         2.0   \n",
       "1      1019                 2.8              63         1.8   \n",
       "2      1019                 2.8              65         1.6   \n",
       "3      1018                 2.9              57         1.3   \n",
       "4      1018                 2.9              41         1.1   \n",
       "\n",
       "   Global Horizontal UV Irradiance (280-400nm)  \\\n",
       "0                                          NaN   \n",
       "1                                          NaN   \n",
       "2                                          NaN   \n",
       "3                                          NaN   \n",
       "4                                          NaN   \n",
       "\n",
       "   Global Horizontal UV Irradiance (285-385nm)  timestamps  Cloud Cover  \n",
       "0                                          NaN  1514782800         0.30  \n",
       "1                                          NaN  1514786400         0.32  \n",
       "2                                          NaN  1514790000         0.23  \n",
       "3                                          NaN  1514793600         0.14  \n",
       "4                                          NaN  1514797200         0.14  \n",
       "\n",
       "[5 rows x 26 columns]"
      ]
     },
     "execution_count": 61,
     "metadata": {},
     "output_type": "execute_result"
    }
   ],
   "source": [
    "test_df = pd.read_csv(os.path.join(_Testing_Data_Dir, 'Miami_FL', 'psm_FL_Miami2018.csv'))\n",
    "test_df.head()"
   ]
  },
  {
   "cell_type": "code",
   "execution_count": 62,
   "metadata": {},
   "outputs": [],
   "source": [
    "input_size = 6\n",
    "test_input_arry = np.array([], dtype=np.float64).reshape(0,input_size)\n",
    "test_output_arry = np.array([], dtype=np.float64)\n",
    "test_dni_arry = np.array([], dtype=np.float64)\n",
    "test_input_arry, test_output_arry, test_dni_arry = combine_training_arrays(test_df, test_input_arry, test_output_arry, test_dni_arry)"
   ]
  },
  {
   "cell_type": "code",
   "execution_count": 63,
   "metadata": {},
   "outputs": [
    {
     "name": "stdout",
     "output_type": "stream",
     "text": [
      "274/274 [==============================] - 0s 913us/step - loss: 744.0860 - mae: 11.7767 - root_mean_squared_error: 27.2779\n"
     ]
    }
   ],
   "source": [
    "score = model_Miami.evaluate(test_input_arry, test_output_arry, verbose=1)"
   ]
  },
  {
   "cell_type": "code",
   "execution_count": 64,
   "metadata": {},
   "outputs": [],
   "source": [
    "#Mae of 10.1002....not bad!~"
   ]
  },
  {
   "cell_type": "code",
   "execution_count": 65,
   "metadata": {},
   "outputs": [
    {
     "name": "stdout",
     "output_type": "stream",
     "text": [
      "274/274 [==============================] - 0s 870us/step - loss: 79274.1953 - mae: 155.8049 - root_mean_squared_error: 281.5567\n"
     ]
    }
   ],
   "source": [
    "score_dni = model_Miami_dni.evaluate(test_input_arry, test_dni_arry, verbose=1)"
   ]
  },
  {
   "cell_type": "code",
   "execution_count": 130,
   "metadata": {},
   "outputs": [],
   "source": [
    "#Save models"
   ]
  },
  {
   "cell_type": "code",
   "execution_count": 132,
   "metadata": {},
   "outputs": [
    {
     "name": "stdout",
     "output_type": "stream",
     "text": [
      "INFO:tensorflow:Assets written to: Neural_Nets/Neural_Net_Boulder_CO/assets\n"
     ]
    }
   ],
   "source": [
    "model_Boulder.save('Neural_Nets/Neural_Net_Boulder_CO')"
   ]
  },
  {
   "cell_type": "code",
   "execution_count": 93,
   "metadata": {},
   "outputs": [
    {
     "name": "stdout",
     "output_type": "stream",
     "text": [
      "INFO:tensorflow:Assets written to: Neural_Nets/Neural_Net_Boulder_CO-dni/assets\n"
     ]
    }
   ],
   "source": [
    "model_Boulder_dni.save('Neural_Nets/Neural_Net_Boulder_CO-dni')"
   ]
  },
  {
   "cell_type": "code",
   "execution_count": 52,
   "metadata": {},
   "outputs": [
    {
     "name": "stdout",
     "output_type": "stream",
     "text": [
      "INFO:tensorflow:Assets written to: Neural_Nets/Neural_Net_Miami_FL/assets\n"
     ]
    }
   ],
   "source": [
    "model_Miami.save('Neural_Nets/Neural_Net_Miami_FL')"
   ]
  },
  {
   "cell_type": "code",
   "execution_count": 51,
   "metadata": {},
   "outputs": [
    {
     "name": "stdout",
     "output_type": "stream",
     "text": [
      "WARNING:tensorflow:From /usr/local/lib/python3.7/site-packages/tensorflow/python/training/tracking/tracking.py:111: Model.state_updates (from tensorflow.python.keras.engine.training) is deprecated and will be removed in a future version.\n",
      "Instructions for updating:\n",
      "This property should not be used in TensorFlow 2.0, as updates are applied automatically.\n",
      "WARNING:tensorflow:From /usr/local/lib/python3.7/site-packages/tensorflow/python/training/tracking/tracking.py:111: Layer.updates (from tensorflow.python.keras.engine.base_layer) is deprecated and will be removed in a future version.\n",
      "Instructions for updating:\n",
      "This property should not be used in TensorFlow 2.0, as updates are applied automatically.\n",
      "INFO:tensorflow:Assets written to: Neural_Nets/Neural_Net_Miami_FL-dni/assets\n"
     ]
    }
   ],
   "source": [
    "model_Miami_dni.save('Neural_Nets/Neural_Net_Miami_FL-dni')"
   ]
  },
  {
   "cell_type": "code",
   "execution_count": null,
   "metadata": {},
   "outputs": [],
   "source": []
  }
 ],
 "metadata": {
  "kernelspec": {
   "display_name": "Python 3",
   "language": "python",
   "name": "python3"
  },
  "language_info": {
   "codemirror_mode": {
    "name": "ipython",
    "version": 3
   },
   "file_extension": ".py",
   "mimetype": "text/x-python",
   "name": "python",
   "nbconvert_exporter": "python",
   "pygments_lexer": "ipython3",
   "version": "3.7.6"
  }
 },
 "nbformat": 4,
 "nbformat_minor": 4
}
