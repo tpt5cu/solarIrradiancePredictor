{
 "cells": [
  {
   "cell_type": "markdown",
   "metadata": {},
   "source": [
    "# Neural Network"
   ]
  },
  {
   "cell_type": "markdown",
   "metadata": {},
   "source": [
    "## I. Import and Load Data"
   ]
  },
  {
   "cell_type": "markdown",
   "metadata": {},
   "source": [
    "Training Data was pulled from two sources. \n",
    "\n",
    "Solar Irradience data was pulled from the [National Solar Radiation Database](https://nsrdb.nrel.gov/). Pointwise GHI, DHI, and DNI data is returned hourly for an entire calendar year. All irradience values are recorded in w/m^2. Location is for a latitude longitude coordinate pair. Coordinates were chosen based on the locations of [U.S. Climate Reference Network (USCRN)](https://www.ncdc.noaa.gov/crn/) monitoring stations. This is because the USCRN has real time measurements of GHI, which can be used to make real-time predictions of DHI. The NRSDB is not updated so frequently. \n",
    "\n",
    "The production prediction module in the [omf](https://github.com/dpinney/omf/wiki) uses GHI measuremeants read from USCRN. \n",
    "\n",
    "In addition to solar irradience data, this project uses other weather data such as cloud cover, air pressure, and season data to try and model the relationship between GHI and DHI. For that, this project pulls data from [darksky](https://darksky.net/dev). And that data is combined with the NRSDB data for testing."
   ]
  },
  {
   "cell_type": "markdown",
   "metadata": {},
   "source": [
    "Please NOTE! In this notebook, the directory \"Testing_Data\" does not mean it is solely Testing Data. Rather for this Neural network, it contains both testing and training data. This is because the neural network requires much more data to train than regression. So much of the same data used to test the regression model is now being used to train the neural network. The True training data for the neural network is in \"Proudction_Test\", where the data is from USCRN and combined with data combed from darksky."
   ]
  },
  {
   "cell_type": "code",
   "execution_count": 109,
   "metadata": {},
   "outputs": [],
   "source": [
    "import pandas as pd\n",
    "import os\n",
    "import numpy as np\n",
    "from glob import glob\n",
    "from matplotlib import pyplot as plt\n",
    "import seaborn as sns\n",
    "from random import randint\n",
    "from glob import glob\n",
    "from math import sin, cos, asin, acos, sqrt"
   ]
  },
  {
   "cell_type": "code",
   "execution_count": 110,
   "metadata": {},
   "outputs": [],
   "source": [
    "import tensorflow as tf\n",
    "from tensorflow import keras\n",
    "from tensorflow.keras import layers"
   ]
  },
  {
   "cell_type": "code",
   "execution_count": 3,
   "metadata": {},
   "outputs": [],
   "source": [
    "def featureHistograms(df, features=['GHI','DHI','Cloud Cover'],):\n",
    "    sns.set_style('darkgrid')\n",
    "    fig, axs = plt.subplots(ncols=len(features))\n",
    "    for i in range(len(features)):\n",
    "        sns.distplot(df[features[i]], ax=axs[i])"
   ]
  },
  {
   "cell_type": "code",
   "execution_count": 4,
   "metadata": {},
   "outputs": [],
   "source": [
    "#Lets try and make a neural network"
   ]
  },
  {
   "cell_type": "code",
   "execution_count": 5,
   "metadata": {},
   "outputs": [
    {
     "name": "stdout",
     "output_type": "stream",
     "text": [
      "/Users/tuomastalvitie/Documents/Diffuse:Direct/solarIrradiencePredictor/Testing_Data\n"
     ]
    }
   ],
   "source": [
    "#Get 2018 Data\n",
    "_Curr_Dir = os.getcwd()\n",
    "_Testing_Data_Dir = os.path.join(_Curr_Dir, 'Testing_Data')\n",
    "print(_Testing_Data_Dir)"
   ]
  },
  {
   "cell_type": "code",
   "execution_count": 6,
   "metadata": {},
   "outputs": [
    {
     "data": {
      "text/html": [
       "<div>\n",
       "<style scoped>\n",
       "    .dataframe tbody tr th:only-of-type {\n",
       "        vertical-align: middle;\n",
       "    }\n",
       "\n",
       "    .dataframe tbody tr th {\n",
       "        vertical-align: top;\n",
       "    }\n",
       "\n",
       "    .dataframe thead th {\n",
       "        text-align: right;\n",
       "    }\n",
       "</style>\n",
       "<table border=\"1\" class=\"dataframe\">\n",
       "  <thead>\n",
       "    <tr style=\"text-align: right;\">\n",
       "      <th></th>\n",
       "      <th>Year</th>\n",
       "      <th>Month</th>\n",
       "      <th>Day</th>\n",
       "      <th>Hour</th>\n",
       "      <th>Minute</th>\n",
       "      <th>Temperature</th>\n",
       "      <th>Clearsky DHI</th>\n",
       "      <th>Clearsky DNI</th>\n",
       "      <th>Clearsky GHI</th>\n",
       "      <th>Cloud Type</th>\n",
       "      <th>...</th>\n",
       "      <th>GHI</th>\n",
       "      <th>Relative Humidity</th>\n",
       "      <th>Solar Zenith Angle</th>\n",
       "      <th>Surface Albedo</th>\n",
       "      <th>Pressure</th>\n",
       "      <th>Precipitable Water</th>\n",
       "      <th>Wind Direction</th>\n",
       "      <th>Wind Speed</th>\n",
       "      <th>timestamps</th>\n",
       "      <th>Cloud Cover</th>\n",
       "    </tr>\n",
       "  </thead>\n",
       "  <tbody>\n",
       "    <tr>\n",
       "      <th>0</th>\n",
       "      <td>2018</td>\n",
       "      <td>1</td>\n",
       "      <td>1</td>\n",
       "      <td>0</td>\n",
       "      <td>30</td>\n",
       "      <td>-22.5</td>\n",
       "      <td>0</td>\n",
       "      <td>0</td>\n",
       "      <td>0</td>\n",
       "      <td>8</td>\n",
       "      <td>...</td>\n",
       "      <td>0</td>\n",
       "      <td>62.75</td>\n",
       "      <td>103.76</td>\n",
       "      <td>0.69</td>\n",
       "      <td>978</td>\n",
       "      <td>0.1</td>\n",
       "      <td>296</td>\n",
       "      <td>2.1</td>\n",
       "      <td>1514739600</td>\n",
       "      <td>0.0</td>\n",
       "    </tr>\n",
       "    <tr>\n",
       "      <th>1</th>\n",
       "      <td>2018</td>\n",
       "      <td>1</td>\n",
       "      <td>1</td>\n",
       "      <td>1</td>\n",
       "      <td>30</td>\n",
       "      <td>-23.1</td>\n",
       "      <td>0</td>\n",
       "      <td>0</td>\n",
       "      <td>0</td>\n",
       "      <td>0</td>\n",
       "      <td>...</td>\n",
       "      <td>0</td>\n",
       "      <td>66.39</td>\n",
       "      <td>114.24</td>\n",
       "      <td>0.69</td>\n",
       "      <td>978</td>\n",
       "      <td>0.1</td>\n",
       "      <td>287</td>\n",
       "      <td>2.2</td>\n",
       "      <td>1514743200</td>\n",
       "      <td>0.0</td>\n",
       "    </tr>\n",
       "    <tr>\n",
       "      <th>2</th>\n",
       "      <td>2018</td>\n",
       "      <td>1</td>\n",
       "      <td>1</td>\n",
       "      <td>2</td>\n",
       "      <td>30</td>\n",
       "      <td>-23.6</td>\n",
       "      <td>0</td>\n",
       "      <td>0</td>\n",
       "      <td>0</td>\n",
       "      <td>8</td>\n",
       "      <td>...</td>\n",
       "      <td>0</td>\n",
       "      <td>69.34</td>\n",
       "      <td>125.01</td>\n",
       "      <td>0.69</td>\n",
       "      <td>978</td>\n",
       "      <td>0.1</td>\n",
       "      <td>283</td>\n",
       "      <td>2.3</td>\n",
       "      <td>1514746800</td>\n",
       "      <td>0.0</td>\n",
       "    </tr>\n",
       "    <tr>\n",
       "      <th>3</th>\n",
       "      <td>2018</td>\n",
       "      <td>1</td>\n",
       "      <td>1</td>\n",
       "      <td>3</td>\n",
       "      <td>30</td>\n",
       "      <td>-23.9</td>\n",
       "      <td>0</td>\n",
       "      <td>0</td>\n",
       "      <td>0</td>\n",
       "      <td>8</td>\n",
       "      <td>...</td>\n",
       "      <td>0</td>\n",
       "      <td>71.25</td>\n",
       "      <td>135.74</td>\n",
       "      <td>0.69</td>\n",
       "      <td>978</td>\n",
       "      <td>0.1</td>\n",
       "      <td>283</td>\n",
       "      <td>2.3</td>\n",
       "      <td>1514750400</td>\n",
       "      <td>0.0</td>\n",
       "    </tr>\n",
       "    <tr>\n",
       "      <th>4</th>\n",
       "      <td>2018</td>\n",
       "      <td>1</td>\n",
       "      <td>1</td>\n",
       "      <td>4</td>\n",
       "      <td>30</td>\n",
       "      <td>-24.1</td>\n",
       "      <td>0</td>\n",
       "      <td>0</td>\n",
       "      <td>0</td>\n",
       "      <td>8</td>\n",
       "      <td>...</td>\n",
       "      <td>0</td>\n",
       "      <td>72.87</td>\n",
       "      <td>145.93</td>\n",
       "      <td>0.69</td>\n",
       "      <td>979</td>\n",
       "      <td>0.1</td>\n",
       "      <td>284</td>\n",
       "      <td>2.3</td>\n",
       "      <td>1514754000</td>\n",
       "      <td>0.0</td>\n",
       "    </tr>\n",
       "  </tbody>\n",
       "</table>\n",
       "<p>5 rows × 24 columns</p>\n",
       "</div>"
      ],
      "text/plain": [
       "   Year  Month  Day  Hour  Minute  Temperature  Clearsky DHI  Clearsky DNI  \\\n",
       "0  2018      1    1     0      30        -22.5             0             0   \n",
       "1  2018      1    1     1      30        -23.1             0             0   \n",
       "2  2018      1    1     2      30        -23.6             0             0   \n",
       "3  2018      1    1     3      30        -23.9             0             0   \n",
       "4  2018      1    1     4      30        -24.1             0             0   \n",
       "\n",
       "   Clearsky GHI  Cloud Type  ...  GHI  Relative Humidity  Solar Zenith Angle  \\\n",
       "0             0           8  ...    0              62.75              103.76   \n",
       "1             0           0  ...    0              66.39              114.24   \n",
       "2             0           8  ...    0              69.34              125.01   \n",
       "3             0           8  ...    0              71.25              135.74   \n",
       "4             0           8  ...    0              72.87              145.93   \n",
       "\n",
       "   Surface Albedo  Pressure  Precipitable Water  Wind Direction  Wind Speed  \\\n",
       "0            0.69       978                 0.1             296         2.1   \n",
       "1            0.69       978                 0.1             287         2.2   \n",
       "2            0.69       978                 0.1             283         2.3   \n",
       "3            0.69       978                 0.1             283         2.3   \n",
       "4            0.69       979                 0.1             284         2.3   \n",
       "\n",
       "   timestamps  Cloud Cover  \n",
       "0  1514739600          0.0  \n",
       "1  1514743200          0.0  \n",
       "2  1514746800          0.0  \n",
       "3  1514750400          0.0  \n",
       "4  1514754000          0.0  \n",
       "\n",
       "[5 rows x 24 columns]"
      ]
     },
     "execution_count": 6,
     "metadata": {},
     "output_type": "execute_result"
    }
   ],
   "source": [
    "pd.read_csv(os.path.join(_Testing_Data_Dir, 'psm_south_dakota', 'psm_testing_data2018.csv')).head()"
   ]
  },
  {
   "cell_type": "code",
   "execution_count": 7,
   "metadata": {},
   "outputs": [
    {
     "data": {
      "image/png": "[encoded data removed]",
      "text/plain": [
       "<Figure size 432x288 with 3 Axes>"
      ]
     },
     "metadata": {},
     "output_type": "display_data"
    }
   ],
   "source": [
    "df = pd.read_csv(os.path.join(_Testing_Data_Dir, 'psm_south_dakota', 'psm_testing_data2018.csv'))\n",
    "featureHistograms(df)"
   ]
  },
  {
   "cell_type": "markdown",
   "metadata": {},
   "source": [
    "## II. Features and Data Engineering"
   ]
  },
  {
   "cell_type": "markdown",
   "metadata": {},
   "source": [
    "So we have all the above variables....Which ones do we think would work best in a NN?"
   ]
  },
  {
   "cell_type": "markdown",
   "metadata": {},
   "source": [
    "So we want to predict DHI, at the very least. Maybe DNI as well. What can we use to predict? \n",
    "[More Information on GHI, DHI, and DNI here!](https://firstgreenconsulting.wordpress.com/2012/04/26/differentiate-between-the-dni-dhi-and-ghi/#:~:text=Global%20Horizontal%20Irradiance%20(GHI)%20is,Diffuse%20Horizontal%20Irradiance%20(DHI).)\n",
    "\n",
    "But a useful relationship to keep in mind is:\n",
    "\n",
    "*Global Horizontal (GHI) = Direct Normal (DNI) X cos(θ) + Diffuse Horizontal (DHI)*\n",
    "\n",
    "**GHI** is a must, as it is the primary metric our sensors will feed into such a model. \n",
    "\n",
    "**Cloud cover** is also essential, as cloud cover is one of the primary factors in how much direct normal solar irradience is diffused.\n",
    "\n",
    "**Solar Zenith Angle** is important as it dictates how much irradience is direct normal (DNI)\n",
    "\n",
    "Another useful relatinship to capture is **time**. We are given timestamps in addition to month, day, year, second, hour and minute variables. Timestamps and/or a combination between day + month would not be super useful, as it would overfit to the day. \n",
    "A more useful relationship would be to capture time of day. This is useful because in a non - featurized dataset, many GHI readings will read '0', simply because it is dark out. We are primarily concerned about the relationship between GHI and DHI, therefore factoring in readings when there is no sunlight to begin with could be confounding. Therefore adding in **minute** and **hour** variables in the input vector could adequately capture this relationship. \n",
    "\n",
    "Another solution would be to featurize this dataset, whereby we create a seperate feature which is a combination of day + time. OR, we could completly remove the nighttime entries entirely to ensure we only are concerned with readings that occur when the sun is out. However this occurs on a gradient, because sunlight is defracted even after sunset. So for now, let's just fit the model on the unedited dataset. \n",
    "\n",
    "Another good idea is to create a **season** variable, which is a dummy variable for each season (Fall, Winter, Spring, Summer), as different amounts of sunlight occur during each. The problem is that, for different locations on earth, seasonality could be inversely correlated with sunlight and thus GHI, DHI, and DNI. \n",
    "\n",
    "To keep the model as general as possible, we will exclude seasonality. \n",
    "\n",
    "Another useful metric is **Pressure**. According to the renowned [DISC model](https://www.nrel.gov/docs/legosti/old/3087.pdf), air pressure is included as a proxy for *air mass*, which is the amount of atmosphere solar rays have to travel through. The larger the solar mass, the more solar rays are scattered. \n",
    "\n"
   ]
  },
  {
   "cell_type": "markdown",
   "metadata": {},
   "source": [
    "### Loading the Data"
   ]
  },
  {
   "cell_type": "markdown",
   "metadata": {},
   "source": [
    "Get training arrays and combine them into a useable vector\n",
    "\n",
    "-Useful params:  \n",
    "-Hours  \n",
    "-Cloud Cover  \n",
    "-GHI  \n",
    "-Solar Zenith  \n",
    "-Pressure  \n",
    "\n",
    "\n",
    "Training Locations with Lat/Lon:  \n",
    "-**Reliance, South Dakota** (43.85, -99.50) from 2010-2018  \n",
    "-**Everglades, FL** (26.004157 ,-81.119239) from 2010-2018  \n",
    "-**Spokane, WA** (47.41,-117.52) from 2010-2018  \n",
    "-**Austin, TX** (30.581736,-98.024098) from 2010-2018  \n",
    "-**Charlottesville, VA** (38.0086,-78.4532) from 2010-2018  "
   ]
  },
  {
   "cell_type": "markdown",
   "metadata": {},
   "source": [
    "Please NOTE! In this notebook, the directory \"Testing_Data\" does not mean it is solely Testing Data. Rather for this Neural network, it contains both testing and training data. \n",
    "This is because the neural network requires much more data to train than regression. So much of the same data used to test the regression model is now being used to train the neural network. The True training data for the neural network is in \"Proudction_Test\", where the data is from USCRN and combined with data combed from darksky. "
   ]
  },
  {
   "cell_type": "code",
   "execution_count": 13,
   "metadata": {},
   "outputs": [],
   "source": [
    "def combine_training_arrays(df, input_arry, output_arr, dni_arr):\n",
    "    ghi  = df['GHI'].values\n",
    "    cloud_cover = df['Cloud Cover'].values\n",
    "    hours = df['Hour'].values\n",
    "    minutes = df['Minute'].values\n",
    "    solar_zenith = df['Solar Zenith Angle'].values\n",
    "    pressure = df['Pressure'].values\n",
    "    dhi = df['DHI'].values\n",
    "    dni = df['DNI'].values\n",
    "    #Sanity check, should all be 8760\n",
    "    assert len(pressure)==len(solar_zenith)==len(minutes)==len(hours)==len(cloud_cover)==len(ghi)==len(dni)==8760, \"len of input array not 8760\"\n",
    "    ar = np.array([ghi, cloud_cover, hours, minutes, solar_zenith, pressure]).T\n",
    "    input_arry = np.concatenate((input_arry, ar))\n",
    "    output_arr = np.concatenate((output_arr, np.array(dhi).T))\n",
    "    dni_arr = np.concatenate((dni_arr, np.array(dni).T))\n",
    "    return input_arry, output_arr, dni_arr\n"
   ]
  },
  {
   "cell_type": "code",
   "execution_count": 16,
   "metadata": {},
   "outputs": [
    {
     "name": "stdout",
     "output_type": "stream",
     "text": [
      "[]\n",
      "[]\n",
      "[]\n",
      "394200 (394200, 6)\n",
      "394200 (394200,)\n",
      "394200 (394200,)\n"
     ]
    }
   ],
   "source": [
    "# test_files = ['Murphey_ID', 'OldTown_ME', 'Quinault_WA', 'Lincoln_NE', 'SanDiego_CA', 'Boulder_CO', 'Miami_FL', 'outer_banks']\n",
    "training_files = ['psm_south_dakota', 'Everglades_FL', 'Spokane_WA', 'Austin_TX', 'Charlottesville']\n",
    "input_size = 6\n",
    "input_arry = np.array([], dtype=np.float64).reshape(0,input_size)\n",
    "output_arry = np.array([], dtype=np.float64)\n",
    "dni_arr = np.array([], dtype=np.float64)\n",
    "print(input_arry)\n",
    "print(output_arry)\n",
    "print(dni_arr)\n",
    "for directory in training_files:\n",
    "    for file in glob(_Testing_Data_Dir+'/'+directory+'/psm_*'):\n",
    "        df = pd.read_csv(file)\n",
    "        input_arry, output_arry, dni_arr = combine_training_arrays(df, input_arry, output_arry, dni_arr)\n",
    "print(len(input_arry), input_arry.shape)\n",
    "print(len(output_arry), output_arry.shape)\n",
    "print(len(dni_arr), dni_arr.shape)"
   ]
  },
  {
   "cell_type": "code",
   "execution_count": 17,
   "metadata": {},
   "outputs": [
    {
     "name": "stdout",
     "output_type": "stream",
     "text": [
      "630720\n"
     ]
    }
   ],
   "source": [
    "#sanity check, make sure 8760*number of files we look at == 429240\n",
    "count = 0\n",
    "for path in glob(_Testing_Data_Dir+'/*'):\n",
    "    for file in glob(path+'/psm_'+'*'):\n",
    "        count+=1\n",
    "print(count*8760)"
   ]
  },
  {
   "cell_type": "markdown",
   "metadata": {},
   "source": [
    "# III. Training"
   ]
  },
  {
   "cell_type": "code",
   "execution_count": 159,
   "metadata": {},
   "outputs": [],
   "source": [
    "from tensorflow.keras.optimizers import Adam"
   ]
  },
  {
   "cell_type": "code",
   "execution_count": 160,
   "metadata": {},
   "outputs": [],
   "source": [
    "keras.backend.clear_session()\n",
    "tf.keras.backend.clear_session()"
   ]
  },
  {
   "cell_type": "code",
   "execution_count": 161,
   "metadata": {},
   "outputs": [],
   "source": [
    "#Epoch size of 50 seems reasonable"
   ]
  },
  {
   "cell_type": "code",
   "execution_count": 162,
   "metadata": {},
   "outputs": [
    {
     "data": {
      "text/plain": [
       "<function tensorflow.python.framework.ops.reset_default_graph()>"
      ]
     },
     "execution_count": 162,
     "metadata": {},
     "output_type": "execute_result"
    }
   ],
   "source": [
    "keras.backend.clear_session()\n",
    "tf.keras.backend.clear_session()\n",
    "tf.compat.v1.reset_default_graph"
   ]
  },
  {
   "cell_type": "code",
   "execution_count": 163,
   "metadata": {},
   "outputs": [],
   "source": [
    "keras.backend.clear_session()\n",
    "tf.keras.backend.clear_session()"
   ]
  },
  {
   "cell_type": "code",
   "execution_count": 164,
   "metadata": {},
   "outputs": [],
   "source": [
    "#make RMSE a custom metric"
   ]
  },
  {
   "cell_type": "code",
   "execution_count": 165,
   "metadata": {},
   "outputs": [],
   "source": [
    "# def rmse(y_true, y_pred):\n",
    "#     return keras.backend.sqrt(keras.backend.mean(keras.backend.square(y_pred - y_true), axis=-1))"
   ]
  },
  {
   "cell_type": "code",
   "execution_count": null,
   "metadata": {},
   "outputs": [],
   "source": []
  },
  {
   "cell_type": "code",
   "execution_count": 166,
   "metadata": {},
   "outputs": [],
   "source": [
    "model = keras.Sequential()\n",
    "model.add(layers.Dense(300, activation=\"relu\"))\n",
    "model.add(layers.Dense(200, activation=\"relu\"))\n",
    "model.add(layers.Dense(100, activation=\"relu\"))\n",
    "model.add(layers.Dense(50, activation=\"relu\"))\n",
    "model.add(layers.Dense(25, activation=\"relu\"))\n",
    "model.add(layers.Dense(1, activation='relu'))"
   ]
  },
  {
   "cell_type": "code",
   "execution_count": 167,
   "metadata": {},
   "outputs": [
    {
     "name": "stdout",
     "output_type": "stream",
     "text": [
      "Epoch 1/100\n",
      "6160/6160 [==============================] - 12s 2ms/step - loss: 1530.8229 - mae: 17.1695 - root_mean_squared_error: 39.1257\n",
      "Epoch 2/100\n",
      "6160/6160 [==============================] - 12s 2ms/step - loss: 432.5455 - mae: 9.3569 - root_mean_squared_error: 20.7977\n",
      "Epoch 3/100\n",
      "6160/6160 [==============================] - 17s 3ms/step - loss: 377.7376 - mae: 8.5686 - root_mean_squared_error: 19.4355\n",
      "Epoch 4/100\n",
      "6160/6160 [==============================] - 11s 2ms/step - loss: 357.1304 - mae: 8.2659 - root_mean_squared_error: 18.8979\n",
      "Epoch 5/100\n",
      "6160/6160 [==============================] - 11s 2ms/step - loss: 324.2262 - mae: 7.8048 - root_mean_squared_error: 18.0063\n",
      "Epoch 6/100\n",
      "6160/6160 [==============================] - 13s 2ms/step - loss: 295.1676 - mae: 7.4062 - root_mean_squared_error: 17.1804\n",
      "Epoch 7/100\n",
      "6160/6160 [==============================] - 14s 2ms/step - loss: 270.8140 - mae: 7.0737 - root_mean_squared_error: 16.4564\n",
      "Epoch 8/100\n",
      "6160/6160 [==============================] - 14s 2ms/step - loss: 240.3070 - mae: 6.6204 - root_mean_squared_error: 15.5018\n",
      "Epoch 9/100\n",
      "6160/6160 [==============================] - 12s 2ms/step - loss: 216.9798 - mae: 6.2475 - root_mean_squared_error: 14.7302\n",
      "Epoch 10/100\n",
      "6160/6160 [==============================] - 12s 2ms/step - loss: 197.6031 - mae: 5.9426 - root_mean_squared_error: 14.0571\n",
      "Epoch 11/100\n",
      "6160/6160 [==============================] - ETA: 0s - loss: 184.3885 - mae: 5.7336 - root_mean_squared_error: 13.5790 ETA: 2s - loss: 186 - ETA: 1s - loss: 184.6061 - ma - 11s 2ms/step - loss: 184.1301 - mae: 5.7302 - root_mean_squared_error: 13.5695\n",
      "Epoch 12/100\n",
      "6160/6160 [==============================] - 12s 2ms/step - loss: 183.2238 - mae: 5.7132 - root_mean_squared_error: 13.5360\n",
      "Epoch 13/100\n",
      "6160/6160 [==============================] - 15s 2ms/step - loss: 171.8363 - mae: 5.5246 - root_mean_squared_error: 13.1086\n",
      "Epoch 14/100\n",
      "6160/6160 [==============================] - 14s 2ms/step - loss: 169.1579 - mae: 5.4807 - root_mean_squared_error: 13.0061\n",
      "Epoch 15/100\n",
      "6160/6160 [==============================] - 15s 2ms/step - loss: 164.6013 - mae: 5.4065 - root_mean_squared_error: 12.8297\n",
      "Epoch 16/100\n",
      "6160/6160 [==============================] - 14s 2ms/step - loss: 161.8768 - mae: 5.3537 - root_mean_squared_error: 12.7231\n",
      "Epoch 17/100\n",
      "6160/6160 [==============================] - 14s 2ms/step - loss: 163.0336 - mae: 5.3884 - root_mean_squared_error: 12.7685\n",
      "Epoch 18/100\n",
      "6160/6160 [==============================] - 11s 2ms/step - loss: 158.2949 - mae: 5.2884 - root_mean_squared_error: 12.5815 1s - loss: 158.0293  - ETA: 0s - loss: 158.7038 - mae: 5.2899 - root_mean_square\n",
      "Epoch 19/100\n",
      "6160/6160 [==============================] - 12s 2ms/step - loss: 155.7256 - mae: 5.2465 - root_mean_squared_error: 12.4790\n",
      "Epoch 20/100\n",
      "6160/6160 [==============================] - 11s 2ms/step - loss: 152.1094 - mae: 5.1825 - root_mean_squared_error: 12.3333\n",
      "Epoch 21/100\n",
      "6160/6160 [==============================] - 11s 2ms/step - loss: 152.1299 - mae: 5.1741 - root_mean_squared_error: 12.3341\n",
      "Epoch 22/100\n",
      "6160/6160 [==============================] - 13s 2ms/step - loss: 151.8696 - mae: 5.1645 - root_mean_squared_error: 12.3235\n",
      "Epoch 23/100\n",
      "6160/6160 [==============================] - 11s 2ms/step - loss: 149.7323 - mae: 5.1285 - root_mean_squared_error: 12.2365\n",
      "Epoch 24/100\n",
      "6160/6160 [==============================] - 11s 2ms/step - loss: 149.0371 - mae: 5.1268 - root_mean_squared_error: 12.2081\n",
      "Epoch 25/100\n",
      "6160/6160 [==============================] - 11s 2ms/step - loss: 145.2186 - mae: 5.0508 - root_mean_squared_error: 12.0507\n",
      "Epoch 26/100\n",
      "6160/6160 [==============================] - 11s 2ms/step - loss: 146.1946 - mae: 5.0689 - root_mean_squared_error: 12.0911\n",
      "Epoch 27/100\n",
      "6160/6160 [==============================] - 14s 2ms/step - loss: 145.7104 - mae: 5.0575 - root_mean_squared_error: 12.0711\n",
      "Epoch 28/100\n",
      "6160/6160 [==============================] - 11s 2ms/step - loss: 144.1799 - mae: 5.0355 - root_mean_squared_error: 12.0075\n",
      "Epoch 29/100\n",
      "6160/6160 [==============================] - 11s 2ms/step - loss: 141.1764 - mae: 4.9749 - root_mean_squared_error: 11.8818\n",
      "Epoch 30/100\n",
      "6160/6160 [==============================] - 11s 2ms/step - loss: 142.3279 - mae: 5.0094 - root_mean_squared_error: 11.9301\n",
      "Epoch 31/100\n",
      "6160/6160 [==============================] - 11s 2ms/step - loss: 142.2747 - mae: 4.9978 - root_mean_squared_error: 11.9279 1s - loss: 142.1788 - mae: 5.0 - ETA: 0s - loss: 142.2379 - mae: 5.0077 - ro\n",
      "Epoch 32/100\n",
      "6160/6160 [==============================] - 13s 2ms/step - loss: 141.1377 - mae: 4.9612 - root_mean_squared_error: 11.8801\n",
      "Epoch 33/100\n",
      "6160/6160 [==============================] - 11s 2ms/step - loss: 140.1367 - mae: 4.9545 - root_mean_squared_error: 11.8379\n",
      "Epoch 34/100\n",
      "6160/6160 [==============================] - 12s 2ms/step - loss: 138.3098 - mae: 4.9217 - root_mean_squared_error: 11.7605 1s - loss: 137\n",
      "Epoch 35/100\n",
      "6160/6160 [==============================] - 11s 2ms/step - loss: 137.8193 - mae: 4.8874 - root_mean_squared_error: 11.7396\n",
      "Epoch 36/100\n",
      "6160/6160 [==============================] - 11s 2ms/step - loss: 135.8313 - mae: 4.8544 - root_mean_squared_error: 11.6547\n",
      "Epoch 37/100\n",
      "6160/6160 [==============================] - 14s 2ms/step - loss: 134.0805 - mae: 4.8255 - root_mean_squared_error: 11.5793 0s - loss: 134.6792 - mae:\n",
      "Epoch 38/100\n",
      "6160/6160 [==============================] - 11s 2ms/step - loss: 134.2234 - mae: 4.8214 - root_mean_squared_error: 11.5855 1s - loss: 134.3037 - mae: 4\n",
      "Epoch 39/100\n",
      "6160/6160 [==============================] - 11s 2ms/step - loss: 134.9204 - mae: 4.8525 - root_mean_squared_error: 11.6155\n",
      "Epoch 40/100\n",
      "6160/6160 [==============================] - 11s 2ms/step - loss: 131.4283 - mae: 4.7767 - root_mean_squared_error: 11.4642\n",
      "Epoch 41/100\n",
      "6160/6160 [==============================] - 11s 2ms/step - loss: 131.3305 - mae: 4.7806 - root_mean_squared_error: 11.4600 0s - loss: 131.8880 - mae: 4.7887 - root_mean_squa\n",
      "Epoch 42/100\n",
      "6160/6160 [==============================] - 12s 2ms/step - loss: 131.7946 - mae: 4.7866 - root_mean_squared_error: 11.4802\n",
      "Epoch 43/100\n",
      "6160/6160 [==============================] - 14s 2ms/step - loss: 128.0682 - mae: 4.7255 - root_mean_squared_error: 11.3167 0s - loss: 128.1529 - mae: 4.7273 - \n",
      "Epoch 44/100\n",
      "6160/6160 [==============================] - 15s 2ms/step - loss: 131.1796 - mae: 4.7692 - root_mean_squared_error: 11.4534\n",
      "Epoch 45/100\n",
      "6160/6160 [==============================] - 12s 2ms/step - loss: 128.0264 - mae: 4.7058 - root_mean_squared_error: 11.3149 1s - loss: 128.6554 - mae: 4.724\n",
      "Epoch 46/100\n",
      "6160/6160 [==============================] - 11s 2ms/step - loss: 129.9867 - mae: 4.7470 - root_mean_squared_error: 11.4012\n",
      "Epoch 47/100\n",
      "6160/6160 [==============================] - 14s 2ms/step - loss: 131.1988 - mae: 4.7681 - root_mean_squared_error: 11.4542\n",
      "Epoch 48/100\n",
      "6160/6160 [==============================] - 13s 2ms/step - loss: 128.1598 - mae: 4.7096 - root_mean_squared_error: 11.3208 0s - loss: 127.5217 - mae: 4.6985 - root\n",
      "Epoch 49/100\n",
      "6160/6160 [==============================] - 14s 2ms/step - loss: 130.4025 - mae: 4.7514 - root_mean_squared_error: 11.4194\n",
      "Epoch 50/100\n",
      "6160/6160 [==============================] - 12s 2ms/step - loss: 125.5899 - mae: 4.6578 - root_mean_squared_error: 11.2067\n",
      "Epoch 51/100\n",
      "6160/6160 [==============================] - 12s 2ms/step - loss: 129.0571 - mae: 4.7316 - root_mean_squared_error: 11.3603- ETA: 1s - loss:\n",
      "Epoch 52/100\n",
      "6160/6160 [==============================] - 14s 2ms/step - loss: 125.8911 - mae: 4.6734 - root_mean_squared_error: 11.2201 1s - loss: 125.2990 - mae: 4.6615 - \n",
      "Epoch 53/100\n",
      "6160/6160 [==============================] - 14s 2ms/step - loss: 126.5616 - mae: 4.6731 - root_mean_squared_error: 11.2500\n",
      "Epoch 54/100\n",
      "6160/6160 [==============================] - 15s 2ms/step - loss: 124.8772 - mae: 4.6389 - root_mean_squared_error: 11.1748\n",
      "Epoch 55/100\n",
      "6160/6160 [==============================] - 12s 2ms/step - loss: 125.4668 - mae: 4.6426 - root_mean_squared_error: 11.2012\n",
      "Epoch 56/100\n"
     ]
    },
    {
     "name": "stdout",
     "output_type": "stream",
     "text": [
      "6160/6160 [==============================] - 14s 2ms/step - loss: 123.7962 - mae: 4.6258 - root_mean_squared_error: 11.1264 3s - loss: 124.7482 - mae: 4.6465 - root_mea - ETA: 3s - loss: 124\n",
      "Epoch 57/100\n",
      "6160/6160 [==============================] - 13s 2ms/step - loss: 123.4264 - mae: 4.6105 - root_mean_squared_error: 11.1097A: 10\n",
      "Epoch 58/100\n",
      "6160/6160 [==============================] - 14s 2ms/step - loss: 124.1514 - mae: 4.6300 - root_mean_squared_error: 11.1423\n",
      "Epoch 59/100\n",
      "6160/6160 [==============================] - 13s 2ms/step - loss: 122.8482 - mae: 4.6120 - root_mean_squared_error: 11.0837 1s - loss: 124.0168  - ETA: 0s - loss: 123.3159 - mae: 4.6\n",
      "Epoch 60/100\n",
      "6160/6160 [==============================] - 12s 2ms/step - loss: 123.5973 - mae: 4.6114 - root_mean_squared_error: 11.1174\n",
      "Epoch 61/100\n",
      "6160/6160 [==============================] - 14s 2ms/step - loss: 121.7622 - mae: 4.5687 - root_mean_squared_error: 11.0346\n",
      "Epoch 62/100\n",
      "6160/6160 [==============================] - 11s 2ms/step - loss: 122.3599 - mae: 4.5739 - root_mean_squared_error: 11.0616\n",
      "Epoch 63/100\n",
      "6160/6160 [==============================] - 12s 2ms/step - loss: 122.2879 - mae: 4.5868 - root_mean_squared_error: 11.0584\n",
      "Epoch 64/100\n",
      "6160/6160 [==============================] - 12s 2ms/step - loss: 122.9037 - mae: 4.5819 - root_mean_squared_error: 11.0862\n",
      "Epoch 65/100\n",
      "6160/6160 [==============================] - 12s 2ms/step - loss: 123.9118 - mae: 4.6020 - root_mean_squared_error: 11.1316 3s\n",
      "Epoch 66/100\n",
      "6160/6160 [==============================] - 14s 2ms/step - loss: 122.6086 - mae: 4.5884 - root_mean_squared_error: 11.0729\n",
      "Epoch 67/100\n",
      "6160/6160 [==============================] - 12s 2ms/step - loss: 120.1077 - mae: 4.5313 - root_mean_squared_error: 10.9594 0s - loss: 120.1155 - mae: 4.5318 - root_mean_squared_error:\n",
      "Epoch 68/100\n",
      "6160/6160 [==============================] - 12s 2ms/step - loss: 120.2931 - mae: 4.5321 - root_mean_squared_error: 10.9678\n",
      "Epoch 69/100\n",
      "6160/6160 [==============================] - 12s 2ms/step - loss: 121.4051 - mae: 4.5662 - root_mean_squared_error: 11.0184\n",
      "Epoch 70/100\n",
      "6160/6160 [==============================] - 13s 2ms/step - loss: 118.5556 - mae: 4.4933 - root_mean_squared_error: 10.8883\n",
      "Epoch 71/100\n",
      "6160/6160 [==============================] - 13s 2ms/step - loss: 119.5592 - mae: 4.5269 - root_mean_squared_error: 10.9343\n",
      "Epoch 72/100\n",
      "6160/6160 [==============================] - 12s 2ms/step - loss: 118.8983 - mae: 4.5168 - root_mean_squared_error: 10.9041\n",
      "Epoch 73/100\n",
      "6160/6160 [==============================] - 11s 2ms/step - loss: 118.0526 - mae: 4.4894 - root_mean_squared_error: 10.8652\n",
      "Epoch 74/100\n",
      "6160/6160 [==============================] - 12s 2ms/step - loss: 118.1074 - mae: 4.4959 - root_mean_squared_error: 10.8677\n",
      "Epoch 75/100\n",
      "6160/6160 [==============================] - 14s 2ms/step - loss: 117.3864 - mae: 4.4823 - root_mean_squared_error: 10.8345\n",
      "Epoch 76/100\n",
      "6160/6160 [==============================] - 14s 2ms/step - loss: 117.8967 - mae: 4.4777 - root_mean_squared_error: 10.8580\n",
      "Epoch 77/100\n",
      "6160/6160 [==============================] - 13s 2ms/step - loss: 117.7944 - mae: 4.4660 - root_mean_squared_error: 10.8533\n",
      "Epoch 78/100\n",
      "6160/6160 [==============================] - 13s 2ms/step - loss: 118.1036 - mae: 4.4613 - root_mean_squared_error: 10.8675\n",
      "Epoch 79/100\n",
      "6160/6160 [==============================] - 13s 2ms/step - loss: 116.9203 - mae: 4.4578 - root_mean_squared_error: 10.8130\n",
      "Epoch 80/100\n",
      "6160/6160 [==============================] - 13s 2ms/step - loss: 117.3477 - mae: 4.4676 - root_mean_squared_error: 10.8327 \n",
      "Epoch 81/100\n",
      "6160/6160 [==============================] - 12s 2ms/step - loss: 115.7030 - mae: 4.4218 - root_mean_squared_error: 10.7565\n",
      "Epoch 82/100\n",
      "6160/6160 [==============================] - 12s 2ms/step - loss: 114.8534 - mae: 4.3972 - root_mean_squared_error: 10.7170 1s - - ETA: 0s - loss: 114.7978 - mae: 4.3968 - root_mean_squared_error: 10.71\n",
      "Epoch 83/100\n",
      "6160/6160 [==============================] - 13s 2ms/step - loss: 116.3641 - mae: 4.4209 - root_mean_squared_error: 10.7872 1s - loss: 116.3\n",
      "Epoch 84/100\n",
      "6160/6160 [==============================] - 16s 3ms/step - loss: 116.2505 - mae: 4.4346 - root_mean_squared_error: 10.7820\n",
      "Epoch 85/100\n",
      "6160/6160 [==============================] - 12s 2ms/step - loss: 112.5483 - mae: 4.3547 - root_mean_squared_error: 10.6089\n",
      "Epoch 86/100\n",
      "6160/6160 [==============================] - 12s 2ms/step - loss: 113.5731 - mae: 4.3628 - root_mean_squared_error: 10.6571 0s - loss: 113.7323 - mae: 4.3658 - root_mean_squared_error:\n",
      "Epoch 87/100\n",
      "6160/6160 [==============================] - 13s 2ms/step - loss: 116.2353 - mae: 4.4276 - root_mean_squared_error: 10.7812\n",
      "Epoch 88/100\n",
      "6160/6160 [==============================] - 13s 2ms/step - loss: 113.6529 - mae: 4.3794 - root_mean_squared_error: 10.6608\n",
      "Epoch 89/100\n",
      "6160/6160 [==============================] - 19s 3ms/step - loss: 114.0017 - mae: 4.3643 - root_mean_squared_error: 10.6772\n",
      "Epoch 90/100\n",
      "6160/6160 [==============================] - 13s 2ms/step - loss: 112.8343 - mae: 4.3509 - root_mean_squared_error: 10.6223\n",
      "Epoch 91/100\n",
      "6160/6160 [==============================] - 15s 2ms/step - loss: 112.0213 - mae: 4.3176 - root_mean_squared_error: 10.5840\n",
      "Epoch 92/100\n",
      "6160/6160 [==============================] - 21s 3ms/step - loss: 113.4731 - mae: 4.3673 - root_mean_squared_error: 10.6524 3s - l\n",
      "Epoch 93/100\n",
      "6160/6160 [==============================] - 11s 2ms/step - loss: 113.2276 - mae: 4.3416 - root_mean_squared_error: 10.6408 1s - loss:\n",
      "Epoch 94/100\n",
      "6160/6160 [==============================] - 13s 2ms/step - loss: 111.2654 - mae: 4.2997 - root_mean_squared_error: 10.5482\n",
      "Epoch 95/100\n",
      "6160/6160 [==============================] - 12s 2ms/step - loss: 113.0707 - mae: 4.3539 - root_mean_squared_error: 10.6335\n",
      "Epoch 96/100\n",
      "6160/6160 [==============================] - 11s 2ms/step - loss: 112.6446 - mae: 4.3420 - root_mean_squared_error: 10.6134  - ETA: 1s\n",
      "Epoch 97/100\n",
      "6160/6160 [==============================] - 14s 2ms/step - loss: 111.8277 - mae: 4.3114 - root_mean_squared_error: 10.5749 1s - loss: 111.5358 - mae: 4.3071 - root - ETA: 0s - loss: 111.7854 - mae: 4.3071 - root_mean_squared_erro\n",
      "Epoch 98/100\n",
      "6160/6160 [==============================] - 11s 2ms/step - loss: 111.6315 - mae: 4.3231 - root_mean_squared_error: 10.5656\n",
      "Epoch 99/100\n",
      "6160/6160 [==============================] - 12s 2ms/step - loss: 110.6488 - mae: 4.2987 - root_mean_squared_error: 10.5190\n",
      "Epoch 100/100\n",
      "6160/6160 [==============================] - 11s 2ms/step - loss: 109.0717 - mae: 4.2555 - root_mean_squared_error: 10.4437\n"
     ]
    }
   ],
   "source": [
    "#Compile and train\n",
    "model.compile(optimizer=Adam(lr=0.0001), \n",
    "              loss='mse',\n",
    "              metrics=['mae',keras.metrics.RootMeanSquaredError()])\n",
    "\n",
    "history = model.fit(input_arry, output_arry, epochs=100, batch_size=64)"
   ]
  },
  {
   "cell_type": "code",
   "execution_count": 123,
   "metadata": {},
   "outputs": [
    {
     "name": "stdout",
     "output_type": "stream",
     "text": [
      "Model: \"sequential\"\n",
      "_________________________________________________________________\n",
      "Layer (type)                 Output Shape              Param #   \n",
      "=================================================================\n",
      "dense (Dense)                (None, 300)               2100      \n",
      "_________________________________________________________________\n",
      "dense_1 (Dense)              (None, 200)               60200     \n",
      "_________________________________________________________________\n",
      "dense_2 (Dense)              (None, 100)               20100     \n",
      "_________________________________________________________________\n",
      "dense_3 (Dense)              (None, 50)                5050      \n",
      "_________________________________________________________________\n",
      "dense_4 (Dense)              (None, 25)                1275      \n",
      "_________________________________________________________________\n",
      "dense_5 (Dense)              (None, 1)                 26        \n",
      "=================================================================\n",
      "Total params: 88,751\n",
      "Trainable params: 88,751\n",
      "Non-trainable params: 0\n",
      "_________________________________________________________________\n"
     ]
    }
   ],
   "source": [
    "model.summary()"
   ]
  },
  {
   "cell_type": "code",
   "execution_count": 124,
   "metadata": {},
   "outputs": [
    {
     "name": "stderr",
     "output_type": "stream",
     "text": [
      "/usr/local/lib/python3.7/site-packages/matplotlib-2.2.4-py3.7-macosx-10.15-x86_64.egg/matplotlib/legend.py:640: UserWarning: Unrecognized location \"middle\". Falling back on \"best\"; valid locations are\n",
      "\tbest\n",
      "\tupper right\n",
      "\tupper left\n",
      "\tlower left\n",
      "\tlower right\n",
      "\tright\n",
      "\tcenter left\n",
      "\tcenter right\n",
      "\tlower center\n",
      "\tupper center\n",
      "\tcenter\n",
      "\n",
      "  % (loc, '\\n\\t'.join(self.codes)))\n"
     ]
    },
    {
     "data": {
      "image/png": "[encoded data removed]",
      "text/plain": [
       "<Figure size 432x288 with 1 Axes>"
      ]
     },
     "metadata": {},
     "output_type": "display_data"
    }
   ],
   "source": [
    "plt.plot(history.history['mae'])\n",
    "plt.plot(history.history['root_mean_squared_error'])\n",
    "plt.title('MAE and RMSE per epoch')\n",
    "plt.ylabel('Error')\n",
    "plt.xlabel('Epoch')\n",
    "plt.legend(['MAE', 'RMSE'], loc='middle')\n",
    "plt.savefig('error-v-epoch.png')\n",
    "plt.show()"
   ]
  },
  {
   "cell_type": "code",
   "execution_count": 48,
   "metadata": {},
   "outputs": [],
   "source": [
    "#mae: 4.2719\n",
    "#rmse 10.51"
   ]
  },
  {
   "cell_type": "code",
   "execution_count": 49,
   "metadata": {},
   "outputs": [],
   "source": [
    "#MAE of around 4 w/m2. Considering DHI values go from 0 - 400, 4 represents a 1% error value"
   ]
  },
  {
   "cell_type": "code",
   "execution_count": null,
   "metadata": {},
   "outputs": [],
   "source": [
    "# Prediction with DNI included\n",
    "\n",
    "\n",
    "keras.backend.clear_session()\n",
    "tf.keras.backend.clear_session()\n",
    "\n",
    "keras.backend.clear_session()\n",
    "tf.keras.backend.clear_session()\n",
    "tf.compat.v1.reset_default_graph\n",
    "\n",
    "keras.backend.clear_session()\n",
    "tf.keras.backend.clear_session()"
   ]
  },
  {
   "cell_type": "code",
   "execution_count": null,
   "metadata": {},
   "outputs": [],
   "source": [
    "model_dni = keras.Sequential()\n",
    "model_dni.add(layers.Dense(300, activation=\"relu\"))\n",
    "model_dni.add(layers.Dense(200, activation=\"relu\"))\n",
    "model_dni.add(layers.Dense(100, activation=\"relu\"))\n",
    "model_dni.add(layers.Dense(50, activation=\"relu\"))\n",
    "model_dni.add(layers.Dense(25, activation=\"relu\"))\n",
    "model_dni.add(layers.Dense(1, activation='relu'))"
   ]
  },
  {
   "cell_type": "code",
   "execution_count": null,
   "metadata": {},
   "outputs": [],
   "source": [
    "#Compile and train\n",
    "model_dni.compile(optimizer=Adam(lr=0.0001), \n",
    "              loss='mse',\n",
    "              metrics=['mae',keras.metrics.RootMeanSquaredError()])\n",
    "\n",
    "history_dni = model.fit(input_arry, dni_arr, epochs=50, batch_size=64)"
   ]
  },
  {
   "cell_type": "markdown",
   "metadata": {},
   "source": [
    "## IV. Model Validation - Outer Banks"
   ]
  },
  {
   "cell_type": "code",
   "execution_count": 50,
   "metadata": {},
   "outputs": [
    {
     "data": {
      "text/html": [
       "<div>\n",
       "<style scoped>\n",
       "    .dataframe tbody tr th:only-of-type {\n",
       "        vertical-align: middle;\n",
       "    }\n",
       "\n",
       "    .dataframe tbody tr th {\n",
       "        vertical-align: top;\n",
       "    }\n",
       "\n",
       "    .dataframe thead th {\n",
       "        text-align: right;\n",
       "    }\n",
       "</style>\n",
       "<table border=\"1\" class=\"dataframe\">\n",
       "  <thead>\n",
       "    <tr style=\"text-align: right;\">\n",
       "      <th></th>\n",
       "      <th>Year</th>\n",
       "      <th>Month</th>\n",
       "      <th>Day</th>\n",
       "      <th>Hour</th>\n",
       "      <th>Minute</th>\n",
       "      <th>Temperature</th>\n",
       "      <th>Clearsky DHI</th>\n",
       "      <th>Clearsky DNI</th>\n",
       "      <th>Clearsky GHI</th>\n",
       "      <th>Cloud Type</th>\n",
       "      <th>...</th>\n",
       "      <th>GHI</th>\n",
       "      <th>Relative Humidity</th>\n",
       "      <th>Solar Zenith Angle</th>\n",
       "      <th>Surface Albedo</th>\n",
       "      <th>Pressure</th>\n",
       "      <th>Precipitable Water</th>\n",
       "      <th>Wind Direction</th>\n",
       "      <th>Wind Speed</th>\n",
       "      <th>timestamps</th>\n",
       "      <th>Cloud Cover</th>\n",
       "    </tr>\n",
       "  </thead>\n",
       "  <tbody>\n",
       "    <tr>\n",
       "      <th>0</th>\n",
       "      <td>2018</td>\n",
       "      <td>1</td>\n",
       "      <td>1</td>\n",
       "      <td>0</td>\n",
       "      <td>30</td>\n",
       "      <td>1.8</td>\n",
       "      <td>0</td>\n",
       "      <td>0</td>\n",
       "      <td>0</td>\n",
       "      <td>4</td>\n",
       "      <td>...</td>\n",
       "      <td>0</td>\n",
       "      <td>85.84</td>\n",
       "      <td>119.89</td>\n",
       "      <td>0.03</td>\n",
       "      <td>1026</td>\n",
       "      <td>1.2</td>\n",
       "      <td>350</td>\n",
       "      <td>8.6</td>\n",
       "      <td>1514782800</td>\n",
       "      <td>1.00</td>\n",
       "    </tr>\n",
       "    <tr>\n",
       "      <th>1</th>\n",
       "      <td>2018</td>\n",
       "      <td>1</td>\n",
       "      <td>1</td>\n",
       "      <td>1</td>\n",
       "      <td>30</td>\n",
       "      <td>1.6</td>\n",
       "      <td>0</td>\n",
       "      <td>0</td>\n",
       "      <td>0</td>\n",
       "      <td>4</td>\n",
       "      <td>...</td>\n",
       "      <td>0</td>\n",
       "      <td>87.76</td>\n",
       "      <td>132.05</td>\n",
       "      <td>0.03</td>\n",
       "      <td>1026</td>\n",
       "      <td>1.2</td>\n",
       "      <td>348</td>\n",
       "      <td>8.7</td>\n",
       "      <td>1514786400</td>\n",
       "      <td>0.94</td>\n",
       "    </tr>\n",
       "    <tr>\n",
       "      <th>2</th>\n",
       "      <td>2018</td>\n",
       "      <td>1</td>\n",
       "      <td>1</td>\n",
       "      <td>2</td>\n",
       "      <td>30</td>\n",
       "      <td>1.5</td>\n",
       "      <td>0</td>\n",
       "      <td>0</td>\n",
       "      <td>0</td>\n",
       "      <td>4</td>\n",
       "      <td>...</td>\n",
       "      <td>0</td>\n",
       "      <td>88.35</td>\n",
       "      <td>144.19</td>\n",
       "      <td>0.03</td>\n",
       "      <td>1026</td>\n",
       "      <td>1.1</td>\n",
       "      <td>346</td>\n",
       "      <td>8.7</td>\n",
       "      <td>1514790000</td>\n",
       "      <td>1.00</td>\n",
       "    </tr>\n",
       "    <tr>\n",
       "      <th>3</th>\n",
       "      <td>2018</td>\n",
       "      <td>1</td>\n",
       "      <td>1</td>\n",
       "      <td>3</td>\n",
       "      <td>30</td>\n",
       "      <td>1.4</td>\n",
       "      <td>0</td>\n",
       "      <td>0</td>\n",
       "      <td>0</td>\n",
       "      <td>4</td>\n",
       "      <td>...</td>\n",
       "      <td>0</td>\n",
       "      <td>89.16</td>\n",
       "      <td>155.85</td>\n",
       "      <td>0.03</td>\n",
       "      <td>1026</td>\n",
       "      <td>1.1</td>\n",
       "      <td>346</td>\n",
       "      <td>8.7</td>\n",
       "      <td>1514793600</td>\n",
       "      <td>1.00</td>\n",
       "    </tr>\n",
       "    <tr>\n",
       "      <th>4</th>\n",
       "      <td>2018</td>\n",
       "      <td>1</td>\n",
       "      <td>1</td>\n",
       "      <td>4</td>\n",
       "      <td>30</td>\n",
       "      <td>1.4</td>\n",
       "      <td>0</td>\n",
       "      <td>0</td>\n",
       "      <td>0</td>\n",
       "      <td>4</td>\n",
       "      <td>...</td>\n",
       "      <td>0</td>\n",
       "      <td>89.52</td>\n",
       "      <td>165.32</td>\n",
       "      <td>0.03</td>\n",
       "      <td>1026</td>\n",
       "      <td>1.1</td>\n",
       "      <td>347</td>\n",
       "      <td>8.9</td>\n",
       "      <td>1514797200</td>\n",
       "      <td>1.00</td>\n",
       "    </tr>\n",
       "  </tbody>\n",
       "</table>\n",
       "<p>5 rows × 24 columns</p>\n",
       "</div>"
      ],
      "text/plain": [
       "   Year  Month  Day  Hour  Minute  Temperature  Clearsky DHI  Clearsky DNI  \\\n",
       "0  2018      1    1     0      30          1.8             0             0   \n",
       "1  2018      1    1     1      30          1.6             0             0   \n",
       "2  2018      1    1     2      30          1.5             0             0   \n",
       "3  2018      1    1     3      30          1.4             0             0   \n",
       "4  2018      1    1     4      30          1.4             0             0   \n",
       "\n",
       "   Clearsky GHI  Cloud Type  ...  GHI  Relative Humidity  Solar Zenith Angle  \\\n",
       "0             0           4  ...    0              85.84              119.89   \n",
       "1             0           4  ...    0              87.76              132.05   \n",
       "2             0           4  ...    0              88.35              144.19   \n",
       "3             0           4  ...    0              89.16              155.85   \n",
       "4             0           4  ...    0              89.52              165.32   \n",
       "\n",
       "   Surface Albedo  Pressure  Precipitable Water  Wind Direction  Wind Speed  \\\n",
       "0            0.03      1026                 1.2             350         8.6   \n",
       "1            0.03      1026                 1.2             348         8.7   \n",
       "2            0.03      1026                 1.1             346         8.7   \n",
       "3            0.03      1026                 1.1             346         8.7   \n",
       "4            0.03      1026                 1.1             347         8.9   \n",
       "\n",
       "   timestamps  Cloud Cover  \n",
       "0  1514782800         1.00  \n",
       "1  1514786400         0.94  \n",
       "2  1514790000         1.00  \n",
       "3  1514793600         1.00  \n",
       "4  1514797200         1.00  \n",
       "\n",
       "[5 rows x 24 columns]"
      ]
     },
     "execution_count": 50,
     "metadata": {},
     "output_type": "execute_result"
    }
   ],
   "source": [
    "validation_df = pd.read_csv(os.path.join(_Testing_Data_Dir, 'outer_banks', 'r_banks.csv'))\n",
    "validation_df.head()"
   ]
  },
  {
   "cell_type": "code",
   "execution_count": 52,
   "metadata": {},
   "outputs": [],
   "source": [
    "input_size = 6\n",
    "val_input_arry = np.array([], dtype=np.float64).reshape(0,input_size)\n",
    "val_output_arry = np.array([], dtype=np.float64)\n",
    "val_dni_arr = np.array([], dtype=np.float64)\n",
    "val_input_arry, val_output_arry, val_dni_arr = combine_training_arrays(validation_df, val_input_arry, val_output_arry, val_dni_arr)"
   ]
  },
  {
   "cell_type": "code",
   "execution_count": 53,
   "metadata": {},
   "outputs": [],
   "source": [
    "#keras model.evaluate reveals a mae of 6.9433 w/m2 in the outer banks test"
   ]
  },
  {
   "cell_type": "code",
   "execution_count": 126,
   "metadata": {},
   "outputs": [
    {
     "name": "stdout",
     "output_type": "stream",
     "text": [
      "274/274 [==============================] - 1s 2ms/step - loss: 262.3155 - mae: 6.6264 - root_mean_squared_error: 16.1962\n"
     ]
    }
   ],
   "source": [
    "score = model.evaluate(val_input_arry, val_output_arry, verbose=1)"
   ]
  },
  {
   "cell_type": "code",
   "execution_count": 136,
   "metadata": {},
   "outputs": [
    {
     "name": "stdout",
     "output_type": "stream",
     "text": [
      "[[ 0.      ]\n",
      " [ 0.      ]\n",
      " [ 0.      ]\n",
      " ...\n",
      " [13.171021]\n",
      " [ 0.      ]\n",
      " [ 0.      ]]\n"
     ]
    }
   ],
   "source": [
    "preds = model.predict(val_input_arry)\n"
   ]
  },
  {
   "cell_type": "code",
   "execution_count": 137,
   "metadata": {},
   "outputs": [],
   "source": [
    "#Mape too high because of 0 values"
   ]
  },
  {
   "cell_type": "code",
   "execution_count": 138,
   "metadata": {},
   "outputs": [],
   "source": [
    "#Compare random induvidual resutls!!!!!"
   ]
  },
  {
   "cell_type": "code",
   "execution_count": 140,
   "metadata": {},
   "outputs": [
    {
     "name": "stdout",
     "output_type": "stream",
     "text": [
      "index is  7623\n",
      "Actual  138.0   Predicted  [138.84602]\n"
     ]
    }
   ],
   "source": [
    "i = randint(0,8760)\n",
    "print(\"index is \",i)\n",
    "print(\"Actual \",val_output_arry[i],\" \",\"Predicted \", preds[i])"
   ]
  },
  {
   "cell_type": "code",
   "execution_count": 96,
   "metadata": {},
   "outputs": [],
   "source": [
    "# Now lets see how it fares for DNI\n",
    "score_dni = model_dni.evaluate(val_input_arry, val_dni_arr, verbose=1)"
   ]
  },
  {
   "cell_type": "code",
   "execution_count": 97,
   "metadata": {},
   "outputs": [
    {
     "name": "stdout",
     "output_type": "stream",
     "text": [
      "[ 0.  0.  0. ... 14.  0.  0.]\n",
      "[[0.0000e+00 1.0000e+00 0.0000e+00 3.0000e+01 1.1989e+02 1.0260e+03]\n",
      " [0.0000e+00 9.4000e-01 1.0000e+00 3.0000e+01 1.3205e+02 1.0260e+03]\n",
      " [0.0000e+00 1.0000e+00 2.0000e+00 3.0000e+01 1.4419e+02 1.0260e+03]\n",
      " ...\n",
      " [1.4000e+01 8.3000e-01 2.1000e+01 3.0000e+01 8.5590e+01 1.0220e+03]\n",
      " [0.0000e+00 9.9000e-01 2.2000e+01 3.0000e+01 9.6530e+01 1.0220e+03]\n",
      " [0.0000e+00 8.4000e-01 2.3000e+01 3.0000e+01 1.0800e+02 1.0220e+03]]\n"
     ]
    }
   ],
   "source": [
    "preds_dni = model_dni.predict(val_dni_arr)"
   ]
  },
  {
   "cell_type": "code",
   "execution_count": 113,
   "metadata": {},
   "outputs": [],
   "source": [
    "i = randint(0,8760)\n",
    "print(\"index is \",i)\n",
    "print(\"Actual \",val_dni_arr[i],\" \",\"Predicted \", preds_dni[i])"
   ]
  },
  {
   "cell_type": "code",
   "execution_count": 75,
   "metadata": {},
   "outputs": [
    {
     "name": "stdout",
     "output_type": "stream",
     "text": [
      "INFO:tensorflow:Assets written to: Neural_Net_National/assets\n"
     ]
    }
   ],
   "source": [
    "# model.save('Neural_Net_National')\n"
   ]
  },
  {
   "cell_type": "code",
   "execution_count": null,
   "metadata": {},
   "outputs": [],
   "source": [
    "model_dni.save('Neural_Nets/Neural_Net_National_dni')"
   ]
  },
  {
   "cell_type": "markdown",
   "metadata": {},
   "source": [
    "## V. Model Testing - Other Locations"
   ]
  },
  {
   "cell_type": "markdown",
   "metadata": {},
   "source": [
    "Lets take the global model and test in new locations. Lets test on the following locations for the year 2018.\n"
   ]
  },
  {
   "cell_type": "markdown",
   "metadata": {},
   "source": [
    "1. Outer Banks (35.5585, -75.4665)\n",
    "2. Miami Florida (25.7617, -80.1918)\n",
    "3. Boulder CO (40.035,-105.54)\n",
    "4. San Diego CA (32.7157, -117.1611)\n",
    "5. Lincoln Nebraska (40.848,-96.56)\n",
    "6. Quinault Washington (47.513,-123.81)\n",
    "7. Old Town Maine (44.928,-68.70)\n",
    "8. Murphey Idaho (43.204,-116.75)\n"
   ]
  },
  {
   "cell_type": "code",
   "execution_count": 76,
   "metadata": {},
   "outputs": [],
   "source": [
    "#Test General model"
   ]
  },
  {
   "cell_type": "code",
   "execution_count": 77,
   "metadata": {},
   "outputs": [],
   "source": [
    "National_model = keras.models.load_model('Neural_Nets/Neural_Net_National')"
   ]
  },
  {
   "cell_type": "code",
   "execution_count": null,
   "metadata": {},
   "outputs": [],
   "source": [
    "model_dni = keras.models.load_model('Neural_Nets/Neural_Net_National_dni')"
   ]
  },
  {
   "cell_type": "code",
   "execution_count": 78,
   "metadata": {},
   "outputs": [
    {
     "name": "stdout",
     "output_type": "stream",
     "text": [
      "Model: \"sequential\"\n",
      "_________________________________________________________________\n",
      "Layer (type)                 Output Shape              Param #   \n",
      "=================================================================\n",
      "dense (Dense)                multiple                  2100      \n",
      "_________________________________________________________________\n",
      "dense_1 (Dense)              multiple                  60200     \n",
      "_________________________________________________________________\n",
      "dense_2 (Dense)              multiple                  20100     \n",
      "_________________________________________________________________\n",
      "dense_3 (Dense)              multiple                  5050      \n",
      "_________________________________________________________________\n",
      "dense_4 (Dense)              multiple                  1275      \n",
      "_________________________________________________________________\n",
      "dense_5 (Dense)              multiple                  26        \n",
      "=================================================================\n",
      "Total params: 88,751\n",
      "Trainable params: 88,751\n",
      "Non-trainable params: 0\n",
      "_________________________________________________________________\n"
     ]
    }
   ],
   "source": [
    "National_model.summary()"
   ]
  },
  {
   "cell_type": "code",
   "execution_count": 94,
   "metadata": {},
   "outputs": [
    {
     "name": "stdout",
     "output_type": "stream",
     "text": [
      "/Users/tuomastalvitie/Documents/GRIP/Diffuse:Direct/solarIrradiencePredictor/Testing_Data/Murphey_ID/psm_ID_Murphey2018.csv\n",
      "274/274 [==============================] - 0s 984us/step - loss: 256.5927 - mean_absolute_error: 6.7838 - root_mean_squared_error: 16.0185\n",
      "/Users/tuomastalvitie/Documents/GRIP/Diffuse:Direct/solarIrradiencePredictor/Testing_Data/OldTown_ME/psm_ME_OldTown2018.csv\n",
      "274/274 [==============================] - 0s 932us/step - loss: 229.4214 - mean_absolute_error: 6.8104 - root_mean_squared_error: 15.1467\n",
      "/Users/tuomastalvitie/Documents/GRIP/Diffuse:Direct/solarIrradiencePredictor/Testing_Data/Quinault_WA/psm_WA_Quinault2018.csv\n",
      "274/274 [==============================] - 0s 1ms/step - loss: 104.5538 - mean_absolute_error: 4.2643 - root_mean_squared_error: 10.2252\n",
      "/Users/tuomastalvitie/Documents/GRIP/Diffuse:Direct/solarIrradiencePredictor/Testing_Data/Lincoln_NE/psm_NE_Lincoln2018.csv\n",
      "274/274 [==============================] - 0s 1ms/step - loss: 161.9369 - mean_absolute_error: 5.2631 - root_mean_squared_error: 12.7254\n",
      "/Users/tuomastalvitie/Documents/GRIP/Diffuse:Direct/solarIrradiencePredictor/Testing_Data/SanDiego_CA/psm_CA_SanDiego2018.csv\n",
      "274/274 [==============================] - 0s 1ms/step - loss: 289.1909 - mean_absolute_error: 7.7851 - root_mean_squared_error: 17.0056\n",
      "/Users/tuomastalvitie/Documents/GRIP/Diffuse:Direct/solarIrradiencePredictor/Testing_Data/Boulder_CO/psm_CO_Boulder2018.csv\n",
      "274/274 [==============================] - 0s 998us/step - loss: 1862.3188 - mean_absolute_error: 16.5438 - root_mean_squared_error: 43.1546\n",
      "/Users/tuomastalvitie/Documents/GRIP/Diffuse:Direct/solarIrradiencePredictor/Testing_Data/Miami_FL/psm_FL_Miami2018.csv\n",
      "274/274 [==============================] - 0s 947us/step - loss: 675.2378 - mean_absolute_error: 10.5119 - root_mean_squared_error: 25.9853\n"
     ]
    }
   ],
   "source": [
    "test_files = ['Murphey_ID', 'OldTown_ME', 'Quinault_WA', 'Lincoln_NE', 'SanDiego_CA', 'Boulder_CO', 'Miami_FL', 'outer_banks']\n",
    "scores = {}\n",
    "scores_dni = {}\n",
    "pred_actuals = {}\n",
    "pred_actuals_dni = {}\n",
    "for directory in test_files:\n",
    "    for file in glob(_Testing_Data_Dir+'/'+directory+'/psm_*2018.csv'):\n",
    "        test_df = pd.read_csv(str(file))\n",
    "        input_size = 6\n",
    "        test_input_arry = np.array([], dtype=np.float64).reshape(0,input_size)\n",
    "        test_output_arry = np.array([], dtype=np.float64)\n",
    "        test_dni_arry = np.array([], dtype=np.float64)\n",
    "        test_input_arry, test_output_arry, test_dni_arry = combine_training_arrays(test_df, test_input_arry, test_output_arry, test_dni_arry)\n",
    "        print(file)\n",
    "        score = National_model.evaluate(test_input_arry, test_output_arry, verbose=1)\n",
    "        scores[directory] = score\n",
    "        score_dni = model_dni.evaluate(test_input_arry, test_dni_arry, verbose=1)\n",
    "        scores_dni[directory] = score_dni\n",
    "        preds = National_model.predict(test_input_arry)\n",
    "        pred_actuals[directory] = {'preds':list(preds), 'actuals': list(test_output_arry)}\n",
    "        preds_dni = model_dni.predict(test_input_arry)\n",
    "        pred_actuals_dni[directory] = {'preds':list(preds_dni), 'actuals': list(test_dni_arry)}\n",
    "        \n"
   ]
  },
  {
   "cell_type": "code",
   "execution_count": 95,
   "metadata": {},
   "outputs": [
    {
     "data": {
      "text/plain": [
       "dict_items([('Murphey_ID', [256.5926818847656, 6.783843994140625, 16.018510818481445]), ('OldTown_ME', [229.42138671875, 6.810364246368408, 15.146662712097168]), ('Quinault_WA', [104.5538101196289, 4.2642903327941895, 10.2251558303833]), ('Lincoln_NE', [161.93692016601562, 5.263095855712891, 12.725443840026855]), ('SanDiego_CA', [289.1909484863281, 7.785069942474365, 17.005615234375]), ('Boulder_CO', [1862.31884765625, 16.543825149536133, 43.15459060668945]), ('Miami_FL', [675.23779296875, 10.51191234588623, 25.98533821105957])])"
      ]
     },
     "execution_count": 95,
     "metadata": {},
     "output_type": "execute_result"
    }
   ],
   "source": [
    "scores.items()"
   ]
  },
  {
   "cell_type": "code",
   "execution_count": null,
   "metadata": {},
   "outputs": [],
   "source": [
    "scores_dni.items()"
   ]
  },
  {
   "cell_type": "code",
   "execution_count": null,
   "metadata": {},
   "outputs": [],
   "source": []
  },
  {
   "cell_type": "code",
   "execution_count": 96,
   "metadata": {},
   "outputs": [],
   "source": [
    "#Only Miami and Boulder_CO seem to be outliers"
   ]
  },
  {
   "cell_type": "markdown",
   "metadata": {},
   "source": [
    "## V.I Model Testing, Boulder Specific"
   ]
  },
  {
   "cell_type": "markdown",
   "metadata": {},
   "source": [
    "Lets see if we can train a model specific for Boulder, CO and see if we can get the mae down.\n",
    "Let's fetch more data from NRSDB and combine it with our readings from Darksky. Lets get data from 2008-2018."
   ]
  },
  {
   "cell_type": "code",
   "execution_count": 103,
   "metadata": {},
   "outputs": [
    {
     "name": "stdout",
     "output_type": "stream",
     "text": [
      "[]\n",
      "[]\n",
      "/Users/tuomastalvitie/Documents/GRIP/Diffuse:Direct/solarIrradiencePredictor/Testing_Data/Boulder_CO/psm_CO_Boulder2018.csv\n",
      "/Users/tuomastalvitie/Documents/GRIP/Diffuse:Direct/solarIrradiencePredictor/Testing_Data/Boulder_CO/psm_CO_Boulder2008.csv\n",
      "/Users/tuomastalvitie/Documents/GRIP/Diffuse:Direct/solarIrradiencePredictor/Testing_Data/Boulder_CO/psm_CO_Boulder2009.csv\n",
      "/Users/tuomastalvitie/Documents/GRIP/Diffuse:Direct/solarIrradiencePredictor/Testing_Data/Boulder_CO/psm_CO_Boulder2010.csv\n",
      "/Users/tuomastalvitie/Documents/GRIP/Diffuse:Direct/solarIrradiencePredictor/Testing_Data/Boulder_CO/psm_CO_Boulder2011.csv\n",
      "/Users/tuomastalvitie/Documents/GRIP/Diffuse:Direct/solarIrradiencePredictor/Testing_Data/Boulder_CO/psm_CO_Boulder2013.csv\n",
      "/Users/tuomastalvitie/Documents/GRIP/Diffuse:Direct/solarIrradiencePredictor/Testing_Data/Boulder_CO/psm_CO_Boulder2012.csv\n",
      "/Users/tuomastalvitie/Documents/GRIP/Diffuse:Direct/solarIrradiencePredictor/Testing_Data/Boulder_CO/psm_CO_Boulder2016.csv\n",
      "/Users/tuomastalvitie/Documents/GRIP/Diffuse:Direct/solarIrradiencePredictor/Testing_Data/Boulder_CO/psm_CO_Boulder2017.csv\n",
      "/Users/tuomastalvitie/Documents/GRIP/Diffuse:Direct/solarIrradiencePredictor/Testing_Data/Boulder_CO/psm_CO_Boulder2015.csv\n",
      "/Users/tuomastalvitie/Documents/GRIP/Diffuse:Direct/solarIrradiencePredictor/Testing_Data/Boulder_CO/psm_CO_Boulder2014.csv\n"
     ]
    }
   ],
   "source": [
    "input_size = 6\n",
    "input_arry = np.array([], dtype=np.float64).reshape(0,input_size)\n",
    "output_arry = np.array([], dtype=np.float64)\n",
    "print(input_arry)\n",
    "print(output_arry)\n",
    "from glob import glob\n",
    "for path in glob(_Testing_Data_Dir+'/Boulder_CO'):\n",
    "    for file in glob(path+'/psm_'+'*'):\n",
    "        print(file)\n",
    "        df = pd.read_csv(file)\n",
    "        input_arry, output_arry = combine_training_arrays(df, input_arry, output_arry)"
   ]
  },
  {
   "cell_type": "code",
   "execution_count": 104,
   "metadata": {},
   "outputs": [],
   "source": [
    "keras.backend.clear_session()\n",
    "tf.keras.backend.clear_session()"
   ]
  },
  {
   "cell_type": "code",
   "execution_count": 105,
   "metadata": {},
   "outputs": [
    {
     "data": {
      "text/plain": [
       "<function tensorflow.python.framework.ops.reset_default_graph()>"
      ]
     },
     "execution_count": 105,
     "metadata": {},
     "output_type": "execute_result"
    }
   ],
   "source": [
    "keras.backend.clear_session()\n",
    "tf.keras.backend.clear_session()\n",
    "tf.compat.v1.reset_default_graph"
   ]
  },
  {
   "cell_type": "code",
   "execution_count": 106,
   "metadata": {},
   "outputs": [],
   "source": [
    "model_Boulder = keras.Sequential()\n",
    "model_Boulder.add(keras.layers.Dense(300, activation=\"relu\"))\n",
    "model_Boulder.add(layers.Dense(200, activation=\"relu\"))\n",
    "model_Boulder.add(layers.Dense(100, activation=\"relu\"))\n",
    "model_Boulder.add(layers.Dense(50, activation=\"relu\"))\n",
    "model_Boulder.add(layers.Dense(25, activation=\"relu\"))\n",
    "model_Boulder.add(layers.Dense(1, activation='relu'))"
   ]
  },
  {
   "cell_type": "code",
   "execution_count": 107,
   "metadata": {},
   "outputs": [
    {
     "name": "stdout",
     "output_type": "stream",
     "text": [
      "Epoch 1/100\n",
      "3012/3012 [==============================] - 5s 1ms/step - loss: 3136.6509 - mae: 27.1907 - root_mean_squared_error: 56.0058\n",
      "Epoch 2/100\n",
      "3012/3012 [==============================] - 5s 2ms/step - loss: 669.0169 - mae: 10.9336 - root_mean_squared_error: 25.8654\n",
      "Epoch 3/100\n",
      "3012/3012 [==============================] - 5s 2ms/step - loss: 583.5402 - mae: 9.9415 - root_mean_squared_error: 24.1566\n",
      "Epoch 4/100\n",
      "3012/3012 [==============================] - 6s 2ms/step - loss: 572.9196 - mae: 9.7745 - root_mean_squared_error: 23.9357\n",
      "Epoch 5/100\n",
      "3012/3012 [==============================] - 6s 2ms/step - loss: 565.0255 - mae: 9.5376 - root_mean_squared_error: 23.7703\n",
      "Epoch 6/100\n",
      "3012/3012 [==============================] - 5s 2ms/step - loss: 545.2877 - mae: 9.3087 - root_mean_squared_error: 23.3514: 2s - loss: 516.5451 - mae: 9.0326 - root_mean_sq\n",
      "Epoch 7/100\n",
      "3012/3012 [==============================] - 6s 2ms/step - loss: 524.0295 - mae: 9.0873 - root_mean_squared_error: 22.8917\n",
      "Epoch 8/100\n",
      "3012/3012 [==============================] - 6s 2ms/step - loss: 516.6038 - mae: 9.0893 - root_mean_squared_error: 22.7289\n",
      "Epoch 9/100\n",
      "3012/3012 [==============================] - 7s 2ms/step - loss: 524.2489 - mae: 9.0986 - root_mean_squared_error: 22.8965\n",
      "Epoch 10/100\n",
      "3012/3012 [==============================] - 6s 2ms/step - loss: 512.5381 - mae: 8.9168 - root_mean_squared_error: 22.6393: 0s - loss: 506.6469 - mae: 8.8751 - \n",
      "Epoch 11/100\n",
      "3012/3012 [==============================] - 7s 2ms/step - loss: 492.6263 - mae: 8.7507 - root_mean_squared_error: 22.1952\n",
      "Epoch 12/100\n",
      "3012/3012 [==============================] - 6s 2ms/step - loss: 494.3108 - mae: 8.7720 - root_mean_squared_error: 22.2331: 1s - loss: 492.8882 - mae: 8.7324 - root_mean_squared_error: 22.20 - ETA: 1s - los\n",
      "Epoch 13/100\n",
      "3012/3012 [==============================] - 5s 2ms/step - loss: 512.3876 - mae: 8.9023 - root_mean_squared_error: 22.6360: 1s - loss:\n",
      "Epoch 14/100\n",
      "3012/3012 [==============================] - 5s 2ms/step - loss: 496.9038 - mae: 8.7705 - root_mean_squared_error: 22.2913\n",
      "Epoch 15/100\n",
      "3012/3012 [==============================] - 5s 2ms/step - loss: 494.8581 - mae: 8.7226 - root_mean_squared_error: 22.2454\n",
      "Epoch 16/100\n",
      "3012/3012 [==============================] - 5s 2ms/step - loss: 487.8583 - mae: 8.6009 - root_mean_squared_error: 22.0875: \n",
      "Epoch 17/100\n",
      "3012/3012 [==============================] - 7s 2ms/step - loss: 485.5327 - mae: 8.5918 - root_mean_squared_error: 22.0348\n",
      "Epoch 18/100\n",
      "3012/3012 [==============================] - 5s 2ms/step - loss: 474.7318 - mae: 8.5533 - root_mean_squared_error: 21.7883\n",
      "Epoch 19/100\n",
      "3012/3012 [==============================] - 7s 2ms/step - loss: 493.0307 - mae: 8.6855 - root_mean_squared_error: 22.2043\n",
      "Epoch 20/100\n",
      "3012/3012 [==============================] - 8s 3ms/step - loss: 476.4244 - mae: 8.4376 - root_mean_squared_error: 21.8271\n",
      "Epoch 21/100\n",
      "3012/3012 [==============================] - 5s 2ms/step - loss: 478.3757 - mae: 8.4598 - root_mean_squared_error: 21.8718\n",
      "Epoch 22/100\n",
      "3012/3012 [==============================] - 5s 2ms/step - loss: 476.8438 - mae: 8.4770 - root_mean_squared_error: 21.8368\n",
      "Epoch 23/100\n",
      "3012/3012 [==============================] - 5s 2ms/step - loss: 473.7332 - mae: 8.4708 - root_mean_squared_error: 21.7654: 4s - loss: 468 - ETA: 2s - loss: 489.8315 - mae:\n",
      "Epoch 24/100\n",
      "3012/3012 [==============================] - 5s 2ms/step - loss: 474.6563 - mae: 8.4040 - root_mean_squared_error: 21.7866\n",
      "Epoch 25/100\n",
      "3012/3012 [==============================] - 5s 2ms/step - loss: 469.4034 - mae: 8.4124 - root_mean_squared_error: 21.6657\n",
      "Epoch 26/100\n",
      "3012/3012 [==============================] - 5s 2ms/step - loss: 464.3542 - mae: 8.2993 - root_mean_squared_error: 21.5489: 0s - loss: 468.0563 - mae: 8.3313 - root_mea\n",
      "Epoch 27/100\n",
      "3012/3012 [==============================] - 5s 2ms/step - loss: 462.8958 - mae: 8.2942 - root_mean_squared_error: 21.5150\n",
      "Epoch 28/100\n",
      "3012/3012 [==============================] - 7s 2ms/step - loss: 458.3492 - mae: 8.2575 - root_mean_squared_error: 21.4091\n",
      "Epoch 29/100\n",
      "3012/3012 [==============================] - 6s 2ms/step - loss: 459.2443 - mae: 8.2614 - root_mean_squared_error: 21.4300\n",
      "Epoch 30/100\n",
      "3012/3012 [==============================] - 7s 2ms/step - loss: 456.1564 - mae: 8.1957 - root_mean_squared_error: 21.3578\n",
      "Epoch 31/100\n",
      "3012/3012 [==============================] - 7s 2ms/step - loss: 457.0403 - mae: 8.2456 - root_mean_squared_error: 21.3785\n",
      "Epoch 32/100\n",
      "3012/3012 [==============================] - 6s 2ms/step - loss: 452.7580 - mae: 8.1291 - root_mean_squared_error: 21.2781\n",
      "Epoch 33/100\n",
      "3012/3012 [==============================] - 6s 2ms/step - loss: 455.0916 - mae: 8.1407 - root_mean_squared_error: 21.3329\n",
      "Epoch 34/100\n",
      "3012/3012 [==============================] - 6s 2ms/step - loss: 449.8091 - mae: 8.1115 - root_mean_squared_error: 21.2087\n",
      "Epoch 35/100\n",
      "3012/3012 [==============================] - 5s 2ms/step - loss: 448.6960 - mae: 8.1020 - root_mean_squared_error: 21.1824\n",
      "Epoch 36/100\n",
      "3012/3012 [==============================] - 6s 2ms/step - loss: 448.0442 - mae: 8.1478 - root_mean_squared_error: 21.1671\n",
      "Epoch 37/100\n",
      "3012/3012 [==============================] - 6s 2ms/step - loss: 455.3228 - mae: 8.1246 - root_mean_squared_error: 21.3383\n",
      "Epoch 38/100\n",
      "3012/3012 [==============================] - 5s 2ms/step - loss: 451.6123 - mae: 8.1153 - root_mean_squared_error: 21.2512: 0s - loss: 457.7770 - mae: 8\n",
      "Epoch 39/100\n",
      "3012/3012 [==============================] - 5s 2ms/step - loss: 444.6736 - mae: 7.9765 - root_mean_squared_error: 21.0873\n",
      "Epoch 40/100\n",
      "3012/3012 [==============================] - 8s 3ms/step - loss: 444.1586 - mae: 7.9963 - root_mean_squared_error: 21.0751\n",
      "Epoch 41/100\n",
      "3012/3012 [==============================] - 8s 3ms/step - loss: 443.6709 - mae: 8.0063 - root_mean_squared_error: 21.0635\n",
      "Epoch 42/100\n",
      "3012/3012 [==============================] - 5s 2ms/step - loss: 439.5462 - mae: 7.9723 - root_mean_squared_error: 20.9654\n",
      "Epoch 43/100\n",
      "3012/3012 [==============================] - 5s 2ms/step - loss: 443.2075 - mae: 8.0053 - root_mean_squared_error: 21.0525\n",
      "Epoch 44/100\n",
      "3012/3012 [==============================] - 4s 1ms/step - loss: 438.3240 - mae: 7.9389 - root_mean_squared_error: 20.9362\n",
      "Epoch 45/100\n",
      "3012/3012 [==============================] - 6s 2ms/step - loss: 439.9401 - mae: 7.9866 - root_mean_squared_error: 20.9747\n",
      "Epoch 46/100\n",
      "3012/3012 [==============================] - 10s 3ms/step - loss: 444.4282 - mae: 7.9454 - root_mean_squared_error: 21.0815 1s - loss:\n",
      "Epoch 47/100\n",
      "3012/3012 [==============================] - 7s 2ms/step - loss: 436.3835 - mae: 7.9112 - root_mean_squared_error: 20.8898\n",
      "Epoch 48/100\n",
      "3012/3012 [==============================] - 7s 2ms/step - loss: 442.0975 - mae: 7.9539 - root_mean_squared_error: 21.0261: 0s - loss: 440.5885 - mae: 7.9620 - root_mean_squared_erro\n",
      "Epoch 49/100\n",
      "3012/3012 [==============================] - 7s 2ms/step - loss: 435.4044 - mae: 7.8778 - root_mean_squared_error: 20.8663: 1s\n",
      "Epoch 50/100\n",
      "3012/3012 [==============================] - 7s 2ms/step - loss: 431.5168 - mae: 7.8407 - root_mean_squared_error: 20.7730\n",
      "Epoch 51/100\n",
      "3012/3012 [==============================] - 7s 2ms/step - loss: 433.3185 - mae: 7.8882 - root_mean_squared_error: 20.8163\n",
      "Epoch 52/100\n",
      "3012/3012 [==============================] - 5s 2ms/step - loss: 432.6559 - mae: 7.8289 - root_mean_squared_error: 20.8004\n",
      "Epoch 53/100\n",
      "3012/3012 [==============================] - 5s 2ms/step - loss: 435.3001 - mae: 7.9093 - root_mean_squared_error: 20.8638\n",
      "Epoch 54/100\n",
      "3012/3012 [==============================] - 5s 2ms/step - loss: 435.5841 - mae: 7.8813 - root_mean_squared_error: 20.8707\n",
      "Epoch 55/100\n",
      "3012/3012 [==============================] - 6s 2ms/step - loss: 435.5659 - mae: 7.8412 - root_mean_squared_error: 20.8702\n",
      "Epoch 56/100\n",
      "3012/3012 [==============================] - 5s 2ms/step - loss: 428.5637 - mae: 7.8220 - root_mean_squared_error: 20.7018\n",
      "Epoch 57/100\n",
      "3012/3012 [==============================] - 5s 2ms/step - loss: 434.1787 - mae: 7.8164 - root_mean_squared_error: 20.8370\n",
      "Epoch 58/100\n",
      "3012/3012 [==============================] - 4s 1ms/step - loss: 433.6161 - mae: 7.8048 - root_mean_squared_error: 20.8235\n",
      "Epoch 59/100\n",
      "3012/3012 [==============================] - 4s 1ms/step - loss: 428.7990 - mae: 7.8011 - root_mean_squared_error: 20.7075\n",
      "Epoch 60/100\n",
      "3012/3012 [==============================] - 5s 2ms/step - loss: 429.4618 - mae: 7.7510 - root_mean_squared_error: 20.7235\n",
      "Epoch 61/100\n",
      "3012/3012 [==============================] - 6s 2ms/step - loss: 425.3711 - mae: 7.7080 - root_mean_squared_error: 20.6245: 0s - loss: 425.4912 - mae: 7\n",
      "Epoch 62/100\n",
      "3012/3012 [==============================] - 5s 2ms/step - loss: 427.7862 - mae: 7.7421 - root_mean_squared_error: 20.6830\n",
      "Epoch 63/100\n",
      "3012/3012 [==============================] - 4s 1ms/step - loss: 419.5352 - mae: 7.6860 - root_mean_squared_error: 20.4826: 1s - loss: 421.0826 - mae: 7.6814 - root_mea - ETA: 0s - loss: 419.1958 - mae: 7.6799 - root_mean_\n",
      "Epoch 64/100\n",
      "3012/3012 [==============================] - 5s 2ms/step - loss: 420.7856 - mae: 7.6758 - root_mean_squared_error: 20.5131\n",
      "Epoch 65/100\n",
      "3012/3012 [==============================] - 5s 2ms/step - loss: 420.8124 - mae: 7.6575 - root_mean_squared_error: 20.5137\n",
      "Epoch 66/100\n",
      "3012/3012 [==============================] - 4s 1ms/step - loss: 426.4190 - mae: 7.7097 - root_mean_squared_error: 20.6499: 1s - loss: 424.1364 - mae:\n",
      "Epoch 67/100\n",
      "3012/3012 [==============================] - 4s 1ms/step - loss: 418.0478 - mae: 7.6694 - root_mean_squared_error: 20.4462\n",
      "Epoch 68/100\n",
      "3012/3012 [==============================] - 5s 2ms/step - loss: 420.3964 - mae: 7.6978 - root_mean_squared_error: 20.5036\n",
      "Epoch 69/100\n",
      "3012/3012 [==============================] - 6s 2ms/step - loss: 418.7297 - mae: 7.6378 - root_mean_squared_error: 20.4629\n",
      "Epoch 70/100\n",
      "3012/3012 [==============================] - 5s 2ms/step - loss: 418.7142 - mae: 7.6329 - root_mean_squared_error: 20.4625\n",
      "Epoch 71/100\n",
      "3012/3012 [==============================] - 4s 1ms/step - loss: 407.5191 - mae: 7.4549 - root_mean_squared_error: 20.1871: 0s - loss: 409.2074 - mae: 7.4705 - root_mean_squared_\n",
      "Epoch 72/100\n",
      "3012/3012 [==============================] - 4s 1ms/step - loss: 405.1358 - mae: 7.5055 - root_mean_squared_error: 20.1280\n",
      "Epoch 73/100\n",
      "3012/3012 [==============================] - 4s 1ms/step - loss: 407.2210 - mae: 7.5052 - root_mean_squared_error: 20.1797\n",
      "Epoch 74/100\n",
      "3012/3012 [==============================] - 4s 1ms/step - loss: 400.5823 - mae: 7.3957 - root_mean_squared_error: 20.0146\n",
      "Epoch 75/100\n",
      "3012/3012 [==============================] - 4s 1ms/step - loss: 399.7678 - mae: 7.3596 - root_mean_squared_error: 19.9942\n",
      "Epoch 76/100\n",
      "3012/3012 [==============================] - 5s 2ms/step - loss: 398.6359 - mae: 7.3066 - root_mean_squared_error: 19.9659\n",
      "Epoch 77/100\n",
      "3012/3012 [==============================] - 5s 2ms/step - loss: 394.1367 - mae: 7.2512 - root_mean_squared_error: 19.8529: 1s - l\n",
      "Epoch 78/100\n",
      "3012/3012 [==============================] - 5s 2ms/step - loss: 393.7986 - mae: 7.2313 - root_mean_squared_error: 19.8444: 1s - loss: 4\n",
      "Epoch 79/100\n",
      "3012/3012 [==============================] - 5s 2ms/step - loss: 390.5683 - mae: 7.2321 - root_mean_squared_error: 19.7628\n",
      "Epoch 80/100\n",
      "3012/3012 [==============================] - 5s 2ms/step - loss: 390.6879 - mae: 7.1833 - root_mean_squared_error: 19.7658\n",
      "Epoch 81/100\n",
      "3012/3012 [==============================] - 4s 1ms/step - loss: 389.2727 - mae: 7.1799 - root_mean_squared_error: 19.7300\n",
      "Epoch 82/100\n",
      "3012/3012 [==============================] - 4s 1ms/step - loss: 386.9371 - mae: 7.1489 - root_mean_squared_error: 19.6707\n",
      "Epoch 83/100\n",
      "3012/3012 [==============================] - 5s 2ms/step - loss: 386.4530 - mae: 7.1966 - root_mean_squared_error: 19.6584\n",
      "Epoch 84/100\n",
      "3012/3012 [==============================] - 5s 2ms/step - loss: 385.0334 - mae: 7.1100 - root_mean_squared_error: 19.6223\n",
      "Epoch 85/100\n",
      "3012/3012 [==============================] - 6s 2ms/step - loss: 384.3309 - mae: 7.1422 - root_mean_squared_error: 19.6044\n",
      "Epoch 86/100\n",
      "3012/3012 [==============================] - 5s 2ms/step - loss: 377.7376 - mae: 7.0068 - root_mean_squared_error: 19.4355: 0s - loss: 376.0996 - mae: 6.9479 - root_mean_\n",
      "Epoch 87/100\n",
      "3012/3012 [==============================] - 5s 2ms/step - loss: 381.1904 - mae: 7.0501 - root_mean_squared_error: 19.5241\n",
      "Epoch 88/100\n",
      "3012/3012 [==============================] - 5s 2ms/step - loss: 380.1472 - mae: 7.0325 - root_mean_squared_error: 19.4974\n",
      "Epoch 89/100\n",
      "3012/3012 [==============================] - 5s 2ms/step - loss: 379.6038 - mae: 7.0006 - root_mean_squared_error: 19.4834\n",
      "Epoch 90/100\n",
      "3012/3012 [==============================] - 6s 2ms/step - loss: 380.7220 - mae: 7.0699 - root_mean_squared_error: 19.5121: 2s - los - ETA: 1s - loss: 384.2755 - mae: 7.105\n",
      "Epoch 91/100\n",
      "3012/3012 [==============================] - 5s 2ms/step - loss: 381.2592 - mae: 7.0650 - root_mean_squared_error: 19.5259\n",
      "Epoch 92/100\n",
      "3012/3012 [==============================] - 4s 1ms/step - loss: 383.7803 - mae: 7.0379 - root_mean_squared_error: 19.5903\n",
      "Epoch 93/100\n",
      "3012/3012 [==============================] - 5s 2ms/step - loss: 378.8813 - mae: 6.9901 - root_mean_squared_error: 19.4649: 0s - loss: 379.1909 - mae: 7.0070 \n",
      "Epoch 94/100\n",
      "3012/3012 [==============================] - 6s 2ms/step - loss: 380.6503 - mae: 7.0289 - root_mean_squared_error: 19.5103: 2s - loss: 387.4841 - \n",
      "Epoch 95/100\n",
      "3012/3012 [==============================] - 7s 2ms/step - loss: 372.7206 - mae: 6.8934 - root_mean_squared_error: 19.3060\n",
      "Epoch 96/100\n",
      "3012/3012 [==============================] - 7s 2ms/step - loss: 374.2655 - mae: 6.9971 - root_mean_squared_error: 19.3459\n",
      "Epoch 97/100\n",
      "3012/3012 [==============================] - 7s 2ms/step - loss: 370.6898 - mae: 6.9395 - root_mean_squared_error: 19.2533: 0s - loss: 371.0768 - mae: 6.940\n",
      "Epoch 98/100\n",
      "3012/3012 [==============================] - 6s 2ms/step - loss: 373.6794 - mae: 6.9509 - root_mean_squared_error: 19.3308: 1s - loss: 367\n",
      "Epoch 99/100\n",
      "3012/3012 [==============================] - 6s 2ms/step - loss: 371.5406 - mae: 6.9311 - root_mean_squared_error: 19.2754\n",
      "Epoch 100/100\n",
      "3012/3012 [==============================] - 6s 2ms/step - loss: 371.0230 - mae: 6.9127 - root_mean_squared_error: 19.2620\n"
     ]
    }
   ],
   "source": [
    "#Compile and train\n",
    "model_Boulder.compile(optimizer=Adam(lr=0.0001), \n",
    "              loss='mse',\n",
    "              metrics=['mae',keras.metrics.RootMeanSquaredError()])\n",
    "\n",
    "history_Boulder = model_Boulder.fit(input_arry, output_arry, epochs=100, batch_size=32)"
   ]
  },
  {
   "cell_type": "code",
   "execution_count": 70,
   "metadata": {},
   "outputs": [],
   "source": [
    "#MAE falls to around 6.99"
   ]
  },
  {
   "cell_type": "code",
   "execution_count": 115,
   "metadata": {},
   "outputs": [
    {
     "data": {
      "image/png": "[encoded data removed]",
      "text/plain": [
       "<Figure size 432x288 with 1 Axes>"
      ]
     },
     "metadata": {},
     "output_type": "display_data"
    }
   ],
   "source": [
    "plt.plot(history_Boulder.history['mae'])\n",
    "plt.plot(history_Boulder.history['root_mean_squared_error'])\n",
    "plt.title('mae and rmse per epoch')\n",
    "plt.ylabel('Error')\n",
    "plt.xlabel('Epoch')\n",
    "plt.legend(['mae', 'rmse'], loc='upper left')\n",
    "plt.show()"
   ]
  },
  {
   "cell_type": "markdown",
   "metadata": {},
   "source": [
    "## V.II Model Testing,  Boulder Specific Model on Boulder 2018 data"
   ]
  },
  {
   "cell_type": "markdown",
   "metadata": {},
   "source": [
    "Test on 2018 data only"
   ]
  },
  {
   "cell_type": "code",
   "execution_count": 116,
   "metadata": {},
   "outputs": [
    {
     "data": {
      "text/html": [
       "<div>\n",
       "<style scoped>\n",
       "    .dataframe tbody tr th:only-of-type {\n",
       "        vertical-align: middle;\n",
       "    }\n",
       "\n",
       "    .dataframe tbody tr th {\n",
       "        vertical-align: top;\n",
       "    }\n",
       "\n",
       "    .dataframe thead th {\n",
       "        text-align: right;\n",
       "    }\n",
       "</style>\n",
       "<table border=\"1\" class=\"dataframe\">\n",
       "  <thead>\n",
       "    <tr style=\"text-align: right;\">\n",
       "      <th></th>\n",
       "      <th>Year</th>\n",
       "      <th>Month</th>\n",
       "      <th>Day</th>\n",
       "      <th>Hour</th>\n",
       "      <th>Minute</th>\n",
       "      <th>Temperature</th>\n",
       "      <th>Clearsky DHI</th>\n",
       "      <th>Clearsky DNI</th>\n",
       "      <th>Clearsky GHI</th>\n",
       "      <th>Cloud Type</th>\n",
       "      <th>...</th>\n",
       "      <th>Solar Zenith Angle</th>\n",
       "      <th>Surface Albedo</th>\n",
       "      <th>Pressure</th>\n",
       "      <th>Precipitable Water</th>\n",
       "      <th>Wind Direction</th>\n",
       "      <th>Wind Speed</th>\n",
       "      <th>Global Horizontal UV Irradiance (280-400nm)</th>\n",
       "      <th>Global Horizontal UV Irradiance (285-385nm)</th>\n",
       "      <th>timestamps</th>\n",
       "      <th>Cloud Cover</th>\n",
       "    </tr>\n",
       "  </thead>\n",
       "  <tbody>\n",
       "    <tr>\n",
       "      <th>0</th>\n",
       "      <td>2018</td>\n",
       "      <td>1</td>\n",
       "      <td>1</td>\n",
       "      <td>0</td>\n",
       "      <td>30</td>\n",
       "      <td>-14.3</td>\n",
       "      <td>0</td>\n",
       "      <td>0</td>\n",
       "      <td>0</td>\n",
       "      <td>0</td>\n",
       "      <td>...</td>\n",
       "      <td>98.21</td>\n",
       "      <td>0.67</td>\n",
       "      <td>711</td>\n",
       "      <td>0.2</td>\n",
       "      <td>261</td>\n",
       "      <td>0.9</td>\n",
       "      <td>NaN</td>\n",
       "      <td>NaN</td>\n",
       "      <td>1514782800</td>\n",
       "      <td>0.00</td>\n",
       "    </tr>\n",
       "    <tr>\n",
       "      <th>1</th>\n",
       "      <td>2018</td>\n",
       "      <td>1</td>\n",
       "      <td>1</td>\n",
       "      <td>1</td>\n",
       "      <td>30</td>\n",
       "      <td>-15.6</td>\n",
       "      <td>0</td>\n",
       "      <td>0</td>\n",
       "      <td>0</td>\n",
       "      <td>0</td>\n",
       "      <td>...</td>\n",
       "      <td>109.06</td>\n",
       "      <td>0.67</td>\n",
       "      <td>711</td>\n",
       "      <td>0.2</td>\n",
       "      <td>254</td>\n",
       "      <td>1.2</td>\n",
       "      <td>NaN</td>\n",
       "      <td>NaN</td>\n",
       "      <td>1514786400</td>\n",
       "      <td>0.00</td>\n",
       "    </tr>\n",
       "    <tr>\n",
       "      <th>2</th>\n",
       "      <td>2018</td>\n",
       "      <td>1</td>\n",
       "      <td>1</td>\n",
       "      <td>2</td>\n",
       "      <td>30</td>\n",
       "      <td>-16.3</td>\n",
       "      <td>0</td>\n",
       "      <td>0</td>\n",
       "      <td>0</td>\n",
       "      <td>0</td>\n",
       "      <td>...</td>\n",
       "      <td>120.35</td>\n",
       "      <td>0.67</td>\n",
       "      <td>711</td>\n",
       "      <td>0.1</td>\n",
       "      <td>252</td>\n",
       "      <td>1.1</td>\n",
       "      <td>NaN</td>\n",
       "      <td>NaN</td>\n",
       "      <td>1514790000</td>\n",
       "      <td>0.64</td>\n",
       "    </tr>\n",
       "    <tr>\n",
       "      <th>3</th>\n",
       "      <td>2018</td>\n",
       "      <td>1</td>\n",
       "      <td>1</td>\n",
       "      <td>3</td>\n",
       "      <td>30</td>\n",
       "      <td>-16.7</td>\n",
       "      <td>0</td>\n",
       "      <td>0</td>\n",
       "      <td>0</td>\n",
       "      <td>0</td>\n",
       "      <td>...</td>\n",
       "      <td>131.81</td>\n",
       "      <td>0.67</td>\n",
       "      <td>711</td>\n",
       "      <td>0.1</td>\n",
       "      <td>256</td>\n",
       "      <td>1.0</td>\n",
       "      <td>NaN</td>\n",
       "      <td>NaN</td>\n",
       "      <td>1514793600</td>\n",
       "      <td>0.64</td>\n",
       "    </tr>\n",
       "    <tr>\n",
       "      <th>4</th>\n",
       "      <td>2018</td>\n",
       "      <td>1</td>\n",
       "      <td>1</td>\n",
       "      <td>4</td>\n",
       "      <td>30</td>\n",
       "      <td>-17.0</td>\n",
       "      <td>0</td>\n",
       "      <td>0</td>\n",
       "      <td>0</td>\n",
       "      <td>0</td>\n",
       "      <td>...</td>\n",
       "      <td>143.11</td>\n",
       "      <td>0.67</td>\n",
       "      <td>711</td>\n",
       "      <td>0.1</td>\n",
       "      <td>261</td>\n",
       "      <td>1.0</td>\n",
       "      <td>NaN</td>\n",
       "      <td>NaN</td>\n",
       "      <td>1514797200</td>\n",
       "      <td>0.64</td>\n",
       "    </tr>\n",
       "  </tbody>\n",
       "</table>\n",
       "<p>5 rows × 26 columns</p>\n",
       "</div>"
      ],
      "text/plain": [
       "   Year  Month  Day  Hour  Minute  Temperature  Clearsky DHI  Clearsky DNI  \\\n",
       "0  2018      1    1     0      30        -14.3             0             0   \n",
       "1  2018      1    1     1      30        -15.6             0             0   \n",
       "2  2018      1    1     2      30        -16.3             0             0   \n",
       "3  2018      1    1     3      30        -16.7             0             0   \n",
       "4  2018      1    1     4      30        -17.0             0             0   \n",
       "\n",
       "   Clearsky GHI  Cloud Type  ...  Solar Zenith Angle  Surface Albedo  \\\n",
       "0             0           0  ...               98.21            0.67   \n",
       "1             0           0  ...              109.06            0.67   \n",
       "2             0           0  ...              120.35            0.67   \n",
       "3             0           0  ...              131.81            0.67   \n",
       "4             0           0  ...              143.11            0.67   \n",
       "\n",
       "   Pressure  Precipitable Water  Wind Direction  Wind Speed  \\\n",
       "0       711                 0.2             261         0.9   \n",
       "1       711                 0.2             254         1.2   \n",
       "2       711                 0.1             252         1.1   \n",
       "3       711                 0.1             256         1.0   \n",
       "4       711                 0.1             261         1.0   \n",
       "\n",
       "   Global Horizontal UV Irradiance (280-400nm)  \\\n",
       "0                                          NaN   \n",
       "1                                          NaN   \n",
       "2                                          NaN   \n",
       "3                                          NaN   \n",
       "4                                          NaN   \n",
       "\n",
       "   Global Horizontal UV Irradiance (285-385nm)  timestamps  Cloud Cover  \n",
       "0                                          NaN  1514782800         0.00  \n",
       "1                                          NaN  1514786400         0.00  \n",
       "2                                          NaN  1514790000         0.64  \n",
       "3                                          NaN  1514793600         0.64  \n",
       "4                                          NaN  1514797200         0.64  \n",
       "\n",
       "[5 rows x 26 columns]"
      ]
     },
     "execution_count": 116,
     "metadata": {},
     "output_type": "execute_result"
    }
   ],
   "source": [
    "test_df = pd.read_csv(os.path.join(_Testing_Data_Dir, 'Boulder_CO', 'psm_CO_Boulder2018.csv'))\n",
    "test_df.head()"
   ]
  },
  {
   "cell_type": "code",
   "execution_count": 117,
   "metadata": {},
   "outputs": [],
   "source": [
    "input_size = 6\n",
    "test_input_arry = np.array([], dtype=np.float64).reshape(0,input_size)\n",
    "test_output_arry = np.array([], dtype=np.float64)\n",
    "test_input_arry, test_output_arry = combine_training_arrays(test_df, test_input_arry, test_output_arry)"
   ]
  },
  {
   "cell_type": "code",
   "execution_count": 118,
   "metadata": {},
   "outputs": [
    {
     "name": "stdout",
     "output_type": "stream",
     "text": [
      "274/274 [==============================] - 0s 956us/step - loss: 978.8859 - mae: 12.8149 - root_mean_squared_error: 31.2872\n"
     ]
    }
   ],
   "source": [
    "score = model_Boulder.evaluate(test_input_arry, test_output_arry, verbose=1)"
   ]
  },
  {
   "cell_type": "code",
   "execution_count": 119,
   "metadata": {},
   "outputs": [],
   "source": [
    "#12.8149 is better than 15"
   ]
  },
  {
   "cell_type": "markdown",
   "metadata": {},
   "source": [
    "## V.III Model Testing Miami Specific\n",
    "Lets train on NRSDB + Darksky data from 08-18"
   ]
  },
  {
   "cell_type": "code",
   "execution_count": 120,
   "metadata": {},
   "outputs": [
    {
     "name": "stdout",
     "output_type": "stream",
     "text": [
      "[]\n",
      "[]\n",
      "/Users/tuomastalvitie/Documents/GRIP/Diffuse:Direct/solarIrradiencePredictor/Testing_Data/Miami_FL/psm_FL_Miami2009.csv\n",
      "/Users/tuomastalvitie/Documents/GRIP/Diffuse:Direct/solarIrradiencePredictor/Testing_Data/Miami_FL/psm_FL_Miami2008.csv\n",
      "/Users/tuomastalvitie/Documents/GRIP/Diffuse:Direct/solarIrradiencePredictor/Testing_Data/Miami_FL/psm_FL_Miami2018.csv\n",
      "/Users/tuomastalvitie/Documents/GRIP/Diffuse:Direct/solarIrradiencePredictor/Testing_Data/Miami_FL/psm_FL_Miami2017.csv\n",
      "/Users/tuomastalvitie/Documents/GRIP/Diffuse:Direct/solarIrradiencePredictor/Testing_Data/Miami_FL/psm_FL_Miami2016.csv\n",
      "/Users/tuomastalvitie/Documents/GRIP/Diffuse:Direct/solarIrradiencePredictor/Testing_Data/Miami_FL/psm_FL_Miami2014.csv\n",
      "/Users/tuomastalvitie/Documents/GRIP/Diffuse:Direct/solarIrradiencePredictor/Testing_Data/Miami_FL/psm_FL_Miami2015.csv\n",
      "/Users/tuomastalvitie/Documents/GRIP/Diffuse:Direct/solarIrradiencePredictor/Testing_Data/Miami_FL/psm_FL_Miami2011.csv\n",
      "/Users/tuomastalvitie/Documents/GRIP/Diffuse:Direct/solarIrradiencePredictor/Testing_Data/Miami_FL/psm_FL_Miami2010.csv\n",
      "/Users/tuomastalvitie/Documents/GRIP/Diffuse:Direct/solarIrradiencePredictor/Testing_Data/Miami_FL/psm_FL_Miami2012.csv\n",
      "/Users/tuomastalvitie/Documents/GRIP/Diffuse:Direct/solarIrradiencePredictor/Testing_Data/Miami_FL/psm_FL_Miami2013.csv\n"
     ]
    }
   ],
   "source": [
    "input_size = 6\n",
    "input_arry = np.array([], dtype=np.float64).reshape(0,input_size)\n",
    "output_arry = np.array([], dtype=np.float64)\n",
    "print(input_arry)\n",
    "print(output_arry)\n",
    "from glob import glob\n",
    "for path in glob(_Testing_Data_Dir+'/Miami_FL'):\n",
    "    for file in glob(path+'/psm_'+'*'):\n",
    "        print(file)\n",
    "        df = pd.read_csv(file)\n",
    "        input_arry, output_arry = combine_training_arrays(df, input_arry, output_arry)"
   ]
  },
  {
   "cell_type": "code",
   "execution_count": 122,
   "metadata": {},
   "outputs": [
    {
     "data": {
      "text/plain": [
       "<function tensorflow.python.framework.ops.reset_default_graph()>"
      ]
     },
     "execution_count": 122,
     "metadata": {},
     "output_type": "execute_result"
    }
   ],
   "source": [
    "keras.backend.clear_session()\n",
    "tf.keras.backend.clear_session()\n",
    "tf.compat.v1.reset_default_graph"
   ]
  },
  {
   "cell_type": "code",
   "execution_count": 123,
   "metadata": {},
   "outputs": [],
   "source": [
    "model_Miami = keras.Sequential()\n",
    "model_Miami.add(keras.layers.Dense(300, activation=\"relu\"))\n",
    "model_Miami.add(layers.Dense(200, activation=\"relu\"))\n",
    "model_Miami.add(layers.Dense(100, activation=\"relu\"))\n",
    "model_Miami.add(layers.Dense(50, activation=\"relu\"))\n",
    "model_Miami.add(layers.Dense(25, activation=\"relu\"))\n",
    "model_Miami.add(layers.Dense(1, activation='relu'))"
   ]
  },
  {
   "cell_type": "code",
   "execution_count": 124,
   "metadata": {},
   "outputs": [
    {
     "name": "stdout",
     "output_type": "stream",
     "text": [
      "Epoch 1/100\n",
      "1506/1506 [==============================] - 3s 2ms/step - loss: 2633.1914 - mae: 26.4663 - root_mean_squared_error: 51.3146\n",
      "Epoch 2/100\n",
      "1506/1506 [==============================] - 3s 2ms/step - loss: 296.6196 - mae: 8.2286 - root_mean_squared_error: 17.2226\n",
      "Epoch 3/100\n",
      "1506/1506 [==============================] - 3s 2ms/step - loss: 242.9046 - mae: 7.1133 - root_mean_squared_error: 15.5854\n",
      "Epoch 4/100\n",
      "1506/1506 [==============================] - 3s 2ms/step - loss: 223.9117 - mae: 6.7212 - root_mean_squared_error: 14.9637: 0s - loss: 221.0543 - mae: 6.6691 - root_mean_squared_error: 1\n",
      "Epoch 5/100\n",
      "1506/1506 [==============================] - 3s 2ms/step - loss: 214.0983 - mae: 6.5390 - root_mean_squared_error: 14.6321\n",
      "Epoch 6/100\n",
      "1506/1506 [==============================] - 3s 2ms/step - loss: 208.1112 - mae: 6.3846 - root_mean_squared_error: 14.4261\n",
      "Epoch 7/100\n",
      "1506/1506 [==============================] - 3s 2ms/step - loss: 205.5375 - mae: 6.3092 - root_mean_squared_error: 14.3366\n",
      "Epoch 8/100\n",
      "1506/1506 [==============================] - 3s 2ms/step - loss: 200.0863 - mae: 6.1708 - root_mean_squared_error: 14.1452\n",
      "Epoch 9/100\n",
      "1506/1506 [==============================] - 3s 2ms/step - loss: 203.2010 - mae: 6.2142 - root_mean_squared_error: 14.2549: 0s - loss: 204.2701 - mae: 6.2317 - root_mean_squared_erro\n",
      "Epoch 10/100\n",
      "1506/1506 [==============================] - 3s 2ms/step - loss: 193.9835 - mae: 6.0385 - root_mean_squared_error: 13.9278\n",
      "Epoch 11/100\n",
      "1506/1506 [==============================] - 3s 2ms/step - loss: 194.3957 - mae: 6.0348 - root_mean_squared_error: 13.9426\n",
      "Epoch 12/100\n",
      "1506/1506 [==============================] - 3s 2ms/step - loss: 192.6377 - mae: 5.9820 - root_mean_squared_error: 13.8794\n",
      "Epoch 13/100\n",
      "1506/1506 [==============================] - 4s 2ms/step - loss: 202.9877 - mae: 6.1727 - root_mean_squared_error: 14.2474: 2s - loss: 2\n",
      "Epoch 14/100\n",
      "1506/1506 [==============================] - 3s 2ms/step - loss: 192.4914 - mae: 5.9814 - root_mean_squared_error: 13.8741\n",
      "Epoch 15/100\n",
      "1506/1506 [==============================] - 3s 2ms/step - loss: 190.6890 - mae: 5.8997 - root_mean_squared_error: 13.8090: 2s - loss: 183.5210 - mae: 5.6966 - root_mea\n",
      "Epoch 16/100\n",
      "1506/1506 [==============================] - 3s 2ms/step - loss: 191.7949 - mae: 5.9418 - root_mean_squared_error: 13.8490\n",
      "Epoch 17/100\n",
      "1506/1506 [==============================] - 3s 2ms/step - loss: 194.0050 - mae: 6.0089 - root_mean_squared_error: 13.9286: 1s - loss: 1\n",
      "Epoch 18/100\n",
      "1506/1506 [==============================] - 3s 2ms/step - loss: 189.9124 - mae: 5.8930 - root_mean_squared_error: 13.7809\n",
      "Epoch 19/100\n",
      "1506/1506 [==============================] - 3s 2ms/step - loss: 190.1159 - mae: 5.8793 - root_mean_squared_error: 13.7883: 1s - l\n",
      "Epoch 20/100\n",
      "1506/1506 [==============================] - 3s 2ms/step - loss: 194.2146 - mae: 5.9737 - root_mean_squared_error: 13.9361: 1s - loss: 198.3057 - mae: 6.0728 - root_mean_squared_ - ETA: 0s - loss: 196.1225 - mae: 6\n",
      "Epoch 21/100\n",
      "1506/1506 [==============================] - 3s 2ms/step - loss: 187.6270 - mae: 5.8716 - root_mean_squared_error: 13.6977\n",
      "Epoch 22/100\n",
      "1506/1506 [==============================] - 4s 3ms/step - loss: 190.0714 - mae: 5.9136 - root_mean_squared_error: 13.7866\n",
      "Epoch 23/100\n",
      "1506/1506 [==============================] - 3s 2ms/step - loss: 189.1253 - mae: 5.8669 - root_mean_squared_error: 13.7523\n",
      "Epoch 24/100\n",
      "1506/1506 [==============================] - 3s 2ms/step - loss: 185.8530 - mae: 5.8090 - root_mean_squared_error: 13.6328: 0s - loss: 182.7842 - mae: 5.7548 - root_mean_squa\n",
      "Epoch 25/100\n",
      "1506/1506 [==============================] - 3s 2ms/step - loss: 188.1480 - mae: 5.9200 - root_mean_squared_error: 13.7167: 0s - loss: 187.9987 - mae: 5.8778 - root_mean_squa\n",
      "Epoch 26/100\n",
      "1506/1506 [==============================] - 3s 2ms/step - loss: 188.0369 - mae: 5.8510 - root_mean_squared_error: 13.7127: 0s - loss: 186.5719 - mae: 5.8564 - root\n",
      "Epoch 27/100\n",
      "1506/1506 [==============================] - 3s 2ms/step - loss: 185.3519 - mae: 5.7996 - root_mean_squared_error: 13.6144\n",
      "Epoch 28/100\n",
      "1506/1506 [==============================] - 3s 2ms/step - loss: 188.3575 - mae: 5.8612 - root_mean_squared_error: 13.7243\n",
      "Epoch 29/100\n",
      "1506/1506 [==============================] - 3s 2ms/step - loss: 186.1870 - mae: 5.8214 - root_mean_squared_error: 13.6450\n",
      "Epoch 30/100\n",
      "1506/1506 [==============================] - 3s 2ms/step - loss: 183.7513 - mae: 5.7790 - root_mean_squared_error: 13.5555: 0s - loss: 185.1480 - mae: 5.8007 - root_mean_\n",
      "Epoch 31/100\n",
      "1506/1506 [==============================] - 3s 2ms/step - loss: 183.8016 - mae: 5.7791 - root_mean_squared_error: 13.5573\n",
      "Epoch 32/100\n",
      "1506/1506 [==============================] - 3s 2ms/step - loss: 187.1422 - mae: 5.8267 - root_mean_squared_error: 13.6800\n",
      "Epoch 33/100\n",
      "1506/1506 [==============================] - 3s 2ms/step - loss: 182.6832 - mae: 5.7385 - root_mean_squared_error: 13.5160\n",
      "Epoch 34/100\n",
      "1506/1506 [==============================] - 3s 2ms/step - loss: 187.5053 - mae: 5.8625 - root_mean_squared_error: 13.6933\n",
      "Epoch 35/100\n",
      "1506/1506 [==============================] - 3s 2ms/step - loss: 186.2347 - mae: 5.8210 - root_mean_squared_error: 13.6468\n",
      "Epoch 36/100\n",
      "1506/1506 [==============================] - 3s 2ms/step - loss: 184.1919 - mae: 5.7408 - root_mean_squared_error: 13.5717\n",
      "Epoch 37/100\n",
      "1506/1506 [==============================] - 3s 2ms/step - loss: 182.7231 - mae: 5.7239 - root_mean_squared_error: 13.5175\n",
      "Epoch 38/100\n",
      "1506/1506 [==============================] - 4s 2ms/step - loss: 185.5048 - mae: 5.7876 - root_mean_squared_error: 13.6200\n",
      "Epoch 39/100\n",
      "1506/1506 [==============================] - 4s 2ms/step - loss: 181.1442 - mae: 5.7045 - root_mean_squared_error: 13.4590\n",
      "Epoch 40/100\n",
      "1506/1506 [==============================] - 3s 2ms/step - loss: 184.3968 - mae: 5.7640 - root_mean_squared_error: 13.5793\n",
      "Epoch 41/100\n",
      "1506/1506 [==============================] - 3s 2ms/step - loss: 186.1589 - mae: 5.7940 - root_mean_squared_error: 13.6440: 0s - loss: 185.0023 - mae: 5.7512 - root_mean_sq\n",
      "Epoch 42/100\n",
      "1506/1506 [==============================] - 3s 2ms/step - loss: 181.3674 - mae: 5.7115 - root_mean_squared_error: 13.4673: 1s - loss: 173.7661 - mae: 5.5 - ETA: 0s - loss: 181.0788 - mae: 5.6931 - root_mean_sq\n",
      "Epoch 43/100\n",
      "1506/1506 [==============================] - 3s 2ms/step - loss: 187.6123 - mae: 5.8369 - root_mean_squared_error: 13.6972\n",
      "Epoch 44/100\n",
      "1506/1506 [==============================] - 3s 2ms/step - loss: 180.0558 - mae: 5.6486 - root_mean_squared_error: 13.4185\n",
      "Epoch 45/100\n",
      "1506/1506 [==============================] - 3s 2ms/step - loss: 180.1421 - mae: 5.6424 - root_mean_squared_error: 13.4217\n",
      "Epoch 46/100\n",
      "1506/1506 [==============================] - 3s 2ms/step - loss: 183.6418 - mae: 5.7437 - root_mean_squared_error: 13.5514: 1s - loss: 183.1800 - ma\n",
      "Epoch 47/100\n",
      "1506/1506 [==============================] - 3s 2ms/step - loss: 181.6501 - mae: 5.7269 - root_mean_squared_error: 13.4778: 0s - loss: 180.5589 - mae: 5.7146 - root_mean_squared_error: - ETA: 0s - loss: 181.3714 - mae: 5.7345 - root_mean_squared_erro\n",
      "Epoch 48/100\n",
      "1506/1506 [==============================] - 3s 2ms/step - loss: 179.8756 - mae: 5.6572 - root_mean_squared_error: 13.4118\n",
      "Epoch 49/100\n",
      "1506/1506 [==============================] - 3s 2ms/step - loss: 178.7189 - mae: 5.6161 - root_mean_squared_error: 13.3686\n",
      "Epoch 50/100\n",
      "1506/1506 [==============================] - 3s 2ms/step - loss: 178.3975 - mae: 5.6408 - root_mean_squared_error: 13.3566\n",
      "Epoch 51/100\n",
      "1506/1506 [==============================] - 3s 2ms/step - loss: 180.5004 - mae: 5.6785 - root_mean_squared_error: 13.4350\n",
      "Epoch 52/100\n",
      "1506/1506 [==============================] - 3s 2ms/step - loss: 177.5364 - mae: 5.5973 - root_mean_squared_error: 13.3243\n",
      "Epoch 53/100\n",
      "1506/1506 [==============================] - 3s 2ms/step - loss: 180.1243 - mae: 5.6428 - root_mean_squared_error: 13.4210\n",
      "Epoch 54/100\n",
      "1506/1506 [==============================] - 3s 2ms/step - loss: 179.7390 - mae: 5.6343 - root_mean_squared_error: 13.4067\n",
      "Epoch 55/100\n",
      "1506/1506 [==============================] - 2s 2ms/step - loss: 180.6494 - mae: 5.6765 - root_mean_squared_error: 13.4406\n",
      "Epoch 56/100\n",
      "1506/1506 [==============================] - 2s 2ms/step - loss: 176.8232 - mae: 5.5941 - root_mean_squared_error: 13.2975\n",
      "Epoch 57/100\n",
      "1506/1506 [==============================] - 2s 2ms/step - loss: 176.9963 - mae: 5.5767 - root_mean_squared_error: 13.3040\n",
      "Epoch 58/100\n",
      "1506/1506 [==============================] - 2s 2ms/step - loss: 178.6169 - mae: 5.6149 - root_mean_squared_error: 13.3648: 0s - loss: 175.8333 - mae: 5.5890 - root_mean_squared_error: 13.26 - ETA: 0s - loss: 176.0069 - mae: 5.5822 - root_m\n",
      "Epoch 59/100\n",
      "1506/1506 [==============================] - 2s 2ms/step - loss: 177.4707 - mae: 5.5900 - root_mean_squared_error: 13.3218\n",
      "Epoch 60/100\n",
      "1506/1506 [==============================] - 2s 2ms/step - loss: 176.9386 - mae: 5.5969 - root_mean_squared_error: 13.3018\n",
      "Epoch 61/100\n",
      "1506/1506 [==============================] - 2s 2ms/step - loss: 176.7368 - mae: 5.5994 - root_mean_squared_error: 13.2942\n",
      "Epoch 62/100\n",
      "1506/1506 [==============================] - 2s 2ms/step - loss: 177.7361 - mae: 5.5845 - root_mean_squared_error: 13.3318\n",
      "Epoch 63/100\n",
      "1506/1506 [==============================] - 3s 2ms/step - loss: 178.0386 - mae: 5.6049 - root_mean_squared_error: 13.3431\n",
      "Epoch 64/100\n",
      "1506/1506 [==============================] - 2s 2ms/step - loss: 178.8835 - mae: 5.6074 - root_mean_squared_error: 13.3747\n",
      "Epoch 65/100\n",
      "1506/1506 [==============================] - 2s 2ms/step - loss: 175.3962 - mae: 5.5249 - root_mean_squared_error: 13.2437\n",
      "Epoch 66/100\n",
      "1506/1506 [==============================] - 2s 2ms/step - loss: 174.8616 - mae: 5.5296 - root_mean_squared_error: 13.2235\n",
      "Epoch 67/100\n",
      "1506/1506 [==============================] - 3s 2ms/step - loss: 176.3245 - mae: 5.5588 - root_mean_squared_error: 13.2787\n",
      "Epoch 68/100\n",
      "1506/1506 [==============================] - 3s 2ms/step - loss: 175.4641 - mae: 5.5476 - root_mean_squared_error: 13.2463: 1s - loss: 180.7604 \n",
      "Epoch 69/100\n",
      "1506/1506 [==============================] - 2s 2ms/step - loss: 176.2790 - mae: 5.5540 - root_mean_squared_error: 13.2770\n",
      "Epoch 70/100\n",
      "1506/1506 [==============================] - 3s 2ms/step - loss: 175.5286 - mae: 5.5185 - root_mean_squared_error: 13.2487\n",
      "Epoch 71/100\n",
      "1506/1506 [==============================] - 2s 2ms/step - loss: 174.2145 - mae: 5.5041 - root_mean_squared_error: 13.1990\n",
      "Epoch 72/100\n",
      "1506/1506 [==============================] - 2s 2ms/step - loss: 173.3762 - mae: 5.5098 - root_mean_squared_error: 13.1672\n",
      "Epoch 73/100\n",
      "1506/1506 [==============================] - 2s 2ms/step - loss: 173.3147 - mae: 5.4906 - root_mean_squared_error: 13.1649\n",
      "Epoch 74/100\n",
      "1506/1506 [==============================] - 3s 2ms/step - loss: 174.0108 - mae: 5.4938 - root_mean_squared_error: 13.1913\n",
      "Epoch 75/100\n",
      "1506/1506 [==============================] - 3s 2ms/step - loss: 175.4792 - mae: 5.5204 - root_mean_squared_error: 13.2469\n",
      "Epoch 76/100\n",
      "1506/1506 [==============================] - 2s 2ms/step - loss: 172.0219 - mae: 5.4534 - root_mean_squared_error: 13.1157\n",
      "Epoch 77/100\n",
      "1506/1506 [==============================] - 2s 2ms/step - loss: 173.4377 - mae: 5.4899 - root_mean_squared_error: 13.1696\n",
      "Epoch 78/100\n",
      "1506/1506 [==============================] - 3s 2ms/step - loss: 171.3842 - mae: 5.4354 - root_mean_squared_error: 13.0914\n",
      "Epoch 79/100\n",
      "1506/1506 [==============================] - 2s 2ms/step - loss: 177.4065 - mae: 5.5927 - root_mean_squared_error: 13.3194\n",
      "Epoch 80/100\n",
      "1506/1506 [==============================] - 3s 2ms/step - loss: 172.3705 - mae: 5.4552 - root_mean_squared_error: 13.1290: 1s - loss: 171\n",
      "Epoch 81/100\n",
      "1506/1506 [==============================] - 3s 2ms/step - loss: 175.6702 - mae: 5.5223 - root_mean_squared_error: 13.2541: 1s - loss: 168.5748 - ma - ETA: 0s - loss: 177.3295 - mae: 5.5417 - ro\n",
      "Epoch 82/100\n",
      "1506/1506 [==============================] - 2s 2ms/step - loss: 173.7773 - mae: 5.5145 - root_mean_squared_error: 13.1825\n",
      "Epoch 83/100\n",
      "1506/1506 [==============================] - 2s 2ms/step - loss: 174.4967 - mae: 5.5032 - root_mean_squared_error: 13.2097\n",
      "Epoch 84/100\n",
      "1506/1506 [==============================] - 2s 2ms/step - loss: 173.0802 - mae: 5.4772 - root_mean_squared_error: 13.1560\n",
      "Epoch 85/100\n",
      "1506/1506 [==============================] - 3s 2ms/step - loss: 172.7567 - mae: 5.4835 - root_mean_squared_error: 13.1437\n",
      "Epoch 86/100\n",
      "1506/1506 [==============================] - 3s 2ms/step - loss: 170.5160 - mae: 5.4219 - root_mean_squared_error: 13.0582\n",
      "Epoch 87/100\n",
      "1506/1506 [==============================] - 4s 2ms/step - loss: 173.3791 - mae: 5.4803 - root_mean_squared_error: 13.1674: 0s - loss: 170.9098 - mae: 5.4327 - root_mea\n",
      "Epoch 88/100\n",
      "1506/1506 [==============================] - 3s 2ms/step - loss: 167.9872 - mae: 5.3636 - root_mean_squared_error: 12.9610: 0s - loss: 166.8847 - mae: 5.3514 - root_mea\n",
      "Epoch 89/100\n",
      "1506/1506 [==============================] - 3s 2ms/step - loss: 172.4431 - mae: 5.4621 - root_mean_squared_error: 13.1318: 0s - loss: 171.8276 - mae: 5.4652 - root_mean_sq\n",
      "Epoch 90/100\n",
      "1506/1506 [==============================] - 3s 2ms/step - loss: 172.3766 - mae: 5.4541 - root_mean_squared_error: 13.1292\n",
      "Epoch 91/100\n",
      "1506/1506 [==============================] - 3s 2ms/step - loss: 173.8377 - mae: 5.4979 - root_mean_squared_error: 13.1848\n",
      "Epoch 92/100\n",
      "1506/1506 [==============================] - 3s 2ms/step - loss: 171.4993 - mae: 5.4507 - root_mean_squared_error: 13.0958\n",
      "Epoch 93/100\n",
      "1506/1506 [==============================] - 3s 2ms/step - loss: 170.8954 - mae: 5.4554 - root_mean_squared_error: 13.0727: 1s - loss:\n",
      "Epoch 94/100\n",
      "1506/1506 [==============================] - 3s 2ms/step - loss: 170.5457 - mae: 5.4366 - root_mean_squared_error: 13.0593\n",
      "Epoch 95/100\n",
      "1506/1506 [==============================] - 3s 2ms/step - loss: 171.7145 - mae: 5.4397 - root_mean_squared_error: 13.1040: 1s -\n",
      "Epoch 96/100\n",
      "1506/1506 [==============================] - 3s 2ms/step - loss: 171.1251 - mae: 5.4294 - root_mean_squared_error: 13.0815: 1s - loss: 170.7934 - mae: 5.3 - ETA: 0s - loss: 173.1100 - mae: 5.4494 - root_m\n",
      "Epoch 97/100\n",
      "1506/1506 [==============================] - 3s 2ms/step - loss: 173.2652 - mae: 5.4735 - root_mean_squared_error: 13.1630\n",
      "Epoch 98/100\n",
      "1506/1506 [==============================] - 3s 2ms/step - loss: 168.6124 - mae: 5.3828 - root_mean_squared_error: 12.9851\n",
      "Epoch 99/100\n",
      "1506/1506 [==============================] - 3s 2ms/step - loss: 172.9618 - mae: 5.4700 - root_mean_squared_error: 13.1515: 1s\n",
      "Epoch 100/100\n",
      "1506/1506 [==============================] - 3s 2ms/step - loss: 170.6965 - mae: 5.4439 - root_mean_squared_error: 13.0651\n"
     ]
    }
   ],
   "source": [
    "#Compile and train\n",
    "model_Miami.compile(optimizer=Adam(lr=0.0001), \n",
    "              loss='mse',\n",
    "              metrics=['mae', keras.metrics.RootMeanSquaredError()])\n",
    "\n",
    "history_Miami = model_Miami.fit(input_arry, output_arry, epochs=100, batch_size=64)"
   ]
  },
  {
   "cell_type": "code",
   "execution_count": 125,
   "metadata": {},
   "outputs": [],
   "source": [
    "#Mae down to 5.4439"
   ]
  },
  {
   "cell_type": "code",
   "execution_count": 126,
   "metadata": {},
   "outputs": [
    {
     "data": {
      "image/png": "[encoded data removed]",
      "text/plain": [
       "<Figure size 432x288 with 1 Axes>"
      ]
     },
     "metadata": {},
     "output_type": "display_data"
    }
   ],
   "source": [
    "plt.plot(history_Miami.history['mae'])\n",
    "plt.plot(history_Miami.history['root_mean_squared_error'])\n",
    "plt.title('mae and rmse per epoch')\n",
    "plt.ylabel('Error')\n",
    "plt.xlabel('Epoch')\n",
    "plt.legend(['mae', 'rmse'], loc='upper left')\n",
    "plt.show()"
   ]
  },
  {
   "cell_type": "markdown",
   "metadata": {},
   "source": [
    "Test on Miami 2018 data"
   ]
  },
  {
   "cell_type": "code",
   "execution_count": 127,
   "metadata": {},
   "outputs": [
    {
     "data": {
      "text/html": [
       "<div>\n",
       "<style scoped>\n",
       "    .dataframe tbody tr th:only-of-type {\n",
       "        vertical-align: middle;\n",
       "    }\n",
       "\n",
       "    .dataframe tbody tr th {\n",
       "        vertical-align: top;\n",
       "    }\n",
       "\n",
       "    .dataframe thead th {\n",
       "        text-align: right;\n",
       "    }\n",
       "</style>\n",
       "<table border=\"1\" class=\"dataframe\">\n",
       "  <thead>\n",
       "    <tr style=\"text-align: right;\">\n",
       "      <th></th>\n",
       "      <th>Year</th>\n",
       "      <th>Month</th>\n",
       "      <th>Day</th>\n",
       "      <th>Hour</th>\n",
       "      <th>Minute</th>\n",
       "      <th>Temperature</th>\n",
       "      <th>Clearsky DHI</th>\n",
       "      <th>Clearsky DNI</th>\n",
       "      <th>Clearsky GHI</th>\n",
       "      <th>Cloud Type</th>\n",
       "      <th>...</th>\n",
       "      <th>Solar Zenith Angle</th>\n",
       "      <th>Surface Albedo</th>\n",
       "      <th>Pressure</th>\n",
       "      <th>Precipitable Water</th>\n",
       "      <th>Wind Direction</th>\n",
       "      <th>Wind Speed</th>\n",
       "      <th>Global Horizontal UV Irradiance (280-400nm)</th>\n",
       "      <th>Global Horizontal UV Irradiance (285-385nm)</th>\n",
       "      <th>timestamps</th>\n",
       "      <th>Cloud Cover</th>\n",
       "    </tr>\n",
       "  </thead>\n",
       "  <tbody>\n",
       "    <tr>\n",
       "      <th>0</th>\n",
       "      <td>2018</td>\n",
       "      <td>1</td>\n",
       "      <td>1</td>\n",
       "      <td>0</td>\n",
       "      <td>30</td>\n",
       "      <td>21.1</td>\n",
       "      <td>0</td>\n",
       "      <td>0</td>\n",
       "      <td>0</td>\n",
       "      <td>0</td>\n",
       "      <td>...</td>\n",
       "      <td>113.89</td>\n",
       "      <td>0.08</td>\n",
       "      <td>1019</td>\n",
       "      <td>2.7</td>\n",
       "      <td>58</td>\n",
       "      <td>2.0</td>\n",
       "      <td>NaN</td>\n",
       "      <td>NaN</td>\n",
       "      <td>1514782800</td>\n",
       "      <td>0.30</td>\n",
       "    </tr>\n",
       "    <tr>\n",
       "      <th>1</th>\n",
       "      <td>2018</td>\n",
       "      <td>1</td>\n",
       "      <td>1</td>\n",
       "      <td>1</td>\n",
       "      <td>30</td>\n",
       "      <td>21.2</td>\n",
       "      <td>0</td>\n",
       "      <td>0</td>\n",
       "      <td>0</td>\n",
       "      <td>0</td>\n",
       "      <td>...</td>\n",
       "      <td>127.06</td>\n",
       "      <td>0.08</td>\n",
       "      <td>1019</td>\n",
       "      <td>2.8</td>\n",
       "      <td>63</td>\n",
       "      <td>1.8</td>\n",
       "      <td>NaN</td>\n",
       "      <td>NaN</td>\n",
       "      <td>1514786400</td>\n",
       "      <td>0.32</td>\n",
       "    </tr>\n",
       "    <tr>\n",
       "      <th>2</th>\n",
       "      <td>2018</td>\n",
       "      <td>1</td>\n",
       "      <td>1</td>\n",
       "      <td>2</td>\n",
       "      <td>30</td>\n",
       "      <td>21.2</td>\n",
       "      <td>0</td>\n",
       "      <td>0</td>\n",
       "      <td>0</td>\n",
       "      <td>0</td>\n",
       "      <td>...</td>\n",
       "      <td>140.43</td>\n",
       "      <td>0.08</td>\n",
       "      <td>1019</td>\n",
       "      <td>2.8</td>\n",
       "      <td>65</td>\n",
       "      <td>1.6</td>\n",
       "      <td>NaN</td>\n",
       "      <td>NaN</td>\n",
       "      <td>1514790000</td>\n",
       "      <td>0.23</td>\n",
       "    </tr>\n",
       "    <tr>\n",
       "      <th>3</th>\n",
       "      <td>2018</td>\n",
       "      <td>1</td>\n",
       "      <td>1</td>\n",
       "      <td>3</td>\n",
       "      <td>30</td>\n",
       "      <td>21.2</td>\n",
       "      <td>0</td>\n",
       "      <td>0</td>\n",
       "      <td>0</td>\n",
       "      <td>0</td>\n",
       "      <td>...</td>\n",
       "      <td>153.91</td>\n",
       "      <td>0.08</td>\n",
       "      <td>1018</td>\n",
       "      <td>2.9</td>\n",
       "      <td>57</td>\n",
       "      <td>1.3</td>\n",
       "      <td>NaN</td>\n",
       "      <td>NaN</td>\n",
       "      <td>1514793600</td>\n",
       "      <td>0.14</td>\n",
       "    </tr>\n",
       "    <tr>\n",
       "      <th>4</th>\n",
       "      <td>2018</td>\n",
       "      <td>1</td>\n",
       "      <td>1</td>\n",
       "      <td>4</td>\n",
       "      <td>30</td>\n",
       "      <td>21.1</td>\n",
       "      <td>0</td>\n",
       "      <td>0</td>\n",
       "      <td>0</td>\n",
       "      <td>0</td>\n",
       "      <td>...</td>\n",
       "      <td>167.37</td>\n",
       "      <td>0.08</td>\n",
       "      <td>1018</td>\n",
       "      <td>2.9</td>\n",
       "      <td>41</td>\n",
       "      <td>1.1</td>\n",
       "      <td>NaN</td>\n",
       "      <td>NaN</td>\n",
       "      <td>1514797200</td>\n",
       "      <td>0.14</td>\n",
       "    </tr>\n",
       "  </tbody>\n",
       "</table>\n",
       "<p>5 rows × 26 columns</p>\n",
       "</div>"
      ],
      "text/plain": [
       "   Year  Month  Day  Hour  Minute  Temperature  Clearsky DHI  Clearsky DNI  \\\n",
       "0  2018      1    1     0      30         21.1             0             0   \n",
       "1  2018      1    1     1      30         21.2             0             0   \n",
       "2  2018      1    1     2      30         21.2             0             0   \n",
       "3  2018      1    1     3      30         21.2             0             0   \n",
       "4  2018      1    1     4      30         21.1             0             0   \n",
       "\n",
       "   Clearsky GHI  Cloud Type  ...  Solar Zenith Angle  Surface Albedo  \\\n",
       "0             0           0  ...              113.89            0.08   \n",
       "1             0           0  ...              127.06            0.08   \n",
       "2             0           0  ...              140.43            0.08   \n",
       "3             0           0  ...              153.91            0.08   \n",
       "4             0           0  ...              167.37            0.08   \n",
       "\n",
       "   Pressure  Precipitable Water  Wind Direction  Wind Speed  \\\n",
       "0      1019                 2.7              58         2.0   \n",
       "1      1019                 2.8              63         1.8   \n",
       "2      1019                 2.8              65         1.6   \n",
       "3      1018                 2.9              57         1.3   \n",
       "4      1018                 2.9              41         1.1   \n",
       "\n",
       "   Global Horizontal UV Irradiance (280-400nm)  \\\n",
       "0                                          NaN   \n",
       "1                                          NaN   \n",
       "2                                          NaN   \n",
       "3                                          NaN   \n",
       "4                                          NaN   \n",
       "\n",
       "   Global Horizontal UV Irradiance (285-385nm)  timestamps  Cloud Cover  \n",
       "0                                          NaN  1514782800         0.30  \n",
       "1                                          NaN  1514786400         0.32  \n",
       "2                                          NaN  1514790000         0.23  \n",
       "3                                          NaN  1514793600         0.14  \n",
       "4                                          NaN  1514797200         0.14  \n",
       "\n",
       "[5 rows x 26 columns]"
      ]
     },
     "execution_count": 127,
     "metadata": {},
     "output_type": "execute_result"
    }
   ],
   "source": [
    "test_df = pd.read_csv(os.path.join(_Testing_Data_Dir, 'Miami_FL', 'psm_FL_Miami2018.csv'))\n",
    "test_df.head()"
   ]
  },
  {
   "cell_type": "code",
   "execution_count": 128,
   "metadata": {},
   "outputs": [],
   "source": [
    "input_size = 6\n",
    "test_input_arry = np.array([], dtype=np.float64).reshape(0,input_size)\n",
    "test_output_arry = np.array([], dtype=np.float64)\n",
    "test_input_arry, test_output_arry = combine_training_arrays(test_df, test_input_arry, test_output_arry)"
   ]
  },
  {
   "cell_type": "code",
   "execution_count": 129,
   "metadata": {},
   "outputs": [
    {
     "name": "stdout",
     "output_type": "stream",
     "text": [
      "274/274 [==============================] - 0s 957us/step - loss: 639.4745 - mae: 10.1002 - root_mean_squared_error: 25.2878\n"
     ]
    }
   ],
   "source": [
    "score = model_Miami.evaluate(test_input_arry, test_output_arry, verbose=1)"
   ]
  },
  {
   "cell_type": "code",
   "execution_count": 21,
   "metadata": {},
   "outputs": [],
   "source": [
    "#Mae of 10.1002....not bad!~"
   ]
  },
  {
   "cell_type": "code",
   "execution_count": 130,
   "metadata": {},
   "outputs": [],
   "source": [
    "#Save models"
   ]
  },
  {
   "cell_type": "code",
   "execution_count": 132,
   "metadata": {},
   "outputs": [
    {
     "name": "stdout",
     "output_type": "stream",
     "text": [
      "INFO:tensorflow:Assets written to: Neural_Nets/Neural_Net_Boulder_CO/assets\n"
     ]
    }
   ],
   "source": [
    "model_Boulder.save('Neural_Nets/Neural_Net_Boulder_CO')"
   ]
  },
  {
   "cell_type": "code",
   "execution_count": 133,
   "metadata": {},
   "outputs": [
    {
     "name": "stdout",
     "output_type": "stream",
     "text": [
      "INFO:tensorflow:Assets written to: Neural_Nets/Neural_Net_Miami_FL/assets\n"
     ]
    }
   ],
   "source": [
    "model_Miami.save('Neural_Nets/Neural_Net_Miami_FL')"
   ]
  },
  {
   "cell_type": "code",
   "execution_count": null,
   "metadata": {},
   "outputs": [],
   "source": []
  }
 ],
 "metadata": {
  "kernelspec": {
   "display_name": "Python 3",
   "language": "python",
   "name": "python3"
  },
  "language_info": {
   "codemirror_mode": {
    "name": "ipython",
    "version": 3
   },
   "file_extension": ".py",
   "mimetype": "text/x-python",
   "name": "python",
   "nbconvert_exporter": "python",
   "pygments_lexer": "ipython3",
   "version": "3.7.6"
  }
 },
 "nbformat": 4,
 "nbformat_minor": 4
}
