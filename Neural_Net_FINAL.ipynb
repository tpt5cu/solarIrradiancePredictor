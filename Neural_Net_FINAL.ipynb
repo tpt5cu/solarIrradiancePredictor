{
 "cells": [
  {
   "cell_type": "markdown",
   "metadata": {},
   "source": [
    "# Neural Network"
   ]
  },
  {
   "cell_type": "markdown",
   "metadata": {},
   "source": [
    "## I. Import and Load Data"
   ]
  },
  {
   "cell_type": "markdown",
   "metadata": {},
   "source": [
    "Training Data was pulled from two sources. \n",
    "\n",
    "Solar Irradience data was pulled from the [National Solar Radiation Database](https://nsrdb.nrel.gov/). Pointwise GHI, DHI, and DNI data is returned hourly for an entire calendar year. All irradience values are recorded in w/m^2. Location is for a latitude longitude coordinate pair. Coordinates were chosen based on the locations of [U.S. Climate Reference Network (USCRN)](https://www.ncdc.noaa.gov/crn/) monitoring stations. This is because the USCRN has real time measurements of GHI, which can be used to make real-time predictions of DHI. The NRSDB is not updated so frequently. \n",
    "\n",
    "The production prediction module in the [omf](https://github.com/dpinney/omf/wiki) uses GHI measuremeants read from USCRN. \n",
    "\n",
    "In addition to solar irradience data, this project uses other weather data such as cloud cover, air pressure, and season data to try and model the relationship between GHI and DHI. For that, this project pulls data from [darksky](https://darksky.net/dev). And that data is combined with the NRSDB data for testing."
   ]
  },
  {
   "cell_type": "markdown",
   "metadata": {},
   "source": [
    "Please NOTE! In this notebook, the directory \"Testing_Data\" does not mean it is solely Testing Data. Rather for this Neural network, it contains both testing and training data. This is because the neural network requires much more data to train than regression. So much of the same data used to test the regression model is now being used to train the neural network. The True training data for the neural network is in \"Proudction_Test\", where the data is from USCRN and combined with data combed from darksky."
   ]
  },
  {
   "cell_type": "code",
   "execution_count": 1,
   "metadata": {},
   "outputs": [],
   "source": [
    "import pandas as pd\n",
    "import os\n",
    "import numpy as np\n",
    "from glob import glob\n",
    "from matplotlib import pyplot as plt\n",
    "import seaborn as sns\n",
    "from random import randint\n",
    "from glob import glob\n",
    "from math import sin, cos, asin, acos, sqrt"
   ]
  },
  {
   "cell_type": "code",
   "execution_count": 2,
   "metadata": {},
   "outputs": [],
   "source": [
    "import tensorflow as tf\n",
    "from tensorflow import keras\n",
    "from tensorflow.keras import layers"
   ]
  },
  {
   "cell_type": "code",
   "execution_count": 3,
   "metadata": {},
   "outputs": [],
   "source": [
    "def featureHistograms(df, features=['GHI','DHI','Cloud Cover'],):\n",
    "    sns.set_style('darkgrid')\n",
    "    fig, axs = plt.subplots(ncols=len(features))\n",
    "    for i in range(len(features)):\n",
    "        sns.distplot(df[features[i]], ax=axs[i])"
   ]
  },
  {
   "cell_type": "code",
   "execution_count": 4,
   "metadata": {},
   "outputs": [],
   "source": [
    "#Lets try and make a neural network"
   ]
  },
  {
   "cell_type": "code",
   "execution_count": 5,
   "metadata": {},
   "outputs": [
    {
     "name": "stdout",
     "output_type": "stream",
     "text": [
      "/Users/tuomastalvitie/Documents/Diffuse:Direct/solarIrradiencePredictor/Testing_Data\n"
     ]
    }
   ],
   "source": [
    "#Get 2018 Data\n",
    "_Curr_Dir = os.getcwd()\n",
    "_Testing_Data_Dir = os.path.join(_Curr_Dir, 'Testing_Data')\n",
    "print(_Testing_Data_Dir)"
   ]
  },
  {
   "cell_type": "code",
   "execution_count": 6,
   "metadata": {},
   "outputs": [
    {
     "data": {
      "text/html": [
       "<div>\n",
       "<style scoped>\n",
       "    .dataframe tbody tr th:only-of-type {\n",
       "        vertical-align: middle;\n",
       "    }\n",
       "\n",
       "    .dataframe tbody tr th {\n",
       "        vertical-align: top;\n",
       "    }\n",
       "\n",
       "    .dataframe thead th {\n",
       "        text-align: right;\n",
       "    }\n",
       "</style>\n",
       "<table border=\"1\" class=\"dataframe\">\n",
       "  <thead>\n",
       "    <tr style=\"text-align: right;\">\n",
       "      <th></th>\n",
       "      <th>Year</th>\n",
       "      <th>Month</th>\n",
       "      <th>Day</th>\n",
       "      <th>Hour</th>\n",
       "      <th>Minute</th>\n",
       "      <th>Temperature</th>\n",
       "      <th>Clearsky DHI</th>\n",
       "      <th>Clearsky DNI</th>\n",
       "      <th>Clearsky GHI</th>\n",
       "      <th>Cloud Type</th>\n",
       "      <th>...</th>\n",
       "      <th>GHI</th>\n",
       "      <th>Relative Humidity</th>\n",
       "      <th>Solar Zenith Angle</th>\n",
       "      <th>Surface Albedo</th>\n",
       "      <th>Pressure</th>\n",
       "      <th>Precipitable Water</th>\n",
       "      <th>Wind Direction</th>\n",
       "      <th>Wind Speed</th>\n",
       "      <th>timestamps</th>\n",
       "      <th>Cloud Cover</th>\n",
       "    </tr>\n",
       "  </thead>\n",
       "  <tbody>\n",
       "    <tr>\n",
       "      <th>0</th>\n",
       "      <td>2018</td>\n",
       "      <td>1</td>\n",
       "      <td>1</td>\n",
       "      <td>0</td>\n",
       "      <td>30</td>\n",
       "      <td>-22.5</td>\n",
       "      <td>0</td>\n",
       "      <td>0</td>\n",
       "      <td>0</td>\n",
       "      <td>8</td>\n",
       "      <td>...</td>\n",
       "      <td>0</td>\n",
       "      <td>62.75</td>\n",
       "      <td>103.76</td>\n",
       "      <td>0.69</td>\n",
       "      <td>978</td>\n",
       "      <td>0.1</td>\n",
       "      <td>296</td>\n",
       "      <td>2.1</td>\n",
       "      <td>1514739600</td>\n",
       "      <td>0.0</td>\n",
       "    </tr>\n",
       "    <tr>\n",
       "      <th>1</th>\n",
       "      <td>2018</td>\n",
       "      <td>1</td>\n",
       "      <td>1</td>\n",
       "      <td>1</td>\n",
       "      <td>30</td>\n",
       "      <td>-23.1</td>\n",
       "      <td>0</td>\n",
       "      <td>0</td>\n",
       "      <td>0</td>\n",
       "      <td>0</td>\n",
       "      <td>...</td>\n",
       "      <td>0</td>\n",
       "      <td>66.39</td>\n",
       "      <td>114.24</td>\n",
       "      <td>0.69</td>\n",
       "      <td>978</td>\n",
       "      <td>0.1</td>\n",
       "      <td>287</td>\n",
       "      <td>2.2</td>\n",
       "      <td>1514743200</td>\n",
       "      <td>0.0</td>\n",
       "    </tr>\n",
       "    <tr>\n",
       "      <th>2</th>\n",
       "      <td>2018</td>\n",
       "      <td>1</td>\n",
       "      <td>1</td>\n",
       "      <td>2</td>\n",
       "      <td>30</td>\n",
       "      <td>-23.6</td>\n",
       "      <td>0</td>\n",
       "      <td>0</td>\n",
       "      <td>0</td>\n",
       "      <td>8</td>\n",
       "      <td>...</td>\n",
       "      <td>0</td>\n",
       "      <td>69.34</td>\n",
       "      <td>125.01</td>\n",
       "      <td>0.69</td>\n",
       "      <td>978</td>\n",
       "      <td>0.1</td>\n",
       "      <td>283</td>\n",
       "      <td>2.3</td>\n",
       "      <td>1514746800</td>\n",
       "      <td>0.0</td>\n",
       "    </tr>\n",
       "    <tr>\n",
       "      <th>3</th>\n",
       "      <td>2018</td>\n",
       "      <td>1</td>\n",
       "      <td>1</td>\n",
       "      <td>3</td>\n",
       "      <td>30</td>\n",
       "      <td>-23.9</td>\n",
       "      <td>0</td>\n",
       "      <td>0</td>\n",
       "      <td>0</td>\n",
       "      <td>8</td>\n",
       "      <td>...</td>\n",
       "      <td>0</td>\n",
       "      <td>71.25</td>\n",
       "      <td>135.74</td>\n",
       "      <td>0.69</td>\n",
       "      <td>978</td>\n",
       "      <td>0.1</td>\n",
       "      <td>283</td>\n",
       "      <td>2.3</td>\n",
       "      <td>1514750400</td>\n",
       "      <td>0.0</td>\n",
       "    </tr>\n",
       "    <tr>\n",
       "      <th>4</th>\n",
       "      <td>2018</td>\n",
       "      <td>1</td>\n",
       "      <td>1</td>\n",
       "      <td>4</td>\n",
       "      <td>30</td>\n",
       "      <td>-24.1</td>\n",
       "      <td>0</td>\n",
       "      <td>0</td>\n",
       "      <td>0</td>\n",
       "      <td>8</td>\n",
       "      <td>...</td>\n",
       "      <td>0</td>\n",
       "      <td>72.87</td>\n",
       "      <td>145.93</td>\n",
       "      <td>0.69</td>\n",
       "      <td>979</td>\n",
       "      <td>0.1</td>\n",
       "      <td>284</td>\n",
       "      <td>2.3</td>\n",
       "      <td>1514754000</td>\n",
       "      <td>0.0</td>\n",
       "    </tr>\n",
       "  </tbody>\n",
       "</table>\n",
       "<p>5 rows × 24 columns</p>\n",
       "</div>"
      ],
      "text/plain": [
       "   Year  Month  Day  Hour  Minute  Temperature  Clearsky DHI  Clearsky DNI  \\\n",
       "0  2018      1    1     0      30        -22.5             0             0   \n",
       "1  2018      1    1     1      30        -23.1             0             0   \n",
       "2  2018      1    1     2      30        -23.6             0             0   \n",
       "3  2018      1    1     3      30        -23.9             0             0   \n",
       "4  2018      1    1     4      30        -24.1             0             0   \n",
       "\n",
       "   Clearsky GHI  Cloud Type  ...  GHI  Relative Humidity  Solar Zenith Angle  \\\n",
       "0             0           8  ...    0              62.75              103.76   \n",
       "1             0           0  ...    0              66.39              114.24   \n",
       "2             0           8  ...    0              69.34              125.01   \n",
       "3             0           8  ...    0              71.25              135.74   \n",
       "4             0           8  ...    0              72.87              145.93   \n",
       "\n",
       "   Surface Albedo  Pressure  Precipitable Water  Wind Direction  Wind Speed  \\\n",
       "0            0.69       978                 0.1             296         2.1   \n",
       "1            0.69       978                 0.1             287         2.2   \n",
       "2            0.69       978                 0.1             283         2.3   \n",
       "3            0.69       978                 0.1             283         2.3   \n",
       "4            0.69       979                 0.1             284         2.3   \n",
       "\n",
       "   timestamps  Cloud Cover  \n",
       "0  1514739600          0.0  \n",
       "1  1514743200          0.0  \n",
       "2  1514746800          0.0  \n",
       "3  1514750400          0.0  \n",
       "4  1514754000          0.0  \n",
       "\n",
       "[5 rows x 24 columns]"
      ]
     },
     "execution_count": 6,
     "metadata": {},
     "output_type": "execute_result"
    }
   ],
   "source": [
    "pd.read_csv(os.path.join(_Testing_Data_Dir, 'psm_south_dakota', 'psm_testing_data2018.csv')).head()"
   ]
  },
  {
   "cell_type": "code",
   "execution_count": 7,
   "metadata": {},
   "outputs": [
    {
     "data": {
      "image/png": "[encoded data removed]",
      "text/plain": [
       "<Figure size 432x288 with 3 Axes>"
      ]
     },
     "metadata": {},
     "output_type": "display_data"
    }
   ],
   "source": [
    "df = pd.read_csv(os.path.join(_Testing_Data_Dir, 'psm_south_dakota', 'psm_testing_data2018.csv'))\n",
    "featureHistograms(df)"
   ]
  },
  {
   "cell_type": "markdown",
   "metadata": {},
   "source": [
    "## II. Features and Data Engineering"
   ]
  },
  {
   "cell_type": "markdown",
   "metadata": {},
   "source": [
    "So we have all the above variables....Which ones do we think would work best in a NN?"
   ]
  },
  {
   "cell_type": "markdown",
   "metadata": {},
   "source": [
    "So we want to predict DHI, at the very least. Maybe DNI as well. What can we use to predict? \n",
    "[More Information on GHI, DHI, and DNI here!](https://firstgreenconsulting.wordpress.com/2012/04/26/differentiate-between-the-dni-dhi-and-ghi/#:~:text=Global%20Horizontal%20Irradiance%20(GHI)%20is,Diffuse%20Horizontal%20Irradiance%20(DHI).)\n",
    "\n",
    "But a useful relationship to keep in mind is:\n",
    "\n",
    "*Global Horizontal (GHI) = Direct Normal (DNI) X cos(θ) + Diffuse Horizontal (DHI)*\n",
    "\n",
    "**GHI** is a must, as it is the primary metric our sensors will feed into such a model. \n",
    "\n",
    "**Cloud cover** is also essential, as cloud cover is one of the primary factors in how much direct normal solar irradience is diffused.\n",
    "\n",
    "**Solar Zenith Angle** is important as it dictates how much irradience is direct normal (DNI)\n",
    "\n",
    "Another useful relatinship to capture is **time**. We are given timestamps in addition to month, day, year, second, hour and minute variables. Timestamps and/or a combination between day + month would not be super useful, as it would overfit to the day. \n",
    "A more useful relationship would be to capture time of day. This is useful because in a non - featurized dataset, many GHI readings will read '0', simply because it is dark out. We are primarily concerned about the relationship between GHI and DHI, therefore factoring in readings when there is no sunlight to begin with could be confounding. Therefore adding in **minute** and **hour** variables in the input vector could adequately capture this relationship. \n",
    "\n",
    "Another solution would be to featurize this dataset, whereby we create a seperate feature which is a combination of day + time. OR, we could completly remove the nighttime entries entirely to ensure we only are concerned with readings that occur when the sun is out. However this occurs on a gradient, because sunlight is defracted even after sunset. So for now, let's just fit the model on the unedited dataset. \n",
    "\n",
    "Another good idea is to create a **season** variable, which is a dummy variable for each season (Fall, Winter, Spring, Summer), as different amounts of sunlight occur during each. The problem is that, for different locations on earth, seasonality could be inversely correlated with sunlight and thus GHI, DHI, and DNI. \n",
    "\n",
    "To keep the model as general as possible, we will exclude seasonality. \n",
    "\n",
    "Another useful metric is **Pressure**. According to the renowned [DISC model](https://www.nrel.gov/docs/legosti/old/3087.pdf), air pressure is included as a proxy for *air mass*, which is the amount of atmosphere solar rays have to travel through. The larger the solar mass, the more solar rays are scattered. \n",
    "\n"
   ]
  },
  {
   "cell_type": "markdown",
   "metadata": {},
   "source": [
    "### Loading the Data"
   ]
  },
  {
   "cell_type": "markdown",
   "metadata": {},
   "source": [
    "Get training arrays and combine them into a useable vector\n",
    "\n",
    "-Useful params:  \n",
    "-Hours  \n",
    "-Cloud Cover  \n",
    "-GHI  \n",
    "-Solar Zenith  \n",
    "-Pressure  \n",
    "\n",
    "\n",
    "Training Locations with Lat/Lon:  \n",
    "-**Reliance, South Dakota** (43.85, -99.50) from 2010-2018  \n",
    "-**Everglades, FL** (26.004157 ,-81.119239) from 2010-2018  \n",
    "-**Spokane, WA** (47.41,-117.52) from 2010-2018  \n",
    "-**Austin, TX** (30.581736,-98.024098) from 2010-2018  \n",
    "-**Charlottesville, VA** (38.0086,-78.4532) from 2010-2018  "
   ]
  },
  {
   "cell_type": "markdown",
   "metadata": {},
   "source": [
    "Please NOTE! In this notebook, the directory \"Testing_Data\" does not mean it is solely Testing Data. Rather for this Neural network, it contains both testing and training data. \n",
    "This is because the neural network requires much more data to train than regression. So much of the same data used to test the regression model is now being used to train the neural network. The True training data for the neural network is in \"Proudction_Test\", where the data is from USCRN and combined with data combed from darksky. "
   ]
  },
  {
   "cell_type": "code",
   "execution_count": 89,
   "metadata": {},
   "outputs": [],
   "source": [
    "def combine_training_arrays(df, input_arry, output_arr, dni_arr):\n",
    "    ghi  = df['GHI'].values\n",
    "    cloud_cover = df['Cloud Cover'].values\n",
    "    hours = df['Hour'].values\n",
    "    minutes = df['Minute'].values\n",
    "    solar_zenith = df['Solar Zenith Angle'].values\n",
    "    pressure = df['Pressure'].values\n",
    "    dhi = df['DHI'].values\n",
    "    dni = df['DNI'].values\n",
    "    #Sanity check, should all be 8760\n",
    "    assert len(pressure)==len(solar_zenith)==len(minutes)==len(hours)==len(cloud_cover)==len(ghi)==len(dni)==8760, \"len of input array not 8760\"\n",
    "    ar = np.array([ghi, cloud_cover, hours, minutes, solar_zenith, pressure]).T\n",
    "    input_arry = np.concatenate((input_arry, ar))\n",
    "    output_arr = np.concatenate((output_arr, np.array(dhi).T))\n",
    "    dni_arr = np.concatenate((dni_arr, np.array(dni).T))\n",
    "    return input_arry, output_arr, dni_arr\n"
   ]
  },
  {
   "cell_type": "code",
   "execution_count": 90,
   "metadata": {},
   "outputs": [
    {
     "name": "stdout",
     "output_type": "stream",
     "text": [
      "[]\n",
      "[]\n",
      "[]\n",
      "394200 (394200, 6)\n",
      "394200 (394200,)\n",
      "394200 (394200,)\n"
     ]
    }
   ],
   "source": [
    "# test_files = ['Murphey_ID', 'OldTown_ME', 'Quinault_WA', 'Lincoln_NE', 'SanDiego_CA', 'Boulder_CO', 'Miami_FL', 'outer_banks']\n",
    "training_files = ['psm_south_dakota', 'Everglades_FL', 'Spokane_WA', 'Austin_TX', 'Charlottesville']\n",
    "input_size = 6\n",
    "input_arry = np.array([], dtype=np.float64).reshape(0,input_size)\n",
    "output_arry = np.array([], dtype=np.float64)\n",
    "dni_arr = np.array([], dtype=np.float64)\n",
    "print(input_arry)\n",
    "print(output_arry)\n",
    "print(dni_arr)\n",
    "for directory in training_files:\n",
    "    for file in glob(_Testing_Data_Dir+'/'+directory+'/psm_*'):\n",
    "        df = pd.read_csv(file)\n",
    "        input_arry, output_arry, dni_arr = combine_training_arrays(df, input_arry, output_arry, dni_arr)\n",
    "print(len(input_arry), input_arry.shape)\n",
    "print(len(output_arry), output_arry.shape)\n",
    "print(len(dni_arr), dni_arr.shape)"
   ]
  },
  {
   "cell_type": "code",
   "execution_count": 91,
   "metadata": {},
   "outputs": [
    {
     "name": "stdout",
     "output_type": "stream",
     "text": [
      "630720\n"
     ]
    }
   ],
   "source": [
    "#sanity check, make sure 8760*number of files we look at == 429240\n",
    "count = 0\n",
    "for path in glob(_Testing_Data_Dir+'/*'):\n",
    "    for file in glob(path+'/psm_'+'*'):\n",
    "        count+=1\n",
    "print(count*8760)"
   ]
  },
  {
   "cell_type": "markdown",
   "metadata": {},
   "source": [
    "# III. Training"
   ]
  },
  {
   "cell_type": "code",
   "execution_count": 92,
   "metadata": {},
   "outputs": [],
   "source": [
    "from tensorflow.keras.optimizers import Adam"
   ]
  },
  {
   "cell_type": "code",
   "execution_count": 93,
   "metadata": {},
   "outputs": [],
   "source": [
    "keras.backend.clear_session()\n",
    "tf.keras.backend.clear_session()"
   ]
  },
  {
   "cell_type": "code",
   "execution_count": 94,
   "metadata": {},
   "outputs": [],
   "source": [
    "#Epoch size of 50 seems reasonable"
   ]
  },
  {
   "cell_type": "code",
   "execution_count": 95,
   "metadata": {},
   "outputs": [
    {
     "data": {
      "text/plain": [
       "<function tensorflow.python.framework.ops.reset_default_graph()>"
      ]
     },
     "execution_count": 95,
     "metadata": {},
     "output_type": "execute_result"
    }
   ],
   "source": [
    "keras.backend.clear_session()\n",
    "tf.keras.backend.clear_session()\n",
    "tf.compat.v1.reset_default_graph"
   ]
  },
  {
   "cell_type": "code",
   "execution_count": 96,
   "metadata": {},
   "outputs": [],
   "source": [
    "keras.backend.clear_session()\n",
    "tf.keras.backend.clear_session()"
   ]
  },
  {
   "cell_type": "code",
   "execution_count": 97,
   "metadata": {},
   "outputs": [],
   "source": [
    "#make RMSE a custom metric"
   ]
  },
  {
   "cell_type": "code",
   "execution_count": 98,
   "metadata": {},
   "outputs": [],
   "source": [
    "# def rmse(y_true, y_pred):\n",
    "#     return keras.backend.sqrt(keras.backend.mean(keras.backend.square(y_pred - y_true), axis=-1))"
   ]
  },
  {
   "cell_type": "code",
   "execution_count": null,
   "metadata": {},
   "outputs": [],
   "source": []
  },
  {
   "cell_type": "code",
   "execution_count": 99,
   "metadata": {},
   "outputs": [],
   "source": [
    "model = keras.Sequential()\n",
    "model.add(layers.Dense(300, activation=\"relu\"))\n",
    "model.add(layers.Dense(200, activation=\"relu\"))\n",
    "model.add(layers.Dense(100, activation=\"relu\"))\n",
    "model.add(layers.Dense(50, activation=\"relu\"))\n",
    "model.add(layers.Dense(25, activation=\"relu\"))\n",
    "model.add(layers.Dense(1, activation='relu'))"
   ]
  },
  {
   "cell_type": "code",
   "execution_count": 100,
   "metadata": {},
   "outputs": [
    {
     "name": "stdout",
     "output_type": "stream",
     "text": [
      "Epoch 1/100\n",
      "6160/6160 [==============================] - 10s 2ms/step - loss: 1012.1399 - mae: 14.4956 - root_mean_squared_error: 31.8141\n",
      "Epoch 2/100\n",
      "6160/6160 [==============================] - 11s 2ms/step - loss: 445.2907 - mae: 9.3514 - root_mean_squared_error: 21.1019\n",
      "Epoch 3/100\n",
      "6160/6160 [==============================] - 11s 2ms/step - loss: 396.3455 - mae: 8.7124 - root_mean_squared_error: 19.9084\n",
      "Epoch 4/100\n",
      "6160/6160 [==============================] - 10s 2ms/step - loss: 370.4831 - mae: 8.3535 - root_mean_squared_error: 19.2479\n",
      "Epoch 5/100\n",
      "6160/6160 [==============================] - 10s 2ms/step - loss: 340.4404 - mae: 7.9697 - root_mean_squared_error: 18.4510\n",
      "Epoch 6/100\n",
      "6160/6160 [==============================] - 11s 2ms/step - loss: 312.7972 - mae: 7.5872 - root_mean_squared_error: 17.6861\n",
      "Epoch 7/100\n",
      "6160/6160 [==============================] - 9s 1ms/step - loss: 292.4026 - mae: 7.3077 - root_mean_squared_error: 17.0998\n",
      "Epoch 8/100\n",
      "6160/6160 [==============================] - 9s 1ms/step - loss: 263.2337 - mae: 6.8830 - root_mean_squared_error: 16.2245\n",
      "Epoch 9/100\n",
      "6160/6160 [==============================] - 9s 1ms/step - loss: 244.8074 - mae: 6.6382 - root_mean_squared_error: 15.6463\n",
      "Epoch 10/100\n",
      "6160/6160 [==============================] - 9s 1ms/step - loss: 222.2033 - mae: 6.2699 - root_mean_squared_error: 14.9065: 0s - loss: 223.1092 - mae: 6.2826 - root_m\n",
      "Epoch 11/100\n",
      "6160/6160 [==============================] - 9s 1ms/step - loss: 203.0965 - mae: 5.9993 - root_mean_squared_error: 14.2512\n",
      "Epoch 12/100\n",
      "6160/6160 [==============================] - 9s 1ms/step - loss: 191.9607 - mae: 5.8103 - root_mean_squared_error: 13.8550: 0s - loss: 191.5089 - mae: 5.8010 - root_mean_squared_error: 1 - ETA: 0s - loss: 192.2996 - mae: 5.8132 - root_mean_squared_er\n",
      "Epoch 13/100\n",
      "6160/6160 [==============================] - 9s 2ms/step - loss: 179.8606 - mae: 5.6234 - root_mean_squared_error: 13.4112: 2s - loss: 179.0194 - mae: 5 - E\n",
      "Epoch 14/100\n",
      "6160/6160 [==============================] - 14s 2ms/step - loss: 174.7091 - mae: 5.5609 - root_mean_squared_error: 13.2178\n",
      "Epoch 15/100\n",
      "6160/6160 [==============================] - 11s 2ms/step - loss: 170.5586 - mae: 5.4800 - root_mean_squared_error: 13.0598\n",
      "Epoch 16/100\n",
      "6160/6160 [==============================] - 12s 2ms/step - loss: 168.9539 - mae: 5.4464 - root_mean_squared_error: 12.9982\n",
      "Epoch 17/100\n",
      "6160/6160 [==============================] - 12s 2ms/step - loss: 165.4859 - mae: 5.4057 - root_mean_squared_error: 12.8641\n",
      "Epoch 18/100\n",
      "6160/6160 [==============================] - 12s 2ms/step - loss: 160.8212 - mae: 5.3327 - root_mean_squared_error: 12.6815\n",
      "Epoch 19/100\n",
      "6160/6160 [==============================] - 11s 2ms/step - loss: 163.3155 - mae: 5.3722 - root_mean_squared_error: 12.7795\n",
      "Epoch 20/100\n",
      "6160/6160 [==============================] - 12s 2ms/step - loss: 157.6197 - mae: 5.2856 - root_mean_squared_error: 12.5547\n",
      "Epoch 21/100\n",
      "6160/6160 [==============================] - 12s 2ms/step - loss: 156.9302 - mae: 5.2849 - root_mean_squared_error: 12.5272\n",
      "Epoch 22/100\n",
      "6160/6160 [==============================] - 11s 2ms/step - loss: 159.0625 - mae: 5.3004 - root_mean_squared_error: 12.6120\n",
      "Epoch 23/100\n",
      "6160/6160 [==============================] - 13s 2ms/step - loss: 154.3304 - mae: 5.2290 - root_mean_squared_error: 12.4230\n",
      "Epoch 24/100\n",
      "6160/6160 [==============================] - 19s 3ms/step - loss: 154.7006 - mae: 5.2152 - root_mean_squared_error: 12.4379\n",
      "Epoch 25/100\n",
      "6160/6160 [==============================] - 13s 2ms/step - loss: 154.9596 - mae: 5.2282 - root_mean_squared_error: 12.4483\n",
      "Epoch 26/100\n",
      "6160/6160 [==============================] - 11s 2ms/step - loss: 147.2494 - mae: 5.0815 - root_mean_squared_error: 12.1346\n",
      "Epoch 27/100\n",
      "6160/6160 [==============================] - 13s 2ms/step - loss: 152.0258 - mae: 5.1752 - root_mean_squared_error: 12.3299\n",
      "Epoch 28/100\n",
      "6160/6160 [==============================] - 12s 2ms/step - loss: 151.9592 - mae: 5.1578 - root_mean_squared_error: 12.3272\n",
      "Epoch 29/100\n",
      "6160/6160 [==============================] - 11s 2ms/step - loss: 147.6575 - mae: 5.0804 - root_mean_squared_error: 12.1514\n",
      "Epoch 30/100\n",
      "6160/6160 [==============================] - 11s 2ms/step - loss: 146.6293 - mae: 5.0639 - root_mean_squared_error: 12.1091\n",
      "Epoch 31/100\n",
      "6160/6160 [==============================] - 12s 2ms/step - loss: 149.9240 - mae: 5.1259 - root_mean_squared_error: 12.2443\n",
      "Epoch 32/100\n",
      "6160/6160 [==============================] - 11s 2ms/step - loss: 146.4019 - mae: 5.0593 - root_mean_squared_error: 12.0997\n",
      "Epoch 33/100\n",
      "6160/6160 [==============================] - 12s 2ms/step - loss: 144.2696 - mae: 5.0312 - root_mean_squared_error: 12.0112\n",
      "Epoch 34/100\n",
      "6160/6160 [==============================] - 11s 2ms/step - loss: 143.5508 - mae: 4.9922 - root_mean_squared_error: 11.9813\n",
      "Epoch 35/100\n",
      "6160/6160 [==============================] - 11s 2ms/step - loss: 144.2494 - mae: 5.0164 - root_mean_squared_error: 12.0104 1s - loss: 144.1275 \n",
      "Epoch 36/100\n",
      "6160/6160 [==============================] - 10s 2ms/step - loss: 139.9419 - mae: 4.9414 - root_mean_squared_error: 11.8297\n",
      "Epoch 37/100\n",
      "6160/6160 [==============================] - 10s 2ms/step - loss: 143.5862 - mae: 5.0025 - root_mean_squared_error: 11.9827\n",
      "Epoch 38/100\n",
      "6160/6160 [==============================] - 11s 2ms/step - loss: 142.4152 - mae: 4.9942 - root_mean_squared_error: 11.9338 0s - loss: 142.3435 - mae: 4.9920 - root_mean_squared_error: 1\n",
      "Epoch 39/100\n",
      "6160/6160 [==============================] - 12s 2ms/step - loss: 139.7550 - mae: 4.9345 - root_mean_squared_error: 11.8218\n",
      "Epoch 40/100\n",
      "6160/6160 [==============================] - 12s 2ms/step - loss: 140.8963 - mae: 4.9416 - root_mean_squared_error: 11.8700 1s - loss: 142\n",
      "Epoch 41/100\n",
      "6160/6160 [==============================] - 10s 2ms/step - loss: 140.9589 - mae: 4.9564 - root_mean_squared_error: 11.8726 1s - loss: 139.0666 - ma\n",
      "Epoch 42/100\n",
      "6160/6160 [==============================] - 10s 2ms/step - loss: 137.3897 - mae: 4.8710 - root_mean_squared_error: 11.7213\n",
      "Epoch 43/100\n",
      "6160/6160 [==============================] - 11s 2ms/step - loss: 139.6133 - mae: 4.9100 - root_mean_squared_error: 11.8158\n",
      "Epoch 44/100\n",
      "6160/6160 [==============================] - 10s 2ms/step - loss: 139.2838 - mae: 4.8928 - root_mean_squared_error: 11.8019 0s - loss: 1\n",
      "Epoch 45/100\n",
      "6160/6160 [==============================] - 10s 2ms/step - loss: 134.4771 - mae: 4.8148 - root_mean_squared_error: 11.5964\n",
      "Epoch 46/100\n",
      "6160/6160 [==============================] - 10s 2ms/step - loss: 134.8975 - mae: 4.8266 - root_mean_squared_error: 11.6145\n",
      "Epoch 47/100\n",
      "6160/6160 [==============================] - 11s 2ms/step - loss: 135.6002 - mae: 4.8570 - root_mean_squared_error: 11.6448\n",
      "Epoch 48/100\n",
      "6160/6160 [==============================] - 10s 2ms/step - loss: 135.8402 - mae: 4.8262 - root_mean_squared_error: 11.6551\n",
      "Epoch 49/100\n",
      "6160/6160 [==============================] - 12s 2ms/step - loss: 133.6612 - mae: 4.8119 - root_mean_squared_error: 11.5612\n",
      "Epoch 50/100\n",
      "6160/6160 [==============================] - 10s 2ms/step - loss: 132.9666 - mae: 4.7829 - root_mean_squared_error: 11.5311 0s - loss: 133.0261 - mae: 4.7843 - root_mea\n",
      "Epoch 51/100\n",
      "6160/6160 [==============================] - 12s 2ms/step - loss: 134.7263 - mae: 4.8140 - root_mean_squared_error: 11.6072 0s - loss: 135.5518 - mae: 4.8334 - root\n",
      "Epoch 52/100\n",
      "6160/6160 [==============================] - 11s 2ms/step - loss: 133.1790 - mae: 4.7881 - root_mean_squared_error: 11.5403\n",
      "Epoch 53/100\n",
      "6160/6160 [==============================] - 13s 2ms/step - loss: 132.4406 - mae: 4.7833 - root_mean_squared_error: 11.5083\n",
      "Epoch 54/100\n",
      "6160/6160 [==============================] - 13s 2ms/step - loss: 132.7711 - mae: 4.7806 - root_mean_squared_error: 11.5226 0s - loss: 132.3691 - mae: 4.7686 - root_mean_squared_\n",
      "Epoch 55/100\n",
      "6160/6160 [==============================] - 11s 2ms/step - loss: 132.6906 - mae: 4.7661 - root_mean_squared_error: 11.5191\n",
      "Epoch 56/100\n"
     ]
    },
    {
     "name": "stdout",
     "output_type": "stream",
     "text": [
      "6160/6160 [==============================] - 12s 2ms/step - loss: 131.9631 - mae: 4.7476 - root_mean_squared_error: 11.4875 1s - loss: 131.6468 - mae: 4.7\n",
      "Epoch 57/100\n",
      "6160/6160 [==============================] - 12s 2ms/step - loss: 130.6452 - mae: 4.7363 - root_mean_squared_error: 11.4300\n",
      "Epoch 58/100\n",
      "6160/6160 [==============================] - 10s 2ms/step - loss: 131.4985 - mae: 4.7599 - root_mean_squared_error: 11.4673 0s - loss: 131.7068 - mae: 4.7653 - root_mean_squared_error: 11.47 - ETA: 0s - loss: 131.6584 - mae: 4.7638 - ro\n",
      "Epoch 59/100\n",
      "6160/6160 [==============================] - 10s 2ms/step - loss: 130.1663 - mae: 4.7236 - root_mean_squared_error: 11.4090 0s - loss: 129.4740 - mae: 4.7154 - root_mean_\n",
      "Epoch 60/100\n",
      "6160/6160 [==============================] - 11s 2ms/step - loss: 127.1773 - mae: 4.6620 - root_mean_squared_error: 11.2773 0s - loss: 126.9708 - mae: 4.6596 - root_mean_squared_\n",
      "Epoch 61/100\n",
      "6160/6160 [==============================] - 11s 2ms/step - loss: 130.0475 - mae: 4.7096 - root_mean_squared_error: 11.4038 0s - loss: 130.0600 - mae: 4.7076 - root\n",
      "Epoch 62/100\n",
      "6160/6160 [==============================] - 10s 2ms/step - loss: 127.4631 - mae: 4.6658 - root_mean_squared_error: 11.2900 0s - loss: 127.5345 - mae: 4.6627 - root_m\n",
      "Epoch 63/100\n",
      "6160/6160 [==============================] - 11s 2ms/step - loss: 127.6020 - mae: 4.6568 - root_mean_squared_error: 11.2961\n",
      "Epoch 64/100\n",
      "6160/6160 [==============================] - 11s 2ms/step - loss: 125.1774 - mae: 4.6242 - root_mean_squared_error: 11.1883\n",
      "Epoch 65/100\n",
      "6160/6160 [==============================] - 10s 2ms/step - loss: 124.8820 - mae: 4.5948 - root_mean_squared_error: 11.1751\n",
      "Epoch 66/100\n",
      "6160/6160 [==============================] - 9s 1ms/step - loss: 125.3257 - mae: 4.6167 - root_mean_squared_error: 11.1949\n",
      "Epoch 67/100\n",
      "6160/6160 [==============================] - 11s 2ms/step - loss: 123.9765 - mae: 4.5821 - root_mean_squared_error: 11.1345\n",
      "Epoch 68/100\n",
      "6160/6160 [==============================] - 11s 2ms/step - loss: 123.9359 - mae: 4.5763 - root_mean_squared_error: 11.1326\n",
      "Epoch 69/100\n",
      "6160/6160 [==============================] - 11s 2ms/step - loss: 123.2154 - mae: 4.5644 - root_mean_squared_error: 11.1002\n",
      "Epoch 70/100\n",
      "6160/6160 [==============================] - 11s 2ms/step - loss: 121.8663 - mae: 4.5329 - root_mean_squared_error: 11.0393\n",
      "Epoch 71/100\n",
      "6160/6160 [==============================] - 12s 2ms/step - loss: 121.8820 - mae: 4.5393 - root_mean_squared_error: 11.0400 1s - los - ETA: 0s - loss: 121.5485 - mae: 4.5353 - root_mean_squa\n",
      "Epoch 72/100\n",
      "6160/6160 [==============================] - 10s 2ms/step - loss: 120.3734 - mae: 4.5006 - root_mean_squared_error: 10.9715\n",
      "Epoch 73/100\n",
      "6160/6160 [==============================] - 10s 2ms/step - loss: 121.5694 - mae: 4.5179 - root_mean_squared_error: 11.0259\n",
      "Epoch 74/100\n",
      "6160/6160 [==============================] - 10s 2ms/step - loss: 118.7868 - mae: 4.4758 - root_mean_squared_error: 10.8989 1s - loss: 118\n",
      "Epoch 75/100\n",
      "6160/6160 [==============================] - 12s 2ms/step - loss: 118.4425 - mae: 4.4662 - root_mean_squared_error: 10.8831 2s - loss: 119.7441  - ETA: 1s - loss: 118.7\n",
      "Epoch 76/100\n",
      "6160/6160 [==============================] - 10s 2ms/step - loss: 119.6849 - mae: 4.4723 - root_mean_squared_error: 10.9401\n",
      "Epoch 77/100\n",
      "6160/6160 [==============================] - 11s 2ms/step - loss: 118.2670 - mae: 4.4564 - root_mean_squared_error: 10.8751\n",
      "Epoch 78/100\n",
      "6160/6160 [==============================] - 10s 2ms/step - loss: 117.9102 - mae: 4.4599 - root_mean_squared_error: 10.8586\n",
      "Epoch 79/100\n",
      "6160/6160 [==============================] - 12s 2ms/step - loss: 119.4891 - mae: 4.4798 - root_mean_squared_error: 10.9311\n",
      "Epoch 80/100\n",
      "6160/6160 [==============================] - 10s 2ms/step - loss: 116.5976 - mae: 4.4137 - root_mean_squared_error: 10.7980 1s - loss: 116.3013 - mae: 4 - ETA: 0s - loss: 116.5436 - mae: 4.4112 - root_mean_squa\n",
      "Epoch 81/100\n",
      "6160/6160 [==============================] - 10s 2ms/step - loss: 117.8149 - mae: 4.4350 - root_mean_squared_error: 10.8543\n",
      "Epoch 82/100\n",
      "6160/6160 [==============================] - 10s 2ms/step - loss: 117.8128 - mae: 4.4354 - root_mean_squared_error: 10.8542\n",
      "Epoch 83/100\n",
      "6160/6160 [==============================] - 10s 2ms/step - loss: 116.1864 - mae: 4.4102 - root_mean_squared_error: 10.7790\n",
      "Epoch 84/100\n",
      "6160/6160 [==============================] - 9s 1ms/step - loss: 116.0883 - mae: 4.3929 - root_mean_squared_error: 10.7744\n",
      "Epoch 85/100\n",
      "6160/6160 [==============================] - 10s 2ms/step - loss: 115.3354 - mae: 4.3785 - root_mean_squared_error: 10.7394\n",
      "Epoch 86/100\n",
      "6160/6160 [==============================] - 11s 2ms/step - loss: 115.1078 - mae: 4.3804 - root_mean_squared_error: 10.7288\n",
      "Epoch 87/100\n",
      "6160/6160 [==============================] - 11s 2ms/step - loss: 115.6509 - mae: 4.3730 - root_mean_squared_error: 10.7541 0s - loss: 115.7025 - mae: 4.3731 - root_mean_squared_error: 10.75\n",
      "Epoch 88/100\n",
      "6160/6160 [==============================] - 11s 2ms/step - loss: 114.5234 - mae: 4.3740 - root_mean_squared_error: 10.7016\n",
      "Epoch 89/100\n",
      "6160/6160 [==============================] - 10s 2ms/step - loss: 114.8072 - mae: 4.3713 - root_mean_squared_error: 10.7148\n",
      "Epoch 90/100\n",
      "6160/6160 [==============================] - 9s 2ms/step - loss: 113.6757 - mae: 4.3526 - root_mean_squared_error: 10.6619\n",
      "Epoch 91/100\n",
      "6160/6160 [==============================] - 10s 2ms/step - loss: 113.5022 - mae: 4.3259 - root_mean_squared_error: 10.6537\n",
      "Epoch 92/100\n",
      "6160/6160 [==============================] - 13s 2ms/step - loss: 113.2030 - mae: 4.3412 - root_mean_squared_error: 10.6397\n",
      "Epoch 93/100\n",
      "6160/6160 [==============================] - 11s 2ms/step - loss: 114.5600 - mae: 4.3563 - root_mean_squared_error: 10.7033A: 13s - loss: 119.6298 - mae: 4.4161 - root_mean_ - ETA: 11s - loss: 118.6957 - mae: 4.4280 - ro\n",
      "Epoch 94/100\n",
      "6160/6160 [==============================] - 10s 2ms/step - loss: 113.4968 - mae: 4.3402 - root_mean_squared_error: 10.6535 2s - loss: 111.9676 - mae: 4.311 - ETA: 1s - loss: 112.3\n",
      "Epoch 95/100\n",
      "6160/6160 [==============================] - 11s 2ms/step - loss: 113.6744 - mae: 4.3487 - root_mean_squared_error: 10.6618 \n",
      "Epoch 96/100\n",
      "6160/6160 [==============================] - 10s 2ms/step - loss: 114.2506 - mae: 4.3451 - root_mean_squared_error: 10.6888\n",
      "Epoch 97/100\n",
      "6160/6160 [==============================] - 9s 2ms/step - loss: 112.0852 - mae: 4.3095 - root_mean_squared_error: 10.5870\n",
      "Epoch 98/100\n",
      "6160/6160 [==============================] - 9s 2ms/step - loss: 113.0469 - mae: 4.3278 - root_mean_squared_error: 10.6323\n",
      "Epoch 99/100\n",
      "6160/6160 [==============================] - 9s 2ms/step - loss: 113.8454 - mae: 4.3310 - root_mean_squared_error: 10.6698\n",
      "Epoch 100/100\n",
      "6160/6160 [==============================] - 9s 2ms/step - loss: 111.3855 - mae: 4.2959 - root_mean_squared_error: 10.5539\n"
     ]
    }
   ],
   "source": [
    "#Compile and train\n",
    "model.compile(optimizer=Adam(lr=0.0001), \n",
    "              loss='mse',\n",
    "              metrics=['mae',keras.metrics.RootMeanSquaredError()])\n",
    "\n",
    "history = model.fit(input_arry, output_arry, epochs=100, batch_size=64)"
   ]
  },
  {
   "cell_type": "code",
   "execution_count": 168,
   "metadata": {},
   "outputs": [
    {
     "name": "stdout",
     "output_type": "stream",
     "text": [
      "Model: \"sequential\"\n",
      "_________________________________________________________________\n",
      "Layer (type)                 Output Shape              Param #   \n",
      "=================================================================\n",
      "dense (Dense)                (None, 300)               2100      \n",
      "_________________________________________________________________\n",
      "dense_1 (Dense)              (None, 200)               60200     \n",
      "_________________________________________________________________\n",
      "dense_2 (Dense)              (None, 100)               20100     \n",
      "_________________________________________________________________\n",
      "dense_3 (Dense)              (None, 50)                5050      \n",
      "_________________________________________________________________\n",
      "dense_4 (Dense)              (None, 25)                1275      \n",
      "_________________________________________________________________\n",
      "dense_5 (Dense)              (None, 1)                 26        \n",
      "=================================================================\n",
      "Total params: 88,751\n",
      "Trainable params: 88,751\n",
      "Non-trainable params: 0\n",
      "_________________________________________________________________\n"
     ]
    }
   ],
   "source": [
    "model.summary()"
   ]
  },
  {
   "cell_type": "code",
   "execution_count": 101,
   "metadata": {},
   "outputs": [
    {
     "data": {
      "image/png": "[encoded data removed]",
      "text/plain": [
       "<Figure size 432x288 with 1 Axes>"
      ]
     },
     "metadata": {},
     "output_type": "display_data"
    }
   ],
   "source": [
    "plt.plot(history.history['mae'])\n",
    "plt.plot(history.history['root_mean_squared_error'])\n",
    "plt.title('MAE and RMSE per epoch')\n",
    "plt.ylabel('Error')\n",
    "plt.xlabel('Epoch')\n",
    "plt.legend(['MAE', 'RMSE'], loc='middle')\n",
    "plt.savefig('error-v-epoch.png')\n",
    "plt.show()"
   ]
  },
  {
   "cell_type": "code",
   "execution_count": 18,
   "metadata": {},
   "outputs": [],
   "source": [
    "#mae: 4.2719\n",
    "#rmse 10.51"
   ]
  },
  {
   "cell_type": "code",
   "execution_count": 19,
   "metadata": {},
   "outputs": [],
   "source": [
    "#MAE of around 4 w/m2. Considering DHI values go from 0 - 400, 4 represents a 1% error value"
   ]
  },
  {
   "cell_type": "code",
   "execution_count": 102,
   "metadata": {},
   "outputs": [],
   "source": [
    "# Prediction with DNI included\n",
    "\n",
    "\n",
    "keras.backend.clear_session()\n",
    "tf.keras.backend.clear_session()\n",
    "\n",
    "keras.backend.clear_session()\n",
    "tf.keras.backend.clear_session()\n",
    "tf.compat.v1.reset_default_graph\n",
    "\n",
    "keras.backend.clear_session()\n",
    "tf.keras.backend.clear_session()"
   ]
  },
  {
   "cell_type": "code",
   "execution_count": 103,
   "metadata": {},
   "outputs": [],
   "source": [
    "model_dni = keras.Sequential()\n",
    "model_dni.add(layers.Dense(300, activation=\"relu\"))\n",
    "model_dni.add(layers.Dense(200, activation=\"relu\"))\n",
    "model_dni.add(layers.Dense(100, activation=\"relu\"))\n",
    "model_dni.add(layers.Dense(50, activation=\"relu\"))\n",
    "model_dni.add(layers.Dense(25, activation=\"relu\"))\n",
    "model_dni.add(layers.Dense(1, activation='relu'))"
   ]
  },
  {
   "cell_type": "code",
   "execution_count": 104,
   "metadata": {},
   "outputs": [
    {
     "name": "stdout",
     "output_type": "stream",
     "text": [
      "Epoch 1/100\n",
      "6160/6160 [==============================] - 9s 2ms/step - loss: 9529.4062 - mae: 49.0188 - root_mean_squared_error: 97.6187\n",
      "Epoch 2/100\n",
      "6160/6160 [==============================] - 9s 2ms/step - loss: 2861.3137 - mae: 25.7829 - root_mean_squared_error: 53.4912\n",
      "Epoch 3/100\n",
      "6160/6160 [==============================] - 9s 2ms/step - loss: 2433.6155 - mae: 23.4008 - root_mean_squared_error: 49.3317\n",
      "Epoch 4/100\n",
      "6160/6160 [==============================] - 9s 1ms/step - loss: 2124.7478 - mae: 21.7659 - root_mean_squared_error: 46.0950\n",
      "Epoch 5/100\n",
      "6160/6160 [==============================] - 9s 1ms/step - loss: 1865.5197 - mae: 20.3368 - root_mean_squared_error: 43.1917: 1s -\n",
      "Epoch 6/100\n",
      "6160/6160 [==============================] - 9s 1ms/step - loss: 1592.6884 - mae: 18.7421 - root_mean_squared_error: 39.9085\n",
      "Epoch 7/100\n",
      "6160/6160 [==============================] - 9s 1ms/step - loss: 1296.1600 - mae: 16.8822 - root_mean_squared_error: 36.0022\n",
      "Epoch 8/100\n",
      "6160/6160 [==============================] - 9s 1ms/step - loss: 996.2180 - mae: 14.7837 - root_mean_squared_error: 31.5629\n",
      "Epoch 9/100\n",
      "6160/6160 [==============================] - 9s 1ms/step - loss: 778.9993 - mae: 13.0857 - root_mean_squared_error: 27.9106\n",
      "Epoch 10/100\n",
      "6160/6160 [==============================] - 9s 1ms/step - loss: 713.4011 - mae: 12.4539 - root_mean_squared_error: 26.7096\n",
      "Epoch 11/100\n",
      "6160/6160 [==============================] - 9s 1ms/step - loss: 673.1339 - mae: 12.0620 - root_mean_squared_error: 25.9448A: 5s - loss: 664.4157 - mae: 12.0199 - ro\n",
      "Epoch 12/100\n",
      "6160/6160 [==============================] - 9s 1ms/step - loss: 640.1256 - mae: 11.7559 - root_mean_squared_error: 25.3007\n",
      "Epoch 13/100\n",
      "6160/6160 [==============================] - 9s 1ms/step - loss: 639.5390 - mae: 11.6984 - root_mean_squared_error: 25.2891\n",
      "Epoch 14/100\n",
      "6160/6160 [==============================] - 9s 1ms/step - loss: 611.5479 - mae: 11.4388 - root_mean_squared_error: 24.7295\n",
      "Epoch 15/100\n",
      "6160/6160 [==============================] - 9s 1ms/step - loss: 605.9249 - mae: 11.3442 - root_mean_squared_error: 24.6155A\n",
      "Epoch 16/100\n",
      "6160/6160 [==============================] - 9s 2ms/step - loss: 594.8214 - mae: 11.2070 - root_mean_squared_error: 24.3890\n",
      "Epoch 17/100\n",
      "6160/6160 [==============================] - 9s 1ms/step - loss: 590.8195 - mae: 11.2011 - root_mean_squared_error: 24.3068A: 1s - loss: 584.5526 - mae: 11.1455 - root_mean\n",
      "Epoch 18/100\n",
      "6160/6160 [==============================] - 9s 1ms/step - loss: 572.9796 - mae: 10.9984 - root_mean_squared_error: 23.9370\n",
      "Epoch 19/100\n",
      "6160/6160 [==============================] - 9s 1ms/step - loss: 558.0630 - mae: 10.8696 - root_mean_squared_error: 23.6234A: 2s - loss: 557.2150 - mae\n",
      "Epoch 20/100\n",
      "6160/6160 [==============================] - 9s 1ms/step - loss: 559.0411 - mae: 10.8675 - root_mean_squared_error: 23.6441\n",
      "Epoch 21/100\n",
      "6160/6160 [==============================] - 9s 1ms/step - loss: 561.0959 - mae: 10.8462 - root_mean_squared_error: 23.6875\n",
      "Epoch 22/100\n",
      "6160/6160 [==============================] - 9s 2ms/step - loss: 552.9545 - mae: 10.7541 - root_mean_squared_error: 23.5150\n",
      "Epoch 23/100\n",
      "6160/6160 [==============================] - 15s 2ms/step - loss: 542.6432 - mae: 10.6888 - root_mean_squared_error: 23.2947: 0s - loss: 543.4939 - mae: 10.7063 - root_mean\n",
      "Epoch 24/100\n",
      "6160/6160 [==============================] - 15s 2ms/step - loss: 540.5709 - mae: 10.6554 - root_mean_squared_error: 23.2502\n",
      "Epoch 25/100\n",
      "6160/6160 [==============================] - 12s 2ms/step - loss: 557.5766 - mae: 10.8270 - root_mean_squared_error: 23.6131: 8s - loss: 562.1246 - mae: 10.8351 - root_mean_squared_error: 23.709 - ETA: 8s - lo - ETA\n",
      "Epoch 26/100\n",
      "6160/6160 [==============================] - 12s 2ms/step - loss: 530.8529 - mae: 10.5160 - root_mean_squared_error: 23.0402\n",
      "Epoch 27/100\n",
      "6160/6160 [==============================] - 18s 3ms/step - loss: 526.1266 - mae: 10.4706 - root_mean_squared_error: 22.9375: 9s - loss: 528.0287 - mae: 10.5000 - ro\n",
      "Epoch 28/100\n",
      "6160/6160 [==============================] - 14s 2ms/step - loss: 528.0776 - mae: 10.4892 - root_mean_squared_error: 22.9799\n",
      "Epoch 29/100\n",
      "6160/6160 [==============================] - 11s 2ms/step - loss: 513.3091 - mae: 10.3485 - root_mean_squared_error: 22.6563\n",
      "Epoch 30/100\n",
      "6160/6160 [==============================] - 10s 2ms/step - loss: 527.3453 - mae: 10.4627 - root_mean_squared_error: 22.9640\n",
      "Epoch 31/100\n",
      "6160/6160 [==============================] - 10s 2ms/step - loss: 511.9346 - mae: 10.3178 - root_mean_squared_error: 22.6260\n",
      "Epoch 32/100\n",
      "6160/6160 [==============================] - 10s 2ms/step - loss: 508.4727 - mae: 10.2883 - root_mean_squared_error: 22.5493: \n",
      "Epoch 33/100\n",
      "6160/6160 [==============================] - 10s 2ms/step - loss: 502.9880 - mae: 10.2020 - root_mean_squared_error: 22.4274: 7s - loss: 511.5997 -  - ETA: 0s - loss: 505.5038 - mae: 10.2274 - root_mean_sq\n",
      "Epoch 34/100\n",
      "6160/6160 [==============================] - 9s 2ms/step - loss: 502.4905 - mae: 10.2157 - root_mean_squared_error: 22.4163A: 3s - loss: 501.6923 - mae:  - ETA: 0s - loss: 500.9402 - mae: 10.2106 - root_mean_sq\n",
      "Epoch 35/100\n",
      "6160/6160 [==============================] - 10s 2ms/step - loss: 498.1489 - mae: 10.1590 - root_mean_squared_error: 22.3192\n",
      "Epoch 36/100\n",
      "6160/6160 [==============================] - 10s 2ms/step - loss: 498.9307 - mae: 10.1824 - root_mean_squared_error: 22.3368\n",
      "Epoch 37/100\n",
      "6160/6160 [==============================] - 10s 2ms/step - loss: 499.8658 - mae: 10.1729 - root_mean_squared_error: 22.3577\n",
      "Epoch 38/100\n",
      "6160/6160 [==============================] - 10s 2ms/step - loss: 503.9407 - mae: 10.2247 - root_mean_squared_error: 22.4486\n",
      "Epoch 39/100\n",
      "6160/6160 [==============================] - 10s 2ms/step - loss: 490.7081 - mae: 10.0802 - root_mean_squared_error: 22.1519\n",
      "Epoch 40/100\n",
      "6160/6160 [==============================] - 9s 2ms/step - loss: 486.0206 - mae: 10.0292 - root_mean_squared_error: 22.0459A: 1s - loss: 486.6059 - mae: 10.0547 - root_\n",
      "Epoch 41/100\n",
      "6160/6160 [==============================] - 10s 2ms/step - loss: 499.1147 - mae: 10.1765 - root_mean_squared_error: 22.3409: 2s - loss:\n",
      "Epoch 42/100\n",
      "6160/6160 [==============================] - 11s 2ms/step - loss: 494.8697 - mae: 10.1117 - root_mean_squared_error: 22.2457\n",
      "Epoch 43/100\n",
      "6160/6160 [==============================] - 10s 2ms/step - loss: 484.3696 - mae: 10.0107 - root_mean_squared_error: 22.0084\n",
      "Epoch 44/100\n",
      "6160/6160 [==============================] - 10s 2ms/step - loss: 466.2708 - mae: 9.7976 - root_mean_squared_error: 21.5933\n",
      "Epoch 45/100\n",
      "6160/6160 [==============================] - 10s 2ms/step - loss: 476.3433 - mae: 9.9167 - root_mean_squared_error: 21.8253 1s - loss: 471.0804 - mae: 9.875 - ETA: 0s - loss: 475.9321 - mae: 9.9133 - root_mean_squared_error: 21. - ETA: 0s - loss: 476.7399 - mae: 9.9189 \n",
      "Epoch 46/100\n",
      "6160/6160 [==============================] - 11s 2ms/step - loss: 470.3488 - mae: 9.8668 - root_mean_squared_error: 21.6875\n",
      "Epoch 47/100\n",
      "6160/6160 [==============================] - 10s 2ms/step - loss: 476.2301 - mae: 9.9020 - root_mean_squared_error: 21.8227\n",
      "Epoch 48/100\n",
      "6160/6160 [==============================] - 10s 2ms/step - loss: 475.2742 - mae: 9.8908 - root_mean_squared_error: 21.8008\n",
      "Epoch 49/100\n",
      "6160/6160 [==============================] - 10s 2ms/step - loss: 465.4186 - mae: 9.7983 - root_mean_squared_error: 21.5736\n",
      "Epoch 50/100\n",
      "6160/6160 [==============================] - 10s 2ms/step - loss: 479.1547 - mae: 9.9243 - root_mean_squared_error: 21.8896\n",
      "Epoch 51/100\n",
      "6160/6160 [==============================] - 10s 2ms/step - loss: 462.8831 - mae: 9.7459 - root_mean_squared_error: 21.5147\n",
      "Epoch 52/100\n",
      "6160/6160 [==============================] - 10s 2ms/step - loss: 462.8835 - mae: 9.7464 - root_mean_squared_error: 21.5147 5s - loss:\n",
      "Epoch 53/100\n",
      "6160/6160 [==============================] - 10s 2ms/step - loss: 471.1370 - mae: 9.8334 - root_mean_squared_error: 21.7057 0s - loss: 472.8032 - mae:\n",
      "Epoch 54/100\n",
      "6160/6160 [==============================] - 10s 2ms/step - loss: 461.9884 - mae: 9.7371 - root_mean_squared_error: 21.4939\n",
      "Epoch 55/100\n"
     ]
    },
    {
     "name": "stdout",
     "output_type": "stream",
     "text": [
      "6160/6160 [==============================] - 9s 1ms/step - loss: 460.0359 - mae: 9.7115 - root_mean_squared_error: 21.4484\n",
      "Epoch 56/100\n",
      "6160/6160 [==============================] - 9s 1ms/step - loss: 455.6392 - mae: 9.6479 - root_mean_squared_error: 21.3457\n",
      "Epoch 57/100\n",
      "6160/6160 [==============================] - 9s 1ms/step - loss: 451.5148 - mae: 9.6181 - root_mean_squared_error: 21.2489: 1s - loss: 449.9117 - ma\n",
      "Epoch 58/100\n",
      "6160/6160 [==============================] - 9s 2ms/step - loss: 455.8871 - mae: 9.6610 - root_mean_squared_error: 21.3515\n",
      "Epoch 59/100\n",
      "6160/6160 [==============================] - 9s 2ms/step - loss: 451.0406 - mae: 9.6131 - root_mean_squared_error: 21.2377\n",
      "Epoch 60/100\n",
      "6160/6160 [==============================] - 9s 2ms/step - loss: 447.3058 - mae: 9.5531 - root_mean_squared_error: 21.1496: 0s - loss: 448.4530 - mae: 9.5630 - root_mean_square\n",
      "Epoch 61/100\n",
      "6160/6160 [==============================] - 10s 2ms/step - loss: 447.4164 - mae: 9.5676 - root_mean_squared_error: 21.1522 3s - loss: 442.184\n",
      "Epoch 62/100\n",
      "6160/6160 [==============================] - 11s 2ms/step - loss: 449.2356 - mae: 9.5992 - root_mean_squared_error: 21.1952\n",
      "Epoch 63/100\n",
      "6160/6160 [==============================] - 11s 2ms/step - loss: 447.4100 - mae: 9.5428 - root_mean_squared_error: 21.1521\n",
      "Epoch 64/100\n",
      "6160/6160 [==============================] - 10s 2ms/step - loss: 441.3284 - mae: 9.4965 - root_mean_squared_error: 21.0078\n",
      "Epoch 65/100\n",
      "6160/6160 [==============================] - 10s 2ms/step - loss: 438.3840 - mae: 9.4484 - root_mean_squared_error: 20.9376 5s - loss: 444.3674 - mae: 9.5201 - root_mean_sq - ETA: 5s - loss: 442.3891 - mae: 9.5024 - root_mean_squared_erro - ETA: \n",
      "Epoch 66/100\n",
      "6160/6160 [==============================] - 11s 2ms/step - loss: 444.1095 - mae: 9.5113 - root_mean_squared_error: 21.0739\n",
      "Epoch 67/100\n",
      "6160/6160 [==============================] - 10s 2ms/step - loss: 441.5146 - mae: 9.4872 - root_mean_squared_error: 21.0122\n",
      "Epoch 68/100\n",
      "6160/6160 [==============================] - 9s 2ms/step - loss: 444.9576 - mae: 9.5202 - root_mean_squared_error: 21.0940\n",
      "Epoch 69/100\n",
      "6160/6160 [==============================] - 9s 2ms/step - loss: 453.7552 - mae: 9.6227 - root_mean_squared_error: 21.3015\n",
      "Epoch 70/100\n",
      "6160/6160 [==============================] - 10s 2ms/step - loss: 442.9788 - mae: 9.4911 - root_mean_squared_error: 21.0471\n",
      "Epoch 71/100\n",
      "6160/6160 [==============================] - 9s 2ms/step - loss: 439.0236 - mae: 9.4409 - root_mean_squared_error: 20.9529: 1s - loss: 442.3371 -  - ETA: 0s - loss: 439.1139 - mae: 9.4403 - root_mean_squared_error:\n",
      "Epoch 72/100\n",
      "6160/6160 [==============================] - 10s 2ms/step - loss: 439.0179 - mae: 9.4473 - root_mean_squared_error: 20.9528\n",
      "Epoch 73/100\n",
      "6160/6160 [==============================] - 10s 2ms/step - loss: 439.3368 - mae: 9.4516 - root_mean_squared_error: 20.9604\n",
      "Epoch 74/100\n",
      "6160/6160 [==============================] - 10s 2ms/step - loss: 439.5672 - mae: 9.4460 - root_mean_squared_error: 20.9659\n",
      "Epoch 75/100\n",
      "6160/6160 [==============================] - 13s 2ms/step - loss: 438.7420 - mae: 9.4410 - root_mean_squared_error: 20.9462\n",
      "Epoch 76/100\n",
      "6160/6160 [==============================] - 10s 2ms/step - loss: 431.2198 - mae: 9.3534 - root_mean_squared_error: 20.7658\n",
      "Epoch 77/100\n",
      "6160/6160 [==============================] - 12s 2ms/step - loss: 431.8368 - mae: 9.3646 - root_mean_squared_error: 20.7807\n",
      "Epoch 78/100\n",
      "6160/6160 [==============================] - 13s 2ms/step - loss: 429.8522 - mae: 9.3370 - root_mean_squared_error: 20.7329\n",
      "Epoch 79/100\n",
      "6160/6160 [==============================] - 9s 1ms/step - loss: 435.0251 - mae: 9.4047 - root_mean_squared_error: 20.8573: 0s - loss: 434.4819 - mae: 9.401\n",
      "Epoch 80/100\n",
      "6160/6160 [==============================] - 9s 1ms/step - loss: 425.6935 - mae: 9.2994 - root_mean_squared_error: 20.6323: 1s - loss: 428.7341 - mae: 9.3469 - root_m - ETA: 1s - loss: 428.5\n",
      "Epoch 81/100\n",
      "6160/6160 [==============================] - 9s 1ms/step - loss: 430.3108 - mae: 9.3377 - root_mean_squared_error: 20.7439\n",
      "Epoch 82/100\n",
      "6160/6160 [==============================] - 9s 1ms/step - loss: 425.1190 - mae: 9.2623 - root_mean_squared_error: 20.6184: 1s - loss: 428.4\n",
      "Epoch 83/100\n",
      "6160/6160 [==============================] - 9s 1ms/step - loss: 425.4610 - mae: 9.2782 - root_mean_squared_error: 20.6267\n",
      "Epoch 84/100\n",
      "6160/6160 [==============================] - 9s 1ms/step - loss: 421.2116 - mae: 9.2147 - root_mean_squared_error: 20.5234\n",
      "Epoch 85/100\n",
      "6160/6160 [==============================] - 9s 1ms/step - loss: 422.7060 - mae: 9.2306 - root_mean_squared_error: 20.5598\n",
      "Epoch 86/100\n",
      "6160/6160 [==============================] - 9s 1ms/step - loss: 419.2908 - mae: 9.1904 - root_mean_squared_error: 20.4766\n",
      "Epoch 87/100\n",
      "6160/6160 [==============================] - 12s 2ms/step - loss: 422.2617 - mae: 9.2274 - root_mean_squared_error: 20.5490\n",
      "Epoch 88/100\n",
      "6160/6160 [==============================] - 13s 2ms/step - loss: 416.7957 - mae: 9.1609 - root_mean_squared_error: 20.4156 0s - loss: 416.4063 - mae: 9.1557 - root_mean_sq\n",
      "Epoch 89/100\n",
      "6160/6160 [==============================] - 13s 2ms/step - loss: 419.5353 - mae: 9.1916 - root_mean_squared_error: 20.4826\n",
      "Epoch 90/100\n",
      "6160/6160 [==============================] - 17s 3ms/step - loss: 417.4928 - mae: 9.1714 - root_mean_squared_error: 20.4326\n",
      "Epoch 91/100\n",
      "6160/6160 [==============================] - 18s 3ms/step - loss: 416.5030 - mae: 9.1632 - root_mean_squared_error: 20.4084 1s - loss: 417.5564 - mae: 9.1755 - ro\n",
      "Epoch 92/100\n",
      "6160/6160 [==============================] - 15s 2ms/step - loss: 423.8202 - mae: 9.2543 - root_mean_squared_error: 20.5869\n",
      "Epoch 93/100\n",
      "6160/6160 [==============================] - 17s 3ms/step - loss: 413.8411 - mae: 9.1095 - root_mean_squared_error: 20.3431\n",
      "Epoch 94/100\n",
      "6160/6160 [==============================] - 12s 2ms/step - loss: 418.8125 - mae: 9.1797 - root_mean_squared_error: 20.4649\n",
      "Epoch 95/100\n",
      "6160/6160 [==============================] - 13s 2ms/step - loss: 413.8310 - mae: 9.1298 - root_mean_squared_error: 20.3428\n",
      "Epoch 96/100\n",
      "6160/6160 [==============================] - 14s 2ms/step - loss: 410.1364 - mae: 9.0920 - root_mean_squared_error: 20.2518\n",
      "Epoch 97/100\n",
      "6160/6160 [==============================] - 17s 3ms/step - loss: 410.5172 - mae: 9.0912 - root_mean_squared_error: 20.2612 1s - l\n",
      "Epoch 98/100\n",
      "6160/6160 [==============================] - 17s 3ms/step - loss: 411.3690 - mae: 9.0836 - root_mean_squared_error: 20.2822\n",
      "Epoch 99/100\n",
      "6160/6160 [==============================] - 13s 2ms/step - loss: 406.0085 - mae: 9.0240 - root_mean_squared_error: 20.1497 1s - loss: 405.5868 - ma\n",
      "Epoch 100/100\n",
      "6160/6160 [==============================] - 11s 2ms/step - loss: 415.2852 - mae: 9.1309 - root_mean_squared_error: 20.3785\n"
     ]
    }
   ],
   "source": [
    "#Compile and train\n",
    "model_dni.compile(optimizer=Adam(lr=0.0001), \n",
    "              loss='mse',\n",
    "              metrics=['mae',keras.metrics.RootMeanSquaredError()])\n",
    "\n",
    "history_dni = model_dni.fit(input_arry, dni_arr, epochs=100, batch_size=64)"
   ]
  },
  {
   "cell_type": "code",
   "execution_count": 105,
   "metadata": {},
   "outputs": [
    {
     "data": {
      "image/png": "[encoded data removed]",
      "text/plain": [
       "<Figure size 432x288 with 1 Axes>"
      ]
     },
     "metadata": {},
     "output_type": "display_data"
    }
   ],
   "source": [
    "plt.plot(history.history['mae'])\n",
    "plt.plot(history.history['root_mean_squared_error'])\n",
    "plt.plot(history_dni.history['mae'])\n",
    "plt.plot(history_dni.history['root_mean_squared_error'])\n",
    "plt.title('MAE and RMSE per epoch')\n",
    "plt.ylabel('Error')\n",
    "plt.xlabel('Epoch')\n",
    "plt.legend(['MAE', 'RMSE','MAE-DNI', 'RMSE-DNI' ], loc='middle')\n",
    "plt.savefig('error-v-epoch.png')\n",
    "plt.show()"
   ]
  },
  {
   "cell_type": "markdown",
   "metadata": {},
   "source": [
    "## IV. Model Validation - Outer Banks"
   ]
  },
  {
   "cell_type": "code",
   "execution_count": 24,
   "metadata": {},
   "outputs": [
    {
     "data": {
      "text/html": [
       "<div>\n",
       "<style scoped>\n",
       "    .dataframe tbody tr th:only-of-type {\n",
       "        vertical-align: middle;\n",
       "    }\n",
       "\n",
       "    .dataframe tbody tr th {\n",
       "        vertical-align: top;\n",
       "    }\n",
       "\n",
       "    .dataframe thead th {\n",
       "        text-align: right;\n",
       "    }\n",
       "</style>\n",
       "<table border=\"1\" class=\"dataframe\">\n",
       "  <thead>\n",
       "    <tr style=\"text-align: right;\">\n",
       "      <th></th>\n",
       "      <th>Year</th>\n",
       "      <th>Month</th>\n",
       "      <th>Day</th>\n",
       "      <th>Hour</th>\n",
       "      <th>Minute</th>\n",
       "      <th>Temperature</th>\n",
       "      <th>Clearsky DHI</th>\n",
       "      <th>Clearsky DNI</th>\n",
       "      <th>Clearsky GHI</th>\n",
       "      <th>Cloud Type</th>\n",
       "      <th>...</th>\n",
       "      <th>GHI</th>\n",
       "      <th>Relative Humidity</th>\n",
       "      <th>Solar Zenith Angle</th>\n",
       "      <th>Surface Albedo</th>\n",
       "      <th>Pressure</th>\n",
       "      <th>Precipitable Water</th>\n",
       "      <th>Wind Direction</th>\n",
       "      <th>Wind Speed</th>\n",
       "      <th>timestamps</th>\n",
       "      <th>Cloud Cover</th>\n",
       "    </tr>\n",
       "  </thead>\n",
       "  <tbody>\n",
       "    <tr>\n",
       "      <th>0</th>\n",
       "      <td>2018</td>\n",
       "      <td>1</td>\n",
       "      <td>1</td>\n",
       "      <td>0</td>\n",
       "      <td>30</td>\n",
       "      <td>1.8</td>\n",
       "      <td>0</td>\n",
       "      <td>0</td>\n",
       "      <td>0</td>\n",
       "      <td>4</td>\n",
       "      <td>...</td>\n",
       "      <td>0</td>\n",
       "      <td>85.84</td>\n",
       "      <td>119.89</td>\n",
       "      <td>0.03</td>\n",
       "      <td>1026</td>\n",
       "      <td>1.2</td>\n",
       "      <td>350</td>\n",
       "      <td>8.6</td>\n",
       "      <td>1514782800</td>\n",
       "      <td>1.00</td>\n",
       "    </tr>\n",
       "    <tr>\n",
       "      <th>1</th>\n",
       "      <td>2018</td>\n",
       "      <td>1</td>\n",
       "      <td>1</td>\n",
       "      <td>1</td>\n",
       "      <td>30</td>\n",
       "      <td>1.6</td>\n",
       "      <td>0</td>\n",
       "      <td>0</td>\n",
       "      <td>0</td>\n",
       "      <td>4</td>\n",
       "      <td>...</td>\n",
       "      <td>0</td>\n",
       "      <td>87.76</td>\n",
       "      <td>132.05</td>\n",
       "      <td>0.03</td>\n",
       "      <td>1026</td>\n",
       "      <td>1.2</td>\n",
       "      <td>348</td>\n",
       "      <td>8.7</td>\n",
       "      <td>1514786400</td>\n",
       "      <td>0.94</td>\n",
       "    </tr>\n",
       "    <tr>\n",
       "      <th>2</th>\n",
       "      <td>2018</td>\n",
       "      <td>1</td>\n",
       "      <td>1</td>\n",
       "      <td>2</td>\n",
       "      <td>30</td>\n",
       "      <td>1.5</td>\n",
       "      <td>0</td>\n",
       "      <td>0</td>\n",
       "      <td>0</td>\n",
       "      <td>4</td>\n",
       "      <td>...</td>\n",
       "      <td>0</td>\n",
       "      <td>88.35</td>\n",
       "      <td>144.19</td>\n",
       "      <td>0.03</td>\n",
       "      <td>1026</td>\n",
       "      <td>1.1</td>\n",
       "      <td>346</td>\n",
       "      <td>8.7</td>\n",
       "      <td>1514790000</td>\n",
       "      <td>1.00</td>\n",
       "    </tr>\n",
       "    <tr>\n",
       "      <th>3</th>\n",
       "      <td>2018</td>\n",
       "      <td>1</td>\n",
       "      <td>1</td>\n",
       "      <td>3</td>\n",
       "      <td>30</td>\n",
       "      <td>1.4</td>\n",
       "      <td>0</td>\n",
       "      <td>0</td>\n",
       "      <td>0</td>\n",
       "      <td>4</td>\n",
       "      <td>...</td>\n",
       "      <td>0</td>\n",
       "      <td>89.16</td>\n",
       "      <td>155.85</td>\n",
       "      <td>0.03</td>\n",
       "      <td>1026</td>\n",
       "      <td>1.1</td>\n",
       "      <td>346</td>\n",
       "      <td>8.7</td>\n",
       "      <td>1514793600</td>\n",
       "      <td>1.00</td>\n",
       "    </tr>\n",
       "    <tr>\n",
       "      <th>4</th>\n",
       "      <td>2018</td>\n",
       "      <td>1</td>\n",
       "      <td>1</td>\n",
       "      <td>4</td>\n",
       "      <td>30</td>\n",
       "      <td>1.4</td>\n",
       "      <td>0</td>\n",
       "      <td>0</td>\n",
       "      <td>0</td>\n",
       "      <td>4</td>\n",
       "      <td>...</td>\n",
       "      <td>0</td>\n",
       "      <td>89.52</td>\n",
       "      <td>165.32</td>\n",
       "      <td>0.03</td>\n",
       "      <td>1026</td>\n",
       "      <td>1.1</td>\n",
       "      <td>347</td>\n",
       "      <td>8.9</td>\n",
       "      <td>1514797200</td>\n",
       "      <td>1.00</td>\n",
       "    </tr>\n",
       "  </tbody>\n",
       "</table>\n",
       "<p>5 rows × 24 columns</p>\n",
       "</div>"
      ],
      "text/plain": [
       "   Year  Month  Day  Hour  Minute  Temperature  Clearsky DHI  Clearsky DNI  \\\n",
       "0  2018      1    1     0      30          1.8             0             0   \n",
       "1  2018      1    1     1      30          1.6             0             0   \n",
       "2  2018      1    1     2      30          1.5             0             0   \n",
       "3  2018      1    1     3      30          1.4             0             0   \n",
       "4  2018      1    1     4      30          1.4             0             0   \n",
       "\n",
       "   Clearsky GHI  Cloud Type  ...  GHI  Relative Humidity  Solar Zenith Angle  \\\n",
       "0             0           4  ...    0              85.84              119.89   \n",
       "1             0           4  ...    0              87.76              132.05   \n",
       "2             0           4  ...    0              88.35              144.19   \n",
       "3             0           4  ...    0              89.16              155.85   \n",
       "4             0           4  ...    0              89.52              165.32   \n",
       "\n",
       "   Surface Albedo  Pressure  Precipitable Water  Wind Direction  Wind Speed  \\\n",
       "0            0.03      1026                 1.2             350         8.6   \n",
       "1            0.03      1026                 1.2             348         8.7   \n",
       "2            0.03      1026                 1.1             346         8.7   \n",
       "3            0.03      1026                 1.1             346         8.7   \n",
       "4            0.03      1026                 1.1             347         8.9   \n",
       "\n",
       "   timestamps  Cloud Cover  \n",
       "0  1514782800         1.00  \n",
       "1  1514786400         0.94  \n",
       "2  1514790000         1.00  \n",
       "3  1514793600         1.00  \n",
       "4  1514797200         1.00  \n",
       "\n",
       "[5 rows x 24 columns]"
      ]
     },
     "execution_count": 24,
     "metadata": {},
     "output_type": "execute_result"
    }
   ],
   "source": [
    "validation_df = pd.read_csv(os.path.join(_Testing_Data_Dir, 'outer_banks', 'r_banks.csv'))\n",
    "validation_df.head()"
   ]
  },
  {
   "cell_type": "code",
   "execution_count": 25,
   "metadata": {},
   "outputs": [],
   "source": [
    "input_size = 6\n",
    "val_input_arry = np.array([], dtype=np.float64).reshape(0,input_size)\n",
    "val_output_arry = np.array([], dtype=np.float64)\n",
    "val_dni_arr = np.array([], dtype=np.float64)\n",
    "val_input_arry, val_output_arry, val_dni_arr = combine_training_arrays(validation_df, val_input_arry, val_output_arry, val_dni_arr)"
   ]
  },
  {
   "cell_type": "code",
   "execution_count": 26,
   "metadata": {},
   "outputs": [],
   "source": [
    "#keras model.evaluate reveals a mae of 6.9433 w/m2 in the outer banks test"
   ]
  },
  {
   "cell_type": "code",
   "execution_count": 55,
   "metadata": {},
   "outputs": [
    {
     "name": "stdout",
     "output_type": "stream",
     "text": [
      "274/274 [==============================] - 0s 783us/step - loss: 269.0166 - mean_absolute_error: 7.1228 - root_mean_squared_error: 16.4017\n"
     ]
    }
   ],
   "source": [
    "score = model.evaluate(val_input_arry, val_output_arry, verbose=1)"
   ]
  },
  {
   "cell_type": "code",
   "execution_count": 56,
   "metadata": {},
   "outputs": [],
   "source": [
    "preds = model.predict(val_input_arry)"
   ]
  },
  {
   "cell_type": "code",
   "execution_count": 57,
   "metadata": {},
   "outputs": [],
   "source": [
    "#Mape too high because of 0 values"
   ]
  },
  {
   "cell_type": "code",
   "execution_count": 58,
   "metadata": {},
   "outputs": [],
   "source": [
    "#Compare random induvidual resutls!!!!!"
   ]
  },
  {
   "cell_type": "code",
   "execution_count": 59,
   "metadata": {},
   "outputs": [
    {
     "name": "stdout",
     "output_type": "stream",
     "text": [
      "index is  4521\n",
      "Actual  0.0   Predicted  [0.]\n"
     ]
    }
   ],
   "source": [
    "i = randint(0,8760)\n",
    "print(\"index is \",i)\n",
    "print(\"Actual \",val_output_arry[i],\" \",\"Predicted \", preds[i])"
   ]
  },
  {
   "cell_type": "code",
   "execution_count": 32,
   "metadata": {},
   "outputs": [
    {
     "name": "stdout",
     "output_type": "stream",
     "text": [
      "274/274 [==============================] - 0s 770us/step - loss: 650.3802 - mae: 12.5543 - root_mean_squared_error: 25.5026\n"
     ]
    }
   ],
   "source": [
    "# Now lets see how it fares for DNI\n",
    "score_dni = model_dni.evaluate(val_input_arry, val_dni_arr, verbose=1)"
   ]
  },
  {
   "cell_type": "code",
   "execution_count": 33,
   "metadata": {},
   "outputs": [],
   "source": [
    "preds_dni = model_dni.predict(val_input_arry)"
   ]
  },
  {
   "cell_type": "code",
   "execution_count": 35,
   "metadata": {},
   "outputs": [
    {
     "name": "stdout",
     "output_type": "stream",
     "text": [
      "index is  3520\n",
      "Actual  359.0   Predicted  [373.17288]\n"
     ]
    }
   ],
   "source": [
    "i = randint(0,8760)\n",
    "print(\"index is \",i)\n",
    "print(\"Actual \",val_dni_arr[i],\" \",\"Predicted \", preds_dni[i])"
   ]
  },
  {
   "cell_type": "code",
   "execution_count": 65,
   "metadata": {},
   "outputs": [
    {
     "data": {
      "image/png": "[encoded data removed]",
      "text/plain": [
       "<Figure size 432x288 with 1 Axes>"
      ]
     },
     "metadata": {},
     "output_type": "display_data"
    }
   ],
   "source": [
    "plt.plot([float(i) for i in preds])\n",
    "plt.plot([float(i) for i in val_output_arry])\n",
    "\n",
    "plt.title('Hourly Fitted vs actual')\n",
    "plt.ylabel('Prediction')\n",
    "plt.xlabel('Hour')\n",
    "plt.legend(['Estimated-DHI','Actual-DHI'], loc='middle')\n",
    "plt.savefig('OBX-actual-pred.png')\n",
    "plt.show()\n"
   ]
  },
  {
   "cell_type": "code",
   "execution_count": 66,
   "metadata": {},
   "outputs": [
    {
     "name": "stderr",
     "output_type": "stream",
     "text": [
      "/usr/local/lib/python3.7/site-packages/matplotlib-2.2.4-py3.7-macosx-10.15-x86_64.egg/matplotlib/legend.py:640: UserWarning: Unrecognized location \"middle\". Falling back on \"best\"; valid locations are\n",
      "\tbest\n",
      "\tupper right\n",
      "\tupper left\n",
      "\tlower left\n",
      "\tlower right\n",
      "\tright\n",
      "\tcenter left\n",
      "\tcenter right\n",
      "\tlower center\n",
      "\tupper center\n",
      "\tcenter\n",
      "\n",
      "  % (loc, '\\n\\t'.join(self.codes)))\n"
     ]
    },
    {
     "data": {
      "image/png": "[encoded data removed]",
      "text/plain": [
       "<Figure size 432x288 with 1 Axes>"
      ]
     },
     "metadata": {},
     "output_type": "display_data"
    }
   ],
   "source": [
    "plt.plot([float(i) for i in preds_dni])\n",
    "plt.plot([float(i) for i in val_dni_arr])\n",
    "\n",
    "plt.title('Hourly Fitted vs actual')\n",
    "plt.ylabel('Prediction')\n",
    "plt.xlabel('Hour')\n",
    "plt.legend(['Estimated-DNI', 'Actual-DNI'], loc='middle')\n",
    "plt.savefig('OBX-actual-pred-dni.png')\n",
    "plt.show()\n"
   ]
  },
  {
   "cell_type": "code",
   "execution_count": 36,
   "metadata": {},
   "outputs": [],
   "source": [
    "# model.save('Neural_Net_National')"
   ]
  },
  {
   "cell_type": "code",
   "execution_count": 37,
   "metadata": {},
   "outputs": [
    {
     "name": "stdout",
     "output_type": "stream",
     "text": [
      "WARNING:tensorflow:From /usr/local/lib/python3.7/site-packages/tensorflow/python/training/tracking/tracking.py:111: Model.state_updates (from tensorflow.python.keras.engine.training) is deprecated and will be removed in a future version.\n",
      "Instructions for updating:\n",
      "This property should not be used in TensorFlow 2.0, as updates are applied automatically.\n",
      "WARNING:tensorflow:From /usr/local/lib/python3.7/site-packages/tensorflow/python/training/tracking/tracking.py:111: Layer.updates (from tensorflow.python.keras.engine.base_layer) is deprecated and will be removed in a future version.\n",
      "Instructions for updating:\n",
      "This property should not be used in TensorFlow 2.0, as updates are applied automatically.\n",
      "INFO:tensorflow:Assets written to: Neural_Nets/Neural_Net_National_dni/assets\n"
     ]
    }
   ],
   "source": [
    "model_dni.save('Neural_Nets/Neural_Net_National_dni')"
   ]
  },
  {
   "cell_type": "markdown",
   "metadata": {},
   "source": [
    "## V. Model Testing - Other Locations"
   ]
  },
  {
   "cell_type": "markdown",
   "metadata": {},
   "source": [
    "Lets take the global model and test in new locations. Lets test on the following locations for the year 2018.\n"
   ]
  },
  {
   "cell_type": "markdown",
   "metadata": {},
   "source": [
    "1. Outer Banks (35.5585, -75.4665)\n",
    "2. Miami Florida (25.7617, -80.1918)\n",
    "3. Boulder CO (40.035,-105.54)\n",
    "4. San Diego CA (32.7157, -117.1611)\n",
    "5. Lincoln Nebraska (40.848,-96.56)\n",
    "6. Quinault Washington (47.513,-123.81)\n",
    "7. Old Town Maine (44.928,-68.70)\n",
    "8. Murphey Idaho (43.204,-116.75)\n"
   ]
  },
  {
   "cell_type": "code",
   "execution_count": 38,
   "metadata": {},
   "outputs": [],
   "source": [
    "#Test General model"
   ]
  },
  {
   "cell_type": "code",
   "execution_count": 54,
   "metadata": {},
   "outputs": [],
   "source": [
    "National_model = keras.models.load_model('Neural_Nets/Neural_Net_National')"
   ]
  },
  {
   "cell_type": "code",
   "execution_count": 40,
   "metadata": {},
   "outputs": [],
   "source": [
    "model_dni = keras.models.load_model('Neural_Nets/Neural_Net_National_dni')"
   ]
  },
  {
   "cell_type": "code",
   "execution_count": 41,
   "metadata": {},
   "outputs": [
    {
     "name": "stdout",
     "output_type": "stream",
     "text": [
      "Model: \"sequential\"\n",
      "_________________________________________________________________\n",
      "Layer (type)                 Output Shape              Param #   \n",
      "=================================================================\n",
      "dense (Dense)                (None, 300)               2100      \n",
      "_________________________________________________________________\n",
      "dense_1 (Dense)              (None, 200)               60200     \n",
      "_________________________________________________________________\n",
      "dense_2 (Dense)              (None, 100)               20100     \n",
      "_________________________________________________________________\n",
      "dense_3 (Dense)              (None, 50)                5050      \n",
      "_________________________________________________________________\n",
      "dense_4 (Dense)              (None, 25)                1275      \n",
      "_________________________________________________________________\n",
      "dense_5 (Dense)              (None, 1)                 26        \n",
      "=================================================================\n",
      "Total params: 88,751\n",
      "Trainable params: 88,751\n",
      "Non-trainable params: 0\n",
      "_________________________________________________________________\n"
     ]
    }
   ],
   "source": [
    "National_model.summary()"
   ]
  },
  {
   "cell_type": "code",
   "execution_count": 46,
   "metadata": {},
   "outputs": [
    {
     "name": "stdout",
     "output_type": "stream",
     "text": [
      "/Users/tuomastalvitie/Documents/Diffuse:Direct/solarIrradiencePredictor/Testing_Data/Murphey_ID/psm_ID_Murphey2018.csv\n",
      "274/274 [==============================] - 0s 798us/step - loss: 256.5927 - mean_absolute_error: 6.7838 - root_mean_squared_error: 16.0185\n",
      "274/274 [==============================] - 0s 773us/step - loss: 939.1105 - mean_absolute_error: 15.0760 - root_mean_squared_error: 30.6449\n",
      "/Users/tuomastalvitie/Documents/Diffuse:Direct/solarIrradiencePredictor/Testing_Data/OldTown_ME/psm_ME_OldTown2018.csv\n",
      "274/274 [==============================] - 0s 1ms/step - loss: 229.4214 - mean_absolute_error: 6.8104 - root_mean_squared_error: 15.1467\n",
      "274/274 [==============================] - 0s 809us/step - loss: 557.3621 - mean_absolute_error: 10.7451 - root_mean_squared_error: 23.6085\n",
      "/Users/tuomastalvitie/Documents/Diffuse:Direct/solarIrradiencePredictor/Testing_Data/Quinault_WA/psm_WA_Quinault2018.csv\n",
      "274/274 [==============================] - 0s 787us/step - loss: 104.5538 - mean_absolute_error: 4.2643 - root_mean_squared_error: 10.2252\n",
      "274/274 [==============================] - 0s 876us/step - loss: 256.6161 - mean_absolute_error: 7.1516 - root_mean_squared_error: 16.0192\n",
      "/Users/tuomastalvitie/Documents/Diffuse:Direct/solarIrradiencePredictor/Testing_Data/Lincoln_NE/psm_NE_Lincoln2018.csv\n",
      "274/274 [==============================] - 0s 938us/step - loss: 161.9369 - mean_absolute_error: 5.2631 - root_mean_squared_error: 12.7254\n",
      "274/274 [==============================] - 0s 769us/step - loss: 461.1183 - mean_absolute_error: 9.5104 - root_mean_squared_error: 21.4737\n",
      "/Users/tuomastalvitie/Documents/Diffuse:Direct/solarIrradiencePredictor/Testing_Data/SanDiego_CA/psm_CA_SanDiego2018.csv\n",
      "274/274 [==============================] - 0s 828us/step - loss: 289.1909 - mean_absolute_error: 7.7851 - root_mean_squared_error: 17.0056\n",
      "274/274 [==============================] - 0s 846us/step - loss: 624.3943 - mean_absolute_error: 11.8969 - root_mean_squared_error: 24.9879\n",
      "/Users/tuomastalvitie/Documents/Diffuse:Direct/solarIrradiencePredictor/Testing_Data/Boulder_CO/psm_CO_Boulder2018.csv\n",
      "274/274 [==============================] - 0s 907us/step - loss: 1862.3188 - mean_absolute_error: 16.5438 - root_mean_squared_error: 43.1546\n",
      "274/274 [==============================] - 0s 968us/step - loss: 2644.2048 - mean_absolute_error: 28.0222 - root_mean_squared_error: 51.4218\n",
      "/Users/tuomastalvitie/Documents/Diffuse:Direct/solarIrradiencePredictor/Testing_Data/Miami_FL/psm_FL_Miami2018.csv\n",
      "274/274 [==============================] - 0s 883us/step - loss: 675.2378 - mean_absolute_error: 10.5119 - root_mean_squared_error: 25.9853\n",
      "274/274 [==============================] - 0s 847us/step - loss: 1217.5833 - mean_absolute_error: 16.9184 - root_mean_squared_error: 34.8939\n"
     ]
    }
   ],
   "source": [
    "test_files = ['Murphey_ID', 'OldTown_ME', 'Quinault_WA', 'Lincoln_NE', 'SanDiego_CA', 'Boulder_CO', 'Miami_FL', 'outer_banks']\n",
    "scores = {}\n",
    "scores_dni = {}\n",
    "pred_actuals = {}\n",
    "pred_actuals_dni = {}\n",
    "for directory in test_files:\n",
    "    for file in glob(_Testing_Data_Dir+'/'+directory+'/psm_*2018.csv'):\n",
    "        test_df = pd.read_csv(str(file))\n",
    "        input_size = 6\n",
    "        test_input_arry = np.array([], dtype=np.float64).reshape(0,input_size)\n",
    "        test_output_arry = np.array([], dtype=np.float64)\n",
    "        test_dni_arry = np.array([], dtype=np.float64)\n",
    "        test_input_arry, test_output_arry, test_dni_arry = combine_training_arrays(test_df, test_input_arry, test_output_arry, test_dni_arry)\n",
    "        print(file)\n",
    "        score = National_model.evaluate(test_input_arry, test_output_arry, verbose=1)\n",
    "        scores[directory] = score\n",
    "        score_dni = model_dni.evaluate(test_input_arry, test_dni_arry, verbose=1)\n",
    "        scores_dni[directory] = score_dni\n",
    "        preds = National_model.predict(test_input_arry)\n",
    "        pred_actuals[directory] = {'preds':list(preds), 'actuals': list(test_output_arry)}\n",
    "        preds_dni = model_dni.predict(test_input_arry)\n",
    "        pred_actuals_dni[directory] = {'preds':list(preds_dni), 'actuals': list(test_dni_arry)}\n",
    "        \n"
   ]
  },
  {
   "cell_type": "code",
   "execution_count": 47,
   "metadata": {},
   "outputs": [
    {
     "data": {
      "text/plain": [
       "dict_items([('Murphey_ID', [256.5926818847656, 6.783843994140625, 16.018510818481445]), ('OldTown_ME', [229.42138671875, 6.810364246368408, 15.146662712097168]), ('Quinault_WA', [104.5538101196289, 4.2642903327941895, 10.2251558303833]), ('Lincoln_NE', [161.93692016601562, 5.263095855712891, 12.725443840026855]), ('SanDiego_CA', [289.1909484863281, 7.785069942474365, 17.005615234375]), ('Boulder_CO', [1862.31884765625, 16.543825149536133, 43.15459060668945]), ('Miami_FL', [675.23779296875, 10.51191234588623, 25.98533821105957])])"
      ]
     },
     "execution_count": 47,
     "metadata": {},
     "output_type": "execute_result"
    }
   ],
   "source": [
    "scores.items()"
   ]
  },
  {
   "cell_type": "code",
   "execution_count": 48,
   "metadata": {},
   "outputs": [
    {
     "data": {
      "text/plain": [
       "dict_items([('Murphey_ID', [939.1104736328125, 15.076038360595703, 30.644908905029297]), ('OldTown_ME', [557.3621215820312, 10.745118141174316, 23.608518600463867]), ('Quinault_WA', [256.6160888671875, 7.151605129241943, 16.019241333007812]), ('Lincoln_NE', [461.11834716796875, 9.51038646697998, 21.47366714477539]), ('SanDiego_CA', [624.3943481445312, 11.896857261657715, 24.987884521484375]), ('Boulder_CO', [2644.204833984375, 28.022197723388672, 51.42183303833008]), ('Miami_FL', [1217.583251953125, 16.91837501525879, 34.89388656616211])])"
      ]
     },
     "execution_count": 48,
     "metadata": {},
     "output_type": "execute_result"
    }
   ],
   "source": [
    "scores_dni.items()"
   ]
  },
  {
   "cell_type": "code",
   "execution_count": 52,
   "metadata": {},
   "outputs": [
    {
     "name": "stderr",
     "output_type": "stream",
     "text": [
      "/usr/local/lib/python3.7/site-packages/matplotlib-2.2.4-py3.7-macosx-10.15-x86_64.egg/matplotlib/legend.py:640: UserWarning: Unrecognized location \"middle\". Falling back on \"best\"; valid locations are\n",
      "\tbest\n",
      "\tupper right\n",
      "\tupper left\n",
      "\tlower left\n",
      "\tlower right\n",
      "\tright\n",
      "\tcenter left\n",
      "\tcenter right\n",
      "\tlower center\n",
      "\tupper center\n",
      "\tcenter\n",
      "\n",
      "  % (loc, '\\n\\t'.join(self.codes)))\n"
     ]
    },
    {
     "data": {
      "image/png": "[encoded data removed]",
      "text/plain": [
       "<Figure size 432x288 with 1 Axes>"
      ]
     },
     "metadata": {},
     "output_type": "display_data"
    }
   ],
   "source": [
    "# Graphs\n",
    "legend_names = []\n",
    "for directory in pred_actuals.keys():\n",
    "    preds = ([float(i) for i in pred_actuals[directory]['preds']])\n",
    "    actuals =  ([float(i) for i in pred_actuals[directory]['actuals']])\n",
    "    plt.plot(preds)\n",
    "    legend_names.append(str(directory) +'-pred')\n",
    "    plt.plot(actuals)\n",
    "    legend_names.append(str(directory) +'actual')\n",
    "\n",
    "plt.title('Hourly Fitted vs actual')\n",
    "plt.ylabel('DHI Prediction')\n",
    "plt.xlabel('Hour')\n",
    "plt.legend(legend_names, loc='middle')\n",
    "plt.savefig('DHI-vs-Hour.png')\n",
    "plt.show()"
   ]
  },
  {
   "cell_type": "code",
   "execution_count": 53,
   "metadata": {},
   "outputs": [
    {
     "data": {
      "image/png": "[encoded data removed]",
      "text/plain": [
       "<Figure size 432x288 with 1 Axes>"
      ]
     },
     "metadata": {},
     "output_type": "display_data"
    }
   ],
   "source": [
    "# Graphs\n",
    "legend_names = []\n",
    "for directory in pred_actuals_dni.keys():\n",
    "    preds = ([float(i) for i in pred_actuals[directory]['preds']])\n",
    "    actuals =  ([float(i) for i in pred_actuals[directory]['actuals']])\n",
    "    plt.plot(preds)\n",
    "    legend_names.append(str(directory) +'-pred')\n",
    "    plt.plot(actuals)\n",
    "    legend_names.append(str(directory) +'actual')\n",
    "\n",
    "plt.title('Hourly Fitted vs actual')\n",
    "plt.ylabel('DNI Prediction')\n",
    "plt.xlabel('Hour')\n",
    "plt.legend(legend_names, loc='middle')\n",
    "plt.savefig('DNI-vs-Hour.png')\n",
    "plt.show()"
   ]
  },
  {
   "cell_type": "code",
   "execution_count": 25,
   "metadata": {},
   "outputs": [],
   "source": [
    "#Only Miami and Boulder_CO seem to be outliers"
   ]
  },
  {
   "cell_type": "markdown",
   "metadata": {},
   "source": [
    "## V.I Model Testing, Boulder Specific"
   ]
  },
  {
   "cell_type": "markdown",
   "metadata": {},
   "source": [
    "Lets see if we can train a model specific for Boulder, CO and see if we can get the mae down.\n",
    "Let's fetch more data from NRSDB and combine it with our readings from Darksky. Lets get data from 2008-2018."
   ]
  },
  {
   "cell_type": "code",
   "execution_count": 35,
   "metadata": {},
   "outputs": [
    {
     "name": "stdout",
     "output_type": "stream",
     "text": [
      "[]\n",
      "[]\n",
      "/Users/tuomastalvitie/Documents/Diffuse:Direct/solarIrradiencePredictor/Testing_Data/Boulder_CO/psm_CO_Boulder2018.csv\n",
      "/Users/tuomastalvitie/Documents/Diffuse:Direct/solarIrradiencePredictor/Testing_Data/Boulder_CO/psm_CO_Boulder2008.csv\n",
      "/Users/tuomastalvitie/Documents/Diffuse:Direct/solarIrradiencePredictor/Testing_Data/Boulder_CO/psm_CO_Boulder2009.csv\n",
      "/Users/tuomastalvitie/Documents/Diffuse:Direct/solarIrradiencePredictor/Testing_Data/Boulder_CO/psm_CO_Boulder2010.csv\n",
      "/Users/tuomastalvitie/Documents/Diffuse:Direct/solarIrradiencePredictor/Testing_Data/Boulder_CO/psm_CO_Boulder2011.csv\n",
      "/Users/tuomastalvitie/Documents/Diffuse:Direct/solarIrradiencePredictor/Testing_Data/Boulder_CO/psm_CO_Boulder2013.csv\n",
      "/Users/tuomastalvitie/Documents/Diffuse:Direct/solarIrradiencePredictor/Testing_Data/Boulder_CO/psm_CO_Boulder2012.csv\n",
      "/Users/tuomastalvitie/Documents/Diffuse:Direct/solarIrradiencePredictor/Testing_Data/Boulder_CO/psm_CO_Boulder2016.csv\n",
      "/Users/tuomastalvitie/Documents/Diffuse:Direct/solarIrradiencePredictor/Testing_Data/Boulder_CO/psm_CO_Boulder2017.csv\n",
      "/Users/tuomastalvitie/Documents/Diffuse:Direct/solarIrradiencePredictor/Testing_Data/Boulder_CO/psm_CO_Boulder2015.csv\n",
      "/Users/tuomastalvitie/Documents/Diffuse:Direct/solarIrradiencePredictor/Testing_Data/Boulder_CO/psm_CO_Boulder2014.csv\n"
     ]
    }
   ],
   "source": [
    "input_size = 6\n",
    "input_arry = np.array([], dtype=np.float64).reshape(0,input_size)\n",
    "output_arry = np.array([], dtype=np.float64)\n",
    "dni_arry = np.array([], dtype=np.float64)\n",
    "\n",
    "print(input_arry)\n",
    "print(output_arry)\n",
    "from glob import glob\n",
    "for path in glob(_Testing_Data_Dir+'/Boulder_CO'):\n",
    "    for file in glob(path+'/psm_'+'*'):\n",
    "        print(file)\n",
    "        df = pd.read_csv(file)\n",
    "        input_arry, output_arry, dni_arry = combine_training_arrays(df, input_arry, output_arry ,dni_arry)"
   ]
  },
  {
   "cell_type": "code",
   "execution_count": 53,
   "metadata": {},
   "outputs": [],
   "source": [
    "keras.backend.clear_session()\n",
    "tf.keras.backend.clear_session()"
   ]
  },
  {
   "cell_type": "code",
   "execution_count": 54,
   "metadata": {},
   "outputs": [
    {
     "data": {
      "text/plain": [
       "<function tensorflow.python.framework.ops.reset_default_graph()>"
      ]
     },
     "execution_count": 54,
     "metadata": {},
     "output_type": "execute_result"
    }
   ],
   "source": [
    "keras.backend.clear_session()\n",
    "tf.keras.backend.clear_session()\n",
    "tf.compat.v1.reset_default_graph"
   ]
  },
  {
   "cell_type": "code",
   "execution_count": 38,
   "metadata": {},
   "outputs": [],
   "source": [
    "model_Boulder = keras.Sequential()\n",
    "model_Boulder.add(keras.layers.Dense(300, activation=\"relu\"))\n",
    "model_Boulder.add(layers.Dense(200, activation=\"relu\"))\n",
    "model_Boulder.add(layers.Dense(100, activation=\"relu\"))\n",
    "model_Boulder.add(layers.Dense(50, activation=\"relu\"))\n",
    "model_Boulder.add(layers.Dense(25, activation=\"relu\"))\n",
    "model_Boulder.add(layers.Dense(1, activation='relu'))"
   ]
  },
  {
   "cell_type": "code",
   "execution_count": 39,
   "metadata": {},
   "outputs": [
    {
     "name": "stdout",
     "output_type": "stream",
     "text": [
      "Epoch 1/100\n",
      "3012/3012 [==============================] - 4s 1ms/step - loss: 2877.0916 - mae: 25.5355 - root_mean_squared_error: 53.6385\n",
      "Epoch 2/100\n",
      "3012/3012 [==============================] - 4s 1ms/step - loss: 702.4658 - mae: 11.3388 - root_mean_squared_error: 26.5041\n",
      "Epoch 3/100\n",
      "3012/3012 [==============================] - 5s 2ms/step - loss: 609.1577 - mae: 10.3836 - root_mean_squared_error: 24.6811A: 0s - loss: 609.8953 - mae: 10.3996 - root_mean_squared_error: 24.696\n",
      "Epoch 4/100\n",
      "3012/3012 [==============================] - 5s 2ms/step - loss: 601.2148 - mae: 10.1433 - root_mean_squared_error: 24.5197\n",
      "Epoch 5/100\n",
      "3012/3012 [==============================] - 5s 2ms/step - loss: 579.6346 - mae: 9.7413 - root_mean_squared_error: 24.0756\n",
      "Epoch 6/100\n",
      "3012/3012 [==============================] - 4s 1ms/step - loss: 546.2700 - mae: 9.3879 - root_mean_squared_error: 23.3724\n",
      "Epoch 7/100\n",
      "3012/3012 [==============================] - 6s 2ms/step - loss: 543.9135 - mae: 9.3714 - root_mean_squared_error: 23.3220\n",
      "Epoch 8/100\n",
      "3012/3012 [==============================] - 4s 1ms/step - loss: 536.4670 - mae: 9.2550 - root_mean_squared_error: 23.1618\n",
      "Epoch 9/100\n",
      "3012/3012 [==============================] - 6s 2ms/step - loss: 546.4626 - mae: 9.3199 - root_mean_squared_error: 23.3765\n",
      "Epoch 10/100\n",
      "3012/3012 [==============================] - 4s 1ms/step - loss: 519.8393 - mae: 9.0285 - root_mean_squared_error: 22.8000: 0s - loss: 521.4241 - mae: 9.0491 - root_mean_squared_error:\n",
      "Epoch 11/100\n",
      "3012/3012 [==============================] - 6s 2ms/step - loss: 516.1115 - mae: 8.9876 - root_mean_squared_error: 22.7181\n",
      "Epoch 12/100\n",
      "3012/3012 [==============================] - 9s 3ms/step - loss: 505.0688 - mae: 8.8529 - root_mean_squared_error: 22.4737\n",
      "Epoch 13/100\n",
      "3012/3012 [==============================] - 8s 3ms/step - loss: 498.1188 - mae: 8.7605 - root_mean_squared_error: 22.3186\n",
      "Epoch 14/100\n",
      "3012/3012 [==============================] - 5s 2ms/step - loss: 496.4182 - mae: 8.7621 - root_mean_squared_error: 22.2804\n",
      "Epoch 15/100\n",
      "3012/3012 [==============================] - 4s 1ms/step - loss: 500.7352 - mae: 8.7955 - root_mean_squared_error: 22.3771\n",
      "Epoch 16/100\n",
      "3012/3012 [==============================] - 4s 1ms/step - loss: 499.4591 - mae: 8.7359 - root_mean_squared_error: 22.3486\n",
      "Epoch 17/100\n",
      "3012/3012 [==============================] - 4s 1ms/step - loss: 486.5204 - mae: 8.6440 - root_mean_squared_error: 22.0572\n",
      "Epoch 18/100\n",
      "3012/3012 [==============================] - 4s 1ms/step - loss: 491.2159 - mae: 8.6442 - root_mean_squared_error: 22.1634\n",
      "Epoch 19/100\n",
      "3012/3012 [==============================] - 4s 1ms/step - loss: 483.5406 - mae: 8.6728 - root_mean_squared_error: 21.9896\n",
      "Epoch 20/100\n",
      "3012/3012 [==============================] - 4s 1ms/step - loss: 485.7330 - mae: 8.5713 - root_mean_squared_error: 22.0394\n",
      "Epoch 21/100\n",
      "3012/3012 [==============================] - 4s 1ms/step - loss: 475.2501 - mae: 8.4550 - root_mean_squared_error: 21.8002\n",
      "Epoch 22/100\n",
      "3012/3012 [==============================] - 4s 1ms/step - loss: 473.5088 - mae: 8.4377 - root_mean_squared_error: 21.7603: 3s - loss: 484\n",
      "Epoch 23/100\n",
      "3012/3012 [==============================] - 4s 1ms/step - loss: 473.8627 - mae: 8.4650 - root_mean_squared_error: 21.7684\n",
      "Epoch 24/100\n",
      "3012/3012 [==============================] - 4s 1ms/step - loss: 471.5439 - mae: 8.3815 - root_mean_squared_error: 21.7151\n",
      "Epoch 25/100\n",
      "3012/3012 [==============================] - 4s 1ms/step - loss: 468.9697 - mae: 8.3188 - root_mean_squared_error: 21.6557\n",
      "Epoch 26/100\n",
      "3012/3012 [==============================] - 4s 1ms/step - loss: 468.9990 - mae: 8.4258 - root_mean_squared_error: 21.6564: 3s - loss: 475.4723 - ma\n",
      "Epoch 27/100\n",
      "3012/3012 [==============================] - 4s 1ms/step - loss: 467.1933 - mae: 8.3236 - root_mean_squared_error: 21.6147: 0s - loss: 465.0727 - mae: 8.2891 - root_mean_squared_\n",
      "Epoch 28/100\n",
      "3012/3012 [==============================] - 4s 1ms/step - loss: 467.1798 - mae: 8.3114 - root_mean_squared_error: 21.6143\n",
      "Epoch 29/100\n",
      "3012/3012 [==============================] - 4s 1ms/step - loss: 463.9851 - mae: 8.3178 - root_mean_squared_error: 21.5403\n",
      "Epoch 30/100\n",
      "3012/3012 [==============================] - 4s 1ms/step - loss: 471.3863 - mae: 8.3525 - root_mean_squared_error: 21.7114: 1s - los\n",
      "Epoch 31/100\n",
      "3012/3012 [==============================] - 4s 1ms/step - loss: 464.0964 - mae: 8.3537 - root_mean_squared_error: 21.5429\n",
      "Epoch 32/100\n",
      "3012/3012 [==============================] - 4s 1ms/step - loss: 458.7533 - mae: 8.2715 - root_mean_squared_error: 21.4185\n",
      "Epoch 33/100\n",
      "3012/3012 [==============================] - 4s 1ms/step - loss: 454.6998 - mae: 8.1552 - root_mean_squared_error: 21.3237\n",
      "Epoch 34/100\n",
      "3012/3012 [==============================] - 4s 1ms/step - loss: 456.1515 - mae: 8.2247 - root_mean_squared_error: 21.3577\n",
      "Epoch 35/100\n",
      "3012/3012 [==============================] - 4s 1ms/step - loss: 451.9662 - mae: 8.1337 - root_mean_squared_error: 21.2595\n",
      "Epoch 36/100\n",
      "3012/3012 [==============================] - 4s 1ms/step - loss: 456.8525 - mae: 8.1742 - root_mean_squared_error: 21.3741\n",
      "Epoch 37/100\n",
      "3012/3012 [==============================] - 4s 1ms/step - loss: 457.0673 - mae: 8.2077 - root_mean_squared_error: 21.3791\n",
      "Epoch 38/100\n",
      "3012/3012 [==============================] - 4s 1ms/step - loss: 452.8080 - mae: 8.1821 - root_mean_squared_error: 21.2793: 0s - loss: 452.0220 - mae: 8.1718 - root_mean_squared_error: 21.\n",
      "Epoch 39/100\n",
      "3012/3012 [==============================] - 5s 2ms/step - loss: 450.1650 - mae: 8.1370 - root_mean_squared_error: 21.2171\n",
      "Epoch 40/100\n",
      "3012/3012 [==============================] - 4s 1ms/step - loss: 448.3389 - mae: 8.0499 - root_mean_squared_error: 21.1740\n",
      "Epoch 41/100\n",
      "3012/3012 [==============================] - 4s 1ms/step - loss: 450.3363 - mae: 8.1058 - root_mean_squared_error: 21.2211\n",
      "Epoch 42/100\n",
      "3012/3012 [==============================] - 4s 1ms/step - loss: 449.1070 - mae: 8.0745 - root_mean_squared_error: 21.1921\n",
      "Epoch 43/100\n",
      "3012/3012 [==============================] - 4s 1ms/step - loss: 445.5112 - mae: 8.0402 - root_mean_squared_error: 21.1071\n",
      "Epoch 44/100\n",
      "3012/3012 [==============================] - 4s 1ms/step - loss: 443.2002 - mae: 7.9831 - root_mean_squared_error: 21.0523\n",
      "Epoch 45/100\n",
      "3012/3012 [==============================] - 4s 1ms/step - loss: 446.1323 - mae: 8.0329 - root_mean_squared_error: 21.1218\n",
      "Epoch 46/100\n",
      "3012/3012 [==============================] - 4s 1ms/step - loss: 448.5466 - mae: 8.0815 - root_mean_squared_error: 21.1789\n",
      "Epoch 47/100\n",
      "3012/3012 [==============================] - 4s 1ms/step - loss: 443.1236 - mae: 7.9949 - root_mean_squared_error: 21.0505\n",
      "Epoch 48/100\n",
      "3012/3012 [==============================] - 5s 2ms/step - loss: 442.8403 - mae: 8.0040 - root_mean_squared_error: 21.0438\n",
      "Epoch 49/100\n",
      "3012/3012 [==============================] - 5s 2ms/step - loss: 438.0711 - mae: 7.9794 - root_mean_squared_error: 20.9301\n",
      "Epoch 50/100\n",
      "3012/3012 [==============================] - 5s 2ms/step - loss: 440.8987 - mae: 8.0173 - root_mean_squared_error: 20.9976\n",
      "Epoch 51/100\n",
      "3012/3012 [==============================] - 6s 2ms/step - loss: 438.4687 - mae: 7.9183 - root_mean_squared_error: 20.9396\n",
      "Epoch 52/100\n",
      "3012/3012 [==============================] - 5s 2ms/step - loss: 437.4593 - mae: 7.9422 - root_mean_squared_error: 20.9155\n",
      "Epoch 53/100\n",
      "3012/3012 [==============================] - 5s 2ms/step - loss: 434.9712 - mae: 7.8904 - root_mean_squared_error: 20.8560\n",
      "Epoch 54/100\n",
      "3012/3012 [==============================] - 6s 2ms/step - loss: 434.3372 - mae: 7.8961 - root_mean_squared_error: 20.8408\n",
      "Epoch 55/100\n",
      "3012/3012 [==============================] - 5s 2ms/step - loss: 434.1020 - mae: 7.8546 - root_mean_squared_error: 20.8351\n",
      "Epoch 56/100\n",
      "3012/3012 [==============================] - 5s 2ms/step - loss: 433.6989 - mae: 7.8907 - root_mean_squared_error: 20.8254\n",
      "Epoch 57/100\n",
      "3012/3012 [==============================] - 5s 2ms/step - loss: 431.3864 - mae: 7.8492 - root_mean_squared_error: 20.7698\n",
      "Epoch 58/100\n"
     ]
    },
    {
     "name": "stdout",
     "output_type": "stream",
     "text": [
      "3012/3012 [==============================] - 7s 2ms/step - loss: 431.9071 - mae: 7.8272 - root_mean_squared_error: 20.7824\n",
      "Epoch 59/100\n",
      "3012/3012 [==============================] - 5s 2ms/step - loss: 430.3178 - mae: 7.8230 - root_mean_squared_error: 20.7441\n",
      "Epoch 60/100\n",
      "3012/3012 [==============================] - 5s 2ms/step - loss: 424.1770 - mae: 7.7587 - root_mean_squared_error: 20.5956\n",
      "Epoch 61/100\n",
      "3012/3012 [==============================] - 5s 2ms/step - loss: 424.7537 - mae: 7.7656 - root_mean_squared_error: 20.6096\n",
      "Epoch 62/100\n",
      "3012/3012 [==============================] - 7s 2ms/step - loss: 425.8828 - mae: 7.7637 - root_mean_squared_error: 20.6369\n",
      "Epoch 63/100\n",
      "3012/3012 [==============================] - 5s 2ms/step - loss: 421.8170 - mae: 7.7149 - root_mean_squared_error: 20.5382\n",
      "Epoch 64/100\n",
      "3012/3012 [==============================] - 5s 2ms/step - loss: 421.1922 - mae: 7.6932 - root_mean_squared_error: 20.5230\n",
      "Epoch 65/100\n",
      "3012/3012 [==============================] - 4s 1ms/step - loss: 423.4917 - mae: 7.7649 - root_mean_squared_error: 20.5789\n",
      "Epoch 66/100\n",
      "3012/3012 [==============================] - 4s 1ms/step - loss: 430.0306 - mae: 7.7958 - root_mean_squared_error: 20.7372\n",
      "Epoch 67/100\n",
      "3012/3012 [==============================] - 4s 1ms/step - loss: 424.8602 - mae: 7.6974 - root_mean_squared_error: 20.6121\n",
      "Epoch 68/100\n",
      "3012/3012 [==============================] - 4s 1ms/step - loss: 419.5780 - mae: 7.6533 - root_mean_squared_error: 20.4836\n",
      "Epoch 69/100\n",
      "3012/3012 [==============================] - 4s 1ms/step - loss: 423.6875 - mae: 7.7178 - root_mean_squared_error: 20.5837\n",
      "Epoch 70/100\n",
      "3012/3012 [==============================] - 4s 1ms/step - loss: 411.9170 - mae: 7.5797 - root_mean_squared_error: 20.2957\n",
      "Epoch 71/100\n",
      "3012/3012 [==============================] - 5s 2ms/step - loss: 416.9352 - mae: 7.6000 - root_mean_squared_error: 20.4190\n",
      "Epoch 72/100\n",
      "3012/3012 [==============================] - 4s 1ms/step - loss: 414.2979 - mae: 7.5533 - root_mean_squared_error: 20.3543: 1s - loss: 398.7578 \n",
      "Epoch 73/100\n",
      "3012/3012 [==============================] - 4s 1ms/step - loss: 416.1005 - mae: 7.6079 - root_mean_squared_error: 20.3985\n",
      "Epoch 74/100\n",
      "3012/3012 [==============================] - 4s 1ms/step - loss: 411.9357 - mae: 7.5369 - root_mean_squared_error: 20.2962\n",
      "Epoch 75/100\n",
      "3012/3012 [==============================] - 4s 1ms/step - loss: 413.6200 - mae: 7.6275 - root_mean_squared_error: 20.3377\n",
      "Epoch 76/100\n",
      "3012/3012 [==============================] - 4s 1ms/step - loss: 412.7784 - mae: 7.5907 - root_mean_squared_error: 20.3169\n",
      "Epoch 77/100\n",
      "3012/3012 [==============================] - 5s 2ms/step - loss: 412.9873 - mae: 7.5424 - root_mean_squared_error: 20.3221: 1s - los\n",
      "Epoch 78/100\n",
      "3012/3012 [==============================] - 5s 1ms/step - loss: 409.9065 - mae: 7.5176 - root_mean_squared_error: 20.2461\n",
      "Epoch 79/100\n",
      "3012/3012 [==============================] - 4s 1ms/step - loss: 409.4922 - mae: 7.5075 - root_mean_squared_error: 20.2359\n",
      "Epoch 80/100\n",
      "3012/3012 [==============================] - 4s 1ms/step - loss: 412.0279 - mae: 7.5348 - root_mean_squared_error: 20.2985\n",
      "Epoch 81/100\n",
      "3012/3012 [==============================] - 4s 1ms/step - loss: 409.0555 - mae: 7.5307 - root_mean_squared_error: 20.2251\n",
      "Epoch 82/100\n",
      "3012/3012 [==============================] - 4s 1ms/step - loss: 405.4362 - mae: 7.4476 - root_mean_squared_error: 20.1354: 0s - loss: 405.7073 - mae: 7.4478 - root_mean_squared_error: 20.14\n",
      "Epoch 83/100\n",
      "3012/3012 [==============================] - 5s 1ms/step - loss: 406.5412 - mae: 7.4895 - root_mean_squared_error: 20.1629\n",
      "Epoch 84/100\n",
      "3012/3012 [==============================] - 5s 2ms/step - loss: 405.4978 - mae: 7.4757 - root_mean_squared_error: 20.1370\n",
      "Epoch 85/100\n",
      "3012/3012 [==============================] - 4s 1ms/step - loss: 410.7215 - mae: 7.4867 - root_mean_squared_error: 20.2663: 0s - loss: 412.7445 - mae: 7\n",
      "Epoch 86/100\n",
      "3012/3012 [==============================] - 4s 1ms/step - loss: 395.9564 - mae: 7.2883 - root_mean_squared_error: 19.8987\n",
      "Epoch 87/100\n",
      "3012/3012 [==============================] - 5s 2ms/step - loss: 403.3719 - mae: 7.4353 - root_mean_squared_error: 20.0841: 4s - loss: 394.3188 - \n",
      "Epoch 88/100\n",
      "3012/3012 [==============================] - 4s 1ms/step - loss: 399.6424 - mae: 7.3556 - root_mean_squared_error: 19.9911\n",
      "Epoch 89/100\n",
      "3012/3012 [==============================] - 4s 1ms/step - loss: 395.3971 - mae: 7.3239 - root_mean_squared_error: 19.8846\n",
      "Epoch 90/100\n",
      "3012/3012 [==============================] - 6s 2ms/step - loss: 400.9569 - mae: 7.3347 - root_mean_squared_error: 20.0239: 0s - loss: 403.5268 - mae: 7.3475 - root_mea\n",
      "Epoch 91/100\n",
      "3012/3012 [==============================] - 4s 1ms/step - loss: 391.0229 - mae: 7.2593 - root_mean_squared_error: 19.7743\n",
      "Epoch 92/100\n",
      "3012/3012 [==============================] - 4s 1ms/step - loss: 396.0735 - mae: 7.3170 - root_mean_squared_error: 19.9016\n",
      "Epoch 93/100\n",
      "3012/3012 [==============================] - 4s 1ms/step - loss: 396.8293 - mae: 7.3026 - root_mean_squared_error: 19.9206: 0s - loss: 397.7376 - mae: 7.3170 - root\n",
      "Epoch 94/100\n",
      "3012/3012 [==============================] - 4s 1ms/step - loss: 394.7733 - mae: 7.2771 - root_mean_squared_error: 19.8689\n",
      "Epoch 95/100\n",
      "3012/3012 [==============================] - 4s 1ms/step - loss: 392.5875 - mae: 7.2084 - root_mean_squared_error: 19.8138\n",
      "Epoch 96/100\n",
      "3012/3012 [==============================] - 4s 1ms/step - loss: 388.7122 - mae: 7.1757 - root_mean_squared_error: 19.7158\n",
      "Epoch 97/100\n",
      "3012/3012 [==============================] - 4s 1ms/step - loss: 383.7001 - mae: 7.1293 - root_mean_squared_error: 19.5883\n",
      "Epoch 98/100\n",
      "3012/3012 [==============================] - 4s 1ms/step - loss: 382.0702 - mae: 7.1194 - root_mean_squared_error: 19.5466: 0s - loss: 386.4940 - mae: 7.1539 - \n",
      "Epoch 99/100\n",
      "3012/3012 [==============================] - 4s 1ms/step - loss: 384.7579 - mae: 7.1876 - root_mean_squared_error: 19.6152\n",
      "Epoch 100/100\n",
      "3012/3012 [==============================] - 4s 1ms/step - loss: 382.7167 - mae: 7.0977 - root_mean_squared_error: 19.5631\n"
     ]
    }
   ],
   "source": [
    "#Compile and train\n",
    "model_Boulder.compile(optimizer=Adam(lr=0.0001), \n",
    "              loss='mse',\n",
    "              metrics=['mae',keras.metrics.RootMeanSquaredError()])\n",
    "\n",
    "history_Boulder = model_Boulder.fit(input_arry, output_arry, epochs=100, batch_size=32)"
   ]
  },
  {
   "cell_type": "code",
   "execution_count": 40,
   "metadata": {},
   "outputs": [],
   "source": [
    "#MAE falls to around 6.99"
   ]
  },
  {
   "cell_type": "code",
   "execution_count": 41,
   "metadata": {},
   "outputs": [
    {
     "data": {
      "image/png": "[encoded data removed]",
      "text/plain": [
       "<Figure size 432x288 with 1 Axes>"
      ]
     },
     "metadata": {},
     "output_type": "display_data"
    }
   ],
   "source": [
    "plt.plot(history_Boulder.history['mae'])\n",
    "plt.plot(history_Boulder.history['root_mean_squared_error'])\n",
    "plt.title('mae and rmse per epoch')\n",
    "plt.ylabel('Error')\n",
    "plt.xlabel('Epoch')\n",
    "plt.legend(['mae', 'rmse'], loc='upper left')\n",
    "plt.show()"
   ]
  },
  {
   "cell_type": "code",
   "execution_count": 55,
   "metadata": {},
   "outputs": [],
   "source": [
    "# And for DNI\n",
    "model_Boulder_dni = keras.Sequential()\n",
    "model_Boulder_dni.add(keras.layers.Dense(300, activation=\"relu\"))\n",
    "model_Boulder_dni.add(layers.Dense(200, activation=\"relu\"))\n",
    "model_Boulder_dni.add(layers.Dense(100, activation=\"relu\"))\n",
    "model_Boulder_dni.add(layers.Dense(50, activation=\"relu\"))\n",
    "model_Boulder_dni.add(layers.Dense(25, activation=\"relu\"))\n",
    "model_Boulder_dni.add(layers.Dense(1, activation='relu'))"
   ]
  },
  {
   "cell_type": "code",
   "execution_count": null,
   "metadata": {},
   "outputs": [],
   "source": []
  },
  {
   "cell_type": "code",
   "execution_count": 56,
   "metadata": {},
   "outputs": [
    {
     "name": "stdout",
     "output_type": "stream",
     "text": [
      "Epoch 1/100\n",
      "3012/3012 [==============================] - 5s 2ms/step - loss: 25947.3262 - mae: 89.8100 - root_mean_squared_error: 161.0817\n",
      "Epoch 2/100\n",
      "3012/3012 [==============================] - 4s 1ms/step - loss: 4233.6587 - mae: 33.2195 - root_mean_squared_error: 65.0666\n",
      "Epoch 3/100\n",
      "3012/3012 [==============================] - 6s 2ms/step - loss: 3369.9451 - mae: 29.2935 - root_mean_squared_error: 58.0512\n",
      "Epoch 4/100\n",
      "3012/3012 [==============================] - 5s 2ms/step - loss: 3020.7935 - mae: 27.5213 - root_mean_squared_error: 54.9617\n",
      "Epoch 5/100\n",
      "3012/3012 [==============================] - 5s 2ms/step - loss: 2698.4561 - mae: 25.8562 - root_mean_squared_error: 51.9467\n",
      "Epoch 6/100\n",
      "3012/3012 [==============================] - 4s 1ms/step - loss: 2462.8945 - mae: 24.4448 - root_mean_squared_error: 49.6276\n",
      "Epoch 7/100\n",
      "3012/3012 [==============================] - 4s 1ms/step - loss: 2358.8652 - mae: 23.6506 - root_mean_squared_error: 48.5681\n",
      "Epoch 8/100\n",
      "3012/3012 [==============================] - 4s 1ms/step - loss: 2220.2063 - mae: 22.6926 - root_mean_squared_error: 47.1191\n",
      "Epoch 9/100\n",
      "3012/3012 [==============================] - 6s 2ms/step - loss: 2132.6843 - mae: 22.0771 - root_mean_squared_error: 46.1810\n",
      "Epoch 10/100\n",
      "3012/3012 [==============================] - 4s 1ms/step - loss: 2110.5571 - mae: 21.8106 - root_mean_squared_error: 45.9408: 0s - loss: 2136.6016 - mae\n",
      "Epoch 11/100\n",
      "3012/3012 [==============================] - 4s 1ms/step - loss: 2075.9771 - mae: 21.5989 - root_mean_squared_error: 45.5629: 0s - loss: 2066.4460 - mae: 21.5605 - root_mean_squared_er - ETA: 0s - loss: 2069.6772 - mae: 21.5594 - root_mean_squared_\n",
      "Epoch 12/100\n",
      "3012/3012 [==============================] - 5s 2ms/step - loss: 2013.6254 - mae: 21.2056 - root_mean_squared_error: 44.8734: 1s - loss: 2051.3887 - mae: 21.4322 - root_mea - ETA: 1s - loss: 2040.7695 -\n",
      "Epoch 13/100\n",
      "3012/3012 [==============================] - 4s 1ms/step - loss: 2028.7344 - mae: 21.1915 - root_mean_squared_error: 45.0415\n",
      "Epoch 14/100\n",
      "3012/3012 [==============================] - 4s 1ms/step - loss: 1990.7424 - mae: 20.9493 - root_mean_squared_error: 44.6177\n",
      "Epoch 15/100\n",
      "3012/3012 [==============================] - 4s 1ms/step - loss: 1933.1182 - mae: 20.5742 - root_mean_squared_error: 43.9672\n",
      "Epoch 16/100\n",
      "3012/3012 [==============================] - 4s 1ms/step - loss: 1921.8600 - mae: 20.4304 - root_mean_squared_error: 43.8390: 1s - los\n",
      "Epoch 17/100\n",
      "3012/3012 [==============================] - 5s 2ms/step - loss: 1913.6267 - mae: 20.3658 - root_mean_squared_error: 43.7450\n",
      "Epoch 18/100\n",
      "3012/3012 [==============================] - 4s 1ms/step - loss: 1913.6514 - mae: 20.3745 - root_mean_squared_error: 43.7453\n",
      "Epoch 19/100\n",
      "3012/3012 [==============================] - 5s 2ms/step - loss: 1906.8167 - mae: 20.2649 - root_mean_squared_error: 43.6671\n",
      "Epoch 20/100\n",
      "3012/3012 [==============================] - 5s 2ms/step - loss: 1843.4546 - mae: 19.8166 - root_mean_squared_error: 42.9355\n",
      "Epoch 21/100\n",
      "3012/3012 [==============================] - 4s 1ms/step - loss: 1837.7496 - mae: 19.6685 - root_mean_squared_error: 42.8690\n",
      "Epoch 22/100\n",
      "3012/3012 [==============================] - 4s 1ms/step - loss: 1807.5874 - mae: 19.4034 - root_mean_squared_error: 42.5157\n",
      "Epoch 23/100\n",
      "3012/3012 [==============================] - 4s 1ms/step - loss: 1773.0984 - mae: 19.2113 - root_mean_squared_error: 42.1082\n",
      "Epoch 24/100\n",
      "3012/3012 [==============================] - 4s 1ms/step - loss: 1783.8252 - mae: 19.1931 - root_mean_squared_error: 42.2354\n",
      "Epoch 25/100\n",
      "3012/3012 [==============================] - 4s 1ms/step - loss: 1730.9371 - mae: 18.8747 - root_mean_squared_error: 41.6045: 0s - loss: 1734.7469 - mae: 18.8978 - root_mean_squared_\n",
      "Epoch 26/100\n",
      "3012/3012 [==============================] - 4s 1ms/step - loss: 1787.0518 - mae: 19.2076 - root_mean_squared_error: 42.2735\n",
      "Epoch 27/100\n",
      "3012/3012 [==============================] - 5s 2ms/step - loss: 1740.4387 - mae: 18.9354 - root_mean_squared_error: 41.7186\n",
      "Epoch 28/100\n",
      "3012/3012 [==============================] - 4s 1ms/step - loss: 1723.0708 - mae: 18.8128 - root_mean_squared_error: 41.5099\n",
      "Epoch 29/100\n",
      "3012/3012 [==============================] - 4s 1ms/step - loss: 1701.1428 - mae: 18.6469 - root_mean_squared_error: 41.2449\n",
      "Epoch 30/100\n",
      "3012/3012 [==============================] - 5s 2ms/step - loss: 1656.4185 - mae: 18.4038 - root_mean_squared_error: 40.6991\n",
      "Epoch 31/100\n",
      "3012/3012 [==============================] - 5s 2ms/step - loss: 1673.9032 - mae: 18.5148 - root_mean_squared_error: 40.9134\n",
      "Epoch 32/100\n",
      "3012/3012 [==============================] - 4s 1ms/step - loss: 1672.4615 - mae: 18.5031 - root_mean_squared_error: 40.8957\n",
      "Epoch 33/100\n",
      "3012/3012 [==============================] - 4s 1ms/step - loss: 1628.4130 - mae: 18.2503 - root_mean_squared_error: 40.3536\n",
      "Epoch 34/100\n",
      "3012/3012 [==============================] - 4s 1ms/step - loss: 1629.5129 - mae: 18.2551 - root_mean_squared_error: 40.3672\n",
      "Epoch 35/100\n",
      "3012/3012 [==============================] - 4s 1ms/step - loss: 1624.5217 - mae: 18.1600 - root_mean_squared_error: 40.3054\n",
      "Epoch 36/100\n",
      "3012/3012 [==============================] - 4s 1ms/step - loss: 1625.2983 - mae: 18.1141 - root_mean_squared_error: 40.3150\n",
      "Epoch 37/100\n",
      "3012/3012 [==============================] - 5s 2ms/step - loss: 1591.1639 - mae: 17.8954 - root_mean_squared_error: 39.8894: 3s - loss: 1627.0101 - mae: 17.9126 -  - ETA: 2s - loss: 1585.6514 - mae: 17.737\n",
      "Epoch 38/100\n",
      "3012/3012 [==============================] - 5s 2ms/step - loss: 1587.1304 - mae: 17.9193 - root_mean_squared_error: 39.8388\n",
      "Epoch 39/100\n",
      "3012/3012 [==============================] - 5s 2ms/step - loss: 1568.7975 - mae: 17.8355 - root_mean_squared_error: 39.6080\n",
      "Epoch 40/100\n",
      "3012/3012 [==============================] - 4s 1ms/step - loss: 1547.3710 - mae: 17.6072 - root_mean_squared_error: 39.3366: 1s - loss: 1552.9675 - mae: 17\n",
      "Epoch 41/100\n",
      "3012/3012 [==============================] - 6s 2ms/step - loss: 1546.1097 - mae: 17.6266 - root_mean_squared_error: 39.3206\n",
      "Epoch 42/100\n",
      "3012/3012 [==============================] - 5s 2ms/step - loss: 1508.6191 - mae: 17.4177 - root_mean_squared_error: 38.8409: 0s - loss: 1505.2142 - mae: 17.3889 - root_mean_squa\n",
      "Epoch 43/100\n",
      "3012/3012 [==============================] - 5s 2ms/step - loss: 1540.0850 - mae: 17.5898 - root_mean_squared_error: 39.2439\n",
      "Epoch 44/100\n",
      "3012/3012 [==============================] - 4s 1ms/step - loss: 1529.7539 - mae: 17.4803 - root_mean_squared_error: 39.1121\n",
      "Epoch 45/100\n",
      "3012/3012 [==============================] - 4s 1ms/step - loss: 1477.2386 - mae: 17.2076 - root_mean_squared_error: 38.4349\n",
      "Epoch 46/100\n",
      "3012/3012 [==============================] - 4s 1ms/step - loss: 1488.4642 - mae: 17.2450 - root_mean_squared_error: 38.5806: 0s - loss: 1492.3796 - mae: 17.2683 \n",
      "Epoch 47/100\n",
      "3012/3012 [==============================] - 4s 1ms/step - loss: 1468.5955 - mae: 17.1484 - root_mean_squared_error: 38.3223\n",
      "Epoch 48/100\n",
      "3012/3012 [==============================] - 5s 2ms/step - loss: 1448.6167 - mae: 17.0106 - root_mean_squared_error: 38.0607\n",
      "Epoch 49/100\n",
      "3012/3012 [==============================] - 5s 2ms/step - loss: 1431.0316 - mae: 16.8643 - root_mean_squared_error: 37.8290\n",
      "Epoch 50/100\n",
      "3012/3012 [==============================] - 4s 1ms/step - loss: 1435.4811 - mae: 16.9034 - root_mean_squared_error: 37.8877\n",
      "Epoch 51/100\n",
      "3012/3012 [==============================] - 4s 1ms/step - loss: 1429.1732 - mae: 16.8157 - root_mean_squared_error: 37.8044\n",
      "Epoch 52/100\n",
      "3012/3012 [==============================] - 4s 1ms/step - loss: 1434.0421 - mae: 16.8605 - root_mean_squared_error: 37.8687: 1s - loss: 1422.89\n",
      "Epoch 53/100\n",
      "3012/3012 [==============================] - 4s 1ms/step - loss: 1384.9900 - mae: 16.5131 - root_mean_squared_error: 37.2155\n",
      "Epoch 54/100\n",
      "3012/3012 [==============================] - 4s 1ms/step - loss: 1364.8818 - mae: 16.3748 - root_mean_squared_error: 36.9443: 2s - loss: 1321.3507 - mae - ETA: 1s\n",
      "Epoch 55/100\n"
     ]
    },
    {
     "name": "stdout",
     "output_type": "stream",
     "text": [
      "3012/3012 [==============================] - 4s 1ms/step - loss: 1377.0914 - mae: 16.4977 - root_mean_squared_error: 37.1092: 2s - loss: 1396.9694 - mae: 16\n",
      "Epoch 56/100\n",
      "3012/3012 [==============================] - 4s 1ms/step - loss: 1342.8401 - mae: 16.1875 - root_mean_squared_error: 36.6448\n",
      "Epoch 57/100\n",
      "3012/3012 [==============================] - 4s 1ms/step - loss: 1346.8761 - mae: 16.2503 - root_mean_squared_error: 36.6998\n",
      "Epoch 58/100\n",
      "3012/3012 [==============================] - 4s 1ms/step - loss: 1347.7358 - mae: 16.2661 - root_mean_squared_error: 36.7115\n",
      "Epoch 59/100\n",
      "3012/3012 [==============================] - 4s 1ms/step - loss: 1338.3065 - mae: 16.1892 - root_mean_squared_error: 36.5829\n",
      "Epoch 60/100\n",
      "3012/3012 [==============================] - 4s 1ms/step - loss: 1326.2108 - mae: 16.0783 - root_mean_squared_error: 36.4172\n",
      "Epoch 61/100\n",
      "3012/3012 [==============================] - 4s 1ms/step - loss: 1281.8542 - mae: 15.7775 - root_mean_squared_error: 35.8030\n",
      "Epoch 62/100\n",
      "3012/3012 [==============================] - 4s 1ms/step - loss: 1284.9010 - mae: 15.8259 - root_mean_squared_error: 35.8455\n",
      "Epoch 63/100\n",
      "3012/3012 [==============================] - 4s 1ms/step - loss: 1235.3823 - mae: 15.4519 - root_mean_squared_error: 35.1480\n",
      "Epoch 64/100\n",
      "3012/3012 [==============================] - 4s 1ms/step - loss: 1260.1962 - mae: 15.6052 - root_mean_squared_error: 35.4992\n",
      "Epoch 65/100\n",
      "3012/3012 [==============================] - 4s 1ms/step - loss: 1237.9576 - mae: 15.3912 - root_mean_squared_error: 35.1846\n",
      "Epoch 66/100\n",
      "3012/3012 [==============================] - 4s 1ms/step - loss: 1213.6095 - mae: 15.2397 - root_mean_squared_error: 34.8369\n",
      "Epoch 67/100\n",
      "3012/3012 [==============================] - 4s 1ms/step - loss: 1214.4796 - mae: 15.2992 - root_mean_squared_error: 34.8494\n",
      "Epoch 68/100\n",
      "3012/3012 [==============================] - 4s 1ms/step - loss: 1194.5222 - mae: 15.1166 - root_mean_squared_error: 34.5619\n",
      "Epoch 69/100\n",
      "3012/3012 [==============================] - 4s 1ms/step - loss: 1173.4229 - mae: 14.9589 - root_mean_squared_error: 34.2553\n",
      "Epoch 70/100\n",
      "3012/3012 [==============================] - 4s 1ms/step - loss: 1167.8854 - mae: 14.8850 - root_mean_squared_error: 34.1743\n",
      "Epoch 71/100\n",
      "3012/3012 [==============================] - 4s 1ms/step - loss: 1154.4100 - mae: 14.7542 - root_mean_squared_error: 33.9766\n",
      "Epoch 72/100\n",
      "3012/3012 [==============================] - 5s 2ms/step - loss: 1153.4061 - mae: 14.7412 - root_mean_squared_error: 33.9618\n",
      "Epoch 73/100\n",
      "3012/3012 [==============================] - 5s 2ms/step - loss: 1156.8718 - mae: 14.8256 - root_mean_squared_error: 34.0128: 2s - loss: 1170.9377 - mae: 14.8739  - ETA: 1s -\n",
      "Epoch 74/100\n",
      "3012/3012 [==============================] - 4s 1ms/step - loss: 1142.0243 - mae: 14.6968 - root_mean_squared_error: 33.7938: 0s - loss: 1131.8583 - mae: 14.6186 - ro\n",
      "Epoch 75/100\n",
      "3012/3012 [==============================] - 4s 1ms/step - loss: 1118.7277 - mae: 14.4798 - root_mean_squared_error: 33.4474\n",
      "Epoch 76/100\n",
      "3012/3012 [==============================] - 4s 1ms/step - loss: 1125.0350 - mae: 14.4509 - root_mean_squared_error: 33.5415\n",
      "Epoch 77/100\n",
      "3012/3012 [==============================] - 4s 1ms/step - loss: 1096.1298 - mae: 14.2988 - root_mean_squared_error: 33.1078\n",
      "Epoch 78/100\n",
      "3012/3012 [==============================] - 4s 1ms/step - loss: 1113.1403 - mae: 14.3986 - root_mean_squared_error: 33.3638\n",
      "Epoch 79/100\n",
      "3012/3012 [==============================] - 4s 1ms/step - loss: 1105.5052 - mae: 14.3439 - root_mean_squared_error: 33.2491\n",
      "Epoch 80/100\n",
      "3012/3012 [==============================] - 4s 1ms/step - loss: 1072.9741 - mae: 14.0271 - root_mean_squared_error: 32.7563\n",
      "Epoch 81/100\n",
      "3012/3012 [==============================] - 4s 1ms/step - loss: 1098.4060 - mae: 14.2443 - root_mean_squared_error: 33.1422\n",
      "Epoch 82/100\n",
      "3012/3012 [==============================] - 4s 1ms/step - loss: 1069.0121 - mae: 14.0206 - root_mean_squared_error: 32.6958: 1s - loss: 106\n",
      "Epoch 83/100\n",
      "3012/3012 [==============================] - 4s 1ms/step - loss: 1061.9070 - mae: 13.9587 - root_mean_squared_error: 32.5869: 1s - loss: 107\n",
      "Epoch 84/100\n",
      "3012/3012 [==============================] - 4s 1ms/step - loss: 1039.7192 - mae: 13.8026 - root_mean_squared_error: 32.2447\n",
      "Epoch 85/100\n",
      "3012/3012 [==============================] - 5s 2ms/step - loss: 1037.6296 - mae: 13.7604 - root_mean_squared_error: 32.2123: \n",
      "Epoch 86/100\n",
      "3012/3012 [==============================] - 5s 2ms/step - loss: 1049.4423 - mae: 13.8902 - root_mean_squared_error: 32.3951\n",
      "Epoch 87/100\n",
      "3012/3012 [==============================] - 4s 1ms/step - loss: 1017.1714 - mae: 13.5974 - root_mean_squared_error: 31.8931\n",
      "Epoch 88/100\n",
      "3012/3012 [==============================] - 4s 1ms/step - loss: 1016.3913 - mae: 13.5532 - root_mean_squared_error: 31.8809\n",
      "Epoch 89/100\n",
      "3012/3012 [==============================] - 4s 1ms/step - loss: 995.9191 - mae: 13.3989 - root_mean_squared_error: 31.5582TA: 1s - loss: 997.0596 - mae: 13.4345 - root_mean_sq - ETA: 0s - loss: 989.6720 - mae: 13.3361 - root_mean_squared_error\n",
      "Epoch 90/100\n",
      "3012/3012 [==============================] - 4s 1ms/step - loss: 1008.0516 - mae: 13.4947 - root_mean_squared_error: 31.7498\n",
      "Epoch 91/100\n",
      "3012/3012 [==============================] - 4s 1ms/step - loss: 995.5656 - mae: 13.4091 - root_mean_squared_error: 31.5526A: 1s - loss: 972.8979 - mae: 13.\n",
      "Epoch 92/100\n",
      "3012/3012 [==============================] - 4s 1ms/step - loss: 981.0503 - mae: 13.2688 - root_mean_squared_error: 31.3217\n",
      "Epoch 93/100\n",
      "3012/3012 [==============================] - 4s 1ms/step - loss: 989.4658 - mae: 13.3640 - root_mean_squared_error: 31.4558\n",
      "Epoch 94/100\n",
      "3012/3012 [==============================] - 4s 1ms/step - loss: 974.7287 - mae: 13.1975 - root_mean_squared_error: 31.2206\n",
      "Epoch 95/100\n",
      "3012/3012 [==============================] - 4s 1ms/step - loss: 955.0452 - mae: 13.0517 - root_mean_squared_error: 30.9038\n",
      "Epoch 96/100\n",
      "3012/3012 [==============================] - 4s 1ms/step - loss: 958.1776 - mae: 13.0037 - root_mean_squared_error: 30.9544\n",
      "Epoch 97/100\n",
      "3012/3012 [==============================] - 4s 1ms/step - loss: 962.2823 - mae: 13.0990 - root_mean_squared_error: 31.0207A: 2s - loss\n",
      "Epoch 98/100\n",
      "3012/3012 [==============================] - 4s 1ms/step - loss: 951.6418 - mae: 12.9891 - root_mean_squared_error: 30.8487\n",
      "Epoch 99/100\n",
      "3012/3012 [==============================] - 4s 1ms/step - loss: 955.4750 - mae: 12.9962 - root_mean_squared_error: 30.9108\n",
      "Epoch 100/100\n",
      "3012/3012 [==============================] - 4s 1ms/step - loss: 930.5453 - mae: 12.7675 - root_mean_squared_error: 30.5048\n"
     ]
    }
   ],
   "source": [
    "#Compile and train\n",
    "model_Boulder_dni.compile(optimizer=Adam(lr=0.0001), \n",
    "              loss='mse',\n",
    "              metrics=['mae',keras.metrics.RootMeanSquaredError()])\n",
    "\n",
    "history_Boulder_dni = model_Boulder_dni.fit(input_arry, dni_arry, epochs=100, batch_size=32)"
   ]
  },
  {
   "cell_type": "code",
   "execution_count": 58,
   "metadata": {},
   "outputs": [
    {
     "data": {
      "image/png": "[encoded data removed]",
      "text/plain": [
       "<Figure size 432x288 with 1 Axes>"
      ]
     },
     "metadata": {},
     "output_type": "display_data"
    }
   ],
   "source": [
    "plt.plot(history_Boulder.history['mae'])\n",
    "plt.plot(history_Boulder.history['root_mean_squared_error'])\n",
    "plt.plot(history_Boulder_dni.history['mae'])\n",
    "plt.plot(history_Boulder_dni.history['root_mean_squared_error'])\n",
    "plt.title('MAE and RMSE per epoch')\n",
    "plt.ylabel('Error')\n",
    "plt.xlabel('Epoch')\n",
    "plt.legend(['MAE', 'RMSE','MAE-DNI', 'RMSE-DNI' ], loc='middle')\n",
    "plt.savefig('error-v-epoch-Boulder.png')\n",
    "plt.show()"
   ]
  },
  {
   "cell_type": "markdown",
   "metadata": {},
   "source": [
    "## V.II Model Testing,  Boulder Specific Model on Boulder 2018 data"
   ]
  },
  {
   "cell_type": "markdown",
   "metadata": {},
   "source": [
    "Test on 2018 data only"
   ]
  },
  {
   "cell_type": "code",
   "execution_count": 47,
   "metadata": {},
   "outputs": [],
   "source": [
    "model_Boulder = keras.models.load_model('Neural_Nets/Neural_Net_Boulder_CO')\n",
    "model_Boulder_dni = keras.models.load_model('Neural_Nets/Neural_Net_Boulder_CO-dni')"
   ]
  },
  {
   "cell_type": "code",
   "execution_count": 59,
   "metadata": {},
   "outputs": [
    {
     "data": {
      "text/html": [
       "<div>\n",
       "<style scoped>\n",
       "    .dataframe tbody tr th:only-of-type {\n",
       "        vertical-align: middle;\n",
       "    }\n",
       "\n",
       "    .dataframe tbody tr th {\n",
       "        vertical-align: top;\n",
       "    }\n",
       "\n",
       "    .dataframe thead th {\n",
       "        text-align: right;\n",
       "    }\n",
       "</style>\n",
       "<table border=\"1\" class=\"dataframe\">\n",
       "  <thead>\n",
       "    <tr style=\"text-align: right;\">\n",
       "      <th></th>\n",
       "      <th>Year</th>\n",
       "      <th>Month</th>\n",
       "      <th>Day</th>\n",
       "      <th>Hour</th>\n",
       "      <th>Minute</th>\n",
       "      <th>Temperature</th>\n",
       "      <th>Clearsky DHI</th>\n",
       "      <th>Clearsky DNI</th>\n",
       "      <th>Clearsky GHI</th>\n",
       "      <th>Cloud Type</th>\n",
       "      <th>...</th>\n",
       "      <th>Solar Zenith Angle</th>\n",
       "      <th>Surface Albedo</th>\n",
       "      <th>Pressure</th>\n",
       "      <th>Precipitable Water</th>\n",
       "      <th>Wind Direction</th>\n",
       "      <th>Wind Speed</th>\n",
       "      <th>Global Horizontal UV Irradiance (280-400nm)</th>\n",
       "      <th>Global Horizontal UV Irradiance (285-385nm)</th>\n",
       "      <th>timestamps</th>\n",
       "      <th>Cloud Cover</th>\n",
       "    </tr>\n",
       "  </thead>\n",
       "  <tbody>\n",
       "    <tr>\n",
       "      <th>0</th>\n",
       "      <td>2018</td>\n",
       "      <td>1</td>\n",
       "      <td>1</td>\n",
       "      <td>0</td>\n",
       "      <td>30</td>\n",
       "      <td>-14.3</td>\n",
       "      <td>0</td>\n",
       "      <td>0</td>\n",
       "      <td>0</td>\n",
       "      <td>0</td>\n",
       "      <td>...</td>\n",
       "      <td>98.21</td>\n",
       "      <td>0.67</td>\n",
       "      <td>711</td>\n",
       "      <td>0.2</td>\n",
       "      <td>261</td>\n",
       "      <td>0.9</td>\n",
       "      <td>NaN</td>\n",
       "      <td>NaN</td>\n",
       "      <td>1514782800</td>\n",
       "      <td>0.00</td>\n",
       "    </tr>\n",
       "    <tr>\n",
       "      <th>1</th>\n",
       "      <td>2018</td>\n",
       "      <td>1</td>\n",
       "      <td>1</td>\n",
       "      <td>1</td>\n",
       "      <td>30</td>\n",
       "      <td>-15.6</td>\n",
       "      <td>0</td>\n",
       "      <td>0</td>\n",
       "      <td>0</td>\n",
       "      <td>0</td>\n",
       "      <td>...</td>\n",
       "      <td>109.06</td>\n",
       "      <td>0.67</td>\n",
       "      <td>711</td>\n",
       "      <td>0.2</td>\n",
       "      <td>254</td>\n",
       "      <td>1.2</td>\n",
       "      <td>NaN</td>\n",
       "      <td>NaN</td>\n",
       "      <td>1514786400</td>\n",
       "      <td>0.00</td>\n",
       "    </tr>\n",
       "    <tr>\n",
       "      <th>2</th>\n",
       "      <td>2018</td>\n",
       "      <td>1</td>\n",
       "      <td>1</td>\n",
       "      <td>2</td>\n",
       "      <td>30</td>\n",
       "      <td>-16.3</td>\n",
       "      <td>0</td>\n",
       "      <td>0</td>\n",
       "      <td>0</td>\n",
       "      <td>0</td>\n",
       "      <td>...</td>\n",
       "      <td>120.35</td>\n",
       "      <td>0.67</td>\n",
       "      <td>711</td>\n",
       "      <td>0.1</td>\n",
       "      <td>252</td>\n",
       "      <td>1.1</td>\n",
       "      <td>NaN</td>\n",
       "      <td>NaN</td>\n",
       "      <td>1514790000</td>\n",
       "      <td>0.64</td>\n",
       "    </tr>\n",
       "    <tr>\n",
       "      <th>3</th>\n",
       "      <td>2018</td>\n",
       "      <td>1</td>\n",
       "      <td>1</td>\n",
       "      <td>3</td>\n",
       "      <td>30</td>\n",
       "      <td>-16.7</td>\n",
       "      <td>0</td>\n",
       "      <td>0</td>\n",
       "      <td>0</td>\n",
       "      <td>0</td>\n",
       "      <td>...</td>\n",
       "      <td>131.81</td>\n",
       "      <td>0.67</td>\n",
       "      <td>711</td>\n",
       "      <td>0.1</td>\n",
       "      <td>256</td>\n",
       "      <td>1.0</td>\n",
       "      <td>NaN</td>\n",
       "      <td>NaN</td>\n",
       "      <td>1514793600</td>\n",
       "      <td>0.64</td>\n",
       "    </tr>\n",
       "    <tr>\n",
       "      <th>4</th>\n",
       "      <td>2018</td>\n",
       "      <td>1</td>\n",
       "      <td>1</td>\n",
       "      <td>4</td>\n",
       "      <td>30</td>\n",
       "      <td>-17.0</td>\n",
       "      <td>0</td>\n",
       "      <td>0</td>\n",
       "      <td>0</td>\n",
       "      <td>0</td>\n",
       "      <td>...</td>\n",
       "      <td>143.11</td>\n",
       "      <td>0.67</td>\n",
       "      <td>711</td>\n",
       "      <td>0.1</td>\n",
       "      <td>261</td>\n",
       "      <td>1.0</td>\n",
       "      <td>NaN</td>\n",
       "      <td>NaN</td>\n",
       "      <td>1514797200</td>\n",
       "      <td>0.64</td>\n",
       "    </tr>\n",
       "  </tbody>\n",
       "</table>\n",
       "<p>5 rows × 26 columns</p>\n",
       "</div>"
      ],
      "text/plain": [
       "   Year  Month  Day  Hour  Minute  Temperature  Clearsky DHI  Clearsky DNI  \\\n",
       "0  2018      1    1     0      30        -14.3             0             0   \n",
       "1  2018      1    1     1      30        -15.6             0             0   \n",
       "2  2018      1    1     2      30        -16.3             0             0   \n",
       "3  2018      1    1     3      30        -16.7             0             0   \n",
       "4  2018      1    1     4      30        -17.0             0             0   \n",
       "\n",
       "   Clearsky GHI  Cloud Type  ...  Solar Zenith Angle  Surface Albedo  \\\n",
       "0             0           0  ...               98.21            0.67   \n",
       "1             0           0  ...              109.06            0.67   \n",
       "2             0           0  ...              120.35            0.67   \n",
       "3             0           0  ...              131.81            0.67   \n",
       "4             0           0  ...              143.11            0.67   \n",
       "\n",
       "   Pressure  Precipitable Water  Wind Direction  Wind Speed  \\\n",
       "0       711                 0.2             261         0.9   \n",
       "1       711                 0.2             254         1.2   \n",
       "2       711                 0.1             252         1.1   \n",
       "3       711                 0.1             256         1.0   \n",
       "4       711                 0.1             261         1.0   \n",
       "\n",
       "   Global Horizontal UV Irradiance (280-400nm)  \\\n",
       "0                                          NaN   \n",
       "1                                          NaN   \n",
       "2                                          NaN   \n",
       "3                                          NaN   \n",
       "4                                          NaN   \n",
       "\n",
       "   Global Horizontal UV Irradiance (285-385nm)  timestamps  Cloud Cover  \n",
       "0                                          NaN  1514782800         0.00  \n",
       "1                                          NaN  1514786400         0.00  \n",
       "2                                          NaN  1514790000         0.64  \n",
       "3                                          NaN  1514793600         0.64  \n",
       "4                                          NaN  1514797200         0.64  \n",
       "\n",
       "[5 rows x 26 columns]"
      ]
     },
     "execution_count": 59,
     "metadata": {},
     "output_type": "execute_result"
    }
   ],
   "source": [
    "test_df = pd.read_csv(os.path.join(_Testing_Data_Dir, 'Boulder_CO', 'psm_CO_Boulder2018.csv'))\n",
    "test_df.head()"
   ]
  },
  {
   "cell_type": "code",
   "execution_count": 60,
   "metadata": {},
   "outputs": [],
   "source": [
    "input_size = 6\n",
    "test_input_arry = np.array([], dtype=np.float64).reshape(0,input_size)\n",
    "test_output_arry = np.array([], dtype=np.float64)\n",
    "test_dni_arry = np.array([], dtype=np.float64)\n",
    "\n",
    "test_input_arry, test_output_arry, test_dni_arry = combine_training_arrays(test_df, test_input_arry, test_output_arry, test_dni_arry)"
   ]
  },
  {
   "cell_type": "code",
   "execution_count": 61,
   "metadata": {},
   "outputs": [
    {
     "name": "stdout",
     "output_type": "stream",
     "text": [
      "274/274 [==============================] - 0s 932us/step - loss: 978.8859 - mean_absolute_error: 12.8149 - root_mean_squared_error: 31.2872\n"
     ]
    }
   ],
   "source": [
    "score = model_Boulder.evaluate(test_input_arry, test_output_arry, verbose=1)"
   ]
  },
  {
   "cell_type": "code",
   "execution_count": 62,
   "metadata": {},
   "outputs": [],
   "source": [
    "#12.8149 is better than 15"
   ]
  },
  {
   "cell_type": "code",
   "execution_count": 63,
   "metadata": {},
   "outputs": [
    {
     "name": "stdout",
     "output_type": "stream",
     "text": [
      "274/274 [==============================] - 0s 820us/step - loss: 1701.9760 - mae: 19.8515 - root_mean_squared_error: 41.2550\n"
     ]
    }
   ],
   "source": [
    "score_dni = model_Boulder_dni.evaluate(test_input_arry, test_dni_arry, verbose=1)"
   ]
  },
  {
   "cell_type": "code",
   "execution_count": null,
   "metadata": {},
   "outputs": [],
   "source": [
    "preds = model_Boulder_dni.predict()"
   ]
  },
  {
   "cell_type": "markdown",
   "metadata": {},
   "source": [
    "## V.III Model Testing Miami Specific\n",
    "Lets train on NRSDB + Darksky data from 08-18"
   ]
  },
  {
   "cell_type": "code",
   "execution_count": 64,
   "metadata": {},
   "outputs": [
    {
     "name": "stdout",
     "output_type": "stream",
     "text": [
      "[]\n",
      "[]\n",
      "/Users/tuomastalvitie/Documents/Diffuse:Direct/solarIrradiencePredictor/Testing_Data/Miami_FL/psm_FL_Miami2009.csv\n",
      "/Users/tuomastalvitie/Documents/Diffuse:Direct/solarIrradiencePredictor/Testing_Data/Miami_FL/psm_FL_Miami2008.csv\n",
      "/Users/tuomastalvitie/Documents/Diffuse:Direct/solarIrradiencePredictor/Testing_Data/Miami_FL/psm_FL_Miami2018.csv\n",
      "/Users/tuomastalvitie/Documents/Diffuse:Direct/solarIrradiencePredictor/Testing_Data/Miami_FL/psm_FL_Miami2017.csv\n",
      "/Users/tuomastalvitie/Documents/Diffuse:Direct/solarIrradiencePredictor/Testing_Data/Miami_FL/psm_FL_Miami2016.csv\n",
      "/Users/tuomastalvitie/Documents/Diffuse:Direct/solarIrradiencePredictor/Testing_Data/Miami_FL/psm_FL_Miami2014.csv\n",
      "/Users/tuomastalvitie/Documents/Diffuse:Direct/solarIrradiencePredictor/Testing_Data/Miami_FL/psm_FL_Miami2015.csv\n",
      "/Users/tuomastalvitie/Documents/Diffuse:Direct/solarIrradiencePredictor/Testing_Data/Miami_FL/psm_FL_Miami2011.csv\n",
      "/Users/tuomastalvitie/Documents/Diffuse:Direct/solarIrradiencePredictor/Testing_Data/Miami_FL/psm_FL_Miami2010.csv\n",
      "/Users/tuomastalvitie/Documents/Diffuse:Direct/solarIrradiencePredictor/Testing_Data/Miami_FL/psm_FL_Miami2012.csv\n",
      "/Users/tuomastalvitie/Documents/Diffuse:Direct/solarIrradiencePredictor/Testing_Data/Miami_FL/psm_FL_Miami2013.csv\n"
     ]
    }
   ],
   "source": [
    "input_size = 6\n",
    "input_arry = np.array([], dtype=np.float64).reshape(0,input_size)\n",
    "output_arry = np.array([], dtype=np.float64)\n",
    "dni_arry = np.array([], dtype=np.float64)\n",
    "\n",
    "print(input_arry)\n",
    "print(output_arry)\n",
    "from glob import glob\n",
    "for path in glob(_Testing_Data_Dir+'/Miami_FL'):\n",
    "    for file in glob(path+'/psm_'+'*'):\n",
    "        print(file)\n",
    "        df = pd.read_csv(file)\n",
    "        input_arry, output_arry, dni_arry = combine_training_arrays(df, input_arry, output_arry, dni_arry)"
   ]
  },
  {
   "cell_type": "code",
   "execution_count": 79,
   "metadata": {},
   "outputs": [
    {
     "data": {
      "text/plain": [
       "<function tensorflow.python.framework.ops.reset_default_graph()>"
      ]
     },
     "execution_count": 79,
     "metadata": {},
     "output_type": "execute_result"
    }
   ],
   "source": [
    "keras.backend.clear_session()\n",
    "tf.keras.backend.clear_session()\n",
    "tf.compat.v1.reset_default_graph"
   ]
  },
  {
   "cell_type": "code",
   "execution_count": 66,
   "metadata": {},
   "outputs": [],
   "source": [
    "model_Miami = keras.Sequential()\n",
    "model_Miami.add(keras.layers.Dense(300, activation=\"relu\"))\n",
    "model_Miami.add(layers.Dense(200, activation=\"relu\"))\n",
    "model_Miami.add(layers.Dense(100, activation=\"relu\"))\n",
    "model_Miami.add(layers.Dense(50, activation=\"relu\"))\n",
    "model_Miami.add(layers.Dense(25, activation=\"relu\"))\n",
    "model_Miami.add(layers.Dense(1, activation='relu'))"
   ]
  },
  {
   "cell_type": "code",
   "execution_count": 67,
   "metadata": {},
   "outputs": [
    {
     "name": "stdout",
     "output_type": "stream",
     "text": [
      "Epoch 1/100\n",
      "1506/1506 [==============================] - 2s 2ms/step - loss: 2821.8845 - mae: 28.0470 - root_mean_squared_error: 53.1214: 0s - loss: 3199.4131 - mae: 30.5490 - root_mean_squared_\n",
      "Epoch 2/100\n",
      "1506/1506 [==============================] - 2s 2ms/step - loss: 347.6064 - mae: 9.5146 - root_mean_squared_error: 18.6442\n",
      "Epoch 3/100\n",
      "1506/1506 [==============================] - 2s 2ms/step - loss: 238.4990 - mae: 7.1761 - root_mean_squared_error: 15.4434\n",
      "Epoch 4/100\n",
      "1506/1506 [==============================] - 3s 2ms/step - loss: 220.8985 - mae: 6.7411 - root_mean_squared_error: 14.8627\n",
      "Epoch 5/100\n",
      "1506/1506 [==============================] - 3s 2ms/step - loss: 210.2945 - mae: 6.4900 - root_mean_squared_error: 14.5015\n",
      "Epoch 6/100\n",
      "1506/1506 [==============================] - 3s 2ms/step - loss: 213.8370 - mae: 6.4973 - root_mean_squared_error: 14.6232\n",
      "Epoch 7/100\n",
      "1506/1506 [==============================] - 4s 3ms/step - loss: 206.8211 - mae: 6.3599 - root_mean_squared_error: 14.3813\n",
      "Epoch 8/100\n",
      "1506/1506 [==============================] - 4s 2ms/step - loss: 214.3339 - mae: 6.4584 - root_mean_squared_error: 14.6401\n",
      "Epoch 9/100\n",
      "1506/1506 [==============================] - 3s 2ms/step - loss: 203.5709 - mae: 6.2699 - root_mean_squared_error: 14.2678\n",
      "Epoch 10/100\n",
      "1506/1506 [==============================] - 3s 2ms/step - loss: 207.8142 - mae: 6.3201 - root_mean_squared_error: 14.4158\n",
      "Epoch 11/100\n",
      "1506/1506 [==============================] - 2s 2ms/step - loss: 200.8087 - mae: 6.1515 - root_mean_squared_error: 14.1707\n",
      "Epoch 12/100\n",
      "1506/1506 [==============================] - 2s 2ms/step - loss: 196.8871 - mae: 6.0559 - root_mean_squared_error: 14.0316\n",
      "Epoch 13/100\n",
      "1506/1506 [==============================] - 3s 2ms/step - loss: 197.8395 - mae: 6.1094 - root_mean_squared_error: 14.0655\n",
      "Epoch 14/100\n",
      "1506/1506 [==============================] - 3s 2ms/step - loss: 198.9715 - mae: 6.1421 - root_mean_squared_error: 14.1057\n",
      "Epoch 15/100\n",
      "1506/1506 [==============================] - 3s 2ms/step - loss: 197.6367 - mae: 6.0797 - root_mean_squared_error: 14.0583\n",
      "Epoch 16/100\n",
      "1506/1506 [==============================] - 3s 2ms/step - loss: 197.0545 - mae: 6.0644 - root_mean_squared_error: 14.0376\n",
      "Epoch 17/100\n",
      "1506/1506 [==============================] - 4s 3ms/step - loss: 197.4313 - mae: 6.0725 - root_mean_squared_error: 14.0510\n",
      "Epoch 18/100\n",
      "1506/1506 [==============================] - 2s 2ms/step - loss: 189.1157 - mae: 5.9246 - root_mean_squared_error: 13.7519\n",
      "Epoch 19/100\n",
      "1506/1506 [==============================] - 3s 2ms/step - loss: 194.5186 - mae: 6.0056 - root_mean_squared_error: 13.9470\n",
      "Epoch 20/100\n",
      "1506/1506 [==============================] - 2s 2ms/step - loss: 195.1071 - mae: 6.0083 - root_mean_squared_error: 13.9681\n",
      "Epoch 21/100\n",
      "1506/1506 [==============================] - 3s 2ms/step - loss: 196.4428 - mae: 6.0260 - root_mean_squared_error: 14.0158\n",
      "Epoch 22/100\n",
      "1506/1506 [==============================] - 3s 2ms/step - loss: 192.1096 - mae: 5.9641 - root_mean_squared_error: 13.8604\n",
      "Epoch 23/100\n",
      "1506/1506 [==============================] - 2s 1ms/step - loss: 192.8724 - mae: 5.9798 - root_mean_squared_error: 13.8878\n",
      "Epoch 24/100\n",
      "1506/1506 [==============================] - 2s 2ms/step - loss: 189.6416 - mae: 5.9224 - root_mean_squared_error: 13.7710\n",
      "Epoch 25/100\n",
      "1506/1506 [==============================] - 2s 2ms/step - loss: 193.5787 - mae: 6.0033 - root_mean_squared_error: 13.9133\n",
      "Epoch 26/100\n",
      "1506/1506 [==============================] - 2s 2ms/step - loss: 187.9339 - mae: 5.8696 - root_mean_squared_error: 13.7089\n",
      "Epoch 27/100\n",
      "1506/1506 [==============================] - 2s 2ms/step - loss: 190.8081 - mae: 5.9508 - root_mean_squared_error: 13.8133\n",
      "Epoch 28/100\n",
      "1506/1506 [==============================] - 2s 2ms/step - loss: 189.6211 - mae: 5.8983 - root_mean_squared_error: 13.7703\n",
      "Epoch 29/100\n",
      "1506/1506 [==============================] - 2s 2ms/step - loss: 192.2378 - mae: 5.9568 - root_mean_squared_error: 13.8650\n",
      "Epoch 30/100\n",
      "1506/1506 [==============================] - 2s 2ms/step - loss: 189.0360 - mae: 5.9033 - root_mean_squared_error: 13.7490\n",
      "Epoch 31/100\n",
      "1506/1506 [==============================] - 2s 2ms/step - loss: 186.4806 - mae: 5.8329 - root_mean_squared_error: 13.6558\n",
      "Epoch 32/100\n",
      "1506/1506 [==============================] - 2s 2ms/step - loss: 186.7839 - mae: 5.8258 - root_mean_squared_error: 13.6669\n",
      "Epoch 33/100\n",
      "1506/1506 [==============================] - 2s 1ms/step - loss: 185.5470 - mae: 5.7943 - root_mean_squared_error: 13.6216: 0s - loss: 181.7961 - mae: 5.7235 - root_mean_square\n",
      "Epoch 34/100\n",
      "1506/1506 [==============================] - 3s 2ms/step - loss: 187.7018 - mae: 5.8464 - root_mean_squared_error: 13.7004\n",
      "Epoch 35/100\n",
      "1506/1506 [==============================] - 3s 2ms/step - loss: 188.8217 - mae: 5.8503 - root_mean_squared_error: 13.7412\n",
      "Epoch 36/100\n",
      "1506/1506 [==============================] - 3s 2ms/step - loss: 185.6020 - mae: 5.8107 - root_mean_squared_error: 13.6236: 0s - loss: 179.1104 - mae: 5.7119 - ro\n",
      "Epoch 37/100\n",
      "1506/1506 [==============================] - 3s 2ms/step - loss: 186.2074 - mae: 5.8349 - root_mean_squared_error: 13.6458\n",
      "Epoch 38/100\n",
      "1506/1506 [==============================] - 3s 2ms/step - loss: 184.0135 - mae: 5.7483 - root_mean_squared_error: 13.5652: 2s - loss: 168.3643 - mae: 5.5389 - root_mean_squared_error: 12. - ETA: 2s - loss: 170.7218 - mae: 5.4918 - root - ETA\n",
      "Epoch 39/100\n",
      "1506/1506 [==============================] - 2s 2ms/step - loss: 185.1743 - mae: 5.8020 - root_mean_squared_error: 13.6079\n",
      "Epoch 40/100\n",
      "1506/1506 [==============================] - 3s 2ms/step - loss: 179.4367 - mae: 5.6880 - root_mean_squared_error: 13.3954\n",
      "Epoch 41/100\n",
      "1506/1506 [==============================] - 3s 2ms/step - loss: 185.6613 - mae: 5.8068 - root_mean_squared_error: 13.6258: 1s\n",
      "Epoch 42/100\n",
      "1506/1506 [==============================] - 3s 2ms/step - loss: 185.2198 - mae: 5.8003 - root_mean_squared_error: 13.6095\n",
      "Epoch 43/100\n",
      "1506/1506 [==============================] - 3s 2ms/step - loss: 183.7556 - mae: 5.7565 - root_mean_squared_error: 13.5556\n",
      "Epoch 44/100\n",
      "1506/1506 [==============================] - 3s 2ms/step - loss: 186.5438 - mae: 5.8210 - root_mean_squared_error: 13.6581\n",
      "Epoch 45/100\n",
      "1506/1506 [==============================] - 3s 2ms/step - loss: 181.4390 - mae: 5.7052 - root_mean_squared_error: 13.4699\n",
      "Epoch 46/100\n",
      "1506/1506 [==============================] - 3s 2ms/step - loss: 182.0834 - mae: 5.7238 - root_mean_squared_error: 13.4938\n",
      "Epoch 47/100\n",
      "1506/1506 [==============================] - 3s 2ms/step - loss: 180.1544 - mae: 5.6753 - root_mean_squared_error: 13.4222\n",
      "Epoch 48/100\n",
      "1506/1506 [==============================] - 3s 2ms/step - loss: 178.8092 - mae: 5.6463 - root_mean_squared_error: 13.3720\n",
      "Epoch 49/100\n",
      "1506/1506 [==============================] - 2s 2ms/step - loss: 184.5269 - mae: 5.7801 - root_mean_squared_error: 13.5841\n",
      "Epoch 50/100\n",
      "1506/1506 [==============================] - 3s 2ms/step - loss: 181.5386 - mae: 5.7335 - root_mean_squared_error: 13.4736\n",
      "Epoch 51/100\n",
      "1506/1506 [==============================] - 3s 2ms/step - loss: 180.8496 - mae: 5.6785 - root_mean_squared_error: 13.4480\n",
      "Epoch 52/100\n",
      "1506/1506 [==============================] - 3s 2ms/step - loss: 181.1335 - mae: 5.7015 - root_mean_squared_error: 13.4586\n",
      "Epoch 53/100\n",
      "1506/1506 [==============================] - 2s 2ms/step - loss: 181.9534 - mae: 5.7066 - root_mean_squared_error: 13.4890\n",
      "Epoch 54/100\n",
      "1506/1506 [==============================] - 3s 2ms/step - loss: 181.3833 - mae: 5.7194 - root_mean_squared_error: 13.4679\n",
      "Epoch 55/100\n",
      "1506/1506 [==============================] - 2s 2ms/step - loss: 178.3869 - mae: 5.6553 - root_mean_squared_error: 13.3562\n",
      "Epoch 56/100\n",
      "1506/1506 [==============================] - 3s 2ms/step - loss: 180.9613 - mae: 5.7047 - root_mean_squared_error: 13.4522: 1s -\n",
      "Epoch 57/100\n",
      "1506/1506 [==============================] - 2s 2ms/step - loss: 184.8574 - mae: 5.7481 - root_mean_squared_error: 13.5962\n",
      "Epoch 58/100\n",
      "1506/1506 [==============================] - 3s 2ms/step - loss: 179.1429 - mae: 5.6545 - root_mean_squared_error: 13.3844\n",
      "Epoch 59/100\n"
     ]
    },
    {
     "name": "stdout",
     "output_type": "stream",
     "text": [
      "1506/1506 [==============================] - 3s 2ms/step - loss: 176.5036 - mae: 5.5849 - root_mean_squared_error: 13.2855: 1s -\n",
      "Epoch 60/100\n",
      "1506/1506 [==============================] - 3s 2ms/step - loss: 180.8584 - mae: 5.6784 - root_mean_squared_error: 13.4484\n",
      "Epoch 61/100\n",
      "1506/1506 [==============================] - 2s 2ms/step - loss: 180.4018 - mae: 5.6680 - root_mean_squared_error: 13.4314\n",
      "Epoch 62/100\n",
      "1506/1506 [==============================] - 3s 2ms/step - loss: 177.2824 - mae: 5.6184 - root_mean_squared_error: 13.3147\n",
      "Epoch 63/100\n",
      "1506/1506 [==============================] - 3s 2ms/step - loss: 176.3687 - mae: 5.5835 - root_mean_squared_error: 13.2804: 0s - loss: 177.0906 - mae: 5.6186 - root_m\n",
      "Epoch 64/100\n",
      "1506/1506 [==============================] - 4s 2ms/step - loss: 175.8892 - mae: 5.6005 - root_mean_squared_error: 13.2623\n",
      "Epoch 65/100\n",
      "1506/1506 [==============================] - 4s 2ms/step - loss: 178.9175 - mae: 5.6409 - root_mean_squared_error: 13.3760\n",
      "Epoch 66/100\n",
      "1506/1506 [==============================] - 3s 2ms/step - loss: 178.9872 - mae: 5.6318 - root_mean_squared_error: 13.3786\n",
      "Epoch 67/100\n",
      "1506/1506 [==============================] - 3s 2ms/step - loss: 176.0798 - mae: 5.5700 - root_mean_squared_error: 13.2695\n",
      "Epoch 68/100\n",
      "1506/1506 [==============================] - 3s 2ms/step - loss: 175.4893 - mae: 5.5776 - root_mean_squared_error: 13.2472\n",
      "Epoch 69/100\n",
      "1506/1506 [==============================] - 3s 2ms/step - loss: 174.2338 - mae: 5.5443 - root_mean_squared_error: 13.1998: 0s - loss: 174.5295 - mae: 5.5535 - ro\n",
      "Epoch 70/100\n",
      "1506/1506 [==============================] - 3s 2ms/step - loss: 174.9166 - mae: 5.5774 - root_mean_squared_error: 13.2256\n",
      "Epoch 71/100\n",
      "1506/1506 [==============================] - 3s 2ms/step - loss: 175.3379 - mae: 5.5592 - root_mean_squared_error: 13.2415: 0s - loss: 176.9247 - mae: 5.5971 - root_mea\n",
      "Epoch 72/100\n",
      "1506/1506 [==============================] - 3s 2ms/step - loss: 177.2766 - mae: 5.5908 - root_mean_squared_error: 13.3145\n",
      "Epoch 73/100\n",
      "1506/1506 [==============================] - 2s 2ms/step - loss: 176.7438 - mae: 5.5887 - root_mean_squared_error: 13.2945\n",
      "Epoch 74/100\n",
      "1506/1506 [==============================] - 2s 2ms/step - loss: 176.8699 - mae: 5.5951 - root_mean_squared_error: 13.2992\n",
      "Epoch 75/100\n",
      "1506/1506 [==============================] - 3s 2ms/step - loss: 174.3920 - mae: 5.5368 - root_mean_squared_error: 13.2058: 0s - loss: 168.4373 \n",
      "Epoch 76/100\n",
      "1506/1506 [==============================] - 3s 2ms/step - loss: 173.6733 - mae: 5.5244 - root_mean_squared_error: 13.1785\n",
      "Epoch 77/100\n",
      "1506/1506 [==============================] - 2s 2ms/step - loss: 173.6910 - mae: 5.5060 - root_mean_squared_error: 13.1792\n",
      "Epoch 78/100\n",
      "1506/1506 [==============================] - 2s 1ms/step - loss: 176.5367 - mae: 5.5788 - root_mean_squared_error: 13.2867\n",
      "Epoch 79/100\n",
      "1506/1506 [==============================] - 2s 1ms/step - loss: 174.2255 - mae: 5.5445 - root_mean_squared_error: 13.1995\n",
      "Epoch 80/100\n",
      "1506/1506 [==============================] - 2s 2ms/step - loss: 175.1773 - mae: 5.5529 - root_mean_squared_error: 13.2355: 0s - loss: 174.0788 - mae: 5.5228 - root_mean_squared_error:\n",
      "Epoch 81/100\n",
      "1506/1506 [==============================] - 2s 2ms/step - loss: 172.6248 - mae: 5.4995 - root_mean_squared_error: 13.1387\n",
      "Epoch 82/100\n",
      "1506/1506 [==============================] - 2s 2ms/step - loss: 173.9524 - mae: 5.5386 - root_mean_squared_error: 13.1891\n",
      "Epoch 83/100\n",
      "1506/1506 [==============================] - 2s 2ms/step - loss: 173.3291 - mae: 5.4896 - root_mean_squared_error: 13.1654\n",
      "Epoch 84/100\n",
      "1506/1506 [==============================] - 2s 1ms/step - loss: 175.1248 - mae: 5.5663 - root_mean_squared_error: 13.2335\n",
      "Epoch 85/100\n",
      "1506/1506 [==============================] - 2s 2ms/step - loss: 176.1440 - mae: 5.6041 - root_mean_squared_error: 13.2719\n",
      "Epoch 86/100\n",
      "1506/1506 [==============================] - 3s 2ms/step - loss: 171.4935 - mae: 5.4505 - root_mean_squared_error: 13.0956\n",
      "Epoch 87/100\n",
      "1506/1506 [==============================] - 3s 2ms/step - loss: 172.4312 - mae: 5.4770 - root_mean_squared_error: 13.1313\n",
      "Epoch 88/100\n",
      "1506/1506 [==============================] - 3s 2ms/step - loss: 172.1769 - mae: 5.4837 - root_mean_squared_error: 13.1216\n",
      "Epoch 89/100\n",
      "1506/1506 [==============================] - 2s 2ms/step - loss: 171.0313 - mae: 5.4436 - root_mean_squared_error: 13.0779\n",
      "Epoch 90/100\n",
      "1506/1506 [==============================] - 2s 2ms/step - loss: 175.6559 - mae: 5.5796 - root_mean_squared_error: 13.2535\n",
      "Epoch 91/100\n",
      "1506/1506 [==============================] - 2s 2ms/step - loss: 171.0574 - mae: 5.4500 - root_mean_squared_error: 13.0789\n",
      "Epoch 92/100\n",
      "1506/1506 [==============================] - 2s 1ms/step - loss: 171.8045 - mae: 5.4684 - root_mean_squared_error: 13.1074\n",
      "Epoch 93/100\n",
      "1506/1506 [==============================] - 2s 2ms/step - loss: 174.8482 - mae: 5.5479 - root_mean_squared_error: 13.2230\n",
      "Epoch 94/100\n",
      "1506/1506 [==============================] - 2s 2ms/step - loss: 171.5979 - mae: 5.4683 - root_mean_squared_error: 13.0995\n",
      "Epoch 95/100\n",
      "1506/1506 [==============================] - 2s 2ms/step - loss: 173.4941 - mae: 5.5173 - root_mean_squared_error: 13.1717\n",
      "Epoch 96/100\n",
      "1506/1506 [==============================] - 2s 2ms/step - loss: 172.0383 - mae: 5.4657 - root_mean_squared_error: 13.1163: 0s - loss: 172.2038 - mae: 5.4640 - root_mean_squared_error:\n",
      "Epoch 97/100\n",
      "1506/1506 [==============================] - 2s 2ms/step - loss: 170.1415 - mae: 5.4399 - root_mean_squared_error: 13.0438\n",
      "Epoch 98/100\n",
      "1506/1506 [==============================] - 2s 2ms/step - loss: 169.2349 - mae: 5.4042 - root_mean_squared_error: 13.0090\n",
      "Epoch 99/100\n",
      "1506/1506 [==============================] - 3s 2ms/step - loss: 172.1746 - mae: 5.5191 - root_mean_squared_error: 13.1215\n",
      "Epoch 100/100\n",
      "1506/1506 [==============================] - 3s 2ms/step - loss: 169.4010 - mae: 5.3901 - root_mean_squared_error: 13.0154\n"
     ]
    }
   ],
   "source": [
    "#Compile and train\n",
    "model_Miami.compile(optimizer=Adam(lr=0.0001), \n",
    "              loss='mse',\n",
    "              metrics=['mae', keras.metrics.RootMeanSquaredError()])\n",
    "\n",
    "history_Miami = model_Miami.fit(input_arry, output_arry, epochs=100, batch_size=64)"
   ]
  },
  {
   "cell_type": "code",
   "execution_count": 68,
   "metadata": {},
   "outputs": [],
   "source": [
    "#Mae down to 5.4439"
   ]
  },
  {
   "cell_type": "code",
   "execution_count": 69,
   "metadata": {},
   "outputs": [],
   "source": [
    "#"
   ]
  },
  {
   "cell_type": "code",
   "execution_count": 70,
   "metadata": {},
   "outputs": [
    {
     "data": {
      "image/png": "[encoded data removed]",
      "text/plain": [
       "<Figure size 432x288 with 1 Axes>"
      ]
     },
     "metadata": {},
     "output_type": "display_data"
    }
   ],
   "source": [
    "plt.plot(history_Miami.history['mae'])\n",
    "plt.plot(history_Miami.history['root_mean_squared_error'])\n",
    "plt.title('mae and rmse per epoch')\n",
    "plt.ylabel('Error')\n",
    "plt.xlabel('Epoch')\n",
    "plt.legend(['mae', 'rmse'], loc='upper left')\n",
    "plt.show()"
   ]
  },
  {
   "cell_type": "code",
   "execution_count": 80,
   "metadata": {},
   "outputs": [],
   "source": [
    "# And DNI\n",
    "model_Miami_dni = keras.Sequential()\n",
    "model_Miami_dni.add(keras.layers.Dense(300, activation=\"relu\"))\n",
    "model_Miami_dni.add(layers.Dense(200, activation=\"relu\"))\n",
    "model_Miami_dni.add(layers.Dense(100, activation=\"relu\"))\n",
    "model_Miami_dni.add(layers.Dense(50, activation=\"relu\"))\n",
    "model_Miami_dni.add(layers.Dense(25, activation=\"relu\"))\n",
    "model_Miami_dni.add(layers.Dense(1, activation='relu'))\n"
   ]
  },
  {
   "cell_type": "code",
   "execution_count": 81,
   "metadata": {},
   "outputs": [
    {
     "name": "stdout",
     "output_type": "stream",
     "text": [
      "Epoch 1/100\n",
      "1506/1506 [==============================] - 3s 2ms/step - loss: 24441.1426 - mae: 95.3410 - root_mean_squared_error: 156.3366TA: 0s - loss: 26539.7012 - mae: 99.8543 - root_mean_\n",
      "Epoch 2/100\n",
      "1506/1506 [==============================] - 2s 2ms/step - loss: 3993.5186 - mae: 33.8525 - root_mean_squared_error: 63.1943\n",
      "Epoch 3/100\n",
      "1506/1506 [==============================] - 3s 2ms/step - loss: 1245.0220 - mae: 18.3697 - root_mean_squared_error: 35.2849\n",
      "Epoch 4/100\n",
      "1506/1506 [==============================] - 3s 2ms/step - loss: 879.0259 - mae: 15.0913 - root_mean_squared_error: 29.6484\n",
      "Epoch 5/100\n",
      "1506/1506 [==============================] - 3s 2ms/step - loss: 718.7422 - mae: 13.1955 - root_mean_squared_error: 26.8094\n",
      "Epoch 6/100\n",
      "1506/1506 [==============================] - 2s 2ms/step - loss: 691.8619 - mae: 12.8896 - root_mean_squared_error: 26.3033\n",
      "Epoch 7/100\n",
      "1506/1506 [==============================] - 3s 2ms/step - loss: 650.6275 - mae: 12.3042 - root_mean_squared_error: 25.5074\n",
      "Epoch 8/100\n",
      "1506/1506 [==============================] - 3s 2ms/step - loss: 633.1435 - mae: 12.1261 - root_mean_squared_error: 25.1623\n",
      "Epoch 9/100\n",
      "1506/1506 [==============================] - 2s 2ms/step - loss: 633.6764 - mae: 12.0898 - root_mean_squared_error: 25.1729\n",
      "Epoch 10/100\n",
      "1506/1506 [==============================] - 2s 1ms/step - loss: 615.7643 - mae: 11.9000 - root_mean_squared_error: 24.8146\n",
      "Epoch 11/100\n",
      "1506/1506 [==============================] - 2s 2ms/step - loss: 659.0756 - mae: 12.3419 - root_mean_squared_error: 25.6725\n",
      "Epoch 12/100\n",
      "1506/1506 [==============================] - 2s 2ms/step - loss: 623.2617 - mae: 11.9586 - root_mean_squared_error: 24.9652\n",
      "Epoch 13/100\n",
      "1506/1506 [==============================] - 2s 2ms/step - loss: 592.5181 - mae: 11.6339 - root_mean_squared_error: 24.3417A: 1s - loss: 590.9510 - mae: 11.5824 - roo\n",
      "Epoch 14/100\n",
      "1506/1506 [==============================] - 2s 1ms/step - loss: 609.8351 - mae: 11.8568 - root_mean_squared_error: 24.6948\n",
      "Epoch 15/100\n",
      "1506/1506 [==============================] - 2s 2ms/step - loss: 596.3159 - mae: 11.6515 - root_mean_squared_error: 24.4196\n",
      "Epoch 16/100\n",
      "1506/1506 [==============================] - 2s 2ms/step - loss: 598.0421 - mae: 11.6448 - root_mean_squared_error: 24.4549\n",
      "Epoch 17/100\n",
      "1506/1506 [==============================] - 2s 2ms/step - loss: 602.2962 - mae: 11.7003 - root_mean_squared_error: 24.5417\n",
      "Epoch 18/100\n",
      "1506/1506 [==============================] - 2s 1ms/step - loss: 601.7975 - mae: 11.6804 - root_mean_squared_error: 24.5316\n",
      "Epoch 19/100\n",
      "1506/1506 [==============================] - 2s 2ms/step - loss: 588.3111 - mae: 11.5283 - root_mean_squared_error: 24.2551\n",
      "Epoch 20/100\n",
      "1506/1506 [==============================] - 2s 1ms/step - loss: 592.3995 - mae: 11.5854 - root_mean_squared_error: 24.3393\n",
      "Epoch 21/100\n",
      "1506/1506 [==============================] - 2s 2ms/step - loss: 588.8544 - mae: 11.5274 - root_mean_squared_error: 24.2663A: 0s - loss: 590.2387 - mae: 11.5334 - root_mean_squared_error: 24 - ETA: 0s - loss: 584.5585 - mae: 11.4932 - root_mean_squared_error: \n",
      "Epoch 22/100\n",
      "1506/1506 [==============================] - 2s 2ms/step - loss: 593.1629 - mae: 11.5734 - root_mean_squared_error: 24.3549\n",
      "Epoch 23/100\n",
      "1506/1506 [==============================] - 2s 2ms/step - loss: 580.7520 - mae: 11.4883 - root_mean_squared_error: 24.0988\n",
      "Epoch 24/100\n",
      "1506/1506 [==============================] - 2s 2ms/step - loss: 590.0010 - mae: 11.5583 - root_mean_squared_error: 24.2899\n",
      "Epoch 25/100\n",
      "1506/1506 [==============================] - 3s 2ms/step - loss: 575.6038 - mae: 11.3980 - root_mean_squared_error: 23.9917\n",
      "Epoch 26/100\n",
      "1506/1506 [==============================] - 3s 2ms/step - loss: 582.2065 - mae: 11.4798 - root_mean_squared_error: 24.1290\n",
      "Epoch 27/100\n",
      "1506/1506 [==============================] - 2s 1ms/step - loss: 583.8294 - mae: 11.4598 - root_mean_squared_error: 24.1626\n",
      "Epoch 28/100\n",
      "1506/1506 [==============================] - 2s 1ms/step - loss: 548.9653 - mae: 11.0796 - root_mean_squared_error: 23.4300\n",
      "Epoch 29/100\n",
      "1506/1506 [==============================] - 2s 2ms/step - loss: 570.8430 - mae: 11.3448 - root_mean_squared_error: 23.8923\n",
      "Epoch 30/100\n",
      "1506/1506 [==============================] - 2s 1ms/step - loss: 563.2712 - mae: 11.2609 - root_mean_squared_error: 23.7333\n",
      "Epoch 31/100\n",
      "1506/1506 [==============================] - 2s 2ms/step - loss: 568.4005 - mae: 11.3159 - root_mean_squared_error: 23.8412\n",
      "Epoch 32/100\n",
      "1506/1506 [==============================] - 3s 2ms/step - loss: 562.7807 - mae: 11.2398 - root_mean_squared_error: 23.7230A: 0s - loss: 571.7056 - mae: 11.3758 - root_mean_sq\n",
      "Epoch 33/100\n",
      "1506/1506 [==============================] - 2s 2ms/step - loss: 548.8454 - mae: 11.0805 - root_mean_squared_error: 23.4275\n",
      "Epoch 34/100\n",
      "1506/1506 [==============================] - 2s 1ms/step - loss: 565.1383 - mae: 11.2518 - root_mean_squared_error: 23.7726\n",
      "Epoch 35/100\n",
      "1506/1506 [==============================] - 2s 2ms/step - loss: 560.4287 - mae: 11.2163 - root_mean_squared_error: 23.6734A: 0s - loss: 557.1215 - mae: 11.1748 - root_mean_squared_error: 23.\n",
      "Epoch 36/100\n",
      "1506/1506 [==============================] - 2s 2ms/step - loss: 555.7074 - mae: 11.1635 - root_mean_squared_error: 23.5734A: 1s - loss: 551.6968 - mae: 11.2226 -\n",
      "Epoch 37/100\n",
      "1506/1506 [==============================] - 2s 2ms/step - loss: 552.5774 - mae: 11.1255 - root_mean_squared_error: 23.5070\n",
      "Epoch 38/100\n",
      "1506/1506 [==============================] - 2s 2ms/step - loss: 558.8302 - mae: 11.1940 - root_mean_squared_error: 23.6396\n",
      "Epoch 39/100\n",
      "1506/1506 [==============================] - 2s 1ms/step - loss: 556.3363 - mae: 11.1554 - root_mean_squared_error: 23.5868\n",
      "Epoch 40/100\n",
      "1506/1506 [==============================] - 2s 1ms/step - loss: 546.4764 - mae: 11.0733 - root_mean_squared_error: 23.3768\n",
      "Epoch 41/100\n",
      "1506/1506 [==============================] - 2s 1ms/step - loss: 541.8518 - mae: 10.9818 - root_mean_squared_error: 23.2777\n",
      "Epoch 42/100\n",
      "1506/1506 [==============================] - 2s 1ms/step - loss: 545.5273 - mae: 11.0657 - root_mean_squared_error: 23.3565A: 1s - loss: 548.2637 - mae: 11.1054 - root - ETA: 0s - loss: 532.6329 - mae: 10.9295 - root_mean_squared_error: \n",
      "Epoch 43/100\n",
      "1506/1506 [==============================] - 2s 2ms/step - loss: 560.4739 - mae: 11.2144 - root_mean_squared_error: 23.6743\n",
      "Epoch 44/100\n",
      "1506/1506 [==============================] - 2s 2ms/step - loss: 561.5544 - mae: 11.2337 - root_mean_squared_error: 23.6971\n",
      "Epoch 45/100\n",
      "1506/1506 [==============================] - 2s 2ms/step - loss: 547.4160 - mae: 11.0388 - root_mean_squared_error: 23.3969\n",
      "Epoch 46/100\n",
      "1506/1506 [==============================] - 2s 2ms/step - loss: 524.5800 - mae: 10.8225 - root_mean_squared_error: 22.9037\n",
      "Epoch 47/100\n",
      "1506/1506 [==============================] - 2s 1ms/step - loss: 542.1990 - mae: 10.9893 - root_mean_squared_error: 23.2852\n",
      "Epoch 48/100\n",
      "1506/1506 [==============================] - 2s 1ms/step - loss: 536.6486 - mae: 10.9162 - root_mean_squared_error: 23.1657\n",
      "Epoch 49/100\n",
      "1506/1506 [==============================] - 2s 1ms/step - loss: 532.4825 - mae: 10.8809 - root_mean_squared_error: 23.0756A: 1s - loss: 501.3364 - mae: 10.5894 - root_mean - ETA: 0s - loss: 527.5193 - mae: 10.8276 - root_mean_squared_err\n",
      "Epoch 50/100\n",
      "1506/1506 [==============================] - 2s 2ms/step - loss: 544.5115 - mae: 11.0171 - root_mean_squared_error: 23.3348\n",
      "Epoch 51/100\n",
      "1506/1506 [==============================] - 2s 2ms/step - loss: 524.5927 - mae: 10.7903 - root_mean_squared_error: 22.9040\n",
      "Epoch 52/100\n",
      "1506/1506 [==============================] - 2s 2ms/step - loss: 538.9692 - mae: 10.9457 - root_mean_squared_error: 23.2157\n",
      "Epoch 53/100\n",
      "1506/1506 [==============================] - 2s 1ms/step - loss: 533.2513 - mae: 10.9279 - root_mean_squared_error: 23.0922\n",
      "Epoch 54/100\n",
      "1506/1506 [==============================] - 2s 2ms/step - loss: 534.6094 - mae: 10.9206 - root_mean_squared_error: 23.1216\n",
      "Epoch 55/100\n",
      "1506/1506 [==============================] - 2s 2ms/step - loss: 540.4200 - mae: 10.9953 - root_mean_squared_error: 23.2469\n",
      "Epoch 56/100\n"
     ]
    },
    {
     "name": "stdout",
     "output_type": "stream",
     "text": [
      "1506/1506 [==============================] - 2s 1ms/step - loss: 529.7480 - mae: 10.8679 - root_mean_squared_error: 23.0163A: 0s - loss: 534.2669 - mae: 10.8995 - root_mean_squared_err\n",
      "Epoch 57/100\n",
      "1506/1506 [==============================] - 2s 1ms/step - loss: 528.3816 - mae: 10.8613 - root_mean_squared_error: 22.9866A: 0s - loss: 514.9348 - mae: 10.7114 - root_mean_sq\n",
      "Epoch 58/100\n",
      "1506/1506 [==============================] - 2s 2ms/step - loss: 524.3574 - mae: 10.7890 - root_mean_squared_error: 22.8989A: 1s - loss: 528.5540 - mae: 10.8230 -\n",
      "Epoch 59/100\n",
      "1506/1506 [==============================] - 2s 2ms/step - loss: 528.8050 - mae: 10.8465 - root_mean_squared_error: 22.9958\n",
      "Epoch 60/100\n",
      "1506/1506 [==============================] - 2s 1ms/step - loss: 526.3825 - mae: 10.8099 - root_mean_squared_error: 22.9430\n",
      "Epoch 61/100\n",
      "1506/1506 [==============================] - 2s 1ms/step - loss: 523.4461 - mae: 10.7752 - root_mean_squared_error: 22.8789\n",
      "Epoch 62/100\n",
      "1506/1506 [==============================] - 2s 1ms/step - loss: 519.2808 - mae: 10.7368 - root_mean_squared_error: 22.7877A: 0s - loss: 517.4283 - mae: 10.7055 - root_mean_squared_error: 22.\n",
      "Epoch 63/100\n",
      "1506/1506 [==============================] - 2s 2ms/step - loss: 526.5548 - mae: 10.8212 - root_mean_squared_error: 22.9468\n",
      "Epoch 64/100\n",
      "1506/1506 [==============================] - 2s 2ms/step - loss: 518.3933 - mae: 10.7612 - root_mean_squared_error: 22.7683A: 0s - loss: 516.3441 - mae: 10.7232 - root_mean_square\n",
      "Epoch 65/100\n",
      "1506/1506 [==============================] - 2s 2ms/step - loss: 523.6528 - mae: 10.8115 - root_mean_squared_error: 22.8835A: 2s - loss: 564.9816 - mae: 11.1951 - root_mean_squa - ETA: 1s - loss: 539.5856 - mae: 10.9459 - root_mean_\n",
      "Epoch 66/100\n",
      "1506/1506 [==============================] - 2s 2ms/step - loss: 516.1694 - mae: 10.7386 - root_mean_squared_error: 22.7194\n",
      "Epoch 67/100\n",
      "1506/1506 [==============================] - 2s 2ms/step - loss: 519.0080 - mae: 10.7357 - root_mean_squared_error: 22.7817\n",
      "Epoch 68/100\n",
      "1506/1506 [==============================] - 2s 2ms/step - loss: 516.5555 - mae: 10.7081 - root_mean_squared_error: 22.7279\n",
      "Epoch 69/100\n",
      "1506/1506 [==============================] - 2s 2ms/step - loss: 523.9865 - mae: 10.7861 - root_mean_squared_error: 22.8908\n",
      "Epoch 70/100\n",
      "1506/1506 [==============================] - 2s 1ms/step - loss: 502.6943 - mae: 10.5534 - root_mean_squared_error: 22.4208\n",
      "Epoch 71/100\n",
      "1506/1506 [==============================] - 2s 2ms/step - loss: 515.0601 - mae: 10.6887 - root_mean_squared_error: 22.6949\n",
      "Epoch 72/100\n",
      "1506/1506 [==============================] - 2s 2ms/step - loss: 527.1155 - mae: 10.8299 - root_mean_squared_error: 22.9590\n",
      "Epoch 73/100\n",
      "1506/1506 [==============================] - 2s 1ms/step - loss: 512.8336 - mae: 10.6624 - root_mean_squared_error: 22.6458\n",
      "Epoch 74/100\n",
      "1506/1506 [==============================] - 2s 1ms/step - loss: 515.7070 - mae: 10.6879 - root_mean_squared_error: 22.7092\n",
      "Epoch 75/100\n",
      "1506/1506 [==============================] - 2s 1ms/step - loss: 525.7398 - mae: 10.8142 - root_mean_squared_error: 22.9290A: 1s - loss: 518.8105 - mae: 10.7733 - root_mean_squared_er - ETA: 0s - loss: 528.9537 - mae: 10.9000 - root_mean_squared_er\n",
      "Epoch 76/100\n",
      "1506/1506 [==============================] - 2s 2ms/step - loss: 514.6820 - mae: 10.6622 - root_mean_squared_error: 22.6866\n",
      "Epoch 77/100\n",
      "1506/1506 [==============================] - 2s 2ms/step - loss: 508.7832 - mae: 10.6096 - root_mean_squared_error: 22.5562\n",
      "Epoch 78/100\n",
      "1506/1506 [==============================] - 2s 2ms/step - loss: 513.6507 - mae: 10.6686 - root_mean_squared_error: 22.6639\n",
      "Epoch 79/100\n",
      "1506/1506 [==============================] - 2s 1ms/step - loss: 512.8212 - mae: 10.6671 - root_mean_squared_error: 22.6456\n",
      "Epoch 80/100\n",
      "1506/1506 [==============================] - 2s 2ms/step - loss: 513.6895 - mae: 10.6801 - root_mean_squared_error: 22.6647A: 2s - loss: 509.9710 - mae: 1\n",
      "Epoch 81/100\n",
      "1506/1506 [==============================] - 2s 2ms/step - loss: 509.1351 - mae: 10.5958 - root_mean_squared_error: 22.5640A: 0s - loss: 506.8447 - mae: 10.5943 - root_mean_squared_er\n",
      "Epoch 82/100\n",
      "1506/1506 [==============================] - 2s 1ms/step - loss: 506.5152 - mae: 10.5503 - root_mean_squared_error: 22.5059\n",
      "Epoch 83/100\n",
      "1506/1506 [==============================] - 2s 1ms/step - loss: 504.4672 - mae: 10.5637 - root_mean_squared_error: 22.4603\n",
      "Epoch 84/100\n",
      "1506/1506 [==============================] - 2s 2ms/step - loss: 508.9622 - mae: 10.6057 - root_mean_squared_error: 22.5602\n",
      "Epoch 85/100\n",
      "1506/1506 [==============================] - 3s 2ms/step - loss: 516.4899 - mae: 10.7291 - root_mean_squared_error: 22.7264A: 1s - loss: 509.7965 - mae: \n",
      "Epoch 86/100\n",
      "1506/1506 [==============================] - 4s 3ms/step - loss: 502.4246 - mae: 10.5441 - root_mean_squared_error: 22.4148\n",
      "Epoch 87/100\n",
      "1506/1506 [==============================] - 4s 3ms/step - loss: 506.8261 - mae: 10.5947 - root_mean_squared_error: 22.5128\n",
      "Epoch 88/100\n",
      "1506/1506 [==============================] - 5s 3ms/step - loss: 517.8685 - mae: 10.7140 - root_mean_squared_error: 22.7567\n",
      "Epoch 89/100\n",
      "1506/1506 [==============================] - 3s 2ms/step - loss: 509.4811 - mae: 10.6315 - root_mean_squared_error: 22.5717\n",
      "Epoch 90/100\n",
      "1506/1506 [==============================] - 3s 2ms/step - loss: 500.9059 - mae: 10.4885 - root_mean_squared_error: 22.3809\n",
      "Epoch 91/100\n",
      "1506/1506 [==============================] - 2s 2ms/step - loss: 493.9611 - mae: 10.4138 - root_mean_squared_error: 22.2252\n",
      "Epoch 92/100\n",
      "1506/1506 [==============================] - 3s 2ms/step - loss: 497.2519 - mae: 10.4889 - root_mean_squared_error: 22.2991\n",
      "Epoch 93/100\n",
      "1506/1506 [==============================] - 3s 2ms/step - loss: 499.5031 - mae: 10.4862 - root_mean_squared_error: 22.3496\n",
      "Epoch 94/100\n",
      "1506/1506 [==============================] - 2s 2ms/step - loss: 497.3579 - mae: 10.4820 - root_mean_squared_error: 22.3015\n",
      "Epoch 95/100\n",
      "1506/1506 [==============================] - 2s 1ms/step - loss: 499.1127 - mae: 10.4983 - root_mean_squared_error: 22.3408\n",
      "Epoch 96/100\n",
      "1506/1506 [==============================] - 2s 1ms/step - loss: 498.1273 - mae: 10.4923 - root_mean_squared_error: 22.3188\n",
      "Epoch 97/100\n",
      "1506/1506 [==============================] - 2s 1ms/step - loss: 489.7868 - mae: 10.3912 - root_mean_squared_error: 22.1311\n",
      "Epoch 98/100\n",
      "1506/1506 [==============================] - 2s 1ms/step - loss: 496.9417 - mae: 10.4883 - root_mean_squared_error: 22.2922A: 2s - loss: 488.2690 - mae: 10.\n",
      "Epoch 99/100\n",
      "1506/1506 [==============================] - 2s 1ms/step - loss: 498.0988 - mae: 10.4644 - root_mean_squared_error: 22.3181\n",
      "Epoch 100/100\n",
      "1506/1506 [==============================] - 2s 2ms/step - loss: 490.8223 - mae: 10.4317 - root_mean_squared_error: 22.1545\n"
     ]
    }
   ],
   "source": [
    "#Compile and train\n",
    "model_Miami_dni.compile(optimizer=Adam(lr=0.0001), \n",
    "              loss='mse',\n",
    "              metrics=['mae', keras.metrics.RootMeanSquaredError()])\n",
    "\n",
    "history_Miami_dni = model_Miami_dni.fit(input_arry, dni_arry, epochs=100, batch_size=64)"
   ]
  },
  {
   "cell_type": "code",
   "execution_count": 82,
   "metadata": {},
   "outputs": [
    {
     "name": "stderr",
     "output_type": "stream",
     "text": [
      "/usr/local/lib/python3.7/site-packages/matplotlib-2.2.4-py3.7-macosx-10.15-x86_64.egg/matplotlib/legend.py:640: UserWarning: Unrecognized location \"middle\". Falling back on \"best\"; valid locations are\n",
      "\tbest\n",
      "\tupper right\n",
      "\tupper left\n",
      "\tlower left\n",
      "\tlower right\n",
      "\tright\n",
      "\tcenter left\n",
      "\tcenter right\n",
      "\tlower center\n",
      "\tupper center\n",
      "\tcenter\n",
      "\n",
      "  % (loc, '\\n\\t'.join(self.codes)))\n"
     ]
    },
    {
     "data": {
      "image/png": "[encoded data removed]",
      "text/plain": [
       "<Figure size 432x288 with 1 Axes>"
      ]
     },
     "metadata": {},
     "output_type": "display_data"
    }
   ],
   "source": [
    "plt.plot(history_Miami.history['mae'])\n",
    "plt.plot(history_Miami.history['root_mean_squared_error'])\n",
    "plt.plot(history_Miami_dni.history['mae'])\n",
    "plt.plot(history_Miami_dni.history['root_mean_squared_error'])\n",
    "plt.title('MAE and RMSE per epoch')\n",
    "plt.ylabel('Error')\n",
    "plt.xlabel('Epoch')\n",
    "plt.legend(['MAE', 'RMSE','MAE-DNI', 'RMSE-DNI' ], loc='middle')\n",
    "plt.savefig('error-v-epoch-Miami.png')\n",
    "plt.show()"
   ]
  },
  {
   "cell_type": "markdown",
   "metadata": {},
   "source": [
    "Test on Miami 2018 data"
   ]
  },
  {
   "cell_type": "code",
   "execution_count": 83,
   "metadata": {},
   "outputs": [
    {
     "data": {
      "text/html": [
       "<div>\n",
       "<style scoped>\n",
       "    .dataframe tbody tr th:only-of-type {\n",
       "        vertical-align: middle;\n",
       "    }\n",
       "\n",
       "    .dataframe tbody tr th {\n",
       "        vertical-align: top;\n",
       "    }\n",
       "\n",
       "    .dataframe thead th {\n",
       "        text-align: right;\n",
       "    }\n",
       "</style>\n",
       "<table border=\"1\" class=\"dataframe\">\n",
       "  <thead>\n",
       "    <tr style=\"text-align: right;\">\n",
       "      <th></th>\n",
       "      <th>Year</th>\n",
       "      <th>Month</th>\n",
       "      <th>Day</th>\n",
       "      <th>Hour</th>\n",
       "      <th>Minute</th>\n",
       "      <th>Temperature</th>\n",
       "      <th>Clearsky DHI</th>\n",
       "      <th>Clearsky DNI</th>\n",
       "      <th>Clearsky GHI</th>\n",
       "      <th>Cloud Type</th>\n",
       "      <th>...</th>\n",
       "      <th>Solar Zenith Angle</th>\n",
       "      <th>Surface Albedo</th>\n",
       "      <th>Pressure</th>\n",
       "      <th>Precipitable Water</th>\n",
       "      <th>Wind Direction</th>\n",
       "      <th>Wind Speed</th>\n",
       "      <th>Global Horizontal UV Irradiance (280-400nm)</th>\n",
       "      <th>Global Horizontal UV Irradiance (285-385nm)</th>\n",
       "      <th>timestamps</th>\n",
       "      <th>Cloud Cover</th>\n",
       "    </tr>\n",
       "  </thead>\n",
       "  <tbody>\n",
       "    <tr>\n",
       "      <th>0</th>\n",
       "      <td>2018</td>\n",
       "      <td>1</td>\n",
       "      <td>1</td>\n",
       "      <td>0</td>\n",
       "      <td>30</td>\n",
       "      <td>21.1</td>\n",
       "      <td>0</td>\n",
       "      <td>0</td>\n",
       "      <td>0</td>\n",
       "      <td>0</td>\n",
       "      <td>...</td>\n",
       "      <td>113.89</td>\n",
       "      <td>0.08</td>\n",
       "      <td>1019</td>\n",
       "      <td>2.7</td>\n",
       "      <td>58</td>\n",
       "      <td>2.0</td>\n",
       "      <td>NaN</td>\n",
       "      <td>NaN</td>\n",
       "      <td>1514782800</td>\n",
       "      <td>0.30</td>\n",
       "    </tr>\n",
       "    <tr>\n",
       "      <th>1</th>\n",
       "      <td>2018</td>\n",
       "      <td>1</td>\n",
       "      <td>1</td>\n",
       "      <td>1</td>\n",
       "      <td>30</td>\n",
       "      <td>21.2</td>\n",
       "      <td>0</td>\n",
       "      <td>0</td>\n",
       "      <td>0</td>\n",
       "      <td>0</td>\n",
       "      <td>...</td>\n",
       "      <td>127.06</td>\n",
       "      <td>0.08</td>\n",
       "      <td>1019</td>\n",
       "      <td>2.8</td>\n",
       "      <td>63</td>\n",
       "      <td>1.8</td>\n",
       "      <td>NaN</td>\n",
       "      <td>NaN</td>\n",
       "      <td>1514786400</td>\n",
       "      <td>0.32</td>\n",
       "    </tr>\n",
       "    <tr>\n",
       "      <th>2</th>\n",
       "      <td>2018</td>\n",
       "      <td>1</td>\n",
       "      <td>1</td>\n",
       "      <td>2</td>\n",
       "      <td>30</td>\n",
       "      <td>21.2</td>\n",
       "      <td>0</td>\n",
       "      <td>0</td>\n",
       "      <td>0</td>\n",
       "      <td>0</td>\n",
       "      <td>...</td>\n",
       "      <td>140.43</td>\n",
       "      <td>0.08</td>\n",
       "      <td>1019</td>\n",
       "      <td>2.8</td>\n",
       "      <td>65</td>\n",
       "      <td>1.6</td>\n",
       "      <td>NaN</td>\n",
       "      <td>NaN</td>\n",
       "      <td>1514790000</td>\n",
       "      <td>0.23</td>\n",
       "    </tr>\n",
       "    <tr>\n",
       "      <th>3</th>\n",
       "      <td>2018</td>\n",
       "      <td>1</td>\n",
       "      <td>1</td>\n",
       "      <td>3</td>\n",
       "      <td>30</td>\n",
       "      <td>21.2</td>\n",
       "      <td>0</td>\n",
       "      <td>0</td>\n",
       "      <td>0</td>\n",
       "      <td>0</td>\n",
       "      <td>...</td>\n",
       "      <td>153.91</td>\n",
       "      <td>0.08</td>\n",
       "      <td>1018</td>\n",
       "      <td>2.9</td>\n",
       "      <td>57</td>\n",
       "      <td>1.3</td>\n",
       "      <td>NaN</td>\n",
       "      <td>NaN</td>\n",
       "      <td>1514793600</td>\n",
       "      <td>0.14</td>\n",
       "    </tr>\n",
       "    <tr>\n",
       "      <th>4</th>\n",
       "      <td>2018</td>\n",
       "      <td>1</td>\n",
       "      <td>1</td>\n",
       "      <td>4</td>\n",
       "      <td>30</td>\n",
       "      <td>21.1</td>\n",
       "      <td>0</td>\n",
       "      <td>0</td>\n",
       "      <td>0</td>\n",
       "      <td>0</td>\n",
       "      <td>...</td>\n",
       "      <td>167.37</td>\n",
       "      <td>0.08</td>\n",
       "      <td>1018</td>\n",
       "      <td>2.9</td>\n",
       "      <td>41</td>\n",
       "      <td>1.1</td>\n",
       "      <td>NaN</td>\n",
       "      <td>NaN</td>\n",
       "      <td>1514797200</td>\n",
       "      <td>0.14</td>\n",
       "    </tr>\n",
       "  </tbody>\n",
       "</table>\n",
       "<p>5 rows × 26 columns</p>\n",
       "</div>"
      ],
      "text/plain": [
       "   Year  Month  Day  Hour  Minute  Temperature  Clearsky DHI  Clearsky DNI  \\\n",
       "0  2018      1    1     0      30         21.1             0             0   \n",
       "1  2018      1    1     1      30         21.2             0             0   \n",
       "2  2018      1    1     2      30         21.2             0             0   \n",
       "3  2018      1    1     3      30         21.2             0             0   \n",
       "4  2018      1    1     4      30         21.1             0             0   \n",
       "\n",
       "   Clearsky GHI  Cloud Type  ...  Solar Zenith Angle  Surface Albedo  \\\n",
       "0             0           0  ...              113.89            0.08   \n",
       "1             0           0  ...              127.06            0.08   \n",
       "2             0           0  ...              140.43            0.08   \n",
       "3             0           0  ...              153.91            0.08   \n",
       "4             0           0  ...              167.37            0.08   \n",
       "\n",
       "   Pressure  Precipitable Water  Wind Direction  Wind Speed  \\\n",
       "0      1019                 2.7              58         2.0   \n",
       "1      1019                 2.8              63         1.8   \n",
       "2      1019                 2.8              65         1.6   \n",
       "3      1018                 2.9              57         1.3   \n",
       "4      1018                 2.9              41         1.1   \n",
       "\n",
       "   Global Horizontal UV Irradiance (280-400nm)  \\\n",
       "0                                          NaN   \n",
       "1                                          NaN   \n",
       "2                                          NaN   \n",
       "3                                          NaN   \n",
       "4                                          NaN   \n",
       "\n",
       "   Global Horizontal UV Irradiance (285-385nm)  timestamps  Cloud Cover  \n",
       "0                                          NaN  1514782800         0.30  \n",
       "1                                          NaN  1514786400         0.32  \n",
       "2                                          NaN  1514790000         0.23  \n",
       "3                                          NaN  1514793600         0.14  \n",
       "4                                          NaN  1514797200         0.14  \n",
       "\n",
       "[5 rows x 26 columns]"
      ]
     },
     "execution_count": 83,
     "metadata": {},
     "output_type": "execute_result"
    }
   ],
   "source": [
    "test_df = pd.read_csv(os.path.join(_Testing_Data_Dir, 'Miami_FL', 'psm_FL_Miami2018.csv'))\n",
    "test_df.head()"
   ]
  },
  {
   "cell_type": "code",
   "execution_count": 84,
   "metadata": {},
   "outputs": [],
   "source": [
    "input_size = 6\n",
    "test_input_arry = np.array([], dtype=np.float64).reshape(0,input_size)\n",
    "test_output_arry = np.array([], dtype=np.float64)\n",
    "test_dni_arry = np.array([], dtype=np.float64)\n",
    "test_input_arry, test_output_arry, test_dni_arry = combine_training_arrays(test_df, test_input_arry, test_output_arry, test_dni_arry)"
   ]
  },
  {
   "cell_type": "code",
   "execution_count": 85,
   "metadata": {},
   "outputs": [
    {
     "name": "stdout",
     "output_type": "stream",
     "text": [
      "274/274 [==============================] - 0s 794us/step - loss: 672.0304 - mae: 10.6658 - root_mean_squared_error: 25.9235\n"
     ]
    }
   ],
   "source": [
    "score = model_Miami.evaluate(test_input_arry, test_output_arry, verbose=1)"
   ]
  },
  {
   "cell_type": "code",
   "execution_count": 86,
   "metadata": {},
   "outputs": [],
   "source": [
    "#Mae of 10.1002....not bad!~"
   ]
  },
  {
   "cell_type": "code",
   "execution_count": 87,
   "metadata": {},
   "outputs": [
    {
     "name": "stdout",
     "output_type": "stream",
     "text": [
      "274/274 [==============================] - 0s 817us/step - loss: 1450.7910 - mae: 18.8467 - root_mean_squared_error: 38.0893\n"
     ]
    }
   ],
   "source": [
    "score_dni = model_Miami_dni.evaluate(test_input_arry, test_dni_arry, verbose=1)"
   ]
  },
  {
   "cell_type": "code",
   "execution_count": 130,
   "metadata": {},
   "outputs": [],
   "source": [
    "#Save models"
   ]
  },
  {
   "cell_type": "code",
   "execution_count": 132,
   "metadata": {},
   "outputs": [
    {
     "name": "stdout",
     "output_type": "stream",
     "text": [
      "INFO:tensorflow:Assets written to: Neural_Nets/Neural_Net_Boulder_CO/assets\n"
     ]
    }
   ],
   "source": [
    "model_Boulder.save('Neural_Nets/Neural_Net_Boulder_CO')"
   ]
  },
  {
   "cell_type": "code",
   "execution_count": 57,
   "metadata": {},
   "outputs": [
    {
     "name": "stdout",
     "output_type": "stream",
     "text": [
      "WARNING:tensorflow:From /usr/local/lib/python3.7/site-packages/tensorflow/python/training/tracking/tracking.py:111: Model.state_updates (from tensorflow.python.keras.engine.training) is deprecated and will be removed in a future version.\n",
      "Instructions for updating:\n",
      "This property should not be used in TensorFlow 2.0, as updates are applied automatically.\n",
      "WARNING:tensorflow:From /usr/local/lib/python3.7/site-packages/tensorflow/python/training/tracking/tracking.py:111: Layer.updates (from tensorflow.python.keras.engine.base_layer) is deprecated and will be removed in a future version.\n",
      "Instructions for updating:\n",
      "This property should not be used in TensorFlow 2.0, as updates are applied automatically.\n",
      "INFO:tensorflow:Assets written to: Neural_Nets/Neural_Net_Boulder_CO-dni/assets\n"
     ]
    }
   ],
   "source": [
    "model_Boulder_dni.save('Neural_Nets/Neural_Net_Boulder_CO-dni')"
   ]
  },
  {
   "cell_type": "code",
   "execution_count": 52,
   "metadata": {},
   "outputs": [
    {
     "name": "stdout",
     "output_type": "stream",
     "text": [
      "INFO:tensorflow:Assets written to: Neural_Nets/Neural_Net_Miami_FL/assets\n"
     ]
    }
   ],
   "source": [
    "model_Miami.save('Neural_Nets/Neural_Net_Miami_FL')"
   ]
  },
  {
   "cell_type": "code",
   "execution_count": 88,
   "metadata": {},
   "outputs": [
    {
     "name": "stdout",
     "output_type": "stream",
     "text": [
      "INFO:tensorflow:Assets written to: Neural_Nets/Neural_Net_Miami_FL-dni/assets\n"
     ]
    }
   ],
   "source": [
    "model_Miami_dni.save('Neural_Nets/Neural_Net_Miami_FL-dni')"
   ]
  },
  {
   "cell_type": "code",
   "execution_count": null,
   "metadata": {},
   "outputs": [],
   "source": []
  }
 ],
 "metadata": {
  "kernelspec": {
   "display_name": "Python 3",
   "language": "python",
   "name": "python3"
  },
  "language_info": {
   "codemirror_mode": {
    "name": "ipython",
    "version": 3
   },
   "file_extension": ".py",
   "mimetype": "text/x-python",
   "name": "python",
   "nbconvert_exporter": "python",
   "pygments_lexer": "ipython3",
   "version": "3.7.6"
  }
 },
 "nbformat": 4,
 "nbformat_minor": 4
}
