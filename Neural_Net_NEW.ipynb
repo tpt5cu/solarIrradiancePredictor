{
 "cells": [
  {
   "cell_type": "markdown",
   "metadata": {},
   "source": [
    "# Neural Network"
   ]
  },
  {
   "cell_type": "markdown",
   "metadata": {},
   "source": [
    "## I. Import and Load Data"
   ]
  },
  {
   "cell_type": "markdown",
   "metadata": {},
   "source": [
    "Training Data was pulled from two sources. \n",
    "\n",
    "Solar Irradience data was pulled from the [National Solar Radiation Database](https://nsrdb.nrel.gov/). Pointwise GHI, DHI, and DNI data is returned hourly for an entire calendar year. All irradience values are recorded in w/m^2. Location is for a latitude longitude coordinate pair. Coordinates were chosen based on the locations of [U.S. Climate Reference Network (USCRN)](https://www.ncdc.noaa.gov/crn/) monitoring stations. This is because the USCRN has real time measurements of GHI, which can be used to make real-time predictions of DHI. The NRSDB is not updated so frequently. \n",
    "\n",
    "The production prediction module in the [omf](https://github.com/dpinney/omf/wiki) uses GHI measuremeants read from USCRN. \n",
    "\n",
    "In addition to solar irradience data, this project uses other weather data such as cloud cover, air pressure, and season data to try and model the relationship between GHI and DHI. For that, this project pulls data from [darksky](https://darksky.net/dev). And that data is combined with the NRSDB data for testing."
   ]
  },
  {
   "cell_type": "markdown",
   "metadata": {},
   "source": [
    "Please NOTE! In this notebook, the directory \"Testing_Data\" does not mean it is solely Testing Data. Rather for this Neural network, it contains both testing and training data. This is because the neural network requires much more data to train than regression. So much of the same data used to test the regression model is now being used to train the neural network. The True training data for the neural network is in \"Proudction_Test\", where the data is from USCRN and combined with data combed from darksky."
   ]
  },
  {
   "cell_type": "code",
   "execution_count": 109,
   "metadata": {},
   "outputs": [],
   "source": [
    "import pandas as pd\n",
    "import os\n",
    "import numpy as np\n",
    "from glob import glob\n",
    "from matplotlib import pyplot as plt\n",
    "import seaborn as sns\n",
    "from random import randint\n",
    "from glob import glob\n",
    "from math import sin, cos, asin, acos, sqrt"
   ]
  },
  {
   "cell_type": "code",
   "execution_count": 110,
   "metadata": {},
   "outputs": [],
   "source": [
    "import tensorflow as tf\n",
    "from tensorflow import keras\n",
    "from tensorflow.keras import layers"
   ]
  },
  {
   "cell_type": "code",
   "execution_count": 3,
   "metadata": {},
   "outputs": [],
   "source": [
    "def featureHistograms(df, features=['GHI','DHI','Cloud Cover'],):\n",
    "    sns.set_style('darkgrid')\n",
    "    fig, axs = plt.subplots(ncols=len(features))\n",
    "    for i in range(len(features)):\n",
    "        sns.distplot(df[features[i]], ax=axs[i])"
   ]
  },
  {
   "cell_type": "code",
   "execution_count": 4,
   "metadata": {},
   "outputs": [],
   "source": [
    "#Lets try and make a neural network"
   ]
  },
  {
   "cell_type": "code",
   "execution_count": 5,
   "metadata": {},
   "outputs": [
    {
     "name": "stdout",
     "output_type": "stream",
     "text": [
      "/Users/tuomastalvitie/Documents/Diffuse:Direct/solarIrradiencePredictor/Testing_Data\n"
     ]
    }
   ],
   "source": [
    "#Get 2018 Data\n",
    "_Curr_Dir = os.getcwd()\n",
    "_Testing_Data_Dir = os.path.join(_Curr_Dir, 'Testing_Data')\n",
    "print(_Testing_Data_Dir)"
   ]
  },
  {
   "cell_type": "code",
   "execution_count": 6,
   "metadata": {},
   "outputs": [
    {
     "data": {
      "text/html": [
       "<div>\n",
       "<style scoped>\n",
       "    .dataframe tbody tr th:only-of-type {\n",
       "        vertical-align: middle;\n",
       "    }\n",
       "\n",
       "    .dataframe tbody tr th {\n",
       "        vertical-align: top;\n",
       "    }\n",
       "\n",
       "    .dataframe thead th {\n",
       "        text-align: right;\n",
       "    }\n",
       "</style>\n",
       "<table border=\"1\" class=\"dataframe\">\n",
       "  <thead>\n",
       "    <tr style=\"text-align: right;\">\n",
       "      <th></th>\n",
       "      <th>Year</th>\n",
       "      <th>Month</th>\n",
       "      <th>Day</th>\n",
       "      <th>Hour</th>\n",
       "      <th>Minute</th>\n",
       "      <th>Temperature</th>\n",
       "      <th>Clearsky DHI</th>\n",
       "      <th>Clearsky DNI</th>\n",
       "      <th>Clearsky GHI</th>\n",
       "      <th>Cloud Type</th>\n",
       "      <th>...</th>\n",
       "      <th>GHI</th>\n",
       "      <th>Relative Humidity</th>\n",
       "      <th>Solar Zenith Angle</th>\n",
       "      <th>Surface Albedo</th>\n",
       "      <th>Pressure</th>\n",
       "      <th>Precipitable Water</th>\n",
       "      <th>Wind Direction</th>\n",
       "      <th>Wind Speed</th>\n",
       "      <th>timestamps</th>\n",
       "      <th>Cloud Cover</th>\n",
       "    </tr>\n",
       "  </thead>\n",
       "  <tbody>\n",
       "    <tr>\n",
       "      <th>0</th>\n",
       "      <td>2018</td>\n",
       "      <td>1</td>\n",
       "      <td>1</td>\n",
       "      <td>0</td>\n",
       "      <td>30</td>\n",
       "      <td>-22.5</td>\n",
       "      <td>0</td>\n",
       "      <td>0</td>\n",
       "      <td>0</td>\n",
       "      <td>8</td>\n",
       "      <td>...</td>\n",
       "      <td>0</td>\n",
       "      <td>62.75</td>\n",
       "      <td>103.76</td>\n",
       "      <td>0.69</td>\n",
       "      <td>978</td>\n",
       "      <td>0.1</td>\n",
       "      <td>296</td>\n",
       "      <td>2.1</td>\n",
       "      <td>1514739600</td>\n",
       "      <td>0.0</td>\n",
       "    </tr>\n",
       "    <tr>\n",
       "      <th>1</th>\n",
       "      <td>2018</td>\n",
       "      <td>1</td>\n",
       "      <td>1</td>\n",
       "      <td>1</td>\n",
       "      <td>30</td>\n",
       "      <td>-23.1</td>\n",
       "      <td>0</td>\n",
       "      <td>0</td>\n",
       "      <td>0</td>\n",
       "      <td>0</td>\n",
       "      <td>...</td>\n",
       "      <td>0</td>\n",
       "      <td>66.39</td>\n",
       "      <td>114.24</td>\n",
       "      <td>0.69</td>\n",
       "      <td>978</td>\n",
       "      <td>0.1</td>\n",
       "      <td>287</td>\n",
       "      <td>2.2</td>\n",
       "      <td>1514743200</td>\n",
       "      <td>0.0</td>\n",
       "    </tr>\n",
       "    <tr>\n",
       "      <th>2</th>\n",
       "      <td>2018</td>\n",
       "      <td>1</td>\n",
       "      <td>1</td>\n",
       "      <td>2</td>\n",
       "      <td>30</td>\n",
       "      <td>-23.6</td>\n",
       "      <td>0</td>\n",
       "      <td>0</td>\n",
       "      <td>0</td>\n",
       "      <td>8</td>\n",
       "      <td>...</td>\n",
       "      <td>0</td>\n",
       "      <td>69.34</td>\n",
       "      <td>125.01</td>\n",
       "      <td>0.69</td>\n",
       "      <td>978</td>\n",
       "      <td>0.1</td>\n",
       "      <td>283</td>\n",
       "      <td>2.3</td>\n",
       "      <td>1514746800</td>\n",
       "      <td>0.0</td>\n",
       "    </tr>\n",
       "    <tr>\n",
       "      <th>3</th>\n",
       "      <td>2018</td>\n",
       "      <td>1</td>\n",
       "      <td>1</td>\n",
       "      <td>3</td>\n",
       "      <td>30</td>\n",
       "      <td>-23.9</td>\n",
       "      <td>0</td>\n",
       "      <td>0</td>\n",
       "      <td>0</td>\n",
       "      <td>8</td>\n",
       "      <td>...</td>\n",
       "      <td>0</td>\n",
       "      <td>71.25</td>\n",
       "      <td>135.74</td>\n",
       "      <td>0.69</td>\n",
       "      <td>978</td>\n",
       "      <td>0.1</td>\n",
       "      <td>283</td>\n",
       "      <td>2.3</td>\n",
       "      <td>1514750400</td>\n",
       "      <td>0.0</td>\n",
       "    </tr>\n",
       "    <tr>\n",
       "      <th>4</th>\n",
       "      <td>2018</td>\n",
       "      <td>1</td>\n",
       "      <td>1</td>\n",
       "      <td>4</td>\n",
       "      <td>30</td>\n",
       "      <td>-24.1</td>\n",
       "      <td>0</td>\n",
       "      <td>0</td>\n",
       "      <td>0</td>\n",
       "      <td>8</td>\n",
       "      <td>...</td>\n",
       "      <td>0</td>\n",
       "      <td>72.87</td>\n",
       "      <td>145.93</td>\n",
       "      <td>0.69</td>\n",
       "      <td>979</td>\n",
       "      <td>0.1</td>\n",
       "      <td>284</td>\n",
       "      <td>2.3</td>\n",
       "      <td>1514754000</td>\n",
       "      <td>0.0</td>\n",
       "    </tr>\n",
       "  </tbody>\n",
       "</table>\n",
       "<p>5 rows × 24 columns</p>\n",
       "</div>"
      ],
      "text/plain": [
       "   Year  Month  Day  Hour  Minute  Temperature  Clearsky DHI  Clearsky DNI  \\\n",
       "0  2018      1    1     0      30        -22.5             0             0   \n",
       "1  2018      1    1     1      30        -23.1             0             0   \n",
       "2  2018      1    1     2      30        -23.6             0             0   \n",
       "3  2018      1    1     3      30        -23.9             0             0   \n",
       "4  2018      1    1     4      30        -24.1             0             0   \n",
       "\n",
       "   Clearsky GHI  Cloud Type  ...  GHI  Relative Humidity  Solar Zenith Angle  \\\n",
       "0             0           8  ...    0              62.75              103.76   \n",
       "1             0           0  ...    0              66.39              114.24   \n",
       "2             0           8  ...    0              69.34              125.01   \n",
       "3             0           8  ...    0              71.25              135.74   \n",
       "4             0           8  ...    0              72.87              145.93   \n",
       "\n",
       "   Surface Albedo  Pressure  Precipitable Water  Wind Direction  Wind Speed  \\\n",
       "0            0.69       978                 0.1             296         2.1   \n",
       "1            0.69       978                 0.1             287         2.2   \n",
       "2            0.69       978                 0.1             283         2.3   \n",
       "3            0.69       978                 0.1             283         2.3   \n",
       "4            0.69       979                 0.1             284         2.3   \n",
       "\n",
       "   timestamps  Cloud Cover  \n",
       "0  1514739600          0.0  \n",
       "1  1514743200          0.0  \n",
       "2  1514746800          0.0  \n",
       "3  1514750400          0.0  \n",
       "4  1514754000          0.0  \n",
       "\n",
       "[5 rows x 24 columns]"
      ]
     },
     "execution_count": 6,
     "metadata": {},
     "output_type": "execute_result"
    }
   ],
   "source": [
    "pd.read_csv(os.path.join(_Testing_Data_Dir, 'psm_south_dakota', 'psm_testing_data2018.csv')).head()"
   ]
  },
  {
   "cell_type": "code",
   "execution_count": 7,
   "metadata": {},
   "outputs": [
    {
     "data": {
      "image/png": "[encoded data removed]",
      "text/plain": [
       "<Figure size 432x288 with 3 Axes>"
      ]
     },
     "metadata": {},
     "output_type": "display_data"
    }
   ],
   "source": [
    "df = pd.read_csv(os.path.join(_Testing_Data_Dir, 'psm_south_dakota', 'psm_testing_data2018.csv'))\n",
    "featureHistograms(df)"
   ]
  },
  {
   "cell_type": "markdown",
   "metadata": {},
   "source": [
    "## II. Features and Data Engineering"
   ]
  },
  {
   "cell_type": "markdown",
   "metadata": {},
   "source": [
    "So we have all the above variables....Which ones do we think would work best in a NN?"
   ]
  },
  {
   "cell_type": "markdown",
   "metadata": {},
   "source": [
    "So we want to predict DHI, at the very least. Maybe DNI as well. What can we use to predict? \n",
    "[More Information on GHI, DHI, and DNI here!](https://firstgreenconsulting.wordpress.com/2012/04/26/differentiate-between-the-dni-dhi-and-ghi/#:~:text=Global%20Horizontal%20Irradiance%20(GHI)%20is,Diffuse%20Horizontal%20Irradiance%20(DHI).)\n",
    "\n",
    "But a useful relationship to keep in mind is:\n",
    "\n",
    "*Global Horizontal (GHI) = Direct Normal (DNI) X cos(θ) + Diffuse Horizontal (DHI)*\n",
    "\n",
    "**GHI** is a must, as it is the primary metric our sensors will feed into such a model. \n",
    "\n",
    "**Cloud cover** is also essential, as cloud cover is one of the primary factors in how much direct normal solar irradience is diffused.\n",
    "\n",
    "**Solar Zenith Angle** is important as it dictates how much irradience is direct normal (DNI)\n",
    "\n",
    "Another useful relatinship to capture is **time**. We are given timestamps in addition to month, day, year, second, hour and minute variables. Timestamps and/or a combination between day + month would not be super useful, as it would overfit to the day. \n",
    "A more useful relationship would be to capture time of day. This is useful because in a non - featurized dataset, many GHI readings will read '0', simply because it is dark out. We are primarily concerned about the relationship between GHI and DHI, therefore factoring in readings when there is no sunlight to begin with could be confounding. Therefore adding in **minute** and **hour** variables in the input vector could adequately capture this relationship. \n",
    "\n",
    "Another solution would be to featurize this dataset, whereby we create a seperate feature which is a combination of day + time. OR, we could completly remove the nighttime entries entirely to ensure we only are concerned with readings that occur when the sun is out. However this occurs on a gradient, because sunlight is defracted even after sunset. So for now, let's just fit the model on the unedited dataset. \n",
    "\n",
    "Another good idea is to create a **season** variable, which is a dummy variable for each season (Fall, Winter, Spring, Summer), as different amounts of sunlight occur during each. The problem is that, for different locations on earth, seasonality could be inversely correlated with sunlight and thus GHI, DHI, and DNI. \n",
    "\n",
    "To keep the model as general as possible, we will exclude seasonality. \n",
    "\n",
    "Another useful metric is **Pressure**. According to the renowned [DISC model](https://www.nrel.gov/docs/legosti/old/3087.pdf), air pressure is included as a proxy for *air mass*, which is the amount of atmosphere solar rays have to travel through. The larger the solar mass, the more solar rays are scattered. \n",
    "\n"
   ]
  },
  {
   "cell_type": "markdown",
   "metadata": {},
   "source": [
    "### Loading the Data"
   ]
  },
  {
   "cell_type": "markdown",
   "metadata": {},
   "source": [
    "Get training arrays and combine them into a useable vector\n",
    "\n",
    "-Useful params:  \n",
    "-Hours  \n",
    "-Cloud Cover  \n",
    "-GHI  \n",
    "-Solar Zenith  \n",
    "-Pressure  \n",
    "\n",
    "\n",
    "Training Locations with Lat/Lon:  \n",
    "-**Reliance, South Dakota** (43.85, -99.50) from 2010-2018  \n",
    "-**Everglades, FL** (26.004157 ,-81.119239) from 2010-2018  \n",
    "-**Spokane, WA** (47.41,-117.52) from 2010-2018  \n",
    "-**Austin, TX** (30.581736,-98.024098) from 2010-2018  \n",
    "-**Charlottesville, VA** (38.0086,-78.4532) from 2010-2018  "
   ]
  },
  {
   "cell_type": "markdown",
   "metadata": {},
   "source": [
    "Please NOTE! In this notebook, the directory \"Testing_Data\" does not mean it is solely Testing Data. Rather for this Neural network, it contains both testing and training data. \n",
    "This is because the neural network requires much more data to train than regression. So much of the same data used to test the regression model is now being used to train the neural network. The True training data for the neural network is in \"Proudction_Test\", where the data is from USCRN and combined with data combed from darksky. "
   ]
  },
  {
   "cell_type": "code",
   "execution_count": 13,
   "metadata": {},
   "outputs": [],
   "source": [
    "def combine_training_arrays(df, input_arry, output_arr, dni_arr):\n",
    "    ghi  = df['GHI'].values\n",
    "    cloud_cover = df['Cloud Cover'].values\n",
    "    hours = df['Hour'].values\n",
    "    minutes = df['Minute'].values\n",
    "    solar_zenith = df['Solar Zenith Angle'].values\n",
    "    pressure = df['Pressure'].values\n",
    "    dhi = df['DHI'].values\n",
    "    dni = df['DNI'].values\n",
    "    #Sanity check, should all be 8760\n",
    "    assert len(pressure)==len(solar_zenith)==len(minutes)==len(hours)==len(cloud_cover)==len(ghi)==len(dni)==8760, \"len of input array not 8760\"\n",
    "    ar = np.array([ghi, cloud_cover, hours, minutes, solar_zenith, pressure]).T\n",
    "    input_arry = np.concatenate((input_arry, ar))\n",
    "    output_arr = np.concatenate((output_arr, np.array(dhi).T))\n",
    "    dni_arr = np.concatenate((dni_arr, np.array(dni).T))\n",
    "    return input_arry, output_arr, dni_arr\n"
   ]
  },
  {
   "cell_type": "code",
   "execution_count": 16,
   "metadata": {},
   "outputs": [
    {
     "name": "stdout",
     "output_type": "stream",
     "text": [
      "[]\n",
      "[]\n",
      "[]\n",
      "394200 (394200, 6)\n",
      "394200 (394200,)\n",
      "394200 (394200,)\n"
     ]
    }
   ],
   "source": [
    "# test_files = ['Murphey_ID', 'OldTown_ME', 'Quinault_WA', 'Lincoln_NE', 'SanDiego_CA', 'Boulder_CO', 'Miami_FL', 'outer_banks']\n",
    "training_files = ['psm_south_dakota', 'Everglades_FL', 'Spokane_WA', 'Austin_TX', 'Charlottesville']\n",
    "input_size = 6\n",
    "input_arry = np.array([], dtype=np.float64).reshape(0,input_size)\n",
    "output_arry = np.array([], dtype=np.float64)\n",
    "dni_arr = np.array([], dtype=np.float64)\n",
    "print(input_arry)\n",
    "print(output_arry)\n",
    "print(dni_arr)\n",
    "for directory in training_files:\n",
    "    for file in glob(_Testing_Data_Dir+'/'+directory+'/psm_*'):\n",
    "        df = pd.read_csv(file)\n",
    "        input_arry, output_arry, dni_arr = combine_training_arrays(df, input_arry, output_arry, dni_arr)\n",
    "print(len(input_arry), input_arry.shape)\n",
    "print(len(output_arry), output_arry.shape)\n",
    "print(len(dni_arr), dni_arr.shape)"
   ]
  },
  {
   "cell_type": "code",
   "execution_count": 17,
   "metadata": {},
   "outputs": [
    {
     "name": "stdout",
     "output_type": "stream",
     "text": [
      "630720\n"
     ]
    }
   ],
   "source": [
    "#sanity check, make sure 8760*number of files we look at == 429240\n",
    "count = 0\n",
    "for path in glob(_Testing_Data_Dir+'/*'):\n",
    "    for file in glob(path+'/psm_'+'*'):\n",
    "        count+=1\n",
    "print(count*8760)"
   ]
  },
  {
   "cell_type": "markdown",
   "metadata": {},
   "source": [
    "# III. Training"
   ]
  },
  {
   "cell_type": "code",
   "execution_count": 141,
   "metadata": {},
   "outputs": [],
   "source": [
    "from tensorflow.keras.optimizers import Adam"
   ]
  },
  {
   "cell_type": "code",
   "execution_count": 142,
   "metadata": {},
   "outputs": [],
   "source": [
    "keras.backend.clear_session()\n",
    "tf.keras.backend.clear_session()"
   ]
  },
  {
   "cell_type": "code",
   "execution_count": 143,
   "metadata": {},
   "outputs": [],
   "source": [
    "#Epoch size of 50 seems reasonable"
   ]
  },
  {
   "cell_type": "code",
   "execution_count": 144,
   "metadata": {},
   "outputs": [
    {
     "data": {
      "text/plain": [
       "<function tensorflow.python.framework.ops.reset_default_graph()>"
      ]
     },
     "execution_count": 144,
     "metadata": {},
     "output_type": "execute_result"
    }
   ],
   "source": [
    "keras.backend.clear_session()\n",
    "tf.keras.backend.clear_session()\n",
    "tf.compat.v1.reset_default_graph"
   ]
  },
  {
   "cell_type": "code",
   "execution_count": 145,
   "metadata": {},
   "outputs": [],
   "source": [
    "keras.backend.clear_session()\n",
    "tf.keras.backend.clear_session()"
   ]
  },
  {
   "cell_type": "code",
   "execution_count": 146,
   "metadata": {},
   "outputs": [],
   "source": [
    "#make RMSE a custom metric"
   ]
  },
  {
   "cell_type": "code",
   "execution_count": 147,
   "metadata": {},
   "outputs": [],
   "source": [
    "# def rmse(y_true, y_pred):\n",
    "#     return keras.backend.sqrt(keras.backend.mean(keras.backend.square(y_pred - y_true), axis=-1))"
   ]
  },
  {
   "cell_type": "code",
   "execution_count": null,
   "metadata": {},
   "outputs": [],
   "source": []
  },
  {
   "cell_type": "code",
   "execution_count": 148,
   "metadata": {},
   "outputs": [],
   "source": [
    "model = keras.Sequential()\n",
    "model.add(layers.Dense(300, activation=\"relu\"))\n",
    "model.add(layers.Dense(200, activation=\"relu\"))\n",
    "model.add(layers.Dense(100, activation=\"relu\"))\n",
    "model.add(layers.Dense(50, activation=\"relu\"))\n",
    "model.add(layers.Dense(25, activation=\"relu\"))\n",
    "model.add(layers.Dense(1, activation='relu'))"
   ]
  },
  {
   "cell_type": "code",
   "execution_count": null,
   "metadata": {},
   "outputs": [
    {
     "name": "stdout",
     "output_type": "stream",
     "text": [
      "Epoch 1/100\n",
      "6160/6160 [==============================] - 11s 2ms/step - loss: 14195.6182 - mae: 65.8990 - root_mean_squared_error: 119.1454 0s - loss: 14204.4219 - mae: 65.8808 - root_me\n",
      "Epoch 2/100\n",
      "6160/6160 [==============================] - 13s 2ms/step - loss: 14195.6699 - mae: 65.8989 - root_mean_squared_error: 119.1456\n",
      "Epoch 3/100\n",
      "6160/6160 [==============================] - 14s 2ms/step - loss: 14195.5840 - mae: 65.8991 - root_mean_squared_error: 119.1452\n",
      "Epoch 4/100\n",
      "6160/6160 [==============================] - 16s 3ms/step - loss: 14195.6260 - mae: 65.8987 - root_mean_squared_error: 119.1454\n",
      "Epoch 5/100\n",
      "6160/6160 [==============================] - 13s 2ms/step - loss: 14195.6348 - mae: 65.8987 - root_mean_squared_error: 119.1454 0s - loss: 14177.8389 - mae: 65.8449 - roo\n",
      "Epoch 6/100\n",
      "6160/6160 [==============================] - 13s 2ms/step - loss: 14195.6309 - mae: 65.8989 - root_mean_squared_error: 119.1454\n",
      "Epoch 7/100\n",
      "6160/6160 [==============================] - 13s 2ms/step - loss: 14195.6367 - mae: 65.8988 - root_mean_squared_error: 119.1454\n",
      "Epoch 8/100\n",
      "6160/6160 [==============================] - 16s 3ms/step - loss: 14195.6270 - mae: 65.8989 - root_mean_squared_error: 119.1454\n",
      "Epoch 9/100\n",
      "6160/6160 [==============================] - 12s 2ms/step - loss: 14195.6250 - mae: 65.8989 - root_mean_squared_error: 119.1454\n",
      "Epoch 10/100\n",
      "6160/6160 [==============================] - 15s 2ms/step - loss: 14195.5879 - mae: 65.8987 - root_mean_squared_error: 119.1452\n",
      "Epoch 11/100\n",
      "6160/6160 [==============================] - 12s 2ms/step - loss: 14195.6250 - mae: 65.8990 - root_mean_squared_error: 119.1454\n",
      "Epoch 12/100\n",
      "3417/6160 [===============>..............] - ETA: 5s - loss: 14264.6875 - mae: 66.0877 - root_mean_squared_error: 119.4349"
     ]
    }
   ],
   "source": [
    "#Compile and train\n",
    "model.compile(optimizer=Adam(lr=0.0001), \n",
    "              loss='mse',\n",
    "              metrics=['mae',keras.metrics.RootMeanSquaredError()])\n",
    "\n",
    "history = model.fit(input_arry, output_arry, epochs=100, batch_size=64)"
   ]
  },
  {
   "cell_type": "code",
   "execution_count": 123,
   "metadata": {},
   "outputs": [
    {
     "name": "stdout",
     "output_type": "stream",
     "text": [
      "Model: \"sequential\"\n",
      "_________________________________________________________________\n",
      "Layer (type)                 Output Shape              Param #   \n",
      "=================================================================\n",
      "dense (Dense)                (None, 300)               2100      \n",
      "_________________________________________________________________\n",
      "dense_1 (Dense)              (None, 200)               60200     \n",
      "_________________________________________________________________\n",
      "dense_2 (Dense)              (None, 100)               20100     \n",
      "_________________________________________________________________\n",
      "dense_3 (Dense)              (None, 50)                5050      \n",
      "_________________________________________________________________\n",
      "dense_4 (Dense)              (None, 25)                1275      \n",
      "_________________________________________________________________\n",
      "dense_5 (Dense)              (None, 1)                 26        \n",
      "=================================================================\n",
      "Total params: 88,751\n",
      "Trainable params: 88,751\n",
      "Non-trainable params: 0\n",
      "_________________________________________________________________\n"
     ]
    }
   ],
   "source": [
    "model.summary()"
   ]
  },
  {
   "cell_type": "code",
   "execution_count": 124,
   "metadata": {},
   "outputs": [
    {
     "name": "stderr",
     "output_type": "stream",
     "text": [
      "/usr/local/lib/python3.7/site-packages/matplotlib-2.2.4-py3.7-macosx-10.15-x86_64.egg/matplotlib/legend.py:640: UserWarning: Unrecognized location \"middle\". Falling back on \"best\"; valid locations are\n",
      "\tbest\n",
      "\tupper right\n",
      "\tupper left\n",
      "\tlower left\n",
      "\tlower right\n",
      "\tright\n",
      "\tcenter left\n",
      "\tcenter right\n",
      "\tlower center\n",
      "\tupper center\n",
      "\tcenter\n",
      "\n",
      "  % (loc, '\\n\\t'.join(self.codes)))\n"
     ]
    },
    {
     "data": {
      "image/png": "[encoded data removed]",
      "text/plain": [
       "<Figure size 432x288 with 1 Axes>"
      ]
     },
     "metadata": {},
     "output_type": "display_data"
    }
   ],
   "source": [
    "plt.plot(history.history['mae'])\n",
    "plt.plot(history.history['root_mean_squared_error'])\n",
    "plt.title('MAE and RMSE per epoch')\n",
    "plt.ylabel('Error')\n",
    "plt.xlabel('Epoch')\n",
    "plt.legend(['MAE', 'RMSE'], loc='middle')\n",
    "plt.savefig('error-v-epoch.png')\n",
    "plt.show()"
   ]
  },
  {
   "cell_type": "code",
   "execution_count": 48,
   "metadata": {},
   "outputs": [],
   "source": [
    "#mae: 4.2719\n",
    "#rmse 10.51"
   ]
  },
  {
   "cell_type": "code",
   "execution_count": 49,
   "metadata": {},
   "outputs": [],
   "source": [
    "#MAE of around 4 w/m2. Considering DHI values go from 0 - 400, 4 represents a 1% error value"
   ]
  },
  {
   "cell_type": "code",
   "execution_count": null,
   "metadata": {},
   "outputs": [],
   "source": [
    "# Prediction with DNI included\n",
    "\n",
    "\n",
    "keras.backend.clear_session()\n",
    "tf.keras.backend.clear_session()\n",
    "\n",
    "keras.backend.clear_session()\n",
    "tf.keras.backend.clear_session()\n",
    "tf.compat.v1.reset_default_graph\n",
    "\n",
    "keras.backend.clear_session()\n",
    "tf.keras.backend.clear_session()"
   ]
  },
  {
   "cell_type": "code",
   "execution_count": null,
   "metadata": {},
   "outputs": [],
   "source": [
    "model_dni = keras.Sequential()\n",
    "model_dni.add(layers.Dense(300, activation=\"relu\"))\n",
    "model_dni.add(layers.Dense(200, activation=\"relu\"))\n",
    "model_dni.add(layers.Dense(100, activation=\"relu\"))\n",
    "model_dni.add(layers.Dense(50, activation=\"relu\"))\n",
    "model_dni.add(layers.Dense(25, activation=\"relu\"))\n",
    "model_dni.add(layers.Dense(1, activation='relu'))"
   ]
  },
  {
   "cell_type": "code",
   "execution_count": null,
   "metadata": {},
   "outputs": [],
   "source": [
    "#Compile and train\n",
    "model_dni.compile(optimizer=Adam(lr=0.0001), \n",
    "              loss='mse',\n",
    "              metrics=['mae',keras.metrics.RootMeanSquaredError()])\n",
    "\n",
    "history_dni = model.fit(input_arry, dni_arr, epochs=100, batch_size=64)"
   ]
  },
  {
   "cell_type": "markdown",
   "metadata": {},
   "source": [
    "## IV. Model Validation - Outer Banks"
   ]
  },
  {
   "cell_type": "code",
   "execution_count": 50,
   "metadata": {},
   "outputs": [
    {
     "data": {
      "text/html": [
       "<div>\n",
       "<style scoped>\n",
       "    .dataframe tbody tr th:only-of-type {\n",
       "        vertical-align: middle;\n",
       "    }\n",
       "\n",
       "    .dataframe tbody tr th {\n",
       "        vertical-align: top;\n",
       "    }\n",
       "\n",
       "    .dataframe thead th {\n",
       "        text-align: right;\n",
       "    }\n",
       "</style>\n",
       "<table border=\"1\" class=\"dataframe\">\n",
       "  <thead>\n",
       "    <tr style=\"text-align: right;\">\n",
       "      <th></th>\n",
       "      <th>Year</th>\n",
       "      <th>Month</th>\n",
       "      <th>Day</th>\n",
       "      <th>Hour</th>\n",
       "      <th>Minute</th>\n",
       "      <th>Temperature</th>\n",
       "      <th>Clearsky DHI</th>\n",
       "      <th>Clearsky DNI</th>\n",
       "      <th>Clearsky GHI</th>\n",
       "      <th>Cloud Type</th>\n",
       "      <th>...</th>\n",
       "      <th>GHI</th>\n",
       "      <th>Relative Humidity</th>\n",
       "      <th>Solar Zenith Angle</th>\n",
       "      <th>Surface Albedo</th>\n",
       "      <th>Pressure</th>\n",
       "      <th>Precipitable Water</th>\n",
       "      <th>Wind Direction</th>\n",
       "      <th>Wind Speed</th>\n",
       "      <th>timestamps</th>\n",
       "      <th>Cloud Cover</th>\n",
       "    </tr>\n",
       "  </thead>\n",
       "  <tbody>\n",
       "    <tr>\n",
       "      <th>0</th>\n",
       "      <td>2018</td>\n",
       "      <td>1</td>\n",
       "      <td>1</td>\n",
       "      <td>0</td>\n",
       "      <td>30</td>\n",
       "      <td>1.8</td>\n",
       "      <td>0</td>\n",
       "      <td>0</td>\n",
       "      <td>0</td>\n",
       "      <td>4</td>\n",
       "      <td>...</td>\n",
       "      <td>0</td>\n",
       "      <td>85.84</td>\n",
       "      <td>119.89</td>\n",
       "      <td>0.03</td>\n",
       "      <td>1026</td>\n",
       "      <td>1.2</td>\n",
       "      <td>350</td>\n",
       "      <td>8.6</td>\n",
       "      <td>1514782800</td>\n",
       "      <td>1.00</td>\n",
       "    </tr>\n",
       "    <tr>\n",
       "      <th>1</th>\n",
       "      <td>2018</td>\n",
       "      <td>1</td>\n",
       "      <td>1</td>\n",
       "      <td>1</td>\n",
       "      <td>30</td>\n",
       "      <td>1.6</td>\n",
       "      <td>0</td>\n",
       "      <td>0</td>\n",
       "      <td>0</td>\n",
       "      <td>4</td>\n",
       "      <td>...</td>\n",
       "      <td>0</td>\n",
       "      <td>87.76</td>\n",
       "      <td>132.05</td>\n",
       "      <td>0.03</td>\n",
       "      <td>1026</td>\n",
       "      <td>1.2</td>\n",
       "      <td>348</td>\n",
       "      <td>8.7</td>\n",
       "      <td>1514786400</td>\n",
       "      <td>0.94</td>\n",
       "    </tr>\n",
       "    <tr>\n",
       "      <th>2</th>\n",
       "      <td>2018</td>\n",
       "      <td>1</td>\n",
       "      <td>1</td>\n",
       "      <td>2</td>\n",
       "      <td>30</td>\n",
       "      <td>1.5</td>\n",
       "      <td>0</td>\n",
       "      <td>0</td>\n",
       "      <td>0</td>\n",
       "      <td>4</td>\n",
       "      <td>...</td>\n",
       "      <td>0</td>\n",
       "      <td>88.35</td>\n",
       "      <td>144.19</td>\n",
       "      <td>0.03</td>\n",
       "      <td>1026</td>\n",
       "      <td>1.1</td>\n",
       "      <td>346</td>\n",
       "      <td>8.7</td>\n",
       "      <td>1514790000</td>\n",
       "      <td>1.00</td>\n",
       "    </tr>\n",
       "    <tr>\n",
       "      <th>3</th>\n",
       "      <td>2018</td>\n",
       "      <td>1</td>\n",
       "      <td>1</td>\n",
       "      <td>3</td>\n",
       "      <td>30</td>\n",
       "      <td>1.4</td>\n",
       "      <td>0</td>\n",
       "      <td>0</td>\n",
       "      <td>0</td>\n",
       "      <td>4</td>\n",
       "      <td>...</td>\n",
       "      <td>0</td>\n",
       "      <td>89.16</td>\n",
       "      <td>155.85</td>\n",
       "      <td>0.03</td>\n",
       "      <td>1026</td>\n",
       "      <td>1.1</td>\n",
       "      <td>346</td>\n",
       "      <td>8.7</td>\n",
       "      <td>1514793600</td>\n",
       "      <td>1.00</td>\n",
       "    </tr>\n",
       "    <tr>\n",
       "      <th>4</th>\n",
       "      <td>2018</td>\n",
       "      <td>1</td>\n",
       "      <td>1</td>\n",
       "      <td>4</td>\n",
       "      <td>30</td>\n",
       "      <td>1.4</td>\n",
       "      <td>0</td>\n",
       "      <td>0</td>\n",
       "      <td>0</td>\n",
       "      <td>4</td>\n",
       "      <td>...</td>\n",
       "      <td>0</td>\n",
       "      <td>89.52</td>\n",
       "      <td>165.32</td>\n",
       "      <td>0.03</td>\n",
       "      <td>1026</td>\n",
       "      <td>1.1</td>\n",
       "      <td>347</td>\n",
       "      <td>8.9</td>\n",
       "      <td>1514797200</td>\n",
       "      <td>1.00</td>\n",
       "    </tr>\n",
       "  </tbody>\n",
       "</table>\n",
       "<p>5 rows × 24 columns</p>\n",
       "</div>"
      ],
      "text/plain": [
       "   Year  Month  Day  Hour  Minute  Temperature  Clearsky DHI  Clearsky DNI  \\\n",
       "0  2018      1    1     0      30          1.8             0             0   \n",
       "1  2018      1    1     1      30          1.6             0             0   \n",
       "2  2018      1    1     2      30          1.5             0             0   \n",
       "3  2018      1    1     3      30          1.4             0             0   \n",
       "4  2018      1    1     4      30          1.4             0             0   \n",
       "\n",
       "   Clearsky GHI  Cloud Type  ...  GHI  Relative Humidity  Solar Zenith Angle  \\\n",
       "0             0           4  ...    0              85.84              119.89   \n",
       "1             0           4  ...    0              87.76              132.05   \n",
       "2             0           4  ...    0              88.35              144.19   \n",
       "3             0           4  ...    0              89.16              155.85   \n",
       "4             0           4  ...    0              89.52              165.32   \n",
       "\n",
       "   Surface Albedo  Pressure  Precipitable Water  Wind Direction  Wind Speed  \\\n",
       "0            0.03      1026                 1.2             350         8.6   \n",
       "1            0.03      1026                 1.2             348         8.7   \n",
       "2            0.03      1026                 1.1             346         8.7   \n",
       "3            0.03      1026                 1.1             346         8.7   \n",
       "4            0.03      1026                 1.1             347         8.9   \n",
       "\n",
       "   timestamps  Cloud Cover  \n",
       "0  1514782800         1.00  \n",
       "1  1514786400         0.94  \n",
       "2  1514790000         1.00  \n",
       "3  1514793600         1.00  \n",
       "4  1514797200         1.00  \n",
       "\n",
       "[5 rows x 24 columns]"
      ]
     },
     "execution_count": 50,
     "metadata": {},
     "output_type": "execute_result"
    }
   ],
   "source": [
    "validation_df = pd.read_csv(os.path.join(_Testing_Data_Dir, 'outer_banks', 'r_banks.csv'))\n",
    "validation_df.head()"
   ]
  },
  {
   "cell_type": "code",
   "execution_count": 52,
   "metadata": {},
   "outputs": [],
   "source": [
    "input_size = 6\n",
    "val_input_arry = np.array([], dtype=np.float64).reshape(0,input_size)\n",
    "val_output_arry = np.array([], dtype=np.float64)\n",
    "val_dni_arr = np.array([], dtype=np.float64)\n",
    "val_input_arry, val_output_arry, val_dni_arr = combine_training_arrays(validation_df, val_input_arry, val_output_arry, val_dni_arr)"
   ]
  },
  {
   "cell_type": "code",
   "execution_count": 53,
   "metadata": {},
   "outputs": [],
   "source": [
    "#keras model.evaluate reveals a mae of 6.9433 w/m2 in the outer banks test"
   ]
  },
  {
   "cell_type": "code",
   "execution_count": 126,
   "metadata": {},
   "outputs": [
    {
     "name": "stdout",
     "output_type": "stream",
     "text": [
      "274/274 [==============================] - 1s 2ms/step - loss: 262.3155 - mae: 6.6264 - root_mean_squared_error: 16.1962\n"
     ]
    }
   ],
   "source": [
    "score = model.evaluate(val_input_arry, [val_output_arry, val_dni_arr], verbose=1)"
   ]
  },
  {
   "cell_type": "code",
   "execution_count": 136,
   "metadata": {},
   "outputs": [
    {
     "name": "stdout",
     "output_type": "stream",
     "text": [
      "[[ 0.      ]\n",
      " [ 0.      ]\n",
      " [ 0.      ]\n",
      " ...\n",
      " [13.171021]\n",
      " [ 0.      ]\n",
      " [ 0.      ]]\n"
     ]
    }
   ],
   "source": [
    "preds = model.predict(val_input_arry)\n"
   ]
  },
  {
   "cell_type": "code",
   "execution_count": 137,
   "metadata": {},
   "outputs": [],
   "source": [
    "#Mape too high because of 0 values"
   ]
  },
  {
   "cell_type": "code",
   "execution_count": 138,
   "metadata": {},
   "outputs": [],
   "source": [
    "#Compare random induvidual resutls!!!!!"
   ]
  },
  {
   "cell_type": "code",
   "execution_count": 140,
   "metadata": {},
   "outputs": [
    {
     "name": "stdout",
     "output_type": "stream",
     "text": [
      "index is  7623\n",
      "Actual  138.0   Predicted  [138.84602]\n"
     ]
    }
   ],
   "source": [
    "i = randint(0,8760)\n",
    "print(\"index is \",i)\n",
    "print(\"Actual \",val_output_arry[i],\" \",\"Predicted \", preds[i])"
   ]
  },
  {
   "cell_type": "code",
   "execution_count": 96,
   "metadata": {},
   "outputs": [],
   "source": [
    "# Now lets see how it fares for DNI\n"
   ]
  },
  {
   "cell_type": "code",
   "execution_count": 97,
   "metadata": {},
   "outputs": [
    {
     "name": "stdout",
     "output_type": "stream",
     "text": [
      "[ 0.  0.  0. ... 14.  0.  0.]\n",
      "[[0.0000e+00 1.0000e+00 0.0000e+00 3.0000e+01 1.1989e+02 1.0260e+03]\n",
      " [0.0000e+00 9.4000e-01 1.0000e+00 3.0000e+01 1.3205e+02 1.0260e+03]\n",
      " [0.0000e+00 1.0000e+00 2.0000e+00 3.0000e+01 1.4419e+02 1.0260e+03]\n",
      " ...\n",
      " [1.4000e+01 8.3000e-01 2.1000e+01 3.0000e+01 8.5590e+01 1.0220e+03]\n",
      " [0.0000e+00 9.9000e-01 2.2000e+01 3.0000e+01 9.6530e+01 1.0220e+03]\n",
      " [0.0000e+00 8.4000e-01 2.3000e+01 3.0000e+01 1.0800e+02 1.0220e+03]]\n"
     ]
    }
   ],
   "source": []
  },
  {
   "cell_type": "code",
   "execution_count": 103,
   "metadata": {},
   "outputs": [],
   "source": [
    "def predict_dni(ghi, dhi, solar_zenith):\n",
    "    dni = []\n",
    "    for i in range(len(ghi)):\n",
    "        diff = float(ghi[i])-float(dhi[i])\n",
    "        cos_sol_A = create_cos_sol_A(float(solar_zenith[i]))\n",
    "        dni.append(diff/cos_sol_A)\n",
    "    return dni\n",
    "    "
   ]
  },
  {
   "cell_type": "code",
   "execution_count": 105,
   "metadata": {},
   "outputs": [
    {
     "name": "stdout",
     "output_type": "stream",
     "text": [
      "[0.0, 0.0, 0.0, 0.0, 0.0, 0.0, 0.0, 0.0, 0.0, 0.0, 0.0, 0.0, 0.1475246869957619, 3.9245702621100462, 445.6219908305781, 61.83662226757232, 21.204874530933356, 40.54945815222651, 10.817851659467554, 24.331143077772936, -1.0944797121404304, 0.6104941819941831, 0.0, 0.0, 0.0, 0.0, 0.0, 0.0, 0.0, 0.0, 0.0, 0.0, 0.0, 0.0, 0.0, 0.0, -0.388158712818707, -0.2038262513331601, 757.0155843380431, 829.3558151644696, 324.5557994377664, 259.75532341718935, 195.54836940913134, 148.24014785620892, 116.50421543391884, 5.016636731746267, 0.0, 0.0, 0.0, 0.0, 0.0, 0.0, 0.0, 0.0, 0.0, 0.0, 0.0, 0.0, 0.0, 0.0, 0.6754655439465596, 29.173285283112275, 183.5698515489402, 324.8838715999517, 346.00254691465784, 216.3749080000053, 196.88630697626854, 40.056120100083646, -6.3525445325597305, -0.11306752133663456, 0.0, 0.0, 0.0, 0.0, 0.0, 0.0, 0.0, 0.0, 0.0, 0.0, 0.0, 0.0, 0.0, 0.0, 0.5655130673357633, -0.06481658771816683, -3.5603677349938523, 12.998962626941392, 229.98412128147967, 151.7837811664955, 113.83688960445009, 137.56286089561885, 5374.674599080962, 3.9806153990986037, 0.0, 0.0, 0.0, 0.0, 0.0, 0.0, 0.0, 0.0, 0.0, 0.0, 0.0, 0.0, 0.0, 0.0, 0.30831519484867603, 23.364029222139255, 1010.1398108116024, 411.75288452263817, 234.88046836605145, 177.17412546881675, 155.81848714015715, 122.73357838440937, 224.9534257335359, 135.10475622111974, 0.0, 0.0, 0.0, 0.0, 0.0, 0.0, 0.0, 0.0, 0.0, 0.0, 0.0, 0.0, 0.0, 0.0, 0.4095756608502988, 26.308359592106296, 541.6083087693854, 344.44382996485905, 201.39776598949842, 179.99688607797847, 158.76975997119504, 140.28524303379913, 113.0015673361457, 18.165452757715176, 0.0, 0.0, 0.0, 0.0, 0.0, 0.0, 0.0, 0.0, 0.0, 0.0, 0.0, 0.0, 0.0, 0.0, 0.1260672757346776, 21.469390963582025, 406.69281386025386, 268.3123592832921, 173.29229292891725, 166.15914221233018, 155.88864875292842, 154.00258900508516, 70.72989186892234, 7.651814531407883, 0.0, 0.0, 0.0, 0.0, 0.0, 0.0, 0.0, 0.0, 0.0, 0.0, 0.0, 0.0, 0.0, 0.0, 0.2797776157576722, 6.974210469906957, 331.8956939244929, 327.81414261345805, 173.24376055389314, 198.7962874771614, 190.29486293467224, 207.63279460898755, 58.75400229433529, 4.4178954854535375, 0.0, 0.0, 0.0, 0.0, 0.0, 0.0, 0.0, 0.0, 0.0, 0.0, 0.0, 0.0, 0.0, 0.0, 0.27000213508781834, 17.627482300190582, 241.42614363587614, 196.65639025286944, 183.14389064220904, 201.58164176256503, 188.39891109339638, 235.74929133752588, 84.50415172079614, 5.2744199371760585, 0.0, 0.0, 0.0, 0.0, 0.0, 0.0, 0.0, 0.0, 0.0, 0.0, 0.0, 0.0, 0.0, 0.0, 0.25679168049034334, 18.784827215550287, 293.07230054106964, 267.84433148292146, 312.69638406132924, 293.3801364792674, 316.8462818548453, 325.6006285495818, 104.32165111229531, 6.737089341178943, 0.0, 0.0, 0.0, 0.0, 0.0, 0.0, 0.0, 0.0, 0.0, 0.0, 0.0, 0.0, 0.0, 0.0, 0.38248739726289177, 25.313882732539767, 273.9033857367794, 64.27918036636889, 134.3364859886349, 116.49880150329193, 16.59411393718811, 34.99008893237466, 1.038316913189816, -0.17579451095348192, 0.0, 0.0, 0.0, 0.0, 0.0, 0.0, 0.0, 0.0, 0.0, 0.0, 0.0, 0.0, 0.0, 0.0, -0.02788794333441203, 0.3237493492737829, 41.3859753051718, 0.27962221250957126, 7.395965799136544, 84.02504779660367, 137.72974226395476, 2921.1050032649155, 50.0649799136939, 26.66910867511352, 0.0, 0.0, 0.0, 0.0, 0.0, 0.0, 0.0, 0.0, 0.0, 0.0, 0.0, 0.0, 0.0, 0.0, -0.223823225955554, 27.569250404413012, 303.1786020360839, 303.7210679999442, 357.36458364256833, 597.3281978157033, 553.181398789405, 799.2673193629731, 9.05350890241032, 0.7106196552892958, 0.0, 0.0, 0.0, 0.0, 0.0, 0.0, 0.0, 0.0, 0.0, 0.0, 0.0, 0.0, 0.0, 0.0, -0.07119198954066168, -0.8115242693643568, 148.56500419685497, 182.38348318124793, 239.04881170485876, 156.33358249008666, 1005.1746601011822, 144.94999971973303, 7.789770293469016, 0.0698988020910653, 0.0, 0.0, 0.0, 0.0, 0.0, 0.0, 0.0, 0.0, 0.0, 0.0, 0.0, 0.0, 0.0, 0.0, -0.2738721366073191, 0.5903841531897889, 1.543851203783152, 4.2540617852616105, 58.49772260229316, 98.91739794247198, 141.6237733474958, 60.44723879776023, 118.13107646850624, 22.439554526002674, 0.0, 0.0, 0.0, 0.0, 0.0, 0.0, 0.0, 0.0, 0.0, 0.0, 0.0, 0.0, 0.0, 0.0, 8.168761553382577, 15.438659777055863, 6.413538708243978, 8.474114982068777, 139.53278666038128, 3095.79621572388, 593.7551374777938, 262.8092917668074, 79.7532381937045, 8.271333232187825, 0.0, 0.0, 0.0, 0.0, 0.0, 0.0, 0.0, 0.0, 0.0, 0.0, 0.0, 0.0, 0.0, 0.0, 0.24061773516073304, -0.7390563600335256, 11.988239559884487, 31.178971329200703, 142.29306525119515, 12.092251488610628, 2.7553941534498327, -0.9567449867638571, 0.346857730535672, 0.4404974662646818, 0.0, 0.0, 0.0, 0.0, 0.0, 0.0, 0.0, 0.0, 0.0, 0.0, 0.0, 0.0, 0.0, 0.0, 0.24945437698116904, -0.19096986457292212, 121.80696888213835, 263.99385548700326, 1013.2790687612528, 797.7136911011023, 433.9371487147824, 257.37371765581804, 181.90106063309545, 8.993870686642037, 0.0, 0.0, 0.0, 0.0, 0.0, 0.0, 0.0, 0.0, 0.0, 0.0, 0.0, 0.0, 0.0, 0.0, 1.1529949603165917, 58.13202725476979, 214.8787791570626, 325.5657164655444, 3314.3234778051215, 611.5064708621686, 401.4987860526725, 271.4682921927015, 295.0749893911858, 16.47827069790325, 0.0, 0.0, 0.0, 0.0, 0.0, 0.0, 0.0, 0.0, 0.0, 0.0, 0.0, 0.0, 0.0, 0.0, 1.2401253742349965, 68.89691291373451, 240.24613613324743, 428.8956351020275, 4750.471354565311, 561.0864410138918, 408.28411661342574, 300.11961018995845, 605.5328708693394, 24.584568449522127, 0.0, 0.0, 0.0, 0.0, 0.0, 0.0, 0.0, 0.0, 0.0, 0.0, 0.0, 0.0, 0.0, 0.0, 0.06309120911827423, 20.283694865717642, 210.94109012625992, 432.8387191371271, 1293.3113785280402, 411.5397124787024, 337.462140991724, 271.74182749014045, 24838.350516401068, 1.9863600369740269, 0.0, 0.0, 0.0, 0.0, 0.0, 0.0, 0.0, 0.0, 0.0, 0.0, 0.0, 0.0, 0.0, 0.0, 0.0028943536380114164, 57.309181250081785, 154.73127170434287, 335.56551932378153, 327.01003550110465, 78.16255440815199, 110.85022619477876, 61.48619707645195, 135.14999529835382, 10.386981965764537, 0.0, 0.0, 0.0, 0.0, 0.0, 0.0, 0.0, 0.0, 0.0, 0.0, 0.0, 0.0, 0.0, 0.0, 0.42596762806767624, -0.284809979148153, 5.099506370332177, 1.437971996002842, -0.3606097164553077, 7.601495980503627, 1.096831447228849, 21.969475581745428, 89.0093335169092, 183.32870418866497, 0.0, 0.0, 0.0, 0.0, 0.0, 0.0, 0.0, 0.0, 0.0, 0.0, 0.0, 0.0, 0.0, 0.0, 2.8121526639468306, 91.4793571437507, 285.963239190799, 1580.7248282743567, 520.2727573389254, 430.40931169397277, 508.6745287107171, 631.5214908186805, 227.32500034312406, 31.35361307527738, 0.0, 0.0, 0.0, 0.0, 0.0, 0.0, 0.0, 0.0, 0.0, 0.0, 0.0, 0.0, 0.0, 0.0, 4.51035364727621, 140.61404622121498, 320.4328547446438, 17991.31202788135, 448.6547777914467, 472.0010065902811, 615.2609180231777, 999.2184856240509, 223.62660206812083, 43.45774334737147, 0.0, 0.0, 0.0, 0.0, 0.0, 0.0, 0.0, 0.0, 0.0, 0.0, 0.0, 0.0, 0.0, 0.0, 4.927021091724152, 220.38598546517258, 375.2872828836291, 1948.8094666439854, 414.83945499095455, 548.4177025813627, 683.9531421372253, 2800.8629009533747, 153.06527034548668, 54.42355773479627, 4.130003335037695, 0.0, 0.0, 0.0, 0.0, 0.0, 0.0, 0.0, 0.0, 0.0, 0.0, 0.0, 0.0, 0.0, 3.8938389746689195, 293.46553314757284, 467.5128651830019, 256.0494731365093, -0.09550703612793317, 6.908015772325194, 45.261560960948906, 119.89258405242408, 1.2458742617814187, -0.6048537295149692, 3.9491892630234116, 0.0, 0.0, 0.0, 0.0, 0.0, 0.0, 0.0, 0.0, 0.0, 0.0, 0.0, 0.0, 0.0, 0.3787806277531175, -10.763271506268701, -2.4023528213386336, -0.3255618409869526, 0.2321822057265105, 7.202413062748826, 5.120647000169078, 3.491875839502912, -0.2750360508287282, -1.2252683370223127, 3.488885741010188, 0.0, 0.0, 0.0, 0.0, 0.0, 0.0, 0.0, 0.0, 0.0, 0.0, 0.0, 0.0, 0.0, -0.09710626631864078, -2.8693240566186096, -5.86346315987539, -0.6481509005292813, -0.8504875216552706, 8.793090641195581, 1.8463058574186504, 1.4249106890645609, 0.08010589436272786, 0.12421657531283326, 2.670520724807526, 0.0, 0.0, 0.0, 0.0, 0.0, 0.0, 0.0, 0.0, 0.0, 0.0, 0.0, 0.0, 0.0, 2.619207418235878, 318.83392760531893, 3307.529331327567, 70.3619476292685, 0.08637832566953989, 13.238961150199936, 3.9965637186281513, 3.9048667547380695, 0.8087021994250378, -0.300471721043803, 10.384111385879997, 0.0, 0.0, 0.0, 0.0, 0.0, 0.0, 0.0, 0.0, 0.0, 0.0, 0.0, 0.0, 0.0, 9.072498967657502, 185.74017138046878, 968.5722029936999, 390.18869932407335, 1030.3534826214527, 895.4880909865359, 519.8658178211713, 347.71594541164814, 231.67692313611235, 20.89404328060852, 322.96070659445894, 0.0, 0.0, 0.0, 0.0, 0.0, 0.0, 0.0, 0.0, 0.0, 0.0, 0.0, 0.0, 0.0, 8.979227541545162, 168.53776295760144, 557.8240853573085, 255.84954025289784, 2394.6885835622115, 539.7532064674838, 399.97133463368465, 331.4112903825455, 289.3602562490259, 28.788855076599393, 7.0955395843395594, 0.0, 0.0, 0.0, 0.0, 0.0, 0.0, 0.0, 0.0, 0.0, 0.0, 0.0, 0.0, 0.0, -1.3233281622053839, -1.4087061560608118, -0.6422174856855454, 3.3863068035425807, 96.23110943247465, 169.03670165593934, 100.05374875736685, 235.7893192591737, 435.9652759537493, 19.069565366875665, 1.087766368932528, 0.0, 0.0, 0.0, 0.0, 0.0, 0.0, 0.0, 0.0, 0.0, 0.0, 0.0, 0.0, 0.0, 18.349390157361796, 119.60581540698394, 346.3208322570659, 446.11274402229355, 1254.0571122059966, 457.79244955588007, 428.55944665193033, 367.424218387276, 1107.4131236104904, 19.193121708080493, 0.8379008937197095, 0.0, 0.0, 0.0, 0.0, 0.0, 0.0, 0.0, 0.0, 0.0, 0.0, 0.0, 0.0, 0.0, -60.84888000421849, 14.910501681945131, 117.40275587670544, 121.66470299809627, 9.211518821230454, 41.15999328743753, 17.32503661184743, 0.4556870062307285, -0.5764630946806028, 1.554774889440663, 1.0333121700698709, 0.0, 0.0, 0.0, 0.0, 0.0, 0.0, 0.0, 0.0, 0.0, 0.0, 0.0, 0.0, 0.0, 27.076202563289417, 98.0433652566809, 280.87213610565607, 728.881231792553, 546.5945901595442, 302.9266676236148, 622.6713070568404, 625.148077713982, 782.998826660863, 91.32123249204993, 0.4514414489354454, 0.0, 0.0, 0.0, 0.0, 0.0, 0.0, 0.0, 0.0, 0.0, 0.0, 0.0, 0.0, 0.0, 13.381544786024833, 76.03678116482929, 131.6359992861937, 1448.1572294327927, 480.15391320173006, 574.255543580942, 893.578752297621, 1084.532959672788, 420.70207420404176, 292.02400854897155, -0.08552714760538659, 0.0, 0.0, 0.0, 0.0, 0.0, 0.0, 0.0, 0.0, 0.0, 0.0, 0.0, 0.0, 0.0, 38.14580550277139, 152.93133984813787, 132.57067597278993, 29774.46078981491, 418.6801745378668, 436.13554614877273, 518.9327275272398, -8.942054183989395, 2.2601217540966636, -10.861690821926954, 0.3775117497634808, 0.0, 0.0, 0.0, 0.0, 0.0, 0.0, 0.0, 0.0, 0.0, 0.0, 0.0, 0.0, 0.0, 0.24327103631047553, -1.573753266972328, 56.90176093147399, 605.6685555279563, 210.56430095475395, 1111.078006042057, 3453.5529710549104, 1888.9228772781807, 203.13121066321403, 180.10346456013835, 0.5459731085884973, 0.0, 0.0, 0.0, 0.0, 0.0, 0.0, 0.0, 0.0, 0.0, 0.0, 0.0, 0.0, 0.0, 11.302283898652641, 148.8329960599256, 435.38271387458997, 800.6939896857048, 595.8681691676186, 2721.449336101647, 698.986229673507, 560.7882442455816, 206.72983193466382, 51.121397693161306, 3.574170526657498, 0.0, 0.0, 0.0, 0.0, 0.0, 0.0, 0.0, 0.0, 0.0, 0.0, 0.0, 0.0, 0.0, 0.024117391560426298, -1.1845665406323345, 10.068890364357594, -0.6959464889261661, 0.5701225160519243, 4.287638201546291, 3.349515057130333, 4.15572661443338, 15.593180093006803, 1.092692199896015, 0.3304638681078506, 0.0, 0.0, 0.0, 0.0, 0.0, 0.0, 0.0, 0.0, 0.0, 0.0, 0.0, 0.0, 0.0, 1.8212791682453375, 19.0996195224453, 205.2467768834355, 175.07783808433874, 222.1901481953207, 133.71147246649687, 87.5775125039127, 4.209530236866508, 29.153735766701008, -1.08323203778863, 0.41753854836402815, 0.0, 0.0, 0.0, 0.0, 0.0, 0.0, 0.0, 0.0, 0.0, 0.0, 0.0, 0.0, 0.0, -0.478075974179951, -5.544373731008644, 1208.9969708142305, -0.926213192342918, 295.1219499642291, 0.4205931465643929, 0.8833445069174661, 47.782908214162674, 1.7560208174299077, -0.004414891269783081, -1.203808316316213, 0.0, 0.0, 0.0, 0.0, 0.0, 0.0, 0.0, 0.0, 0.0, 0.0, 0.0, 0.0, 0.0, -0.5668908263755795, 20540.109660149818, 22.699779185192206, 9.506082114617906, 105.61857476136802, 12.661152105347693, 1.7703915032531246, 0.278319042376355, -0.6309321323581821, -0.22244563325916772, -1.6639838731827903, 0.0, 0.0, 0.0, 0.0, 0.0, 0.0, 0.0, 0.0, 0.0, 0.0, 0.0, 0.0, 0.0, 6.366059915086075, 118.59589753477371, 280.1123136736563, 226.02953985623046, 186.3561586448657, 24.812434596428822, 56.138388402904155, 14.821194144155708, 0.39799628883943555, 11.20795606181106, -1.4347387238348008, 0.0, 0.0, 0.0, 0.0, 0.0, 0.0, 0.0, 0.0, 0.0, 0.0, 0.0, 0.0, 0.0, -0.18172574906858754, 46.63363428531643, 283.21328701778697, 565.7154840273586, 466.0447747049194, 49.52259400065238, 269.7907089868916, 186.82702736685545, 57.39769550922196, 9.09166836058887, 5.046104513665288, 0.0, 0.0, 0.0, 0.0, 0.0, 0.0, 0.0, 0.0, 0.0, 0.0, 0.0, 0.0, 0.0, 11.957679332252587, 232.56877585193567, 293.3104457249739, 760.0677314316207, 382.55323793155696, 643.1110468468142, 741.9021811315034, 468.8394350649992, 1137.691398541477, 73.03234702551575, 3.820437951491848, 0.0, 0.0, 0.0, 0.0, 0.0, 0.0, 0.0, 0.0, 0.0, 0.0, 0.0, 0.0, 0.0, -0.25358591460111074, 0.8277567244901334, 6.507179241713198, 102.3331665303457, -1.9083455711021187, -5.318884822070151, -5.661439669193496, 1.1394922455144947, -4.7984986766343205, 0.4283113449450207, 0.4372051324890092, 0.0, 0.0, 0.0, 0.0, 0.0, 0.0, 0.0, 0.0, 0.0, 0.0, 0.0, 0.0, 0.0, 8.132083249593949, 215.54744269952596, 386.5412892564344, 3009.1655813541306, 611.7890265277739, 40170.02294007249, 4794.04685288598, 3929.6730926399923, 845.6826556120931, 254.58187383942808, 16.003119653440134, 0.0, 0.0, 0.0, 0.0, 0.0, 0.0, 0.0, 0.0, 0.0, 0.0, 0.0, 0.0, 0.0, -11.138142790722151, 0.8759642378786213, -0.7448858705046776, 1.3472409003133223, 0.6632522647313837, 1.2230198991105221, 5.621228388219887, -2.002163560758359, -0.537886093470946, 110.11005132663924, 5.310018946098987, 0.0, 0.0, 0.0, 0.0, 0.0, 0.0, 0.0, 0.0, 0.0, 0.0, 0.0, 0.0, 0.0, 294.5925843752243, 195.90709825588868, 440.55631128194193, 530.629425494142, 1090.3615552112585, 633.2553849567614, 579.2308889273855, 925.4212701515966, 342.1556682545277, 594.6254395079742, 9.981698449341236, 0.0, 0.0, 0.0, 0.0, 0.0, 0.0, 0.0, 0.0, 0.0, 0.0, 0.0, 0.0, 0.0, 152.7582529580769, 227.18994422363468, 672.5138350116296, 468.9316030129084, 12377.19277385887, 499.97838980149055, 365.19594053102793, 600.617167688159, 297.193776846693, 11522.01132524054, 10.637189226619691, 0.0, 0.0, 0.0, 0.0, 0.0, 0.0, 0.0, 0.0, 0.0, 0.0, 0.0, 0.0, 0.0, 102.33965368579265, 234.43011860657134, 1330.5271054548382, 409.96698276634334, 1304.516062067692, 490.4117189806748, 461.9538731673875, 470.49322882832877, 289.49710605817876, 718.9691232467188, 13.552922074048551, 0.0, 0.0, 0.0, 0.0, 0.0, 0.0, 0.0, 0.0, 0.0, 0.0, 0.0, 0.0, 0.0, 54.98005541903258, 4.70827100318196, 1481.386240432233, 108.6776073168657, 246.44036518126308, 49.44338467226113, 119.08154550788785, 128.4568808606842, 55.16761344444903, 239.30258040054946, 12.824397771326094, 0.0, 0.0, 0.0, 0.0, 0.0, 0.0, 0.0, 0.0, 0.0, 0.0, 0.0, 0.0, 0.0, 74.64549702039139, 836.4116508782689, 491.8533452529045, 44.17592865517273, 135.07278595261647, 461.02939097200084, 518.8633326904112, 425.8709933941018, 269.7862405553395, 194.5631090217114, 11.340357177595369, 0.0, 0.0, 0.0, 0.0, 0.0, 0.0, 0.0, 0.0, 0.0, 0.0, 0.0, 0.0, 1.1791407336041075, 77.76683361504598, 8631.545875410304, 607.7028087489933, 394.2794190155221, 333.2198188219391, 825.1642111436863, 665.7105285777609, 427.0756127342324, 245.27417980242612, 106.96033273336081, 5.854633431244281, 0.0, 0.0, 0.0, 0.0, 0.0, 0.0, 0.0, 0.0, 0.0, 0.0, 0.0, 0.0, 0.0, -0.23198313785568883, -1.9828603168683592, 0.18430032677638708, 7.805009116852005, 6.681405800283721, 41.8065744877144, 4.729948009669216, 1.3428019371925448, -0.14662368216247398, -0.8127999032242836, 0.04999234144387506, 0.0, 0.0, 0.0, 0.0, 0.0, 0.0, 0.0, 0.0, 0.0, 0.0, 0.0, 0.0, 1.543094734087135, 72.62054953157558, 419.3885747609041, 464.94361009946317, 5568.485551647761, 727.2542537889316, 4635.597326942285, 15872.618007627754, 823.4161200766673, 657.4653084078416, 191.58484201242055, 29.744283371940025, 0.0, 0.0, 0.0, 0.0, 0.0, 0.0, 0.0, 0.0, 0.0, 0.0, 0.0, 0.0, 5.496487669347197, 21.985391461013098, 75.90291999066775, 102.01218183349931, 305.3181364461919, 63.02954166118807, 14.057718319945929, 28.607743907692647, 157.64188128471181, 469.2726054010689, 18.372835146064016, 2.9897415843134962, 0.0, 0.0, 0.0, 0.0, 0.0, 0.0, 0.0, 0.0, 0.0, 0.0, 0.0, 0.0, 22.83155580044045, -1.0561972763174745, -0.9640639909568639, -0.09360422168281511, 1.4020592927469202, 4.645912249178512, 1.7428739367231092, 1.3598042029754827, 195.99074004210536, 13.506524096642597, -0.0035876341106231323, 0.04772280155217339, 0.0, 0.0, 0.0, 0.0, 0.0, 0.0, 0.0, 0.0, 0.0, 0.0, 0.0, 0.0, 2.7748673092648533, 243.9759312958968, 239.22344346233197, 535.8318263401554, 560.0394820461494, 3330.7875228384687, 560.7382236434977, 640.6218299430141, 2478.2125905018597, 1791.3836524696155, 139.24284248792932, 23.998465406843046, 0.0, 0.0, 0.0, 0.0, 0.0, 0.0, 0.0, 0.0, 0.0, 0.0, 0.0, 0.0, 0.9676519165055167, 46.60089886985934, 166.03690185255982, 501.4152777461685, 472.1646839031147, 1003.5541202261497, 526.39935945082, 506.49522475574264, 947.1747118145511, 664.1455596582725, 109.25553167782016, 39.69046605072869, 0.0, 0.0, 0.0, 0.0, 0.0, 0.0, 0.0, 0.0, 0.0, 0.0, 0.0, 0.0, 0.9821672514431956, -3.0842092259513363, 14.021375006255289, 60.37670547899319, 34.23935380538026, 60.60361586187673, 22.86700152155289, 4.092837625351114, 16.265488486932057, 462.74557438043684, 106.02318387891766, 37.555196249303634, 0.0, 0.0, 0.0, 0.0, 0.0, 0.0, 0.0, 0.0, 0.0, 0.0, 0.0, 0.0, 0.3364605727831756, 117.55767151288373, 354.11397689698674, 3658.1690992759527, 702.3004049766441, 628.9333119187369, 908.9906024331281, 674.1792858745981, 607.9336330261692, 402.2421600440822, 213.58723671637665, 25.8954703968769, 0.0, 0.0, 0.0, 0.0, 0.0, 0.0, 0.0, 0.0, 0.0, 0.0, 0.0, 0.0, 0.060532233139196416, 81.05054482076895, 367.19335080489986, 564.271859128945, 645.7238981305838, 144.20780145805003, 186.13304839133494, 152.14222884802047, 8.162241610447484, 0.7284924572746736, -1.9778454646235168, 0.07976178212271579, 0.0, 0.0, 0.0, 0.0, 0.0, 0.0, 0.0, 0.0, 0.0, 0.0, 0.0, 0.0, 0.8035401860551421, 95.46191517008364, 2184.0195587531252, 674.1053133546359, 4270.2141492542005, 291.82677176419014, 1435.6084363904333, 82.95206470772024, 499.83233199023863, 339.2530891067038, 780.6838381493768, 47.414225987582455, 0.0, 0.0, 0.0, 0.0, 0.0, 0.0, 0.0, 0.0, 0.0, 0.0, 0.0, 0.0, 2.058840037459586, 66.67114608430252, 1286.743044684328, 491.04959382160297, 2658.18359887716, 1070.1171427991408, 1035.3039375786143, 2193.0999454772227, 428.0843712729945, 159.5532843983943, 18.756090236777396, 0.8976408933212239, 0.0, 0.0, 0.0, 0.0, 0.0, 0.0, 0.0, 0.0, 0.0, 0.0, 0.0, 0.0, 1.6121913035639654, 45.308890058737624, 579.5817881495047, 479.0010765809343, 1074.8270346612594, 2689.265141790696, 919.1249175350857, 3499.0293019604746, 613.2846551992022, 279.57753833522065, 1085.0876674411506, 33.73030128608691, 0.0, 0.0, 0.0, 0.0, 0.0, 0.0, 0.0, 0.0, 0.0, 0.0, 0.0, 0.0, 1.2339844836153373, 9.993955561980556, 76.12918081426285, 20.272436126356233, 522.6408995525276, 3540.633021018682, 513.0362225978006, 831.3683693759713, 538.8863539664985, 224.39651300637183, 161.06186656518386, 11.320820625757605, 0.0, 0.0, 0.0, 0.0, 0.0, 0.0, 0.0, 0.0, 0.0, 0.0, 0.0, 0.0, -1.7967847297054849, -0.2663527097927387, -1.5577354670806531, -1.2353580350150666, 10.99758430016352, 12.701813959440926, 0.32523806842616576, 122.42620453684836, 291.0759302721354, 23.88622503743894, -1.3921334096866462, -0.1585376291698582, 0.0, 0.0, 0.0, 0.0, 0.0, 0.0, 0.0, 0.0, 0.0, 0.0, 0.0, 0.0, 0.22876525177397972, -0.5691770301689079, -1.3197288772889095, -1.9271900879972885, -1.4595258119848613, 1.9690036938938897, 0.24178696279365053, 6.684410861029319, 5.266964806602196, 2.2558751187827757, -1.102363516822321, 0.33104844849666426, 0.0, 0.0, 0.0, 0.0, 0.0, 0.0, 0.0, 0.0, 0.0, 0.0, 0.0, 0.0, 0.6449919698021007, 69.7729158012658, 261.4839365560678, 1480.5552149046227, 662.1916072170143, 652.8446353666308, 897.2985636059357, 652.5025237555221, 4382.903716717259, 953.4348454978879, 221.165240960288, 6.255208288268071, 0.0, 0.0, 0.0, 0.0, 0.0, 0.0, 0.0, 0.0, 0.0, 0.0, 0.0, 0.0, 0.08875924892250182, -10.822731787511133, 0.11438539822148201, 1397.3211410881072, 163.50057758870085, 353.18339723304695, 647.5103182211726, 103.42208398324244, 298.9041083037498, 143.63428588272924, 93.61775786604996, 4.166684121276777, 0.0, 0.0, 0.0, 0.0, 0.0, 0.0, 0.0, 0.0, 0.0, 0.0, 0.0, 0.0, 0.9286644340347959, 370.21026855376334, 396.9860636512288, 1270.4896987743164, 2247.6615895272307, 488.68851402822185, 10153.237543856014, 737.471004816247, 826.0253075904184, 5869.5961809493565, 123.79087029143098, 4.287853825042824, 0.0, 0.0, 0.0, 0.0, 0.0, 0.0, 0.0, 0.0, 0.0, 0.0, 0.0, 0.0, 1.3403167370943354, 148.22159710685224, 509.09761602520916, 700.8596465422859, 7627.6896638661, 1195.4330337512474, 2152.3257698014468, 1133.040142879676, 689.5538402548258, 1350.970334098116, 184.04252667439096, 13.38606687728489, 0.0, 0.0, 0.0, 0.0, 0.0, 0.0, 0.0, 0.0, 0.0, 0.0, 0.0, 0.0, 1.8128945714189524, 89.58876946816167, 770.956805682215, 513.3359610460694, 1259.2451677689394, 2289.5747078632417, 122.43283043758736, 63.88488496253971, 1.7520758959853757, 298.5948748509605, 145.11608193405579, 4.600689336603727, 0.0, 0.0, 0.0, 0.0, 0.0, 0.0, 0.0, 0.0, 0.0, 0.0, 0.0, 0.0, -0.03199877494637064, 24.55126519758898, 279.1826976967652, 120.88876009703432, 751.1145532724312, 2896.64052086499, 729.5851731819763, 29894.43154316831, 540.4615317624921, 532.5907503336628, 190.42827597095786, 28.680269874080672, 0.0, 0.0, 0.0, 0.0, 0.0, 0.0, 0.0, 0.0, 0.0, 0.0, 0.0, 0.0, 11.460417985660591, 80.92264695916676, 352.0371343031865, 186.3317812577123, 83.86654169536028, 195.76158708141753, 34.753664665800336, 163.61099704311877, 36.577633638868804, 19.90438101993474, 54.98387186390042, 1.570065141368675, 0.0, 0.0, 0.0, 0.0, 0.0, 0.0, 0.0, 0.0, 0.0, 0.0, 0.0, 0.0, 0.39778963802666767, -1.5985864791780817, 12.375300708747787, 65.01677930459014, 72.00685368502018, 459.9224481523981, 552.1573928555018, 735.3380631897896, 537.9428732740823, 47.0080942467336, 25.087170458523207, 2.7838123866427615, 0.0, 0.0, 0.0, 0.0, 0.0, 0.0, 0.0, 0.0, 0.0, 0.0, 0.0, 0.0, 0.3121812288769887, 1.3331592023728427, -1.243055643760192, 0.008611050667723302, 1.4062330436052288, 33.56455867083098, 20.00376494894241, 18.022741049068408, 2.2685557573523454, -0.4340767044975532, -0.6963888699796803, 13.94146512673285, 0.0, 0.0, 0.0, 0.0, 0.0, 0.0, 0.0, 0.0, 0.0, 0.0, 0.0, 0.0, -0.32380752224666143, 1.5213226210764113, 107.61858343953908, 722.2980135542521, 842.5903800700542, 683.2104697833566, 1370.6090453443985, 669.5246710258107, 968.292252579568, 364.76939289565837, 318.9676933132519, 120.01986953736076, 0.0, 0.0, 0.0, 0.0, 0.0, 0.0, 0.0, 0.0, 0.0, 0.0, 0.0, 0.0, 262.2362570277882, 242.01915825171554, 331.91325991024013, 21679.01423429442, 1611.2674856005453, 875.559094048074, 5301.501570395013, 660.4391343941699, 1589.4467560504422, 385.2240080509536, 728.5174491051008, 170.62897628357976, 0.0, 0.0, 0.0, 0.0, 0.0, 0.0, 0.0, 0.0, 0.0, 0.0, 0.0, 0.0, 46.253079654075435, 680.6743695890015, 395.66936603769136, 1584.924039566784, 17794.04372625986, 1396.6135306868196, 2376.496043903915, 281.2658336152216, 1418.0258438361022, 51.39798215891013, 2.9184878731441226, 3.0597826401028705, 0.0, 0.0, 0.0, 0.0, 0.0, 0.0, 0.0, 0.0, 0.0, 0.0, 0.0, 0.0, -1.320483135941284, -16.87835750231974, -2.118267520380212, 0.45064789286473794, 12.368502987425877, 62.907400339709646, 27.717099815804662, 19.125917934587843, 67.12637396490162, 6.030156383095134, 4.179335661816887, 0.5955027304891707, 0.0, 0.0, 0.0, 0.0, 0.0, 0.0, 0.0, 0.0, 0.0, 0.0, 0.0, 0.0, 3.877224879192301, 413.34700062296497, 695.4070370184173, 645.3181298382608, 983.3117209762754, 2444.0636991021047, 828.0292781623518, 1218.712807313742, 1456.8048314579605, 597.6635035236021, 872.2730458336206, 95.56421134514355, 0.0, 0.0, 0.0, 0.0, 0.0, 0.0, 0.0, 0.0, 0.0, 0.0, 0.0, 0.0, 10.767039892712539, 253.5030622122241, 1794.6619608973717, 572.307698134289, 648.9376430245363, 516.5919087120778, 481.59887949453076, 576.0892678234984, 17.73961991361932, 5.8567542615348955, -0.5380558520706035, 0.26910980897412395, 0.0, 0.0, 0.0, 0.0, 0.0, 0.0, 0.0, 0.0, 0.0, 0.0, 0.0, 0.0, 18.881141630882656, 173.38808866777424, 2160.8186323620093, 500.4335469050535, 582.4856041601047, 618.1396693719284, 670.2484926574381, 7545.0945402046, 531.6212079306807, 567.9886167826371, 105.2602629867621, 15.805911090518961, 0.0, 0.0, 0.0, 0.0, 0.0, 0.0, 0.0, 0.0, 0.0, 0.0, 0.0, 0.0, 22.063688592860654, 138.79763032012812, 543.5425974893847, 571.7066624135684, 562.1314940632943, 502.2573159474171, 382.5621661885043, 564.7010700105262, 222.89488134233125, 505.2969162610342, 44.41394514679263, 7.771731076158181, 0.0, 0.0, 0.0, 0.0, 0.0, 0.0, 0.0, 0.0, 0.0, 0.0, 0.0, 0.0, 31.448643883406582, 164.74419619236312, 210.5397562439586, 325.27844604786515, 306.6041066055972, 259.81368314664115, 234.98860674004135, 174.86098355589505, 92.89333321519146, 59.7218780793628, 0.8140194843711729, 0.1469275132585694, 0.0, 0.0, 0.0, 0.0, 0.0, 0.0, 0.0, 0.0, 0.0, 0.0, 0.0, 0.0, -0.7621557414853486, 196.87520922059358, 442.5942584717462, 980.875973814104, 186.8289089731899, 266.74420253597737, 896.2967301975023, 556.8792238425153, 452.5256918744305, 1802.0401781246453, 235.03300457786193, 82.9306404508458, 3.9616824332896825, 0.0, 0.0, 0.0, 0.0, 0.0, 0.0, 0.0, 0.0, 0.0, 0.0, 0.0, 31.704302488085006, 170.23545605912742, 240.27031645617052, 1687.7514006857978, 1503.8818116949835, 1019.3119775050955, 6108.584868881496, 662.3537387441902, 476.29315399282444, 501.21006228288917, 120.98400635239388, 44.77049723989822, 3.5011751391586934, 0.0, 0.0, 0.0, 0.0, 0.0, 0.0, 0.0, 0.0, 0.0, 0.0, 0.0, 2.4688550001733223, 43.610685032961804, 281.25585348536373, 1736.0482994338322, 3855.7065262852852, 6905.891107523955, 1442.1845227026283, 444.90883433601033, 159.33436357544846, 22.872761736313507, 12.341552415807243, -0.20102240644812006, 3.853459310109818, 0.0, 0.0, 0.0, 0.0, 0.0, 0.0, 0.0, 0.0, 0.0, 0.0, 0.0, 1894.4578497102004, 360.1409096763159, 363.7924512281248, 1081.5279401446526, 1272.2467790783276, 1658.7260408422894, 880.2175347645712, 590.4716433668963, 684.6212158268211, 434.5090806481749, 181.15956596335232, 45.305589005850244, 3.4465310972579166, 0.0, 0.0, 0.0, 0.0, 0.0, 0.0, 0.0, 0.0, 0.0, 0.0, 0.0, 11.858444344358242, 650.7536499739027, 0.01951250984229508, 163.81026925114404, 378.39846203435434, 239.82858640049335, 338.57224403426676, 194.29240301667252, 146.50274703743204, 49.25873066873411, 5.7497772781669, 1.3253736727510068, 1.901378767288225, 0.0, 0.0, 0.0, 0.0, 0.0, 0.0, 0.0, 0.0, 0.0, 0.0, 0.0, 77.34415828379655, 1989.8352015630178, 709.861411560956, 634.2470771179534, 710.1639484322989, 843.3770759243764, 729.332027763494, 1050.4328380040429, 1599.2983311348144, 335.5294573174102, 182.2572274994611, 84.85957581978, 2.9106074691375032, 0.0, 0.0, 0.0, 0.0, 0.0, 0.0, 0.0, 0.0, 0.0, 0.0, 0.0, 55.517302765041876, 453.29264224126786, 1357.191826447797, 558.9741370786585, 561.6139870069381, 619.9345890814316, 737.7217454299043, 1720.5262769570218, 3102.2219127944463, 228.6921937346103, 158.5014428854761, 45.07274408255441, 11.776644388756162, 0.0, 0.0, 0.0, 0.0, 0.0, 0.0, 0.0, 0.0, 0.0, 0.0, 0.0, 3.2675754318302936, -0.5720658537288925, -992.6599812619539, 4.264471017792673, 0.6025105461284231, 29.406621755521254, 57.90147602303238, 24.619050730337914, 22.49849988329593, 0.18232005413887456, -0.39426299189013214, 0.88026202690829, 15.681417375620379, 0.0, 0.0, 0.0, 0.0, 0.0, 0.0, 0.0, 0.0, 0.0, 0.0, 0.0, -1.208142733676636, -0.7438213604317965, 329.000671076236, 323.7577561719039, 284.2562509395454, 289.7942273094765, 627.717151098378, 3031.4513884497987, 2100.96150937152, 361.20221061932347, 228.84869455412368, 157.592192690145, 9.952197190124785, 0.0, 0.0, 0.0, 0.0, 0.0, 0.0, 0.0, 0.0, 0.0, 0.0, 2.255905046255917, -0.4521741542626395, 32.71431723020416, 3.5103066307449944, 18.013267903828485, 3.7722479542651834, 16.293929430944377, 108.40945968132178, 38.129610505821006, 25.21807227236624, 6.607282334779857, -1.268576954825593, 9.275949875789237, 3.801492105509613, 0.0, 0.0, 0.0, 0.0, 0.0, 0.0, 0.0, 0.0, 0.0, 0.0, 2.410356781142351, -0.9424654678628874, -0.8093986597022661, -2.5559980198154846, 0.41939612050024244, -6.139290099446287, 12.000302477920307, 18.575200548926226, 38.07879500000522, 80.06432993643106, 74.61776310706071, 146.82235195269357, 215.71467193955806, 1.0045672521781246, 0.0, 0.0, 0.0, 0.0, 0.0, 0.0, 0.0, 0.0, 0.0, 0.0, 0.9444301734072792, 9.775806401708081, 43.652771134970806, 125.8982360797561, 3358.209244163892, 3706.717430441783, 3733.637406320889, 1505.849162669816, 794.4438058291563, 725.6426834961834, 463.28236443091413, 894.8821781109348, 156.43502215474876, 0.5736396356848966, 0.0, 0.0, 0.0, 0.0, 0.0, 0.0, 0.0, 0.0, 0.0, 0.0, 2.03798008842771, 52.79965064215007, 170.65065004892801, 302.80072724623955, 2970.4471074960634, 1238.8143294841016, 1224.0114786377912, 943.9851059271112, 705.4807093731127, 648.6427578137357, 658.5302117203526, 3876.026906413749, 263.56057506705434, 0.3416566988368763, 0.0, 0.0, 0.0, 0.0, 0.0, 0.0, 0.0, 0.0, 0.0, 0.0, 12.123387829043228, 59.727763463886184, 227.96730137912724, 372.27467123148665, 1279.6151353547107, 858.9967068443249, 880.5363627124701, 755.3124477147961, 656.6176277118346, 590.1542515376714, 723.7179208116607, 2536.979100781886, 152.9640160244908, 0.3907529770171327, 0.0, 0.0, 0.0, 0.0, 0.0, 0.0, 0.0, 0.0, 0.0, 0.0, 3.601682833693425, 315.8314627268636, 384.3976604167186, 428.27991118760275, 836.7609322651152, 693.0518221050837, 660.3266435435746, 491.5400740782668, 377.1562309896202, 511.9882709311799, 959.6222278209309, 739.4939088126176, 37.112354001854186, -0.023663185006522768, 0.0, 0.0, 0.0, 0.0, 0.0, 0.0, 0.0, 0.0, 0.0, 0.0, 1.5068676880363545, 7295.544688710445, 569.5409815953506, 24.188926403826333, 112.01393464182694, 272.4031703848363, 430.16558440661913, 37.68290608669706, 382.75670171246867, 327.98765665041094, 1268.5347718469643, 334.37081438620373, 30.053752326515685, 0.060717925482880825, 0.0, 0.0, 0.0, 0.0, 0.0, 0.0, 0.0, 0.0, 0.0, 0.0, 1.5334090005604983, -0.8448362410217777, 1734.501041575162, 411.0245902946038, 123.73772485131956, 190.0806888427209, 344.6641502411747, 911.0600607182784, 892.4656790056529, 625.4391481780691, 14568.090102562266, 357.2939222215962, -1.0168911568964127, 0.3166384335290952, 0.0, 0.0, 0.0, 0.0, 0.0, 0.0, 0.0, 0.0, 0.0, 0.0, 0.5229134271681468, 183.78426110653479, 2229.9183963328364, 1008.3825529009325, 616.2038753222478, 835.1492370143856, 1072.3726170721732, 1329.7431536121749, 1214.4006839401811, 709.0701948937012, 2468.265264754392, 342.77014720254283, 120.79727697029823, 1.053066509038216, 0.0, 0.0, 0.0, 0.0, 0.0, 0.0, 0.0, 0.0, 0.0, 0.0, -0.094630758272249, 51.717313477008425, 356.91606193411565, 2264.066144972998, 618.2597204708404, 1034.07983393993, 915.5474722720928, 2727.8868277443594, 1967.5756099577502, 719.7757860914959, 1103.8230238947988, 290.38985226419527, 94.3316431999173, 1.3500532527850069, 0.0, 0.0, 0.0, 0.0, 0.0, 0.0, 0.0, 0.0, 0.0, 0.0, 0.14228311802871912, 66.09698805607309, 323.1027846073124, 4365.120627909028, 679.1380841180293, 1728.805880768993, 8106.367641652497, 12724.904230474081, 2273.3815154762424, 20.710002936170405, -0.478749268941326, -0.4866522247659163, -0.17565090663428695, 0.3262767939508745, 0.0, 0.0, 0.0, 0.0, 0.0, 0.0, 0.0, 0.0, 0.0, 0.0, 0.5342475198144545, 86.21129407147428, 337.120313736581, 1447.8746953031514, 950.3849870554697, 11357.359546364833, 2894.5310876265307, 2181.770747319359, 4412.728106872022, 1494.687970483973, 715.7080380752686, 295.95102782393025, 115.40846526787553, 3.4120591286463844, 0.0, 0.0, 0.0, 0.0, 0.0, 0.0, 0.0, 0.0, 0.0, 0.0, 2.7353332003579593, 81.18590697120088, 310.8647767927067, 765.1877228763843, 1242.141491661711, 3215.188926287283, 1329.162758057347, 1216.5348072099341, 1829.8583645493495, 2502.6115091613574, 598.9610810424298, 287.46624726113595, 113.75750522259034, 5.181224445518058, 0.0, 0.0, 0.0, 0.0, 0.0, 0.0, 0.0, 0.0, 0.0, 0.0, 2.750391428678292, 81.28361267057684, 267.4034013776697, 595.7747820577929, 2927.9979576394176, 1430.6479359894204, 947.6144232049644, 835.0936607550783, 560.5594105323836, 2700.3944600528926, 311.5176310285852, 152.7135597772279, 83.91113669455677, 7.167717456036023, 0.0, 0.0, 0.0, 0.0, 0.0, 0.0, 0.0, 0.0, 0.0, 0.0, 6.398277038343921, 70.99592064948787, 260.40328927396376, 470.47292779672955, 10548.594436671066, 581.8361090300212, 320.8528597487583, 373.57274881646714, 169.41700965083766, 834.6693270378114, 175.47522341104258, 77.09279820112874, -0.2702423074908744, 0.6434758996281, 0.0, 0.0, 0.0, 0.0, 0.0, 0.0, 0.0, 0.0, 0.0, 0.0, -1.3653147040831826, -0.9318376261132764, -1.1638903743218136, -2.324932072077733, -0.24943567025473795, 1.8634183575581804, 0.49928711361618233, 0.6522842323500483, -1.1931865749920012, 1.760854407898936, -0.4949674992395318, 0.05747071243624863, 0.19070748224904907, 1.3008135787189923, 0.0, 0.0, 0.0, 0.0, 0.0, 0.0, 0.0, 0.0, 0.0, 0.0, 807.6639933795958, 137.83715796054204, 226.70056242994806, 293.0724535923269, 1157.9391529600603, 619.0264480930991, 689.5137906368914, 705.107898728078, 631.897093838103, 1086.8092624508301, 329.8396849307678, 184.61199303721878, 106.8935435481648, 204.4334057116815, 0.0, 0.0, 0.0, 0.0, 0.0, 0.0, 0.0, 0.0, 0.0, 0.0, 5.854747662165672, 83.07390717522054, 111.79140919375521, 348.06976501566106, 609.8126898357784, 515.0274711935305, 739.6931054788788, 650.396192724446, 598.23975958869, 503.0531105435567, 90.19535088379205, 46.032026910764245, 4.657578701904573, 3.1628039805522383, 0.0, 0.0, 0.0, 0.0, 0.0, 0.0, 0.0, 0.0, 0.0, 0.0, 5.087522406221769, 32.902400849375816, 98.78728743840453, 192.87057027624402, 13.658009086491964, 436.72122077126903, 408.91809361953443, 961.8690066426792, 580.1320198676186, 354.936660626075, 333.80805322795806, 223.44090055516733, 170.14943694900705, 8.33446502694749, 0.0, 0.0, 0.0, 0.0, 0.0, 0.0, 0.0, 0.0, 0.0, 0.0, 0.061657873671536766, 464.89753497022025, 107.47441134111638, 209.26570389964854, 98.12767694069287, 617.3599991224489, 2626.198027495368, 2261.724966005296, 791.3306236045745, 671.7473146973216, 384.7270651956508, 294.16615141773855, 231.84692389201845, 4.825326443025066, 0.0, 0.0, 0.0, 0.0, 0.0, 0.0, 0.0, 0.0, 0.0, 0.0, 6.4015756087855396, 3120.822446844967, 566.9698378543108, 487.5074146924681, 592.8940144921373, 1096.010788982643, 14604.47247297958, 12812.166673719703, 914.9325314858941, 658.6065637544497, 457.3412758204543, 389.736245946797, 469.1831834102687, 10.014993956908958, 0.0, 0.0, 0.0, 0.0, 0.0, 0.0, 0.0, 0.0, 0.0, 0.0, 6.0695757466672875, 470.88621235460135, 1379.0037249065022, 795.2736128888172, 676.775270419326, 1893.498899670486, 2316.9323452392437, 3546.902259909971, 1202.4389658194486, 662.028329365019, 530.1030857514046, 493.0860425364412, 1126.7761986921973, 10.355773687814764, 0.0, 0.0, 0.0, 0.0, 0.0, 0.0, 0.0, 0.0, 0.0, 0.0, 8.286563561550102, 282.02916002193183, 31214.131874943494, 1066.9909105363797, 692.4274844878561, 4553.8186699808275, 1309.052783564357, 1645.2373495411246, 1631.1847037071075, 626.258847879496, 579.4210714191386, 625.5623231449676, 3045.0760953995073, 7.47282174193772, 0.0, 0.0, 0.0, 0.0, 0.0, 0.0, 0.0, 0.0, 0.0, 0.0, 8.62149946765549, 214.07439838572643, 1404.6595324802543, 1764.2846578717094, 741.5283117156197, 8650.076377604784, 958.4319266176714, 1107.9038382196868, 2611.40543892354, 593.8438736330878, 618.3919840643844, 878.1626483359529, 646.6521633225775, 6.344185277658794, 0.0, 0.0, 0.0, 0.0, 0.0, 0.0, 0.0, 0.0, 0.0, 0.0, 7.441472502502982, 128.7727844806525, 696.0934737063634, 7752.50998676757, 847.285995169332, 2240.690918278747, 744.3119966931592, 682.603716224724, 9017.389039623773, 600.8316852844945, 743.2091294414797, 1681.8545819504661, 243.1183422939387, 2.0998808194482272, 0.0, 0.0, 0.0, 0.0, 0.0, 0.0, 0.0, 0.0, 0.0, 0.0, 9.28490576523487, 131.38350153836683, 460.71361835094666, 3282.1777290213986, 1077.9925462670403, 1342.9548937898176, 789.6586072140652, 775.0305699739625, 5598.5536956265905, 515.5132049159718, 792.5487859074335, 114639.78094322857, 254.53860234426523, 2.4839947418307102, 0.0, 0.0, 0.0, 0.0, 0.0, 0.0, 0.0, 0.0, 0.0, 0.0, 12.159455283967777, 120.74855725934805, 360.6745210039275, 1291.0909854654142, 581.5503641746567, 489.95930255788795, 379.17804254733556, 385.7637600278683, 980.9400256823424, 302.8077222933525, 885.0455977562813, 787.4816610120431, 0.23199577338434713, 0.35563279601263004, 0.0, 0.0, 0.0, 0.0, 0.0, 0.0, 0.0, 0.0, 0.0, 0.0, -0.42112410804162786, -0.7976248280217155, 3.710152965540038, -4.821034290922804, -5.923524971016341, -1.6029867533585036, -0.7053171776176567, 21.23122189990979, 34.19230350866081, 7.377191322513722, 15.580141838871864, 293.22130750521217, -0.067553700165102, 0.282918445421127, 0.0, 0.0, 0.0, 0.0, 0.0, 0.0, 0.0, 0.0, 0.0, 0.0, -0.23126949148703568, -0.8334784795602531, -1.275273694873453, 1.2039434893550836, 249.76795922186645, 235.4861197097373, 165.76767762691017, 50.884284502264585, 76.28556064014083, 138.6622803222432, 8110.6418542816555, 10.998944231548546, 2.463005958339577, -0.45304492407778785, 0.0, 0.0, 0.0, 0.0, 0.0, 0.0, 0.0, 0.0, 0.0, 0.0, -1.269994818006447, -0.513204682193361, -1.9949494288876906, 7.648961065608227, 215.20225729268753, 37.111457840366334, 24.35131883630855, 21.527566367151156, 41.0494862626638, 29.502566729788008, 15.291779335399628, 3.2230885037980443, -0.2785240391139109, -0.27180286031584755, 0.0, 0.0, 0.0, 0.0, 0.0, 0.0, 0.0, 0.0, 0.0, 0.0, 26.700424449498822, 0.1847077105095933, 3.2187061736724827, 45.880512724285424, 87.89164636325494, 161.48004484459838, 767.5774569853132, 239.7838036111499, 116.90728511651453, 227.03978666002683, 441.1118637140295, 94.59701382287275, -0.29680922856127784, -0.03988782077285522, 0.0, 0.0, 0.0, 0.0, 0.0, 0.0, 0.0, 0.0, 0.0, 0.0, 51.09164244066977, 12.382015510771597, 61.80308090007515, 404.5759547278311, 831.645699939319, 424.068042585158, 19390.738401764145, 1752.9329966545804, 616.8748354933242, 1948.1161596965921, 928.5316353615758, 295.3794366140478, 111.09484816930075, 11.459796266218978, 0.0, 0.0, 0.0, 0.0, 0.0, 0.0, 0.0, 0.0, 0.0, 0.0, 75.19433294793433, 138.15276067506278, 224.64527390152372, 405.5905994833453, 1127.4237353297742, 791.5942502431085, 3484.954471120184, 12233.60917808551, 707.2399216216925, 4820.969919820418, 725.5419182497069, 275.57382785319436, 114.89989488583355, 16.804566128964776, 0.0, 0.0, 0.0, 0.0, 0.0, 0.0, 0.0, 0.0, 0.0, 0.0, 278.4493861530387, 149.86790805863072, 218.06599672355375, 382.0975353586663, 329.9194614856705, 715.1893213228777, 1510.1483896376778, 3818.9328219191766, 649.9635832864487, 16478.14038545997, 587.1709746376207, 250.21117380828107, 104.69279384566802, 18.435276156488854, 0.0, 0.0, 0.0, 0.0, 0.0, 0.0, 0.0, 0.0, 0.0, 0.0, 164.70352728929086, 143.05686377117559, 213.4096126877492, 336.05665548185635, 669.7681139606373, 807.2504393295312, 888.3848607660525, 1425.6036676396097, 537.4639086325067, 2479.3882310128806, 421.1293578081921, 190.17422606425768, 66.07712810675112, 6.026073731183721, 0.0, 0.0, 0.0, 0.0, 0.0, 0.0, 0.0, 0.0, 0.0, 0.0, 22.53809297811442, 69.65937225761459, 135.70693663575773, 200.56187716781116, 475.01504889856585, 968.6357349019615, 703.860455405701, 828.1188098116145, 595.5320301076824, 1408.5835824181447, 379.43682436206825, 191.53035546639725, 91.95808407989155, 26.92171558942153, 0.0, 0.0, 0.0, 0.0, 0.0, 0.0, 0.0, 0.0, 0.0, 0.0, 27.149268158000382, 91.77261367432321, 138.05824711502495, 119.74148816647237, 474.1278111577993, 293.6445314353584, 543.2198594983748, 605.873461273498, 165.65728465003127, 687.1200622920445, 379.74435303256286, 200.16850684657908, 124.69144271027078, 50.45601281321737, 0.0, 0.0, 0.0, 0.0, 0.0, 0.0, 0.0, 0.0, 0.0, 0.0, -0.21232337759091566, 1.0330627895819446, 12.016812381677054, 157.85802008212414, 311.02590141377556, 831.2458558893549, 237.3071603932841, 297.24975820086996, 368.2626676044132, 334.0400691221179, 79.37018962636844, 44.41456758586503, 15.49864084872657, 18.835982014492274, 0.0, 0.0, 0.0, 0.0, 0.0, 0.0, 0.0, 0.0, 0.0, 0.0, 33.30704972579677, 385.630650651383, 159.59362220956316, 40.836885163900256, 63.16360396203111, 498.4189682477753, 14.806216844290107, 18.55668913183235, 21.701640054212092, 79.13154043057999, 32.7777235846876, 8.679037195721627, 0.9658634530615771, -42.804902907814, 0.0, 0.0, 0.0, 0.0, 0.0, 0.0, 0.0, 0.0, 0.0, 0.0, 4.717008134988666, 143.38156862502933, 92.18986253179435, 237.72758429473336, 330.3950706803161, 6169.337705256316, 192.32272502333163, 370.3161902042597, 878.6915135344104, 414.60158224201945, 109.65017572930581, 66.74729139130639, 22.666265132245865, 10.669232208536986, 0.0, 0.0, 0.0, 0.0, 0.0, 0.0, 0.0, 0.0, 0.0, 0.0, 9.679620545446063, 859.6507632684447, 4.6695392367845265, 71.3239016176268, 395.13183424272324, 1409.9056078688482, 263.1172810667002, 175.80151435051778, 446.88082251250216, 185.798909975987, 108.04760853885635, 109.66425668625922, 93.96627783805741, 18.440382602157204, 0.0, 0.0, 0.0, 0.0, 0.0, 0.0, 0.0, 0.0, 0.0, 0.0, 19.285297893966188, 3957.774698714917, 209.0137690153291, 142.32815536769158, 102.61036659317365, 615.4889007084829, 162.07690581946144, 150.2730570681985, 1238.3886808533714, 305.4040545767057, 169.4105111966381, 126.1847071535034, 103.79004030950294, 11.57414833070287, 0.0, 0.0, 0.0, 0.0, 0.0, 0.0, 0.0, 0.0, 0.0, 0.0, 1.924212045168528, 643.0467793993113, 356.1420521836297, 260.09464412795853, 258.32402134905254, 554.8852833162927, 331.7701781505315, 305.46975429529266, 1915.14994380886, 99.19567590569906, 41.14424226786218, 7.8823883190342805, 2.1984394195042145, -1.0326360858502692, 0.0, 0.0, 0.0, 0.0, 0.0, 0.0, 0.0, 0.0, 0.0, 0.0, 0.07884136931954862, 3.2567128633612055, 58.906950457543324, 19.57005385433104, 101.57516264776994, 137.61504012603996, 398.74415677908127, 454.39753608291676, 6385.8550828450325, 131.00121135582322, 93.465809024024, 10.194366977501938, 2.7409376424237823, 1.8780780711167475, 0.0, 0.0, 0.0, 0.0, 0.0, 0.0, 0.0, 0.0, 0.0, 0.0, 20.285786310052185, 384.8076343106038, 431.85865646704826, 338.23421263751, 421.0809478941287, 322.61277277515507, 431.76784576538313, 370.27979451050516, 1369.2161741004818, 422.304922899306, 117.05743077887375, 27.975515562194726, 3.325708607654975, 1.5996784255576741, 0.0, 0.0, 0.0, 0.0, 0.0, 0.0, 0.0, 0.0, 0.0, 0.0, 25.679504550517493, 350.96269557241794, 1474.9914073130087, 821.3674355530791, 733.5538298142825, 1053.15140807548, 2956.2725654010037, 1640.130586738037, 2283.2977142124446, 588.2661086458997, 465.2569799591334, 405.5393437901466, 1276.8658709832596, 27.918828160114547, 0.0, 0.0, 0.0, 0.0, 0.0, 0.0, 0.0, 0.0, 0.0, 0.0, 27.426095727276152, 309.4836116986366, 2608.5695353626, 926.1099807400225, 735.93837919645, 925.9380714640342, 6750.374410829978, 2277.7148813228114, 1147.0944976838423, 255.51797395801057, 127.84973788642388, 203.71446122923328, 12690.942268986244, 25.40637122644151, 0.0, 0.0, 0.0, 0.0, 0.0, 0.0, 0.0, 0.0, 0.0, 0.0, 26.548727002798376, 252.59970522845566, 5380.134655483247, 590.72267598592, 626.2845976326713, 600.8766819208533, 16314.012632363569, 3960.545241341921, 1023.5392037380758, 459.721082322191, 459.9264618345819, 501.5342632115753, 1120.1161207507646, 15.644647668467362, 0.0, 0.0, 0.0, 0.0, 0.0, 0.0, 0.0, 0.0, 0.0, 0.0, 24.74306266734083, 199.69534073320682, 8000.171480935205, 808.3153682696367, 506.75257381488746, 386.0521881618753, 1864.7137222813642, 161028.31988056665, 541.6126778610563, 250.03941468762102, 283.2726381258329, 510.11629379262723, 251.24988977155576, 1.9374497790919516, 0.0, 0.0, 0.0, 0.0, 0.0, 0.0, 0.0, 0.0, 0.0, 0.0, 21.762591277879007, 195.92855946787432, 1165.3312896967489, 404.564745248875, 75.23184802414316, 14.817091960651828, 10.222079521692322, 11.249376968882597, 1.0402235948707066, -0.13673573509955006, -1.536370435680465, -0.44008027167581815, -1.529884766931231, 0.07371665821300594, 0.0, 0.0, 0.0, 0.0, 0.0, 0.0, 0.0, 0.0, 0.0, 0.0, 0.47506218086684615, 0.30299007873761963, -5.7287182899640685, 278.70486843010735, 85.63576032671136, 50.48415017718724, 58.419304514118956, 10.533910124995904, 13.887308720870703, 12.148474230218998, 16.94117761818105, 8.51560168964178, 2.9511498349287715, -0.48975487457401856, 0.0, 0.0, 0.0, 0.0, 0.0, 0.0, 0.0, 0.0, 0.0, 0.0, -0.5350717653193091, -0.7694307812727758, 270.5466837738986, 364.29465168970546, 167.22649936231392, 145.72898219368898, 280.6559645396586, 129.11332288194288, 55.724448272624315, 46.40317450698045, 129.35385495477342, 24.44213780577258, 15.379387605355822, 0.24272153501012977, 0.0, 0.0, 0.0, 0.0, 0.0, 0.0, 0.0, 0.0, 0.0, 0.0, -0.7876054506408078, 0.13031978380345693, 102.70089116054257, 290.96019878872517, 109.13006013688356, 77.35018854422529, 268.12553117048867, 691.985762375838, 458.8646909190581, 596.926246113508, 546.3892118926406, 4552.275868246983, 164.15619997750215, 18.957299419219822, 0.0, 0.0, 0.0, 0.0, 0.0, 0.0, 0.0, 0.0, 0.0, 0.0, 16.910017857968473, 134.8071730254593, 511.9549884240018, 2660.200540108506, 869.8383680766578, 558.2849938696719, 708.2963920076925, 942.4183702648822, 598.9126526789865, 613.3111860381746, 1336.0944036150674, 1435.633816891645, 179.3511991468941, 22.863957260856377, 0.0, 0.0, 0.0, 0.0, 0.0, 0.0, 0.0, 0.0, 0.0, 0.0, 29.565980281160986, 164.12147622729643, 744.8220195736513, 3168.9736975587343, 631.3402808731496, 541.7199906303069, 894.5770078996457, 797.5773289523096, 430.02401061506174, 758.557291863264, 2274.7990342552857, 927.5273293748257, 170.94620571598028, 21.518638712955227, 0.0, 0.0, 0.0, 0.0, 0.0, 0.0, 0.0, 0.0, 0.0, 0.0, 0.4935128465444165, 8.378151085906856, 415.0353812997552, 4047.944206518106, 629.1553807647084, 416.19115316585464, 248.9313831448646, 257.2223807610915, 394.4402842272706, 750.6175179863635, 702.9694889115598, -0.3656371159150481, -1.5057042751076954, -0.17999762881318182, 0.0, 0.0, 0.0, 0.0, 0.0, 0.0, 0.0, 0.0, 0.0, 0.0, -0.5117680146281472, 0.7172476013617948, 44.16967467141605, 1061.770438460856, 232.74634114212938, 567.6882341863666, 885.3415960155983, 900.5416462925137, 777.6279670702445, 1401.583183430956, 18547.69334194206, 673.5398305690102, 189.76721287558436, 42.85670241376916, 0.0, 0.0, 0.0, 0.0, 0.0, 0.0, 0.0, 0.0, 0.0, 0.0, 10.833018902853828, 71.11112445958675, 502.45335630083997, 8828.824043796587, 874.5039684447391, 442.7814118010645, 333.1595070832228, 316.73429629220004, 229.02291961044565, 639.3249233933393, 2297.2524118541746, 427.68088246932734, 87.16178258121847, 3.162026903160674, 0.0, 0.0, 0.0, 0.0, 0.0, 0.0, 0.0, 0.0, 0.0, 0.0, 37.79892736018376, 169.87909017542583, 690.4065149542861, 15862.806359048776, 1298.2218790666834, 736.7807252963264, 804.7041914905352, 762.4854598604192, 672.5118922932769, 1353.120434319169, 890.6005817488882, 259.19944446374456, 4.554049236566469, -0.14695035401649098, 0.0, 0.0, 0.0, 0.0, 0.0, 0.0, 0.0, 0.0, 0.0, 0.0, 22.61965629357249, 123.08965155545793, 583.393048357294, 22702.83427638707, 491.68248766937927, 466.89923374723395, 731.1928135297767, 587.6277174730907, 722.6232632489898, 2470.14162547707, 1355.4114065359731, 393.50643995201324, 156.01173277501482, 48.835369938065384, 0.0, 0.0, 0.0, 0.0, 0.0, 0.0, 0.0, 0.0, 0.0, 0.0, 32.0592257438629, 148.7299836957451, 399.1419021502193, 62892.755778706414, 1252.9340936387773, 693.0371520590452, 720.6236563640057, 695.2802583652123, 698.2213759459333, 5255.520782479036, 977.7883965112845, 346.851640495151, 135.84614515670611, 45.83001078344843, 0.0, 0.0, 0.0, 0.0, 0.0, 0.0, 0.0, 0.0, 0.0, 0.0, 24.059042340757127, 127.13474871148584, 533.5008620377599, 46891.547529804375, 795.2037446047634, 420.83775990018347, 339.59053912922207, 260.23159516423516, 327.60478031293405, 134612.12747424963, 300.09386213269954, 135.85934503746276, 108.9451219339876, 17.20115146445565, 0.0, 0.0, 0.0, 0.0, 0.0, 0.0, 0.0, 0.0, 0.0, 0.0, 14.140565106576839, 98.64590282055877, 455.05965819577614, 22740.920867226654, 1092.023935548742, 545.4218493251133, 647.4717542858998, 484.8301309804518, 764.4952373401541, 6230.019412348092, 650.0357529500905, 308.6052495235741, 135.436446898981, 75.89698151908027, 0.0, 0.0, 0.0, 0.0, 0.0, 0.0, 0.0, 0.0, 0.0, 0.0, 0.04897780681104631, -1.0529568441883734, 332.46026755547746, 248.03511377797633, 161.90073867906492, 329.82992267993905, 372.29798238210816, -0.41783151158457993, -1.3500661913756844, -8.086856902062856, -1.971088704568303, -0.6055544349856684, -0.4402574568234798, -0.5747007105555495, 0.0, 0.0, 0.0, 0.0, 0.0, 0.0, 0.0, 0.0, 0.0, 0.0, -0.9062150218349521, 0.046994859935320384, 4.776091450084349, 2274.336404826921, 99.44386168166665, 26.724708411531417, 17.11243203084422, 17.06076913511674, -0.3032965042764497, 41.242820177836734, 0.35992246842360226, 4.469427303860579, -0.39655280031985635, 0.08525790748324434, 0.0, 0.0, 0.0, 0.0, 0.0, 0.0, 0.0, 0.0, 0.0, 0.0, 9.444966310003933, 91.52958848093893, 265.12235553070235, 3861.6255884770235, 860.3245915152977, 362.54360751912685, 375.87389634838195, 413.25863785976776, 845.9626371986922, 1485.129454011061, 498.28027591959085, 232.5280382690725, 79.00343599523758, 105.51236676928154, 0.0, 0.0, 0.0, 0.0, 0.0, 0.0, 0.0, 0.0, 0.0, 0.0, 32.18594068079268, 121.02451538842443, 724.1038634201843, 5234.789204895079, 1009.5986002498624, 500.69440750567236, 168.43736966463655, 5.468824548280972, 637.4044507481273, 71.25109354179224, 98.23210793222334, 4.747537911743496, -0.38856103260922986, 0.7934918638959292, 0.0, 0.0, 0.0, 0.0, 0.0, 0.0, 0.0, 0.0, 0.0, 0.0, -0.6309887541471282, 14.986681658938158, 638.737393718652, 2773.1764613966166, 726.6219925485549, 150.06691177081726, 162.115201213849, 564.6866911717073, 846.6717491980013, 296.5310131287002, 298.3498992577057, 261.175813941817, 147.8471377648525, 179.89392450114644, 0.0, 0.0, 0.0, 0.0, 0.0, 0.0, 0.0, 0.0, 0.0, 0.0, 14.469625532584423, 106.24442125291536, 728.0129833039706, 3041.7211980193165, 1118.2270029621038, 707.1186819568986, 808.9097100771049, 945.8584131486405, 1501.2710301606749, 1301.282468924173, 501.11310264348157, 265.965463987875, 171.05944651931185, 443.33410378108874, 0.0, 0.0, 0.0, 0.0, 0.0, 0.0, 0.0, 0.0, 0.0, 0.0, -0.4887616734953125, 0.348484141002279, 147.51683171736258, 383.2648266769832, 502.1288425481688, 458.94589124370503, 495.46721088396544, 565.1733068740214, 918.5437011834819, 669.0822434366364, 360.1382027873856, 194.85327842646612, 141.12245313496229, 510.3028735350448, 0.0, 0.0, 0.0, 0.0, 0.0, 0.0, 0.0, 0.0, 0.0, 0.0, 10.957204259227382, 105.34567231266922, 723.8542046015352, 602.2951701961942, 23.587448811859257, 50.24013558460558, 35.69930905315681, 30.4554299083176, 1108.89368101078, 524.2901733665639, 132.59976621264974, 121.1735960503118, 134.33927346726054, 1243.5813862455473, 0.0, 0.0, 0.0, 0.0, 0.0, 0.0, 0.0, 0.0, 0.0, 0.0, 15.815511146467204, 137.2625061330572, 991.5562814169134, 1265.1363311007751, 750.5223861418854, 466.66818288212085, 470.6281778373807, 396.77320872693906, 1014.8490680726404, 419.10286304114777, 224.76231239116612, 158.17326477427315, 141.4508875646903, 422.1472254184641, 0.0, 0.0, 0.0, 0.0, 0.0, 0.0, 0.0, 0.0, 0.0, 0.0, -0.5176948129301185, 43.53076176991725, 1046.0217989675311, 462.6377676156208, 76.95618303156687, 62.907131917042186, 287.7753094703073, 743.6993051562947, 1762.340592381817, 664.3590687765183, 377.72637319107764, 211.82393933257583, 86.82204529231349, 196.28482202044808, 0.0, 0.0, 0.0, 0.0, 0.0, 0.0, 0.0, 0.0, 0.0, 0.0, 22.867054200813634, 153.25231218297824, 1296.805571987442, 887.0010698166235, 663.1596116432052, 582.8035156073977, 601.5725177048353, 858.3504271109693, 1924.7768241487618, 609.7139504650071, 298.44649600541885, 204.22249432538194, 77.08411374022798, 77.16097460089054, 0.0, 0.0, 0.0, 0.0, 0.0, 0.0, 0.0, 0.0, 0.0, 0.0, 22.187970156695798, 158.357062043066, 890.6161233617604, 1029.9136043898163, 323.64858617802713, 381.27802380512713, 322.3774583772243, 785.9651822858357, 2082.5082739339587, 623.0754576158267, 421.4788665551445, 249.1644176071499, 174.79863030330435, 179.66164535623454, 0.0, 0.0, 0.0, 0.0, 0.0, 0.0, 0.0, 0.0, 0.0, 0.0, 25.098332438064208, 95.57195616671248, 7239.0483258680215, 446.39419601838387, 383.818660121054, 595.0687484221272, 595.6279488401314, 708.6599734631972, 2806.9774029945143, 605.7083151956296, 373.7830116524156, 61.54574634694568, 171.2388889137264, 100.10091362447096, 0.0, 0.0, 0.0, 0.0, 0.0, 0.0, 0.0, 0.0, 0.0, 0.0, 25.56083964667098, 150.42148906942836, 7135.998791102323, 781.2327276685668, 593.8099005692118, 629.4201247242892, 670.4755285408594, 952.6939901070876, 3587.801674066976, 601.9805678198195, 374.31988046600486, 209.39804744663326, 1.051535284371861, -0.37605839837823213, 0.0, 0.0, 0.0, 0.0, 0.0, 0.0, 0.0, 0.0, 0.0, 0.0, 21.38548632307753, 185.39999926696015, 2122.7821722895137, 568.1807451672647, 246.2348978765173, 235.0885737283812, 197.1017221011451, 201.38136063566944, 67.86190007928987, 1.9130329810276527, 5.910185635726609, 163.3005229972939, 181.80062523230558, 16.426246601856448, 0.0, 0.0, 0.0, 0.0, 0.0, 0.0, 0.0, 0.0, 0.0, 0.0, -0.06028372960582328, 0.9265374141533794, -4.629501077424419, 17.21802074519504, 110.83851923573815, 70.15488029505744, 288.08970210889544, 378.68068719878625, 1877.4297719293338, 244.151780146467, 57.78986148707568, 4.424788219702299, -0.11857545601610518, -0.1447662383267, 0.0, 0.0, 0.0, 0.0, 0.0, 0.0, 0.0, 0.0, 0.0, 0.0, -0.559466426111328, -3.3918647653795255, 238.91135807765582, 164.14321239941333, 269.5476373173876, 233.91707299560954, 245.02739937242018, 284.90022029007525, 4129.676208706888, 342.4095744290871, 368.5415396490782, 224.86888165345374, 169.57680625776737, 111.89337704076999, 0.0, 0.0, 0.0, 0.0, 0.0, 0.0, 0.0, 0.0, 0.0, 0.0, 0.8931329303587813, 128.08470985817866, 791.7981906185731, 543.3885281517038, 418.7617992955279, 472.8158513090759, 476.0498807028143, 617.2445547891423, 2854.3886897936736, 525.9630149694019, 361.998451564625, 239.48495689323767, 203.96500821901304, 112.95146941053676, 0.0, 0.0, 0.0, 0.0, 0.0, 0.0, 0.0, 0.0, 0.0, 0.0, 12.555968057697916, 256.46525561949693, 733.3642145700265, 454.8279009990037, 429.3505961073552, 487.2611774013319, 507.220362261977, 621.4087933213466, 3518.9868782823655, 597.5889866362094, 353.27508677589555, 240.89116184728445, 220.1183626253412, 120.2825113724726, 0.0, 0.0, 0.0, 0.0, 0.0, 0.0, 0.0, 0.0, 0.0, 0.0, 21.286226407773444, 462.595426625369, 504.93801100833076, 462.8788858905836, 510.1053600553513, 834.545987173623, 837.3992652389684, 916.1527549702677, 5492.04809231003, 614.1008456959876, 401.8023575651976, 281.7352205324655, 265.97225522650103, 148.73915422468644, 0.0, 0.0, 0.0, 0.0, 0.0, 0.0, 0.0, 0.0, 0.0, 0.0, 25.51564613818391, 614.7020113063525, 465.473203331381, 457.178773407407, 469.67044298395757, 820.3434183273002, 799.5664886921713, 824.884562652057, 4913.270817365542, 592.2636434980044, 412.8554220783162, 270.7595254078272, 172.4523810290759, 132.9875861802567, 0.0, 0.0, 0.0, 0.0, 0.0, 0.0, 0.0, 0.0, 0.0, 0.0, 22.035765121642676, 552.308959259881, 290.06923149618274, 340.72601063841404, 345.23715501625645, 875.1391009946132, 858.5116352630121, 828.5929425726207, 4446.9183152560745, 570.2647787861847, 376.50430461603486, 257.4217088909795, 235.25919655234196, 133.14365713878283, 0.0, 0.0, 0.0, 0.0, 0.0, 0.0, 0.0, 0.0, 0.0, 0.0, 22.092050848695294, 1895.684644845572, 234.84161893423976, 281.6455706604633, 264.42150099839387, 896.8675061506294, 822.0689112533028, 673.765830212247, 2912.4740364262984, 533.4345352945664, 365.53131309630373, 253.31993500508563, 236.98459589735504, 140.14159553863533, 0.0, 0.0, 0.0, 0.0, 0.0, 0.0, 0.0, 0.0, 0.0, 0.0, 10.498597502401724, 2394.3336365950595, 345.0670168634336, 335.1595526695346, 442.5838979938721, 607.8109039055304, 946.2711107201708, 671.8721188490919, 3023.974719668983, 538.3006473504362, 357.51956134917185, 269.2750269009769, 248.26135693060962, 68.85767059645784, 0.0, 0.0, 0.0, 0.0, 0.0, 0.0, 0.0, 0.0, 0.0, 0.0, 19.950268770207312, 995.0593502268458, 329.04750173716275, 367.2953919201283, 428.0728132459149, 997.5898545718952, 992.2716960111295, 514.3309631463046, 2330.827343526342, 459.55427397795415, 365.0066890172587, 246.75259335733477, 221.45396431095045, 159.2526038143017, 0.0, 0.0, 0.0, 0.0, 0.0, 0.0, 0.0, 0.0, 0.0, 0.0, 29.25082388673403, 593.8605286155943, 301.3454066698828, 392.3123804509714, 497.8369918887327, 1306.9640161166285, 1158.3019966680788, 713.9008099540943, 2665.60884092441, 597.8631630263058, 390.0377262086126, 265.28819396639597, 240.88921781995816, 198.83397063459861, 0.0, 0.0, 0.0, 0.0, 0.0, 0.0, 0.0, 0.0, 0.0, 0.0, 27.283481982180867, 205.720895100875, 259.2415130204406, 342.55799825579874, 464.9455060928396, 1011.4521798474564, 270.9001795229493, 365.43917251543735, 171.04843075806883, 56.3226330244788, 64.2936811531407, 58.17936181087302, 3.514233105267521, -3.703363800827789, 0.0, 0.0, 0.0, 0.0, 0.0, 0.0, 0.0, 0.0, 0.0, 0.0, 11.643349386819423, 130.03732020845405, 206.57876790088577, 175.514222580858, 102.16130092519711, 88.4783077267761, 32.214673237488235, 220.32553939782295, 166.92003048233218, 60.808701623381765, 48.930418582080726, 14.30488894809564, -0.2147286368186414, 21.1490201311981, 0.0, 0.0, 0.0, 0.0, 0.0, 0.0, 0.0, 0.0, 0.0, 0.0, 10.449475178794305, 116.33501409510195, 114.29136033793318, 192.85966867630967, 543.2320439040517, 2913.66482068762, 3162.477105664029, 545.1785889156662, 674.2175995310378, 201.84676669755325, 131.81620797054245, 66.07731390776954, 103.83048871149629, 62.289666205814804, 0.0, 0.0, 0.0, 0.0, 0.0, 0.0, 0.0, 0.0, 0.0, 0.0, 51.04860047474331, 268.58653350574457, 285.7424104751953, 445.3372035392537, 694.070988194004, 6143.56319244677, 10266.760026091204, 811.4201942573814, 1790.7283707029603, 893.4794502166943, 513.7752899842909, 328.66239664272933, 259.74627495985015, 697.6639123861929, 0.0, 0.0, 0.0, 0.0, 0.0, 0.0, 0.0, 0.0, 0.0, 0.0, 44.3620527394087, 186.9094087518001, 233.40999914282074, 379.01389833023103, 567.7907883738202, 35988.21222959277, 12207.26984442817, 637.0226853860781, 1025.022627229743, 687.6087610302526, 408.3898870419145, 224.76859742330515, 165.6621286483991, 966.5691754148268, 0.0, 0.0, 0.0, 0.0, 0.0, 0.0, 0.0, 0.0, 0.0, 0.0, -2.2699438324088517, -0.171176264409569, -0.8399629829728731, 0.935401603086277, 36.412695091733504, 220.80750701604984, 1271.6524398679442, 505.59580278024225, 879.8119848146736, 269.0993198262546, 28.208193752250065, 2.04830572326339, 45.65863944312615, 667.3719234253352, 0.0, 0.0, 0.0, 0.0, 0.0, 0.0, 0.0, 0.0, 0.0, 0.0, 48.59357724481838, 77.28959456911252, 119.83279328823114, 292.2364991257099, 503.0048324969608, 1011.0573141280141, 52.371856605420696, 19.180990945163725, 27.15037163193902, 255.001417266696, 226.79432381871396, 236.06047079072673, 167.77624299259045, 353.4784622268751, 0.0, 0.0, 0.0, 0.0, 0.0, 0.0, 0.0, 0.0, 0.0, 0.0, 100.3707493437345, 167.20227155094125, 219.3102375060654, 410.8195920763392, 843.3227644723734, 2249.6676455699635, 1595.756586691974, 899.475019608707, 1012.5612640550845, 883.3758749701082, 442.44430166426883, 260.2686966362036, 184.3950378569548, 269.14357007673163, 0.0, 0.0, 0.0, 0.0, 0.0, 0.0, 0.0, 0.0, 0.0, 0.0, 248.0092750019574, 93.18643091812973, 203.39722111954742, 401.88325145036805, 827.9024573745022, 984.6827464827965, 1132.4577778595312, 942.0910717469473, 626.7442871818021, 930.9113533698596, 396.75817175606716, 306.58034585913214, 161.81838429496204, 155.13604540638536, 0.0, 0.0, 0.0, 0.0, 0.0, 0.0, 0.0, 0.0, 0.0, 0.0, 26.644795250878115, 21.083333695694193, 110.10762862862347, 108.01216525432655, 283.84120862415847, 450.3067638214399, 243.6959440883391, 142.3607994315207, 327.13810660560335, 791.9890626269905, 207.250059669473, 40.1036753332101, 0.818563365847794, 0.5547275768312674, 0.0, 0.0, 0.0, 0.0, 0.0, 0.0, 0.0, 0.0, 0.0, 0.0, 26.79829241255799, 97.26152330092933, 166.3103136873544, 421.11351232234034, 611.1724865685662, 375.6944089057173, 691.0955660676715, 1166.94315478512, 597.2435642182259, 553.4393852558369, 426.810726712726, 120.9387793188355, 93.54773404297515, 35.77052484858314, 0.0, 0.0, 0.0, 0.0, 0.0, 0.0, 0.0, 0.0, 0.0, 0.0, -0.9955441869311497, -0.1456204943678399, 96.95890874628905, 18.4578528487101, 390.89746995750573, 249.1962136533795, 279.6333767289213, 857.1799250624916, 104.90956645582962, 629.4946865571937, 277.85418334986286, 83.48467699359112, 90.51366172257751, 37.270796661041004, 0.0, 0.0, 0.0, 0.0, 0.0, 0.0, 0.0, 0.0, 0.0, 0.0, 40.178475993391956, 120.43074162719972, 252.71271641895748, 527.2043384107594, 3040.8217628581137, 865.911846274401, 776.2654918397532, 4428.496818811097, 724.1532611750584, 2313.0575457538557, 558.8759446325585, 279.71466098999326, 160.36994600252376, 65.86774247377556, 0.0, 0.0, 0.0, 0.0, 0.0, 0.0, 0.0, 0.0, 0.0, 0.0, 5.473528884573814, 94.88076540754953, 243.5278366415664, 590.4628770802083, 3313.471150230495, 142.93979309182276, 172.4382900215142, 8414.068807843036, 17.949480171895146, 54.780949684452516, 0.8592070821632182, 0.9911512477912024, -0.4829478134632336, -0.527404115093825, 0.0, 0.0, 0.0, 0.0, 0.0, 0.0, 0.0, 0.0, 0.0, 0.0, -0.7383416139570542, -0.7883557411224518, -0.7358553276304761, -3.4168940132308574, 4.883957565381317, 16.3243548255566, 2.87476639575107, 81.9163058798411, 78.63977500735345, 6172.763999683759, 52.30267462060626, 106.63081129942243, 53.684555113970404, 48.23085674126391, 0.0, 0.0, 0.0, 0.0, 0.0, 0.0, 0.0, 0.0, 0.0, 0.0, 12.9804970675968, 92.56590063997571, 282.60551527924565, 887.0640029028317, 2070.600570107205, 491.1367154745554, 500.5369688875725, 1260.8010306637623, 460.09902289739085, 5497.365281499425, 635.8396108411673, 277.90131763319425, 121.56502267775937, 25.671158410531614, 0.0, 0.0, 0.0, 0.0, 0.0, 0.0, 0.0, 0.0, 0.0, 0.0, -0.9046828584141622, -0.7918691640819081, -1.636487690659789, 14.39560600611415, 15.513363162953457, 16.028938566105676, 9.889219470157036, 17.550891090491852, 30.492580279356332, 1059.807479060549, 185.6248326203191, 172.29970552613227, 131.5667185352017, 24.424779942195066, 0.0, 0.0, 0.0, 0.0, 0.0, 0.0, 0.0, 0.0, 0.0, 0.0, 1.2880743230205718, 1.2111692286300044, -1.61921896083858, -16.416786146754635, -5.2956157438433795, 2.104708591753472, 43.06099058816466, 57.31033794099066, 19.046195329782268, 19.25417603298355, -2.0195487135875476, -0.35554961655629297, -0.17733944189457174, -0.3701572047226375, 0.0, 0.0, 0.0, 0.0, 0.0, 0.0, 0.0, 0.0, 0.0, 0.0, -0.25169753487313606, -1.0172382749133384, -1.9542590381082077, -444.4518284435487, 3.2900105068754324, -1.7553396605098266, 4.273821458626107, 19.19257082181359, 89.10090872676987, 466.89066296585634, 581.3603372036163, 126.16370046715112, 1.2565290596534022, 0.48703914956645666, 0.0, 0.0, 0.0, 0.0, 0.0, 0.0, 0.0, 0.0, 0.0, 0.0, 5.405477372488408, 82.26295320900856, 552.1807035759332, 2326.4533037767706, 536.1173022917989, 590.0446685515707, 834.7185687410648, 260.87581744313593, 449.2587670413264, 592.0186669684492, 3259.047504016743, 398.2763937164099, 0.4955880232392342, 0.2956016100430317, 0.0, 0.0, 0.0, 0.0, 0.0, 0.0, 0.0, 0.0, 0.0, 0.0, 6.840130010167674, 18.465226104004017, 476.9317377386859, -7.9666791571984765, 467.6042411066251, 222.53996745022107, 279.2719576277878, 349.5611618025167, 151.89969737610474, 353.347011789979, 7145.812730872699, 291.8727026454939, 100.12916702469059, 11.93515214877888, 0.0, 0.0, 0.0, 0.0, 0.0, 0.0, 0.0, 0.0, 0.0, 0.0, -0.30284885819424046, -1.4618742065679666, -13.803935313515263, -0.6973068301689609, 89.24759257966286, 343.4765261236336, 13.171939527635404, -0.6906027757384766, -1.8910960835412314, 0.483786506356898, 153.63900393480912, 172.49665087824476, 122.46864546819619, 6.568264931748187, 0.0, 0.0, 0.0, 0.0, 0.0, 0.0, 0.0, 0.0, 0.0, 0.0, -0.4244460454471837, -1.9614815749727788, -8.485861993433716, 4.915026213860873, 18.917986912044405, 6.594459945092192, 1316.9419883906412, 338.41637133906806, 744.4518590381663, 176.3315997346851, 259.98570541463573, 1334.3260499014102, 193.3640078218099, 16.03086500781433, 0.0, 0.0, 0.0, 0.0, 0.0, 0.0, 0.0, 0.0, 0.0, 0.0, 4.868604893298263, 45.41764064492978, 621.0837730771677, 7.711786786598801, 97.10790359531369, 501.04281150428193, 1258.370215872859, 370.72698579506914, 326.1438927115129, 18.484934078272357, 23.554077351243667, 176.40184703322893, 1.4449172048195327, -0.4970845175693384, 0.0, 0.0, 0.0, 0.0, 0.0, 0.0, 0.0, 0.0, 0.0, 0.0, 2.2873092808991746, 272.32175970899203, 378.76844557366144, 20.74950991420271, 0.4709202237945574, 49.03635089889322, 218.19975050468014, 224.0854099098397, 8834.73785851927, 315.769210112511, 301.8448743257215, 573.1842693013965, 219.964798277277, 16.80630806008003, 0.0, 0.0, 0.0, 0.0, 0.0, 0.0, 0.0, 0.0, 0.0, 0.0, 5.894611742209494, 21.018234841803547, 306.6398040059606, 388.6300731876293, 509.65094777072653, 2020.9196493437023, 1036.4331292169775, 1273.7376851998138, 3476.2346572472634, 487.45397870341685, 502.7297133554838, 734.1081183192645, 972.7269511444389, 25.5808047351496, 0.0, 0.0, 0.0, 0.0, 0.0, 0.0, 0.0, 0.0, 0.0, 0.0, 1.3498629671922222, 1107.0064306736883, 157.61882768119642, 109.09332511098354, 217.50776919383694, 2304.286158520155, 420.46375838674, 538.8151745625286, 930.9183021003321, 119.36992168378865, 308.9468376243114, 410.6337772777431, 4503.479558766332, 7.809966268136002, 0.0, 0.0, 0.0, 0.0, 0.0, 0.0, 0.0, 0.0, 0.0, 0.0, 7.062570993058736, 618.1265743059405, 165.2491442767153, 53.112629722784376, 91.94196470994795, 2736.9820177462407, 25.91869835452469, 413.00079015782256, 67.59121866473198, 70.69379451753473, 71.61551621876521, 27.60651821435931, 0.27894546785618407, 0.5881490551513847, 0.0, 0.0, 0.0, 0.0, 0.0, 0.0, 0.0, 0.0, 0.0, 0.0, 6.011999736648929, 283.24179972564406, 262.85897749723216, 342.66057354118425, 273.07003751614155, 85.15491161515598, 25.46832152282277, 9.377684325795196, 56.14035070731618, 104.91430231683985, 146.54021915699073, 13.682809219764952, 304.00307870774924, 39.591592609963136, 0.0, 0.0, 0.0, 0.0, 0.0, 0.0, 0.0, 0.0, 0.0, 0.0, 7.161608754416562, 237.42541371499442, 261.8708537025543, 326.13385619767723, 462.5928468419714, 1223.1705331385901, 515.2731360187017, 1010.4126538513786, 435.96027863593145, 409.163978057338, 271.5505727633268, 282.46922253842484, 244.59359224248584, 72.8591935039302, 0.0, 0.0, 0.0, 0.0, 0.0, 0.0, 0.0, 0.0, 0.0, 0.0, 10.303039972916196, 153.24101257575884, 178.13829465084868, 282.95897028507864, 563.4903351913641, 1157.0050580576296, 602.9027181983247, 931.6049918602945, 618.7679640112825, 626.5357095040373, 1.1856385406964836, 0.8411206471256473, 155.76229651472582, 194.62243506389325, 0.0, 0.0, 0.0, 0.0, 0.0, 0.0, 0.0, 0.0, 0.0, 0.0, 9.457494260214881, 15.437385829005835, 163.53065593473096, 297.5075436689805, 425.4853042667916, 712.0320499172453, 648.3937755524526, 628.8553676596907, 249.61614751271136, 18.71636844690168, 1.8509692579095696, 8.921840524614625, 118.47073909168009, 123.78556127280336, 0.0, 0.0, 0.0, 0.0, 0.0, 0.0, 0.0, 0.0, 0.0, 0.0, 17.35486929349604, 94.1481262525367, 178.82954533027026, 271.50293968988814, 665.3519644702596, 460.32647832565925, 796.5960010179176, 616.8193605092679, 416.9776312945018, 1052.343445213192, 329.97145807749644, 203.12107812193315, 125.7178905122124, 50.30711928438928, 0.0, 0.0, 0.0, 0.0, 0.0, 0.0, 0.0, 0.0, 0.0, 0.0, 20.934324589687908, 11.45145866977287, 215.00333898387274, 321.2690897394371, 825.5547616701483, 649.2646013785944, 1247.4943820167705, 587.4560178110719, 597.4577708318552, 254.46706833904017, 227.35309689793448, 135.11511040602514, 112.50831440650929, 30.377143705580437, 0.0, 0.0, 0.0, 0.0, 0.0, 0.0, 0.0, 0.0, 0.0, 0.0, 17.43991757646093, 67.25271971392009, 193.56541172000658, 336.81881078502613, 1048.1210407798555, 610.6313461432111, 2521.960801581204, 619.8547788767546, 703.380170839433, 46060.78200549557, 415.4698583550323, 196.4150942092044, 98.02253670695487, 21.02391952334934, 0.0, 0.0, 0.0, 0.0, 0.0, 0.0, 0.0, 0.0, 0.0, 0.0, 4.374751543238198, 35.173287252036765, 82.5458205294384, 205.50497774047213, 1195.7218081158553, 334.70333221827696, 19721.055977831627, 498.493067473048, 376.6311548788072, 155.14374138588033, -0.24695434373530903, 0.4998249400456198, -1.3257726724118566, 0.16920392370738882, 0.0, 0.0, 0.0, 0.0, 0.0, 0.0, 0.0, 0.0, 0.0, 0.0, 4.484220998259816, 72.64454630834265, 4.802633171773554, -0.43508917102632716, 611.1903163444398, 584.6229642899829, 869.3382368761453, 250.58534147887968, 14.793905113450212, 326.6354827942776, 76.70920504011035, 47.92869619989518, 52.57185003808855, 6.3523999546225145, 0.0, 0.0, 0.0, 0.0, 0.0, 0.0, 0.0, 0.0, 0.0, 0.0, 0.3290869777129436, -0.6787928318142313, -1.7255819224063138, 10.839106486556606, 4802.441484020548, 173.85800910059757, 555.8589482507352, 294.8479422522705, 382.9473270442929, 387.06443449996965, 86.30018562350945, 53.48001330062412, 2.6447786316018327, 0.2994381782933129, 0.0, 0.0, 0.0, 0.0, 0.0, 0.0, 0.0, 0.0, 0.0, 0.0, 0.9500298389960322, 49.18716144731519, 186.57005126087137, 327.02597972691296, 2410.4542830234327, 520.6172215873964, 824.6189723949069, 24613.98759213756, 3843.594465926398, 376.3295558204218, 2406.544313111341, 3.166928434601774, -1.1124403233408293, 0.13907281959136555, 0.0, 0.0, 0.0, 0.0, 0.0, 0.0, 0.0, 0.0, 0.0, 0.0, 1.8644719958599854, 71.21292080693584, 199.44575443330547, 571.7242720534674, 1668.7242022668888, 727.9495025953437, 625.9829617119865, 1618.2968262768713, 1252.062149438347, 484.0468991988062, 2020.2258001097234, 540.2188858800337, 124.20152828885604, 3.3884480873837326, 0.0, 0.0, 0.0, 0.0, 0.0, 0.0, 0.0, 0.0, 0.0, 0.0, 1.3165634164697493, 54.01554316734129, 208.5823545874902, 619.6898649446217, 1040.7781066152215, 716.437762604128, 528.8919801835862, 773.0822973495261, 76.49980221860862, 5.659290893757602, -1.1021362437696216, 6.953740984413787, -0.20023534296514717, 0.06278397304800215, 0.0, 0.0, 0.0, 0.0, 0.0, 0.0, 0.0, 0.0, 0.0, 0.0, 0.30813170035638854, 61.25722289836677, 229.6384228769088, 969.0458622266616, 748.1433972313788, 1189.07887466068, 528.1403176577155, 654.7145449145162, 602.3949707748462, 439.4048197282272, 539.0502190785912, 1724.0203279528332, 325.7158413938623, 3.860376058697123, 0.0, 0.0, 0.0, 0.0, 0.0, 0.0, 0.0, 0.0, 0.0, 0.0, 0.4885286720883779, 69.84878307718509, 277.82640248457705, 2024.989447508117, 636.1543249193513, 2146.1035299880573, 465.58380154298067, 488.36678813249773, 330.02790367557344, 289.63383602425614, 385.7728468406326, 528.0702566712068, 709.1343343806901, 2.6855139927261034, 0.0, 0.0, 0.0, 0.0, 0.0, 0.0, 0.0, 0.0, 0.0, 0.0, 0.07103608201529026, 52.78702948330644, 0.7913504211339983, 265.83161656063083, 88.62892616196302, 10330.490321403837, 267.516922527199, 357.667335096246, 477.34894861209773, 413.4227256974422, 254.9996417360521, 264.5114664853752, 27.18042942898904, 0.3844326155053896, 0.0, 0.0, 0.0, 0.0, 0.0, 0.0, 0.0, 0.0, 0.0, 0.0, 1.2193169096863068, -0.5136682256928478, -2.092568282896215, 10.245993568879104, 232.97109546502662, 1749.3566315053163, 844.7439225998208, 477.9058075067502, 470.49748421906713, 543.884692759455, 275.59111938917437, 160.3195050202175, 158.40612438807503, 5.453213991558536, 0.0, 0.0, 0.0, 0.0, 0.0, 0.0, 0.0, 0.0, 0.0, 0.0, 0.9302226505174986, 1.3750651497100272, 198.03650335327842, 47.56273123163964, 65.08947508690846, 174.91194891147285, 961.1162216330354, 2.8021991450159014, 57.84972434321359, 221.7108425172564, -0.21613907889854203, 66.6093455881238, 0.22414883282281126, 4.44681477651544, 0.0, 0.0, 0.0, 0.0, 0.0, 0.0, 0.0, 0.0, 0.0, 0.0, 0.9272328121417541, 112.72981991753868, 1575.1597173220425, 517.1290650467573, 356.3550421894275, 736.0686573016778, 29646.136748796845, 957.4439789879316, 613.8312423061708, 441.31020692629863, 302.09883556910006, 0.10469984197189072, 0.3374144599091009, 5.014334550208329, 0.0, 0.0, 0.0, 0.0, 0.0, 0.0, 0.0, 0.0, 0.0, 0.0, 0.848059622556314, -1.1041673289834637, 575.9983514028917, 477.47801806291176, 448.07752489403913, 580.1956635610107, 1102.6256216245322, 1660.179611723731, 1031.9108845078351, 6570.4257076403, 372.6348687842444, 196.25918827773356, 102.59346508130433, 7.008394483842966, 0.0, 0.0, 0.0, 0.0, 0.0, 0.0, 0.0, 0.0, 0.0, 0.0, 0.5200588349685962, 395.7471833541976, 844.7995014124737, 550.1434496152975, 603.1417738884235, 740.3421757477967, 1065.6008428801783, 4430.481698299861, 16920.987303462804, 1671.0636006559469, 506.79965284454306, 184.79583299516207, 28.035578747464616, 1.3244676945145664, 0.0, 0.0, 0.0, 0.0, 0.0, 0.0, 0.0, 0.0, 0.0, 0.0, 1.3432126815868355, 723.5988075219475, 187.44230546513066, 287.36835418753486, 449.04939367269094, 481.92319786927516, 741.9119374661427, 1202.6286533292875, 1674.820676811429, 789.7039359909113, 528.6990857170478, 193.31664183841755, 75.27523437159496, 1.7955411749103218, 0.0, 0.0, 0.0, 0.0, 0.0, 0.0, 0.0, 0.0, 0.0, 0.0, 1.0358646380020982, 1026.7511106831632, 395.3029473348893, 398.1252614787556, 667.6298919006094, 635.5706217875613, 710.5078851839646, 891.3765528373468, 885.9665681212023, 658.9663506350221, 1091.62572009018, 243.55299015093934, 102.61572064984628, 1.0581218922309228, 0.0, 0.0, 0.0, 0.0, 0.0, 0.0, 0.0, 0.0, 0.0, 0.0, 3.9336370870787296, 211.60110610482917, 171.98053561871149, 265.8105527516702, 701.3013693456745, 598.7978578015129, 625.6027458892247, 507.88303921123656, 517.0199340229889, 471.31179616388107, 7741.470636821537, 279.8724520346994, 93.27238099236062, 0.49492250771063645, 0.0, 0.0, 0.0, 0.0, 0.0, 0.0, 0.0, 0.0, 0.0, 0.0, 11.291865570028296, 127.74363415226823, 235.77005448406697, 305.7158014794757, 858.7519102400352, 644.08849793437, 627.1882489171269, 589.5070302628284, 575.4452016905332, 474.99744658388465, 1330.3626960217111, 515.5350543287343, 128.9008636479515, 0.5128743681803738, 0.0, 0.0, 0.0, 0.0, 0.0, 0.0, 0.0, 0.0, 0.0, 0.0, 10.289127571474411, 131.1562845126928, 216.92230550953195, 312.25387122717757, 1240.4753925874136, 743.680073385285, 724.2308021010817, 593.9771467924612, 516.2156372332214, 458.8990241022306, 607.5908175629854, 1848.392509131319, 172.68410779765532, 0.3058702982671491, 0.0, 0.0, 0.0, 0.0, 0.0, 0.0, 0.0, 0.0, 0.0, 0.0, 3.304415456223147, 61.79981088807701, 142.1354983806889, 291.63914590071255, 2055.042598826398, 971.5716544915944, 1017.4139584716552, 728.3981175016397, 541.6286821840914, 508.0716920672208, 400.80138972689855, 887.7911218156551, 308.5522653263573, 0.1699925360336909, 0.0, 0.0, 0.0, 0.0, 0.0, 0.0, 0.0, 0.0, 0.0, 0.0, 1.8977154561912648, 57.432092495374356, 157.72642654094014, 208.03719383473052, 9575.97805155363, 1482.2736885930224, 1901.8185587373237, 1221.4718416255075, 702.9593495975973, 672.5011128271599, 325.5983206106073, 400.95053013623937, 2474.9658076482383, 0.7506153956973668, 0.0, 0.0, 0.0, 0.0, 0.0, 0.0, 0.0, 0.0, 0.0, 0.0, 1.9674581540726692, 39.77540057858235, 170.7695028239452, 299.251452798142, 3063.449040501769, 5453.489552915996, 5243.968278464237, 3721.9357868659044, 774.3041246180229, 887.9050740111519, 260.6601006440373, 227.80894921029736, 255.2878168294441, 15.925393071055518, 0.0, 0.0, 0.0, 0.0, 0.0, 0.0, 0.0, 0.0, 0.0, 0.0, 1.6927946406648793, 74.32390652771613, 0.04227945068259274, 282.79588897030914, 1501.4920343292447, 1966.2358806383443, 931.0869868483223, 1011.4927821754782, 3269.855007478472, 4388.0599834925915, 287.9289832217409, 188.4946305864982, 130.09594668483106, 4.72818843469503, 0.0, 0.0, 0.0, 0.0, 0.0, 0.0, 0.0, 0.0, 0.0, 0.0, 1.586059240077284, 69.58922939993472, 103.30343950961588, 246.75186547925344, 916.642305911581, 1096.1067141010765, 634.7029886746394, 778.8890348741642, 1956.552665833374, 2116.3659224982694, 327.75606849625103, 155.95313762963735, 94.0390723692665, 2.7526662532854753, 0.0, 0.0, 0.0, 0.0, 0.0, 0.0, 0.0, 0.0, 0.0, 0.0, 0.9871959540015822, 63.64623610436865, 104.46002881382053, 304.52289866677455, 662.8746196642799, 647.8231797274591, 697.9675566057017, 447.80469024687585, 1055.4140243527136, 816.4003766978464, 357.33768659729634, 107.79593592826113, 73.66856392773677, 1.6096667032031433, 0.0, 0.0, 0.0, 0.0, 0.0, 0.0, 0.0, 0.0, 0.0, 0.0, 1.5923300715399225, 64.70091880523206, 177.8325002775903, 623.2398612500162, 639.9642732710481, 559.6094255440688, 449.75222331539953, 397.63236721618523, 461.8577095664552, 585.6161294047124, 489.045971197427, 195.20490199078807, 60.44657262833835, 3.608599107333197, 0.0, 0.0, 0.0, 0.0, 0.0, 0.0, 0.0, 0.0, 0.0, 0.0, 2.0852836133988166, 58.32369701221069, 124.40848765378033, 608.691163750854, 518.4166489118016, 544.9407314787601, 421.4056314460113, 317.89875655305326, 522.2540839719923, 459.02442877971976, 878.3924516215974, 173.2451829666713, 56.6400415270491, 0.0, 0.0, 0.0, 0.0, 0.0, 0.0, 0.0, 0.0, 0.0, 0.0, 0.0, 0.0, 60.41987107749047, 216.8447017763401, 1975.745722611036, 430.50839941262416, 508.94828097027977, 377.2236047954765, 522.6584332461354, 356.68144923041746, 395.0789177304153, 16515.013129637573, 301.6916088105428, 20.57852667444103, 0.0, 0.0, 0.0, 0.0, 0.0, 0.0, 0.0, 0.0, 0.0, 0.0, 0.0, 0.0, 33.82787495450408, 189.6069739530521, 28143.904027942815, 201.38499678931652, 286.5656871864521, 417.5488115764378, 457.8728818154813, 491.2921500273754, 278.5926694768966, 634.6057308032971, 146.1172643435907, 22.650051789027476, 0.0, 0.0, 0.0, 0.0, 0.0, 0.0, 0.0, 0.0, 0.0, 0.0, 0.0, 0.0, 33.70060809289261, 89.78495245218248, 301.9508518882909, 223.14621110512084, 180.97402657185881, 719.3006702807605, 1674.8732762792408, 390.72845300035755, 310.3326261345537, 344.40002987915415, 752.4767517222343, 33.48981801987803, 0.0, 0.0, 0.0, 0.0, 0.0, 0.0, 0.0, 0.0, 0.0, 0.0, 0.0, 0.0, 9.559310510727737, 339.15868062453313, 110.32664236168321, 189.96141854484407, 555.7770283301494, 7756.205323850979, 2616.69978439353, 1132.3716515497308, 671.6664690301455, 315.9003670066356, 781.0255339056811, 153.84883222683158, 0.0, 0.0, 0.0, 0.0, 0.0, 0.0, 0.0, 0.0, 0.0, 0.0, 0.0, 0.0, 71.90152161109673, 449.55522798693073, 265.5532817234516, 404.72482969571047, 882.9150783877539, 1183.8409448142759, 977.2206770919472, 11496.38829318035, 1163.2096490180984, 103.8697910543676, 289.1525662331152, 1099.0445020564403, 0.0, 0.0, 0.0, 0.0, 0.0, 0.0, 0.0, 0.0, 0.0, 0.0, 0.0, 0.0, 87.56784673052024, 1072.5273264574723, 418.5458504698712, 482.22999549403545, 1631.3410372100154, 401.82034485623234, 260.5586237892321, 698.9106108719873, 8436.708847218431, 58.225649924311625, 138.5967294991212, 66.2798023065648, 0.0, 0.0, 0.0, 0.0, 0.0, 0.0, 0.0, 0.0, 0.0, 0.0, 0.0, 0.0, -0.7405726007787736, -38.12972911040036, -1.78106245511707, -3.1795354470447106, 5.434379455184115, -0.5123793231821308, -1.1063263010110296, -0.5309370937644999, -3.8368389788552864, -0.5039522508536274, -0.6110055390104494, 0.44427827945376314, 0.0, 0.0, 0.0, 0.0, 0.0, 0.0, 0.0, 0.0, 0.0, 0.0, 0.0, 0.0, -3.817211278049692, -5.383255409126038, 2.2565199354697123, 13.443988659230005, 109.0436020861159, 13.375827473561806, 20.02145186531, 17.72741002243643, 54.354971832776506, 31.502945798855134, -0.2456492991634395, 0.14723887918014164, 0.0, 0.0, 0.0, 0.0, 0.0, 0.0, 0.0, 0.0, 0.0, 0.0, 0.0, 0.0, -5.525222323052813, 0.7327616306502196, 9.112966258431872, 226.486442341134, 278.8952564966119, 78.28199419102104, 30.932338656688973, 40.410155191125234, 6.334314917547638, 24.336486584260154, 19.584935528286877, 0.09402207468423998, 0.0, 0.0, 0.0, 0.0, 0.0, 0.0, 0.0, 0.0, 0.0, 0.0, 0.0, 0.0, -23.267010684432353, 0.9071470920765721, 8.840427823906602, 373.72278182974793, 7.404263452373276, 21.414446462354398, 5.91983582000628, 52.74463585062917, 9.06951574925225, 0.6728756463290132, -0.3171466075781446, 0.2527872294403678, 0.0, 0.0, 0.0, 0.0, 0.0, 0.0, 0.0, 0.0, 0.0, 0.0, 0.0, 0.0, 126.97768103802814, 102.1899987040415, 48.2943217965249, 237.48781704845146, 134.9528009804977, 496.6369265852537, 1157.8676229867506, 269.96648942809867, 92.86720872359615, 5895.310109014298, 28.978658067305357, 1.1567528013458324, 0.0, 0.0, 0.0, 0.0, 0.0, 0.0, 0.0, 0.0, 0.0, 0.0, 0.0, 0.0, 110.32503312084118, 206.21664823839035, 276.05611071673275, 582.9099396737389, 384.3168311223926, 1480.5563566241735, 1729.315769704204, 805.2685857349753, 427.1557519378275, 763.2139398300083, 183.91933204709326, 14.502359475256007, 0.0, 0.0, 0.0, 0.0, 0.0, 0.0, 0.0, 0.0, 0.0, 0.0, 0.0, 0.0, 68.82144431062585, 161.78450901405375, 294.0288815036745, 595.6533637584961, 546.018051870572, 3324.116105845889, 933.0194343497038, 2824.424977325244, 610.6143791157175, 371.6386814208207, 389.0107697870255, 25.618292226715415, 0.0, 0.0, 0.0, 0.0, 0.0, 0.0, 0.0, 0.0, 0.0, 0.0, 0.0, 0.0, 58.60494598004076, 72.25922515411636, 109.98188867851744, 131.71267711194747, 452.14756357722393, 962.8637155310844, 532.2548274338507, 2193.060693030868, 1160.055961543378, 291.4727287679387, 9227.543554892667, 45.63124176028855, 0.0, 0.0, 0.0, 0.0, 0.0, 0.0, 0.0, 0.0, 0.0, 0.0, 0.0, 0.0, 32.50113060127494, 141.61868558935282, 401.7789266155172, 472.28823298514976, 839.8113139539767, 692.0295537727369, 532.1792864162165, 900.0526240358129, 77260.09474659494, 258.1426293152261, 410.7509680038807, 94.0876626609284, 0.0, 0.0, 0.0, 0.0, 0.0, 0.0, 0.0, 0.0, 0.0, 0.0, 0.0, 0.0, 55.77569659649122, 147.79415545530202, 542.1833860464873, 342.9270833948051, 1018.1233824533108, 347.9233009955986, 284.8598443715376, 598.4132811595362, 1230.444850704696, 238.99941064429288, 207.4234991034893, 580.9671844546092, 0.0, 0.0, 0.0, 0.0, 0.0, 0.0, 0.0, 0.0, 0.0, 0.0, 0.0, 0.0, 2.1916693712304367, 12.854408694284192, 136.65093104615073, 218.07218036197634, 6535.571825096865, 378.1240646309065, 369.00468808790083, 481.2045580732038, 617.817194014642, 237.06400293834673, 139.3239685038458, 53.15863410332188, 0.0, 0.0, 0.0, 0.0, 0.0, 0.0, 0.0, 0.0, 0.0, 0.0, 0.0, 0.0, 35.15608017956115, 134.3650399433941, 1649.5018533072364, 528.9586204715342, 1255.2487690410615, 214.61301594758967, 281.48672001611, 59.16067386430681, 21.542597362811712, 0.8032611039690428, -0.9603937442610778, -0.06006558767825197, 0.0, 0.0, 0.0, 0.0, 0.0, 0.0, 0.0, 0.0, 0.0, 0.0, 0.0, 0.0, 5.6249109512969, 67.46679298788345, -29.7038300757559, 262.42947244012635, 9.637761212588293, -0.3588900184709262, 1005.9951662315038, 395.51110361430864, 174.34341683088917, 68.82689274418142, 21.77947383297161, 2.585398153761234, 0.0, 0.0, 0.0, 0.0, 0.0, 0.0, 0.0, 0.0, 0.0, 0.0, 0.0, 0.0, 18.364012582130933, 125.4263511929059, 992.4871516853328, 805.4195408186284, 636.8918958799247, 1024.9823241443105, 641.8009328758278, 609.4645702097669, 368.8478234016068, 542.2897976285836, 96.99629393325009, 14.738158365444576, 0.0, 0.0, 0.0, 0.0, 0.0, 0.0, 0.0, 0.0, 0.0, 0.0, 0.0, 0.0, 13.910686794907443, 187.44448185077908, 541.5263463341408, 1510.2781987700605, 508.3819567525219, 516822.86494216195, 744.5133369947914, 1606.6938500153365, 383.42024645026635, 3156.232083807082, 102.91100396052245, 8.775819952768838, 0.0, 0.0, 0.0, 0.0, 0.0, 0.0, 0.0, 0.0, 0.0, 0.0, 0.0, 0.0, 0.6826309878226596, 127.44166839209285, 393.6597324764091, 15383.971497621873, 427.3508561010884, 494.52873479374983, 211.2333789570595, 1322.6412094275474, 284.49244176186676, 12.013396127628296, 0.7562114828837629, 0.32405696372023396, 0.0, 0.0, 0.0, 0.0, 0.0, 0.0, 0.0, 0.0, 0.0, 0.0, 0.0, 0.0, 11.11128637318966, 188.70046117055497, 272.75483654042927, 1055.9429197024199, 281.12192489137976, 372.9169511389663, 259.13718715796244, 669.9340331525755, 1113.0279185694073, 347.03766849017813, 312.75740180281764, 8.63572916538248, 0.0, 0.0, 0.0, 0.0, 0.0, 0.0, 0.0, 0.0, 0.0, 0.0, 0.0, 0.0, 17.582503971375708, 427.10206938142755, 147.45829195299854, 576.9468689506019, 645.0662970744146, 630.9072745001436, 593.4180648453089, 634.4409854444986, 137899.7024386759, 247.26769745739853, 1284.1372035283475, 7.768757411352114, 0.0, 0.0, 0.0, 0.0, 0.0, 0.0, 0.0, 0.0, 0.0, 0.0, 0.0, 0.0, 24.311644674314156, 1404.0523861701133, 255.08577372290154, 556.4198963804032, 742.1586354399858, 521.4950616775218, 652.3381928415472, 509.5867819302459, 1143.455656219478, 214.52368971572943, 534.0020766233117, 10.659019538174423, 0.0, 0.0, 0.0, 0.0, 0.0, 0.0, 0.0, 0.0, 0.0, 0.0, 0.0, 0.0, 43.29779966385348, 1345.3189381027425, 272.05180957512516, 542.8544317259077, 1410.6408671390259, 545.4324170469583, 1030.0220030589928, 472.03960398720994, 586.2734291862439, 177.23123010627583, 39.95571622392471, 8.494945164064811, 0.0, 0.0, 0.0, 0.0, 0.0, 0.0, 0.0, 0.0, 0.0, 0.0, 0.0, 0.0, 39.92799722524329, 417.63553312121985, 251.38688803376155, 454.42150633689073, 7582.079745169162, 608.459274904958, 3778.5460420543095, 465.9936324569145, 392.00678047205975, 194.8153690285248, 122.878587797153, 518.8457211297905, 0.0, 0.0, 0.0, 0.0, 0.0, 0.0, 0.0, 0.0, 0.0, 0.0, 0.0, 0.0, 57.72248985091167, 239.18261980552427, 252.4794096076969, 420.6031283253059, 1851.5551563660774, 951.9138085019043, 1720.8663662498736, 624.2066660847204, 343.0202496188467, 242.85505488129763, 100.97586915863582, 9.995581237344444, 0.0, 0.0, 0.0, 0.0, 0.0, 0.0, 0.0, 0.0, 0.0, 0.0, 0.0, 0.0, 113.12225858651813, 184.90940913896847, 291.8929574096607, 435.75783645568185, 822.1272623496809, 3271.043650950506, 714.8398878106728, 1082.9583657521341, 310.0193049154518, 325.8153230473209, 24.741890077174354, 1.6646671955623322, 0.0, 0.0, 0.0, 0.0, 0.0, 0.0, 0.0, 0.0, 0.0, 0.0, 0.0, 0.0, -7.0362006384919304, 0.7301617327528599, 4.957729874416254, 288.35442835858277, 296.6139289352934, 981.1075850056645, 458.2566955236604, 99166.85265590814, 327.73158658525756, 481.8575204871199, 90.99040320996545, 3.248280289267003, 0.0, 0.0, 0.0, 0.0, 0.0, 0.0, 0.0, 0.0, 0.0, 0.0, 0.0, 0.0, 158.4817118064921, 126.04350651021295, 468.2373379494668, 544.3399229914841, 181.26679799405483, 809.0780146364431, 444.70993525260576, 977.6300755023827, 413.5914941470501, 347.48783801335543, 14.14248812257987, 0.2425308730804006, 0.0, 0.0, 0.0, 0.0, 0.0, 0.0, 0.0, 0.0, 0.0, 0.0, 0.0, 0.0, 67.17436272591533, 127.81190416330283, 573.7039184888278, 638.927611182625, 243.47454455166366, 584.5932868752345, 467.6624835426923, 596.9057671059219, 900.3887060792689, 377.09692512186143, 46.1632491626445, 0.12033867077393538, 0.0, 0.0, 0.0, 0.0, 0.0, 0.0, 0.0, 0.0, 0.0, 0.0, 0.0, 0.0, 35.448732921569544, 117.08106723304068, 2172.3295451077515, 1536.7199606712802, 491.5157398960808, 493.168686721223, 529.6089266723633, 457.85908544673134, 6728.892085181543, 255.79869544963114, 129.9572919706843, 0.08549703348352206, 0.0, 0.0, 0.0, 0.0, 0.0, 0.0, 0.0, 0.0, 0.0, 0.0, 0.0, 0.0, 21.08684750944596, 91.09242473746527, 851.6014746763358, 35436.78792917712, 492.6485258338032, 400.1427542209976, 690.8348684912369, 382.5644305863369, 1023.7864122758141, 177.42757054336067, 116.87442647660536, 0.23519602430122227, 0.0, 0.0, 0.0, 0.0, 0.0, 0.0, 0.0, 0.0, 0.0, 0.0, 0.0, 0.0, 0.3170614034470291, 26.368148582669026, 459.9600476282177, 573.5131786090102, 443.6056888300212, 327.95460630741667, 983.5041686971829, 82.8173761476739, 67.93235323428512, 0.5169682169253089, 2239.527028187709, 0.5577890141290356, 0.0, 0.0, 0.0, 0.0, 0.0, 0.0, 0.0, 0.0, 0.0, 0.0, 0.0, 0.0, 26.463734385876315, 162.9591138659843, 525.39058625773, 858.939170190228, 1853.7205108568064, 826.5851134641728, 2416.4744909608344, 565.7847859114851, 472.992524570306, 192.88830137057852, 383.62522878395583, 0.682060634231624, 0.0, 0.0, 0.0, 0.0, 0.0, 0.0, 0.0, 0.0, 0.0, 0.0, 0.0, 0.0, 3.483457050455443, 103.6785199156824, 228.21811248199475, 193.60880371036896, 13713.550872109834, 1639.9351825883261, 901.8518802749076, 794.978141884762, 228.10679826396068, 22.51914092371451, 32.122824412304865, 20.937561313564295, 0.0, 0.0, 0.0, 0.0, 0.0, 0.0, 0.0, 0.0, 0.0, 0.0, 0.0, 0.0, 5.6017057822314404, 116.70043934946257, 287.095392775765, 301.9765752763393, 71.3365787507294, 1353.4260432333679, 161.2511429268489, 245.82086940128173, 147.2856785010602, 27.504886641616118, 30.22765984662043, 10.384111385879997, 0.0, 0.0, 0.0, 0.0, 0.0, 0.0, 0.0, 0.0, 0.0, 0.0, 0.0, 0.0, -0.0927365971069437, 17.40598669074327, 147.52431780000734, 3.653713600235559, 36.78531404427341, 38.43818603463194, 2.1099681007203994, 2120.9407705181156, 168.98893598466677, 1.4450683981507195, 7.5671410610879715, 4.56208739902019, 0.0, 0.0, 0.0, 0.0, 0.0, 0.0, 0.0, 0.0, 0.0, 0.0, 0.0, 0.0, 8.23983123558722, 210.84119549779135, 110.79159545043971, 52.85323932052195, 175.48837492773856, 466.5653773507164, 119.07480464092659, 42.3435924625661, 57.610046418768654, 145.9439905288629, 49.930526332543856, 3.2606280692416436, 0.0, 0.0, 0.0, 0.0, 0.0, 0.0, 0.0, 0.0, 0.0, 0.0, 0.0, 0.0, -0.19741901210149476, -3.2921116090267932, -1.3428638258700911, 21.55961108037267, 1.0313387173801958, 1.142108315189249, 2.1544441599525617, 39.492235956615424, 7.915981572405267, 24.862299066263606, 3.178963141460494, 3.0333287905516846, 0.0, 0.0, 0.0, 0.0, 0.0, 0.0, 0.0, 0.0, 0.0, 0.0, 0.0, 0.0, 0.40141545953973135, 596.8416003639436, 99.82837110976102, 282.3572818065863, 316.6694796324153, 232.23382720078052, 382.7816328278746, 373.6500596504746, 1121.978504382007, 482.411455530838, 23.347115902473785, 3.696874336624444, 0.0, 0.0, 0.0, 0.0, 0.0, 0.0, 0.0, 0.0, 0.0, 0.0, 0.0, 0.0, 2.1934584532936396, 377.7857696978144, 315.5274770984849, 653.516682251778, 552.9550554507111, 555.1361563813839, 1598.6741599913225, 456.5889894362259, 7286.99685703139, 353.0694584204513, 82.65092286963423, 0.0, 0.0, 0.0, 0.0, 0.0, 0.0, 0.0, 0.0, 0.0, 0.0, 0.0, 0.0, 0.0, 0.3426056153899611, 4.986287239708841, 40.72136723327535, 77.9066230264263, 13.578890577397244, 23.785416015128472, 74.47616966973487, 0.228623105500818, 3.7135461449213527, 1.617093561454833, 0.6887221125886615, 0.0, 0.0, 0.0, 0.0, 0.0, 0.0, 0.0, 0.0, 0.0, 0.0, 0.0, 0.0, 0.0, 1.9169773499485403, 151.95710933264291, 554.6135310316664, 3164.0163290535006, 961.3374150395184, 606.5776626019546, 1255.807024267382, 504.98376718055454, 528.8736788936703, 193.95884348894486, 27.358948593795937, 0.0, 0.0, 0.0, 0.0, 0.0, 0.0, 0.0, 0.0, 0.0, 0.0, 0.0, 0.0, 0.0, 2.2013087135082703, 82.26247650617707, 980.2629706637266, 2790.82956532725, 2363.6707647336552, 2077.9234872868988, 733.2419063304884, 761.0969808947692, 412.35046396421194, 171.48894969641597, 125.50493340328077, 0.0, 0.0, 0.0, 0.0, 0.0, 0.0, 0.0, 0.0, 0.0, 0.0, 0.0, 0.0, 0.0, 4.071943306326831, 61.72213082459918, 5293.100789597108, 398.18527085605007, 1837.7959350812312, 2289.883870459075, 204.01290867238924, 595.6444286914099, 108.76302364612863, 116.98063916435709, 4078.7452130165816, 0.0, 0.0, 0.0, 0.0, 0.0, 0.0, 0.0, 0.0, 0.0, 0.0, 0.0, 0.0, 0.0, 9.716166717706345, 70.33625286809689, 1141.65172155149, 625.0008624209921, 1145.969480542069, 1128.63476023431, 500.2913275863812, 11431.642838071044, 219.383496526137, 152.33337407032565, 55.86507599849232, 0.0, 0.0, 0.0, 0.0, 0.0, 0.0, 0.0, 0.0, 0.0, 0.0, 0.0, 0.0, 0.0, 35.67346714376203, 70.73352218458531, 447.4349258604996, 462.6779212110661, 414.74158181722447, 231.7825758695325, 128.0236843116486, 293.6594211358006, 86.12219072666257, 28.490071307645593, 1.8195023506903973, 0.0, 0.0, 0.0, 0.0, 0.0, 0.0, 0.0, 0.0, 0.0, 0.0, 0.0, 0.0, 0.0, -0.958261881731182, 0.20064685619243625, -1.4234013584065028, -1.5894910166768015, -2.128293499433087, -2.077626435370486, 1.6640265890879566, -0.9570449468146899, 0.7841931407297353, 0.5672934514062989, 0.7119563967009022, 0.0, 0.0, 0.0, 0.0, 0.0, 0.0, 0.0, 0.0, 0.0, 0.0, 0.0, 0.0, 0.0, 1.433753103294695, -0.2888888076181453, -1.2740256723623948, -0.437472131646911, 0.40400408893582773, 0.8626079094190294, 1.8234960574310195, 8.853611683103086, 1.110734936741181, 1.6158664712763156, 0.8984778708874938, 0.0, 0.0, 0.0, 0.0, 0.0, 0.0, 0.0, 0.0, 0.0, 0.0, 0.0, 0.0, 0.0, 0.860613146884396, 24.980589448207756, 236.42148435384993, 356.4497822597214, 439.30340847631777, 461.07008356813213, 1264.3860923189773, 410.7339748712243, 706.8836039982812, 729.1277777806142, 10.793624580996987, 0.0, 0.0, 0.0, 0.0, 0.0, 0.0, 0.0, 0.0, 0.0, 0.0, 0.0, 0.0, 0.0, 1.0538149284520786, 36.10182507521395, 250.5180586924853, 449.874178106981, 519.100055370544, 584.573145769298, 19229.710754549375, 439.422798472349, 1899.0137635658996, 13017.330150052878, 53.301714837042844, 0.0, 0.0, 0.0, 0.0, 0.0, 0.0, 0.0, 0.0, 0.0, 0.0, 0.0, 0.0, 0.0, 1.8686466452545745, 83.61067360940946, 235.02463833367932, 529.5165493465865, 599.7352869159474, 708.945416127075, 1558.4694070064277, 433.76415243437515, 3085.6184703703602, 637.8355199298836, 45.7201968368045, 0.0, 0.0, 0.0, 0.0, 0.0, 0.0, 0.0, 0.0, 0.0, 0.0, 0.0, 0.0, 0.0, 0.33323943140199774, 149.03516327893306, 236.10563841318057, 722.615824405987, 844.2947291137817, 1252.035393548167, 775.2732953927677, 497.7921577131425, 842.4069565993423, 330.1504234107112, 22.229661136057228, 0.0, 0.0, 0.0, 0.0, 0.0, 0.0, 0.0, 0.0, 0.0, 0.0, 0.0, 0.0, 0.0, 0.10253433852928859, 367.89190607948717, 249.64697924708943, 1316.0801891768622, 1639.8002310315703, 7306.172762088724, 409.6355681070026, 361.7160110874545, 367.6030766634501, 203.21366857972419, 10.117246616242296, 0.0, 0.0, 0.0, 0.0, 0.0, 0.0, 0.0, 0.0, 0.0, 0.0, 0.0, 0.0, 0.0, 0.7129828159176417, 0.35812661620717134, -1.3214166940468828, -2226.0806152062264, 4775.577932557944, 880.4298545848475, 10.99022108200157, 23.327793753770813, 45.080094199934926, 11.74638884392913, 0.41077708869326685, 0.0, 0.0, 0.0, 0.0, 0.0, 0.0, 0.0, 0.0, 0.0, 0.0, 0.0, 0.0, 0.0, 0.3285427489314921, 356.1213613602713, 233.06518732270487, 336.15764804442995, 793.7375103270757, 587.3431085632681, 474.6564828876724, 4822.754555293804, 343.263041799444, 180.2157059019663, 63.38238876634864, 0.0, 0.0, 0.0, 0.0, 0.0, 0.0, 0.0, 0.0, 0.0, 0.0, 0.0, 0.0, 0.0, 0.029511873143204984, 220.08825022819502, 607.399531750111, 664.7540317431291, 695.995923495939, 418.62819470099055, 107.77149206832522, 270.63204322182764, 235.19974295218594, 72.1145535713392, 47.70800023675008, 0.0, 0.0, 0.0, 0.0, 0.0, 0.0, 0.0, 0.0, 0.0, 0.0, 0.0, 0.0, 0.0, 0.7962216348029543, -0.4869696646910974, 10.339258066429958, 43.81178776107903, 46.15242058002404, 117.78348009228228, 46.996159106780794, 6.578767162203352, 1.3717538729167353, -0.8587163786874312, -0.13981670485591366, 0.0, 0.0, 0.0, 0.0, 0.0, 0.0, 0.0, 0.0, 0.0, 0.0, 0.0, 0.0, 0.0, 0.7709217267116949, 39.75625022356135, 606.395884019493, 199.2091703412142, 297.73674076501595, 215.87881136938086, 232.1874282257161, 291.58415722747577, 100.28896348885289, 120.9934709973097, 94.59071045589977, 0.0, 0.0, 0.0, 0.0, 0.0, 0.0, 0.0, 0.0, 0.0, 0.0, 0.0, 0.0, 0.0, 0.9687351242227702, 65.31354030552778, 606.0215583060416, 364.9856847998208, 433.87932800858283, 448.3877127821927, 1036.5654458634313, 447.2586436919619, 294.90247082339044, 164.9036362438263, 20.49699020710456, 0.0, 0.0, 0.0, 0.0, 0.0, 0.0, 0.0, 0.0, 0.0, 0.0, 0.0, 0.0, 0.0, 5.402102708927614, -0.7781892399999384, -0.036494642619419364, 3.78131314647115, -0.6281756915865156, 0.9893122461554178, 15.3073360080751, 0.5123146866352273, 2.0312726235762004, 0.21133467105672368, 0.37050490494434785, 0.0, 0.0, 0.0, 0.0, 0.0, 0.0, 0.0, 0.0, 0.0, 0.0, 0.0, 0.0, 0.0, 511.57172804431406, -1.0710042401362896, 3.2681821565918225, 79.93053006335857, 7.631293971877294, 2.9580170739884037, 645.5163417563635, 84.66121599619825, 20.398898979947692, 116.20021785852583, 67.49092957666457, 0.0, 0.0, 0.0, 0.0, 0.0, 0.0, 0.0, 0.0, 0.0, 0.0, 0.0, 0.0, 0.0, 10.94213392485642, -1.250034288177806, -0.7379332899009938, 4.69775521015018, 73.16735483734345, 29.2980009872917, 47.92906597726568, 26.670279614716346, 22.190030240916307, 23.360674642867945, 0.45552701216826724, 0.0, 0.0, 0.0, 0.0, 0.0, 0.0, 0.0, 0.0, 0.0, 0.0, 0.0, 0.0, 0.0, 4.350901166197227, 17.23848061748995, 179.63684080593117, 300.73916918977613, 669.6099358160747, 1854.8491054266588, 561.4967081522339, 244.85124683419164, 1252.3723112301427, 211.30628486259636, 11.287016447188094, 0.0, 0.0, 0.0, 0.0, 0.0, 0.0, 0.0, 0.0, 0.0, 0.0, 0.0, 0.0, 0.0, 1.2627848090708995, 12.239745107354945, 169.84222946546458, 522.0242132938695, 1234.5351398543728, 5925.939571927572, 126.81766850702303, 0.5024058753883166, 15.61561979795935, 1.3372276956640452, 0.582033234561474, 0.0, 0.0, 0.0, 0.0, 0.0, 0.0, 0.0, 0.0, 0.0, 0.0, 0.0, 0.0, 0.0, 2.9537786042221073, 1.1717696122441248, 7.881028120329788, 138.2006028782135, 2435.5633398913265, 310.01063060670214, 145.792239348673, 199.90716756556841, 175.99942412481764, 33.225893370041085, 0.22765180635615795, 0.0, 0.0, 0.0, 0.0, 0.0, 0.0, 0.0, 0.0, 0.0, 0.0, 0.0, 0.0, 0.0, 2.0653644182108297, -1.7709197596347215, -1.5979046488446789, 3.608770379049027, 13.033042332075135, 4.383453488368539, 2.618793031472257, 1.1095075731832647, -2.232705669024689, -9.083310008197236, 0.23149410950205088, 0.0, 0.0, 0.0, 0.0, 0.0, 0.0, 0.0, 0.0, 0.0, 0.0, 0.0, 0.0, 0.0, 0.0, -1.4585472424086197, -0.6778713557373257, -9.70042793399692, -2.976929447967094, 0.5818182678795831, 1.0323926675650743, 2.8474233241222526, 39.374190640014625, 1.4029683241729456, 0.4327293924574456, 0.0, 0.0, 0.0, 0.0, 0.0, 0.0, 0.0, 0.0, 0.0, 0.0, 0.0, 0.0, 0.0, 0.0, 5.070857629667939, 251.66223163717117, 763.5242852208894, 589.6981451127059, 483.3487008521391, 430.290879078809, 5794.624961704517, 368.025565473745, 333.4012447323039, 1.6349856737417836, 0.0, 0.0, 0.0, 0.0, 0.0, 0.0, 0.0, 0.0, 0.0, 0.0, 0.0, 0.0, 0.0, 0.0, 109.3163579599863, 331.63529738934943, 501.2230681917817, 466.91617626764435, 202.12776952629144, 304.5831074429289, 2202.5294782117785, 318.64266899928947, 281.7314467437949, 20.417566109425884, 0.0, 0.0, 0.0, 0.0, 0.0, 0.0, 0.0, 0.0, 0.0, 0.0, 0.0, 0.0, 0.0, 0.0, 14.197718487364115, 73.03209363568637, 59.51551347977634, 3.687952769495227, 102.98476088829287, 351.571858896966, 741.5150897579264, 129.10624548924528, 141.55688327934345, 16.563088198226115, 0.0, 0.0, 0.0, 0.0, 0.0, 0.0, 0.0, 0.0, 0.0, 0.0, 0.0, 0.0, 0.0, 0.0, 0.9950769803894963, 235.11777217116799, 0.28483343404461303, 3.6688902379612385, 14.26546092297525, 0.596204842222389, 3.2249758792865233, 15.047403920109208, 18.081511632054465, 0.04749311725259352, 0.0, 0.0, 0.0, 0.0, 0.0, 0.0, 0.0, 0.0, 0.0, 0.0, 0.0, 0.0, 0.0, 0.0, 6.628367601009864, 1296.559186045297, 58.6586269472322, 87.1486476590872, 114.12822077283766, 271.11790370175254, 49.52539838653297, 11.566931348837644, 10.837024409840327, 0.0002695249235733366, 0.0, 0.0, 0.0, 0.0, 0.0, 0.0, 0.0, 0.0, 0.0, 0.0, 0.0, 0.0, 0.0, 0.0, 23.380754816288373, 547.2627836391258, 285.8632511055131, 413.8050067678715, 545.120499256765, 3171.8161317158083, 447.1435100254525, 250.28065367543505, 129.7978711806401, 4.497370567301916, 0.0, 0.0, 0.0, 0.0, 0.0, 0.0, 0.0, 0.0, 0.0, 0.0, 0.0, 0.0, 0.0, 0.0, 12.488054803594244, 170.25004466544823, 88.09421163864755, 129.40042996451135, 127.9725337963679, 1575.942479719372, 119.46511957195034, 129.10804011285583, 20.116738118492677, 0.2858126465325761, 0.0, 0.0, 0.0, 0.0, 0.0, 0.0, 0.0, 0.0, 0.0, 0.0, 0.0, 0.0, 0.0, 0.0, 10.996426106889121, 110.59381044644334, 171.41419455264153, 467.7580212950493, 730.1433058236757, 1218.5108489900194, 209.3091244407475, 199.68426783976616, 59.13484376897426, 0.8849774440066344, 0.0, 0.0, 0.0, 0.0, 0.0, 0.0, 0.0, 0.0, 0.0, 0.0, 0.0, 0.0, 0.0, 0.0, -0.09799002572708922, -1.04954284796748, 29.257694700596435, 13.998366650193102, -4.576603397453515, 1.867008774769703, 1.126491686867605, -0.32561352776974073, 0.38913861349564477, -0.28067614560784815, 0.0, 0.0, 0.0, 0.0, 0.0, 0.0, 0.0, 0.0, 0.0, 0.0, 0.0, 0.0, 0.0, 0.0, 24.193364930194285, 182.5652532334188, 398.90188582975605, 1063.086024333272, 7666.027392075418, 505.60761559712984, 342.8478620265832, 212.62841171767653, 72.18088079398407, 3.6892935214488887, 0.0, 0.0, 0.0, 0.0, 0.0, 0.0, 0.0, 0.0, 0.0, 0.0, 0.0, 0.0, 0.0, 0.0, 0.25319428593372695, 1.4240906378989544, 12.240842328709842, -1.8411995238722738, -7.169194949694496, 1.256631966578409, 19.012704808526095, 2.2856522264277226, 92.24062964095492, -0.04387410074050854, 0.0, 0.0, 0.0, 0.0, 0.0, 0.0, 0.0, 0.0, 0.0, 0.0, 0.0, 0.0, 0.0, 0.0, 9.775465577506768, 140.39633787341305, 525.2966556918523, 3513.8711149325927, 243.94192567738833, 184.4652768758077, 329.9380363403297, 326.3583472313548, 139.55048631643368, 4.199711425780624, 0.0, 0.0, 0.0, 0.0, 0.0, 0.0, 0.0, 0.0, 0.0, 0.0, 0.0, 0.0, 0.0, 0.0, -0.09551131410879987, 85.47594754452196, 1435.3287199649483, 1515.3858358444124, 792.472299862675, 427.5911719479108, 355.34723621067104, 338.16593620642266, 0.16537989960751198, 1.1696404404653598, 0.0, 0.0, 0.0, 0.0, 0.0, 0.0, 0.0, 0.0, 0.0, 0.0, 0.0, 0.0, 0.0, 0.0, 0.10314169823344976, 84.77643607071126, 75736.64698098549, 842.220165055945, 597.0367405092294, 385.8157667010568, 357.93864318877314, 355.82562265944813, 0.26009527444607244, 1.1601256510741071, 0.0, 0.0, 0.0, 0.0, 0.0, 0.0, 0.0, 0.0, 0.0, 0.0, 0.0, 0.0, 0.0, 0.0, 1.0421038850406974, -0.024982356485919857, 0.14730286967240916, 13.011860710118688, 35.29637144501828, 136.93204069759153, 81.29446468107967, 76.85941147863515, -0.13355461776789088, 0.8481014030360697, 0.0, 0.0, 0.0, 0.0, 0.0, 0.0, 0.0, 0.0, 0.0, 0.0, 0.0, 0.0, 0.0, 0.0, 0.1744437756732947, 1.274300264246755, 0.9854968835913113, 15.054048913703603, 115.32254187559957, 173.54474843159528, 174.2814934576197, -0.4196849818091655, -0.906452543645103, 0.4057221697710724, 0.0, 0.0, 0.0, 0.0, 0.0, 0.0, 0.0, 0.0, 0.0, 0.0, 0.0, 0.0, 0.0, 0.0, 1.361699564878218, 5.908607333774335, 107.31400452836778, 146.4692291385597, 51.66011474711957, 24.546629930103595, 14.714008071103931, 37.9972464518416, 0.09828373667948523, 1.075721345406181, 0.0, 0.0, 0.0, 0.0, 0.0, 0.0, 0.0, 0.0, 0.0, 0.0, 0.0, 0.0, 0.0, 0.0, -0.9780902149136341, 15.788080702836888, 133.50594311922868, 82.52342337424548, 73.27557193629215, 197.76799567169164, 77.31193510732085, 20.703970621644867, -1.0917857944500338, 0.6821948308394885, 0.0, 0.0, 0.0, 0.0, 0.0, 0.0, 0.0, 0.0, 0.0, 0.0, 0.0, 0.0, 0.0, 0.0, 117.53508601047353, 354.72512536219057, 317.1963042497307, 285.65715394906573, 213.45355967985557, 344.4543821838847, 454.8137127813857, 567.8238352608313, 122.85722927254668, 8.705940277157666, 0.0, 0.0, 0.0, 0.0, 0.0, 0.0, 0.0, 0.0, 0.0, 0.0, 0.0, 0.0, 0.0, 0.0, 20.050474069375188, 315.24720376919043, 264.93644794703204, 49.12935686183661, 7.326721339182996, 207.79265828057103, 296.66409842795366, 2.939973185651347, 1.287831998257361, 1.2669160603902274, 0.0, 0.0, 0.0, 0.0, 0.0, 0.0, 0.0, 0.0, 0.0, 0.0, 0.0, 0.0, 0.0, 0.0, 170.11279929872725, 727.1910194826853, 264.5129700938663, 290.3069129035183, 354.26776945308984, 405.19721772645573, 692.7275491101506, 1057.8731273379829, 65.76042377151035, 5.766746125171841, 0.0, 0.0, 0.0, 0.0, 0.0, 0.0, 0.0, 0.0, 0.0, 0.0, 0.0, 0.0, 0.0, 0.0, 22.69272954861569, 6012.404855382324, 137.1635745187629, 184.49021030503937, 189.5485457287104, 197.5146654064433, 417.28397538565923, 715.2997498232628, 44.0995517620251, 2.2061695216411077, 0.0, 0.0, 0.0, 0.0, 0.0, 0.0, 0.0, 0.0, 0.0, 0.0, 0.0, 0.0, 0.0, 0.0, 0.27939642928104824, 9.431993376889045, 46.6912468057299, 148.12318042757292, 94.5630088167569, 73.80735850068147, 16.760482418760237, 18.227363159557033, -0.14223787147943626, 0.002888740766710932, 0.0, 0.0, 0.0, 0.0, 0.0, 0.0, 0.0, 0.0, 0.0, 0.0, 0.0, 0.0, 0.0, 0.0, -0.3577654976011196, -2.949704054007423, -1.1342051095735337, -1.0376047297375848, -2.0118204746252326, -1.0826025074335808, -4.5754545785416525, -9.332253516725432, -0.9139845959401938, 0.2912150463584664, 0.0, 0.0, 0.0, 0.0, 0.0, 0.0, 0.0, 0.0, 0.0, 0.0, 0.0, 0.0, 0.0, 0.0, 0.018518253412006185, -2.125615484982005, -0.9546988091803614, 1.3435866034814856, -1.184508500975551, -1.1480303179638582, 36.665600776611114, 586.7310177472921, 0.8107086355728685, 0.7738893459300188, 0.0, 0.0, 0.0, 0.0, 0.0, 0.0, 0.0, 0.0, 0.0, 0.0, 0.0, 0.0, 0.0, 0.0, 0.3164004071795305, -1.1570278448148372, 25.78506069443973, 63.2083725661087, 32.418671901705395, 48.39487970416156, 334.51976710262414, 732.3073593496903, 2.5407588732209474, 1.2514445837715535, 0.0, 0.0, 0.0, 0.0, 0.0, 0.0, 0.0, 0.0, 0.0, 0.0, 0.0, 0.0, 0.0, 0.0, 4.814776134762826, 116.19040792885775, 196.32573676868796, 362.3760213195639, 359.1195610577389, 541.1138418611682, 1971.560865640219, 1182.814737416942, 48.20468245607154, 1.3356155247014239, 0.0, 0.0, 0.0, 0.0, 0.0, 0.0, 0.0, 0.0, 0.0, 0.0, 0.0, 0.0, 0.0, 0.0, 3.0589257001885524, 86.55914109746476, 230.76629354271407, 347.8358823214717, 202.48351850536963, 595.3900206296718, 2145.8233525945534, 1947.879670333255, 4.32004133582213, 0.1047463192165894, 0.0, 0.0, 0.0, 0.0, 0.0, 0.0, 0.0, 0.0, 0.0, 0.0, 0.0, 0.0, 0.0, 0.0, 1.7384777279974948, 22.736356809266116, 58.0357357404067, 147.54039385950648, 7.991361637929281, 1.587499108259953, 22.87893663559612, -8.027312400048515, 0.6750731435770437, 0.25938936967826803, 0.0, 0.0, 0.0, 0.0, 0.0, 0.0, 0.0, 0.0, 0.0, 0.0, 0.0, 0.0, 0.0, 0.0, 0.44999836897414885, -0.7598108340923696, 0.39056600884263876, 1.0818002928116501, 1.7797375364689731, 2.473672496515544, -1.6818429308345844, -9.319419486056354, 0.384620154888773, -0.2590293317697151, 0.0, 0.0, 0.0, 0.0, 0.0, 0.0, 0.0, 0.0, 0.0, 0.0, 0.0, 0.0, 0.0, 0.0, 8.618408365442802, 116.02528333566471, 396.8419758854814, 736.514330400811, 772.3191975194223, 1021.4384602982109, 6100.142566682163, 1429.412006230237, 130.57529171932066, 9.219468519408162, 0.0, 0.0, 0.0, 0.0, 0.0, 0.0, 0.0, 0.0, 0.0, 0.0, 0.0, 0.0, 0.0, 0.0, 18.061773823447794, 145.42026671302767, 444.9243918658299, 842.4158693571296, 864.992720888893, 1157.8278159844651, 5303.809270013471, 1821.3183342601142, 151.2065021978631, 15.338727213314344, 0.0, 0.0, 0.0, 0.0, 0.0, 0.0, 0.0, 0.0, 0.0, 0.0, 0.0, 0.0, 0.0, 0.0, 17.37372813014295, 139.67339538504564, 472.67256520571067, 1069.0935448020236, 950.2699770940147, 1103.7813330284341, 4178.671457894248, 1436.4550093667178, 123.77131415307018, 1.093302512298721, 0.0, 0.0, 0.0, 0.0, 0.0, 0.0, 0.0, 0.0, 0.0, 0.0, 0.0, 0.0, 0.0, 0.0, 3.4194653708290583, 40.71138312562076, 289.53980450925, 698.8123868677516, 650.686438858038, 538.762675425296, 2679.803621423707, 606.4195235292196, 13.94955168357677, 0.5493145451227395, 0.0, 0.0, 0.0, 0.0, 0.0, 0.0, 0.0, 0.0, 0.0, 0.0, 0.0, 0.0, 0.0, 0.0, 0.40807779639916064, -0.14624092442349002, -2.2287846075398194, 2.7017035548146353, 28.39393847888215, 47.89074358878778, 232.36372787905935, 6.547100154646233, -0.2353648931853128, 0.41738372835749027, 0.0, 0.0, 0.0, 0.0, 0.0, 0.0, 0.0, 0.0, 0.0, 0.0, 0.0, 0.0, 0.0, 0.0, 0.42056971105648305, -0.25632634692244494, 16.76845082332681, 36.822912288657044, -0.19504029780129659, 272.5012099896277, 8.115485489873617, 25.272349614056793, -0.46557942431858557, 1.4000061347632768, 0.0, 0.0, 0.0, 0.0, 0.0, 0.0, 0.0, 0.0, 0.0, 0.0, 0.0, 0.0, 0.0, 0.0, 11.472581502056528, 134.0912433239008, 935.5772167812802, 2637.0592873377946, 1169.3068155580747, 1063.7836345775472, 1671.8409875278699, 673.9422945688706, 141.99385711868456, 18.177298252075076, 0.0, 0.0, 0.0, 0.0, 0.0, 0.0, 0.0, 0.0, 0.0, 0.0, 0.0, 0.0, 0.0, 0.0, 6.924746397313086, 115.66690724489892, 1150.7319228815359, 3771.095574610082, 1218.3565336006945, 1032.9831240672045, 1320.7560368375528, 610.2272688492643, 152.47678761339148, 20.462824881537646, 0.0, 0.0, 0.0, 0.0, 0.0, 0.0, 0.0, 0.0, 0.0, 0.0, 0.0, 0.0, 0.0, 0.0, 5.347820247987741, 95.22784653207898, 1303.5919239181385, 4184.923009459827, 1169.8759589444392, 906.6955380136203, 1193.7092539424075, 499.5282659455483, 96.30080310183074, 7.293210952983731, 0.0, 0.0, 0.0, 0.0, 0.0, 0.0, 0.0, 0.0, 0.0, 0.0, 0.0, 0.0, 0.0, 0.0, 2.0607868070792206, 69.5135147653624, 1042.5606184897927, 6129.265806657379, 1128.1739242469444, 718.6966555881326, 539.3467212572403, 97.60414811528854, 17.491091733415722, 2.419659233000195, 0.0, 0.0, 0.0, 0.0, 0.0, 0.0, 0.0, 0.0, 0.0, 0.0, 0.0, 0.0, 0.0, 0.0, 0.5931422826061549, 50.725740999864385, 2004.4209629623588, 7177.726270423689, 1079.807652068479, 775.5952620025122, 708.0972516415306, 344.04702082884694, 30.982979977097006, 3.3411625084824363, 0.0, 0.0, 0.0, 0.0, 0.0, 0.0, 0.0, 0.0, 0.0, 0.0, 0.0, 0.0, 0.0, 0.0, 0.7309321000436081, 33.040252387893176, 196.77147546271124, 2194.545073247866, 146.50379788126102, 398.3710778240086, 236.40279062499783, 204.9851462548653, 21.477811754470608, 3.8823016713265286, 0.0, 0.0, 0.0, 0.0, 0.0, 0.0, 0.0, 0.0, 0.0, 0.0, 0.0, 0.0, 0.0, 0.0, -0.12136335704820449, -0.3931695162337846, 5.201690082783757, 16.862185920304114, 1.8767388174064188, 0.4682480896714887, 2.276511619272415, 4.25636059648207, 0.36634085260902693, 0.19362603541362028, 0.0, 0.0, 0.0, 0.0, 0.0, 0.0, 0.0, 0.0, 0.0, 0.0, 0.0, 0.0, 0.0, 0.0, 0.5284434665142923, 14.14020603267129, 4817.588010195674, 4918.884361502986, 880.2706461042436, 293.51039882779133, 267.85777672776885, 169.18679588104104, 89.35001751989343, 22.817497369034918, 0.0, 0.0, 0.0, 0.0, 0.0, 0.0, 0.0, 0.0, 0.0, 0.0, 0.0, 0.0, 0.0, 0.0, 0.1356493059720286, -0.016296283264450442, -28.72499582198157, 2.9148980995173375, 0.4048609449862193, 26.628643267384593, 113.34811279852536, 169.9874535969499, 8.852486455602783, 1.6241543595080379, 0.0, 0.0, 0.0, 0.0, 0.0, 0.0, 0.0, 0.0, 0.0, 0.0, 0.0, 0.0, 0.0, 0.0, -0.3960302410972542, 0.15280659948487912, 28.534866465433204, -4.7312919023275555, -1.998356798321924, -0.7809299522117342, 6.025466481296035, 0.06505945709543437, -1.6911461631259226, 0.26434824484656966, 0.0, 0.0]\n",
      "8760\n"
     ]
    }
   ],
   "source": [
    "solar_zenith =(validation_df['Solar Zenith Angle'])\n",
    "dni_vector = predict_dni(val_input_arry[:,0], preds, solar_zenith)\n",
    "print(dni_vector)\n",
    "print(len(dni_vector))"
   ]
  },
  {
   "cell_type": "code",
   "execution_count": 111,
   "metadata": {},
   "outputs": [],
   "source": [
    "from sklearn.metrics import mean_absolute_error, mean_squared_error"
   ]
  },
  {
   "cell_type": "code",
   "execution_count": 112,
   "metadata": {},
   "outputs": [
    {
     "name": "stdout",
     "output_type": "stream",
     "text": [
      "424.1438270914033\n",
      "6694.271971700816\n"
     ]
    }
   ],
   "source": [
    "mae = mean_absolute_error(val_dni_arr, dni_vector)\n",
    "rmse = sqrt(mean_squared_error(val_dni_arr, dni_vector))\n",
    "print(mae)\n",
    "print(rmse)"
   ]
  },
  {
   "cell_type": "code",
   "execution_count": 113,
   "metadata": {},
   "outputs": [],
   "source": [
    "# Mathematical method of DNI deriviation is way off"
   ]
  },
  {
   "cell_type": "code",
   "execution_count": 75,
   "metadata": {},
   "outputs": [
    {
     "name": "stdout",
     "output_type": "stream",
     "text": [
      "INFO:tensorflow:Assets written to: Neural_Net_National/assets\n"
     ]
    }
   ],
   "source": [
    "# model.save('Neural_Net_National')"
   ]
  },
  {
   "cell_type": "markdown",
   "metadata": {},
   "source": [
    "## V. Model Testing - Other Locations"
   ]
  },
  {
   "cell_type": "markdown",
   "metadata": {},
   "source": [
    "Lets take the global model and test in new locations. Lets test on the following locations for the year 2018.\n"
   ]
  },
  {
   "cell_type": "markdown",
   "metadata": {},
   "source": [
    "1. Outer Banks (35.5585, -75.4665)\n",
    "2. Miami Florida (25.7617, -80.1918)\n",
    "3. Boulder CO (40.035,-105.54)\n",
    "4. San Diego CA (32.7157, -117.1611)\n",
    "5. Lincoln Nebraska (40.848,-96.56)\n",
    "6. Quinault Washington (47.513,-123.81)\n",
    "7. Old Town Maine (44.928,-68.70)\n",
    "8. Murphey Idaho (43.204,-116.75)\n"
   ]
  },
  {
   "cell_type": "code",
   "execution_count": 76,
   "metadata": {},
   "outputs": [],
   "source": [
    "#Test General model"
   ]
  },
  {
   "cell_type": "code",
   "execution_count": 77,
   "metadata": {},
   "outputs": [],
   "source": [
    "National_model = keras.models.load_model('Neural_Nets/Neural_Net_National')"
   ]
  },
  {
   "cell_type": "code",
   "execution_count": 78,
   "metadata": {},
   "outputs": [
    {
     "name": "stdout",
     "output_type": "stream",
     "text": [
      "Model: \"sequential\"\n",
      "_________________________________________________________________\n",
      "Layer (type)                 Output Shape              Param #   \n",
      "=================================================================\n",
      "dense (Dense)                multiple                  2100      \n",
      "_________________________________________________________________\n",
      "dense_1 (Dense)              multiple                  60200     \n",
      "_________________________________________________________________\n",
      "dense_2 (Dense)              multiple                  20100     \n",
      "_________________________________________________________________\n",
      "dense_3 (Dense)              multiple                  5050      \n",
      "_________________________________________________________________\n",
      "dense_4 (Dense)              multiple                  1275      \n",
      "_________________________________________________________________\n",
      "dense_5 (Dense)              multiple                  26        \n",
      "=================================================================\n",
      "Total params: 88,751\n",
      "Trainable params: 88,751\n",
      "Non-trainable params: 0\n",
      "_________________________________________________________________\n"
     ]
    }
   ],
   "source": [
    "National_model.summary()"
   ]
  },
  {
   "cell_type": "code",
   "execution_count": 94,
   "metadata": {},
   "outputs": [
    {
     "name": "stdout",
     "output_type": "stream",
     "text": [
      "/Users/tuomastalvitie/Documents/GRIP/Diffuse:Direct/solarIrradiencePredictor/Testing_Data/Murphey_ID/psm_ID_Murphey2018.csv\n",
      "274/274 [==============================] - 0s 984us/step - loss: 256.5927 - mean_absolute_error: 6.7838 - root_mean_squared_error: 16.0185\n",
      "/Users/tuomastalvitie/Documents/GRIP/Diffuse:Direct/solarIrradiencePredictor/Testing_Data/OldTown_ME/psm_ME_OldTown2018.csv\n",
      "274/274 [==============================] - 0s 932us/step - loss: 229.4214 - mean_absolute_error: 6.8104 - root_mean_squared_error: 15.1467\n",
      "/Users/tuomastalvitie/Documents/GRIP/Diffuse:Direct/solarIrradiencePredictor/Testing_Data/Quinault_WA/psm_WA_Quinault2018.csv\n",
      "274/274 [==============================] - 0s 1ms/step - loss: 104.5538 - mean_absolute_error: 4.2643 - root_mean_squared_error: 10.2252\n",
      "/Users/tuomastalvitie/Documents/GRIP/Diffuse:Direct/solarIrradiencePredictor/Testing_Data/Lincoln_NE/psm_NE_Lincoln2018.csv\n",
      "274/274 [==============================] - 0s 1ms/step - loss: 161.9369 - mean_absolute_error: 5.2631 - root_mean_squared_error: 12.7254\n",
      "/Users/tuomastalvitie/Documents/GRIP/Diffuse:Direct/solarIrradiencePredictor/Testing_Data/SanDiego_CA/psm_CA_SanDiego2018.csv\n",
      "274/274 [==============================] - 0s 1ms/step - loss: 289.1909 - mean_absolute_error: 7.7851 - root_mean_squared_error: 17.0056\n",
      "/Users/tuomastalvitie/Documents/GRIP/Diffuse:Direct/solarIrradiencePredictor/Testing_Data/Boulder_CO/psm_CO_Boulder2018.csv\n",
      "274/274 [==============================] - 0s 998us/step - loss: 1862.3188 - mean_absolute_error: 16.5438 - root_mean_squared_error: 43.1546\n",
      "/Users/tuomastalvitie/Documents/GRIP/Diffuse:Direct/solarIrradiencePredictor/Testing_Data/Miami_FL/psm_FL_Miami2018.csv\n",
      "274/274 [==============================] - 0s 947us/step - loss: 675.2378 - mean_absolute_error: 10.5119 - root_mean_squared_error: 25.9853\n"
     ]
    }
   ],
   "source": [
    "test_files = ['Murphey_ID', 'OldTown_ME', 'Quinault_WA', 'Lincoln_NE', 'SanDiego_CA', 'Boulder_CO', 'Miami_FL', 'outer_banks']\n",
    "scores = {}\n",
    "for directory in test_files:\n",
    "    for file in glob(_Testing_Data_Dir+'/'+directory+'/psm_*2018.csv'):\n",
    "        test_df = pd.read_csv(str(file))\n",
    "        input_size = 6\n",
    "        test_input_arry = np.array([], dtype=np.float64).reshape(0,input_size)\n",
    "        test_output_arry = np.array([], dtype=np.float64)\n",
    "        test_input_arry, test_output_arry = combine_training_arrays(test_df, test_input_arry, test_output_arry)\n",
    "        print(file)\n",
    "        score = National_model.evaluate(test_input_arry, test_output_arry, verbose=1)\n",
    "        scores[directory] = score\n"
   ]
  },
  {
   "cell_type": "code",
   "execution_count": 95,
   "metadata": {},
   "outputs": [
    {
     "data": {
      "text/plain": [
       "dict_items([('Murphey_ID', [256.5926818847656, 6.783843994140625, 16.018510818481445]), ('OldTown_ME', [229.42138671875, 6.810364246368408, 15.146662712097168]), ('Quinault_WA', [104.5538101196289, 4.2642903327941895, 10.2251558303833]), ('Lincoln_NE', [161.93692016601562, 5.263095855712891, 12.725443840026855]), ('SanDiego_CA', [289.1909484863281, 7.785069942474365, 17.005615234375]), ('Boulder_CO', [1862.31884765625, 16.543825149536133, 43.15459060668945]), ('Miami_FL', [675.23779296875, 10.51191234588623, 25.98533821105957])])"
      ]
     },
     "execution_count": 95,
     "metadata": {},
     "output_type": "execute_result"
    }
   ],
   "source": [
    "scores.items()"
   ]
  },
  {
   "cell_type": "code",
   "execution_count": 96,
   "metadata": {},
   "outputs": [],
   "source": [
    "#Only Miami and Boulder_CO seem to be outliers"
   ]
  },
  {
   "cell_type": "markdown",
   "metadata": {},
   "source": [
    "## V.I Model Testing, Boulder Specific"
   ]
  },
  {
   "cell_type": "markdown",
   "metadata": {},
   "source": [
    "Lets see if we can train a model specific for Boulder, CO and see if we can get the mae down.\n",
    "Let's fetch more data from NRSDB and combine it with our readings from Darksky. Lets get data from 2008-2018."
   ]
  },
  {
   "cell_type": "code",
   "execution_count": 103,
   "metadata": {},
   "outputs": [
    {
     "name": "stdout",
     "output_type": "stream",
     "text": [
      "[]\n",
      "[]\n",
      "/Users/tuomastalvitie/Documents/GRIP/Diffuse:Direct/solarIrradiencePredictor/Testing_Data/Boulder_CO/psm_CO_Boulder2018.csv\n",
      "/Users/tuomastalvitie/Documents/GRIP/Diffuse:Direct/solarIrradiencePredictor/Testing_Data/Boulder_CO/psm_CO_Boulder2008.csv\n",
      "/Users/tuomastalvitie/Documents/GRIP/Diffuse:Direct/solarIrradiencePredictor/Testing_Data/Boulder_CO/psm_CO_Boulder2009.csv\n",
      "/Users/tuomastalvitie/Documents/GRIP/Diffuse:Direct/solarIrradiencePredictor/Testing_Data/Boulder_CO/psm_CO_Boulder2010.csv\n",
      "/Users/tuomastalvitie/Documents/GRIP/Diffuse:Direct/solarIrradiencePredictor/Testing_Data/Boulder_CO/psm_CO_Boulder2011.csv\n",
      "/Users/tuomastalvitie/Documents/GRIP/Diffuse:Direct/solarIrradiencePredictor/Testing_Data/Boulder_CO/psm_CO_Boulder2013.csv\n",
      "/Users/tuomastalvitie/Documents/GRIP/Diffuse:Direct/solarIrradiencePredictor/Testing_Data/Boulder_CO/psm_CO_Boulder2012.csv\n",
      "/Users/tuomastalvitie/Documents/GRIP/Diffuse:Direct/solarIrradiencePredictor/Testing_Data/Boulder_CO/psm_CO_Boulder2016.csv\n",
      "/Users/tuomastalvitie/Documents/GRIP/Diffuse:Direct/solarIrradiencePredictor/Testing_Data/Boulder_CO/psm_CO_Boulder2017.csv\n",
      "/Users/tuomastalvitie/Documents/GRIP/Diffuse:Direct/solarIrradiencePredictor/Testing_Data/Boulder_CO/psm_CO_Boulder2015.csv\n",
      "/Users/tuomastalvitie/Documents/GRIP/Diffuse:Direct/solarIrradiencePredictor/Testing_Data/Boulder_CO/psm_CO_Boulder2014.csv\n"
     ]
    }
   ],
   "source": [
    "input_size = 6\n",
    "input_arry = np.array([], dtype=np.float64).reshape(0,input_size)\n",
    "output_arry = np.array([], dtype=np.float64)\n",
    "print(input_arry)\n",
    "print(output_arry)\n",
    "from glob import glob\n",
    "for path in glob(_Testing_Data_Dir+'/Boulder_CO'):\n",
    "    for file in glob(path+'/psm_'+'*'):\n",
    "        print(file)\n",
    "        df = pd.read_csv(file)\n",
    "        input_arry, output_arry = combine_training_arrays(df, input_arry, output_arry)"
   ]
  },
  {
   "cell_type": "code",
   "execution_count": 104,
   "metadata": {},
   "outputs": [],
   "source": [
    "keras.backend.clear_session()\n",
    "tf.keras.backend.clear_session()"
   ]
  },
  {
   "cell_type": "code",
   "execution_count": 105,
   "metadata": {},
   "outputs": [
    {
     "data": {
      "text/plain": [
       "<function tensorflow.python.framework.ops.reset_default_graph()>"
      ]
     },
     "execution_count": 105,
     "metadata": {},
     "output_type": "execute_result"
    }
   ],
   "source": [
    "keras.backend.clear_session()\n",
    "tf.keras.backend.clear_session()\n",
    "tf.compat.v1.reset_default_graph"
   ]
  },
  {
   "cell_type": "code",
   "execution_count": 106,
   "metadata": {},
   "outputs": [],
   "source": [
    "model_Boulder = keras.Sequential()\n",
    "model_Boulder.add(keras.layers.Dense(300, activation=\"relu\"))\n",
    "model_Boulder.add(layers.Dense(200, activation=\"relu\"))\n",
    "model_Boulder.add(layers.Dense(100, activation=\"relu\"))\n",
    "model_Boulder.add(layers.Dense(50, activation=\"relu\"))\n",
    "model_Boulder.add(layers.Dense(25, activation=\"relu\"))\n",
    "model_Boulder.add(layers.Dense(1, activation='relu'))"
   ]
  },
  {
   "cell_type": "code",
   "execution_count": 107,
   "metadata": {},
   "outputs": [
    {
     "name": "stdout",
     "output_type": "stream",
     "text": [
      "Epoch 1/100\n",
      "3012/3012 [==============================] - 5s 1ms/step - loss: 3136.6509 - mae: 27.1907 - root_mean_squared_error: 56.0058\n",
      "Epoch 2/100\n",
      "3012/3012 [==============================] - 5s 2ms/step - loss: 669.0169 - mae: 10.9336 - root_mean_squared_error: 25.8654\n",
      "Epoch 3/100\n",
      "3012/3012 [==============================] - 5s 2ms/step - loss: 583.5402 - mae: 9.9415 - root_mean_squared_error: 24.1566\n",
      "Epoch 4/100\n",
      "3012/3012 [==============================] - 6s 2ms/step - loss: 572.9196 - mae: 9.7745 - root_mean_squared_error: 23.9357\n",
      "Epoch 5/100\n",
      "3012/3012 [==============================] - 6s 2ms/step - loss: 565.0255 - mae: 9.5376 - root_mean_squared_error: 23.7703\n",
      "Epoch 6/100\n",
      "3012/3012 [==============================] - 5s 2ms/step - loss: 545.2877 - mae: 9.3087 - root_mean_squared_error: 23.3514: 2s - loss: 516.5451 - mae: 9.0326 - root_mean_sq\n",
      "Epoch 7/100\n",
      "3012/3012 [==============================] - 6s 2ms/step - loss: 524.0295 - mae: 9.0873 - root_mean_squared_error: 22.8917\n",
      "Epoch 8/100\n",
      "3012/3012 [==============================] - 6s 2ms/step - loss: 516.6038 - mae: 9.0893 - root_mean_squared_error: 22.7289\n",
      "Epoch 9/100\n",
      "3012/3012 [==============================] - 7s 2ms/step - loss: 524.2489 - mae: 9.0986 - root_mean_squared_error: 22.8965\n",
      "Epoch 10/100\n",
      "3012/3012 [==============================] - 6s 2ms/step - loss: 512.5381 - mae: 8.9168 - root_mean_squared_error: 22.6393: 0s - loss: 506.6469 - mae: 8.8751 - \n",
      "Epoch 11/100\n",
      "3012/3012 [==============================] - 7s 2ms/step - loss: 492.6263 - mae: 8.7507 - root_mean_squared_error: 22.1952\n",
      "Epoch 12/100\n",
      "3012/3012 [==============================] - 6s 2ms/step - loss: 494.3108 - mae: 8.7720 - root_mean_squared_error: 22.2331: 1s - loss: 492.8882 - mae: 8.7324 - root_mean_squared_error: 22.20 - ETA: 1s - los\n",
      "Epoch 13/100\n",
      "3012/3012 [==============================] - 5s 2ms/step - loss: 512.3876 - mae: 8.9023 - root_mean_squared_error: 22.6360: 1s - loss:\n",
      "Epoch 14/100\n",
      "3012/3012 [==============================] - 5s 2ms/step - loss: 496.9038 - mae: 8.7705 - root_mean_squared_error: 22.2913\n",
      "Epoch 15/100\n",
      "3012/3012 [==============================] - 5s 2ms/step - loss: 494.8581 - mae: 8.7226 - root_mean_squared_error: 22.2454\n",
      "Epoch 16/100\n",
      "3012/3012 [==============================] - 5s 2ms/step - loss: 487.8583 - mae: 8.6009 - root_mean_squared_error: 22.0875: \n",
      "Epoch 17/100\n",
      "3012/3012 [==============================] - 7s 2ms/step - loss: 485.5327 - mae: 8.5918 - root_mean_squared_error: 22.0348\n",
      "Epoch 18/100\n",
      "3012/3012 [==============================] - 5s 2ms/step - loss: 474.7318 - mae: 8.5533 - root_mean_squared_error: 21.7883\n",
      "Epoch 19/100\n",
      "3012/3012 [==============================] - 7s 2ms/step - loss: 493.0307 - mae: 8.6855 - root_mean_squared_error: 22.2043\n",
      "Epoch 20/100\n",
      "3012/3012 [==============================] - 8s 3ms/step - loss: 476.4244 - mae: 8.4376 - root_mean_squared_error: 21.8271\n",
      "Epoch 21/100\n",
      "3012/3012 [==============================] - 5s 2ms/step - loss: 478.3757 - mae: 8.4598 - root_mean_squared_error: 21.8718\n",
      "Epoch 22/100\n",
      "3012/3012 [==============================] - 5s 2ms/step - loss: 476.8438 - mae: 8.4770 - root_mean_squared_error: 21.8368\n",
      "Epoch 23/100\n",
      "3012/3012 [==============================] - 5s 2ms/step - loss: 473.7332 - mae: 8.4708 - root_mean_squared_error: 21.7654: 4s - loss: 468 - ETA: 2s - loss: 489.8315 - mae:\n",
      "Epoch 24/100\n",
      "3012/3012 [==============================] - 5s 2ms/step - loss: 474.6563 - mae: 8.4040 - root_mean_squared_error: 21.7866\n",
      "Epoch 25/100\n",
      "3012/3012 [==============================] - 5s 2ms/step - loss: 469.4034 - mae: 8.4124 - root_mean_squared_error: 21.6657\n",
      "Epoch 26/100\n",
      "3012/3012 [==============================] - 5s 2ms/step - loss: 464.3542 - mae: 8.2993 - root_mean_squared_error: 21.5489: 0s - loss: 468.0563 - mae: 8.3313 - root_mea\n",
      "Epoch 27/100\n",
      "3012/3012 [==============================] - 5s 2ms/step - loss: 462.8958 - mae: 8.2942 - root_mean_squared_error: 21.5150\n",
      "Epoch 28/100\n",
      "3012/3012 [==============================] - 7s 2ms/step - loss: 458.3492 - mae: 8.2575 - root_mean_squared_error: 21.4091\n",
      "Epoch 29/100\n",
      "3012/3012 [==============================] - 6s 2ms/step - loss: 459.2443 - mae: 8.2614 - root_mean_squared_error: 21.4300\n",
      "Epoch 30/100\n",
      "3012/3012 [==============================] - 7s 2ms/step - loss: 456.1564 - mae: 8.1957 - root_mean_squared_error: 21.3578\n",
      "Epoch 31/100\n",
      "3012/3012 [==============================] - 7s 2ms/step - loss: 457.0403 - mae: 8.2456 - root_mean_squared_error: 21.3785\n",
      "Epoch 32/100\n",
      "3012/3012 [==============================] - 6s 2ms/step - loss: 452.7580 - mae: 8.1291 - root_mean_squared_error: 21.2781\n",
      "Epoch 33/100\n",
      "3012/3012 [==============================] - 6s 2ms/step - loss: 455.0916 - mae: 8.1407 - root_mean_squared_error: 21.3329\n",
      "Epoch 34/100\n",
      "3012/3012 [==============================] - 6s 2ms/step - loss: 449.8091 - mae: 8.1115 - root_mean_squared_error: 21.2087\n",
      "Epoch 35/100\n",
      "3012/3012 [==============================] - 5s 2ms/step - loss: 448.6960 - mae: 8.1020 - root_mean_squared_error: 21.1824\n",
      "Epoch 36/100\n",
      "3012/3012 [==============================] - 6s 2ms/step - loss: 448.0442 - mae: 8.1478 - root_mean_squared_error: 21.1671\n",
      "Epoch 37/100\n",
      "3012/3012 [==============================] - 6s 2ms/step - loss: 455.3228 - mae: 8.1246 - root_mean_squared_error: 21.3383\n",
      "Epoch 38/100\n",
      "3012/3012 [==============================] - 5s 2ms/step - loss: 451.6123 - mae: 8.1153 - root_mean_squared_error: 21.2512: 0s - loss: 457.7770 - mae: 8\n",
      "Epoch 39/100\n",
      "3012/3012 [==============================] - 5s 2ms/step - loss: 444.6736 - mae: 7.9765 - root_mean_squared_error: 21.0873\n",
      "Epoch 40/100\n",
      "3012/3012 [==============================] - 8s 3ms/step - loss: 444.1586 - mae: 7.9963 - root_mean_squared_error: 21.0751\n",
      "Epoch 41/100\n",
      "3012/3012 [==============================] - 8s 3ms/step - loss: 443.6709 - mae: 8.0063 - root_mean_squared_error: 21.0635\n",
      "Epoch 42/100\n",
      "3012/3012 [==============================] - 5s 2ms/step - loss: 439.5462 - mae: 7.9723 - root_mean_squared_error: 20.9654\n",
      "Epoch 43/100\n",
      "3012/3012 [==============================] - 5s 2ms/step - loss: 443.2075 - mae: 8.0053 - root_mean_squared_error: 21.0525\n",
      "Epoch 44/100\n",
      "3012/3012 [==============================] - 4s 1ms/step - loss: 438.3240 - mae: 7.9389 - root_mean_squared_error: 20.9362\n",
      "Epoch 45/100\n",
      "3012/3012 [==============================] - 6s 2ms/step - loss: 439.9401 - mae: 7.9866 - root_mean_squared_error: 20.9747\n",
      "Epoch 46/100\n",
      "3012/3012 [==============================] - 10s 3ms/step - loss: 444.4282 - mae: 7.9454 - root_mean_squared_error: 21.0815 1s - loss:\n",
      "Epoch 47/100\n",
      "3012/3012 [==============================] - 7s 2ms/step - loss: 436.3835 - mae: 7.9112 - root_mean_squared_error: 20.8898\n",
      "Epoch 48/100\n",
      "3012/3012 [==============================] - 7s 2ms/step - loss: 442.0975 - mae: 7.9539 - root_mean_squared_error: 21.0261: 0s - loss: 440.5885 - mae: 7.9620 - root_mean_squared_erro\n",
      "Epoch 49/100\n",
      "3012/3012 [==============================] - 7s 2ms/step - loss: 435.4044 - mae: 7.8778 - root_mean_squared_error: 20.8663: 1s\n",
      "Epoch 50/100\n",
      "3012/3012 [==============================] - 7s 2ms/step - loss: 431.5168 - mae: 7.8407 - root_mean_squared_error: 20.7730\n",
      "Epoch 51/100\n",
      "3012/3012 [==============================] - 7s 2ms/step - loss: 433.3185 - mae: 7.8882 - root_mean_squared_error: 20.8163\n",
      "Epoch 52/100\n",
      "3012/3012 [==============================] - 5s 2ms/step - loss: 432.6559 - mae: 7.8289 - root_mean_squared_error: 20.8004\n",
      "Epoch 53/100\n",
      "3012/3012 [==============================] - 5s 2ms/step - loss: 435.3001 - mae: 7.9093 - root_mean_squared_error: 20.8638\n",
      "Epoch 54/100\n",
      "3012/3012 [==============================] - 5s 2ms/step - loss: 435.5841 - mae: 7.8813 - root_mean_squared_error: 20.8707\n",
      "Epoch 55/100\n",
      "3012/3012 [==============================] - 6s 2ms/step - loss: 435.5659 - mae: 7.8412 - root_mean_squared_error: 20.8702\n",
      "Epoch 56/100\n",
      "3012/3012 [==============================] - 5s 2ms/step - loss: 428.5637 - mae: 7.8220 - root_mean_squared_error: 20.7018\n",
      "Epoch 57/100\n",
      "3012/3012 [==============================] - 5s 2ms/step - loss: 434.1787 - mae: 7.8164 - root_mean_squared_error: 20.8370\n",
      "Epoch 58/100\n",
      "3012/3012 [==============================] - 4s 1ms/step - loss: 433.6161 - mae: 7.8048 - root_mean_squared_error: 20.8235\n",
      "Epoch 59/100\n",
      "3012/3012 [==============================] - 4s 1ms/step - loss: 428.7990 - mae: 7.8011 - root_mean_squared_error: 20.7075\n",
      "Epoch 60/100\n",
      "3012/3012 [==============================] - 5s 2ms/step - loss: 429.4618 - mae: 7.7510 - root_mean_squared_error: 20.7235\n",
      "Epoch 61/100\n",
      "3012/3012 [==============================] - 6s 2ms/step - loss: 425.3711 - mae: 7.7080 - root_mean_squared_error: 20.6245: 0s - loss: 425.4912 - mae: 7\n",
      "Epoch 62/100\n",
      "3012/3012 [==============================] - 5s 2ms/step - loss: 427.7862 - mae: 7.7421 - root_mean_squared_error: 20.6830\n",
      "Epoch 63/100\n",
      "3012/3012 [==============================] - 4s 1ms/step - loss: 419.5352 - mae: 7.6860 - root_mean_squared_error: 20.4826: 1s - loss: 421.0826 - mae: 7.6814 - root_mea - ETA: 0s - loss: 419.1958 - mae: 7.6799 - root_mean_\n",
      "Epoch 64/100\n",
      "3012/3012 [==============================] - 5s 2ms/step - loss: 420.7856 - mae: 7.6758 - root_mean_squared_error: 20.5131\n",
      "Epoch 65/100\n",
      "3012/3012 [==============================] - 5s 2ms/step - loss: 420.8124 - mae: 7.6575 - root_mean_squared_error: 20.5137\n",
      "Epoch 66/100\n",
      "3012/3012 [==============================] - 4s 1ms/step - loss: 426.4190 - mae: 7.7097 - root_mean_squared_error: 20.6499: 1s - loss: 424.1364 - mae:\n",
      "Epoch 67/100\n",
      "3012/3012 [==============================] - 4s 1ms/step - loss: 418.0478 - mae: 7.6694 - root_mean_squared_error: 20.4462\n",
      "Epoch 68/100\n",
      "3012/3012 [==============================] - 5s 2ms/step - loss: 420.3964 - mae: 7.6978 - root_mean_squared_error: 20.5036\n",
      "Epoch 69/100\n",
      "3012/3012 [==============================] - 6s 2ms/step - loss: 418.7297 - mae: 7.6378 - root_mean_squared_error: 20.4629\n",
      "Epoch 70/100\n",
      "3012/3012 [==============================] - 5s 2ms/step - loss: 418.7142 - mae: 7.6329 - root_mean_squared_error: 20.4625\n",
      "Epoch 71/100\n",
      "3012/3012 [==============================] - 4s 1ms/step - loss: 407.5191 - mae: 7.4549 - root_mean_squared_error: 20.1871: 0s - loss: 409.2074 - mae: 7.4705 - root_mean_squared_\n",
      "Epoch 72/100\n",
      "3012/3012 [==============================] - 4s 1ms/step - loss: 405.1358 - mae: 7.5055 - root_mean_squared_error: 20.1280\n",
      "Epoch 73/100\n",
      "3012/3012 [==============================] - 4s 1ms/step - loss: 407.2210 - mae: 7.5052 - root_mean_squared_error: 20.1797\n",
      "Epoch 74/100\n",
      "3012/3012 [==============================] - 4s 1ms/step - loss: 400.5823 - mae: 7.3957 - root_mean_squared_error: 20.0146\n",
      "Epoch 75/100\n",
      "3012/3012 [==============================] - 4s 1ms/step - loss: 399.7678 - mae: 7.3596 - root_mean_squared_error: 19.9942\n",
      "Epoch 76/100\n",
      "3012/3012 [==============================] - 5s 2ms/step - loss: 398.6359 - mae: 7.3066 - root_mean_squared_error: 19.9659\n",
      "Epoch 77/100\n",
      "3012/3012 [==============================] - 5s 2ms/step - loss: 394.1367 - mae: 7.2512 - root_mean_squared_error: 19.8529: 1s - l\n",
      "Epoch 78/100\n",
      "3012/3012 [==============================] - 5s 2ms/step - loss: 393.7986 - mae: 7.2313 - root_mean_squared_error: 19.8444: 1s - loss: 4\n",
      "Epoch 79/100\n",
      "3012/3012 [==============================] - 5s 2ms/step - loss: 390.5683 - mae: 7.2321 - root_mean_squared_error: 19.7628\n",
      "Epoch 80/100\n",
      "3012/3012 [==============================] - 5s 2ms/step - loss: 390.6879 - mae: 7.1833 - root_mean_squared_error: 19.7658\n",
      "Epoch 81/100\n",
      "3012/3012 [==============================] - 4s 1ms/step - loss: 389.2727 - mae: 7.1799 - root_mean_squared_error: 19.7300\n",
      "Epoch 82/100\n",
      "3012/3012 [==============================] - 4s 1ms/step - loss: 386.9371 - mae: 7.1489 - root_mean_squared_error: 19.6707\n",
      "Epoch 83/100\n",
      "3012/3012 [==============================] - 5s 2ms/step - loss: 386.4530 - mae: 7.1966 - root_mean_squared_error: 19.6584\n",
      "Epoch 84/100\n",
      "3012/3012 [==============================] - 5s 2ms/step - loss: 385.0334 - mae: 7.1100 - root_mean_squared_error: 19.6223\n",
      "Epoch 85/100\n",
      "3012/3012 [==============================] - 6s 2ms/step - loss: 384.3309 - mae: 7.1422 - root_mean_squared_error: 19.6044\n",
      "Epoch 86/100\n",
      "3012/3012 [==============================] - 5s 2ms/step - loss: 377.7376 - mae: 7.0068 - root_mean_squared_error: 19.4355: 0s - loss: 376.0996 - mae: 6.9479 - root_mean_\n",
      "Epoch 87/100\n",
      "3012/3012 [==============================] - 5s 2ms/step - loss: 381.1904 - mae: 7.0501 - root_mean_squared_error: 19.5241\n",
      "Epoch 88/100\n",
      "3012/3012 [==============================] - 5s 2ms/step - loss: 380.1472 - mae: 7.0325 - root_mean_squared_error: 19.4974\n",
      "Epoch 89/100\n",
      "3012/3012 [==============================] - 5s 2ms/step - loss: 379.6038 - mae: 7.0006 - root_mean_squared_error: 19.4834\n",
      "Epoch 90/100\n",
      "3012/3012 [==============================] - 6s 2ms/step - loss: 380.7220 - mae: 7.0699 - root_mean_squared_error: 19.5121: 2s - los - ETA: 1s - loss: 384.2755 - mae: 7.105\n",
      "Epoch 91/100\n",
      "3012/3012 [==============================] - 5s 2ms/step - loss: 381.2592 - mae: 7.0650 - root_mean_squared_error: 19.5259\n",
      "Epoch 92/100\n",
      "3012/3012 [==============================] - 4s 1ms/step - loss: 383.7803 - mae: 7.0379 - root_mean_squared_error: 19.5903\n",
      "Epoch 93/100\n",
      "3012/3012 [==============================] - 5s 2ms/step - loss: 378.8813 - mae: 6.9901 - root_mean_squared_error: 19.4649: 0s - loss: 379.1909 - mae: 7.0070 \n",
      "Epoch 94/100\n",
      "3012/3012 [==============================] - 6s 2ms/step - loss: 380.6503 - mae: 7.0289 - root_mean_squared_error: 19.5103: 2s - loss: 387.4841 - \n",
      "Epoch 95/100\n",
      "3012/3012 [==============================] - 7s 2ms/step - loss: 372.7206 - mae: 6.8934 - root_mean_squared_error: 19.3060\n",
      "Epoch 96/100\n",
      "3012/3012 [==============================] - 7s 2ms/step - loss: 374.2655 - mae: 6.9971 - root_mean_squared_error: 19.3459\n",
      "Epoch 97/100\n",
      "3012/3012 [==============================] - 7s 2ms/step - loss: 370.6898 - mae: 6.9395 - root_mean_squared_error: 19.2533: 0s - loss: 371.0768 - mae: 6.940\n",
      "Epoch 98/100\n",
      "3012/3012 [==============================] - 6s 2ms/step - loss: 373.6794 - mae: 6.9509 - root_mean_squared_error: 19.3308: 1s - loss: 367\n",
      "Epoch 99/100\n",
      "3012/3012 [==============================] - 6s 2ms/step - loss: 371.5406 - mae: 6.9311 - root_mean_squared_error: 19.2754\n",
      "Epoch 100/100\n",
      "3012/3012 [==============================] - 6s 2ms/step - loss: 371.0230 - mae: 6.9127 - root_mean_squared_error: 19.2620\n"
     ]
    }
   ],
   "source": [
    "#Compile and train\n",
    "model_Boulder.compile(optimizer=Adam(lr=0.0001), \n",
    "              loss='mse',\n",
    "              metrics=['mae',keras.metrics.RootMeanSquaredError()])\n",
    "\n",
    "history_Boulder = model_Boulder.fit(input_arry, output_arry, epochs=100, batch_size=32)"
   ]
  },
  {
   "cell_type": "code",
   "execution_count": 70,
   "metadata": {},
   "outputs": [],
   "source": [
    "#MAE falls to around 6.99"
   ]
  },
  {
   "cell_type": "code",
   "execution_count": 115,
   "metadata": {},
   "outputs": [
    {
     "data": {
      "image/png": "[encoded data removed]",
      "text/plain": [
       "<Figure size 432x288 with 1 Axes>"
      ]
     },
     "metadata": {},
     "output_type": "display_data"
    }
   ],
   "source": [
    "plt.plot(history_Boulder.history['mae'])\n",
    "plt.plot(history_Boulder.history['root_mean_squared_error'])\n",
    "plt.title('mae and rmse per epoch')\n",
    "plt.ylabel('Error')\n",
    "plt.xlabel('Epoch')\n",
    "plt.legend(['mae', 'rmse'], loc='upper left')\n",
    "plt.show()"
   ]
  },
  {
   "cell_type": "markdown",
   "metadata": {},
   "source": [
    "## V.II Model Testing,  Boulder Specific Model on Boulder 2018 data"
   ]
  },
  {
   "cell_type": "markdown",
   "metadata": {},
   "source": [
    "Test on 2018 data only"
   ]
  },
  {
   "cell_type": "code",
   "execution_count": 116,
   "metadata": {},
   "outputs": [
    {
     "data": {
      "text/html": [
       "<div>\n",
       "<style scoped>\n",
       "    .dataframe tbody tr th:only-of-type {\n",
       "        vertical-align: middle;\n",
       "    }\n",
       "\n",
       "    .dataframe tbody tr th {\n",
       "        vertical-align: top;\n",
       "    }\n",
       "\n",
       "    .dataframe thead th {\n",
       "        text-align: right;\n",
       "    }\n",
       "</style>\n",
       "<table border=\"1\" class=\"dataframe\">\n",
       "  <thead>\n",
       "    <tr style=\"text-align: right;\">\n",
       "      <th></th>\n",
       "      <th>Year</th>\n",
       "      <th>Month</th>\n",
       "      <th>Day</th>\n",
       "      <th>Hour</th>\n",
       "      <th>Minute</th>\n",
       "      <th>Temperature</th>\n",
       "      <th>Clearsky DHI</th>\n",
       "      <th>Clearsky DNI</th>\n",
       "      <th>Clearsky GHI</th>\n",
       "      <th>Cloud Type</th>\n",
       "      <th>...</th>\n",
       "      <th>Solar Zenith Angle</th>\n",
       "      <th>Surface Albedo</th>\n",
       "      <th>Pressure</th>\n",
       "      <th>Precipitable Water</th>\n",
       "      <th>Wind Direction</th>\n",
       "      <th>Wind Speed</th>\n",
       "      <th>Global Horizontal UV Irradiance (280-400nm)</th>\n",
       "      <th>Global Horizontal UV Irradiance (285-385nm)</th>\n",
       "      <th>timestamps</th>\n",
       "      <th>Cloud Cover</th>\n",
       "    </tr>\n",
       "  </thead>\n",
       "  <tbody>\n",
       "    <tr>\n",
       "      <th>0</th>\n",
       "      <td>2018</td>\n",
       "      <td>1</td>\n",
       "      <td>1</td>\n",
       "      <td>0</td>\n",
       "      <td>30</td>\n",
       "      <td>-14.3</td>\n",
       "      <td>0</td>\n",
       "      <td>0</td>\n",
       "      <td>0</td>\n",
       "      <td>0</td>\n",
       "      <td>...</td>\n",
       "      <td>98.21</td>\n",
       "      <td>0.67</td>\n",
       "      <td>711</td>\n",
       "      <td>0.2</td>\n",
       "      <td>261</td>\n",
       "      <td>0.9</td>\n",
       "      <td>NaN</td>\n",
       "      <td>NaN</td>\n",
       "      <td>1514782800</td>\n",
       "      <td>0.00</td>\n",
       "    </tr>\n",
       "    <tr>\n",
       "      <th>1</th>\n",
       "      <td>2018</td>\n",
       "      <td>1</td>\n",
       "      <td>1</td>\n",
       "      <td>1</td>\n",
       "      <td>30</td>\n",
       "      <td>-15.6</td>\n",
       "      <td>0</td>\n",
       "      <td>0</td>\n",
       "      <td>0</td>\n",
       "      <td>0</td>\n",
       "      <td>...</td>\n",
       "      <td>109.06</td>\n",
       "      <td>0.67</td>\n",
       "      <td>711</td>\n",
       "      <td>0.2</td>\n",
       "      <td>254</td>\n",
       "      <td>1.2</td>\n",
       "      <td>NaN</td>\n",
       "      <td>NaN</td>\n",
       "      <td>1514786400</td>\n",
       "      <td>0.00</td>\n",
       "    </tr>\n",
       "    <tr>\n",
       "      <th>2</th>\n",
       "      <td>2018</td>\n",
       "      <td>1</td>\n",
       "      <td>1</td>\n",
       "      <td>2</td>\n",
       "      <td>30</td>\n",
       "      <td>-16.3</td>\n",
       "      <td>0</td>\n",
       "      <td>0</td>\n",
       "      <td>0</td>\n",
       "      <td>0</td>\n",
       "      <td>...</td>\n",
       "      <td>120.35</td>\n",
       "      <td>0.67</td>\n",
       "      <td>711</td>\n",
       "      <td>0.1</td>\n",
       "      <td>252</td>\n",
       "      <td>1.1</td>\n",
       "      <td>NaN</td>\n",
       "      <td>NaN</td>\n",
       "      <td>1514790000</td>\n",
       "      <td>0.64</td>\n",
       "    </tr>\n",
       "    <tr>\n",
       "      <th>3</th>\n",
       "      <td>2018</td>\n",
       "      <td>1</td>\n",
       "      <td>1</td>\n",
       "      <td>3</td>\n",
       "      <td>30</td>\n",
       "      <td>-16.7</td>\n",
       "      <td>0</td>\n",
       "      <td>0</td>\n",
       "      <td>0</td>\n",
       "      <td>0</td>\n",
       "      <td>...</td>\n",
       "      <td>131.81</td>\n",
       "      <td>0.67</td>\n",
       "      <td>711</td>\n",
       "      <td>0.1</td>\n",
       "      <td>256</td>\n",
       "      <td>1.0</td>\n",
       "      <td>NaN</td>\n",
       "      <td>NaN</td>\n",
       "      <td>1514793600</td>\n",
       "      <td>0.64</td>\n",
       "    </tr>\n",
       "    <tr>\n",
       "      <th>4</th>\n",
       "      <td>2018</td>\n",
       "      <td>1</td>\n",
       "      <td>1</td>\n",
       "      <td>4</td>\n",
       "      <td>30</td>\n",
       "      <td>-17.0</td>\n",
       "      <td>0</td>\n",
       "      <td>0</td>\n",
       "      <td>0</td>\n",
       "      <td>0</td>\n",
       "      <td>...</td>\n",
       "      <td>143.11</td>\n",
       "      <td>0.67</td>\n",
       "      <td>711</td>\n",
       "      <td>0.1</td>\n",
       "      <td>261</td>\n",
       "      <td>1.0</td>\n",
       "      <td>NaN</td>\n",
       "      <td>NaN</td>\n",
       "      <td>1514797200</td>\n",
       "      <td>0.64</td>\n",
       "    </tr>\n",
       "  </tbody>\n",
       "</table>\n",
       "<p>5 rows × 26 columns</p>\n",
       "</div>"
      ],
      "text/plain": [
       "   Year  Month  Day  Hour  Minute  Temperature  Clearsky DHI  Clearsky DNI  \\\n",
       "0  2018      1    1     0      30        -14.3             0             0   \n",
       "1  2018      1    1     1      30        -15.6             0             0   \n",
       "2  2018      1    1     2      30        -16.3             0             0   \n",
       "3  2018      1    1     3      30        -16.7             0             0   \n",
       "4  2018      1    1     4      30        -17.0             0             0   \n",
       "\n",
       "   Clearsky GHI  Cloud Type  ...  Solar Zenith Angle  Surface Albedo  \\\n",
       "0             0           0  ...               98.21            0.67   \n",
       "1             0           0  ...              109.06            0.67   \n",
       "2             0           0  ...              120.35            0.67   \n",
       "3             0           0  ...              131.81            0.67   \n",
       "4             0           0  ...              143.11            0.67   \n",
       "\n",
       "   Pressure  Precipitable Water  Wind Direction  Wind Speed  \\\n",
       "0       711                 0.2             261         0.9   \n",
       "1       711                 0.2             254         1.2   \n",
       "2       711                 0.1             252         1.1   \n",
       "3       711                 0.1             256         1.0   \n",
       "4       711                 0.1             261         1.0   \n",
       "\n",
       "   Global Horizontal UV Irradiance (280-400nm)  \\\n",
       "0                                          NaN   \n",
       "1                                          NaN   \n",
       "2                                          NaN   \n",
       "3                                          NaN   \n",
       "4                                          NaN   \n",
       "\n",
       "   Global Horizontal UV Irradiance (285-385nm)  timestamps  Cloud Cover  \n",
       "0                                          NaN  1514782800         0.00  \n",
       "1                                          NaN  1514786400         0.00  \n",
       "2                                          NaN  1514790000         0.64  \n",
       "3                                          NaN  1514793600         0.64  \n",
       "4                                          NaN  1514797200         0.64  \n",
       "\n",
       "[5 rows x 26 columns]"
      ]
     },
     "execution_count": 116,
     "metadata": {},
     "output_type": "execute_result"
    }
   ],
   "source": [
    "test_df = pd.read_csv(os.path.join(_Testing_Data_Dir, 'Boulder_CO', 'psm_CO_Boulder2018.csv'))\n",
    "test_df.head()"
   ]
  },
  {
   "cell_type": "code",
   "execution_count": 117,
   "metadata": {},
   "outputs": [],
   "source": [
    "input_size = 6\n",
    "test_input_arry = np.array([], dtype=np.float64).reshape(0,input_size)\n",
    "test_output_arry = np.array([], dtype=np.float64)\n",
    "test_input_arry, test_output_arry = combine_training_arrays(test_df, test_input_arry, test_output_arry)"
   ]
  },
  {
   "cell_type": "code",
   "execution_count": 118,
   "metadata": {},
   "outputs": [
    {
     "name": "stdout",
     "output_type": "stream",
     "text": [
      "274/274 [==============================] - 0s 956us/step - loss: 978.8859 - mae: 12.8149 - root_mean_squared_error: 31.2872\n"
     ]
    }
   ],
   "source": [
    "score = model_Boulder.evaluate(test_input_arry, test_output_arry, verbose=1)"
   ]
  },
  {
   "cell_type": "code",
   "execution_count": 119,
   "metadata": {},
   "outputs": [],
   "source": [
    "#12.8149 is better than 15"
   ]
  },
  {
   "cell_type": "markdown",
   "metadata": {},
   "source": [
    "## V.III Model Testing Miami Specific\n",
    "Lets train on NRSDB + Darksky data from 08-18"
   ]
  },
  {
   "cell_type": "code",
   "execution_count": 120,
   "metadata": {},
   "outputs": [
    {
     "name": "stdout",
     "output_type": "stream",
     "text": [
      "[]\n",
      "[]\n",
      "/Users/tuomastalvitie/Documents/GRIP/Diffuse:Direct/solarIrradiencePredictor/Testing_Data/Miami_FL/psm_FL_Miami2009.csv\n",
      "/Users/tuomastalvitie/Documents/GRIP/Diffuse:Direct/solarIrradiencePredictor/Testing_Data/Miami_FL/psm_FL_Miami2008.csv\n",
      "/Users/tuomastalvitie/Documents/GRIP/Diffuse:Direct/solarIrradiencePredictor/Testing_Data/Miami_FL/psm_FL_Miami2018.csv\n",
      "/Users/tuomastalvitie/Documents/GRIP/Diffuse:Direct/solarIrradiencePredictor/Testing_Data/Miami_FL/psm_FL_Miami2017.csv\n",
      "/Users/tuomastalvitie/Documents/GRIP/Diffuse:Direct/solarIrradiencePredictor/Testing_Data/Miami_FL/psm_FL_Miami2016.csv\n",
      "/Users/tuomastalvitie/Documents/GRIP/Diffuse:Direct/solarIrradiencePredictor/Testing_Data/Miami_FL/psm_FL_Miami2014.csv\n",
      "/Users/tuomastalvitie/Documents/GRIP/Diffuse:Direct/solarIrradiencePredictor/Testing_Data/Miami_FL/psm_FL_Miami2015.csv\n",
      "/Users/tuomastalvitie/Documents/GRIP/Diffuse:Direct/solarIrradiencePredictor/Testing_Data/Miami_FL/psm_FL_Miami2011.csv\n",
      "/Users/tuomastalvitie/Documents/GRIP/Diffuse:Direct/solarIrradiencePredictor/Testing_Data/Miami_FL/psm_FL_Miami2010.csv\n",
      "/Users/tuomastalvitie/Documents/GRIP/Diffuse:Direct/solarIrradiencePredictor/Testing_Data/Miami_FL/psm_FL_Miami2012.csv\n",
      "/Users/tuomastalvitie/Documents/GRIP/Diffuse:Direct/solarIrradiencePredictor/Testing_Data/Miami_FL/psm_FL_Miami2013.csv\n"
     ]
    }
   ],
   "source": [
    "input_size = 6\n",
    "input_arry = np.array([], dtype=np.float64).reshape(0,input_size)\n",
    "output_arry = np.array([], dtype=np.float64)\n",
    "print(input_arry)\n",
    "print(output_arry)\n",
    "from glob import glob\n",
    "for path in glob(_Testing_Data_Dir+'/Miami_FL'):\n",
    "    for file in glob(path+'/psm_'+'*'):\n",
    "        print(file)\n",
    "        df = pd.read_csv(file)\n",
    "        input_arry, output_arry = combine_training_arrays(df, input_arry, output_arry)"
   ]
  },
  {
   "cell_type": "code",
   "execution_count": 122,
   "metadata": {},
   "outputs": [
    {
     "data": {
      "text/plain": [
       "<function tensorflow.python.framework.ops.reset_default_graph()>"
      ]
     },
     "execution_count": 122,
     "metadata": {},
     "output_type": "execute_result"
    }
   ],
   "source": [
    "keras.backend.clear_session()\n",
    "tf.keras.backend.clear_session()\n",
    "tf.compat.v1.reset_default_graph"
   ]
  },
  {
   "cell_type": "code",
   "execution_count": 123,
   "metadata": {},
   "outputs": [],
   "source": [
    "model_Miami = keras.Sequential()\n",
    "model_Miami.add(keras.layers.Dense(300, activation=\"relu\"))\n",
    "model_Miami.add(layers.Dense(200, activation=\"relu\"))\n",
    "model_Miami.add(layers.Dense(100, activation=\"relu\"))\n",
    "model_Miami.add(layers.Dense(50, activation=\"relu\"))\n",
    "model_Miami.add(layers.Dense(25, activation=\"relu\"))\n",
    "model_Miami.add(layers.Dense(1, activation='relu'))"
   ]
  },
  {
   "cell_type": "code",
   "execution_count": 124,
   "metadata": {},
   "outputs": [
    {
     "name": "stdout",
     "output_type": "stream",
     "text": [
      "Epoch 1/100\n",
      "1506/1506 [==============================] - 3s 2ms/step - loss: 2633.1914 - mae: 26.4663 - root_mean_squared_error: 51.3146\n",
      "Epoch 2/100\n",
      "1506/1506 [==============================] - 3s 2ms/step - loss: 296.6196 - mae: 8.2286 - root_mean_squared_error: 17.2226\n",
      "Epoch 3/100\n",
      "1506/1506 [==============================] - 3s 2ms/step - loss: 242.9046 - mae: 7.1133 - root_mean_squared_error: 15.5854\n",
      "Epoch 4/100\n",
      "1506/1506 [==============================] - 3s 2ms/step - loss: 223.9117 - mae: 6.7212 - root_mean_squared_error: 14.9637: 0s - loss: 221.0543 - mae: 6.6691 - root_mean_squared_error: 1\n",
      "Epoch 5/100\n",
      "1506/1506 [==============================] - 3s 2ms/step - loss: 214.0983 - mae: 6.5390 - root_mean_squared_error: 14.6321\n",
      "Epoch 6/100\n",
      "1506/1506 [==============================] - 3s 2ms/step - loss: 208.1112 - mae: 6.3846 - root_mean_squared_error: 14.4261\n",
      "Epoch 7/100\n",
      "1506/1506 [==============================] - 3s 2ms/step - loss: 205.5375 - mae: 6.3092 - root_mean_squared_error: 14.3366\n",
      "Epoch 8/100\n",
      "1506/1506 [==============================] - 3s 2ms/step - loss: 200.0863 - mae: 6.1708 - root_mean_squared_error: 14.1452\n",
      "Epoch 9/100\n",
      "1506/1506 [==============================] - 3s 2ms/step - loss: 203.2010 - mae: 6.2142 - root_mean_squared_error: 14.2549: 0s - loss: 204.2701 - mae: 6.2317 - root_mean_squared_erro\n",
      "Epoch 10/100\n",
      "1506/1506 [==============================] - 3s 2ms/step - loss: 193.9835 - mae: 6.0385 - root_mean_squared_error: 13.9278\n",
      "Epoch 11/100\n",
      "1506/1506 [==============================] - 3s 2ms/step - loss: 194.3957 - mae: 6.0348 - root_mean_squared_error: 13.9426\n",
      "Epoch 12/100\n",
      "1506/1506 [==============================] - 3s 2ms/step - loss: 192.6377 - mae: 5.9820 - root_mean_squared_error: 13.8794\n",
      "Epoch 13/100\n",
      "1506/1506 [==============================] - 4s 2ms/step - loss: 202.9877 - mae: 6.1727 - root_mean_squared_error: 14.2474: 2s - loss: 2\n",
      "Epoch 14/100\n",
      "1506/1506 [==============================] - 3s 2ms/step - loss: 192.4914 - mae: 5.9814 - root_mean_squared_error: 13.8741\n",
      "Epoch 15/100\n",
      "1506/1506 [==============================] - 3s 2ms/step - loss: 190.6890 - mae: 5.8997 - root_mean_squared_error: 13.8090: 2s - loss: 183.5210 - mae: 5.6966 - root_mea\n",
      "Epoch 16/100\n",
      "1506/1506 [==============================] - 3s 2ms/step - loss: 191.7949 - mae: 5.9418 - root_mean_squared_error: 13.8490\n",
      "Epoch 17/100\n",
      "1506/1506 [==============================] - 3s 2ms/step - loss: 194.0050 - mae: 6.0089 - root_mean_squared_error: 13.9286: 1s - loss: 1\n",
      "Epoch 18/100\n",
      "1506/1506 [==============================] - 3s 2ms/step - loss: 189.9124 - mae: 5.8930 - root_mean_squared_error: 13.7809\n",
      "Epoch 19/100\n",
      "1506/1506 [==============================] - 3s 2ms/step - loss: 190.1159 - mae: 5.8793 - root_mean_squared_error: 13.7883: 1s - l\n",
      "Epoch 20/100\n",
      "1506/1506 [==============================] - 3s 2ms/step - loss: 194.2146 - mae: 5.9737 - root_mean_squared_error: 13.9361: 1s - loss: 198.3057 - mae: 6.0728 - root_mean_squared_ - ETA: 0s - loss: 196.1225 - mae: 6\n",
      "Epoch 21/100\n",
      "1506/1506 [==============================] - 3s 2ms/step - loss: 187.6270 - mae: 5.8716 - root_mean_squared_error: 13.6977\n",
      "Epoch 22/100\n",
      "1506/1506 [==============================] - 4s 3ms/step - loss: 190.0714 - mae: 5.9136 - root_mean_squared_error: 13.7866\n",
      "Epoch 23/100\n",
      "1506/1506 [==============================] - 3s 2ms/step - loss: 189.1253 - mae: 5.8669 - root_mean_squared_error: 13.7523\n",
      "Epoch 24/100\n",
      "1506/1506 [==============================] - 3s 2ms/step - loss: 185.8530 - mae: 5.8090 - root_mean_squared_error: 13.6328: 0s - loss: 182.7842 - mae: 5.7548 - root_mean_squa\n",
      "Epoch 25/100\n",
      "1506/1506 [==============================] - 3s 2ms/step - loss: 188.1480 - mae: 5.9200 - root_mean_squared_error: 13.7167: 0s - loss: 187.9987 - mae: 5.8778 - root_mean_squa\n",
      "Epoch 26/100\n",
      "1506/1506 [==============================] - 3s 2ms/step - loss: 188.0369 - mae: 5.8510 - root_mean_squared_error: 13.7127: 0s - loss: 186.5719 - mae: 5.8564 - root\n",
      "Epoch 27/100\n",
      "1506/1506 [==============================] - 3s 2ms/step - loss: 185.3519 - mae: 5.7996 - root_mean_squared_error: 13.6144\n",
      "Epoch 28/100\n",
      "1506/1506 [==============================] - 3s 2ms/step - loss: 188.3575 - mae: 5.8612 - root_mean_squared_error: 13.7243\n",
      "Epoch 29/100\n",
      "1506/1506 [==============================] - 3s 2ms/step - loss: 186.1870 - mae: 5.8214 - root_mean_squared_error: 13.6450\n",
      "Epoch 30/100\n",
      "1506/1506 [==============================] - 3s 2ms/step - loss: 183.7513 - mae: 5.7790 - root_mean_squared_error: 13.5555: 0s - loss: 185.1480 - mae: 5.8007 - root_mean_\n",
      "Epoch 31/100\n",
      "1506/1506 [==============================] - 3s 2ms/step - loss: 183.8016 - mae: 5.7791 - root_mean_squared_error: 13.5573\n",
      "Epoch 32/100\n",
      "1506/1506 [==============================] - 3s 2ms/step - loss: 187.1422 - mae: 5.8267 - root_mean_squared_error: 13.6800\n",
      "Epoch 33/100\n",
      "1506/1506 [==============================] - 3s 2ms/step - loss: 182.6832 - mae: 5.7385 - root_mean_squared_error: 13.5160\n",
      "Epoch 34/100\n",
      "1506/1506 [==============================] - 3s 2ms/step - loss: 187.5053 - mae: 5.8625 - root_mean_squared_error: 13.6933\n",
      "Epoch 35/100\n",
      "1506/1506 [==============================] - 3s 2ms/step - loss: 186.2347 - mae: 5.8210 - root_mean_squared_error: 13.6468\n",
      "Epoch 36/100\n",
      "1506/1506 [==============================] - 3s 2ms/step - loss: 184.1919 - mae: 5.7408 - root_mean_squared_error: 13.5717\n",
      "Epoch 37/100\n",
      "1506/1506 [==============================] - 3s 2ms/step - loss: 182.7231 - mae: 5.7239 - root_mean_squared_error: 13.5175\n",
      "Epoch 38/100\n",
      "1506/1506 [==============================] - 4s 2ms/step - loss: 185.5048 - mae: 5.7876 - root_mean_squared_error: 13.6200\n",
      "Epoch 39/100\n",
      "1506/1506 [==============================] - 4s 2ms/step - loss: 181.1442 - mae: 5.7045 - root_mean_squared_error: 13.4590\n",
      "Epoch 40/100\n",
      "1506/1506 [==============================] - 3s 2ms/step - loss: 184.3968 - mae: 5.7640 - root_mean_squared_error: 13.5793\n",
      "Epoch 41/100\n",
      "1506/1506 [==============================] - 3s 2ms/step - loss: 186.1589 - mae: 5.7940 - root_mean_squared_error: 13.6440: 0s - loss: 185.0023 - mae: 5.7512 - root_mean_sq\n",
      "Epoch 42/100\n",
      "1506/1506 [==============================] - 3s 2ms/step - loss: 181.3674 - mae: 5.7115 - root_mean_squared_error: 13.4673: 1s - loss: 173.7661 - mae: 5.5 - ETA: 0s - loss: 181.0788 - mae: 5.6931 - root_mean_sq\n",
      "Epoch 43/100\n",
      "1506/1506 [==============================] - 3s 2ms/step - loss: 187.6123 - mae: 5.8369 - root_mean_squared_error: 13.6972\n",
      "Epoch 44/100\n",
      "1506/1506 [==============================] - 3s 2ms/step - loss: 180.0558 - mae: 5.6486 - root_mean_squared_error: 13.4185\n",
      "Epoch 45/100\n",
      "1506/1506 [==============================] - 3s 2ms/step - loss: 180.1421 - mae: 5.6424 - root_mean_squared_error: 13.4217\n",
      "Epoch 46/100\n",
      "1506/1506 [==============================] - 3s 2ms/step - loss: 183.6418 - mae: 5.7437 - root_mean_squared_error: 13.5514: 1s - loss: 183.1800 - ma\n",
      "Epoch 47/100\n",
      "1506/1506 [==============================] - 3s 2ms/step - loss: 181.6501 - mae: 5.7269 - root_mean_squared_error: 13.4778: 0s - loss: 180.5589 - mae: 5.7146 - root_mean_squared_error: - ETA: 0s - loss: 181.3714 - mae: 5.7345 - root_mean_squared_erro\n",
      "Epoch 48/100\n",
      "1506/1506 [==============================] - 3s 2ms/step - loss: 179.8756 - mae: 5.6572 - root_mean_squared_error: 13.4118\n",
      "Epoch 49/100\n",
      "1506/1506 [==============================] - 3s 2ms/step - loss: 178.7189 - mae: 5.6161 - root_mean_squared_error: 13.3686\n",
      "Epoch 50/100\n",
      "1506/1506 [==============================] - 3s 2ms/step - loss: 178.3975 - mae: 5.6408 - root_mean_squared_error: 13.3566\n",
      "Epoch 51/100\n",
      "1506/1506 [==============================] - 3s 2ms/step - loss: 180.5004 - mae: 5.6785 - root_mean_squared_error: 13.4350\n",
      "Epoch 52/100\n",
      "1506/1506 [==============================] - 3s 2ms/step - loss: 177.5364 - mae: 5.5973 - root_mean_squared_error: 13.3243\n",
      "Epoch 53/100\n",
      "1506/1506 [==============================] - 3s 2ms/step - loss: 180.1243 - mae: 5.6428 - root_mean_squared_error: 13.4210\n",
      "Epoch 54/100\n",
      "1506/1506 [==============================] - 3s 2ms/step - loss: 179.7390 - mae: 5.6343 - root_mean_squared_error: 13.4067\n",
      "Epoch 55/100\n",
      "1506/1506 [==============================] - 2s 2ms/step - loss: 180.6494 - mae: 5.6765 - root_mean_squared_error: 13.4406\n",
      "Epoch 56/100\n",
      "1506/1506 [==============================] - 2s 2ms/step - loss: 176.8232 - mae: 5.5941 - root_mean_squared_error: 13.2975\n",
      "Epoch 57/100\n",
      "1506/1506 [==============================] - 2s 2ms/step - loss: 176.9963 - mae: 5.5767 - root_mean_squared_error: 13.3040\n",
      "Epoch 58/100\n",
      "1506/1506 [==============================] - 2s 2ms/step - loss: 178.6169 - mae: 5.6149 - root_mean_squared_error: 13.3648: 0s - loss: 175.8333 - mae: 5.5890 - root_mean_squared_error: 13.26 - ETA: 0s - loss: 176.0069 - mae: 5.5822 - root_m\n",
      "Epoch 59/100\n",
      "1506/1506 [==============================] - 2s 2ms/step - loss: 177.4707 - mae: 5.5900 - root_mean_squared_error: 13.3218\n",
      "Epoch 60/100\n",
      "1506/1506 [==============================] - 2s 2ms/step - loss: 176.9386 - mae: 5.5969 - root_mean_squared_error: 13.3018\n",
      "Epoch 61/100\n",
      "1506/1506 [==============================] - 2s 2ms/step - loss: 176.7368 - mae: 5.5994 - root_mean_squared_error: 13.2942\n",
      "Epoch 62/100\n",
      "1506/1506 [==============================] - 2s 2ms/step - loss: 177.7361 - mae: 5.5845 - root_mean_squared_error: 13.3318\n",
      "Epoch 63/100\n",
      "1506/1506 [==============================] - 3s 2ms/step - loss: 178.0386 - mae: 5.6049 - root_mean_squared_error: 13.3431\n",
      "Epoch 64/100\n",
      "1506/1506 [==============================] - 2s 2ms/step - loss: 178.8835 - mae: 5.6074 - root_mean_squared_error: 13.3747\n",
      "Epoch 65/100\n",
      "1506/1506 [==============================] - 2s 2ms/step - loss: 175.3962 - mae: 5.5249 - root_mean_squared_error: 13.2437\n",
      "Epoch 66/100\n",
      "1506/1506 [==============================] - 2s 2ms/step - loss: 174.8616 - mae: 5.5296 - root_mean_squared_error: 13.2235\n",
      "Epoch 67/100\n",
      "1506/1506 [==============================] - 3s 2ms/step - loss: 176.3245 - mae: 5.5588 - root_mean_squared_error: 13.2787\n",
      "Epoch 68/100\n",
      "1506/1506 [==============================] - 3s 2ms/step - loss: 175.4641 - mae: 5.5476 - root_mean_squared_error: 13.2463: 1s - loss: 180.7604 \n",
      "Epoch 69/100\n",
      "1506/1506 [==============================] - 2s 2ms/step - loss: 176.2790 - mae: 5.5540 - root_mean_squared_error: 13.2770\n",
      "Epoch 70/100\n",
      "1506/1506 [==============================] - 3s 2ms/step - loss: 175.5286 - mae: 5.5185 - root_mean_squared_error: 13.2487\n",
      "Epoch 71/100\n",
      "1506/1506 [==============================] - 2s 2ms/step - loss: 174.2145 - mae: 5.5041 - root_mean_squared_error: 13.1990\n",
      "Epoch 72/100\n",
      "1506/1506 [==============================] - 2s 2ms/step - loss: 173.3762 - mae: 5.5098 - root_mean_squared_error: 13.1672\n",
      "Epoch 73/100\n",
      "1506/1506 [==============================] - 2s 2ms/step - loss: 173.3147 - mae: 5.4906 - root_mean_squared_error: 13.1649\n",
      "Epoch 74/100\n",
      "1506/1506 [==============================] - 3s 2ms/step - loss: 174.0108 - mae: 5.4938 - root_mean_squared_error: 13.1913\n",
      "Epoch 75/100\n",
      "1506/1506 [==============================] - 3s 2ms/step - loss: 175.4792 - mae: 5.5204 - root_mean_squared_error: 13.2469\n",
      "Epoch 76/100\n",
      "1506/1506 [==============================] - 2s 2ms/step - loss: 172.0219 - mae: 5.4534 - root_mean_squared_error: 13.1157\n",
      "Epoch 77/100\n",
      "1506/1506 [==============================] - 2s 2ms/step - loss: 173.4377 - mae: 5.4899 - root_mean_squared_error: 13.1696\n",
      "Epoch 78/100\n",
      "1506/1506 [==============================] - 3s 2ms/step - loss: 171.3842 - mae: 5.4354 - root_mean_squared_error: 13.0914\n",
      "Epoch 79/100\n",
      "1506/1506 [==============================] - 2s 2ms/step - loss: 177.4065 - mae: 5.5927 - root_mean_squared_error: 13.3194\n",
      "Epoch 80/100\n",
      "1506/1506 [==============================] - 3s 2ms/step - loss: 172.3705 - mae: 5.4552 - root_mean_squared_error: 13.1290: 1s - loss: 171\n",
      "Epoch 81/100\n",
      "1506/1506 [==============================] - 3s 2ms/step - loss: 175.6702 - mae: 5.5223 - root_mean_squared_error: 13.2541: 1s - loss: 168.5748 - ma - ETA: 0s - loss: 177.3295 - mae: 5.5417 - ro\n",
      "Epoch 82/100\n",
      "1506/1506 [==============================] - 2s 2ms/step - loss: 173.7773 - mae: 5.5145 - root_mean_squared_error: 13.1825\n",
      "Epoch 83/100\n",
      "1506/1506 [==============================] - 2s 2ms/step - loss: 174.4967 - mae: 5.5032 - root_mean_squared_error: 13.2097\n",
      "Epoch 84/100\n",
      "1506/1506 [==============================] - 2s 2ms/step - loss: 173.0802 - mae: 5.4772 - root_mean_squared_error: 13.1560\n",
      "Epoch 85/100\n",
      "1506/1506 [==============================] - 3s 2ms/step - loss: 172.7567 - mae: 5.4835 - root_mean_squared_error: 13.1437\n",
      "Epoch 86/100\n",
      "1506/1506 [==============================] - 3s 2ms/step - loss: 170.5160 - mae: 5.4219 - root_mean_squared_error: 13.0582\n",
      "Epoch 87/100\n",
      "1506/1506 [==============================] - 4s 2ms/step - loss: 173.3791 - mae: 5.4803 - root_mean_squared_error: 13.1674: 0s - loss: 170.9098 - mae: 5.4327 - root_mea\n",
      "Epoch 88/100\n",
      "1506/1506 [==============================] - 3s 2ms/step - loss: 167.9872 - mae: 5.3636 - root_mean_squared_error: 12.9610: 0s - loss: 166.8847 - mae: 5.3514 - root_mea\n",
      "Epoch 89/100\n",
      "1506/1506 [==============================] - 3s 2ms/step - loss: 172.4431 - mae: 5.4621 - root_mean_squared_error: 13.1318: 0s - loss: 171.8276 - mae: 5.4652 - root_mean_sq\n",
      "Epoch 90/100\n",
      "1506/1506 [==============================] - 3s 2ms/step - loss: 172.3766 - mae: 5.4541 - root_mean_squared_error: 13.1292\n",
      "Epoch 91/100\n",
      "1506/1506 [==============================] - 3s 2ms/step - loss: 173.8377 - mae: 5.4979 - root_mean_squared_error: 13.1848\n",
      "Epoch 92/100\n",
      "1506/1506 [==============================] - 3s 2ms/step - loss: 171.4993 - mae: 5.4507 - root_mean_squared_error: 13.0958\n",
      "Epoch 93/100\n",
      "1506/1506 [==============================] - 3s 2ms/step - loss: 170.8954 - mae: 5.4554 - root_mean_squared_error: 13.0727: 1s - loss:\n",
      "Epoch 94/100\n",
      "1506/1506 [==============================] - 3s 2ms/step - loss: 170.5457 - mae: 5.4366 - root_mean_squared_error: 13.0593\n",
      "Epoch 95/100\n",
      "1506/1506 [==============================] - 3s 2ms/step - loss: 171.7145 - mae: 5.4397 - root_mean_squared_error: 13.1040: 1s -\n",
      "Epoch 96/100\n",
      "1506/1506 [==============================] - 3s 2ms/step - loss: 171.1251 - mae: 5.4294 - root_mean_squared_error: 13.0815: 1s - loss: 170.7934 - mae: 5.3 - ETA: 0s - loss: 173.1100 - mae: 5.4494 - root_m\n",
      "Epoch 97/100\n",
      "1506/1506 [==============================] - 3s 2ms/step - loss: 173.2652 - mae: 5.4735 - root_mean_squared_error: 13.1630\n",
      "Epoch 98/100\n",
      "1506/1506 [==============================] - 3s 2ms/step - loss: 168.6124 - mae: 5.3828 - root_mean_squared_error: 12.9851\n",
      "Epoch 99/100\n",
      "1506/1506 [==============================] - 3s 2ms/step - loss: 172.9618 - mae: 5.4700 - root_mean_squared_error: 13.1515: 1s\n",
      "Epoch 100/100\n",
      "1506/1506 [==============================] - 3s 2ms/step - loss: 170.6965 - mae: 5.4439 - root_mean_squared_error: 13.0651\n"
     ]
    }
   ],
   "source": [
    "#Compile and train\n",
    "model_Miami.compile(optimizer=Adam(lr=0.0001), \n",
    "              loss='mse',\n",
    "              metrics=['mae', keras.metrics.RootMeanSquaredError()])\n",
    "\n",
    "history_Miami = model_Miami.fit(input_arry, output_arry, epochs=100, batch_size=64)"
   ]
  },
  {
   "cell_type": "code",
   "execution_count": 125,
   "metadata": {},
   "outputs": [],
   "source": [
    "#Mae down to 5.4439"
   ]
  },
  {
   "cell_type": "code",
   "execution_count": 126,
   "metadata": {},
   "outputs": [
    {
     "data": {
      "image/png": "[encoded data removed]",
      "text/plain": [
       "<Figure size 432x288 with 1 Axes>"
      ]
     },
     "metadata": {},
     "output_type": "display_data"
    }
   ],
   "source": [
    "plt.plot(history_Miami.history['mae'])\n",
    "plt.plot(history_Miami.history['root_mean_squared_error'])\n",
    "plt.title('mae and rmse per epoch')\n",
    "plt.ylabel('Error')\n",
    "plt.xlabel('Epoch')\n",
    "plt.legend(['mae', 'rmse'], loc='upper left')\n",
    "plt.show()"
   ]
  },
  {
   "cell_type": "markdown",
   "metadata": {},
   "source": [
    "Test on Miami 2018 data"
   ]
  },
  {
   "cell_type": "code",
   "execution_count": 127,
   "metadata": {},
   "outputs": [
    {
     "data": {
      "text/html": [
       "<div>\n",
       "<style scoped>\n",
       "    .dataframe tbody tr th:only-of-type {\n",
       "        vertical-align: middle;\n",
       "    }\n",
       "\n",
       "    .dataframe tbody tr th {\n",
       "        vertical-align: top;\n",
       "    }\n",
       "\n",
       "    .dataframe thead th {\n",
       "        text-align: right;\n",
       "    }\n",
       "</style>\n",
       "<table border=\"1\" class=\"dataframe\">\n",
       "  <thead>\n",
       "    <tr style=\"text-align: right;\">\n",
       "      <th></th>\n",
       "      <th>Year</th>\n",
       "      <th>Month</th>\n",
       "      <th>Day</th>\n",
       "      <th>Hour</th>\n",
       "      <th>Minute</th>\n",
       "      <th>Temperature</th>\n",
       "      <th>Clearsky DHI</th>\n",
       "      <th>Clearsky DNI</th>\n",
       "      <th>Clearsky GHI</th>\n",
       "      <th>Cloud Type</th>\n",
       "      <th>...</th>\n",
       "      <th>Solar Zenith Angle</th>\n",
       "      <th>Surface Albedo</th>\n",
       "      <th>Pressure</th>\n",
       "      <th>Precipitable Water</th>\n",
       "      <th>Wind Direction</th>\n",
       "      <th>Wind Speed</th>\n",
       "      <th>Global Horizontal UV Irradiance (280-400nm)</th>\n",
       "      <th>Global Horizontal UV Irradiance (285-385nm)</th>\n",
       "      <th>timestamps</th>\n",
       "      <th>Cloud Cover</th>\n",
       "    </tr>\n",
       "  </thead>\n",
       "  <tbody>\n",
       "    <tr>\n",
       "      <th>0</th>\n",
       "      <td>2018</td>\n",
       "      <td>1</td>\n",
       "      <td>1</td>\n",
       "      <td>0</td>\n",
       "      <td>30</td>\n",
       "      <td>21.1</td>\n",
       "      <td>0</td>\n",
       "      <td>0</td>\n",
       "      <td>0</td>\n",
       "      <td>0</td>\n",
       "      <td>...</td>\n",
       "      <td>113.89</td>\n",
       "      <td>0.08</td>\n",
       "      <td>1019</td>\n",
       "      <td>2.7</td>\n",
       "      <td>58</td>\n",
       "      <td>2.0</td>\n",
       "      <td>NaN</td>\n",
       "      <td>NaN</td>\n",
       "      <td>1514782800</td>\n",
       "      <td>0.30</td>\n",
       "    </tr>\n",
       "    <tr>\n",
       "      <th>1</th>\n",
       "      <td>2018</td>\n",
       "      <td>1</td>\n",
       "      <td>1</td>\n",
       "      <td>1</td>\n",
       "      <td>30</td>\n",
       "      <td>21.2</td>\n",
       "      <td>0</td>\n",
       "      <td>0</td>\n",
       "      <td>0</td>\n",
       "      <td>0</td>\n",
       "      <td>...</td>\n",
       "      <td>127.06</td>\n",
       "      <td>0.08</td>\n",
       "      <td>1019</td>\n",
       "      <td>2.8</td>\n",
       "      <td>63</td>\n",
       "      <td>1.8</td>\n",
       "      <td>NaN</td>\n",
       "      <td>NaN</td>\n",
       "      <td>1514786400</td>\n",
       "      <td>0.32</td>\n",
       "    </tr>\n",
       "    <tr>\n",
       "      <th>2</th>\n",
       "      <td>2018</td>\n",
       "      <td>1</td>\n",
       "      <td>1</td>\n",
       "      <td>2</td>\n",
       "      <td>30</td>\n",
       "      <td>21.2</td>\n",
       "      <td>0</td>\n",
       "      <td>0</td>\n",
       "      <td>0</td>\n",
       "      <td>0</td>\n",
       "      <td>...</td>\n",
       "      <td>140.43</td>\n",
       "      <td>0.08</td>\n",
       "      <td>1019</td>\n",
       "      <td>2.8</td>\n",
       "      <td>65</td>\n",
       "      <td>1.6</td>\n",
       "      <td>NaN</td>\n",
       "      <td>NaN</td>\n",
       "      <td>1514790000</td>\n",
       "      <td>0.23</td>\n",
       "    </tr>\n",
       "    <tr>\n",
       "      <th>3</th>\n",
       "      <td>2018</td>\n",
       "      <td>1</td>\n",
       "      <td>1</td>\n",
       "      <td>3</td>\n",
       "      <td>30</td>\n",
       "      <td>21.2</td>\n",
       "      <td>0</td>\n",
       "      <td>0</td>\n",
       "      <td>0</td>\n",
       "      <td>0</td>\n",
       "      <td>...</td>\n",
       "      <td>153.91</td>\n",
       "      <td>0.08</td>\n",
       "      <td>1018</td>\n",
       "      <td>2.9</td>\n",
       "      <td>57</td>\n",
       "      <td>1.3</td>\n",
       "      <td>NaN</td>\n",
       "      <td>NaN</td>\n",
       "      <td>1514793600</td>\n",
       "      <td>0.14</td>\n",
       "    </tr>\n",
       "    <tr>\n",
       "      <th>4</th>\n",
       "      <td>2018</td>\n",
       "      <td>1</td>\n",
       "      <td>1</td>\n",
       "      <td>4</td>\n",
       "      <td>30</td>\n",
       "      <td>21.1</td>\n",
       "      <td>0</td>\n",
       "      <td>0</td>\n",
       "      <td>0</td>\n",
       "      <td>0</td>\n",
       "      <td>...</td>\n",
       "      <td>167.37</td>\n",
       "      <td>0.08</td>\n",
       "      <td>1018</td>\n",
       "      <td>2.9</td>\n",
       "      <td>41</td>\n",
       "      <td>1.1</td>\n",
       "      <td>NaN</td>\n",
       "      <td>NaN</td>\n",
       "      <td>1514797200</td>\n",
       "      <td>0.14</td>\n",
       "    </tr>\n",
       "  </tbody>\n",
       "</table>\n",
       "<p>5 rows × 26 columns</p>\n",
       "</div>"
      ],
      "text/plain": [
       "   Year  Month  Day  Hour  Minute  Temperature  Clearsky DHI  Clearsky DNI  \\\n",
       "0  2018      1    1     0      30         21.1             0             0   \n",
       "1  2018      1    1     1      30         21.2             0             0   \n",
       "2  2018      1    1     2      30         21.2             0             0   \n",
       "3  2018      1    1     3      30         21.2             0             0   \n",
       "4  2018      1    1     4      30         21.1             0             0   \n",
       "\n",
       "   Clearsky GHI  Cloud Type  ...  Solar Zenith Angle  Surface Albedo  \\\n",
       "0             0           0  ...              113.89            0.08   \n",
       "1             0           0  ...              127.06            0.08   \n",
       "2             0           0  ...              140.43            0.08   \n",
       "3             0           0  ...              153.91            0.08   \n",
       "4             0           0  ...              167.37            0.08   \n",
       "\n",
       "   Pressure  Precipitable Water  Wind Direction  Wind Speed  \\\n",
       "0      1019                 2.7              58         2.0   \n",
       "1      1019                 2.8              63         1.8   \n",
       "2      1019                 2.8              65         1.6   \n",
       "3      1018                 2.9              57         1.3   \n",
       "4      1018                 2.9              41         1.1   \n",
       "\n",
       "   Global Horizontal UV Irradiance (280-400nm)  \\\n",
       "0                                          NaN   \n",
       "1                                          NaN   \n",
       "2                                          NaN   \n",
       "3                                          NaN   \n",
       "4                                          NaN   \n",
       "\n",
       "   Global Horizontal UV Irradiance (285-385nm)  timestamps  Cloud Cover  \n",
       "0                                          NaN  1514782800         0.30  \n",
       "1                                          NaN  1514786400         0.32  \n",
       "2                                          NaN  1514790000         0.23  \n",
       "3                                          NaN  1514793600         0.14  \n",
       "4                                          NaN  1514797200         0.14  \n",
       "\n",
       "[5 rows x 26 columns]"
      ]
     },
     "execution_count": 127,
     "metadata": {},
     "output_type": "execute_result"
    }
   ],
   "source": [
    "test_df = pd.read_csv(os.path.join(_Testing_Data_Dir, 'Miami_FL', 'psm_FL_Miami2018.csv'))\n",
    "test_df.head()"
   ]
  },
  {
   "cell_type": "code",
   "execution_count": 128,
   "metadata": {},
   "outputs": [],
   "source": [
    "input_size = 6\n",
    "test_input_arry = np.array([], dtype=np.float64).reshape(0,input_size)\n",
    "test_output_arry = np.array([], dtype=np.float64)\n",
    "test_input_arry, test_output_arry = combine_training_arrays(test_df, test_input_arry, test_output_arry)"
   ]
  },
  {
   "cell_type": "code",
   "execution_count": 129,
   "metadata": {},
   "outputs": [
    {
     "name": "stdout",
     "output_type": "stream",
     "text": [
      "274/274 [==============================] - 0s 957us/step - loss: 639.4745 - mae: 10.1002 - root_mean_squared_error: 25.2878\n"
     ]
    }
   ],
   "source": [
    "score = model_Miami.evaluate(test_input_arry, test_output_arry, verbose=1)"
   ]
  },
  {
   "cell_type": "code",
   "execution_count": 21,
   "metadata": {},
   "outputs": [],
   "source": [
    "#Mae of 10.1002....not bad!~"
   ]
  },
  {
   "cell_type": "code",
   "execution_count": 130,
   "metadata": {},
   "outputs": [],
   "source": [
    "#Save models"
   ]
  },
  {
   "cell_type": "code",
   "execution_count": 132,
   "metadata": {},
   "outputs": [
    {
     "name": "stdout",
     "output_type": "stream",
     "text": [
      "INFO:tensorflow:Assets written to: Neural_Nets/Neural_Net_Boulder_CO/assets\n"
     ]
    }
   ],
   "source": [
    "model_Boulder.save('Neural_Nets/Neural_Net_Boulder_CO')"
   ]
  },
  {
   "cell_type": "code",
   "execution_count": 133,
   "metadata": {},
   "outputs": [
    {
     "name": "stdout",
     "output_type": "stream",
     "text": [
      "INFO:tensorflow:Assets written to: Neural_Nets/Neural_Net_Miami_FL/assets\n"
     ]
    }
   ],
   "source": [
    "model_Miami.save('Neural_Nets/Neural_Net_Miami_FL')"
   ]
  },
  {
   "cell_type": "code",
   "execution_count": null,
   "metadata": {},
   "outputs": [],
   "source": []
  }
 ],
 "metadata": {
  "kernelspec": {
   "display_name": "Python 3",
   "language": "python",
   "name": "python3"
  },
  "language_info": {
   "codemirror_mode": {
    "name": "ipython",
    "version": 3
   },
   "file_extension": ".py",
   "mimetype": "text/x-python",
   "name": "python",
   "nbconvert_exporter": "python",
   "pygments_lexer": "ipython3",
   "version": "3.7.6"
  }
 },
 "nbformat": 4,
 "nbformat_minor": 4
}
